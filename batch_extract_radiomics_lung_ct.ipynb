{
 "cells": [
  {
   "cell_type": "markdown",
   "metadata": {
    "id": "VWyuLDqzReAX"
   },
   "source": [
    "<a target=\"_blank\" href=\"https://colab.research.google.com/github/cerr/pyCERR-Notebooks/blob/main/batch_extract_radiomics_lung_ct.ipynb\">\n",
    "  <img src=\"https://colab.research.google.com/assets/colab-badge.svg\" alt=\"Open In Colab\"/>\n",
    "</a>"
   ]
  },
  {
   "cell_type": "markdown",
   "metadata": {
    "id": "6WiUG9DgPhrm"
   },
   "source": [
    "# Extract radiomics features from a batch of dicom datasets"
   ]
  },
  {
   "cell_type": "markdown",
   "metadata": {
    "id": "1ENjTdh_PyPu"
   },
   "source": [
    "The example below demonstrates extraction of radiomics features from CT scan and tumor segmentation for a batch of DICOM datasets."
   ]
  },
  {
   "cell_type": "markdown",
   "metadata": {},
   "source": [
    "#### Dataset description"
   ]
  },
  {
   "cell_type": "markdown",
   "metadata": {},
   "source": [
    "**Citation:**  Bakr, S., Gevaert, O., Echegaray, S., Ayers, K., Zhou, M., Shafiq, M., Zheng, H., Zhang, W., Leung, A., Kadoch, M., Shrager, J., Quon, A., Rubin, D., Plevritis, S., & Napel, S. (2017). Data for NSCLC Radiogenomics (Version 4) [Data set]. The Cancer Imaging Archive. https://doi.org/10.7937/K9/TCIA.2017.7hs46erv <br>\n",
    "https://www.cancerimagingarchive.net/collection/nsclc-radiogenomics/ "
   ]
  },
  {
   "cell_type": "markdown",
   "metadata": {},
   "source": [
    "#### Dataset download"
   ]
  },
  {
   "cell_type": "code",
   "execution_count": null,
   "metadata": {},
   "outputs": [],
   "source": [
    "lungDcmPath = '/content/lung_dicom_5pts'\n",
    "dataTarPath = '/content/lung_data_5pt.gz'\n",
    "settingsTarPath = '/content/settings.gz'"
   ]
  },
  {
   "cell_type": "code",
   "execution_count": null,
   "metadata": {},
   "outputs": [],
   "source": [
    "! wget -O {dataTarPath} https://mskcc.box.com/shared/static/cpngvd2kn6ff97laz5amkax7e60iz05z.gz\n",
    "! tar xf {dataTarPath}\n",
    "! rm {dataTarPath}\n",
    "! wget -O {settingsTarPath} https://mskcc.box.com/shared/static/dg53m58l3o8txu71a7ycd25qd9sa0ild.gz\n",
    "! tar xf {settingsTarPath}\n",
    "! rm {settingsTarPath}"
   ]
  },
  {
   "cell_type": "markdown",
   "metadata": {
    "id": "_ftJtFB9O-IH"
   },
   "source": [
    "### Install pyCERR"
   ]
  },
  {
   "cell_type": "code",
   "execution_count": null,
   "metadata": {
    "id": "AiwvHy_3716I"
   },
   "outputs": [],
   "source": [
    "%%capture\n",
    "!pip install -U git+https://github.com/cerr/pyCERR/"
   ]
  },
  {
   "cell_type": "markdown",
   "metadata": {},
   "source": [
    "#### Get a list of patient directories"
   ]
  },
  {
   "cell_type": "code",
   "execution_count": null,
   "metadata": {},
   "outputs": [],
   "source": [
    "from cerr import datasets\n",
    "import os\n",
    "\n",
    "all_pat_dirs = []\n",
    "for d in os.scandir(lungDcmPath):\n",
    "    all_pat_dirs.append(d.path)\n"
   ]
  },
  {
   "cell_type": "markdown",
   "metadata": {},
   "source": [
    "#### Define location of settings file"
   ]
  },
  {
   "cell_type": "code",
   "execution_count": null,
   "metadata": {},
   "outputs": [],
   "source": [
    "settingsFile = '/content/settings/original_settings.json'"
   ]
  },
  {
   "cell_type": "markdown",
   "metadata": {},
   "source": [
    "#### Define location of output csv file"
   ]
  },
  {
   "cell_type": "code",
   "execution_count": null,
   "metadata": {},
   "outputs": [],
   "source": [
    "csvFileName = r\"/content/feats_from_CT.csv\""
   ]
  },
  {
   "cell_type": "markdown",
   "metadata": {
    "id": "YyKVcPp1PBiC"
   },
   "source": [
    "### Loop over dicom directories and extract features"
   ]
  },
  {
   "cell_type": "markdown",
   "metadata": {},
   "source": [
    "The example datasets contain only one scan and one segmentation. Hence, `scanNum = 0` and `structNum = 0` is used in this example. In case of multiple scans and segmentations, users should find their appropriate indices as an input to `ibsi1.computeScalarFeatures`"
   ]
  },
  {
   "cell_type": "code",
   "execution_count": null,
   "metadata": {
    "colab": {
     "base_uri": "https://localhost:8080/"
    },
    "id": "-2-ccC7ABLq-",
    "outputId": "78d91af0-3f1d-4461-b693-a7ae55a63067"
   },
   "outputs": [],
   "source": [
    "import os\n",
    "from cerr import plan_container as pc\n",
    "from cerr.radiomics import ibsi1\n",
    "\n",
    "featList = []\n",
    "idDict = {}\n",
    "writeHeader = True\n",
    "for pt_dir in all_pat_dirs[:5]:\n",
    "    _, id = os.path.split(pt_dir)\n",
    "    print(\"Data dir :\" + id)\n",
    "    planC = pc.load_dcm_dir(pt_dir)\n",
    "    scanNum = 0\n",
    "    structNum = 0\n",
    "    featDict = ibsi1.computeScalarFeatures(scanNum, structNum, settingsFile, planC)\n",
    "    idDict['id'] = id\n",
    "    featDict = {**idDict, **featDict}\n",
    "    featList.append(featDict)\n",
    "    ibsi1.writeFeaturesToFile(featDict, csvFileName, writeHeader)\n",
    "    writeHeader = False\n"
   ]
  },
  {
   "cell_type": "markdown",
   "metadata": {},
   "source": [
    "#### Explore features"
   ]
  },
  {
   "cell_type": "code",
   "execution_count": null,
   "metadata": {},
   "outputs": [],
   "source": [
    "import pandas as pd\n",
    "df = pd.read_csv(csvFileName)  \n",
    "featNames = [col for col in df.columns]\n",
    "df.head()\n"
   ]
  },
  {
   "cell_type": "code",
   "execution_count": null,
   "metadata": {},
   "outputs": [],
   "source": [
    "!pip install seaborn"
   ]
  },
  {
   "cell_type": "code",
   "execution_count": null,
   "metadata": {},
   "outputs": [],
   "source": [
    "from matplotlib import pyplot as plt\n",
    "import seaborn as sns\n",
    "import pandas as pd\n",
    "plt.subplots(figsize=(8, 8))\n",
    "meanVals = df.pivot(index=\"Original_shape_filledVolume\", columns=\"id\", values=\"Original_firstOrder_mean\")\n",
    "sns.heatmap(meanVals, cmap='viridis')"
   ]
  }
 ],
 "metadata": {
  "accelerator": "GPU",
  "colab": {
   "gpuType": "T4",
   "provenance": []
  },
  "kernelspec": {
   "display_name": "Python 3 (ipykernel)",
   "language": "python",
   "name": "python3"
  },
  "language_info": {
   "codemirror_mode": {
    "name": "ipython",
    "version": 3
   },
   "file_extension": ".py",
   "mimetype": "text/x-python",
   "name": "python",
   "nbconvert_exporter": "python",
   "pygments_lexer": "ipython3",
   "version": "3.8.18"
  }
 },
 "nbformat": 4,
 "nbformat_minor": 4
}
