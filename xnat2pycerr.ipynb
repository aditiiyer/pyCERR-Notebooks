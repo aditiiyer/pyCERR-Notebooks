{
  "nbformat": 4,
  "nbformat_minor": 0,
  "metadata": {
    "colab": {
      "provenance": []
    },
    "kernelspec": {
      "name": "python3",
      "display_name": "Python 3"
    },
    "language_info": {
      "name": "python"
    }
  },
  "cells": [
    {
      "cell_type": "code",
      "source": [
        "%%capture\n",
        "!pip install pyxnat\n",
        "!pip install \"pyCERR[napari] @ git+https://github.com/cerr/pyCERR.git\"\n",
        "!pip install sevenbridges-python"
      ],
      "metadata": {
        "id": "y7joLIEvm3Hb"
      },
      "execution_count": null,
      "outputs": []
    },
    {
      "cell_type": "code",
      "source": [
        "import os"
      ],
      "metadata": {
        "id": "29vOeO9km-uB"
      },
      "execution_count": null,
      "outputs": []
    },
    {
      "cell_type": "code",
      "execution_count": null,
      "metadata": {
        "id": "IoZPoDmPmX-E"
      },
      "outputs": [],
      "source": [
        "from pyxnat import Interface\n",
        "from glob import glob\n",
        "import shutil\n",
        "\n",
        "\n",
        "def getXNATData(xhost,user,scandict,downloadDir):\n",
        "  xnat = Interface(xhost, user)\n",
        "  os.makedirs(downloadDir, exist_ok=True)\n",
        "  expdirlist = []\n",
        "  for scan_entry in scandict:\n",
        "    proj = scan_entry['exam']['proj']\n",
        "    subj = scan_entry['exam']['subj']\n",
        "    exp = scan_entry['exam']['exp']\n",
        "    scan_list = scan_entry['exam']['scan_list']\n",
        "    expdir = os.path.join(downloadDir,exp)\n",
        "    expdirlist.append(expdir)\n",
        "    os.makedirs(expdir, exist_ok = True)\n",
        "    xexp = xnat.select.project(proj).subject(subj).experiment(exp)\n",
        "    for scan in scan_list:\n",
        "      xres = xnat.select.project(proj).subject(subj).experiment(exp).scan(scan).resource('DICOM')\n",
        "      if not xres.exists():\n",
        "        xres = xnat.select.project(proj).subject(subj).experiment(exp).scan(scan).resource('secondary')\n",
        "      xres.get(downloadDir,extract=True)\n",
        "    for dcmfolder in ['DICOM','secondary']:\n",
        "      dcmlist = glob(os.path.join(downloadDir,dcmfolder,'*.dcm'))\n",
        "      print(dcmlist)\n",
        "      for dcm in dcmlist:\n",
        "        shutil.move(dcm, expdir)\n",
        "  for dcmfolder in ['DICOM','secondary']:\n",
        "    if os.path.exists(os.path.join(downloadDir,dcmfolder)):\n",
        "      os.rmdir(os.path.join(downloadDir,dcmfolder))\n",
        "    if os.path.exists(os.path.join(downloadDir,dcmfolder + '.zip')):\n",
        "      os.remove(os.path.join(downloadDir,dcmfolder + '.zip'))\n",
        "  xnat.disconnect()\n",
        "  return expdirlist\n"
      ]
    },
    {
      "cell_type": "code",
      "source": [
        "xhost = 'https://xnat.yoursite.org'\n",
        "user = 'xusr'\n",
        "\n",
        "#example of dictionary to describe the data you want to pull locally from XNAT,\n",
        "# one entry per experiment, iterate over scans\n",
        "scandict = [{'exam':\n",
        "              {'proj':'project_id',\n",
        "                'subj':'subj_id',\n",
        "                'exp':'experiment_id',\n",
        "                'scan_list':['1','2']\n",
        "                }\n",
        "            }]\n",
        "\n",
        "dataPath = '/content/images'\n",
        "os.makedirs(dataPath,exist_ok=True)"
      ],
      "metadata": {
        "id": "6BHjee-7m1su"
      },
      "execution_count": null,
      "outputs": []
    },
    {
      "cell_type": "code",
      "source": [
        "folderList = getXNATData(xhost,user,scandict,dataPath)"
      ],
      "metadata": {
        "id": "jLjfvS4VprTr"
      },
      "execution_count": null,
      "outputs": []
    },
    {
      "cell_type": "code",
      "source": [
        "from cerr import plan_container as pc"
      ],
      "metadata": {
        "id": "KxKyDWTqoUQo"
      },
      "execution_count": null,
      "outputs": []
    },
    {
      "cell_type": "code",
      "source": [
        "# Import DICOM to planC\n",
        "planC = pc.loadDcmDir(folderList[0])"
      ],
      "metadata": {
        "id": "mK3nJMXEo-gN"
      },
      "execution_count": null,
      "outputs": []
    },
    {
      "cell_type": "code",
      "source": [
        "from cerr.viewer import showMplNb\n",
        "showMplNb(planC=planC, scan_nums=0, struct_nums = [0,1,2,3,4,5], windowCenter=-400, windowWidth=2000)"
      ],
      "metadata": {
        "id": "p55rOGMBq6G9"
      },
      "execution_count": null,
      "outputs": []
    }
  ]
}