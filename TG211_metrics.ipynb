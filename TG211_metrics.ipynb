{
  "cells": [
    {
      "cell_type": "markdown",
      "metadata": {
        "id": "view-in-github",
        "colab_type": "text"
      },
      "source": [
        "<a href=\"https://colab.research.google.com/github/cerr/pyCERR-Notebooks/blob/main/TG211_metrics.ipynb\" target=\"_parent\"><img src=\"https://colab.research.google.com/assets/colab-badge.svg\" alt=\"Open In Colab\"/></a>"
      ]
    },
    {
      "cell_type": "markdown",
      "source": [
        "### Install pyCERR"
      ],
      "metadata": {
        "id": "q2Og0c2OVtBd"
      },
      "id": "q2Og0c2OVtBd"
    },
    {
      "cell_type": "code",
      "source": [
        "! pip install \"pyCERR[napari] @ git+https://github.com/cerr/pyCERR\""
      ],
      "metadata": {
        "id": "EDrq_RQ_VflX"
      },
      "id": "EDrq_RQ_VflX",
      "execution_count": null,
      "outputs": []
    },
    {
      "cell_type": "markdown",
      "id": "b2036a11-c49b-4b80-a7b6-da4329e3d055",
      "metadata": {
        "id": "b2036a11-c49b-4b80-a7b6-da4329e3d055"
      },
      "source": [
        "### Define data paths"
      ]
    },
    {
      "cell_type": "code",
      "execution_count": null,
      "id": "1c6d1a84-4385-41e0-b6f9-9dcdd5ca4c9f",
      "metadata": {
        "id": "1c6d1a84-4385-41e0-b6f9-9dcdd5ca4c9f"
      },
      "outputs": [],
      "source": [
        "import os\n",
        "\n",
        "dataDir = r'path/to/data/dir'\n",
        "scan1File = os.path.join(dataDir,'PT_1','scan_2_CT.2962012.173334.2795389.7388301.nii')\n",
        "mask1File = os.path.join(dataDir,'PT_1','mask_GTV_CT.2962012.173334.2795389.7388701.nii')\n",
        "scan2File = os.path.join(dataDir,'PT_2','scan_3_CT.2962012.173433.677915.4034666.nii')\n",
        "mask2File = os.path.join(dataDir,'PT_2','mask_GTV_CT.2962012.173433.677915.4034539.nii')\n"
      ]
    },
    {
      "cell_type": "markdown",
      "id": "2c36d66f-29a7-482c-b8a5-3c77eae20b66",
      "metadata": {
        "id": "2c36d66f-29a7-482c-b8a5-3c77eae20b66"
      },
      "source": [
        "### Access imaging metadata"
      ]
    },
    {
      "cell_type": "code",
      "execution_count": null,
      "id": "1ce98874-842e-4049-9639-7da382467e29",
      "metadata": {
        "id": "1ce98874-842e-4049-9639-7da382467e29"
      },
      "outputs": [],
      "source": [
        "from cerr import plan_container as pc\n",
        "\n",
        "planC = pc.loadNiiScan(scan1File,\n",
        "                       imageType='PT SCAN',\n",
        "                       direction='',\n",
        "                       initplanC='')\n",
        "planC = pc.loadNiiScan(scan2File,\n",
        "                       imageType='PT SCAN',\n",
        "                       direction='',\n",
        "                       initplanC=planC)\n",
        "planC = pc.loadNiiStructure(mask1File, 0, planC)\n",
        "planC = pc.loadNiiStructure(mask2File, 1, planC)"
      ]
    },
    {
      "cell_type": "markdown",
      "id": "fd9183d3-cda0-4c24-be8e-3e48acdfb77b",
      "metadata": {
        "id": "fd9183d3-cda0-4c24-be8e-3e48acdfb77b"
      },
      "source": [
        "### Visualization"
      ]
    },
    {
      "cell_type": "code",
      "execution_count": null,
      "id": "c69c1d4d-cf8d-4bd4-930d-ddc500d6aef8",
      "metadata": {
        "id": "c69c1d4d-cf8d-4bd4-930d-ddc500d6aef8"
      },
      "outputs": [],
      "source": [
        "from cerr import viewer as vwr\n",
        "\n",
        "viewer, scan_layer, struct_layer, dose_layer, dvf_layer = \\\n",
        "            vwr.showNapari(planC, [0], [0,2], [], {}, '2d')\n"
      ]
    },
    {
      "cell_type": "code",
      "execution_count": null,
      "id": "74087f78-14a0-404c-ae8f-0593edb28f46",
      "metadata": {
        "id": "74087f78-14a0-404c-ae8f-0593edb28f46"
      },
      "outputs": [],
      "source": [
        "from cerr.contour import rasterseg as rs\n",
        "\n",
        "mask1 = rs.getStrMask(0, planC)\n",
        "mask2 = rs.getStrMask(1, planC)"
      ]
    },
    {
      "cell_type": "code",
      "execution_count": null,
      "id": "a18d99dd-c322-4a33-a60e-b2f01b3c6ad4",
      "metadata": {
        "id": "a18d99dd-c322-4a33-a60e-b2f01b3c6ad4"
      },
      "outputs": [],
      "source": [
        "from cerr.dataclasses import structure as cerrStr\n",
        "\n",
        "planC = cerrStr.copyToScan(1, 0, planC)\n"
      ]
    },
    {
      "cell_type": "code",
      "execution_count": null,
      "id": "332a20cf-5b2d-45a0-ae64-43f6da17a505",
      "metadata": {
        "id": "332a20cf-5b2d-45a0-ae64-43f6da17a505"
      },
      "outputs": [],
      "source": [
        "mask3 = rs.getStrMask(2, planC)\n",
        "print(mask1.shape)\n",
        "print(mask2.shape)\n",
        "print(mask3.shape)"
      ]
    },
    {
      "cell_type": "markdown",
      "id": "b12d78b4-aee8-4bed-9528-596c694ad092",
      "metadata": {
        "id": "b12d78b4-aee8-4bed-9528-596c694ad092"
      },
      "source": [
        "### Level 1 metrics"
      ]
    },
    {
      "cell_type": "code",
      "execution_count": null,
      "id": "68791373-b903-41ee-be47-093d6bbc24da",
      "metadata": {
        "id": "68791373-b903-41ee-be47-093d6bbc24da"
      },
      "outputs": [],
      "source": [
        "from cerr.radiomics import shape as cerrShp\n",
        "from cerr.radiomics import first_order as cerrFirstOrd\n",
        "\n",
        "x1,y1,z1 = planC.scan[0].getScanXYZVals()\n",
        "x2,y2,z2 = planC.scan[0].getScanXYZVals()\n",
        "\n",
        "#Volume\n",
        "rowColSlcOri1 = planC.scan[0].getScanOrientation()\n",
        "shpFeats1 = cerrShp.calcShapeFeatures(mask1, x1, y1, z1, rowColSlcOri1)\n",
        "shpFeats2 = cerrShp.calcShapeFeatures(mask3, x2, y2, z2, rowColSlcOri1)\n",
        "\n",
        "#Mean uptake value, #Maximum uptake value\n",
        "firstOrdFeats1 = cerrFirstOrd.stats(planC, 0)\n",
        "firstOrdFeats2 = cerrFirstOrd.stats(planC, 2)\n",
        "\n",
        "#Centre of mass\n",
        "xCenter1, yCenter1, zCenter1 = cerrStr.calcIsocenter(0, planC)\n",
        "xCenter2, yCenter2, zCenter2 = cerrStr.calcIsocenter(2, planC)\n"
      ]
    },
    {
      "cell_type": "code",
      "execution_count": null,
      "id": "27d6e67e-fc1d-438c-bb72-2be6dae894cf",
      "metadata": {
        "id": "27d6e67e-fc1d-438c-bb72-2be6dae894cf"
      },
      "outputs": [],
      "source": [
        "# Volume\n",
        "print('Volume =', shpFeats1['volume'], shpFeats2['volume'])\n",
        "\n",
        "# Mean uptake value\n",
        "print('Mean =', firstOrdFeats1['mean'], firstOrdFeats2['mean'])\n",
        "\n",
        "# Max uptake value\n",
        "print('Max =', firstOrdFeats1['max'], firstOrdFeats2['max'])\n",
        "\n",
        "# Centre of mass\n",
        "print('Center of mass =', xCenter1, yCenter1, zCenter1)\n",
        "print('Center of mass =', xCenter2, yCenter2, zCenter2)\n"
      ]
    },
    {
      "cell_type": "markdown",
      "id": "6c0d14ea-75d0-4e7f-ae9c-d69d9cced971",
      "metadata": {
        "id": "6c0d14ea-75d0-4e7f-ae9c-d69d9cced971"
      },
      "source": [
        "### Level 2 metrics"
      ]
    },
    {
      "cell_type": "code",
      "execution_count": null,
      "id": "1b7fd3e8-0d4d-48d5-934b-b3771163fd5e",
      "metadata": {
        "id": "1b7fd3e8-0d4d-48d5-934b-b3771163fd5e"
      },
      "outputs": [],
      "source": [
        "from surface_distance import compute_surface_distances, compute_dice_coefficient, compute_robust_hausdorff\n",
        "import numpy as np\n",
        "\n",
        "scanNum = 0\n",
        "spacing_mm = planC.scan[scanNum].getScanSpacing() * 10\n",
        "surf_dists = compute_surface_distances(mask1, mask3, spacing_mm)\n",
        "\n",
        "# DICE similarity\n",
        "dsc = compute_dice_coefficient(mask1, mask3)\n",
        "print(dsc)\n",
        "\n",
        "# Hausdorff distance\n",
        "hd95 = compute_robust_hausdorff(surf_dists, 95)\n",
        "print('HD95 =', hd95)\n",
        "\n",
        "# Sensitivity (S)\n",
        "S = np.sum(mask1 & mask3) / np.sum(mask1)\n",
        "print('S =', S)\n",
        "\n",
        "# Positive Prediction Value (PPV)\n",
        "PPV = np.sum(mask1 & mask3) / np.sum(mask3)\n",
        "print('PPV =', PPV)\n",
        "\n",
        "# Delineation Uncertainty Volume (DUV)\n",
        "DUV = np.sum(mask1 | mask3) - np.sum(mask1 & mask3)\n",
        "print('DUV =', DUV)"
      ]
    },
    {
      "cell_type": "code",
      "execution_count": null,
      "id": "02421d7c-192b-49ba-a320-02abe4be9bb9",
      "metadata": {
        "id": "02421d7c-192b-49ba-a320-02abe4be9bb9"
      },
      "outputs": [],
      "source": [
        "print(np.sum(mask1))\n",
        "print(np.sum(mask3))"
      ]
    }
  ],
  "metadata": {
    "kernelspec": {
      "display_name": "Python 3 (ipykernel)",
      "language": "python",
      "name": "python3"
    },
    "language_info": {
      "codemirror_mode": {
        "name": "ipython",
        "version": 3
      },
      "file_extension": ".py",
      "mimetype": "text/x-python",
      "name": "python",
      "nbconvert_exporter": "python",
      "pygments_lexer": "ipython3",
      "version": "3.11.9"
    },
    "colab": {
      "provenance": [],
      "include_colab_link": true
    }
  },
  "nbformat": 4,
  "nbformat_minor": 5
}