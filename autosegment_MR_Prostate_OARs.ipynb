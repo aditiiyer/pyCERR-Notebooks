{
 "cells": [
  {
   "cell_type": "markdown",
   "metadata": {
    "id": "view-in-github"
   },
   "source": [
    "<a href=\"https://colab.research.google.com/github/cerr/pycerr-notebooks/blob/main/autosegment_MR_Prostate_OARs.ipynb\" target=\"_parent\"><img src=\"https://colab.research.google.com/assets/colab-badge.svg\" alt=\"Open In Colab\"/></a>"
   ]
  },
  {
   "cell_type": "markdown",
   "metadata": {
    "id": "kNoydh-RsgcD"
   },
   "source": [
    "# Introduction\n",
    "\n",
    "In this tutorial, we will demonstrate how to apply a pre-trained AI model to segment the CTV and OARs on T2w-MRI prostate scans.\n",
    "\n",
    "## Requirements\n",
    "* Python>=3.8\n",
    "* Applying this model requires access to a GPU.  \n",
    "  *On Colab* :  `Runtime > Change runtime type > Select GPU `\n",
    "\n",
    "## AI model\n",
    "* The segmentation model used here was trained and validated on T2w-MR scans used for RT planning. Its performance on diagnostic scans is expected to be sub-optimal.\n",
    "* The trained model is packaged as a Conda environment archive containing  python libraries and other dependencies.\n",
    "\n",
    "## I/O\n",
    "* **Input**: DICOM-format T2w-MR scan(s) of the prostate.  \n",
    "  \n",
    "Input data should be organized as: one directory of DICOM images per patient.    \n",
    "  \n",
    "    \n",
    "    Input dir\n",
    "            |------Pat1  \n",
    "                      |------img1.dcm  \n",
    "                             img2.dcm  \n",
    "                             ....  \n",
    "                             ....  \n",
    "            |-----Pat2  \n",
    "                     |------img1.dcm  \n",
    "                            img2.dcm  \n",
    "                            ....  \n",
    "                            ....  \n",
    "\n",
    "\n",
    "* **Output**: DICOM RTStruct-format segmentations.\n",
    "\n",
    "\n",
    "## Running the model\n",
    "\n",
    "* The Conda archive is downloaded to a configurable `condaEnvPath`. By default `condaEnvPath = '/content/pretrainedModel/'`\n",
    "* The inference script is located at   \n",
    "`wrapperPath = os.path.join(condaEnvPath,'MR_Prostate_Deeplab/model_wrapper/run_inference_nii.py')`\n",
    "\n",
    "* Command to execute the model\n",
    "```python\n",
    "!python {wrapperPath} {input_nii_directory} {output_nii_directory}\n",
    "```\n",
    "* [***pyCERR***](https://github.com/cerr/pyCERR) is used for data pre- and post-processing, including converting DICOM to NIfTI format, required to run the model."
   ]
  },
  {
   "cell_type": "markdown",
   "metadata": {
    "id": "6GVYj7k5e97G"
   },
   "source": [
    "## License\n",
    "\n",
    "By downloading the software you are agreeing to the following terms and conditions as well as to the Terms of Use of CERR software.\n",
    "\n",
    "**`THE SOFTWARE IS PROVIDED \"AS IS\" AND CERR DEVELOPMENT TEAM AND ITS COLLABORATORS DO NOT MAKE ANY WARRANTY, EXPRESS OR IMPLIED, INCLUDING BUT NOT LIMITED TO WARRANTIES OF MERCHANTABILITY AND FITNESS FOR A PARTICULAR PURPOSE, NOR DO THEY ASSUME ANY LIABILITY OR RESPONSIBILITY FOR THE USE OF THIS SOFTWARE.`**\n",
    "\n",
    "`This software is for research purposes only and has not been approved for clinical use.`\n",
    "\n",
    "`Software has not been reviewed or approved by the Food and Drug Administration, and is for non-clinical, IRB-approved Research Use Only. In no event shall data or images generated through the use of the Software be used in the provision of patient care.`\n",
    "  \n",
    "`YOU MAY NOT DISTRIBUTE COPIES of this software, or copies of software derived from this software, to others outside your organization without specific prior written permission from the CERR development team except where noted for specific software products.`\n",
    "\n",
    "`All Technology and technical data delivered under this Agreement are subject to US export control laws and may be subject to export or import regulations in other countries. You agree to comply strictly with all such laws and regulations and acknowledge that you have the responsibility to obtain\n",
    "such licenses to export, re-export, or import as may be required after delivery to you.`\n",
    "\n",
    "**`You may publish papers and books using results produced using software provided that you reference the appropriate citations`**:\n",
    "  \n",
    "  * ***AI model***: https://doi.org/10.1016/j.phro.2019.11.006\n",
    "  * ***CERR model library***: https://doi.org/10.1016/j.ejmp.2020.04.011\n",
    "\n"
   ]
  },
  {
   "cell_type": "markdown",
   "metadata": {
    "id": "35nEDWKTg5c1"
   },
   "source": [
    "# Downloads"
   ]
  },
  {
   "cell_type": "markdown",
   "metadata": {
    "id": "mP6FHznIg7Yd"
   },
   "source": [
    "\n",
    "## Download MR images (DICOM) from ***dataUrl*** to ***dataDownloadDir***\n"
   ]
  },
  {
   "cell_type": "code",
   "execution_count": null,
   "metadata": {
    "id": "l2cIR2Swg_84"
   },
   "outputs": [],
   "source": [
    "import os\n",
    "workDir = r'/home/jupyter' # r'/content' for Colab\n",
    "dataUrl = 'http://path.to/data'\n",
    "dataDownloadDir = os.path.join(workDir,'sampleData','testMRdicom')\n",
    "os.makedirs(dataDownloadDir,exist_ok=True)"
   ]
  },
  {
   "cell_type": "code",
   "execution_count": null,
   "metadata": {
    "id": "CWaGs8LqhZTD"
   },
   "outputs": [],
   "source": [
    "! wget -O sampleData.gz -L {dataUrl}\n",
    "! tar xf sampleData.gz -C {dataDownloadDir}\n",
    "! rm sampleData.gz"
   ]
  },
  {
   "cell_type": "markdown",
   "metadata": {
    "id": "VSvE1KsTj9do"
   },
   "source": [
    "Define paths to input DICOM directory, desired output directory, and a session directory to store temporary files during model execution"
   ]
  },
  {
   "cell_type": "code",
   "execution_count": null,
   "metadata": {
    "id": "iHbUWoUEj1A2"
   },
   "outputs": [],
   "source": [
    "#Paths to input data and conda env with pre-trained models\n",
    "inputDicomPath = os.path.join(dataDownloadDir,'your_dir_name_here')  # Replace with apropriate path to your dataset\n",
    "outputDicomPath = os.path.join(workDir, 'AIoutput')\n",
    "sessionPath = os.path.join(workDir, 'temp')\n",
    "\n",
    "if not os.path.exists(outputDicomPath):\n",
    "  os.mkdir(outputDicomPath)\n",
    "\n",
    "if not os.path.exists(sessionPath):\n",
    "  os.mkdir(sessionPath)"
   ]
  },
  {
   "cell_type": "markdown",
   "metadata": {
    "id": "pnoZxbKnsgcG"
   },
   "source": [
    "## Download pre-packaged Conda archive to ***condaArchiveDir***\n",
    "\n"
   ]
  },
  {
   "cell_type": "code",
   "execution_count": null,
   "metadata": {
    "id": "pUc1tZzbsgcK"
   },
   "outputs": [],
   "source": [
    "%%capture\n",
    "# Location of LungOAR archive\n",
    "condaArchiveDir = os.path.join(workDir, 'pretrainedMRProstateModel')\n",
    "\n",
    "# Download packaged environment for the AI model\n",
    "boxHash = r'H4sIAPu6TGYAAwXBSQ6AIAwAwLuPofEgMf6mrSxGEaRVkdc7E1WLLABJdmZDuRnOCSRidSuIom4MbG+H5dA40smPTV+gNtWL3OxfXwhN6MMPPP87xkgAAAA='\n",
    "saveFileName = 'mr_prostate_seg.tar.gz'\n",
    "\n",
    "!mkdir -p {condaArchiveDir}\n",
    "!wget `base64 -d <<<{boxHash} | gunzip` -O {saveFileName}\n",
    "!tar xf {saveFileName} -C {condaArchiveDir}\n",
    "!rm {saveFileName}"
   ]
  },
  {
   "cell_type": "code",
   "execution_count": null,
   "metadata": {
    "id": "WQtf2SS1jXbV"
   },
   "outputs": [],
   "source": [
    "%%capture\n",
    "# Path to activation script for Conda environment\n",
    "activateScript = condaArchiveDir +'/bin/activate'\n",
    "\n",
    "# Path to AI model inference script\n",
    "wrapperPath = os.path.join(condaArchiveDir,'MR_Prostate_Deeplab', \\\n",
    "                          'model_wrapper','run_inference_nii.py')"
   ]
  },
  {
   "cell_type": "markdown",
   "metadata": {
    "id": "DsKXYI-dsgcK"
   },
   "source": [
    "## Install ***pyCERR***\n",
    "\n",
    "pyCERR is used for data import/export and pre- and post-processing transformations needed for this model."
   ]
  },
  {
   "cell_type": "code",
   "execution_count": null,
   "metadata": {
    "id": "XRGzE5J7sgcL"
   },
   "outputs": [],
   "source": [
    "!pip install \"pyCERR[napari] @ git+https://github.com/cerr/pyCERR\""
   ]
  },
  {
   "cell_type": "markdown",
   "metadata": {
    "id": "sfcIIiLQsgcM"
   },
   "source": [
    "# Data processing"
   ]
  },
  {
   "cell_type": "markdown",
   "metadata": {
    "id": "rSxnA1zSHTS_"
   },
   "source": [
    "## ***Pre-processing***: Identify the input scan"
   ]
  },
  {
   "cell_type": "code",
   "execution_count": null,
   "metadata": {
    "id": "HfJd7nySHUJJ"
   },
   "outputs": [],
   "source": [
    "import cerr\n",
    "from cerr.dataclasses import structure\n",
    "from cerr.contour import rasterseg as rs\n",
    "from cerr.utils import identifyScan, imageProc\n",
    "\n",
    "def identifyInputData(planC):\n",
    "\n",
    "  # Identify scan index in  planC\n",
    "  scanIdS = {\"imageType\": \"MR SCAN\"}\n",
    "  matchScanIdx = identifyScan.getScanNumForIdentifier(scanIdS, planC,\n",
    "                                                    False)\n",
    "\n",
    "  return matchScanIdx"
   ]
  },
  {
   "cell_type": "markdown",
   "metadata": {
    "id": "C1KHjP1LsgcO"
   },
   "source": [
    "\n",
    "## ***Post-processing***: Import label maps to planC"
   ]
  },
  {
   "cell_type": "code",
   "execution_count": null,
   "metadata": {
    "id": "FtPOzqWQsgcP"
   },
   "outputs": [],
   "source": [
    "# Map output labels to structure names\n",
    "strToLabelMap = {1:\"Bladder_O_DLV3\", 2:\"CTV_PROST_DLV3\", 3:\"Penile_Bulb_DLV3\",\n",
    "                 4:\"Rectum_O_DLV3\", 5:\"Urethra_Foley_DLV3\",\\\n",
    "                 6:\"Rectal_Spacer_DLV3\", 7: \"Bowel_Lg_DLV3\"}\n",
    "numLabel = len(strToLabelMap)"
   ]
  },
  {
   "cell_type": "code",
   "execution_count": null,
   "metadata": {
    "id": "W_GjRVWtsgcP"
   },
   "outputs": [],
   "source": [
    "#Import label map to CERR\n",
    "import glob\n",
    "\n",
    "def postProcAndImportSeg(outputDir,scanNum,planC):\n",
    "  niiGlob = glob.glob(os.path.join(outputDir,'*.nii.gz'))\n",
    "\n",
    "  print('Importing ' + niiGlob[0]+'...')\n",
    "  numStrOrig = len(planC.structure)\n",
    "  planC = pc.load_nii_structure(niiGlob[0], scanNum, planC, \\\n",
    "                              labels_dict = strToLabelMap)\n",
    "  return planC"
   ]
  },
  {
   "cell_type": "markdown",
   "metadata": {
    "id": "zj7t-J4isgcQ"
   },
   "source": [
    "# Segment OARs"
   ]
  },
  {
   "cell_type": "markdown",
   "metadata": {
    "id": "_XVVLPjBkYI0"
   },
   "source": [
    "## Apply the model to all CT scans in ***inputDicomPath*** and store auto-segmentation results to ***outputDicomPath***"
   ]
  },
  {
   "cell_type": "code",
   "execution_count": null,
   "metadata": {
    "id": "WCuUi5D6sgcS"
   },
   "outputs": [],
   "source": [
    "%%capture\n",
    "import subprocess\n",
    "import numpy as np\n",
    "import cerr\n",
    "from cerr import plan_container as pc\n",
    "from cerr.dataclasses import scan as cerrScn\n",
    "from cerr.utils.aiPipeline import createSessionDir as cdir\n",
    "from cerr.dcm_export import rtstruct_iod\n",
    "\n",
    "# Loop over pyCERR files\n",
    "fileList = os.listdir(inputDicomPath)\n",
    "numFiles = len(fileList)\n",
    "modality = 'MR'\n",
    "\n",
    "for iFile in range(numFiles):\n",
    "\n",
    "    dcmDir = os.path.join(inputDicomPath,fileList[iFile])\n",
    "\n",
    "    # Create session dir to store temporary data\n",
    "    modInputPath, modOutputPath = cdir.createSessionDir(sessionPath,\n",
    "                                                        inputDicomPath)\n",
    "\n",
    "    # Import DICOM scan to planC\n",
    "    planC = pc.load_dcm_dir(dcmDir)\n",
    "    scanNum = identifyInputData(planC)\n",
    "    numExistingStructs = len(planC.structure)\n",
    "\n",
    "    # Export inputs to NIfTI\n",
    "    scanFilename = os.path.join(modInputPath,\n",
    "                                f\"{fileList[iFile]}_scan_3D.nii.gz\")\n",
    "    planC.scan[scanNum].save_nii(scanFilename)\n",
    "\n",
    "    # Apply model\n",
    "    subprocess.run(f\"source {activateScript} && python {wrapperPath} \\\n",
    "                  {modInputPath} {modOutputPath}\", \\\n",
    "                  capture_output=False,shell=True,executable=\"/bin/bash\")\n",
    "\n",
    "    # Import results to planC\n",
    "    planC = postProcAndImportSeg(modOutputPath,scanNum,planC)\n",
    "    newNumStructs = len(planC.structure)\n",
    "\n",
    "    # Export segmentations to DICOM\n",
    "    structFileName = fileList[iFile]+'_AI_seg.dcm'\n",
    "    structFilePath = os.path.join(outputDicomPath,structFileName)\n",
    "    structNumV = np.arange(numExistingStructs,newNumStructs)\n",
    "    indOrigV = np.array([cerrScn.getScanNumFromUID(planC.structure[structNum].assocScanUID,\\\n",
    "                        planC) for structNum in structNumV], dtype=int)\n",
    "    structsToExportV = structNumV[indOrigV == scanNum]\n",
    "    seriesDescription = \"AI Generated\"\n",
    "    exportOpts = {'seriesDescription': seriesDescription}\n",
    "    rtstruct_iod.create(structsToExportV,structFilePath,planC,exportOpts)"
   ]
  },
  {
   "cell_type": "markdown",
   "metadata": {
    "id": "Kugws3KBl4MK"
   },
   "source": [
    "## **Optional**: Uncomment the following to download the output segmentations to your workspace bucket."
   ]
  },
  {
   "cell_type": "code",
   "execution_count": null,
   "metadata": {
    "id": "_nkTBkijl23J"
   },
   "outputs": [],
   "source": [
    "# workspaceBucket = os.environ['WORKSPACE_BUCKET']\n",
    "# !gcloud storage cp -r {outputDicomPath} {workspaceBucket}"
   ]
  },
  {
   "cell_type": "markdown",
   "metadata": {
    "id": "iLzFp-l_sgcT"
   },
   "source": [
    "# Display results"
   ]
  },
  {
   "cell_type": "markdown",
   "metadata": {
    "id": "L8FTwNqhsgcT"
   },
   "source": [
    "## Overlay AI segmentations on scan for visualization using ***Matplotlib***\n",
    "\n",
    "Note: This example displays the last segmented dataset by default.  \n",
    "Load the appropriate pyCERR archive to `planC` to view results for desired dataset."
   ]
  },
  {
   "cell_type": "code",
   "execution_count": null,
   "metadata": {
    "id": "jWQD1KeVsgcT"
   },
   "outputs": [],
   "source": [
    "from cerr.viewer import showMplNb\n",
    "\n",
    "showMplNb(scanNum, structsToExportV, planC,\\\n",
    "          windowCenter=1100, windowWidth=2250)"
   ]
  }
 ],
 "metadata": {
  "colab": {
   "provenance": []
  },
  "kernelspec": {
   "display_name": "Python 3 (ipykernel)",
   "language": "python",
   "name": "python3"
  },
  "language_info": {
   "codemirror_mode": {
    "name": "ipython",
    "version": 3
   },
   "file_extension": ".py",
   "mimetype": "text/x-python",
   "name": "python",
   "nbconvert_exporter": "python",
   "pygments_lexer": "ipython3",
   "version": "3.11.9"
  },
  "toc": {
   "base_numbering": 1,
   "nav_menu": {},
   "number_sections": true,
   "sideBar": true,
   "skip_h1_title": false,
   "title_cell": "Table of Contents",
   "title_sidebar": "Contents",
   "toc_cell": false,
   "toc_position": {},
   "toc_section_display": true,
   "toc_window_display": false
  }
 },
 "nbformat": 4,
 "nbformat_minor": 4
}
