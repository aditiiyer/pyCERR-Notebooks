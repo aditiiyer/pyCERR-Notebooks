{
 "cells": [
  {
   "cell_type": "markdown",
   "id": "f38b2d23",
   "metadata": {
    "id": "view-in-github"
   },
   "source": [
    "<a href=\"https://colab.research.google.com/github/cerr/pycerr-notebooks/blob/main/normal_tissue_complication_probability.ipynb\" target=\"_parent\"><img src=\"https://colab.research.google.com/assets/colab-badge.svg\" alt=\"Open In Colab\"/></a>"
   ]
  },
  {
   "cell_type": "markdown",
   "id": "1c5ccce2-43a3-4321-82dc-125cebc0b84c",
   "metadata": {},
   "source": [
    "## Introduction\n",
    "\n",
    "The Radiotherapy Outcomes Estimator<sup>1</sup> provides a library of validated models to predict normal tissue complication probability (NTCP) and tumor control probability (TCP), described via JSON files. This notebook demonstrates how to apply these models to a sample lung cancer treatment plan using pyCERR.   \n",
    "\n",
    "1. Iyer, A., Apte, A. P., Bendau, E., Thor, M., Chen, I., Shin, J., ... & Jackson, A. (2023). ROE (Radiotherapy Outcomes Estimator): An open-source tool for optimizing radiotherapy prescriptions. Computer methods and programs in biomedicine, 242, 107833."
   ]
  },
  {
   "cell_type": "markdown",
   "id": "f1087ae4-6f79-44a2-be77-3981304d8a8e",
   "metadata": {},
   "source": [
    "## Install pyCERR"
   ]
  },
  {
   "cell_type": "code",
   "execution_count": null,
   "id": "aa7ff8f0-7565-4bfa-a885-268ca334e4f6",
   "metadata": {},
   "outputs": [],
   "source": [
    "%%capture\n",
    "!pip install \"pyCERR[napari] @ git+https://github.com/cerr/pyCERR.git@testing\""
   ]
  },
  {
   "cell_type": "markdown",
   "id": "1a78c5b4-3e5d-4fd7-aa24-ebe2e8c93955",
   "metadata": {},
   "source": [
    "## Import required libraries/modules"
   ]
  },
  {
   "cell_type": "code",
   "execution_count": null,
   "id": "646dbae2-71dd-4529-b489-80803195fb23",
   "metadata": {},
   "outputs": [],
   "source": [
    "import os, glob, json, jsbeautifier\n",
    "import cerr\n",
    "import cerr.plan_container as pc\n",
    "from cerr.roe import dosimetric_models"
   ]
  },
  {
   "cell_type": "markdown",
   "id": "d6731563-b002-499d-824e-8ca7c6ffcbfa",
   "metadata": {},
   "source": [
    "## Read sample data "
   ]
  },
  {
   "cell_type": "code",
   "execution_count": null,
   "id": "468ac4e0-ef43-4040-a150-17aa1f829af3",
   "metadata": {},
   "outputs": [],
   "source": [
    "def loadData(dataDir):\n",
    "    \"\"\"\n",
    "    Function to import sample dataset to planC \n",
    "    \"\"\"\n",
    "    scanFile = os.path.join(dataDir, 'scan.nii')\n",
    "    doseFile = os.path.join(dataDir, 'dose.nii')\n",
    "    maskFiles = glob.glob(os.path.join(dataDir, 'mask*.nii'))\n",
    "\n",
    "    planC = pc.loadNiiScan(scanFile, \"CT SCAN\")\n",
    "    scanNum = len(planC.scan) - 1\n",
    "\n",
    "    planC = pc.loadNiiDose(doseFile, scanNum, planC)\n",
    "\n",
    "    for maskFile in maskFiles:\n",
    "        structureName = (maskFile.split('_')[-1]).split('.')[0]\n",
    "        planC = pc.loadNiiStructure(maskFile, scanNum, planC)\n",
    "        planC.structure[-1].structureName = structureName\n",
    "\n",
    "    return planC"
   ]
  },
  {
   "cell_type": "markdown",
   "id": "01664140-977a-4298-a37f-1f16c1fbf0ef",
   "metadata": {},
   "source": [
    "#### Load sample lung RT plan"
   ]
  },
  {
   "cell_type": "code",
   "execution_count": null,
   "id": "ce74c66d-85f5-4aa9-ad61-67f694f8c290",
   "metadata": {},
   "outputs": [],
   "source": [
    "sampleData = r'cerr\\datasets\\sample_ct\\lung'\n",
    "planC = loadData(sampleData)\n",
    "planNum = 0\n",
    "binWidth = 0.05\n",
    "\n",
    "#Test assuming 2Gy x 40\n",
    "inputFrxSize = 2\n",
    "prescribedDose = 80; "
   ]
  },
  {
   "cell_type": "markdown",
   "id": "d5c41acd-1ab9-406d-bd7c-765502f29180",
   "metadata": {},
   "source": [
    "## Evaluate normal tissue complication probabilities"
   ]
  },
  {
   "cell_type": "code",
   "execution_count": null,
   "id": "cb3209b7-285a-4508-b974-8622c813003e",
   "metadata": {},
   "outputs": [],
   "source": [
    "# Location of pre-defined models\n",
    "modelDir = r'cerr\\roe\\model_parameters'"
   ]
  },
  {
   "cell_type": "markdown",
   "id": "ed1fc059-0dfb-44c8-a5c9-cd9ce63bfc9c",
   "metadata": {},
   "source": [
    "### 1. Esophagitis"
   ]
  },
  {
   "cell_type": "code",
   "execution_count": null,
   "id": "55171160-1b50-46b0-85d5-588c051f350f",
   "metadata": {},
   "outputs": [
    {
     "name": "stdout",
     "output_type": "stream",
     "text": [
      "Esophagitis grade 2+ NTCP:  0.10641109306350455\n"
     ]
    }
   ],
   "source": [
    "modelFile = os.path.join(modelDir, 'Esophagitis (Huang).json')\n",
    "\n",
    "ntcp = dosimetric_models.run(modelFile, planNum, planC, fNumIn=prescribedDose/inputFrxSize)\n",
    "\n",
    "print('Esophagitis grade 2+ NTCP: ', ntcp)"
   ]
  },
  {
   "cell_type": "markdown",
   "id": "775a428a-36a7-4ca9-aa2a-370a5b9a2f30",
   "metadata": {},
   "source": [
    "### 2. Pneumonitis"
   ]
  },
  {
   "cell_type": "code",
   "execution_count": null,
   "id": "609a2acd-a958-44ee-a88c-c20e632198b8",
   "metadata": {},
   "outputs": [],
   "source": [
    "modelFile = os.path.join(modelDir, 'Pneumonitis (Appelt).json')\n",
    "with open(modelFile, 'r') as f:\n",
    "   modelDict = json.load(f)\n",
    "\n",
    "# Specify clinical characteristics\n",
    "modelDict['parameters']['formerSmoker']['val'] = 1\n",
    "modelDict['parameters']['over63yrs']['val'] = 1"
   ]
  },
  {
   "cell_type": "markdown",
   "id": "9fb2eb07-b816-4626-92f0-fe9080a7bfc7",
   "metadata": {},
   "source": [
    "#### Examine model parameters"
   ]
  },
  {
   "cell_type": "code",
   "execution_count": null,
   "id": "3fadb1da-4b0d-4a42-8d9b-4670dac66590",
   "metadata": {},
   "outputs": [
    {
     "name": "stdout",
     "output_type": "stream",
     "text": [
      "{\n",
      "    \"name\": \"Pneumonitis (Appelt)\",\n",
      "    \"type\": \"NTCP\",\n",
      "    \"stdNumFractions\": 35,\n",
      "    \"fractionCorrect\": \"Yes\",\n",
      "    \"correctionType\": \"frxnum\",\n",
      "    \"abRatio\": 3,\n",
      "    \"parameters\": {\n",
      "        \"structures\": \"LUNG - GTV1\",\n",
      "        \"appeltMod\": {\n",
      "            \"val\": \"Yes\"\n",
      "        },\n",
      "        \"D50_0\": {\n",
      "            \"val\": 34.4\n",
      "        },\n",
      "        \"gamma50_0\": {\n",
      "            \"val\": 1.19\n",
      "        },\n",
      "        \"formerSmoker\": {\n",
      "            \"val\": 1,\n",
      "            \"OR\": 0.69,\n",
      "            \"desc\": {\n",
      "                \"No\": 0,\n",
      "                \"Yes\": 1\n",
      "            }\n",
      "        },\n",
      "        \"currentSmoker\": {\n",
      "            \"val\": 0,\n",
      "            \"OR\": 0.62,\n",
      "            \"desc\": {\n",
      "                \"No\": 0,\n",
      "                \"Yes\": 1\n",
      "            }\n",
      "        },\n",
      "        \"over63yrs\": {\n",
      "            \"val\": 1,\n",
      "            \"OR\": 1.66,\n",
      "            \"desc\": {\n",
      "                \"No\": 0,\n",
      "                \"Yes\": 1\n",
      "            }\n",
      "        },\n",
      "        \"pulmonaryComorbidity\": {\n",
      "            \"val\": 0,\n",
      "            \"OR\": 2.27,\n",
      "            \"desc\": {\n",
      "                \"No\": 0,\n",
      "                \"Yes\": 1\n",
      "            }\n",
      "        },\n",
      "        \"sequentialChemo\": {\n",
      "            \"val\": 0,\n",
      "            \"OR\": 1.6,\n",
      "            \"desc\": {\n",
      "                \"No\": 0,\n",
      "                \"Yes\": 1\n",
      "            }\n",
      "        },\n",
      "        \"lowerMidLobe\": {\n",
      "            \"val\": 0,\n",
      "            \"OR\": 1.87,\n",
      "            \"desc\": {\n",
      "                \"No\": 0,\n",
      "                \"Yes\": 1\n",
      "            }\n",
      "        }\n",
      "    },\n",
      "    \"function\": \"appeltLogit\",\n",
      "    \"author\": \"Aditi Iyer (iyera@mskcc.org)\",\n",
      "    \"date_created\": \"09/04/2025\"\n",
      "}\n"
     ]
    }
   ],
   "source": [
    "options = jsbeautifier.default_options()\n",
    "options.indent_size = 4\n",
    "\n",
    "# Display settings\n",
    "print(jsbeautifier.beautify(json.dumps(modelDict), options))"
   ]
  },
  {
   "cell_type": "code",
   "execution_count": null,
   "id": "71b0ec28-49e1-45d9-b2a9-df0fe077299a",
   "metadata": {},
   "outputs": [
    {
     "name": "stdout",
     "output_type": "stream",
     "text": [
      "Pneumonitis grade 3+ NTCP:  0.11534966643177472\n"
     ]
    }
   ],
   "source": [
    "#Evaluate \n",
    "ntcp = dosimetric_models.run(modelDict, planNum, planC, fNumIn=prescribedDose/inputFrxSize)\n",
    "print('Pneumonitis grade 3+ NTCP: ', ntcp)"
   ]
  }
 ],
 "metadata": {
  "kernelspec": {
   "display_name": "Python 3 (ipykernel)",
   "language": "python",
   "name": "python3"
  },
  "language_info": {
   "codemirror_mode": {
    "name": "ipython",
    "version": 3
   },
   "file_extension": ".py",
   "mimetype": "text/x-python",
   "name": "python",
   "nbconvert_exporter": "python",
   "pygments_lexer": "ipython3",
   "version": "3.10.12"
  }
 },
 "nbformat": 4,
 "nbformat_minor": 5
}
