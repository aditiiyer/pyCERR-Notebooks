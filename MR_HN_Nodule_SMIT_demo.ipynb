{
  "nbformat": 4,
  "nbformat_minor": 0,
  "metadata": {
    "colab": {
      "provenance": [],
      "gpuType": "T4",
      "authorship_tag": "ABX9TyPHdsP2DnUogGEX2HuCiXJg",
      "include_colab_link": true
    },
    "kernelspec": {
      "name": "python3",
      "display_name": "Python 3"
    },
    "language_info": {
      "name": "python"
    },
    "accelerator": "GPU"
  },
  "cells": [
    {
      "cell_type": "markdown",
      "metadata": {
        "id": "view-in-github",
        "colab_type": "text"
      },
      "source": [
        "<a href=\"https://colab.research.google.com/github/cerr/pyCERR-Notebooks/blob/main/MR_HN_Nodule_SMIT_demo.ipynb\" target=\"_parent\"><img src=\"https://colab.research.google.com/assets/colab-badge.svg\" alt=\"Open In Colab\"/></a>"
      ]
    },
    {
      "cell_type": "code",
      "source": [
        "import os"
      ],
      "metadata": {
        "id": "LuALMOrARcRc"
      },
      "execution_count": 1,
      "outputs": []
    },
    {
      "cell_type": "code",
      "execution_count": 2,
      "metadata": {
        "colab": {
          "base_uri": "https://localhost:8080/"
        },
        "id": "QWi1r7OLOTvb",
        "outputId": "846ace46-aed0-4c9c-9cff-6b9b48faeb1e"
      },
      "outputs": [
        {
          "output_type": "stream",
          "name": "stdout",
          "text": [
            "\u001b[33m\r0% [Working]\u001b[0m\r            \rGet:1 https://cli.github.com/packages stable InRelease [3,917 B]\n",
            "\u001b[33m\r0% [Connecting to archive.ubuntu.com (91.189.91.81)] [Connecting to security.ub\u001b[0m\u001b[33m\r0% [Connecting to archive.ubuntu.com (91.189.91.81)] [Connecting to security.ub\u001b[0m\r                                                                               \rGet:2 https://cloud.r-project.org/bin/linux/ubuntu jammy-cran40/ InRelease [3,632 B]\n",
            "Get:3 https://developer.download.nvidia.com/compute/cuda/repos/ubuntu2204/x86_64  InRelease [1,581 B]\n",
            "Hit:4 http://archive.ubuntu.com/ubuntu jammy InRelease\n",
            "Get:5 http://archive.ubuntu.com/ubuntu jammy-updates InRelease [128 kB]\n",
            "Get:6 http://security.ubuntu.com/ubuntu jammy-security InRelease [129 kB]\n",
            "Get:7 https://cli.github.com/packages stable/main amd64 Packages [346 B]\n",
            "Get:8 https://r2u.stat.illinois.edu/ubuntu jammy InRelease [6,555 B]\n",
            "Get:9 https://developer.download.nvidia.com/compute/cuda/repos/ubuntu2204/x86_64  Packages [2,006 kB]\n",
            "Get:10 http://archive.ubuntu.com/ubuntu jammy-backports InRelease [127 kB]\n",
            "Hit:11 https://ppa.launchpadcontent.net/deadsnakes/ppa/ubuntu jammy InRelease\n",
            "Hit:12 https://ppa.launchpadcontent.net/graphics-drivers/ppa/ubuntu jammy InRelease\n",
            "Hit:13 https://ppa.launchpadcontent.net/ubuntugis/ppa/ubuntu jammy InRelease\n",
            "Get:14 https://r2u.stat.illinois.edu/ubuntu jammy/main all Packages [9,253 kB]\n",
            "Get:15 http://archive.ubuntu.com/ubuntu jammy-updates/main amd64 Packages [3,623 kB]\n",
            "Get:16 http://archive.ubuntu.com/ubuntu jammy-updates/universe amd64 Packages [1,581 kB]\n",
            "Get:17 https://r2u.stat.illinois.edu/ubuntu jammy/main amd64 Packages [2,792 kB]\n",
            "Get:18 http://security.ubuntu.com/ubuntu jammy-security/main amd64 Packages [3,310 kB]\n",
            "Get:19 http://security.ubuntu.com/ubuntu jammy-security/universe amd64 Packages [1,273 kB]\n",
            "Fetched 24.2 MB in 6s (3,859 kB/s)\n",
            "Reading package lists... Done\n",
            "Building dependency tree... Done\n",
            "Reading state information... Done\n",
            "39 packages can be upgraded. Run 'apt list --upgradable' to see them.\n",
            "\u001b[1;33mW: \u001b[0mSkipping acquire of configured file 'main/source/Sources' as repository 'https://r2u.stat.illinois.edu/ubuntu jammy InRelease' does not seem to provide it (sources.list entry misspelt?)\u001b[0m\n"
          ]
        }
      ],
      "source": [
        "!apt update"
      ]
    },
    {
      "cell_type": "code",
      "source": [
        "!git clone https://github.com/cerr/model_installer.git"
      ],
      "metadata": {
        "colab": {
          "base_uri": "https://localhost:8080/"
        },
        "id": "o9nEATgSOXme",
        "outputId": "171f1ee9-daca-4d1e-95ed-8ed195bc6566"
      },
      "execution_count": 3,
      "outputs": [
        {
          "output_type": "stream",
          "name": "stdout",
          "text": [
            "Cloning into 'model_installer'...\n",
            "remote: Enumerating objects: 107, done.\u001b[K\n",
            "remote: Counting objects: 100% (107/107), done.\u001b[K\n",
            "remote: Compressing objects: 100% (100/100), done.\u001b[K\n",
            "remote: Total 107 (delta 35), reused 33 (delta 7), pack-reused 0 (from 0)\u001b[K\n",
            "Receiving objects: 100% (107/107), 32.18 KiB | 8.04 MiB/s, done.\n",
            "Resolving deltas: 100% (35/35), done.\n"
          ]
        }
      ]
    },
    {
      "cell_type": "code",
      "source": [
        "os.chdir('/content/model_installer')\n",
        "! ./installer.sh -h"
      ],
      "metadata": {
        "colab": {
          "base_uri": "https://localhost:8080/"
        },
        "id": "hLI42eQAUIE3",
        "outputId": "ef6c4bb1-4a49-458b-d25f-25d838d8f41f"
      },
      "execution_count": 4,
      "outputs": [
        {
          "output_type": "stream",
          "name": "stdout",
          "text": [
            "      ___           ___           ___           ___     \n",
            "     /  /\\         /  /\\         /  /\\         /  /\\    \n",
            "    /  /:/        /  /:/_       /  /::\\       /  /::\\   \n",
            "   /  /:/        /  /:/ /\\     /  /:/\\:\\     /  /:/\\:\\  \n",
            "  /  /:/  ___   /  /:/ /:/_   /  /:/~/:/    /  /:/~/:/  \n",
            " /__/:/  /  /\\ /__/:/ /:/ /\\ /__/:/ /:/___ /__/:/ /:/___\n",
            " \\  \\:\\ /  /:/ \\  \\:\\/:/ /:/ \\  \\:\\/:::::/ \\  \\:\\/:::::/\n",
            "  \\  \\:\\  /:/   \\  \\::/ /:/   \\  \\::/~~~~   \\  \\::/~~~~ \n",
            "   \\  \\:\\/:/     \\  \\:\\/:/     \\  \\:\\        \\  \\:\\     \n",
            "    \\  \\::/       \\  \\::/       \\  \\:\\        \\  \\:\\    \n",
            "     \\__\\/         \\__\\/         \\__\\/         \\__\\/    \n",
            " \n",
            "Medical Physics Department, Memorial Sloan Kettering Cancer Center, New York, NY\n",
            " \n",
            "Welcome to the CERR segmentation model installer! For usage information, run with -h flag\n",
            " \n",
            "Usage Information: \n",
            "  Flags: \n",
            "          -i : Flag to run installer in interactive mode (no argument)\n",
            "          -m : [1-11] Integer number to select model to install. For list of available options, see below. \n",
            "          -d : Directory to install model with network weights \n",
            "          -p : [P/C/N] Setup and install Python environment P: setup Conda env from python requirements.txt; C: Conda pack download; N: No install. \n",
            "          -n : [1-11] Print the model name of number argument \n",
            "          -h : Print help menu \n",
            " \n",
            "The following are the list of available models. When passing the argument to installer, select the number of the model to download: \n",
            "                  1.  CT_cardiac_structures_deeplab\n",
            "                  2.  CT_LungOAR_incrMRRN\n",
            "                  3.  MR_Prostate_Deeplab\n",
            "                  4.  CT_Lung_SMIT\n",
            "                  5.  MRI_Pancreas_Fullshot_AnatomicCtxShape\n",
            "                  6.  CT_HeadAndNeck_OARs\n",
            "                  7.  CT_HN_SMIT\n",
            "                  8.  CT_HeartSubstruct_SMIT\n",
            "                  9.  CT_WHOLEBODY_SMITplus\n",
            "                  10.  MR_Rectum_GTV_SMIT\n",
            "                  11.  MR_HN_Nodule_SMIT\n"
          ]
        }
      ]
    },
    {
      "cell_type": "code",
      "source": [
        "os.chdir('/content/model_installer')\n",
        "! ./installer.sh -d /content -m 11 -p N"
      ],
      "metadata": {
        "colab": {
          "base_uri": "https://localhost:8080/"
        },
        "id": "j2SvW-s3QZ4r",
        "outputId": "954f1a17-81c9-4e87-a0c7-d783088c6d70"
      },
      "execution_count": 5,
      "outputs": [
        {
          "output_type": "stream",
          "name": "stdout",
          "text": [
            "      ___           ___           ___           ___     \n",
            "     /  /\\         /  /\\         /  /\\         /  /\\    \n",
            "    /  /:/        /  /:/_       /  /::\\       /  /::\\   \n",
            "   /  /:/        /  /:/ /\\     /  /:/\\:\\     /  /:/\\:\\  \n",
            "  /  /:/  ___   /  /:/ /:/_   /  /:/~/:/    /  /:/~/:/  \n",
            " /__/:/  /  /\\ /__/:/ /:/ /\\ /__/:/ /:/___ /__/:/ /:/___\n",
            " \\  \\:\\ /  /:/ \\  \\:\\/:/ /:/ \\  \\:\\/:::::/ \\  \\:\\/:::::/\n",
            "  \\  \\:\\  /:/   \\  \\::/ /:/   \\  \\::/~~~~   \\  \\::/~~~~ \n",
            "   \\  \\:\\/:/     \\  \\:\\/:/     \\  \\:\\        \\  \\:\\     \n",
            "    \\  \\::/       \\  \\::/       \\  \\:\\        \\  \\:\\    \n",
            "     \\__\\/         \\__\\/         \\__\\/         \\__\\/    \n",
            " \n",
            "Medical Physics Department, Memorial Sloan Kettering Cancer Center, New York, NY\n",
            " \n",
            "Welcome to the CERR segmentation model installer! For usage information, run with -h flag\n",
            " \n",
            "git clone https://github.com/cerr/MR_HN_Nodule_SMIT.git\n",
            "Cloning into 'MR_HN_Nodule_SMIT'...\n",
            "remote: Enumerating objects: 54, done.\u001b[K\n",
            "remote: Counting objects: 100% (54/54), done.\u001b[K\n",
            "remote: Compressing objects: 100% (49/49), done.\u001b[K\n",
            "remote: Total 54 (delta 6), reused 47 (delta 3), pack-reused 0 (from 0)\u001b[K\n",
            "Receiving objects: 100% (54/54), 158.19 KiB | 6.08 MiB/s, done.\n",
            "Resolving deltas: 100% (6/6), done.\n",
            "wget -O model_weights.tar.gz -L https://mskcc.box.com/shared/static/ojler8bttnbfs5z9e29zd7d9pxrqqlgx.gz\n",
            "--2025-09-10 17:26:21--  https://mskcc.box.com/shared/static/ojler8bttnbfs5z9e29zd7d9pxrqqlgx.gz\n",
            "Resolving mskcc.box.com (mskcc.box.com)... 74.112.186.157, 2620:117:bff0:12d::\n",
            "Connecting to mskcc.box.com (mskcc.box.com)|74.112.186.157|:443... connected.\n",
            "HTTP request sent, awaiting response... 301 Moved Permanently\n",
            "Location: /public/static/ojler8bttnbfs5z9e29zd7d9pxrqqlgx.gz [following]\n",
            "--2025-09-10 17:26:21--  https://mskcc.box.com/public/static/ojler8bttnbfs5z9e29zd7d9pxrqqlgx.gz\n",
            "Reusing existing connection to mskcc.box.com:443.\n",
            "HTTP request sent, awaiting response... 301 Moved Permanently\n",
            "Location: https://mskcc.ent.box.com/public/static/ojler8bttnbfs5z9e29zd7d9pxrqqlgx.gz [following]\n",
            "--2025-09-10 17:26:21--  https://mskcc.ent.box.com/public/static/ojler8bttnbfs5z9e29zd7d9pxrqqlgx.gz\n",
            "Resolving mskcc.ent.box.com (mskcc.ent.box.com)... 74.112.186.157, 2620:117:bff0:12d::\n",
            "Connecting to mskcc.ent.box.com (mskcc.ent.box.com)|74.112.186.157|:443... connected.\n",
            "HTTP request sent, awaiting response... 302 Found\n",
            "Location: https://public.boxcloud.com/d/1/b1!NDTp9DaQcdLara5X0_cK6mQfZsGkILBk_8kT211S2OyDW6tE6xlvC60CSAWhP4oGI5rEpdBSRZKmsIQCxTkfSkx8rHlHaA-V2C7H07qItzU3RgZM7lcjPUWOZD9EKS_bg0_Vd6ZCCRnPAMdZH1eH2uLPN519Mu39p2jNZlLPyRXebYwRAjzZRaVqWlzKqVftRv-aXwQpC32J7wrqavMA-A1T_h7oY6JykBbp0pKdWCF7_L5hnJQqyF968hLWUy58u_KkTVLmZaDiHtcmF-6UaptjWy9SqkRsVg7qONr4Pjmybh0C-TZkHPSeon9GyhCJxHh_QuQ-EgiL61Iimn4qHY8JhgCRAu_MJQijnudEBpE0Bu8XQWxoeKNqdb4eL5Do3fVwOLMhHzLj97g-4PcijuQzImX7bdVdTkqyvi0ROgpjB2shQHe-8b0q3kemeEAD73y-PELv--SEdg8I68rKDD9gGjHZKm3quZy2IkTMHb4zjV6jMxjdOej9kmNBXJA5dat3R-C8FtttJKjvE0x6ZN5IAoRJ7fnn8vp3vITqFWLLikd6uNupibRvVTB-eE8Vzg6eNNbIZW5ZI8N03esRVMYlYDniSMHd1jQiW4hjN_FAHw7j2TcMsQvuQVnuhLvR-e5JeUGyCJ5vAScYoItiNMiVVoRqvEnglPwlkRmDc15-O8SIwZzQIsKvaNJHYkTrsa1cW0oA0qalXmT6G8O2xmfJ8V6n5GPheXVkH70VtT9oL07oDsSglBu8n-oBLT5wbUHf2w-DEYMrBYoiCbEadmE41PH0kfCNE7e42LPHGscsVNDqNiRIH50_3EhIWNX_BxetYZGAKlkefuZHCPVhMFBgMe7utUzqyJU2CsH1lmNRqMMqHTpPRmWngyUv5iiD-oUNLHY9330lFIG6ot7KZHOCy3fgHi56rC7wbAqFv4gbMC3TBtSG8WUpLO9k5KRp0rjvd738omfqEP2evn0dQOcrLwp2O5TPwrnkzQMlZSzu8BPDwhfgV9Hh5FenjxylyF0kEHD5FGdVvQ3krl7t_50k8Aoc7OHduxQXt1N4dcQ5MDa7eniQPIWF6p-mUWyUqiUuptisZFji6Bg45ntn4Y2LKgZkrnOtaYjsd1L7XqAw5e4coznifUr8eikuJc1RimjOcyX-BB_oqNNN6v8PgCcnahTxP7bYopUCq_LajW5PvRUcxbXvrRv3KEC9eQ5Ex0pghA13R_21-3l9_TWDJ8U8VPhCxmyW--QxiMJmCM9nJ2NakZXu77l-fbq111vU2PHuezSm2ORD94pAtCX0GAwnfSU_bv4N2DuV18WXcIoT957O6qVBm5XhLmDjUJ3z4uvNJ8rjzeZwBdpDguExoXiepynnp886WSTR9w_tziogz1_7yTad3BCmi-EqIqTc77LQU09WE9WLt7_5VjW_ZxFwL6Nu2YaVKEvbB-PXdu77o0YZTR5joCld7RyI5qA-mhyGOoIJQRqStUVOMuRqYJ22GvWFP2k-mT_CcDrccKNt_H9RXPVwGX-YcDa7B_8-q-KKXo8./download [following]\n",
            "--2025-09-10 17:26:22--  https://public.boxcloud.com/d/1/b1!NDTp9DaQcdLara5X0_cK6mQfZsGkILBk_8kT211S2OyDW6tE6xlvC60CSAWhP4oGI5rEpdBSRZKmsIQCxTkfSkx8rHlHaA-V2C7H07qItzU3RgZM7lcjPUWOZD9EKS_bg0_Vd6ZCCRnPAMdZH1eH2uLPN519Mu39p2jNZlLPyRXebYwRAjzZRaVqWlzKqVftRv-aXwQpC32J7wrqavMA-A1T_h7oY6JykBbp0pKdWCF7_L5hnJQqyF968hLWUy58u_KkTVLmZaDiHtcmF-6UaptjWy9SqkRsVg7qONr4Pjmybh0C-TZkHPSeon9GyhCJxHh_QuQ-EgiL61Iimn4qHY8JhgCRAu_MJQijnudEBpE0Bu8XQWxoeKNqdb4eL5Do3fVwOLMhHzLj97g-4PcijuQzImX7bdVdTkqyvi0ROgpjB2shQHe-8b0q3kemeEAD73y-PELv--SEdg8I68rKDD9gGjHZKm3quZy2IkTMHb4zjV6jMxjdOej9kmNBXJA5dat3R-C8FtttJKjvE0x6ZN5IAoRJ7fnn8vp3vITqFWLLikd6uNupibRvVTB-eE8Vzg6eNNbIZW5ZI8N03esRVMYlYDniSMHd1jQiW4hjN_FAHw7j2TcMsQvuQVnuhLvR-e5JeUGyCJ5vAScYoItiNMiVVoRqvEnglPwlkRmDc15-O8SIwZzQIsKvaNJHYkTrsa1cW0oA0qalXmT6G8O2xmfJ8V6n5GPheXVkH70VtT9oL07oDsSglBu8n-oBLT5wbUHf2w-DEYMrBYoiCbEadmE41PH0kfCNE7e42LPHGscsVNDqNiRIH50_3EhIWNX_BxetYZGAKlkefuZHCPVhMFBgMe7utUzqyJU2CsH1lmNRqMMqHTpPRmWngyUv5iiD-oUNLHY9330lFIG6ot7KZHOCy3fgHi56rC7wbAqFv4gbMC3TBtSG8WUpLO9k5KRp0rjvd738omfqEP2evn0dQOcrLwp2O5TPwrnkzQMlZSzu8BPDwhfgV9Hh5FenjxylyF0kEHD5FGdVvQ3krl7t_50k8Aoc7OHduxQXt1N4dcQ5MDa7eniQPIWF6p-mUWyUqiUuptisZFji6Bg45ntn4Y2LKgZkrnOtaYjsd1L7XqAw5e4coznifUr8eikuJc1RimjOcyX-BB_oqNNN6v8PgCcnahTxP7bYopUCq_LajW5PvRUcxbXvrRv3KEC9eQ5Ex0pghA13R_21-3l9_TWDJ8U8VPhCxmyW--QxiMJmCM9nJ2NakZXu77l-fbq111vU2PHuezSm2ORD94pAtCX0GAwnfSU_bv4N2DuV18WXcIoT957O6qVBm5XhLmDjUJ3z4uvNJ8rjzeZwBdpDguExoXiepynnp886WSTR9w_tziogz1_7yTad3BCmi-EqIqTc77LQU09WE9WLt7_5VjW_ZxFwL6Nu2YaVKEvbB-PXdu77o0YZTR5joCld7RyI5qA-mhyGOoIJQRqStUVOMuRqYJ22GvWFP2k-mT_CcDrccKNt_H9RXPVwGX-YcDa7B_8-q-KKXo8./download\n",
            "Resolving public.boxcloud.com (public.boxcloud.com)... 74.112.186.165, 2620:117:bff0:69::\n",
            "Connecting to public.boxcloud.com (public.boxcloud.com)|74.112.186.165|:443... connected.\n",
            "HTTP request sent, awaiting response... 200 OK\n",
            "Length: 240025919 (229M) [application/octet-stream]\n",
            "Saving to: ‘model_weights.tar.gz’\n",
            "\n",
            "model_weights.tar.g 100%[===================>] 228.91M   152MB/s    in 1.5s    \n",
            "\n",
            "2025-09-10 17:26:24 (152 MB/s) - ‘model_weights.tar.gz’ saved [240025919/240025919]\n",
            "\n",
            "tar xf model_weights.tar.gz\n"
          ]
        }
      ]
    },
    {
      "cell_type": "code",
      "source": [
        "!mkdir -p /content/data/input /content/data/output"
      ],
      "metadata": {
        "id": "d5UclBbE7jCS"
      },
      "execution_count": 7,
      "outputs": []
    },
    {
      "cell_type": "code",
      "source": [
        "%%bash\n",
        "uv venv --python-preference only-managed -p 3.9 /content/.venv39\n",
        "for R in `ls /content/MR_HN_Nodule_SMIT/requirements/*.txt`; do uv pip install -n -p /content/.venv39 -r ${R} ; done"
      ],
      "metadata": {
        "colab": {
          "base_uri": "https://localhost:8080/"
        },
        "id": "hEc1bVzeqyi3",
        "outputId": "1c8f8151-ca0e-46d1-9e0f-3206c21af4de"
      },
      "execution_count": 6,
      "outputs": [
        {
          "output_type": "stream",
          "name": "stderr",
          "text": [
            "warning: The `--system` flag has no effect, a system Python interpreter is always used in `uv venv`\n",
            "Using CPython 3.9.21\n",
            "Creating virtual environment at: /content/.venv39\n",
            "Activate with: source /content/.venv39/bin/activate\n",
            "Using Python 3.9.21 environment at: /content/.venv39\n",
            "Resolved 37 packages in 1.45s\n",
            "Prepared 36 packages in 18.10s\n",
            "Installed 37 packages in 280ms\n",
            " + absl-py==2.3.1\n",
            " + certifi==2025.8.3\n",
            " + charset-normalizer==3.4.3\n",
            " + cmake==4.1.0\n",
            " + contextlib2==21.6.0\n",
            " + einops==0.8.1\n",
            " + filelock==3.19.1\n",
            " + fsspec==2025.9.0\n",
            " + hf-xet==1.1.9\n",
            " + huggingface-hub==0.34.4\n",
            " + idna==3.10\n",
            " + imagecodecs==2024.12.30\n",
            " + imageio==2.37.0\n",
            " + ml-collections==0.1.1\n",
            " + monai==0.8.0\n",
            " + networkx==3.2.1\n",
            " + nibabel==4.0.2\n",
            " + numpy==1.23.4\n",
            " + packaging==25.0\n",
            " + pillow==11.3.0\n",
            " + pytorch-ignite==0.4.8\n",
            " + pywavelets==1.6.0\n",
            " + pyyaml==6.0.2\n",
            " + requests==2.32.5\n",
            " + scikit-image==0.19.3\n",
            " + scipy==1.13.1\n",
            " + setuptools==80.9.0\n",
            " + simpleitk==2.2.1\n",
            " + six==1.17.0\n",
            " + tifffile==2024.8.30\n",
            " + timm==0.6.11\n",
            " + torch==1.12.1\n",
            " + torchaudio==0.12.1\n",
            " + torchvision==0.13.1\n",
            " + tqdm==4.67.1\n",
            " + typing-extensions==4.15.0\n",
            " + urllib3==2.5.0\n",
            "Using Python 3.9.21 environment at: /content/.venv39\n",
            "Resolved 2 packages in 2.53s\n",
            "Prepared 1 package in 47.47s\n",
            "Uninstalled 1 package in 514ms\n",
            "Installed 1 package in 250ms\n",
            " - torch==1.12.1\n",
            " + torch==1.12.1+cu116\n"
          ]
        }
      ]
    },
    {
      "cell_type": "code",
      "source": [
        "%%bash\n",
        "uv venv --python-preference only-managed -p 3.9 /content/.venv39\n",
        "uv pip install -n -p /content/.venv39 simpleitk==2.2.1 nibabel==4.0.2 monai==0.8.0 timm==0.6.11 ml-collections==0.1.1 einops==0.8.1 scikit-image==0.19.3 Cmake imagecodecs monai==0.8.0 torchaudio==0.12.1 pytorch-ignite==0.4.8\n",
        "uv pip install -n -p /content/.venv39 numpy==1.23.4\n",
        "uv pip install -n -p /content/.venv39 --extra-index-url https://download.pytorch.org/whl/cu116 torch==1.12.1+cu116"
      ],
      "metadata": {
        "id": "DsvPu6TqF7lS"
      },
      "execution_count": null,
      "outputs": []
    },
    {
      "cell_type": "code",
      "source": [
        "!rm -rf /content/data/input/\n",
        "!rm -rf /content/data/output"
      ],
      "metadata": {
        "id": "4sSgilqj6pxn"
      },
      "execution_count": null,
      "outputs": []
    },
    {
      "cell_type": "markdown",
      "source": [],
      "metadata": {
        "id": "mwkFowRWzBvz"
      }
    },
    {
      "cell_type": "code",
      "source": [
        "! uv run -p /content/.venv39 python /content/MR_HN_Nodule_SMIT/preprocess.py /content/data/input/files_Axial_T2_FS_STRAIGHT_20211130141540_301.nii /content/data/output"
      ],
      "metadata": {
        "id": "cokzEljLFMCG"
      },
      "execution_count": 9,
      "outputs": []
    },
    {
      "cell_type": "code",
      "source": [
        "%%bash\n",
        "cd /content/MR_HN_Nodule_SMIT\n",
        "source /content/.venv39/bin/activate\n",
        "source bash_run_MR_HN_SMIT.sh /content/data/output /content/data/output /content/MR_HN_Nodule_SMIT/trained_weights/MRI_HN_nodule.pt"
      ],
      "metadata": {
        "colab": {
          "base_uri": "https://localhost:8080/"
        },
        "id": "s0B38eHiKQ0G",
        "outputId": "448b1a2d-3032-4ddf-dd16-260972055338"
      },
      "execution_count": 13,
      "outputs": [
        {
          "output_type": "stream",
          "name": "stdout",
          "text": [
            "python run_segmentation.py --space_x 1.5 --space_y 1.5 --space_z 1.5 --data_dir /content/data/output --load_weight_name /content/MR_HN_Nodule_SMIT/trained_weights/MRI_HN_nodule.pt --save_folder /content/data/output --use_smit 1 --out_channels 2 --num_workers 0\n",
            "val data size is  1\n",
            "info: started to load weight:  /content/MR_HN_Nodule_SMIT/trained_weights/MRI_HN_nodule.pt\n",
            "info: model emb feature is :  96\n",
            "info: Successfully loaded trained weights:  /content/MR_HN_Nodule_SMIT/trained_weights/MRI_HN_nodule.pt\n",
            "info: start get the info\n"
          ]
        },
        {
          "output_type": "stream",
          "name": "stderr",
          "text": [
            "/content/.venv39/lib/python3.9/site-packages/monai/utils/module.py:303: UserWarning: pkg_resources is deprecated as an API. See https://setuptools.pypa.io/en/latest/pkg_resources.html. The pkg_resources package is slated for removal as early as 2025-11-30. Refrain from using this package or pin to Setuptools<81.\n",
            "  pkg = __import__(module)  # top level module\n",
            "/content/.venv39/lib/python3.9/site-packages/torch/functional.py:478: UserWarning: torch.meshgrid: in an upcoming release, it will be required to pass the indexing argument. (Triggered internally at  ../aten/src/ATen/native/TensorShape.cpp:2894.)\n",
            "  return _VF.meshgrid(tensors, **kwargs)  # type: ignore[attr-defined]\n",
            "/content/MR_HN_Nodule_SMIT/run_segmentation.py:113: DeprecationWarning: Please import `binary_fill_holes` from the `scipy.ndimage` namespace; the `scipy.ndimage.morphology` namespace is deprecated and will be removed in SciPy 2.0.0.\n",
            "  fill_mask = snm.binary_fill_holes(post_mask)\n"
          ]
        }
      ]
    }
  ]
}