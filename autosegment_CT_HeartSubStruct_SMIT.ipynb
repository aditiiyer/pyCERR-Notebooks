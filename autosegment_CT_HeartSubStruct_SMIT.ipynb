{
  "nbformat": 4,
  "nbformat_minor": 0,
  "metadata": {
    "colab": {
      "provenance": []
    },
    "kernelspec": {
      "name": "python3",
      "display_name": "Python 3"
    },
    "language_info": {
      "name": "python"
    }
  },
  "cells": [
    {
      "cell_type": "markdown",
      "source": [
        "<a target=\"_blank\" href=\"https://colab.research.google.com/github/cerr/pyCERR-Notebooks/blob/main/autosegment_CT_HeartSubStruct_SMIT.ipynb\">\n",
        "  <img src=\"https://colab.research.google.com/assets/colab-badge.svg\" alt=\"Open In Colab\"/>\n",
        "</a>"
      ],
      "metadata": {
        "id": "4RUlZj9A4wS_"
      }
    },
    {
      "cell_type": "markdown",
      "source": [
        "# CT_HeartSubstruct_SMIT Demo Notebook\n",
        "\n",
        "User supplies input DICOM files, copy `*.dcm` files to `dcmDir` folder."
      ],
      "metadata": {
        "id": "v7svGMu3oNtv"
      }
    },
    {
      "cell_type": "code",
      "source": [
        "import os, shutil, subprocess\n",
        "from glob import glob"
      ],
      "metadata": {
        "id": "AypvKPnKSoGb"
      },
      "execution_count": null,
      "outputs": []
    },
    {
      "cell_type": "code",
      "source": [
        "workDir = '/content'\n",
        "os.chdir(workDir)"
      ],
      "metadata": {
        "id": "ayYOrHO6S2Qf"
      },
      "execution_count": null,
      "outputs": []
    },
    {
      "cell_type": "code",
      "source": [
        "!pip install pyxnat\n",
        "!pip install \"pyCERR[napari] @ git+https://github.com/cerr/pyCERR.git\""
      ],
      "metadata": {
        "id": "-DQRGh4StdeF"
      },
      "execution_count": null,
      "outputs": []
    },
    {
      "cell_type": "code",
      "source": [
        "from cerr import plan_container as pc\n",
        "from cerr.dcm_export import rtstruct_iod"
      ],
      "metadata": {
        "id": "_P6Fj9Xjc8Ws"
      },
      "execution_count": null,
      "outputs": []
    },
    {
      "cell_type": "code",
      "source": [
        "def pycerr_dcm2nii(dcmDir,niiOutDir,niiFileBase='scan.nii.gz',scanNum=0):\n",
        "  planC = pc.loadDcmDir(dcmDir = dcmDir)\n",
        "  niiFileName = os.path.join(niiOutDir,niiFileBase)\n",
        "  planC.scan[scanNum].saveNii(niiFileName = niiFileName)\n",
        "  return niiFileName, planC"
      ],
      "metadata": {
        "id": "M_cBdJ_f2sbO"
      },
      "execution_count": null,
      "outputs": []
    },
    {
      "cell_type": "code",
      "source": [
        "def pycerr_mask2rtstruct(planC, maskFile, labels_dict, rtstructFileName = 'RTSTRUCT.dcm', seriesDescription = 'Imported by pyCERR', scanNum = 0, structNumV = None):\n",
        "  if structNumV == None:\n",
        "    structNumV = range(len(labels_dict))\n",
        "  planC = pc.loadNiiStructure(nii_file_name = maskFile, assocScanNum = scanNum, planC = planC, labels_dict = labels_dict)\n",
        "  rtstruct_iod.create(structNumV = structNumV, filePath = rtstructFileName, planC = planC, seriesOpts = {'SeriesDescription':seriesDescription})\n",
        "  return rtstructFileName, planC"
      ],
      "metadata": {
        "id": "7-0-rJc6PUe7"
      },
      "execution_count": null,
      "outputs": []
    },
    {
      "cell_type": "code",
      "execution_count": null,
      "metadata": {
        "id": "yAWYHoMOwt-1"
      },
      "outputs": [],
      "source": [
        "! git clone https://github.com/cerr/model_installer.git && cd model_installer && ./installer.sh -m 8 -d /content -p C &&"
      ]
    },
    {
      "cell_type": "code",
      "source": [
        "dcmDir = '/content/session/input_dcm'\n",
        "niiDir = '/content/session/input_nii'\n",
        "maskOutDir = '/content/session/output_nii'\n",
        "dcmOutDir = '/content/session/output_dcm'"
      ],
      "metadata": {
        "id": "V3Am6_fYuuM3"
      },
      "execution_count": null,
      "outputs": []
    },
    {
      "cell_type": "code",
      "source": [
        "modelDir = os.path.join(workDir,'CT_HeartSubstruct_SMIT')\n",
        "weightsPath = os.path.join(modelDir,'/trained_weights/model_final.pt')"
      ],
      "metadata": {
        "id": "LCz5tYV3xOh8"
      },
      "execution_count": null,
      "outputs": []
    },
    {
      "cell_type": "code",
      "source": [
        "!mkdir -p {dcmDir} {niiDir} {maskOutDir} {dcmOutDir}"
      ],
      "metadata": {
        "id": "BnVc3LLU0pnf"
      },
      "execution_count": null,
      "outputs": []
    },
    {
      "cell_type": "code",
      "source": [
        "scanNum = 0\n",
        "niiFileName, planC = pycerr_dcm2nii(dcmDir,niiDir,niiFileBase='CT_scan.nii.gz',scanNum = scanNum)"
      ],
      "metadata": {
        "id": "UyQBuYE44BpH"
      },
      "execution_count": null,
      "outputs": []
    },
    {
      "cell_type": "code",
      "source": [
        "cmd = 'source ' + os.path.join(modelDir,'conda-pack','bin','activate') + ' && cd ' + modelDir + ' && source bash_run_SMIT_HeartSubstructures.sh ' + niiDir + ' ' + maskOutDir + ' ' +  niiFileName\n",
        "subprocess.run(cmd, shell=True, executable=\"/bin/bash\")"
      ],
      "metadata": {
        "id": "Qj3bpqKe5LdB"
      },
      "execution_count": null,
      "outputs": []
    },
    {
      "cell_type": "code",
      "source": [
        "labels_dict = {1: 'SMIT_AORTA',2:'SMIT_PULMONARY_ARTERY',3:'SMIT_PULMONARY_VEIN',4:'SMIT_SUP_VENA_CAVA',5:'SMIT_INF_VENA_CAVA'}"
      ],
      "metadata": {
        "id": "n7JRNypuehMq"
      },
      "execution_count": null,
      "outputs": []
    },
    {
      "cell_type": "code",
      "source": [
        "outNiiFile = glob(os.path.join(maskOutDir,'*.nii*'))\n",
        "print(outNiiFile)"
      ],
      "metadata": {
        "id": "BKcMRYbGnpV5"
      },
      "execution_count": null,
      "outputs": []
    },
    {
      "cell_type": "code",
      "source": [
        "structName ='CT_HeartSubstruct_SMIT'\n",
        "rtstructFile = os.path.join(dcmOutDir,'RTSTRUCT.dcm')"
      ],
      "metadata": {
        "id": "VcISAgpl72iH"
      },
      "execution_count": null,
      "outputs": []
    },
    {
      "cell_type": "code",
      "source": [
        "rtstructFileName, planC = pycerr_mask2rtstruct(planC = planC, maskFile = outNiiFile, labels_dict = labels_dict, rtstructFileName = rtstructFile)"
      ],
      "metadata": {
        "id": "IDq2hnbAQcAE"
      },
      "execution_count": null,
      "outputs": []
    }
  ]
}