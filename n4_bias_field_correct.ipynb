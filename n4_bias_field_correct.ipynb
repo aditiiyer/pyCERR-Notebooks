{
 "cells": [
  {
   "cell_type": "markdown",
   "metadata": {
    "id": "VWyuLDqzReAX"
   },
   "source": [
    "<a target=\"_blank\" href=\"https://colab.research.google.com/github/cerr/pyCERR-Notebooks/blob/main/n4_bias_field_correct.ipynb\">\n",
    "  <img src=\"https://colab.research.google.com/assets/colab-badge.svg\" alt=\"Open In Colab\"/>\n",
    "</a>"
   ]
  },
  {
   "cell_type": "markdown",
   "metadata": {
    "id": "6WiUG9DgPhrm"
   },
   "source": [
    "# N4 Bias field correction"
   ]
  },
  {
   "cell_type": "markdown",
   "metadata": {
    "id": "1ENjTdh_PyPu"
   },
   "source": [
    "The example below demonstrates extraction of radiomics features from CT scan and tumor segmentation for a batch of DICOM datasets."
   ]
  },
  {
   "cell_type": "markdown",
   "metadata": {
    "id": "_ftJtFB9O-IH"
   },
   "source": [
    "### Install pyCERR"
   ]
  },
  {
   "cell_type": "code",
   "execution_count": null,
   "metadata": {
    "id": "AiwvHy_3716I"
   },
   "outputs": [],
   "source": [
    "%%capture\n",
    "!pip install -U git+https://github.com/cerr/pyCERR/"
   ]
  },
  {
   "cell_type": "markdown",
   "metadata": {},
   "source": [
    "#### Import the required modules"
   ]
  },
  {
   "cell_type": "code",
   "execution_count": 1,
   "metadata": {},
   "outputs": [],
   "source": [
    "from cerr import plan_container as pc\n",
    "from cerr.dataclasses import scan as scn\n",
    "import SimpleITK as sitk\n",
    "import numpy as np"
   ]
  },
  {
   "cell_type": "markdown",
   "metadata": {},
   "source": [
    "#### Load data into planC container"
   ]
  },
  {
   "cell_type": "code",
   "execution_count": 2,
   "metadata": {},
   "outputs": [
    {
     "name": "stdout",
     "output_type": "stream",
     "text": [
      "('PURE-01_001-012', 'PURE-01_001-012', '1.3.12.2.1107.5.99.2.80500.30000021030111595013200277326', '1.2.826.0.1.3680043.8.498.27841218035895015762633437158085384576', 'RTSTRUCT', 'RTSTRUCT', 'RTSTRUCT', 'RTSTRUCT', 'RTSTRUCT', 'RTSTRUCT', 'RTSTRUCT')\n",
      "('PURE-01_001-012', 'PURE-01_001-012', '1.3.12.2.1107.5.99.2.80500.30000021030111595013200277326', '1.3.12.2.1107.5.99.2.80500.30000021030111595013200274239', 'MR', 'MR', 0.0, 0.0, '1', '1', '1')\n"
     ]
    }
   ],
   "source": [
    "# Load dicom to planC container\n",
    "dcm_scan_dir = r\"path/to/mr_dicom_dir\"\n",
    "planC = pc.load_dcm_dir(dcm_scan_dir)"
   ]
  },
  {
   "cell_type": "markdown",
   "metadata": {},
   "source": [
    "#### Apply N4BiasFieldCorrectionImageFilter from SimpleITK"
   ]
  },
  {
   "cell_type": "code",
   "execution_count": 3,
   "metadata": {},
   "outputs": [],
   "source": [
    "# Apply N4 bias field correction filter\n",
    "scanNum = 0\n",
    "scanITKObj = planC.scan[scanNum].getSitkImage()\n",
    "corrector = sitk.N4BiasFieldCorrectionImageFilter()\n",
    "corrector.SetMaximumNumberOfIterations([50, 50, 50, 50])\n",
    "outImg = corrector.Execute(scanITKObj)\n",
    "logBiasFieldImg = corrector.GetLogBiasFieldAsImage(scanITKObj)\n",
    "logBiasField3M = scn.getCERRScanArrayFromITK(logBiasFieldImg, scanNum, planC)\n",
    "correctedImageFullResolution = planC.scan[scanNum].getScanArray() / np.exp(logBiasField3M)"
   ]
  },
  {
   "cell_type": "markdown",
   "metadata": {},
   "source": [
    "#### Import the N4 corrected image into planC"
   ]
  },
  {
   "cell_type": "code",
   "execution_count": 4,
   "metadata": {},
   "outputs": [],
   "source": [
    "# Add bias field corrected array to planC\n",
    "x, y, z = planC.scan[scanNum].getScanXYZVals()\n",
    "planC = pc.import_scan_array(correctedImageFullResolution,x,y,z,'N4 Corrected',scanNum, planC)"
   ]
  },
  {
   "cell_type": "markdown",
   "metadata": {
    "id": "YyKVcPp1PBiC"
   },
   "source": [
    "### Visualize the original and N4 bias field corrected images"
   ]
  },
  {
   "cell_type": "code",
   "execution_count": 5,
   "metadata": {
    "colab": {
     "base_uri": "https://localhost:8080/"
    },
    "id": "-2-ccC7ABLq-",
    "outputId": "78d91af0-3f1d-4461-b693-a7ae55a63067"
   },
   "outputs": [],
   "source": [
    "# Visualize original and bias field corrected images\n",
    "from cerr import viewer as vwr\n",
    "scanNum = [0, 1]\n",
    "doseNum = []\n",
    "strNum = []\n",
    "displayMode = '2d'\n",
    "viewer, scan_layer, dose_layer, struct_layer = \\\n",
    "        vwr.show_scan_struct_dose(scanNum, strNum, doseNum, planC, displayMode)"
   ]
  }
 ],
 "metadata": {
  "accelerator": "GPU",
  "colab": {
   "gpuType": "T4",
   "provenance": []
  },
  "kernelspec": {
   "display_name": "Python 3 (ipykernel)",
   "language": "python",
   "name": "python3"
  },
  "language_info": {
   "codemirror_mode": {
    "name": "ipython",
    "version": 3
   },
   "file_extension": ".py",
   "mimetype": "text/x-python",
   "name": "python",
   "nbconvert_exporter": "python",
   "pygments_lexer": "ipython3",
   "version": "3.8.18"
  }
 },
 "nbformat": 4,
 "nbformat_minor": 4
}
