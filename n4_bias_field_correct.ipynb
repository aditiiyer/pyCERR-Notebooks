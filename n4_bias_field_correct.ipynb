{
 "cells": [
  {
   "cell_type": "markdown",
   "metadata": {
    "id": "VWyuLDqzReAX"
   },
   "source": [
    "<a target=\"_blank\" href=\"https://colab.research.google.com/github/cerr/pyCERR-Notebooks/blob/main/n4_bias_field_correct.ipynb\">\n",
    "  <img src=\"https://colab.research.google.com/assets/colab-badge.svg\" alt=\"Open In Colab\"/>\n",
    "</a>"
   ]
  },
  {
   "cell_type": "markdown",
   "metadata": {
    "id": "6WiUG9DgPhrm"
   },
   "source": [
    "# N4 Bias field correction"
   ]
  },
  {
   "cell_type": "markdown",
   "metadata": {
    "id": "1ENjTdh_PyPu"
   },
   "source": [
    "The example below demonstrates extraction of radiomics features from CT scan and tumor segmentation for a batch of DICOM datasets."
   ]
  },
  {
   "cell_type": "markdown",
   "metadata": {
    "id": "_ftJtFB9O-IH"
   },
   "source": [
    "### Install pyCERR"
   ]
  },
  {
   "cell_type": "code",
   "execution_count": null,
   "metadata": {
    "id": "AiwvHy_3716I"
   },
   "outputs": [],
   "source": [
    "%%capture\n",
    "! pip install \"pyCERR[napari] @ git+https://github.com/cerr/pyCERR\""
   ]
  },
  {
   "cell_type": "markdown",
   "metadata": {},
   "source": [
    "#### Import the required modules"
   ]
  },
  {
   "cell_type": "code",
   "execution_count": 1,
   "metadata": {},
   "outputs": [],
   "source": [
    "from cerr import plan_container as pc\n",
    "from cerr.dataclasses import scan as scn\n",
    "import SimpleITK as sitk\n",
    "import numpy as np"
   ]
  },
  {
   "cell_type": "markdown",
   "metadata": {},
   "source": [
    "#### Load data into planC container"
   ]
  },
  {
   "cell_type": "code",
   "execution_count": null,
   "metadata": {},
   "outputs": [],
   "source": [
    "# Load dicom to planC container\n",
    "dcm_scan_dir = r\"path/to/mr_dicom_dir\"\n",
    "planC = pc.loadDcmDir(dcm_scan_dir)"
   ]
  },
  {
   "cell_type": "markdown",
   "metadata": {},
   "source": [
    "#### Apply N4BiasFieldCorrectionImageFilter from SimpleITK"
   ]
  },
  {
   "cell_type": "code",
   "execution_count": 4,
   "metadata": {},
   "outputs": [],
   "source": [
    "# Apply N4 bias field correction filter\n",
    "scanNum = 0\n",
    "scanITKObj = planC.scan[scanNum].getSitkImage()\n",
    "corrector = sitk.N4BiasFieldCorrectionImageFilter()\n",
    "corrector.SetMaximumNumberOfIterations([50, 50, 50, 50])\n",
    "outImg = corrector.Execute(scanITKObj)\n",
    "logBiasFieldImg = corrector.GetLogBiasFieldAsImage(scanITKObj)\n",
    "logBiasField3M = scn.getCERRScanArrayFromITK(logBiasFieldImg, scanNum, planC)\n",
    "correctedImageFullResolution = planC.scan[scanNum].getScanArray() / np.exp(logBiasField3M)"
   ]
  },
  {
   "cell_type": "markdown",
   "metadata": {},
   "source": [
    "#### Import the N4 corrected image into planC"
   ]
  },
  {
   "cell_type": "code",
   "execution_count": 5,
   "metadata": {},
   "outputs": [],
   "source": [
    "# Add bias field corrected array to planC\n",
    "x, y, z = planC.scan[scanNum].getScanXYZVals()\n",
    "planC = pc.importScanArray(correctedImageFullResolution,x,y,z,'N4 Corrected',scanNum, planC)"
   ]
  },
  {
   "cell_type": "markdown",
   "metadata": {
    "id": "YyKVcPp1PBiC"
   },
   "source": [
    "### Visualize the original and N4 bias field corrected images"
   ]
  },
  {
   "cell_type": "code",
   "execution_count": 6,
   "metadata": {
    "colab": {
     "base_uri": "https://localhost:8080/"
    },
    "id": "-2-ccC7ABLq-",
    "outputId": "78d91af0-3f1d-4461-b693-a7ae55a63067"
   },
   "outputs": [],
   "source": [
    "# Visualize original and bias field corrected images\n",
    "from cerr import viewer as vwr\n",
    "scanNum = [0,1]\n",
    "strNum = [0]\n",
    "doseNum = []\n",
    "viewer, scan_layer, struct_layer, dose_layer, dvf_layer = \\\n",
    "    vwr.showNapari(planC, scan_nums=scanNum, struct_nums=strNum, dose_nums=doseNum, vectors_dict={}, displayMode='2d')\n"
   ]
  }
 ],
 "metadata": {
  "accelerator": "GPU",
  "colab": {
   "gpuType": "T4",
   "provenance": []
  },
  "kernelspec": {
   "display_name": "Python 3 (ipykernel)",
   "language": "python",
   "name": "python3"
  },
  "language_info": {
   "codemirror_mode": {
    "name": "ipython",
    "version": 3
   },
   "file_extension": ".py",
   "mimetype": "text/x-python",
   "name": "python",
   "nbconvert_exporter": "python",
   "pygments_lexer": "ipython3",
   "version": "3.11.9"
  }
 },
 "nbformat": 4,
 "nbformat_minor": 4
}
