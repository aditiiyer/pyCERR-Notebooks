{
 "cells": [
  {
   "cell_type": "markdown",
   "metadata": {
    "id": "VWyuLDqzReAX"
   },
   "source": [
    "<a target=\"_blank\" href=\"https://colab.research.google.com/github/cerr/pyCERR-Notebooks/blob/main/batch_extract_radiomics_ex1.ipynb\">\n",
    "  <img src=\"https://colab.research.google.com/assets/colab-badge.svg\" alt=\"Open In Colab\"/>\n",
    "</a>"
   ]
  },
  {
   "cell_type": "markdown",
   "metadata": {
    "id": "6WiUG9DgPhrm"
   },
   "source": [
    "# Extract radiomics features from a batch of dicom datasets"
   ]
  },
  {
   "cell_type": "markdown",
   "metadata": {
    "id": "1ENjTdh_PyPu"
   },
   "source": [
    "The example below demonstrates extraction of radiomics features from CT scan and tumor segmentation for a batch of DICOM datasets."
   ]
  },
  {
   "cell_type": "markdown",
   "metadata": {
    "id": "_ftJtFB9O-IH"
   },
   "source": [
    "### Install pyCERR"
   ]
  },
  {
   "cell_type": "code",
   "execution_count": null,
   "metadata": {
    "id": "AiwvHy_3716I"
   },
   "outputs": [],
   "source": [
    "%%capture\n",
    "!pip install -U git+https://github.com/cerr/pyCERR/"
   ]
  },
  {
   "cell_type": "markdown",
   "metadata": {},
   "source": [
    "#### Define data location"
   ]
  },
  {
   "cell_type": "code",
   "execution_count": 1,
   "metadata": {},
   "outputs": [],
   "source": [
    "from cerr import datasets\n",
    "import os\n",
    "datasetsDir = os.path.dirname(datasets.__file__)\n",
    "phantom_dir = os.path.join(datasetsDir,'radiomics_phantom_dicom')\n",
    "pat_names = ['PAT1', 'PAT2', 'PAT3', 'PAT4']\n",
    "all_pat_dirs = [os.path.join(phantom_dir, pat) for pat in pat_names]"
   ]
  },
  {
   "cell_type": "markdown",
   "metadata": {},
   "source": [
    "#### Define location of settings file"
   ]
  },
  {
   "cell_type": "code",
   "execution_count": 2,
   "metadata": {},
   "outputs": [],
   "source": [
    "settingsFile = os.path.join(datasetsDir,\"radiomics_settings\",\"original_settings.json\")"
   ]
  },
  {
   "cell_type": "markdown",
   "metadata": {},
   "source": [
    "#### Define location of output csv file"
   ]
  },
  {
   "cell_type": "code",
   "execution_count": 3,
   "metadata": {},
   "outputs": [],
   "source": [
    "csvFileName = \"feats_from_original_image.csv\""
   ]
  },
  {
   "cell_type": "markdown",
   "metadata": {
    "id": "YyKVcPp1PBiC"
   },
   "source": [
    "### Loop over dicom directories and extract features"
   ]
  },
  {
   "cell_type": "markdown",
   "metadata": {},
   "source": [
    "The example datasets contain only one scan and one segmentation. Hence, `scanNum = 0` and `structNum = 0` is used in this exampple. In case of multiple scans and segmentations, users should find their appropriate indices as an input to `ibsi1.computeScalarFeatures`"
   ]
  },
  {
   "cell_type": "code",
   "execution_count": 9,
   "metadata": {
    "colab": {
     "base_uri": "https://localhost:8080/"
    },
    "id": "-2-ccC7ABLq-",
    "outputId": "78d91af0-3f1d-4461-b693-a7ae55a63067"
   },
   "outputs": [
    {
     "name": "stdout",
     "output_type": "stream",
     "text": [
      "Data dir :C:\\Users\\aptea\\Miniconda3\\envs\\pycerr\\Lib\\site-packages\\cerr\\datasets\\radiomics_phantom_dicom\\PAT1\n",
      "('PAT1', 'PAT1', '1.3.6.1.4.1.9590.100.1.2.96328687310426543129572151154132284399', '1.3.6.1.4.1.9590.100.1.2.258301620411152643708006163321128526885', 'RTSTRUCT', 'RTSTRUCT', 'RTSTRUCT', 'RTSTRUCT', 'RTSTRUCT', 'RTSTRUCT', 'RTSTRUCT')\n",
      "('PAT1', 'PAT1', '1.3.6.1.4.1.9590.100.1.2.96328687310426543129572151154132284399', '1.3.6.1.4.1.9590.100.1.2.296658988911737913102339329841519593982', 'CT', 'CT', 'CT', 'CT', 'CT', 'CT', 'CT')\n",
      "Data dir :C:\\Users\\aptea\\Miniconda3\\envs\\pycerr\\Lib\\site-packages\\cerr\\datasets\\radiomics_phantom_dicom\\PAT2\n",
      "('PAT2', 'PAT2', '1.3.6.1.4.1.9590.100.1.2.186722590312853886701735768582616095132', '1.3.6.1.4.1.9590.100.1.2.16016500911558447542485925491404262309', 'CT', 'CT', 'CT', 'CT', 'CT', 'CT', 'CT')\n",
      "('PAT2', 'PAT2', '1.3.6.1.4.1.9590.100.1.2.186722590312853886701735768582616095132', '1.3.6.1.4.1.9590.100.1.2.83077934412344456434331598470407844553', 'RTSTRUCT', 'RTSTRUCT', 'RTSTRUCT', 'RTSTRUCT', 'RTSTRUCT', 'RTSTRUCT', 'RTSTRUCT')\n",
      "Data dir :C:\\Users\\aptea\\Miniconda3\\envs\\pycerr\\Lib\\site-packages\\cerr\\datasets\\radiomics_phantom_dicom\\PAT3\n",
      "('PAT3', 'PAT3', '1.3.6.1.4.1.9590.100.1.2.409070330913773454628579649303466119021', '1.3.6.1.4.1.9590.100.1.2.351624503710776750911285093361744472924', 'CT', 'CT', 'CT', 'CT', 'CT', 'CT', 'CT')\n",
      "('PAT3', 'PAT3', '1.3.6.1.4.1.9590.100.1.2.409070330913773454628579649303466119021', '1.3.6.1.4.1.9590.100.1.2.357624831212820688235812622582660063404', 'RTSTRUCT', 'RTSTRUCT', 'RTSTRUCT', 'RTSTRUCT', 'RTSTRUCT', 'RTSTRUCT', 'RTSTRUCT')\n",
      "Data dir :C:\\Users\\aptea\\Miniconda3\\envs\\pycerr\\Lib\\site-packages\\cerr\\datasets\\radiomics_phantom_dicom\\PAT4\n",
      "('PAT4', 'PAT4', '1.3.6.1.4.1.9590.100.1.2.136596769910803090206945148270543894255', '1.3.6.1.4.1.9590.100.1.2.106284251511039171728979245242481617976', 'RTSTRUCT', 'RTSTRUCT', 'RTSTRUCT', 'RTSTRUCT', 'RTSTRUCT', 'RTSTRUCT', 'RTSTRUCT')\n",
      "('PAT4', 'PAT4', '1.3.6.1.4.1.9590.100.1.2.136596769910803090206945148270543894255', '1.3.6.1.4.1.9590.100.1.2.302171868711114827615998050902174932584', 'CT', 'CT', 'CT', 'CT', 'CT', 'CT', 'CT')\n"
     ]
    }
   ],
   "source": [
    "import os\n",
    "from cerr import plan_container as pc\n",
    "from cerr.radiomics import ibsi1\n",
    "\n",
    "featList = []\n",
    "id = {}\n",
    "for pt_dir in all_pat_dirs:\n",
    "    print(\"Data dir :\" + pt_dir)\n",
    "    planC = pc.load_dcm_dir(pt_dir)\n",
    "    scanNum = 0\n",
    "    structNum = 0\n",
    "    featDict, diagnDict = ibsi1.computeScalarFeatures(scanNum, structNum, settingsFile, planC)\n",
    "    id['id'] = pt_dir\n",
    "    featDict = {**id, **featDict}\n",
    "    featList.append(featDict)\n",
    "ibsi1.writeFeaturesToFile(featList, csvFileName)\n"
   ]
  },
  {
   "cell_type": "code",
   "execution_count": 8,
   "metadata": {},
   "outputs": [
    {
     "data": {
      "text/plain": [
       "({'numVoxelsOrig': 125256,\n",
       "  'numVoxelsInterpReseg': 357789,\n",
       "  'meanIntensityInterpReseg': -47.046793272513675,\n",
       "  'maxIntensityInterpReseg': 295.8325774731678,\n",
       "  'minIntensityInterpReseg': -955.8830367401138,\n",
       "  'original_shape_majorAxis': 92.72604099735184,\n",
       "  'original_shape_minorAxis': 81.42358890204224,\n",
       "  'original_shape_leastAxis': 70.03159915471801,\n",
       "  'original_shape_flatness': 0.7552527682780938,\n",
       "  'original_shape_elongation': 0.8781091916171382,\n",
       "  'original_shape_max2dDiameterAxialPlane': 103.17460927960911,\n",
       "  'original_shape_max2dDiameterSagittalPlane': 101.01980003939822,\n",
       "  'original_shape_max2dDiameterCoronalPlane': 115.74541027617465,\n",
       "  'original_shape_surfArea': 35722.335445056466,\n",
       "  'original_shape_max3dDiameter': 124.95599225327383,\n",
       "  'original_shape_volume': 357857.0000000089,\n",
       "  'original_shape_filledVolume': 357857.0000000089,\n",
       "  'original_shape_volumeDensityAABB': 0.48263310082161337,\n",
       "  'original_shape_Compactness1': 0.029903692208922066,\n",
       "  'original_shape_Compactness2': 0.31772535535878077,\n",
       "  'original_shape_spherDisprop': 1.4654894915529524,\n",
       "  'original_shape_sphericity': 0.682365861893911,\n",
       "  'original_shape_surfToVolRatio': 0.09982293330871152,\n",
       "  'original_firstOrder_min': -955.8830367401138,\n",
       "  'original_firstOrder_max': 295.8325774731678,\n",
       "  'original_firstOrder_mean': -47.046793272513675,\n",
       "  'original_firstOrder_range': 1251.7156142132817,\n",
       "  'original_firstOrder_std': 223.69405066243414,\n",
       "  'original_firstOrder_var': 50039.02830176765,\n",
       "  'original_firstOrder_median': 40.326270388923604,\n",
       "  'original_firstOrder_skewness': -2.1745949438071466,\n",
       "  'original_firstOrder_kurtosis': 3.6948810715292835,\n",
       "  'original_firstOrder_entropy': 6.013182060954406,\n",
       "  'original_firstOrder_rms': 978.8558844456967,\n",
       "  'original_firstOrder_energy': 342818694104.2298,\n",
       "  'original_firstOrder_totalEnergy': 342818694104.22986,\n",
       "  'original_firstOrder_meanAbsDev': 155.97499126154662,\n",
       "  'original_firstOrder_medianAbsDev': 117.58306641771705,\n",
       "  'original_firstOrder_P10': -415.438050754195,\n",
       "  'original_firstOrder_P90': 86.32321212848797,\n",
       "  'original_firstOrder_robustMeanAbsDev': 64.27772250050802,\n",
       "  'original_firstOrder_robustMedianAbsDev': 53.46885049169944,\n",
       "  'original_firstOrder_interQuartileRange': 64.4409729140042,\n",
       "  'original_firstOrder_coeffDispersion': 0.9383319744285468,\n",
       "  'original_firstOrder_coeffVariation': -4.754714085755208,\n",
       "  'original_glcm_energy_3D_avg': 0.0027725096,\n",
       "  'original_glcm_energy_3D_Median': 0.0025690482,\n",
       "  'original_glcm_energy_3D_StdDev': 0.0006202906,\n",
       "  'original_glcm_energy_3D_Min': 0.0023394767,\n",
       "  'original_glcm_energy_3D_Max': 0.0046481728,\n",
       "  'original_glcm_jointEntropy_3D_avg': 10.430018,\n",
       "  'original_glcm_jointEntropy_3D_Median': 10.484015,\n",
       "  'original_glcm_jointEntropy_3D_StdDev': 0.2512246,\n",
       "  'original_glcm_jointEntropy_3D_Min': 9.747029,\n",
       "  'original_glcm_jointEntropy_3D_Max': 10.678417,\n",
       "  'original_glcm_jointMax_3D_avg': 0.007025742,\n",
       "  'original_glcm_jointMax_3D_Median': 0.006389053,\n",
       "  'original_glcm_jointMax_3D_StdDev': 0.0017321474,\n",
       "  'original_glcm_jointMax_3D_Min': 0.005812375,\n",
       "  'original_glcm_jointMax_3D_Max': 0.012249539,\n",
       "  'original_glcm_jointAvg_3D_avg': 192.31955504504853,\n",
       "  'original_glcm_jointAvg_3D_Median': 192.4378527574488,\n",
       "  'original_glcm_jointAvg_3D_StdDev': 0.303282351397525,\n",
       "  'original_glcm_jointAvg_3D_Min': 191.7750849804239,\n",
       "  'original_glcm_jointAvg_3D_Max': 192.701346133603,\n",
       "  'original_glcm_jointVar_3D_avg': 1894.3884325043957,\n",
       "  'original_glcm_jointVar_3D_Median': 1884.1059502867674,\n",
       "  'original_glcm_jointVar_3D_StdDev': 28.603145426426817,\n",
       "  'original_glcm_jointVar_3D_Min': 1854.8588693855036,\n",
       "  'original_glcm_jointVar_3D_Max': 1944.4804338307986,\n",
       "  'original_glcm_sumAvg_3D_avg': 384.63910991174356,\n",
       "  'original_glcm_sumAvg_3D_Median': 384.87570041405525,\n",
       "  'original_glcm_sumAvg_3D_StdDev': 0.6065639166616505,\n",
       "  'original_glcm_sumAvg_3D_Min': 383.55017084182396,\n",
       "  'original_glcm_sumAvg_3D_Max': 385.4026909535892,\n",
       "  'original_glcm_sumVar_3D_avg': 7398.567025135236,\n",
       "  'original_glcm_sumVar_3D_Median': 7377.286717296808,\n",
       "  'original_glcm_sumVar_3D_StdDev': 167.2385037762061,\n",
       "  'original_glcm_sumVar_3D_Min': 7130.2330391440655,\n",
       "  'original_glcm_sumVar_3D_Max': 7671.16252643451,\n",
       "  'original_glcm_sumEntropy_3D_avg': 6.910058225625813,\n",
       "  'original_glcm_sumEntropy_3D_Median': 6.908818644153262,\n",
       "  'original_glcm_sumEntropy_3D_StdDev': 0.024906259891989347,\n",
       "  'original_glcm_sumEntropy_3D_Min': 6.874738939852829,\n",
       "  'original_glcm_sumEntropy_3D_Max': 6.958203035708858,\n",
       "  'original_glcm_contrast_3D_avg': 178.98671703054927,\n",
       "  'original_glcm_contrast_3D_Median': 183.05591490119696,\n",
       "  'original_glcm_contrast_3D_StdDev': 62.41226493877332,\n",
       "  'original_glcm_contrast_3D_Min': 62.995354525744915,\n",
       "  'original_glcm_contrast_3D_Max': 289.2023212723434,\n",
       "  'original_glcm_invDiffMom_3D_avg': 0.26294065021582125,\n",
       "  'original_glcm_invDiffMom_3D_Median': 0.24985581911227717,\n",
       "  'original_glcm_invDiffMom_3D_StdDev': 0.043056199623923354,\n",
       "  'original_glcm_invDiffMom_3D_Min': 0.22692675044141175,\n",
       "  'original_glcm_invDiffMom_3D_Max': 0.38341081290458023,\n",
       "  'original_glcm_invDiffMomNorm_3D_avg': 0.9974619481232682,\n",
       "  'original_glcm_invDiffMomNorm_3D_Median': 0.9974029681116008,\n",
       "  'original_glcm_invDiffMomNorm_3D_StdDev': 0.0008591101140683067,\n",
       "  'original_glcm_invDiffMomNorm_3D_Min': 0.9959621005818917,\n",
       "  'original_glcm_invDiffMomNorm_3D_Max': 0.9990772562803159,\n",
       "  'original_glcm_invDiff_3D_avg': 0.3387436193576552,\n",
       "  'original_glcm_invDiff_3D_Median': 0.3281387578314039,\n",
       "  'original_glcm_invDiff_3D_StdDev': 0.037479987619164434,\n",
       "  'original_glcm_invDiff_3D_Min': 0.30555572594340674,\n",
       "  'original_glcm_invDiff_3D_Max': 0.44106994693626334,\n",
       "  'original_glcm_invDiffNorm_3D_avg': 0.9761276390510235,\n",
       "  'original_glcm_invDiffNorm_3D_Median': 0.9755775854723652,\n",
       "  'original_glcm_invDiffNorm_3D_StdDev': 0.004079587167270983,\n",
       "  'original_glcm_invDiffNorm_3D_Min': 0.9703095315522887,\n",
       "  'original_glcm_invDiffNorm_3D_Max': 0.9848412041865231,\n",
       "  'original_glcm_invVar_3D_avg': 0.26381720645880835,\n",
       "  'original_glcm_invVar_3D_Median': 0.25351910291793694,\n",
       "  'original_glcm_invVar_3D_StdDev': 0.03510630300293401,\n",
       "  'original_glcm_invVar_3D_Min': 0.2318193479894331,\n",
       "  'original_glcm_invVar_3D_Max': 0.35635064187451543,\n",
       "  'original_glcm_dissimilarity_3D_avg': 6.792611619959084,\n",
       "  'original_glcm_dissimilarity_3D_Median': 6.952195684774779,\n",
       "  'original_glcm_dissimilarity_3D_StdDev': 1.2501395955549537,\n",
       "  'original_glcm_dissimilarity_3D_Min': 4.163637362624286,\n",
       "  'original_glcm_dissimilarity_3D_Max': 8.638506030692952,\n",
       "  'original_glcm_diffEntropy_3D_avg': 4.041218116175805,\n",
       "  'original_glcm_diffEntropy_3D_Median': 4.09542486800144,\n",
       "  'original_glcm_diffEntropy_3D_StdDev': 0.2631714103411643,\n",
       "  'original_glcm_diffEntropy_3D_Min': 3.4058070654111097,\n",
       "  'original_glcm_diffEntropy_3D_Max': 4.346324902402955,\n",
       "  'original_glcm_diffVar_3D_avg': 131.40451438793113,\n",
       "  'original_glcm_diffVar_3D_Median': 134.72288881393564,\n",
       "  'original_glcm_diffVar_3D_StdDev': 46.45946874654452,\n",
       "  'original_glcm_diffVar_3D_Min': 45.65947866082752,\n",
       "  'original_glcm_diffVar_3D_Max': 214.57853221075763,\n",
       "  'original_glcm_diffAvg_3D_avg': 6.792611619959084,\n",
       "  'original_glcm_diffAvg_3D_Median': 6.952195684774779,\n",
       "  'original_glcm_diffAvg_3D_StdDev': 1.2501395955549537,\n",
       "  'original_glcm_diffAvg_3D_Min': 4.163637362624286,\n",
       "  'original_glcm_diffAvg_3D_Max': 8.638506030692952,\n",
       "  'original_glcm_corr_3D_avg': 0.9525725297861604,\n",
       "  'original_glcm_corr_3D_Median': 0.9521732263534437,\n",
       "  'original_glcm_corr_3D_StdDev': 0.017024556079679693,\n",
       "  'original_glcm_corr_3D_Min': 0.9220419914463126,\n",
       "  'original_glcm_corr_3D_Max': 0.9835756846588374,\n",
       "  'original_glcm_clustTendency_3D_avg': 7398.567012818176,\n",
       "  'original_glcm_clustTendency_3D_Median': 7377.286658460671,\n",
       "  'original_glcm_clustTendency_3D_StdDev': 167.23848012162136,\n",
       "  'original_glcm_clustTendency_3D_Min': 7130.233157232638,\n",
       "  'original_glcm_clustTendency_3D_Max': 7671.162470305553,\n",
       "  'original_glcm_clustShade_3D_avg': -1451168.2363700098,\n",
       "  'original_glcm_clustShade_3D_Median': -1447424.6765927307,\n",
       "  'original_glcm_clustShade_3D_StdDev': 33131.94082047287,\n",
       "  'original_glcm_clustShade_3D_Min': -1501165.0044732834,\n",
       "  'original_glcm_clustShade_3D_Max': -1389238.0023481352,\n",
       "  'original_glcm_clustPromin_3D_avg': 395667134.71442354,\n",
       "  'original_glcm_clustPromin_3D_Median': 393624331.2746313,\n",
       "  'original_glcm_clustPromin_3D_StdDev': 10518343.844219586,\n",
       "  'original_glcm_clustPromin_3D_Min': 375626260.80008847,\n",
       "  'original_glcm_clustPromin_3D_Max': 411234497.17761165,\n",
       "  'original_glcm_haralickCorr_3D_avg': 386237302.1575152,\n",
       "  'original_glcm_haralickCorr_3D_Median': 386269659.91422814,\n",
       "  'original_glcm_haralickCorr_3D_StdDev': 3086643.2875534073,\n",
       "  'original_glcm_haralickCorr_3D_Min': 381738799.8208521,\n",
       "  'original_glcm_haralickCorr_3D_Max': 391504957.84521604,\n",
       "  'original_glcm_autoCorr_3D_avg': 38791.79121529977,\n",
       "  'original_glcm_autoCorr_3D_Median': 38822.38108939258,\n",
       "  'original_glcm_autoCorr_3D_StdDev': 64.77736141489389,\n",
       "  'original_glcm_autoCorr_3D_Min': 38668.78390341529,\n",
       "  'original_glcm_autoCorr_3D_Max': 38873.50489877332,\n",
       "  'original_glcm_firstInfCorr_3D_avg': -0.246267039047833,\n",
       "  'original_glcm_firstInfCorr_3D_Median': -0.23577466346666162,\n",
       "  'original_glcm_firstInfCorr_3D_StdDev': 0.046043032957414444,\n",
       "  'original_glcm_firstInfCorr_3D_Min': -0.36748219760181805,\n",
       "  'original_glcm_firstInfCorr_3D_Max': -0.19903986046663177,\n",
       "  'original_glcm_secondInfCorr_3D_avg': 0.9696461205656678,\n",
       "  'original_glcm_secondInfCorr_3D_Median': 0.9691749467542068,\n",
       "  'original_glcm_secondInfCorr_3D_StdDev': 0.012381809036311947,\n",
       "  'original_glcm_secondInfCorr_3D_Min': 0.9516359283312305,\n",
       "  'original_glcm_secondInfCorr_3D_Max': 0.9937686912558806,\n",
       "  'original_glrlm_shortRunEmphasis_3D_avg': 0.9244163544328394,\n",
       "  'original_glrlm_shortRunEmphasis_3D_Median': 0.9280652257175882,\n",
       "  'original_glrlm_shortRunEmphasis_3D_StdDev': 0.012661504017171263,\n",
       "  'original_glrlm_shortRunEmphasis_3D_Min': 0.8956566494719554,\n",
       "  'original_glrlm_shortRunEmphasis_3D_Max': 0.9369338572480324,\n",
       "  'original_glrlm_longRunEmphasis_3D_avg': 1.4189597000292204,\n",
       "  'original_glrlm_longRunEmphasis_3D_Median': 1.359249852881965,\n",
       "  'original_glrlm_longRunEmphasis_3D_StdDev': 0.1868300440540426,\n",
       "  'original_glrlm_longRunEmphasis_3D_Min': 1.3058761692595886,\n",
       "  'original_glrlm_longRunEmphasis_3D_Max': 2.008265563225925,\n",
       "  'original_glrlm_grayLevelNonUniformity_3D_avg': 8637.857783112857,\n",
       "  'original_glrlm_grayLevelNonUniformity_3D_Median': 8771.613036538438,\n",
       "  'original_glrlm_grayLevelNonUniformity_3D_StdDev': 415.93418738159306,\n",
       "  'original_glrlm_grayLevelNonUniformity_3D_Min': 7381.876149701948,\n",
       "  'original_glrlm_grayLevelNonUniformity_3D_Max': 8939.781494757623,\n",
       "  'original_glrlm_grayLevelNonUniformityNorm_3D_avg': 0.026984006551592627,\n",
       "  'original_glrlm_grayLevelNonUniformityNorm_3D_Median': 0.027135127696424653,\n",
       "  'original_glrlm_grayLevelNonUniformityNorm_3D_StdDev': 0.0005611412381557514,\n",
       "  'original_glrlm_grayLevelNonUniformityNorm_3D_Min': 0.02520254607241312,\n",
       "  'original_glrlm_grayLevelNonUniformityNorm_3D_Max': 0.02731898133388835,\n",
       "  'original_glrlm_runLengthNonUniformity_3D_avg': 263054.2561803703,\n",
       "  'original_glrlm_runLengthNonUniformity_3D_Median': 267484.07440146187,\n",
       "  'original_glrlm_runLengthNonUniformity_3D_StdDev': 15197.609735582397,\n",
       "  'original_glrlm_runLengthNonUniformity_3D_Min': 224832.49970297233,\n",
       "  'original_glrlm_runLengthNonUniformity_3D_Max': 277390.8312110183,\n",
       "  'original_glrlm_runLengthNonUniformityNorm_3D_avg': 0.8215695675387256,\n",
       "  'original_glrlm_runLengthNonUniformityNorm_3D_Median': 0.8284575042632077,\n",
       "  'original_glrlm_runLengthNonUniformityNorm_3D_StdDev': 0.025340166865297584,\n",
       "  'original_glrlm_runLengthNonUniformityNorm_3D_Min': 0.7676031563559563,\n",
       "  'original_glrlm_runLengthNonUniformityNorm_3D_Max': 0.847704959264374,\n",
       "  'original_glrlm_runPercentage_3D_avg': 0.8942060178571083,\n",
       "  'original_glrlm_runPercentage_3D_Median': 0.9024033718197038,\n",
       "  'original_glrlm_runPercentage_3D_StdDev': 0.026049355504504195,\n",
       "  'original_glrlm_runPercentage_3D_Min': 0.8186445083554833,\n",
       "  'original_glrlm_runPercentage_3D_Max': 0.9146088895969412,\n",
       "  'original_glrlm_lowGrayLevelRunEmphasis_3D_avg': 5.809050932043953e-05,\n",
       "  'original_glrlm_lowGrayLevelRunEmphasis_3D_Median': 5.789656871078242e-05,\n",
       "  'original_glrlm_lowGrayLevelRunEmphasis_3D_StdDev': 7.701257970586908e-07,\n",
       "  'original_glrlm_lowGrayLevelRunEmphasis_3D_Min': 5.7572821550466265e-05,\n",
       "  'original_glrlm_lowGrayLevelRunEmphasis_3D_Max': 6.055554265865738e-05,\n",
       "  'original_glrlm_highGrayLevelRunEmphasis_3D_avg': 37953.63887944182,\n",
       "  'original_glrlm_highGrayLevelRunEmphasis_3D_Median': 38014.87086266843,\n",
       "  'original_glrlm_highGrayLevelRunEmphasis_3D_StdDev': 168.15409015724475,\n",
       "  'original_glrlm_highGrayLevelRunEmphasis_3D_Min': 37428.812787212104,\n",
       "  'original_glrlm_highGrayLevelRunEmphasis_3D_Max': 38069.10599962718,\n",
       "  'original_glrlm_shortRunLowGrayLevelEmphasis_3D_avg': 5.544358621116646e-05,\n",
       "  'original_glrlm_shortRunLowGrayLevelEmphasis_3D_Median': 5.5438420017847075e-05,\n",
       "  'original_glrlm_shortRunLowGrayLevelEmphasis_3D_StdDev': 5.24410502595278e-07,\n",
       "  'original_glrlm_shortRunLowGrayLevelEmphasis_3D_Min': 5.4617840310958867e-05,\n",
       "  'original_glrlm_shortRunLowGrayLevelEmphasis_3D_Max': 5.692645518722546e-05,\n",
       "  'original_glrlm_shortRunHighGrayLevelEmphasis_3D_avg': 34694.15258080933,\n",
       "  'original_glrlm_shortRunHighGrayLevelEmphasis_3D_Median': 34905.9657038176,\n",
       "  'original_glrlm_shortRunHighGrayLevelEmphasis_3D_StdDev': 693.749806350816,\n",
       "  'original_glrlm_shortRunHighGrayLevelEmphasis_3D_Min': 32915.371301870815,\n",
       "  'original_glrlm_shortRunHighGrayLevelEmphasis_3D_Max': 35341.7278596433,\n",
       "  'original_glrlm_longRunLowGrayLevelEmphasis_3D_avg': 7.186395011927987e-05,\n",
       "  'original_glrlm_longRunLowGrayLevelEmphasis_3D_Median': 6.969392379635826e-05,\n",
       "  'original_glrlm_longRunLowGrayLevelEmphasis_3D_StdDev': 6.555620237287423e-06,\n",
       "  'original_glrlm_longRunLowGrayLevelEmphasis_3D_Min': 6.744777071032707e-05,\n",
       "  'original_glrlm_longRunLowGrayLevelEmphasis_3D_Max': 9.186229161687752e-05,\n",
       "  'original_glrlm_longRunHighGrayLevelEmphasis_3D_avg': 56114.33871698334,\n",
       "  'original_glrlm_longRunHighGrayLevelEmphasis_3D_Median': 53590.30786384613,\n",
       "  'original_glrlm_longRunHighGrayLevelEmphasis_3D_StdDev': 7978.383464630926,\n",
       "  'original_glrlm_longRunHighGrayLevelEmphasis_3D_Min': 51335.849356888124,\n",
       "  'original_glrlm_longRunHighGrayLevelEmphasis_3D_Max': 81361.52522686768,\n",
       "  'original_glrlm_grayLevelVariance_3D_avg': 2133.0584559054582,\n",
       "  'original_glrlm_grayLevelVariance_3D_Median': 2122.631683978328,\n",
       "  'original_glrlm_grayLevelVariance_3D_StdDev': 37.572720139792416,\n",
       "  'original_glrlm_grayLevelVariance_3D_Min': 2108.08595366953,\n",
       "  'original_glrlm_grayLevelVariance_3D_Max': 2251.6858128641634,\n",
       "  'original_glrlm_runLengthVariance_3D_avg': 0.16514904272821937,\n",
       "  'original_glrlm_runLengthVariance_3D_Median': 0.13124924654326636,\n",
       "  'original_glrlm_runLengthVariance_3D_StdDev': 0.10810231737716504,\n",
       "  'original_glrlm_runLengthVariance_3D_Min': 0.11043237032599577,\n",
       "  'original_glrlm_runLengthVariance_3D_Max': 0.5161265196553445,\n",
       "  'original_glrlm_runEntropy_3D_avg': 6.635455087534641,\n",
       "  'original_glrlm_runEntropy_3D_Median': 6.601524273589025,\n",
       "  'original_glrlm_runEntropy_3D_StdDev': 0.11276667489171717,\n",
       "  'original_glrlm_runEntropy_3D_Min': 6.541350086411083,\n",
       "  'original_glrlm_runEntropy_3D_Max': 6.953847793004961,\n",
       "  'original_glszm_smallAreaEmphasis_3D': 0.7699390084532853,\n",
       "  'original_glszm_largeAreaEmphasis_3D': 10074.995813308688,\n",
       "  'original_glszm_grayLevelNonUniformity_3D': 908.0332902033272,\n",
       "  'original_glszm_grayLevelNonUniformityNorm_3D': 0.008392174585982692,\n",
       "  'original_glszm_sizeZoneNonUniformity_3D': 59612.21645101663,\n",
       "  'original_glszm_sizeZoneNonUniformityNorm_3D': 0.5509446991776029,\n",
       "  'original_glszm_zonePercentage_3D': 0.30241287462722444,\n",
       "  'original_glszm_lowGrayLevelZoneEmphasis_3D': 9.203630584560337e-05,\n",
       "  'original_glszm_highGrayLevelZoneEmphasis_3D': 29395.877097966728,\n",
       "  'original_glszm_smallAreaLowGrayLevelEmphasis_3D': 7.21822789985804e-05,\n",
       "  'original_glszm_largeAreaHighGrayLevelEmphasis_3D': 442327674.40109056,\n",
       "  'original_glszm_smallAreaHighGrayLevelEmphasis_3D': 21431.54092013963,\n",
       "  'original_glszm_largeAreaLowGrayLevelEmphasis_3D': 0.2301020931219028,\n",
       "  'original_glszm_grayLevelVariance_3D': 3140.12554243562,\n",
       "  'original_glszm_sizeZoneVariance_3D': 10064.061300261972,\n",
       "  'original_glszm_zoneEntropy_3D': 8.777096921534254,\n",
       "  'original_gldm_lowDependenceEmphasis_3D': 0.02509001618279961,\n",
       "  'original_gldm_highDependenceEmphasis_3D': 444.38911481347947,\n",
       "  'original_gldm_lowGrayLevelCountEmphasis_3D': 5.5510987860629895e-05,\n",
       "  'original_gldm_highGrayLevelCountEmphasis_3D': 38517.467473846315,\n",
       "  'original_gldm_lowDependenceLowGrayLevelEmphasis_3D': 2.2866795334679046e-06,\n",
       "  'original_gldm_lowDependenceHighGrayLevelEmphasis_3D': 566.7160389308194,\n",
       "  'original_gldm_highDependenceLowGrayLevelEmphasis_3D': 0.014600507061443531,\n",
       "  'original_gldm_highDependenceHighGrayLevelEmphasis_3D': 19383979.88044909,\n",
       "  'original_gldm_grayLevelNonUniformity_3D': 10350.637959803124,\n",
       "  'original_gldm_grayLevelNonUniformityNorm_3D': 0.02892944713169808,\n",
       "  'original_gldm_dependenceCountNonuniformity_3D': 40759.48553197555,\n",
       "  'original_gldm_dependenceCountNonuniformityNorm_3D': 0.11392045460306367,\n",
       "  'original_gldm_dependenceCountPercentage_3D': 1.0,\n",
       "  'original_gldm_grayLevelVariance_3D': 2001.656387403275,\n",
       "  'original_gldm_dependenceCountVariance_3D': 76.72982757256094,\n",
       "  'original_gldm_dependenceCountEntropy_3D': 9.377570474701093,\n",
       "  'original_gldm_dependenceCountEnergy_3D': 0.006064942919221784,\n",
       "  'original_gtdm_coarseness_3D': 5.253684209732968e-05,\n",
       "  'original_gtdm_contrast_3D': 0.21427849480848804,\n",
       "  'original_gtdm_busyness_3D': 0.2404913758395598,\n",
       "  'original_gtdm_complexity_3D': 99920.95318266774,\n",
       "  'original_gtdm_strength_3D': 4.36290738682419},\n",
       " {'numVoxelsOrig': 125256,\n",
       "  'numVoxelsInterpReseg': 357789,\n",
       "  'meanIntensityInterpReseg': -47.046793272513675,\n",
       "  'maxIntensityInterpReseg': 295.8325774731678,\n",
       "  'minIntensityInterpReseg': -955.8830367401138})"
      ]
     },
     "execution_count": 8,
     "metadata": {},
     "output_type": "execute_result"
    }
   ],
   "source": [
    "featDict"
   ]
  }
 ],
 "metadata": {
  "accelerator": "GPU",
  "colab": {
   "gpuType": "T4",
   "provenance": []
  },
  "kernelspec": {
   "display_name": "Python 3 (ipykernel)",
   "language": "python",
   "name": "python3"
  },
  "language_info": {
   "codemirror_mode": {
    "name": "ipython",
    "version": 3
   },
   "file_extension": ".py",
   "mimetype": "text/x-python",
   "name": "python",
   "nbconvert_exporter": "python",
   "pygments_lexer": "ipython3",
   "version": "3.11.9"
  }
 },
 "nbformat": 4,
 "nbformat_minor": 4
}
