{
 "cells": [
  {
   "cell_type": "markdown",
   "metadata": {
    "id": "VWyuLDqzReAX"
   },
   "source": [
    "<a target=\"_blank\" href=\"https://colab.research.google.com/github/cerr/pyCERR-Notebooks/blob/main/batch_extract_radiomics_ex1.ipynb\">\n",
    "  <img src=\"https://colab.research.google.com/assets/colab-badge.svg\" alt=\"Open In Colab\"/>\n",
    "</a>"
   ]
  },
  {
   "cell_type": "markdown",
   "metadata": {
    "id": "6WiUG9DgPhrm"
   },
   "source": [
    "# Extract radiomics features from a batch of dicom datasets"
   ]
  },
  {
   "cell_type": "markdown",
   "metadata": {
    "id": "1ENjTdh_PyPu"
   },
   "source": [
    "The example below demonstrates extraction of radiomics features from CT scan and tumor segmentation for a batch of DICOM datasets."
   ]
  },
  {
   "cell_type": "markdown",
   "metadata": {
    "id": "_ftJtFB9O-IH"
   },
   "source": [
    "### Install pyCERR"
   ]
  },
  {
   "cell_type": "code",
   "execution_count": null,
   "metadata": {
    "id": "AiwvHy_3716I"
   },
   "outputs": [],
   "source": [
    "%%capture\n",
    "!pip install -U git+https://github.com/cerr/pyCERR/"
   ]
  },
  {
   "cell_type": "markdown",
   "metadata": {},
   "source": [
    "#### Define data location"
   ]
  },
  {
   "cell_type": "code",
   "execution_count": 1,
   "metadata": {},
   "outputs": [],
   "source": [
    "from cerr import datasets\n",
    "import os\n",
    "datasetsDir = os.path.dirname(datasets.__file__)\n",
    "phantom_dir = os.path.join(datasetsDir,'radiomics_phantom_dicom')\n",
    "pat_names = ['PAT1', 'PAT2', 'PAT3', 'PAT4']\n",
    "all_pat_dirs = [os.path.join(phantom_dir, pat) for pat in pat_names]"
   ]
  },
  {
   "cell_type": "markdown",
   "metadata": {},
   "source": [
    "#### Define location of settings file"
   ]
  },
  {
   "cell_type": "code",
   "execution_count": 2,
   "metadata": {},
   "outputs": [],
   "source": [
    "settingsFile = os.path.join(datasetsDir,\"radiomics_settings\",\"original_settings.json\")"
   ]
  },
  {
   "cell_type": "markdown",
   "metadata": {},
   "source": [
    "#### Define location of output csv file"
   ]
  },
  {
   "cell_type": "code",
   "execution_count": 3,
   "metadata": {},
   "outputs": [],
   "source": [
    "csvFileName = \"feats_from_original_image.csv\""
   ]
  },
  {
   "cell_type": "markdown",
   "metadata": {
    "id": "YyKVcPp1PBiC"
   },
   "source": [
    "### Loop over dicom directories and extract features"
   ]
  },
  {
   "cell_type": "markdown",
   "metadata": {},
   "source": [
    "The example datasets contain only one scan and one segmentation. Hence, `scanNum = 0` and `structNum = 0` is used in this exampple. In case of multiple scans and segmentations, users should find their appropriate indices as an input to `ibsi1.computeScalarFeatures`"
   ]
  },
  {
   "cell_type": "code",
   "execution_count": null,
   "metadata": {
    "colab": {
     "base_uri": "https://localhost:8080/"
    },
    "id": "-2-ccC7ABLq-",
    "outputId": "78d91af0-3f1d-4461-b693-a7ae55a63067"
   },
   "outputs": [],
   "source": [
    "import os\n",
    "from cerr import plan_container as pc\n",
    "from cerr.radiomics import ibsi1\n",
    "\n",
    "featList = []\n",
    "id = {}\n",
    "for pt_dir in all_pat_dirs:\n",
    "    print(\"Data dir :\" + pt_dir)\n",
    "    planC = pc.load_dcm_dir(pt_dir)\n",
    "    scanNum = 0\n",
    "    structNum = 0\n",
    "    featDict = ibsi1.computeScalarFeatures(scanNum, structNum, settingsFile, planC)\n",
    "    id['id'] = pt_dir\n",
    "    featDict = {**id, **featDict}\n",
    "    featList.append(featDict)\n",
    "ibsi1.writeFeaturesToFile(featList, csvFileName)\n"
   ]
  }
 ],
 "metadata": {
  "accelerator": "GPU",
  "colab": {
   "gpuType": "T4",
   "provenance": []
  },
  "kernelspec": {
   "display_name": "Python 3 (ipykernel)",
   "language": "python",
   "name": "python3"
  },
  "language_info": {
   "codemirror_mode": {
    "name": "ipython",
    "version": 3
   },
   "file_extension": ".py",
   "mimetype": "text/x-python",
   "name": "python",
   "nbconvert_exporter": "python",
   "pygments_lexer": "ipython3",
   "version": "3.8.18"
  }
 },
 "nbformat": 4,
 "nbformat_minor": 4
}
