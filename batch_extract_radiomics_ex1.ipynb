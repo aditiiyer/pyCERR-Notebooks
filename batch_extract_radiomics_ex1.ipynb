{
 "cells": [
  {
   "cell_type": "markdown",
   "metadata": {
    "id": "VWyuLDqzReAX"
   },
   "source": [
    "<a target=\"_blank\" href=\"https://colab.research.google.com/github/cerr/pyCERR-Notebooks/blob/main/batch_extract_radiomics_ex1.ipynb\">\n",
    "  <img src=\"https://colab.research.google.com/assets/colab-badge.svg\" alt=\"Open In Colab\"/>\n",
    "</a>"
   ]
  },
  {
   "cell_type": "markdown",
   "metadata": {
    "id": "6WiUG9DgPhrm"
   },
   "source": [
    "# Extract radiomics features from a batch of dicom datasets"
   ]
  },
  {
   "cell_type": "markdown",
   "metadata": {
    "id": "1ENjTdh_PyPu"
   },
   "source": [
    "The example below demonstrates extraction of radiomics features from CT scan and tumor segmentation for a batch of DICOM datasets."
   ]
  },
  {
   "cell_type": "markdown",
   "metadata": {
    "id": "_ftJtFB9O-IH"
   },
   "source": [
    "#### Install pyCERR"
   ]
  },
  {
   "cell_type": "code",
   "execution_count": null,
   "metadata": {
    "id": "AiwvHy_3716I"
   },
   "outputs": [],
   "source": [
    "%%capture\n",
    "!pip install \"pyCERR[napari] @ git+https://github.com/cerr/pyCERR\""
   ]
  },
  {
   "cell_type": "markdown",
   "metadata": {},
   "source": [
    "#### Install jsbeautifier to look at settings"
   ]
  },
  {
   "cell_type": "code",
   "execution_count": 2,
   "metadata": {},
   "outputs": [
    {
     "name": "stdout",
     "output_type": "stream",
     "text": [
      "Requirement already satisfied: jsbeautifier in c:\\users\\aptea\\miniconda3\\envs\\pycerr\\lib\\site-packages (1.15.1)\n",
      "Requirement already satisfied: six>=1.13.0 in c:\\users\\aptea\\miniconda3\\envs\\pycerr\\lib\\site-packages (from jsbeautifier) (1.16.0)\n",
      "Requirement already satisfied: editorconfig>=0.12.2 in c:\\users\\aptea\\miniconda3\\envs\\pycerr\\lib\\site-packages (from jsbeautifier) (0.12.4)\n"
     ]
    }
   ],
   "source": [
    "! pip install jsbeautifier"
   ]
  },
  {
   "cell_type": "markdown",
   "metadata": {},
   "source": [
    "#### Define data location"
   ]
  },
  {
   "cell_type": "code",
   "execution_count": 3,
   "metadata": {},
   "outputs": [],
   "source": [
    "from cerr import datasets\n",
    "import os\n",
    "datasetsDir = os.path.dirname(datasets.__file__)\n",
    "phantom_dir = os.path.join(datasetsDir,'radiomics_phantom_dicom')\n",
    "pat_names = ['PAT1', 'PAT2', 'PAT3', 'PAT4']\n",
    "all_pat_dirs = [os.path.join(phantom_dir, pat) for pat in pat_names]"
   ]
  },
  {
   "cell_type": "markdown",
   "metadata": {},
   "source": [
    "#### Define location of settings file"
   ]
  },
  {
   "cell_type": "code",
   "execution_count": 4,
   "metadata": {},
   "outputs": [],
   "source": [
    "settingsFile = os.path.join(datasetsDir,\"radiomics_settings\",\"original_settings.json\")"
   ]
  },
  {
   "cell_type": "code",
   "execution_count": 5,
   "metadata": {},
   "outputs": [
    {
     "name": "stdout",
     "output_type": "stream",
     "text": [
      "{\n",
      "    \"structures\": [\"tumor\"],\n",
      "    \"imageType\": {\n",
      "        \"Original\": {}\n",
      "    },\n",
      "    \"settings\": {\n",
      "        \"resample\": {\n",
      "            \"resolutionXCm\": 0.1,\n",
      "            \"resolutionYCm\": 0.1,\n",
      "            \"resolutionZCm\": 0.1,\n",
      "            \"interpMethod\": \"sitkLinear\",\n",
      "            \"inPlane\": \"yes\"\n",
      "        },\n",
      "        \"cropToMask\": {\n",
      "            \"method\": \"expand\",\n",
      "            \"size\": [6, 6, 6]\n",
      "        },\n",
      "        \"shape\": {\n",
      "            \"rcs\": []\n",
      "        },\n",
      "        \"firstOrder\": {\n",
      "            \"offsetForEnergy\": 1000,\n",
      "            \"binWidthEntropy\": 5\n",
      "        },\n",
      "        \"texture\": {\n",
      "            \"minSegThreshold\": -1000,\n",
      "            \"maxSegThreshold\": 300,\n",
      "            \"minClipIntensity\": -1000,\n",
      "            \"maxClipIntensity\": 300,\n",
      "            \"binwidth\": 5,\n",
      "            \"directionality\": \"3D\",\n",
      "            \"avgType\": \"feature\",\n",
      "            \"voxelOffset\": 1,\n",
      "            \"patchRadiusVox\": [1, 1, 1],\n",
      "            \"imgDiffThresh\": 5\n",
      "        }\n",
      "    },\n",
      "    \"featureClass\": {\n",
      "        \"shape\": {\n",
      "            \"featureList\": [\"all\"]\n",
      "        },\n",
      "        \"firstOrder\": {\n",
      "            \"featureList\": [\"all\"]\n",
      "        },\n",
      "        \"glcm\": {\n",
      "            \"featureList\": [\"all\"]\n",
      "        },\n",
      "        \"glrlm\": {\n",
      "            \"featureList\": [\"all\"]\n",
      "        },\n",
      "        \"glszm\": {\n",
      "            \"featureList\": [\"all\"]\n",
      "        },\n",
      "        \"gldm\": {\n",
      "            \"featureList\": [\"all\"]\n",
      "        },\n",
      "        \"gtdm\": {\n",
      "            \"featureList\": [\"all\"]\n",
      "        }\n",
      "    },\n",
      "    \"Author\": {\n",
      "        \"name\": \"Aditya Apte\",\n",
      "        \"email\": \"aptea@mskcc.org\",\n",
      "        \"date\": \"06/12/23\"\n",
      "    }\n",
      "}\n"
     ]
    }
   ],
   "source": [
    "import json, jsbeautifier\n",
    "from cerr.radiomics import textureUtils\n",
    "\n",
    "with open(settingsFile, ) as settingsFid:\n",
    "    radiomicsSettingS = json.load(settingsFid)\n",
    "\n",
    "options = jsbeautifier.default_options()\n",
    "options.indent_size = 4\n",
    "\n",
    "# Display settings\n",
    "print(jsbeautifier.beautify(json.dumps(radiomicsSettingS), options))\n"
   ]
  },
  {
   "cell_type": "markdown",
   "metadata": {},
   "source": [
    "#### Define location of output csv file"
   ]
  },
  {
   "cell_type": "code",
   "execution_count": 6,
   "metadata": {},
   "outputs": [],
   "source": [
    "csvFileName = \"feats_from_original_image.csv\""
   ]
  },
  {
   "cell_type": "markdown",
   "metadata": {
    "id": "YyKVcPp1PBiC"
   },
   "source": [
    "### Loop over dicom directories and extract features"
   ]
  },
  {
   "cell_type": "markdown",
   "metadata": {},
   "source": [
    "The example datasets contain only one scan and one segmentation. Hence, `scanNum = 0` and `structNum = 0` is used in this exampple. In case of multiple scans and segmentations, users should find their appropriate indices as an input to `ibsi1.computeScalarFeatures`"
   ]
  },
  {
   "cell_type": "code",
   "execution_count": 7,
   "metadata": {
    "colab": {
     "base_uri": "https://localhost:8080/"
    },
    "id": "-2-ccC7ABLq-",
    "outputId": "78d91af0-3f1d-4461-b693-a7ae55a63067"
   },
   "outputs": [
    {
     "name": "stdout",
     "output_type": "stream",
     "text": [
      "Data dir :C:\\software\\pyCERR_master\\pyCERR\\cerr\\datasets\\radiomics_phantom_dicom\\PAT1\n",
      "('PAT1', 'PAT1', '1.3.6.1.4.1.9590.100.1.2.96328687310426543129572151154132284399', '1.3.6.1.4.1.9590.100.1.2.258301620411152643708006163321128526885', 'RTSTRUCT', 'RTSTRUCT', 'RTSTRUCT', 'RTSTRUCT', 'RTSTRUCT', 'RTSTRUCT', 'RTSTRUCT')\n",
      "('PAT1', 'PAT1', '1.3.6.1.4.1.9590.100.1.2.96328687310426543129572151154132284399', '1.3.6.1.4.1.9590.100.1.2.296658988911737913102339329841519593982', 'CT', 'CT', 'CT', 'CT', 'CT', 'CT', 'CT')\n",
      "Data dir :C:\\software\\pyCERR_master\\pyCERR\\cerr\\datasets\\radiomics_phantom_dicom\\PAT2\n",
      "('PAT2', 'PAT2', '1.3.6.1.4.1.9590.100.1.2.186722590312853886701735768582616095132', '1.3.6.1.4.1.9590.100.1.2.16016500911558447542485925491404262309', 'CT', 'CT', 'CT', 'CT', 'CT', 'CT', 'CT')\n",
      "('PAT2', 'PAT2', '1.3.6.1.4.1.9590.100.1.2.186722590312853886701735768582616095132', '1.3.6.1.4.1.9590.100.1.2.83077934412344456434331598470407844553', 'RTSTRUCT', 'RTSTRUCT', 'RTSTRUCT', 'RTSTRUCT', 'RTSTRUCT', 'RTSTRUCT', 'RTSTRUCT')\n",
      "Data dir :C:\\software\\pyCERR_master\\pyCERR\\cerr\\datasets\\radiomics_phantom_dicom\\PAT3\n",
      "('PAT3', 'PAT3', '1.3.6.1.4.1.9590.100.1.2.409070330913773454628579649303466119021', '1.3.6.1.4.1.9590.100.1.2.351624503710776750911285093361744472924', 'CT', 'CT', 'CT', 'CT', 'CT', 'CT', 'CT')\n",
      "('PAT3', 'PAT3', '1.3.6.1.4.1.9590.100.1.2.409070330913773454628579649303466119021', '1.3.6.1.4.1.9590.100.1.2.357624831212820688235812622582660063404', 'RTSTRUCT', 'RTSTRUCT', 'RTSTRUCT', 'RTSTRUCT', 'RTSTRUCT', 'RTSTRUCT', 'RTSTRUCT')\n",
      "Data dir :C:\\software\\pyCERR_master\\pyCERR\\cerr\\datasets\\radiomics_phantom_dicom\\PAT4\n",
      "('PAT4', 'PAT4', '1.3.6.1.4.1.9590.100.1.2.136596769910803090206945148270543894255', '1.3.6.1.4.1.9590.100.1.2.106284251511039171728979245242481617976', 'RTSTRUCT', 'RTSTRUCT', 'RTSTRUCT', 'RTSTRUCT', 'RTSTRUCT', 'RTSTRUCT', 'RTSTRUCT')\n",
      "('PAT4', 'PAT4', '1.3.6.1.4.1.9590.100.1.2.136596769910803090206945148270543894255', '1.3.6.1.4.1.9590.100.1.2.302171868711114827615998050902174932584', 'CT', 'CT', 'CT', 'CT', 'CT', 'CT', 'CT')\n"
     ]
    }
   ],
   "source": [
    "import os\n",
    "from cerr import plan_container as pc\n",
    "from cerr.radiomics import ibsi1\n",
    "\n",
    "featList = []\n",
    "id = {}\n",
    "for pt_dir in all_pat_dirs:\n",
    "    print(\"Data dir :\" + pt_dir)\n",
    "    planC = pc.loadDcmDir(pt_dir)\n",
    "    scanNum = 0\n",
    "    structNum = 0\n",
    "    featDict, diagnDict = ibsi1.computeScalarFeatures(scanNum, structNum, settingsFile, planC)\n",
    "    id['id'] = pt_dir\n",
    "    featDict = {**id, **featDict}\n",
    "    featList.append(featDict)\n",
    "ibsi1.writeFeaturesToFile(featList, csvFileName)\n"
   ]
  },
  {
   "cell_type": "code",
   "execution_count": 8,
   "metadata": {},
   "outputs": [
    {
     "data": {
      "text/plain": [
       "{'id': 'C:\\\\software\\\\pyCERR_master\\\\pyCERR\\\\cerr\\\\datasets\\\\radiomics_phantom_dicom\\\\PAT4',\n",
       " 'numVoxelsOrig': 43124,\n",
       " 'numVoxelsInterpReseg': 41088,\n",
       " 'meanIntensityInterpReseg': -32.92093986604281,\n",
       " 'maxIntensityInterpReseg': 296.2415679998811,\n",
       " 'minIntensityInterpReseg': -995.0550400000018,\n",
       " 'original_shape_majorAxis': 64.84245767210504,\n",
       " 'original_shape_minorAxis': 50.96615452328087,\n",
       " 'original_shape_leastAxis': 17.80980619444119,\n",
       " 'original_shape_flatness': 0.2746627261493035,\n",
       " 'original_shape_elongation': 0.7859997346338448,\n",
       " 'original_shape_max2dDiameterAxialPlane': 77.41446893184762,\n",
       " 'original_shape_max2dDiameterSagittalPlane': 65.06919393998976,\n",
       " 'original_shape_max2dDiameterCoronalPlane': 68.18357573492314,\n",
       " 'original_shape_surfArea': 10462.930125687146,\n",
       " 'original_shape_max3dDiameter': 78.2943165242531,\n",
       " 'original_shape_volume': 41101.99999999971,\n",
       " 'original_shape_filledVolume': 41101.99999999971,\n",
       " 'original_shape_volumeDensityAABB': 0.3085735735735736,\n",
       " 'original_shape_Compactness1': 0.02166746137636614,\n",
       " 'original_shape_Compactness2': 0.16680855041655038,\n",
       " 'original_shape_spherDisprop': 1.8166052455147224,\n",
       " 'original_shape_sphericity': 0.5504773271292942,\n",
       " 'original_shape_surfToVolRatio': 0.25456012178695003,\n",
       " 'original_firstOrder_min': -995.0550400000018,\n",
       " 'original_firstOrder_max': 296.2415679998811,\n",
       " 'original_firstOrder_mean': -32.92093986604281,\n",
       " 'original_firstOrder_range': 1291.2966079998828,\n",
       " 'original_firstOrder_std': 128.98297896136773,\n",
       " 'original_firstOrder_var': 16636.60886174863,\n",
       " 'original_firstOrder_median': 12.326351999998042,\n",
       " 'original_firstOrder_skewness': -3.038227705311556,\n",
       " 'original_firstOrder_kurtosis': 10.340456447240234,\n",
       " 'original_firstOrder_entropy': 5.361074869219041,\n",
       " 'original_firstOrder_rms': 975.6426176686455,\n",
       " 'original_firstOrder_energy': 39110784523.39659,\n",
       " 'original_firstOrder_totalEnergy': 39110784523.3966,\n",
       " 'original_firstOrder_meanAbsDev': 80.68841253459563,\n",
       " 'original_firstOrder_medianAbsDev': 63.356817093456876,\n",
       " 'original_firstOrder_P10': -175.79124799997996,\n",
       " 'original_firstOrder_P90': 40.09560960000418,\n",
       " 'original_firstOrder_robustMeanAbsDev': 30.29596500034994,\n",
       " 'original_firstOrder_robustMedianAbsDev': 26.975702001824544,\n",
       " 'original_firstOrder_interQuartileRange': 46.885055999989454,\n",
       " 'original_firstOrder_coeffDispersion': 5.646646677504274,\n",
       " 'original_firstOrder_coeffVariation': -3.9179616221835363,\n",
       " 'original_glcm_energy_3D_avg': 0.003878528,\n",
       " 'original_glcm_energy_3D_Median': 0.0037682687,\n",
       " 'original_glcm_energy_3D_StdDev': 0.00034063662,\n",
       " 'original_glcm_energy_3D_Min': 0.0037050506,\n",
       " 'original_glcm_energy_3D_Max': 0.004964509,\n",
       " 'original_glcm_jointEntropy_3D_avg': 9.610772,\n",
       " 'original_glcm_jointEntropy_3D_Median': 9.6391735,\n",
       " 'original_glcm_jointEntropy_3D_StdDev': 0.09265118,\n",
       " 'original_glcm_jointEntropy_3D_Min': 9.320906,\n",
       " 'original_glcm_jointEntropy_3D_Max': 9.680033,\n",
       " 'original_glcm_jointMax_3D_avg': 0.0110595925,\n",
       " 'original_glcm_jointMax_3D_Median': 0.010672923,\n",
       " 'original_glcm_jointMax_3D_StdDev': 0.0013287064,\n",
       " 'original_glcm_jointMax_3D_Min': 0.01004832,\n",
       " 'original_glcm_jointMax_3D_Max': 0.015117819,\n",
       " 'original_glcm_jointAvg_3D_avg': 196.84999453519418,\n",
       " 'original_glcm_jointAvg_3D_Median': 197.58043368151993,\n",
       " 'original_glcm_jointAvg_3D_StdDev': 1.2061309562641378,\n",
       " 'original_glcm_jointAvg_3D_Min': 194.91021723697486,\n",
       " 'original_glcm_jointAvg_3D_Max': 197.75511972810455,\n",
       " 'original_glcm_jointVar_3D_avg': 460.29359086140204,\n",
       " 'original_glcm_jointVar_3D_Median': 413.61063296770567,\n",
       " 'original_glcm_jointVar_3D_StdDev': 80.12769102624398,\n",
       " 'original_glcm_jointVar_3D_Min': 399.2495397857145,\n",
       " 'original_glcm_jointVar_3D_Max': 589.4885263774482,\n",
       " 'original_glcm_sumAvg_3D_avg': 393.6999898302575,\n",
       " 'original_glcm_sumAvg_3D_Median': 395.1608727707244,\n",
       " 'original_glcm_sumAvg_3D_StdDev': 2.4122625802933775,\n",
       " 'original_glcm_sumAvg_3D_Min': 389.82043233645527,\n",
       " 'original_glcm_sumAvg_3D_Max': 395.5102397838855,\n",
       " 'original_glcm_sumVar_3D_avg': 1507.719997260764,\n",
       " 'original_glcm_sumVar_3D_Median': 1263.2623345267552,\n",
       " 'original_glcm_sumVar_3D_StdDev': 459.20020204576514,\n",
       " 'original_glcm_sumVar_3D_Min': 1125.4913650723809,\n",
       " 'original_glcm_sumVar_3D_Max': 2264.748127273302,\n",
       " 'original_glcm_sumEntropy_3D_avg': 5.963882039752946,\n",
       " 'original_glcm_sumEntropy_3D_Median': 5.889816557482389,\n",
       " 'original_glcm_sumEntropy_3D_StdDev': 0.13003735019231577,\n",
       " 'original_glcm_sumEntropy_3D_Min': 5.868236289863607,\n",
       " 'original_glcm_sumEntropy_3D_Max': 6.2194378939694595,\n",
       " 'original_glcm_contrast_3D_avg': 333.454371798497,\n",
       " 'original_glcm_contrast_3D_Median': 396.1241479367018,\n",
       " 'original_glcm_contrast_3D_StdDev': 140.26424078821998,\n",
       " 'original_glcm_contrast_3D_Min': 93.20597630739212,\n",
       " 'original_glcm_contrast_3D_Max': 471.5067786127329,\n",
       " 'original_glcm_invDiffMom_3D_avg': 0.20357530732596002,\n",
       " 'original_glcm_invDiffMom_3D_Median': 0.19196509276061047,\n",
       " 'original_glcm_invDiffMom_3D_StdDev': 0.029399771043458898,\n",
       " 'original_glcm_invDiffMom_3D_Min': 0.1840206864158953,\n",
       " 'original_glcm_invDiffMom_3D_Max': 0.2869991957318361,\n",
       " 'original_glcm_invDiffMomNorm_3D_avg': 0.9954252818037136,\n",
       " 'original_glcm_invDiffMomNorm_3D_Median': 0.9945574233624939,\n",
       " 'original_glcm_invDiffMomNorm_3D_StdDev': 0.0018641439838884687,\n",
       " 'original_glcm_invDiffMomNorm_3D_Min': 0.9936635245849175,\n",
       " 'original_glcm_invDiffMomNorm_3D_Max': 0.9986532640959922,\n",
       " 'original_glcm_invDiff_3D_avg': 0.2854496183670906,\n",
       " 'original_glcm_invDiff_3D_Median': 0.2732346044468983,\n",
       " 'original_glcm_invDiff_3D_StdDev': 0.028593265113709746,\n",
       " 'original_glcm_invDiff_3D_Min': 0.2660875568900849,\n",
       " 'original_glcm_invDiff_3D_Max': 0.36383658854708756,\n",
       " 'original_glcm_invDiffNorm_3D_avg': 0.9690701099771104,\n",
       " 'original_glcm_invDiffNorm_3D_Median': 0.9655545360419637,\n",
       " 'original_glcm_invDiffNorm_3D_StdDev': 0.006242326066942536,\n",
       " 'original_glcm_invDiffNorm_3D_Min': 0.9641300732091622,\n",
       " 'original_glcm_invDiffNorm_3D_Max': 0.9817314617630473,\n",
       " 'original_glcm_invVar_3D_avg': 0.21023357093426162,\n",
       " 'original_glcm_invVar_3D_Median': 0.19961674612874591,\n",
       " 'original_glcm_invVar_3D_StdDev': 0.028150478843722335,\n",
       " 'original_glcm_invVar_3D_Min': 0.18967807334985992,\n",
       " 'original_glcm_invVar_3D_Max': 0.2891791977924396,\n",
       " 'original_glcm_dissimilarity_3D_avg': 9.074811104917899,\n",
       " 'original_glcm_dissimilarity_3D_Median': 10.181344933109358,\n",
       " 'original_glcm_dissimilarity_3D_StdDev': 2.031177451799286,\n",
       " 'original_glcm_dissimilarity_3D_Min': 5.067143015912734,\n",
       " 'original_glcm_dissimilarity_3D_Max': 10.746348486747593,\n",
       " 'original_glcm_diffEntropy_3D_avg': 4.405529817332631,\n",
       " 'original_glcm_diffEntropy_3D_Median': 4.574877597183705,\n",
       " 'original_glcm_diffEntropy_3D_StdDev': 0.2961088944789723,\n",
       " 'original_glcm_diffEntropy_3D_Min': 3.724161876930607,\n",
       " 'original_glcm_diffEntropy_3D_Max': 4.6271969652077045,\n",
       " 'original_glcm_diffVar_3D_avg': 247.2938544008867,\n",
       " 'original_glcm_diffVar_3D_Median': 292.46436306776053,\n",
       " 'original_glcm_diffVar_3D_StdDev': 107.36889698717394,\n",
       " 'original_glcm_diffVar_3D_Min': 67.53003705447287,\n",
       " 'original_glcm_diffVar_3D_Max': 356.022769189743,\n",
       " 'original_glcm_diffAvg_3D_avg': 9.074811104917899,\n",
       " 'original_glcm_diffAvg_3D_Median': 10.181344933109358,\n",
       " 'original_glcm_diffAvg_3D_StdDev': 2.031177451799286,\n",
       " 'original_glcm_diffAvg_3D_Min': 5.067143015912734,\n",
       " 'original_glcm_diffAvg_3D_Max': 10.746348486747593,\n",
       " 'original_glcm_corr_3D_avg': 0.6070249335277049,\n",
       " 'original_glcm_corr_3D_Median': 0.5250205842967585,\n",
       " 'original_glcm_corr_3D_StdDev': 0.1937413680588527,\n",
       " 'original_glcm_corr_3D_Min': 0.409508680558669,\n",
       " 'original_glcm_corr_3D_Max': 0.9209433515955688,\n",
       " 'original_glcm_clustTendency_3D_avg': 1507.719991566344,\n",
       " 'original_glcm_clustTendency_3D_Median': 1263.2623484382343,\n",
       " 'original_glcm_clustTendency_3D_StdDev': 459.20019787205564,\n",
       " 'original_glcm_clustTendency_3D_Min': 1125.4913790658622,\n",
       " 'original_glcm_clustTendency_3D_Max': 2264.74812857893,\n",
       " 'original_glcm_clustShade_3D_avg': -200862.3292914031,\n",
       " 'original_glcm_clustShade_3D_Median': -159667.86925052875,\n",
       " 'original_glcm_clustShade_3D_StdDev': 85578.07236882886,\n",
       " 'original_glcm_clustShade_3D_Min': -343271.4609586837,\n",
       " 'original_glcm_clustShade_3D_Max': -122645.97548800193,\n",
       " 'original_glcm_clustPromin_3D_avg': 40177115.62925491,\n",
       " 'original_glcm_clustPromin_3D_Median': 30937175.658753593,\n",
       " 'original_glcm_clustPromin_3D_StdDev': 20648940.17775978,\n",
       " 'original_glcm_clustPromin_3D_Min': 20288771.72444264,\n",
       " 'original_glcm_clustPromin_3D_Max': 75098774.82124017,\n",
       " 'original_glcm_haralickCorr_3D_avg': 215680330.23935202,\n",
       " 'original_glcm_haralickCorr_3D_Median': 208988767.99091962,\n",
       " 'original_glcm_haralickCorr_3D_StdDev': 11178346.968589818,\n",
       " 'original_glcm_haralickCorr_3D_Min': 207410904.8917908,\n",
       " 'original_glcm_haralickCorr_3D_Max': 233562674.01280507,\n",
       " 'original_glcm_autoCorr_3D_avg': 39044.82963421589,\n",
       " 'original_glcm_autoCorr_3D_Median': 39235.41660152402,\n",
       " 'original_glcm_autoCorr_3D_StdDev': 324.67172022073356,\n",
       " 'original_glcm_autoCorr_3D_Min': 38532.878397843306,\n",
       " 'original_glcm_autoCorr_3D_Max': 39270.58363071688,\n",
       " 'original_glcm_firstInfCorr_3D_avg': -0.11366646408749324,\n",
       " 'original_glcm_firstInfCorr_3D_Median': -0.08237349338590264,\n",
       " 'original_glcm_firstInfCorr_3D_StdDev': 0.05360759784372631,\n",
       " 'original_glcm_firstInfCorr_3D_Min': -0.2348771513256556,\n",
       " 'original_glcm_firstInfCorr_3D_Max': -0.0752503965130272,\n",
       " 'original_glcm_secondInfCorr_3D_avg': 0.801102243423518,\n",
       " 'original_glcm_secondInfCorr_3D_Median': 0.7506096576693603,\n",
       " 'original_glcm_secondInfCorr_3D_StdDev': 0.08622161902859231,\n",
       " 'original_glcm_secondInfCorr_3D_Min': 0.7277856873688601,\n",
       " 'original_glcm_secondInfCorr_3D_Max': 0.9572385657195205,\n",
       " 'original_glrlm_shortRunEmphasis_3D_avg': 0.9471498020167591,\n",
       " 'original_glrlm_shortRunEmphasis_3D_Median': 0.9527616273193271,\n",
       " 'original_glrlm_shortRunEmphasis_3D_StdDev': 0.012024590805644277,\n",
       " 'original_glrlm_shortRunEmphasis_3D_Min': 0.9138432478491266,\n",
       " 'original_glrlm_shortRunEmphasis_3D_Max': 0.9557135069201713,\n",
       " 'original_glrlm_longRunEmphasis_3D_avg': 1.2499013236912384,\n",
       " 'original_glrlm_longRunEmphasis_3D_Median': 1.217050032488629,\n",
       " 'original_glrlm_longRunEmphasis_3D_StdDev': 0.06755722761250338,\n",
       " 'original_glrlm_longRunEmphasis_3D_Min': 1.2045672267819694,\n",
       " 'original_glrlm_longRunEmphasis_3D_Max': 1.4422293204097367,\n",
       " 'original_glrlm_grayLevelNonUniformity_3D_avg': 1617.3485283090802,\n",
       " 'original_glrlm_grayLevelNonUniformity_3D_Median': 1633.7051704884825,\n",
       " 'original_glrlm_grayLevelNonUniformity_3D_StdDev': 36.12776732542006,\n",
       " 'original_glrlm_grayLevelNonUniformity_3D_Min': 1512.0462055292433,\n",
       " 'original_glrlm_grayLevelNonUniformity_3D_Max': 1644.1074748207027,\n",
       " 'original_glrlm_grayLevelNonUniformityNorm_3D_avg': 0.04238502610573587,\n",
       " 'original_glrlm_grayLevelNonUniformityNorm_3D_Median': 0.04244434149057686,\n",
       " 'original_glrlm_grayLevelNonUniformityNorm_3D_StdDev': 0.00023614992022990208,\n",
       " 'original_glrlm_grayLevelNonUniformityNorm_3D_Min': 0.04163581356782805,\n",
       " 'original_glrlm_grayLevelNonUniformityNorm_3D_Max': 0.042568093488871986,\n",
       " 'original_glrlm_runLengthNonUniformity_3D_avg': 33243.15319373392,\n",
       " 'original_glrlm_runLengthNonUniformity_3D_Median': 33979.1003768681,\n",
       " 'original_glrlm_runLengthNonUniformity_3D_StdDev': 1555.5337310946747,\n",
       " 'original_glrlm_runLengthNonUniformity_3D_Min': 28995.487168190328,\n",
       " 'original_glrlm_runLengthNonUniformity_3D_Max': 34376.7147813479,\n",
       " 'original_glrlm_runLengthNonUniformityNorm_3D_avg': 0.8708336807254149,\n",
       " 'original_glrlm_runLengthNonUniformityNorm_3D_Median': 0.8831475081707107,\n",
       " 'original_glrlm_runLengthNonUniformityNorm_3D_StdDev': 0.026462922133621575,\n",
       " 'original_glrlm_runLengthNonUniformityNorm_3D_Min': 0.7984218297221701,\n",
       " 'original_glrlm_runLengthNonUniformityNorm_3D_Max': 0.890123921180233,\n",
       " 'original_glrlm_runPercentage_3D_avg': 0.9286259884974839,\n",
       " 'original_glrlm_runPercentage_3D_Median': 0.9364047897196262,\n",
       " 'original_glrlm_runPercentage_3D_StdDev': 0.01610554739965704,\n",
       " 'original_glrlm_runPercentage_3D_Min': 0.8838590342679128,\n",
       " 'original_glrlm_runPercentage_3D_Max': 0.9400068146417445,\n",
       " 'original_glrlm_lowGrayLevelRunEmphasis_3D_avg': 5.9139678033717026e-05,\n",
       " 'original_glrlm_lowGrayLevelRunEmphasis_3D_Median': 5.8879654306358365e-05,\n",
       " 'original_glrlm_lowGrayLevelRunEmphasis_3D_StdDev': 5.909351159704484e-07,\n",
       " 'original_glrlm_lowGrayLevelRunEmphasis_3D_Min': 5.8686096401223565e-05,\n",
       " 'original_glrlm_lowGrayLevelRunEmphasis_3D_Max': 6.0786008664605834e-05,\n",
       " 'original_glrlm_highGrayLevelRunEmphasis_3D_avg': 38021.70090983106,\n",
       " 'original_glrlm_highGrayLevelRunEmphasis_3D_Median': 38042.28231230685,\n",
       " 'original_glrlm_highGrayLevelRunEmphasis_3D_StdDev': 47.97675754660048,\n",
       " 'original_glrlm_highGrayLevelRunEmphasis_3D_Min': 37874.44922348276,\n",
       " 'original_glrlm_highGrayLevelRunEmphasis_3D_Max': 38055.435955870926,\n",
       " 'original_glrlm_shortRunLowGrayLevelEmphasis_3D_avg': 5.78299834079874e-05,\n",
       " 'original_glrlm_shortRunLowGrayLevelEmphasis_3D_Median': 5.7739133288264226e-05,\n",
       " 'original_glrlm_shortRunLowGrayLevelEmphasis_3D_StdDev': 2.815621310301793e-07,\n",
       " 'original_glrlm_shortRunLowGrayLevelEmphasis_3D_Min': 5.7453366101627984e-05,\n",
       " 'original_glrlm_shortRunLowGrayLevelEmphasis_3D_Max': 5.858295055605915e-05,\n",
       " 'original_glrlm_shortRunHighGrayLevelEmphasis_3D_avg': 35831.62059974555,\n",
       " 'original_glrlm_shortRunHighGrayLevelEmphasis_3D_Median': 36077.8194659808,\n",
       " 'original_glrlm_shortRunHighGrayLevelEmphasis_3D_StdDev': 534.1002421458555,\n",
       " 'original_glrlm_shortRunHighGrayLevelEmphasis_3D_Min': 34325.090357563546,\n",
       " 'original_glrlm_shortRunHighGrayLevelEmphasis_3D_Max': 36213.50131267157,\n",
       " 'original_glrlm_longRunLowGrayLevelEmphasis_3D_avg': 6.53006179877215e-05,\n",
       " 'original_glrlm_longRunLowGrayLevelEmphasis_3D_Median': 6.426067789981374e-05,\n",
       " 'original_glrlm_longRunLowGrayLevelEmphasis_3D_StdDev': 2.3353277036269883e-06,\n",
       " 'original_glrlm_longRunLowGrayLevelEmphasis_3D_Min': 6.367295103020857e-05,\n",
       " 'original_glrlm_longRunLowGrayLevelEmphasis_3D_Max': 7.193987174985816e-05,\n",
       " 'original_glrlm_longRunHighGrayLevelEmphasis_3D_avg': 48391.78010548373,\n",
       " 'original_glrlm_longRunHighGrayLevelEmphasis_3D_Median': 47074.24722547109,\n",
       " 'original_glrlm_longRunHighGrayLevelEmphasis_3D_StdDev': 2713.7889089047835,\n",
       " 'original_glrlm_longRunHighGrayLevelEmphasis_3D_Min': 46581.586981850196,\n",
       " 'original_glrlm_longRunHighGrayLevelEmphasis_3D_Max': 56150.81671990307,\n",
       " 'original_glrlm_grayLevelVariance_3D_avg': 704.1686676262408,\n",
       " 'original_glrlm_grayLevelVariance_3D_Median': 701.1836951906164,\n",
       " 'original_glrlm_grayLevelVariance_3D_StdDev': 7.080356841339789,\n",
       " 'original_glrlm_grayLevelVariance_3D_Min': 698.7572755511278,\n",
       " 'original_glrlm_grayLevelVariance_3D_Max': 724.4449320045542,\n",
       " 'original_glrlm_runLengthVariance_3D_avg': 0.08926599644429366,\n",
       " 'original_glrlm_runLengthVariance_3D_Median': 0.076609229810502,\n",
       " 'original_glrlm_runLengthVariance_3D_StdDev': 0.025334728544806076,\n",
       " 'original_glrlm_runLengthVariance_3D_Min': 0.07284981967477709,\n",
       " 'original_glrlm_runLengthVariance_3D_Max': 0.16215852525592533,\n",
       " 'original_glrlm_runEntropy_3D_avg': 5.817502437246291,\n",
       " 'original_glrlm_runEntropy_3D_Median': 5.779167424097644,\n",
       " 'original_glrlm_runEntropy_3D_StdDev': 0.07838668918399595,\n",
       " 'original_glrlm_runEntropy_3D_Min': 5.760611968518789,\n",
       " 'original_glrlm_runEntropy_3D_Max': 6.033482001775892,\n",
       " 'original_glszm_smallAreaEmphasis_3D': 0.7825806473072817,\n",
       " 'original_glszm_largeAreaEmphasis_3D': 924.195258517989,\n",
       " 'original_glszm_grayLevelNonUniformity_3D': 288.0656421253276,\n",
       " 'original_glszm_grayLevelNonUniformityNorm_3D': 0.01715902085569023,\n",
       " 'original_glszm_sizeZoneNonUniformity_3D': 9575.618298784846,\n",
       " 'original_glszm_sizeZoneNonUniformityNorm_3D': 0.5703846973305245,\n",
       " 'original_glszm_zonePercentage_3D': 0.4085864485981308,\n",
       " 'original_glszm_lowGrayLevelZoneEmphasis_3D': 0.00010231208853648284,\n",
       " 'original_glszm_highGrayLevelZoneEmphasis_3D': 33927.58369073147,\n",
       " 'original_glszm_smallAreaLowGrayLevelEmphasis_3D': 9.586096015504315e-05,\n",
       " 'original_glszm_largeAreaHighGrayLevelEmphasis_3D': 38741395.37491065,\n",
       " 'original_glszm_smallAreaHighGrayLevelEmphasis_3D': 25365.64890708972,\n",
       " 'original_glszm_largeAreaLowGrayLevelEmphasis_3D': 0.02212793573807071,\n",
       " 'original_glszm_grayLevelVariance_3D': 1203.7693443447208,\n",
       " 'original_glszm_sizeZoneVariance_3D': 918.2051859602907,\n",
       " 'original_glszm_zoneEntropy_3D': 7.785766160623939,\n",
       " 'original_gldm_lowDependenceEmphasis_3D': 0.058846943606689205,\n",
       " 'original_gldm_highDependenceEmphasis_3D': 341.6199863707165,\n",
       " 'original_gldm_lowGrayLevelCountEmphasis_3D': 5.6673090646827044e-05,\n",
       " 'original_gldm_highGrayLevelCountEmphasis_3D': 38268.84710864486,\n",
       " 'original_gldm_lowDependenceLowGrayLevelEmphasis_3D': 2.8587530333073405e-05,\n",
       " 'original_gldm_lowDependenceHighGrayLevelEmphasis_3D': 1366.4416513652957,\n",
       " 'original_gldm_highDependenceLowGrayLevelEmphasis_3D': 0.008277091991173206,\n",
       " 'original_gldm_highDependenceHighGrayLevelEmphasis_3D': 14238153.94871982,\n",
       " 'original_gldm_grayLevelNonUniformity_3D': 1850.9921631619939,\n",
       " 'original_gldm_grayLevelNonUniformityNorm_3D': 0.04504945879969806,\n",
       " 'original_gldm_dependenceCountNonuniformity_3D': 1879.353144470405,\n",
       " 'original_gldm_dependenceCountNonuniformityNorm_3D': 0.045739708539486106,\n",
       " 'original_gldm_dependenceCountPercentage_3D': 1.0,\n",
       " 'original_gldm_grayLevelVariance_3D': 665.5699382723526,\n",
       " 'original_gldm_dependenceCountVariance_3D': 74.71498678317367,\n",
       " 'original_gldm_dependenceCountEntropy_3D': 9.062121025690834,\n",
       " 'original_gldm_dependenceCountEnergy_3D': 0.0040402665963214885,\n",
       " 'original_gtdm_coarseness_3D': 0.00016803371552117242,\n",
       " 'original_gtdm_contrast_3D': 0.17339875594729467,\n",
       " 'original_gtdm_busyness_3D': 0.07877425262301317,\n",
       " 'original_gtdm_complexity_3D': 178817.01201084643,\n",
       " 'original_gtdm_strength_3D': 14.998958714209314}"
      ]
     },
     "execution_count": 8,
     "metadata": {},
     "output_type": "execute_result"
    }
   ],
   "source": [
    "featDict"
   ]
  }
 ],
 "metadata": {
  "accelerator": "GPU",
  "colab": {
   "gpuType": "T4",
   "provenance": []
  },
  "kernelspec": {
   "display_name": "Python 3 (ipykernel)",
   "language": "python",
   "name": "python3"
  },
  "language_info": {
   "codemirror_mode": {
    "name": "ipython",
    "version": 3
   },
   "file_extension": ".py",
   "mimetype": "text/x-python",
   "name": "python",
   "nbconvert_exporter": "python",
   "pygments_lexer": "ipython3",
   "version": "3.11.9"
  }
 },
 "nbformat": 4,
 "nbformat_minor": 4
}
