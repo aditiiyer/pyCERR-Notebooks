{
  "nbformat": 4,
  "nbformat_minor": 0,
  "metadata": {
    "colab": {
      "provenance": [],
      "authorship_tag": "ABX9TyNwPCeLUGf9iBi5qT00YF2C",
      "include_colab_link": true
    },
    "kernelspec": {
      "name": "python3",
      "display_name": "Python 3"
    },
    "language_info": {
      "name": "python"
    }
  },
  "cells": [
    {
      "cell_type": "markdown",
      "metadata": {
        "id": "view-in-github",
        "colab_type": "text"
      },
      "source": [
        "<a href=\"https://colab.research.google.com/github/cerr/pyCERR-Notebooks/blob/main/SBG_autosegment_CT_Heart_OARs.ipynb\" target=\"_parent\"><img src=\"https://colab.research.google.com/assets/colab-badge.svg\" alt=\"Open In Colab\"/></a>"
      ]
    },
    {
      "cell_type": "markdown",
      "metadata": {
        "id": "kNoydh-RsgcD"
      },
      "source": [
        "# pyCERR DeepLab Heart Substurcture CT OAR Segmentation on Seven Bridges\n",
        "\n",
        "In this tutorial, we will demonstrate how to apply a pre-trained AI model to segment the Heart sub-structures on a lung CT scan using pyCERR.\n",
        "\n",
        "## Software Requirements\n",
        "* User account on CGC Seven Bridges and access to `aptea/pycerr-analyses` project\n",
        "* Local python>=3.8\n",
        "\n",
        "## Input Data Requirements\n",
        "* RT planning DICOM CT\n",
        "* RTSTRUCT with lung contour\n",
        "\n",
        "### Running the model\n",
        "The model is run as a task using preconfigured app on CGC Seven Bridges\n",
        "```\n",
        "\n",
        "### License\n",
        "By downloading the software you are agreeing to the following terms and conditions as well as to the Terms of Use of CERR software.\n",
        "\n",
        "THE SOFTWARE IS PROVIDED \"AS IS\" AND CERR DEVELOPMENT TEAM AND ITS COLLABORATORS DO NOT MAKE ANY WARRANTY, EXPRESS OR IMPLIED, INCLUDING BUT NOT LIMITED TO WARRANTIES OF MERCHANTABILITY AND FITNESS FOR A PARTICULAR PURPOSE, NOR DO THEY ASSUME ANY LIABILITY OR RESPONSIBILITY FOR THE USE OF THIS SOFTWARE.\n",
        "    \n",
        "This software is for research purposes only and has not been approved for clinical use.\n",
        "\n",
        "Software has not been reviewed or approved by the Food and Drug Administration, and is for non-clinical, IRB-approved Research Use Only. In no event shall data or images generated through the use of the Software be used in the provision of patient care.\n",
        "\n",
        "You may publish papers and books using results produced using software provided that you reference the appropriate citations:\n",
        "*  Heart sub-structures model: https://doi.org/10.1016/j.phro.2020.05.009\n",
        "*  CERR library of model implementations: https://doi.org/10.1016/j.ejmp.2020.04.011\n",
        "*  CERR software: https://doi.org/10.1118/1.1568978\n",
        "*  CERR radiomics: https://doi.org/10.1002/mp.13046\n",
        "\n",
        "\n",
        "YOU MAY NOT DISTRIBUTE COPIES of this software, or copies of software derived from this software, to others outside your organization without specific prior written permission from the CERR development team except where noted for specific software products.\n",
        "\n",
        "All Technology and technical data delivered under this Agreement are subject to US export control laws and may be subject to export or import regulations in other countries. You agree to comply strictly with all such laws and regulations and acknowledge that you have the responsibility to obtain such licenses to export, re-export, or import as may be required after delivery to you.\n",
        "\n"
      ]
    },
    {
      "cell_type": "code",
      "execution_count": null,
      "metadata": {
        "scrolled": true,
        "id": "qRTBQs6hheVn"
      },
      "outputs": [],
      "source": [
        "%%capture\n",
        "!pip install \"pyCERR[napari] @ git+https://github.com/cerr/pyCERR.git\"\n",
        "!pip install sevenbridges-python"
      ]
    },
    {
      "cell_type": "code",
      "execution_count": null,
      "metadata": {
        "id": "37NXtTD0heVk"
      },
      "outputs": [],
      "source": [
        "import os\n",
        "workDir = '/content'"
      ]
    },
    {
      "cell_type": "code",
      "execution_count": null,
      "metadata": {
        "id": "iHMVsmeI5zUo"
      },
      "outputs": [],
      "source": [
        "#location of input DICOM folders\n",
        "inputDicomPath = os.path.join(workDir,'input_dcm')\n",
        "os.makedirs(inputDicomPath, exist_ok=True)\n",
        "\n",
        "#location of output RTSTRUCT file\n",
        "outputDicomPath = os.path.join(workDir, 'output_dcm')\n",
        "os.makedirs(outputDicomPath, exist_ok=True)\n",
        "\n",
        "#temp session directory\n",
        "sessionPath = os.path.join(workDir, 'session_nii')\n",
        "os.makedirs(sessionPath, exist_ok=True)"
      ]
    },
    {
      "cell_type": "markdown",
      "metadata": {
        "id": "sfcIIiLQsgcM"
      },
      "source": [
        "## Function Definitions: Data pre- and post-processing using pyCERR"
      ]
    },
    {
      "cell_type": "markdown",
      "metadata": {
        "id": "1m955pAJsgcN"
      },
      "source": [
        "### Preprocessing function: `processInputData`: Crop scan to LUNG extents"
      ]
    },
    {
      "cell_type": "code",
      "execution_count": null,
      "metadata": {
        "id": "FAXBqkTasgcN"
      },
      "outputs": [],
      "source": [
        "from cerr.dataclasses import structure as cerrStr\n",
        "from cerr.contour import rasterseg as rs\n",
        "from cerr.utils import mask\n",
        "import numpy as np\n",
        "\n",
        "def processInputData(scanNum, planC, lungNameList=['LUNG_TOTAL', 'LUNG_L', 'LUNG_R']):\n",
        "\n",
        "    if isinstance(lungNameList, str):\n",
        "        lungNameList = [lungNameList]\n",
        "\n",
        "    # Extract scanArray\n",
        "    scan3M = planC.scan[scanNum].getScanArray()\n",
        "    mask3M = np.zeros(scan3M.shape, dtype=bool)\n",
        "\n",
        "    # List of Structure names\n",
        "    strNames = [s.structureName for s in planC.structure]\n",
        "    numOrigStructs = len(strNames)\n",
        "\n",
        "    # Get total lung mask\n",
        "    for lungName in lungNameList:\n",
        "        lungInd = cerrStr.getMatchingIndex(lungName.upper(), strNames, 'exact')\n",
        "        if len(lungInd) > 0:\n",
        "            # Get lung extents\n",
        "            mask3M = mask3M | rs.getStrMask(lungInd[0], planC)\n",
        "\n",
        "    if not np.any(mask3M):\n",
        "        raise Exception('Lung contour name did not match any structures in planC')\n",
        "\n",
        "    # Create cropped scan\n",
        "    rmin,rmax,cmin,cmax,smin,smax,_ = mask.computeBoundingBox(mask3M)\n",
        "    x,y,z = planC.scan[0].getScanXYZVals()\n",
        "    xCropV = x[cmin:cmax]\n",
        "    yCropV = y[rmin:rmax]\n",
        "    zCropV = z[smin:smax]\n",
        "    scan3M = planC.scan[0].getScanArray()\n",
        "    scanCrop3M = scan3M[rmin:rmax,cmin:cmax,smin:smax]\n",
        "\n",
        "    return scanCrop3M, (xCropV, yCropV, zCropV)\n"
      ]
    },
    {
      "cell_type": "markdown",
      "metadata": {
        "id": "C1KHjP1LsgcO"
      },
      "source": [
        "### Postprocessing function: `postProcAndImportSeg`: Import AI segmentations to planC (retain only the largest connected component for each structure)"
      ]
    },
    {
      "cell_type": "code",
      "execution_count": null,
      "metadata": {
        "id": "W_GjRVWtsgcP"
      },
      "outputs": [],
      "source": [
        "#Import label map to CERR\n",
        "from glob import glob\n",
        "from cerr import plan_container as pc\n",
        "\n",
        "atriaLabelDict = {1: 'DL_Atria'}\n",
        "heartSubSegDict = {2: 'DL_AORTA', 3: 'DL_LA',\n",
        "                   4: 'DL_LV', 5: 'DL_RA',\n",
        "                   6: 'DL_RV', 7: 'DL_IVC',\n",
        "                   8: 'DL_SVC', 9: 'DL_PA'}\n",
        "heartSegDict = {1: 'DL_heart'}\n",
        "periLabelDict = {1: 'DL_Pericardium'}\n",
        "ventriLabelDict = {1: 'DL_Ventricles'}\n",
        "\n",
        "def postProcAndImportSeg(outputDir,procScanNum,scanNum,planC):\n",
        "    niiGlob = glob(os.path.join(outputDir,'*.nii.gz'))\n",
        "    for segFile in niiGlob:\n",
        "        print('Importing ' + segFile + '...')\n",
        "        # Get segFile name\n",
        "        if 'heart.nii.gz' in segFile:\n",
        "            strToLabelMap = heartSubSegDict\n",
        "        elif 'heartStructure.nii.gz' in segFile:\n",
        "            strToLabelMap = heartSegDict\n",
        "        elif 'atria.nii.gz' in segFile:\n",
        "            strToLabelMap = atriaLabelDict\n",
        "        elif 'pericardium.nii.gz' in segFile:\n",
        "            strToLabelMap = periLabelDict\n",
        "        elif 'ventricles.nii.gz' in segFile:\n",
        "            strToLabelMap = ventriLabelDict\n",
        "        numLabel = len(strToLabelMap)\n",
        "        numStrOrig = len(planC.structure)\n",
        "        planC = pc.loadNiiStructure(segFile, scanNum, planC, \\\n",
        "                                  labels_dict = strToLabelMap)\n",
        "        numStructs = len(planC.structure)\n",
        "        cpyStrNumV = np.arange(numStrOrig,numStructs)\n",
        "        numConnComponents = 1\n",
        "        for structNum in cpyStrNumV:\n",
        "            _, planC = cerrStr.getLargestConnComps(structNum, numConnComponents, planC, \\\n",
        "                                            saveFlag=True, replaceFlag=True)\n",
        "\n",
        "    return planC"
      ]
    },
    {
      "cell_type": "code",
      "execution_count": null,
      "metadata": {
        "id": "WCuUi5D6sgcS"
      },
      "outputs": [],
      "source": [
        "#%%capture\n",
        "import subprocess\n",
        "import cerr\n",
        "from cerr import plan_container as pc\n",
        "from cerr.dataclasses import scan as cerrScn\n",
        "from cerr.utils.ai_pipeline import createSessionDir, getScanNumFromIdentifier\n",
        "from cerr.dcm_export import rtstruct_iod\n",
        "\n",
        "modality = 'CT SCAN'\n",
        "lungNameList = ['LUNG_CNTR', 'LUNG_IPSI'] #List lung contour name(s)\n",
        "\n",
        "folderList = glob(os.path.join(inputDicomPath,'*'))\n",
        "# Example for one\n",
        "dcmDir = folderList[0]\n",
        "print(dcmDir)"
      ]
    },
    {
      "cell_type": "markdown",
      "metadata": {
        "id": "zj7t-J4isgcQ"
      },
      "source": [
        "### Preprocess DICOM in pyCERR and run segmentation on Seven Bridges: Generate OARs for the CT scan located at `dcmDir`"
      ]
    },
    {
      "cell_type": "code",
      "execution_count": null,
      "metadata": {
        "id": "YEzhwbIOheVo",
        "outputId": "8681c1b2-5a76-479b-a04f-019d56c9f5c6",
        "colab": {
          "base_uri": "https://localhost:8080/"
        }
      },
      "outputs": [
        {
          "output_type": "stream",
          "name": "stdout",
          "text": [
            "('0617-305105', '0617-305105', '1.3.6.1.4.1.14519.5.2.1.6329.6468.145697334858590437505784366193', '1.3.6.1.4.1.14519.5.2.1.6329.6468.123197441458886075851466636569', 'CT', '', '', '', '', '', '', '')\n",
            "('0617-305105', '0617-305105', '1.3.6.1.4.1.14519.5.2.1.6329.6468.145697334858590437505784366193', '1.3.6.1.4.1.14519.5.2.1.6329.6468.330216875011191373593880879988', 'RTSTRUCT', '', '', '', '', '', '', '')\n"
          ]
        }
      ],
      "source": [
        "fname = os.path.basename(dcmDir)\n",
        "# Create session dir to store temporary data\n",
        "modInputPath, modOutputPath = createSessionDir(sessionPath, dcmDir)\n",
        "\n",
        "# Import DICOM to planC\n",
        "planC = pc.loadDcmDir(dcmDir)\n",
        "\n",
        "# Identify scan index in  planC\n",
        "scanIdS = {\"imageType\": modality}\n",
        "matchScanV = getScanNumFromIdentifier(scanIdS, planC, False)\n",
        "scanNum = matchScanV[0]\n",
        "\n",
        "# Pre-process data\n",
        "procScan3M, resizeGridS = processInputData(scanNum, planC, lungNameList)\n",
        "planC = pc.importScanArray(procScan3M, resizeGridS[0], \\\n",
        "        resizeGridS[1], resizeGridS[2], modality, scanNum, planC)\n",
        "procScanNum = len(planC.scan) - 1\n",
        "\n",
        "# Export inputs to NIfTI\n",
        "scanFilename = os.path.join(modInputPath, f\"{fname}_scan_3D.nii.gz\")\n",
        "planC.scan[procScanNum].saveNii(scanFilename)\n",
        "\n",
        "numOrigStructs = len(planC.structure)"
      ]
    },
    {
      "cell_type": "code",
      "execution_count": null,
      "metadata": {
        "id": "mLmFipHhheVp"
      },
      "outputs": [],
      "source": [
        "import sevenbridges as sbg\n",
        "from getpass import getpass\n",
        "from sevenbridges.errors import SbgError\n",
        "url = 'https://cgc-api.sbgenomics.com/v2'\n",
        "proj = 'aptea/pycerr-analyses'"
      ]
    },
    {
      "cell_type": "code",
      "source": [
        "#User needs to be a member of our aptea/pycerr-analyses project on 7 Bridges\n",
        "#Token can be found under the Developer menu\n",
        "authtoken = getpass()"
      ],
      "metadata": {
        "id": "0hun-ertCynX"
      },
      "execution_count": null,
      "outputs": []
    },
    {
      "cell_type": "code",
      "execution_count": null,
      "metadata": {
        "id": "mtZBM4F9heVp"
      },
      "outputs": [],
      "source": [
        "api = sbg.Api(url=url, token=authtoken)\n",
        "sbproj = api.projects.get(proj)"
      ]
    },
    {
      "cell_type": "code",
      "execution_count": null,
      "metadata": {
        "id": "IU6zEJ30heVq"
      },
      "outputs": [],
      "source": [
        "#upload the preprocessed input NIfTI to 7 Bridges filesystem\n",
        "api.files.upload(scanFilename, project=sbproj)"
      ]
    },
    {
      "cell_type": "code",
      "execution_count": null,
      "metadata": {
        "id": "5Td95BuYheVq"
      },
      "outputs": [],
      "source": [
        "#get the file identifier of the uploaded input NIfTI\n",
        "fbase = os.path.basename(scanFilename).split('.')[0]\n",
        "sbg_nii_file = [f for f in api.files.query(project=proj) if fbase in f.name][0]"
      ]
    },
    {
      "cell_type": "code",
      "source": [
        "#create unique timestamp for task ID\n",
        "from datetime import datetime\n",
        "dateobj = datetime.now()\n",
        "timestamp = '_'.join((str(dateobj.year), str(dateobj.month), str(dateobj.day), str(dateobj.hour), str(dateobj.minute), str(dateobj.microsecond)))\n",
        "print(timestamp)"
      ],
      "metadata": {
        "id": "DtHeDZns_YS7"
      },
      "execution_count": null,
      "outputs": []
    },
    {
      "cell_type": "code",
      "execution_count": null,
      "metadata": {
        "id": "L_LX-7ZNheVq"
      },
      "outputs": [],
      "source": [
        "# Assign a task ID\n",
        "\n",
        "task_name = '_'.join(('CT_Heart_OAR_DataStudio_',fbase,timestamp))\n",
        "print('Task name ' + task_name)\n",
        "\n",
        "# App I want to use to run a task\n",
        "app = proj + '/ct-heart-oar-setup-container-cli/29'\n",
        "\n",
        "# Inputs\n",
        "inputs = {}\n",
        "inputs['input_nifti'] = sbg_nii_file\n",
        "\n",
        "try:\n",
        "    task = api.tasks.create(name=task_name, project=proj, app=app, inputs=inputs, run=True)\n",
        "except SbgError as e:\n",
        "    print('I was unable to run the task.')\n",
        "    print(e.message)"
      ]
    },
    {
      "cell_type": "code",
      "source": [
        "#create folder on 7 Bridges to store task output\n",
        "task_output_storage_folder_id = '67116c87c4827b6d9b78c68f' #do not modify this, it is the folder location on the 7 Bridges file system\n",
        "sbg_session_folder = api.files.create_folder(\n",
        "    name=task_name, parent=task_output_storage_folder_id\n",
        ")"
      ],
      "metadata": {
        "id": "1SSq1IIq9LJr"
      },
      "execution_count": null,
      "outputs": []
    },
    {
      "cell_type": "code",
      "execution_count": null,
      "metadata": {
        "id": "-zU8QnxyheVq"
      },
      "outputs": [],
      "source": [
        "#after task completes (email notification), download task output to local folder and move output on 7 Bridges to the storage folder\n",
        "task_nii_files = [f for f in api.files.query(project=proj) if fbase in f.name]\n",
        "for f in task_nii_files:\n",
        "    print(f.name)\n",
        "    if f.name != os.path.basename(scanFilename):\n",
        "      f.download(path=os.path.join(modOutputPath,f.name))\n",
        "    f.move_to_folder(parent=sbg_session_folder)"
      ]
    },
    {
      "cell_type": "code",
      "source": [
        "#import results into planC\n",
        "planC = postProcAndImportSeg(modOutputPath, procScanNum, scanNum, planC)\n",
        "numStructs = len(planC.structure)"
      ],
      "metadata": {
        "id": "HgDNaZuFDAve"
      },
      "execution_count": null,
      "outputs": []
    },
    {
      "cell_type": "code",
      "source": [
        "# Export segmentations to DICOM\n",
        "structFileName = fname + '_AI_seg_RTSTRUCT.dcm'\n",
        "structFilePath = os.path.join(outputDicomPath,structFileName)\n",
        "structNumV = np.arange(numOrigStructs, numStructs)\n",
        "indOrigV = np.array([cerrScn.getScanNumFromUID(planC.structure[structNum].assocScanUID, planC) for structNum in structNumV], dtype=int)\n",
        "origIndsToExportV = structNumV[indOrigV == scanNum]\n",
        "seriesDescription = \"pyCERR CT_Heart_OAR AI-Generated\"\n",
        "exportOpts = {'seriesDescription': seriesDescription}\n",
        "rtstruct_iod.create(origIndsToExportV,structFilePath,planC,exportOpts)"
      ],
      "metadata": {
        "id": "NCrX-X_2D8aR"
      },
      "execution_count": null,
      "outputs": []
    },
    {
      "cell_type": "markdown",
      "metadata": {
        "id": "iLzFp-l_sgcT"
      },
      "source": [
        "# Visualize results for the last CT scan using Napari Viewer"
      ]
    },
    {
      "cell_type": "markdown",
      "metadata": {
        "id": "L8FTwNqhsgcT"
      },
      "source": [
        "## Display using `matplotlib`"
      ]
    },
    {
      "cell_type": "code",
      "execution_count": null,
      "metadata": {
        "id": "zJEkPNT6Mvc6",
        "outputId": "bc4778b3-ee2b-4a17-c715-18c03106a09e",
        "colab": {
          "base_uri": "https://localhost:8080/",
          "height": 579,
          "referenced_widgets": [
            "45fd059078a64bcc85112f9f249e919d",
            "93f93c2e7ab8429786ac18db8390eb3c",
            "5fadc7e83947435099069f2fb52f2499",
            "66f106dfe844464aa06b2f8741abef38",
            "c4b16d1e7a4d47ceb2739fe05c9bde84",
            "67c4cf593a5c494e9788312e3a0ef51a",
            "2ac9001126f74163bb97d2045eca24a9",
            "8af3bd95e65d49bbbe52a47512e20495",
            "10186993f60f4aa19d4f9b3de884bad4",
            "94777555f0f4474d8385ee4287a0746e",
            "f6a47c65c2e14fe9b72d7fe62678de7c",
            "c9b427a55b8b4a0193876df2314f9652",
            "cfffbb31b178426e952e44ac431865db"
          ]
        }
      },
      "outputs": [
        {
          "output_type": "display_data",
          "data": {
            "text/plain": [
              "HBox(children=(Dropdown(description='view', options=('Axial', 'Sagittal', 'Coronal'), value='Axial'), IntSlide…"
            ],
            "application/vnd.jupyter.widget-view+json": {
              "version_major": 2,
              "version_minor": 0,
              "model_id": "45fd059078a64bcc85112f9f249e919d"
            }
          },
          "metadata": {}
        },
        {
          "output_type": "display_data",
          "data": {
            "text/plain": [
              "Output()"
            ],
            "application/vnd.jupyter.widget-view+json": {
              "version_major": 2,
              "version_minor": 0,
              "model_id": "c9b427a55b8b4a0193876df2314f9652"
            }
          },
          "metadata": {}
        }
      ],
      "source": [
        "from cerr.viewer import showMplNb\n",
        "showMplNb(planC=planC, scan_nums=scanNum,\n",
        "          struct_nums=origIndsToExportV,\n",
        "          windowCenter=-400, windowWidth=2000)"
      ]
    }
  ]
}