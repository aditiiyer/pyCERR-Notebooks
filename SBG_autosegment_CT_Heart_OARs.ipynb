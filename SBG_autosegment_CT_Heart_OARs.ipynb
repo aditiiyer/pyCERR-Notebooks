{
  "cells": [
    {
      "cell_type": "markdown",
      "metadata": {
        "id": "view-in-github"
      },
      "source": [
        "<a href=\"https://colab.research.google.com/github/cerr/pyCERR-Notebooks/blob/main/SBG_autosegment_CT_Heart_OARs.ipynb\" target=\"_parent\"><img src=\"https://colab.research.google.com/assets/colab-badge.svg\" alt=\"Open In Colab\"/></a>"
      ]
    },
    {
      "cell_type": "markdown",
      "metadata": {
        "id": "kNoydh-RsgcD"
      },
      "source": [
        "# pyCERR DeepLab Heart Substurcture CT OAR Segmentation on Seven Bridges\n",
        "\n",
        "In this tutorial, we will demonstrate how to apply a pre-trained AI model to segment the Heart sub-structures on a lung CT scan using pyCERR.\n",
        "\n",
        "## Software Requirements\n",
        "* Python>=3.8\n",
        "* Running this model requires access to CGC Seven Bridges.  \n",
        "\n",
        "## Input Data Requirements\n",
        "* RT planning DICOM CT\n",
        "* RTSTRUCT with lung contour\n",
        "\n",
        "## AI model\n",
        "* The segmentation model was trained and validated on CT scans used for RT planning. It does not work optimally on diagnostic CTs or scans in positions other than Head First Supine.\n",
        "* The trained model is distributed along with python libraries and other dependencies via a conda package.\n",
        "\n",
        "### Running the model\n",
        "\n",
        "Update locations of input data and model directorues in section 2 of this notebook.\n",
        "* Conda packge is location: condaEnvDir\n",
        "* Inference script location: wrapperPath\n",
        "* Inference script args\n",
        "```python\n",
        "!python {wrapperPath} {input_nii_directory} {output_nii_directory}\n",
        "```\n",
        "\n",
        "### License\n",
        "By downloading the software you are agreeing to the following terms and conditions as well as to the Terms of Use of CERR software.\n",
        "\n",
        "THE SOFTWARE IS PROVIDED \"AS IS\" AND CERR DEVELOPMENT TEAM AND ITS COLLABORATORS DO NOT MAKE ANY WARRANTY, EXPRESS OR IMPLIED, INCLUDING BUT NOT LIMITED TO WARRANTIES OF MERCHANTABILITY AND FITNESS FOR A PARTICULAR PURPOSE, NOR DO THEY ASSUME ANY LIABILITY OR RESPONSIBILITY FOR THE USE OF THIS SOFTWARE.\n",
        "    \n",
        "This software is for research purposes only and has not been approved for clinical use.\n",
        "\n",
        "Software has not been reviewed or approved by the Food and Drug Administration, and is for non-clinical, IRB-approved Research Use Only. In no event shall data or images generated through the use of the Software be used in the provision of patient care.\n",
        "\n",
        "You may publish papers and books using results produced using software provided that you reference the appropriate citations:\n",
        "*  Heart sub-structures model: https://doi.org/10.1016/j.phro.2020.05.009\n",
        "*  CERR library of model implementations: https://doi.org/10.1016/j.ejmp.2020.04.011\n",
        "*  CERR software: https://doi.org/10.1118/1.1568978\n",
        "*  CERR radiomics: https://doi.org/10.1002/mp.13046\n",
        "\n",
        "\n",
        "YOU MAY NOT DISTRIBUTE COPIES of this software, or copies of software derived from this software, to others outside your organization without specific prior written permission from the CERR development team except where noted for specific software products.\n",
        "\n",
        "All Technology and technical data delivered under this Agreement are subject to US export control laws and may be subject to export or import regulations in other countries. You agree to comply strictly with all such laws and regulations and acknowledge that you have the responsibility to obtain such licenses to export, re-export, or import as may be required after delivery to you.\n",
        "\n"
      ]
    },
    {
      "cell_type": "markdown",
      "metadata": {
        "id": "8wTTz6EdheVi"
      },
      "source": [
        "## Import modules"
      ]
    },
    {
      "cell_type": "code",
      "execution_count": null,
      "metadata": {
        "id": "meh-lpHNheVj"
      },
      "outputs": [],
      "source": [
        "import os"
      ]
    },
    {
      "cell_type": "markdown",
      "metadata": {
        "id": "uKyePuucYlbA"
      },
      "source": [
        "# Download planning CT DICOM data for processing"
      ]
    },
    {
      "cell_type": "code",
      "execution_count": null,
      "metadata": {
        "id": "37NXtTD0heVk"
      },
      "outputs": [],
      "source": [
        "workDir = '/content'"
      ]
    },
    {
      "cell_type": "code",
      "execution_count": null,
      "metadata": {
        "id": "iHMVsmeI5zUo"
      },
      "outputs": [],
      "source": [
        "#location of input DICOM folders\n",
        "inputDicomPath = os.path.join(workDir,'input_dcm')\n",
        "if not os.path.exists(inputDicomPath):\n",
        "  os.mkdir(inputDicomPath)\n",
        "\n",
        "#location of output RTSTRUCT file\n",
        "outputDicomPath = os.path.join(workDir, 'output_dcm')\n",
        "if not os.path.exists(outputDicomPath):\n",
        "  os.mkdir(outputDicomPath)\n",
        "\n",
        "#temp session directory\n",
        "sessionPath = os.path.join(workDir, 'session_nii')\n",
        "if not os.path.exists(sessionPath):\n",
        "  os.mkdir(sessionPath)"
      ]
    },
    {
      "cell_type": "markdown",
      "metadata": {
        "id": "WsUQs2huow2B"
      },
      "source": [
        "# Install segmentation wrapper"
      ]
    },
    {
      "cell_type": "markdown",
      "metadata": {
        "id": "C9oPBXz8tphw"
      },
      "source": [
        "### Installation of segmentation wrapper, Python environment and network weights handled by CERR-developed `model_installer`"
      ]
    },
    {
      "cell_type": "code",
      "execution_count": null,
      "metadata": {
        "id": "3n6yb9MnMvcy"
      },
      "outputs": [],
      "source": [
        "os.chdir(workDir)\n",
        "!git clone https://github.com/cerr/model_installer.git\n",
        "os.chdir(os.path.join(workDir,'model_installer'))\n",
        "!./installer.sh -h"
      ]
    },
    {
      "cell_type": "code",
      "execution_count": null,
      "metadata": {
        "id": "W9ahoQbgjKVt"
      },
      "outputs": [],
      "source": [
        "%%capture\n",
        "modelOpt = '1' #CT_cardiac_structures_deeplab\n",
        "pythonOpt = 'C' #download and use pre-packaged Conda environment\n",
        "\n",
        "! source ./installer.sh -m {modelOpt} -d {workDir} -p {pythonOpt}"
      ]
    },
    {
      "cell_type": "code",
      "execution_count": null,
      "metadata": {
        "id": "xGQcTj20Mvcy"
      },
      "outputs": [],
      "source": [
        "# Segmentation wrapper paths\n",
        "wrapperInstallDir = os.path.join(workDir, 'CT_cardiac_structures_deeplab')\n",
        "wrapperPath = os.path.join(wrapperInstallDir, 'model_wrapper','runSegmentation.py')\n",
        "\n",
        "# Location of Heart OAR conda environment\n",
        "condaEnvDir = os.path.join(workDir, 'CT_cardiac_structures_deeplab','conda-pack')\n",
        "\n",
        "# Path to conda environment activate script\n",
        "condaActivateScript = os.path.join(condaEnvDir, 'bin', 'activate')"
      ]
    },
    {
      "cell_type": "markdown",
      "metadata": {
        "id": "sfcIIiLQsgcM"
      },
      "source": [
        "# Function Definitions: Data pre- and post-processing using pyCERR"
      ]
    },
    {
      "cell_type": "markdown",
      "metadata": {
        "id": "1m955pAJsgcN"
      },
      "source": [
        "## `processInputData`: Crop scan to Lung extents"
      ]
    },
    {
      "cell_type": "code",
      "execution_count": null,
      "metadata": {
        "scrolled": true,
        "id": "qRTBQs6hheVn"
      },
      "outputs": [],
      "source": [
        "%%capture\n",
        "!pip install \"pyCERR[napari] @ git+https://github.com/cerr/pyCERR.git\"\n",
        "!pip install sevenbridges-python"
      ]
    },
    {
      "cell_type": "code",
      "execution_count": null,
      "metadata": {
        "id": "FAXBqkTasgcN"
      },
      "outputs": [],
      "source": [
        "from cerr.dataclasses import structure as cerrStr\n",
        "from cerr.contour import rasterseg as rs\n",
        "from cerr.utils import mask\n",
        "import numpy as np\n",
        "\n",
        "def processInputData(scanNum, planC, lungNameList=['LUNG_TOTAL', 'LUNG_L', 'LUNG_R']):\n",
        "\n",
        "    if isinstance(lungNameList, str):\n",
        "        lungNameList = [lungNameList]\n",
        "\n",
        "    # Extract scanArray\n",
        "    scan3M = planC.scan[scanNum].getScanArray()\n",
        "    mask3M = np.zeros(scan3M.shape, dtype=bool)\n",
        "\n",
        "    # List of Structure names\n",
        "    strNames = [s.structureName for s in planC.structure]\n",
        "    numOrigStructs = len(strNames)\n",
        "\n",
        "    # Get total lung mask\n",
        "    for lungName in lungNameList:\n",
        "        lungInd = cerrStr.getMatchingIndex(lungName.upper(), strNames, 'exact')\n",
        "        if len(lungInd) > 0:\n",
        "            # Get lung extents\n",
        "            mask3M = mask3M | rs.getStrMask(lungInd[0], planC)\n",
        "\n",
        "    if not np.any(mask3M):\n",
        "        raise Exception('Lung contour name did not match any structures in planC')\n",
        "\n",
        "    # Create cropped scan\n",
        "    rmin,rmax,cmin,cmax,smin,smax,_ = mask.computeBoundingBox(mask3M)\n",
        "    x,y,z = planC.scan[0].getScanXYZVals()\n",
        "    xCropV = x[cmin:cmax]\n",
        "    yCropV = y[rmin:rmax]\n",
        "    zCropV = z[smin:smax]\n",
        "    scan3M = planC.scan[0].getScanArray()\n",
        "    scanCrop3M = scan3M[rmin:rmax,cmin:cmax,smin:smax]\n",
        "\n",
        "    return scanCrop3M, (xCropV, yCropV, zCropV)\n"
      ]
    },
    {
      "cell_type": "markdown",
      "metadata": {
        "id": "C1KHjP1LsgcO"
      },
      "source": [
        "## `postProcAndImportSeg`: Import AI segmentations to planC and retain only the largest connected component for each structure"
      ]
    },
    {
      "cell_type": "code",
      "execution_count": null,
      "metadata": {
        "id": "W_GjRVWtsgcP"
      },
      "outputs": [],
      "source": [
        "#Import label map to CERR\n",
        "from glob import glob\n",
        "from cerr import plan_container as pc\n",
        "\n",
        "atriaLabelDict = {1: 'DL_Atria'}\n",
        "heartSubSegDict = {2: 'DL_AORTA', 3: 'DL_LA',\n",
        "                   4: 'DL_LV', 5: 'DL_RA',\n",
        "                   6: 'DL_RV', 7: 'DL_IVC',\n",
        "                   8: 'DL_SVC', 9: 'DL_PA'}\n",
        "heartSegDict = {1: 'DL_heart'}\n",
        "periLabelDict = {1: 'DL_Pericardium'}\n",
        "ventriLabelDict = {1: 'DL_Ventricles'}\n",
        "\n",
        "def postProcAndImportSeg(outputDir,procScanNum,scanNum,planC):\n",
        "    niiGlob = glob(os.path.join(outputDir,'*.nii.gz'))\n",
        "    for segFile in niiGlob:\n",
        "        print('Importing ' + segFile + '...')\n",
        "        # Get segFile name\n",
        "        if 'heart.nii.gz' in segFile:\n",
        "            strToLabelMap = heartSubSegDict\n",
        "        elif 'heartStructure.nii.gz' in segFile:\n",
        "            strToLabelMap = heartSegDict\n",
        "        elif 'atria.nii.gz' in segFile:\n",
        "            strToLabelMap = atriaLabelDict\n",
        "        elif 'pericardium.nii.gz' in segFile:\n",
        "            strToLabelMap = periLabelDict\n",
        "        elif 'ventricles.nii.gz' in segFile:\n",
        "            strToLabelMap = ventriLabelDict\n",
        "        numLabel = len(strToLabelMap)\n",
        "        numStrOrig = len(planC.structure)\n",
        "        planC = pc.loadNiiStructure(segFile, scanNum, planC, \\\n",
        "                                  labels_dict = strToLabelMap)\n",
        "        numStructs = len(planC.structure)\n",
        "        cpyStrNumV = np.arange(numStrOrig,numStructs)\n",
        "        numConnComponents = 1\n",
        "        for structNum in cpyStrNumV:\n",
        "            _, planC = cerrStr.getLargestConnComps(structNum, numConnComponents, planC, \\\n",
        "                                            saveFlag=True, replaceFlag=True)\n",
        "\n",
        "    return planC"
      ]
    },
    {
      "cell_type": "markdown",
      "metadata": {
        "id": "zj7t-J4isgcQ"
      },
      "source": [
        "# Run Segmentation: Generate OARs for all the CT scan folders located at `inputDicomPath`"
      ]
    },
    {
      "cell_type": "code",
      "execution_count": null,
      "metadata": {
        "id": "WCuUi5D6sgcS"
      },
      "outputs": [],
      "source": [
        "#%%capture\n",
        "import subprocess\n",
        "import cerr\n",
        "from cerr import plan_container as pc\n",
        "from cerr.dataclasses import scan as cerrScn\n",
        "from cerr.utils.ai_pipeline import createSessionDir, getScanNumFromIdentifier\n",
        "from cerr.dcm_export import rtstruct_iod\n",
        "\n",
        "modality = 'CT SCAN'\n",
        "lungNameList = ['LUNG_CNTR', 'LUNG_IPSI'] #List lung contour name(s)\n",
        "\n",
        "# Loop over DICOM data folders\n",
        "folderList = glob(os.path.join(inputDicomPath,'*'))"
      ]
    },
    {
      "cell_type": "code",
      "execution_count": null,
      "metadata": {
        "id": "1mSq2a2EheVo"
      },
      "outputs": [],
      "source": [
        "dcmDir = folderList[0]"
      ]
    },
    {
      "cell_type": "code",
      "execution_count": null,
      "metadata": {
        "id": "YEzhwbIOheVo"
      },
      "outputs": [],
      "source": [
        "fname = os.path.basename(dcmDir)\n",
        "# Create session dir to store temporary data\n",
        "modInputPath, modOutputPath = createSessionDir(sessionPath, dcmDir)\n",
        "\n",
        "# Import DICOM to planC\n",
        "planC = pc.loadDcmDir(dcmDir)\n",
        "\n",
        "# Identify scan index in  planC\n",
        "scanIdS = {\"imageType\": modality}\n",
        "matchScanV = getScanNumFromIdentifier(scanIdS, planC, False)\n",
        "scanNum = matchScanV[0]\n",
        "\n",
        "# Pre-process data\n",
        "procScan3M, resizeGridS = processInputData(scanNum, planC, lungNameList)\n",
        "planC = pc.importScanArray(procScan3M, resizeGridS[0], \\\n",
        "        resizeGridS[1], resizeGridS[2], modality, scanNum, planC)\n",
        "procScanNum = len(planC.scan) - 1\n",
        "\n",
        "# Export inputs to NIfTI\n",
        "scanFilename = os.path.join(modInputPath, f\"{fname}_scan_3D.nii.gz\")\n",
        "planC.scan[procScanNum].saveNii(scanFilename)\n",
        "\n",
        "numOrigStructs = len(planC.structure)"
      ]
    },
    {
      "cell_type": "code",
      "execution_count": null,
      "metadata": {
        "id": "mLmFipHhheVp"
      },
      "outputs": [],
      "source": [
        "import sevenbridges as sbg\n",
        "from getpass import getpass\n",
        "url = 'https://cgc-api.sbgenomics.com/v2'\n",
        "authtoken = getpass()"
      ]
    },
    {
      "cell_type": "code",
      "execution_count": null,
      "metadata": {
        "id": "mtZBM4F9heVp"
      },
      "outputs": [],
      "source": [
        "api = sbg.Api(url=url, token=authtoken)\n",
        "proj = 'aptea/pycerr-analyses'\n",
        "sbproj = api.projects.get(proj)"
      ]
    },
    {
      "cell_type": "code",
      "execution_count": null,
      "metadata": {
        "id": "IU6zEJ30heVq"
      },
      "outputs": [],
      "source": [
        "api.files.upload(scanFilename, project=sbproj)"
      ]
    },
    {
      "cell_type": "code",
      "execution_count": null,
      "metadata": {
        "id": "5Td95BuYheVq"
      },
      "outputs": [],
      "source": [
        "fbase = os.path.basename(scanFilename).split('.')[0]\n",
        "sbg_nii_file = [f for f in api.files.query(project=proj) if fbase in f.name][0]"
      ]
    },
    {
      "cell_type": "code",
      "execution_count": null,
      "metadata": {
        "id": "L_LX-7ZNheVq"
      },
      "outputs": [],
      "source": [
        "# Assign a task name\n",
        "task_name = 'CT_Heart_OAR_DataStudio_' + fbase\n",
        "\n",
        "# App I want to use to run a task\n",
        "app = proj + '/ct-heart-oar-setup-container-cli/29'\n",
        "\n",
        "# Inputs\n",
        "inputs = {}\n",
        "inputs['input_nifti'] = sbg_nii_file\n",
        "\n",
        "try:\n",
        "    task = api.tasks.create(name=task_name, project=proj, app=app, inputs=inputs, run=True)\n",
        "except SbError:\n",
        "    print('I was unable to run the task.')"
      ]
    },
    {
      "cell_type": "code",
      "source": [
        "task_folder_id = '67116c87c4827b6d9b78c68f'\n",
        "sbg_session_folder = api.files.create_folder(\n",
        "    name=task_name, parent=task_folder_id\n",
        ")"
      ],
      "metadata": {
        "id": "1SSq1IIq9LJr"
      },
      "execution_count": null,
      "outputs": []
    },
    {
      "cell_type": "code",
      "execution_count": null,
      "metadata": {
        "id": "-zU8QnxyheVq"
      },
      "outputs": [],
      "source": [
        "task_nii_files = [f for f in api.files.query(project=proj) if fbase in f.name]\n",
        "for f in task_nii_files:\n",
        "    print(f.name)\n",
        "    if f.name != os.path.basename(scanFilename):\n",
        "      f.download(path=os.path.join(modOutputPath,f.name))\n",
        "    f.move_to_folder(parent=sbg_session_folder)"
      ]
    },
    {
      "cell_type": "code",
      "source": [
        "planC = postProcAndImportSeg(modOutputPath, procScanNum, scanNum, planC)\n",
        "numStructs = len(planC.structure)"
      ],
      "metadata": {
        "id": "HgDNaZuFDAve"
      },
      "execution_count": null,
      "outputs": []
    },
    {
      "cell_type": "code",
      "source": [
        "# Export segmentations to DICOM\n",
        "structFileName = fname + '_AI_seg_RTSTRUCT.dcm'\n",
        "structFilePath = os.path.join(outputDicomPath,structFileName)\n",
        "structNumV = np.arange(numOrigStructs, numStructs)\n",
        "indOrigV = np.array([cerrScn.getScanNumFromUID(planC.structure[structNum].assocScanUID, planC) for structNum in structNumV], dtype=int)\n",
        "origIndsToExportV = structNumV[indOrigV == scanNum]\n",
        "seriesDescription = \"pyCERR CT_Heart_OAR AI-Generated\"\n",
        "exportOpts = {'seriesDescription': seriesDescription}\n",
        "rtstruct_iod.create(origIndsToExportV,structFilePath,planC,exportOpts)"
      ],
      "metadata": {
        "id": "NCrX-X_2D8aR"
      },
      "execution_count": null,
      "outputs": []
    },
    {
      "cell_type": "markdown",
      "metadata": {
        "id": "iLzFp-l_sgcT"
      },
      "source": [
        "# Visualize results for the last CT scan using Napari Viewer"
      ]
    },
    {
      "cell_type": "markdown",
      "metadata": {
        "id": "L8FTwNqhsgcT"
      },
      "source": [
        "## Display using `matplotlib`"
      ]
    },
    {
      "cell_type": "code",
      "execution_count": null,
      "metadata": {
        "id": "zJEkPNT6Mvc6"
      },
      "outputs": [],
      "source": [
        "from cerr.viewer import showMplNb\n",
        "showMplNb(planC=planC, scan_nums=scanNum,\n",
        "          struct_nums=origIndsToExportV,\n",
        "          windowCenter=-400, windowWidth=2000)"
      ]
    }
  ],
  "metadata": {
    "accelerator": "GPU",
    "colab": {
      "gpuType": "T4",
      "provenance": []
    },
    "kernelspec": {
      "display_name": "Python 3 (ipykernel)",
      "language": "python",
      "name": "python3"
    },
    "language_info": {
      "codemirror_mode": {
        "name": "ipython",
        "version": 3
      },
      "file_extension": ".py",
      "mimetype": "text/x-python",
      "name": "python",
      "nbconvert_exporter": "python",
      "pygments_lexer": "ipython3",
      "version": "3.11.6"
    },
    "toc": {
      "base_numbering": 1,
      "nav_menu": {},
      "number_sections": true,
      "sideBar": true,
      "skip_h1_title": false,
      "title_cell": "Table of Contents",
      "title_sidebar": "Contents",
      "toc_cell": false,
      "toc_position": {},
      "toc_section_display": true,
      "toc_window_display": false
    }
  },
  "nbformat": 4,
  "nbformat_minor": 0
}
