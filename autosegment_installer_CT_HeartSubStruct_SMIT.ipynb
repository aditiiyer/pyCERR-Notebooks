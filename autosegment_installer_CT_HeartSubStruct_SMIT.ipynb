{
  "nbformat": 4,
  "nbformat_minor": 0,
  "metadata": {
    "colab": {
      "provenance": []
    },
    "kernelspec": {
      "name": "python3",
      "display_name": "Python 3"
    },
    "language_info": {
      "name": "python"
    }
  },
  "cells": [
    {
      "cell_type": "markdown",
      "source": [
        "# CT_HeartSubstruct_SMIT Demo Notebook\n",
        "\n",
        "User supplies input DICOM files, copy one case to `dcmDir` location."
      ],
      "metadata": {
        "id": "v7svGMu3oNtv"
      }
    },
    {
      "cell_type": "code",
      "source": [
        "import os, shutil, subprocess\n",
        "from glob import glob"
      ],
      "metadata": {
        "id": "AypvKPnKSoGb"
      },
      "execution_count": null,
      "outputs": []
    },
    {
      "cell_type": "code",
      "source": [
        "workDir = '/content'\n",
        "os.chdir(workDir)"
      ],
      "metadata": {
        "id": "ayYOrHO6S2Qf"
      },
      "execution_count": null,
      "outputs": []
    },
    {
      "cell_type": "code",
      "source": [
        "!pip install pyxnat\n",
        "!pip install \"pyCERR[napari] @ git+https://github.com/cerr/pyCERR.git@testing\""
      ],
      "metadata": {
        "id": "-DQRGh4StdeF"
      },
      "execution_count": null,
      "outputs": []
    },
    {
      "cell_type": "code",
      "source": [
        "from cerr import plan_container as pc\n",
        "from cerr.dcm_export import rtstruct_iod"
      ],
      "metadata": {
        "id": "_P6Fj9Xjc8Ws"
      },
      "execution_count": null,
      "outputs": []
    },
    {
      "cell_type": "code",
      "execution_count": null,
      "metadata": {
        "id": "yAWYHoMOwt-1"
      },
      "outputs": [],
      "source": [
        "! git clone https://github.com/cerr/model_installer.git && cd model_installer && ./installer.sh -m 8 -d /content -p C &&"
      ]
    },
    {
      "cell_type": "code",
      "source": [
        "dcmDir = '/content/session/input_dcm'\n",
        "niiDir = '/content/session/input_nii'\n",
        "maskOutDir = '/content/session/output_nii'\n",
        "dcmOutDir = '/content/session/output_dcm'"
      ],
      "metadata": {
        "id": "V3Am6_fYuuM3"
      },
      "execution_count": null,
      "outputs": []
    },
    {
      "cell_type": "code",
      "source": [
        "modelDir = '/content/CT_HeartSubstruct_SMIT'\n",
        "weightsPath = os.path.join(modelDir,'/trained_weights/model_final.pt')"
      ],
      "metadata": {
        "id": "LCz5tYV3xOh8"
      },
      "execution_count": null,
      "outputs": []
    },
    {
      "cell_type": "code",
      "source": [
        "!mkdir -p {dcmDir} {niiDir} {maskOutDir} {dcmOutDir}"
      ],
      "metadata": {
        "id": "BnVc3LLU0pnf"
      },
      "execution_count": null,
      "outputs": []
    },
    {
      "cell_type": "code",
      "source": [
        "planC = pc.loadDcmDir(dcmDir = dcmDir)\n",
        "niiFileName = os.path.join(niiDir,'CT_scan.nii.gz')\n",
        "scanNum = 0\n",
        "planC.scan[scanNum].saveNii(niiFileName = niiFileName)"
      ],
      "metadata": {
        "id": "0qIxeXnbudyr"
      },
      "execution_count": null,
      "outputs": []
    },
    {
      "cell_type": "code",
      "source": [
        "cmd = 'source ' + os.path.join(modelDir,'conda-pack','bin','activate') + ' && cd ' + modelDir + ' && source bash_run_SMIT_HeartSubstructures.sh ' + niiDir + ' ' + maskOutDir + ' ' +  niiFileName\n",
        "subprocess.run(cmd, shell=True, executable=\"/bin/bash\")"
      ],
      "metadata": {
        "id": "Qj3bpqKe5LdB"
      },
      "execution_count": null,
      "outputs": []
    },
    {
      "cell_type": "code",
      "source": [
        "labels_dict = {1: 'SMIT_AORTA',2:'SMIT_2',3:'SMIT_3',4:'SMIT_4',5:'SMIT_5',6:'SMIT_6'}\n",
        "structNumV = range(len(labels_dict))"
      ],
      "metadata": {
        "id": "n7JRNypuehMq"
      },
      "execution_count": null,
      "outputs": []
    },
    {
      "cell_type": "code",
      "source": [
        "outNiiFile = glob(os.path.join(maskOutDir,'*.nii*'))\n",
        "print(outNiiFile)"
      ],
      "metadata": {
        "id": "BKcMRYbGnpV5"
      },
      "execution_count": null,
      "outputs": []
    },
    {
      "cell_type": "code",
      "source": [
        "planC = pc.loadNiiStructure(nii_file_name = outNiiFile, assocScanNum = scanNum, planC = planC, labels_dict = labels_dict)"
      ],
      "metadata": {
        "id": "rsMdxVEdjRmG"
      },
      "execution_count": null,
      "outputs": []
    },
    {
      "cell_type": "code",
      "source": [
        "structName ='CT_HeartSubstruct_SMIT'\n",
        "rtstructFile = os.path.join(dcmOutDir,'RTSTRUCT.dcm')\n",
        "seriesDescription = structName\n",
        "rtstruct_iod.create(structNumV = structNumV, filePath = rtstructFile, planC = planC, seriesOpts = {'SeriesDescription':seriesDescription})"
      ],
      "metadata": {
        "id": "VcISAgpl72iH"
      },
      "execution_count": null,
      "outputs": []
    },
    {
      "cell_type": "code",
      "source": [],
      "metadata": {
        "id": "Jb882bjanUkK"
      },
      "execution_count": null,
      "outputs": []
    }
  ]
}