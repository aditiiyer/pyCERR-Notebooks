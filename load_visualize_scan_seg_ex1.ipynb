{
 "cells": [
  {
   "cell_type": "markdown",
   "id": "136f10c2-3355-4067-a59f-02242318cd9a",
   "metadata": {},
   "source": [
    "<a target=\"_blank\" href=\"https://colab.research.google.com/github/cerr/pyCERR-Notebooks/blob/main/load_visualize_scan_seg_ex1.ipynb\">\n",
    "  <img src=\"https://colab.research.google.com/assets/colab-badge.svg\" alt=\"Open In Colab\"/>\n",
    "</a>"
   ]
  },
  {
   "cell_type": "markdown",
   "id": "ed1b96ec-543d-48a5-888b-018d9e0445a4",
   "metadata": {},
   "source": [
    "## Loading and visualizig DICOM"
   ]
  },
  {
   "cell_type": "markdown",
   "id": "bcecf5d8-5a6c-427c-a085-ccdae7c4dcc3",
   "metadata": {},
   "source": [
    "This notebook demonstrates importing images in DICOM format to CERR's planC data structure and visualizing the imported objects. Phantom dataset made available by Lambin et al via CancerData and re-distributed along with the CERR package is used in this demonstration. Each patient daatset consists of CT scan for Lung and tumor segmentation."
   ]
  },
  {
   "cell_type": "markdown",
   "id": "80a0bba7-18b0-4eed-818d-4ae858dac033",
   "metadata": {},
   "source": [
    "#### Install pyCERR (development version)"
   ]
  },
  {
   "cell_type": "code",
   "execution_count": null,
   "id": "b0cae3ce-cc2d-4cdb-99e1-6d1596144460",
   "metadata": {},
   "outputs": [],
   "source": [
    "%%capture\n",
    "! pip install \"pyCERR[napari] @ git+https://github.com/cerr/pyCERR\""
   ]
  },
  {
   "cell_type": "markdown",
   "id": "f8a8c067-8827-46f7-9297-0c016cadc719",
   "metadata": {},
   "source": [
    "#### Get a list of paths to patient datasets"
   ]
  },
  {
   "cell_type": "code",
   "execution_count": null,
   "id": "d316cf4f-e9ee-49f4-be4b-3c62ed47bb02",
   "metadata": {},
   "outputs": [],
   "source": [
    "from cerr import datasets\n",
    "import os\n",
    "phantom_dir = os.path.join(os.path.dirname(datasets.__file__),'radiomics_phantom_dicom')\n",
    "pat_names = ['pat_1', 'pat_2', 'pat_3', 'pat_4']\n",
    "all_pat_dirs = [os.path.join(phantom_dir, pat) for pat in pat_names]"
   ]
  },
  {
   "cell_type": "markdown",
   "id": "7743b47f-04b0-41bd-b13e-dd4b59f6146c",
   "metadata": {},
   "source": [
    "#### Import contents of a patient directory to planC"
   ]
  },
  {
   "cell_type": "code",
   "execution_count": null,
   "id": "af4f16e8-4540-4c00-9763-48cf4b48ca40",
   "metadata": {},
   "outputs": [],
   "source": [
    "# Import dicom to planC\n",
    "from cerr import plan_container as pc\n",
    "dcm_dir = all_pat_dirs[0]\n",
    "planC = pc.loadDcmDir(dcm_dir)"
   ]
  },
  {
   "cell_type": "markdown",
   "id": "75e5eeda-46d5-41e7-9fa1-4d3100d5f141",
   "metadata": {},
   "source": [
    "#### Metadata access"
   ]
  },
  {
   "cell_type": "code",
   "execution_count": null,
   "id": "fdb84ceb-95d9-4ec4-b04e-b281ef08d12c",
   "metadata": {},
   "outputs": [],
   "source": [
    "print(\"Number of Scans in planC:\")\n",
    "print(len(planC.scan))\n",
    "print(\"Scan types:\")\n",
    "print([s.scanInfo[0].imageType for s in planC.scan])\n",
    "print(\"Number of Structures in planC:\")\n",
    "print(len(planC.structure))\n",
    "print(\"Structure Names\")\n",
    "print([s.structureName for s in planC.structure])\n",
    "\n",
    "# Access segmented mask\n",
    "import cerr.contour.rasterseg as rs\n",
    "structNum = 0\n",
    "mask3M = rs.getStrMask(structNum, planC)\n",
    "print(\"Number of labeled voxels in the mask\")\n",
    "mask3M.sum()\n",
    "\n",
    "# Access scan\n",
    "scanNum = 0\n",
    "scan3M = planC.scan[scanNum].getScanArray()\n",
    "print(\"Size of scanArray\")\n",
    "print(scan3M.shape)\n",
    "\n",
    "# Compute ROI statistics\n",
    "print(\"Mean intensity in ROI:\")\n",
    "print(scan3M[mask3M].mean())"
   ]
  },
  {
   "cell_type": "markdown",
   "id": "a538a483-d9e8-4caa-92ae-e325d72d95ba",
   "metadata": {},
   "source": [
    "#### Visualize scan and lung-tumor segmentation"
   ]
  },
  {
   "cell_type": "markdown",
   "id": "83962666-e46c-4659-825b-2c313d389dd8",
   "metadata": {},
   "source": [
    "Napari package is used for visualization. Napari requires a Display for rendering graphics and does not support visualization on a remote server (e.g. Google Colab)"
   ]
  },
  {
   "cell_type": "code",
   "execution_count": null,
   "id": "df6cf4ad-d0ed-410d-a358-dbdcdbd47ee8",
   "metadata": {},
   "outputs": [],
   "source": [
    "from cerr import viewer as vwr\n",
    "scanNumV = [0]\n",
    "doseNumV = []\n",
    "strNumV = [0]\n",
    "viewer, scan_layer, struct_layer, dose_layer, dvf_layer = \\\n",
    "    vwr.showNapari(planC, scan_nums=scanNumV, struct_nums=strNumV, dose_nums=doseNumV, vectors_dict={}, displayMode='2d')\n"
   ]
  },
  {
   "cell_type": "markdown",
   "id": "2ec4c039-1fea-4251-9fee-ce0efdf0c5e8",
   "metadata": {},
   "source": [
    "#### Adjust Visualization settings"
   ]
  },
  {
   "cell_type": "markdown",
   "id": "ae23a896-2b7b-433e-896c-a2dfa8a9a5fc",
   "metadata": {},
   "source": [
    "Properties of Napari viewer and image \"layers\" can be readily accessed and updated. Below cell shows an example of changing opacity, contrast ranges and gamma scale."
   ]
  },
  {
   "cell_type": "code",
   "execution_count": null,
   "id": "927f73c6-fe46-4b60-a87d-43c9d28d9f15",
   "metadata": {},
   "outputs": [],
   "source": [
    "scan_layer[0].opacity = 0.5\n",
    "scan_layer[0].contrast_limits_range = [-1000, 300]\n",
    "scan_layer[0].contrast_limits = [-900, 200]\n",
    "scan_layer[0].gamma = 0.7\n",
    "#dose_layer[0].visible = True"
   ]
  },
  {
   "cell_type": "markdown",
   "id": "2b791657-d6ef-4cd6-a088-58a9a57614b0",
   "metadata": {},
   "source": [
    "#### Programmatically capturing screenshots"
   ]
  },
  {
   "cell_type": "markdown",
   "id": "4ea5eb65-88a7-4e37-aee1-1284d5ec9d0a",
   "metadata": {},
   "source": [
    "Metadata can be accessed from planC to update the Viewer to programmatically capture image slices and objects of interest. The example below shows screenshot capture of tumor segmentation on central CT slice"
   ]
  },
  {
   "cell_type": "code",
   "execution_count": null,
   "id": "15e11256-9da9-4922-bd09-c0dc82826ab9",
   "metadata": {},
   "outputs": [],
   "source": [
    "from skimage.io import imsave, imshow\n",
    "import os\n",
    "import cerr.contour.rasterseg as rs\n",
    "import numpy as np\n",
    "save_dir = r'L:\\Aditya\\batch_images'\n",
    "# Get index of central axial slice\n",
    "scanNum = 0 # index of scan in planC.scan\n",
    "strNum = 0 # index of structure in planC.structure\n",
    "mask3M = rs.getStrMask(strNum, planC)\n",
    "rV, cV, sV = np.where(mask3M)\n",
    "midSliceInd = int(np.round(sV.mean()))\n",
    "# update viewer to display the central slice and capture screenshot\n",
    "xV, yV, zV = planC.scan[scanNum].getScanXYZVals()\n",
    "viewer.dims.set_point(2, zV[midSliceInd])\n",
    "screenshot = viewer.screenshot()\n",
    "capture_fname = os.path.join(save_dir,pat_names[0] + '.png')\n",
    "imsave(capture_fname, screenshot)\n",
    "print('saved to '+ capture_fname)"
   ]
  },
  {
   "cell_type": "markdown",
   "id": "405d04fa-b6fb-4454-b6ef-ed67e1fa561c",
   "metadata": {},
   "source": [
    "#### Show the saved image"
   ]
  },
  {
   "cell_type": "code",
   "execution_count": null,
   "id": "c2cfbd86-4853-476d-a373-f411fe464818",
   "metadata": {},
   "outputs": [],
   "source": [
    "im = imshow(capture_fname)\n",
    "im.axes.set_axis_off()"
   ]
  },
  {
   "cell_type": "markdown",
   "id": "959c24c2-3b6b-4dde-84be-a5feb4a7afa2",
   "metadata": {},
   "source": [
    "#### DVH-based features"
   ]
  },
  {
   "cell_type": "code",
   "execution_count": null,
   "id": "8aefe704-1034-4b59-b15d-d54b21015c31",
   "metadata": {},
   "outputs": [],
   "source": [
    "from cerr import dvh\n",
    "structNum = 5\n",
    "doseNum = 0\n",
    "binWidth = 0.05\n",
    "percent = 70\n",
    "dosesV, volsV, isErr = dvh.getDVH(structNum, doseNum, planC)\n",
    "doseBinsV,volHistV = dvh.doseHist(dosesV, volsV, binWidth)\n",
    "dvh.MOHx(doseBinsV,volHistV,percent)"
   ]
  }
 ],
 "metadata": {
  "kernelspec": {
   "display_name": "Python 3 (ipykernel)",
   "language": "python",
   "name": "python3"
  },
  "language_info": {
   "codemirror_mode": {
    "name": "ipython",
    "version": 3
   },
   "file_extension": ".py",
   "mimetype": "text/x-python",
   "name": "python",
   "nbconvert_exporter": "python",
   "pygments_lexer": "ipython3",
   "version": "3.11.9"
  }
 },
 "nbformat": 4,
 "nbformat_minor": 5
}
