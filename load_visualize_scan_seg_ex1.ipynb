{
 "cells": [
  {
   "cell_type": "markdown",
   "id": "ed1b96ec-543d-48a5-888b-018d9e0445a4",
   "metadata": {},
   "source": [
    "## Loading and visualizig DICOM"
   ]
  },
  {
   "cell_type": "markdown",
   "id": "bcecf5d8-5a6c-427c-a085-ccdae7c4dcc3",
   "metadata": {},
   "source": [
    "This notebook demonstrates importing images in DICOM format to CERR's planC data structure and visualizing the imported objects. Phantom dataset made available by Lambin et al via CancerData and re-distributed along with the CERR package is used in this demonstration. Each patient daatset consists of CT scan for Lung and tumor segmentation."
   ]
  },
  {
   "cell_type": "markdown",
   "id": "80a0bba7-18b0-4eed-818d-4ae858dac033",
   "metadata": {},
   "source": [
    "#### Install pyCERR (development version)"
   ]
  },
  {
   "cell_type": "code",
   "execution_count": null,
   "id": "b0cae3ce-cc2d-4cdb-99e1-6d1596144460",
   "metadata": {},
   "outputs": [],
   "source": [
    "%%capture\n",
    "pip install git+https://github.com/cerr/pyCERR/"
   ]
  },
  {
   "cell_type": "markdown",
   "id": "f8a8c067-8827-46f7-9297-0c016cadc719",
   "metadata": {},
   "source": [
    "#### Get a list of paths to patient datasets"
   ]
  },
  {
   "cell_type": "code",
   "execution_count": 3,
   "id": "d316cf4f-e9ee-49f4-be4b-3c62ed47bb02",
   "metadata": {},
   "outputs": [],
   "source": [
    "from cerr import datasets\n",
    "import os\n",
    "phantom_dir = os.path.join(os.path.dirname(datasets.__file__),'radiomics_phantom_dicom')\n",
    "pat_names = ['PAT1', 'PAT2', 'PAT3', 'PAT4']\n",
    "all_pat_dirs = [os.path.join(phantoselfm_dir, pat) for pat in pat_names]"
   ]
  },
  {
   "cell_type": "markdown",
   "id": "7743b47f-04b0-41bd-b13e-dd4b59f6146c",
   "metadata": {},
   "source": [
    "#### Import contents of a patient directory to planC"
   ]
  },
  {
   "cell_type": "code",
   "execution_count": 5,
   "id": "af4f16e8-4540-4c00-9763-48cf4b48ca40",
   "metadata": {},
   "outputs": [
    {
     "name": "stdout",
     "output_type": "stream",
     "text": [
      "('PAT1', 'PAT1', '1.3.6.1.4.1.9590.100.1.2.96328687310426543129572151154132284399', '1.3.6.1.4.1.9590.100.1.2.258301620411152643708006163321128526885', 'RTSTRUCT', '', '', '', '', '', '')\n",
      "('PAT1', 'PAT1', '1.3.6.1.4.1.9590.100.1.2.96328687310426543129572151154132284399', '1.3.6.1.4.1.9590.100.1.2.296658988911737913102339329841519593982', 'CT', '', '', '', '', '', '')\n"
     ]
    }
   ],
   "source": [
    "# Import dicom to planC\n",
    "from cerr import plan_container as pc\n",
    "planC = pc.load_dcm_dir(all_pat_dirs[0])"
   ]
  },
  {
   "cell_type": "markdown",
   "id": "a538a483-d9e8-4caa-92ae-e325d72d95ba",
   "metadata": {},
   "source": [
    "#### Visualize scan and lung-tumor segmentation"
   ]
  },
  {
   "cell_type": "markdown",
   "id": "83962666-e46c-4659-825b-2c313d389dd8",
   "metadata": {},
   "source": [
    "Napari package is used for visualization. Napari requires a Display for rendering graphics and does not support visualization on a remote server (e.g. Google Colab)"
   ]
  },
  {
   "cell_type": "code",
   "execution_count": 9,
   "id": "df6cf4ad-d0ed-410d-a358-dbdcdbd47ee8",
   "metadata": {},
   "outputs": [
    {
     "name": "stderr",
     "output_type": "stream",
     "text": [
      "/Users/aptea/miniconda3/envs/testcerr/lib/python3.8/site-packages/napari/layers/shapes/_shapes_utils.py:710: RuntimeWarning: overflow encountered in square\n",
      "  miter_lengths_squared = (miters**2).sum(axis=1)\n"
     ]
    }
   ],
   "source": [
    "from cerr import viewer as vwr\n",
    "scanNum = [0]\n",
    "doseNum = []\n",
    "strNum = 0\n",
    "displayMode = '2d' # '2d - path' or '3d - surface'\n",
    "viewer, scan_layer, dose_layer, struct_layer = \\\n",
    "vwr.show_scan_struct_dose(scanNum, strNum, doseNum, planC, displayMode)"
   ]
  },
  {
   "cell_type": "markdown",
   "id": "2ec4c039-1fea-4251-9fee-ce0efdf0c5e8",
   "metadata": {},
   "source": [
    "#### Adjust Visualization settings"
   ]
  },
  {
   "cell_type": "markdown",
   "id": "ae23a896-2b7b-433e-896c-a2dfa8a9a5fc",
   "metadata": {},
   "source": [
    "Properties of Napari viewer and image \"layers\" can be readily accessed and updated. Below cell shows an example of changing opacity, contrast ranges and gamma scale."
   ]
  },
  {
   "cell_type": "code",
   "execution_count": 27,
   "id": "927f73c6-fe46-4b60-a87d-43c9d28d9f15",
   "metadata": {},
   "outputs": [],
   "source": [
    "scan_layer[0].opacity = 1\n",
    "scan_layer[0].contrast_limits_range = [-500, 500]\n",
    "scan_layer[0].gamma = 0.8"
   ]
  },
  {
   "cell_type": "markdown",
   "id": "2b791657-d6ef-4cd6-a088-58a9a57614b0",
   "metadata": {},
   "source": [
    "#### Programmatically capturing screenshots"
   ]
  },
  {
   "cell_type": "code",
   "execution_count": 46,
   "id": "15e11256-9da9-4922-bd09-c0dc82826ab9",
   "metadata": {},
   "outputs": [],
   "source": [
    "from skimage.io import imsave\n",
    "import os\n",
    "xV, yV, zV = planC.scan[0].getScanXYZVals()\n",
    "viewer.dims.set_point(2, zV[20])\n",
    "screenshot = viewer.screenshot()\n",
    "save_dir = '/Users/aptea/Desktop/dcm_images'\n",
    "imsave(os.path.join(save_dir,pat_names[0] + '.png'), screenshot)"
   ]
  }
 ],
 "metadata": {
  "kernelspec": {
   "display_name": "Python 3 (ipykernel)",
   "language": "python",
   "name": "python3"
  },
  "language_info": {
   "codemirror_mode": {
    "name": "ipython",
    "version": 3
   },
   "file_extension": ".py",
   "mimetype": "text/x-python",
   "name": "python",
   "nbconvert_exporter": "python",
   "pygments_lexer": "ipython3",
   "version": "3.8.18"
  }
 },
 "nbformat": 4,
 "nbformat_minor": 5
}
