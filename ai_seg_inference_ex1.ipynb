{
 "cells": [
  {
   "cell_type": "markdown",
   "id": "401e315a-999e-4745-9858-887e23217ba5",
   "metadata": {},
   "source": [
    "<a target=\"_blank\" href=\"https://colab.research.google.com/github/cerr/pyCERR-Notebooks/blob/main/ai_seg_inference_ex1.ipynb\">\n",
    "  <img src=\"https://colab.research.google.com/assets/colab-badge.svg\" alt=\"Open In Colab\"/>\n",
    "</a>"
   ]
  },
  {
   "cell_type": "markdown",
   "id": "1e0b94df-a8a5-47f2-ae5e-9b0a2fc27e2a",
   "metadata": {},
   "source": [
    "## AI inference on images in planC"
   ]
  },
  {
   "cell_type": "markdown",
   "id": "6dfe442d-b371-4dd0-bd9b-0c5a47b35698",
   "metadata": {},
   "source": [
    "This notebook demonstrates the use of pyCERR in AI inference. planC keeps track of associations between various imaging objects. These objects can then be passed to an inference routine, e.g. image segmentation, registration, outcomes modeling. Example below demonstrates the steps involved in using image from planC as an input to segmentation model and then exporting the result to DICOM."
   ]
  },
  {
   "cell_type": "markdown",
   "id": "83112066-2ba5-41d4-bb8b-6068e249a19a",
   "metadata": {},
   "source": [
    "#### Install pyCERR"
   ]
  },
  {
   "cell_type": "code",
   "execution_count": null,
   "id": "e4a31618-1309-4101-927c-32515abc13c2",
   "metadata": {},
   "outputs": [],
   "source": [
    "%%capture\n",
    "!pip install git+https://github.com/cerr/pyCERR/"
   ]
  },
  {
   "cell_type": "markdown",
   "id": "179a6ad2-3599-47fa-8809-5f3fa27dc4f3",
   "metadata": {},
   "source": [
    "#### Get path to example dicom dataset in pyCERR"
   ]
  },
  {
   "cell_type": "code",
   "execution_count": null,
   "id": "61962c31-9f6e-4142-a350-168d0f48c275",
   "metadata": {},
   "outputs": [],
   "source": [
    "from cerr import datasets\n",
    "import os\n",
    "phantom_dir = os.path.join(os.path.dirname(datasets.__file__),'radiomics_phantom_dicom')\n",
    "pat_names = ['PAT1', 'PAT2', 'PAT3', 'PAT4']\n",
    "all_pat_dirs = [os.path.join(phantom_dir, pat) for pat in pat_names]\n",
    "dcm_dir = all_pat_dirs[0]"
   ]
  },
  {
   "cell_type": "markdown",
   "id": "72dc6e31-88f2-49b7-b456-4d98be52e61d",
   "metadata": {},
   "source": [
    "#### Import dicom to planC"
   ]
  },
  {
   "cell_type": "code",
   "execution_count": null,
   "id": "5f902908-a8ac-4513-b096-5784af93f9c6",
   "metadata": {},
   "outputs": [],
   "source": [
    "from cerr import plan_container as pc\n",
    "planC = pc.load_dcm_dir(dcm_dir)"
   ]
  },
  {
   "cell_type": "markdown",
   "id": "8787ce21-6df6-42e6-ab3d-dcb72a41f2f1",
   "metadata": {},
   "source": [
    "#### Export the desired image to nii or pass numpy array to inference wrapper"
   ]
  },
  {
   "cell_type": "code",
   "execution_count": null,
   "id": "45b2b592-73c9-4b0b-8560-957a9922673b",
   "metadata": {},
   "outputs": [],
   "source": [
    "import tempfile\n",
    "import os\n",
    "niiExportDir = tempfile.gettempdir()\n",
    "scanNum = 0 # index of scan to export to nii\n",
    "str_num = 0 # index of segmentation to export to nii\n",
    "scanNiiFile = os.path.join(niiExportDir,'scan_from_cerr.nii.gz')\n",
    "planC.scan[scanNum].save_nii(scanNiiFile)\n",
    "str_name = planC.structure[str_num].structureName\n",
    "strNiiFile = os.path.join(niiExportDir,str_name+'.nii.gz')\n",
    "planC.structure[str_num].save_nii(strNiiFile,planC)\n",
    "print(\"Exported nii files to \" + niiExportDir)"
   ]
  },
  {
   "cell_type": "markdown",
   "id": "a24451fe-825c-4d1f-a85a-4d626d19aaf8",
   "metadata": {},
   "source": [
    "#### Read segmentation output as nii"
   ]
  },
  {
   "cell_type": "code",
   "execution_count": null,
   "id": "1ac9f82f-5e45-4c0f-aee4-a8e85234fe07",
   "metadata": {},
   "outputs": [],
   "source": [
    "niiSegOutputFile = strNiiFile # same as input segmentation for now. This will be output of an AI model\n",
    "assocScanNum = 0\n",
    "labelsDict = {1: \"test_ai_struct\"}\n",
    "planC = pc.load_nii_structure(niiSegOutputFile, assocScanNum, planC, labelsDict)\n"
   ]
  },
  {
   "cell_type": "markdown",
   "id": "83090cd3-9a13-47d2-888c-55c1f8d691b2",
   "metadata": {},
   "source": [
    "#### Export segmentation to dicom"
   ]
  },
  {
   "cell_type": "code",
   "execution_count": null,
   "id": "a89c0676-1383-4368-9a17-6a85b42a274d",
   "metadata": {},
   "outputs": [],
   "source": [
    "from cerr.dcm_export import rtstruct_iod\n",
    "rtstructFile = os.path.join(niiExportDir,\"ai_seg_test.dcm\")\n",
    "structNumV = [len(planC.structure)-1] # Export the last structure in the list\n",
    "seriesDescription = \"AI Generated\"\n",
    "rtstruct_iod.create(structNumV,rtstructFile,planC,seriesDescription)\n"
   ]
  },
  {
   "cell_type": "markdown",
   "id": "bc32c9c1-8a07-4807-8750-b15e603019b3",
   "metadata": {},
   "source": [
    "#### Clean-up exported files"
   ]
  },
  {
   "cell_type": "code",
   "execution_count": null,
   "id": "a2940ca2-a4c0-4bd0-825b-5d9421fe3b77",
   "metadata": {},
   "outputs": [],
   "source": [
    "os.remove(scanNiiFile)\n",
    "os.remove(strNiiFile)\n",
    "os.remove(rtstructFile)"
   ]
  }
 ],
 "metadata": {
  "kernelspec": {
   "display_name": "Python 3 (ipykernel)",
   "language": "python",
   "name": "python3"
  },
  "language_info": {
   "codemirror_mode": {
    "name": "ipython",
    "version": 3
   },
   "file_extension": ".py",
   "mimetype": "text/x-python",
   "name": "python",
   "nbconvert_exporter": "python",
   "pygments_lexer": "ipython3",
   "version": "3.8.18"
  }
 },
 "nbformat": 4,
 "nbformat_minor": 5
}
