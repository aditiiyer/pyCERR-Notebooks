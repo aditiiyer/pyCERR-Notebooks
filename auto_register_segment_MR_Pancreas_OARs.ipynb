{
  "cells": [
    {
      "cell_type": "markdown",
      "metadata": {
        "id": "kNoydh-RsgcD"
      },
      "source": [
        "# Introduction\n",
        "\n",
        "In this tutorial, we will demonstrate how to apply a pre-trained AI model [1] for deformable registration and segmentation of organs at risk (OARs) on longitudinal T2w-MRI scans using pyCERR.\n",
        "\n",
        "\n",
        "## Requirements\n",
        "* Python>=3.8\n",
        "* Applying this model requires access to a GPU.  \n",
        "  *On Colab* :  `Runtime > Change runtime type > Select GPU `  \n",
        "  \n",
        "## AI model\n",
        "* The segmentation model used here was trained and validated on longitudinal T2w MRI scans used for RT planning.   \n",
        "* The earlier scan must be rigidly registered to the later scan, and input segmentations of the OARs listed below must be available on the earlier scan.   \n",
        "\n",
        "## I/O  \n",
        "\n",
        "* **Input**: DICOM-format longitundinal pancreas MRI scans.  \n",
        "\n",
        "* **Outputa**:  \n",
        "[1] DICOM RTStruct-format segmentations of\n",
        "  * Liver\n",
        "  * Bowel_Lg\n",
        "  * Bowel_Sm\n",
        "  * Duostomach\n",
        "  \n",
        "  [2] Deformable vector field (DVF) to deform the earlier (moving) scan to a later (baseline) scan.      \n",
        "      \n",
        "      \n",
        "  Input data should be organized as: one directory of DICOM images per patient.       \n",
        "    \n",
        "```    \n",
        "    Input dir\n",
        "            |------Pat1  \n",
        "                      |---Week1\n",
        "                            |------REG_img1.dcm  \n",
        "                                   REG_img2.dcm  \n",
        "                                   ....  \n",
        "                                   REG_RTSRTUCT  \n",
        "                      |---Week2\n",
        "                            |------img1.dcm  \n",
        "                                   img2.dcm  \n",
        "                                   ....  \n",
        "                                   ....  \n",
        "            |-----Pat2  \n",
        "                     |---Week1\n",
        "                            |------REG_img1.dcm  \n",
        "                                   REG_img2.dcm  \n",
        "                                   ....  \n",
        "                                   REG_RTSRTUCT  \n",
        "                      |---Week2\n",
        "                            |------img1.dcm  \n",
        "                                   img2.dcm  \n",
        "                                   ....  \n",
        "                                   ....\n",
        "```\n",
        "\n",
        "\n",
        "## Installing the model and its dependencies\n",
        "\n",
        "* Installation is performed using CERR's [***model installer***]( https://github.com/cerr/model_installer).  \n",
        "\n",
        "* A Conda archive containing dependencies is downloaded to the `conda-pack`   \n",
        "  sub-directory of a configurable `scriptInstallDir`.  \n",
        "  By default `condaEnvPath = '/content/MRI_Pancreas_Fullshot_AnatomicCtxShape/conda-pack'`\n",
        "  \n",
        "* The inference script is located at   \n",
        "  `scriptInstallDir = os.path.join(condaEnvPath,'model_wrapper', run_inference_first_to_last_nii.py')`\n",
        "  \n",
        "  \n",
        "## Running the model\n",
        "\n",
        "```python\n",
        "!python {wrapperPath} {input_nii_directory} {output_nii_directory}\n",
        "```\n",
        "* Data transformations including converting between DICOM and NIfTI formats,  automatic extraction of patient outline, and resizing [2], are performed using [***pyCERR***](https://github.com/cerr/pyCERR)."
      ]
    },
    {
      "cell_type": "markdown",
      "metadata": {
        "id": "6GVYj7k5e97G"
      },
      "source": [
        "## License\n",
        "\n",
        "By downloading the software you are agreeing to the following terms and conditions as well as to the Terms of Use of CERR software.\n",
        "\n",
        "**`THE SOFTWARE IS PROVIDED \"AS IS\" AND CERR DEVELOPMENT TEAM AND ITS COLLABORATORS DO NOT MAKE ANY WARRANTY, EXPRESS OR IMPLIED, INCLUDING BUT NOT LIMITED TO WARRANTIES OF MERCHANTABILITY AND FITNESS FOR A PARTICULAR PURPOSE, NOR DO THEY ASSUME ANY LIABILITY OR RESPONSIBILITY FOR THE USE OF THIS SOFTWARE.`**\n",
        "\n",
        "`This software is for research purposes only and has not been approved for clinical use.`\n",
        "\n",
        "`Software has not been reviewed or approved by the Food and Drug Administration, and is for non-clinical, IRB-approved Research Use Only. In no event shall data or images generated through the use of the Software be used in the provision of patient care.`\n",
        "  \n",
        "`YOU MAY NOT DISTRIBUTE COPIES of this software, or copies of software derived from this software, to others outside your organization without specific prior written permission from the CERR development team except where noted for specific software products.`\n",
        "\n",
        "`All Technology and technical data delivered under this Agreement are subject to US export control laws and may be subject to export or import regulations in other countries. You agree to comply strictly with all such laws and regulations and acknowledge that you have the responsibility to obtain\n",
        "such licenses to export, re-export, or import as may be required after delivery to you.`\n",
        "\n",
        "**`You may publish papers and books using results produced using software provided that you reference the following`**:\n",
        "  \n",
        "  1. **AI model** :  https://doi.org/10.1002/mp.16527\n",
        "  2. **Data processing** :  https://doi.org/10.1101/2021.03.17.435903\n"
      ]
    },
    {
      "cell_type": "markdown",
      "metadata": {
        "id": "35nEDWKTg5c1"
      },
      "source": [
        "# Downloads"
      ]
    },
    {
      "cell_type": "markdown",
      "metadata": {
        "id": "mP6FHznIg7Yd"
      },
      "source": [
        "\n",
        "## Download planning MRIs (DICOM)\n",
        "\n",
        "The following can be used to download data from user-specified ***dataUrl*** to ***dataDownloadDir***.\n",
        "\n",
        "See [demo notebook](github.com/cerr/pyCERR-Notebooks/download_data_from_xnat.ipynb) for downloading data from XNAT.\n"
      ]
    },
    {
      "cell_type": "code",
      "execution_count": null,
      "metadata": {
        "id": "l2cIR2Swg_84"
      },
      "outputs": [],
      "source": [
        "import os\n",
        "workDir = r'/content' #for Colab\n",
        "#workDir = r'/home/jupyter'\n",
        "dataUrl = 'http://path.to/data'\n",
        "dataDownloadDir = os.path.join(workDir,'sampleData')\n",
        "os.makedirs(dataDownloadDir,exist_ok=True)"
      ]
    },
    {
      "cell_type": "code",
      "execution_count": null,
      "metadata": {
        "id": "CWaGs8LqhZTD"
      },
      "outputs": [],
      "source": [
        "! wget -O sampleData.gz -L {dataUrl}\n",
        "! tar xf sampleData.gz -C {dataDownloadDir}\n",
        "! rm sampleData.gz"
      ]
    },
    {
      "cell_type": "markdown",
      "metadata": {
        "id": "VSvE1KsTj9do"
      },
      "source": [
        "Define paths to input DICOM directory, desired output directory, and a session directory to store temporary files during model execution"
      ]
    },
    {
      "cell_type": "code",
      "execution_count": null,
      "metadata": {
        "id": "iHbUWoUEj1A2"
      },
      "outputs": [],
      "source": [
        "#Paths to input data and conda env with pre-trained models\n",
        "inputDicomPath = os.path.join(dataDownloadDir,'your_dir_name_here')  # Replace with apropriate path to your dataset\n",
        "outputDicomPath = os.path.join(workDir, 'AIoutput')\n",
        "sessionPath = os.path.join(workDir, 'temp')\n",
        "inputSubDirs = ['Masks']\n",
        "\n",
        "if not os.path.exists(outputDicomPath):\n",
        "  os.mkdir(outputDicomPath)\n",
        "\n",
        "if not os.path.exists(sessionPath):\n",
        "  os.mkdir(sessionPath)"
      ]
    },
    {
      "cell_type": "markdown",
      "metadata": {
        "id": "wfduFdNhndfs"
      },
      "source": [
        "## Download pre-trained model, inference script, and packaged conda evnironment to ***scriptInstallDir***\n"
      ]
    },
    {
      "cell_type": "code",
      "source": [
        "%%capture\n",
        "os.chdir(workDir)\n",
        "!git clone https://github.com/cerr/model_installer.git\n",
        "os.chdir(os.path.join(workDir,'model_installer'))\n",
        "!./installer.sh -h\n",
        "\n",
        "modelOpt = '5'  # MRI_Pancreas_Fullshot_AnatomicCtxShape\n",
        "pythonOpt = 'C' # Download packaged Conda environment\n",
        "\n",
        "! source ./installer.sh -m {modelOpt} -d {workDir} -p {pythonOpt}"
      ],
      "metadata": {
        "id": "N6oEXZbqrqo_"
      },
      "execution_count": null,
      "outputs": []
    },
    {
      "cell_type": "code",
      "source": [
        "# Location of inference script\n",
        "scriptInstallDir = os.path.join(workDir, 'MRI_Pancreas_Fullshot_AnatomicCtxShape')\n",
        "scriptPath = os.path.join(scriptInstallDir,\n",
        "                         'model_wrapper',\n",
        "                         'run_inference_nii.py')\n",
        "\n",
        "# Location of Conda archive\n",
        "condaEnvPath = os.path.join(scriptInstallDir, 'conda-pack')\n",
        "\n",
        "# Location of activation script for Conda environment\n",
        "activateScript = os.path.join(condaEnvPath,'bin','activate')"
      ],
      "metadata": {
        "id": "_WP3FgsRr2cP"
      },
      "execution_count": null,
      "outputs": []
    },
    {
      "cell_type": "markdown",
      "metadata": {
        "id": "DsKXYI-dsgcK"
      },
      "source": [
        "## Install ***pyCERR***\n",
        "\n",
        "pyCERR is used for data import/export and pre- and post-processing transformations needed for this model."
      ]
    },
    {
      "cell_type": "code",
      "execution_count": null,
      "metadata": {
        "id": "XRGzE5J7sgcL"
      },
      "outputs": [],
      "source": [
        "%%capture\n",
        "!pip install \"pyCERR @ git+https://github.com/cerr/pyCERR.git@testing\""
      ]
    },
    {
      "cell_type": "markdown",
      "metadata": {
        "id": "sfcIIiLQsgcM"
      },
      "source": [
        "# Data processing"
      ]
    },
    {
      "cell_type": "markdown",
      "metadata": {
        "id": "1m955pAJsgcN"
      },
      "source": [
        "## Pre-processing  \n",
        "\n",
        "###`processInputData`: Crop scan around patient outline and resize to 128 x 192 x 128 voxels"
      ]
    },
    {
      "cell_type": "code",
      "execution_count": null,
      "metadata": {
        "id": "FtPOzqWQsgcP"
      },
      "outputs": [],
      "source": [
        "# Map output labels to structure names\n",
        "\n",
        "strToLabelMap  = {1: \"Liver\", 2:\"Bowel_lg\",\\\n",
        "                  3:\"Bowel_sm\", 4: \"Duostomach\"}\n",
        "segStrList = list(strToLabelMap.values())\n",
        "labels = list(strToLabelMap.keys())\n",
        "numAIStrs = len(labels)"
      ]
    },
    {
      "cell_type": "code",
      "execution_count": null,
      "metadata": {
        "id": "FAXBqkTasgcN"
      },
      "outputs": [],
      "source": [
        "import cerr\n",
        "import cerr.plan_container as pc\n",
        "from cerr.dataclasses import structure as cerrStr\n",
        "from cerr.contour import rasterseg as rs\n",
        "from cerr.utils import mask\n",
        "from cerr.utils.image_proc import resizeScanAndMask\n",
        "\n",
        "\n",
        "def processInputData(scanIdx, outlineStructName, strToLabelMap, planC):\n",
        "    \"\"\"Pre-process scan and mask for input to model\"\"\"\n",
        "\n",
        "    #--------------------------------------------------\n",
        "    #          Identify input structure indices\n",
        "    #---------------------------------------------------\n",
        "    strList = [str.structureName for str in planC.structure]\n",
        "\n",
        "    if strToLabelMap is not None:\n",
        "\n",
        "        segStrList = list(strToLabelMap.values())\n",
        "        labels = list(strToLabelMap.keys())\n",
        "        strNumV = np.zeros(len(labels),dtype=int)\n",
        "\n",
        "        for numLabel in range(len(labels)):\n",
        "\n",
        "            structName = strToLabelMap[labels[numLabel]]\n",
        "            matchIdxV = cerrStr.getMatchingIndex(structName,\n",
        "                                                 strList,\n",
        "                                                 matchCriteria='exact')\n",
        "            strNumV[numLabel] = matchIdxV[0]\n",
        "\n",
        "        # Extract label map\n",
        "        maskList = cerrStr.getMaskList(strNumV,\n",
        "                                       planC,\n",
        "                                       labelDict=strToLabelMap)\n",
        "        mask4M = np.array(maskList)\n",
        "        mask4M = np.moveaxis(mask4M, 0, -1)# nRows x nCols x nSlc x nlabels\n",
        "    else:\n",
        "        mask4M = None\n",
        "\n",
        "    #--------------------------------------------------\n",
        "    #          Process input scan\n",
        "    #---------------------------------------------------\n",
        "    modality = 'MR'\n",
        "    scan3M = planC.scan[scanIdx].getScanArray()\n",
        "    scanSizeV = np.shape(scan3M)\n",
        "\n",
        "    # 1. Crop to  patient outline\n",
        "\n",
        "    ## Extract outline\n",
        "    outlineIdx = strList.index(outlineStructName) \\\n",
        "                if outlineStructName in strList else None\n",
        "\n",
        "    if outlineIdx is None:\n",
        "        # Generate outline mask\n",
        "        threshold = 0.03\n",
        "        outline3M = mask.getPatientOutline(scan3M,\n",
        "                                           threshold,\n",
        "                                           normFlag=True)\n",
        "\n",
        "        planC = pc.importStructureMask(outline3M,\n",
        "                                       scanIdx,\n",
        "                                       outlineStrName,\n",
        "                                       None,\n",
        "                                       planC)\n",
        "    else:\n",
        "      # Load outline mask\n",
        "      outline3M = rs.getStrMask(outlineIdx, planC)\n",
        "\n",
        "    ## Crop scan\n",
        "    cropMask4M = None\n",
        "    minr, maxr, minc, maxc, mins, maxs, _ = mask.compute_boundingbox(outline3M)\n",
        "    cropScan3M = scan3M[minr:maxr, minc:maxc, mins:maxs]\n",
        "    cropScanSizeV = np.shape(cropScan3M)\n",
        "    if mask4M is not None:\n",
        "        cropMask4M = mask4M[minr:maxr, minc:maxc, mins:maxs, :]\n",
        "\n",
        "    ##    Crop grid\n",
        "    gridS = planC.scan[scanIdx].getScanXYZVals()\n",
        "    cropGridS = (gridS[0][minc:maxc],\n",
        "                 gridS[1][minr:maxr],\n",
        "                 gridS[2][mins:maxs])\n",
        "\n",
        "    # 2. Resize scan\n",
        "    ## Crop scan in-plane\n",
        "    outputImgSizeV = [128, 192, cropScanSizeV[2]]\n",
        "    method = 'bicubic'\n",
        "    procScan3M, procMask4M, resizeGridS = resizeScanAndMask(cropScan3M,\n",
        "                                          cropMask4M,\n",
        "                                          cropGridS,\n",
        "                                          outputImgSizeV,\n",
        "                                          method)\n",
        "    ## Pad scan along slices\n",
        "    resizeScanShape = procScan3M.shape\n",
        "    outputImgSizeV = [resizeScanShape[0], resizeScanShape[1], 128]\n",
        "    method = 'padslices'\n",
        "    procPadScan3M, procPadMask4M, padGridS = resizeScanAndMask(procScan3M, \\\n",
        "                                                               procMask4M,\\\n",
        "                                                               resizeGridS, \\\n",
        "                                                               outputImgSizeV,\\\n",
        "                                                               method)\n",
        "\n",
        "    #--------------------------------------------------\n",
        "    #    Import processed scan & mask to planC\n",
        "    #---------------------------------------------------\n",
        "\n",
        "    ## Import scan\n",
        "    planC = pc.import_scan_array(procPadScan3M,\n",
        "                                 padGridS[0],\n",
        "                                 padGridS[1],\n",
        "                                 padGridS[2],\n",
        "                                 modality,\n",
        "                                 scanIdx,\n",
        "                                 planC)\n",
        "    processedScanIdx = len(planC.scan) - 1\n",
        "\n",
        "    ## Import mask\n",
        "    processedStrIdxV = []\n",
        "    if procPadMask4M is not None:\n",
        "        for structName in segStrList:\n",
        "            segStrIndex = segStrList.index(structName)\n",
        "            procPadMask3M = procPadMask4M[:, :, :, segStrList.index(segStrIndex)]\n",
        "            planC = pc.importStructureMask(procPadMask3M,\n",
        "                                           processedScanIdx, \\\n",
        "                                           structName,\n",
        "                                           None,\n",
        "                                           planC)\n",
        "\n",
        "            processedStrIdxV.append(len(planC.structure) - 1 )\n",
        "    else:\n",
        "        processedStrIdxV = None\n",
        "\n",
        "    return processedScanIdx, processedStrIdxV, padGridS"
      ]
    },
    {
      "cell_type": "markdown",
      "metadata": {
        "id": "C1KHjP1LsgcO"
      },
      "source": [
        "\n",
        "## **Post-processing**\n",
        "\n",
        "### `postProcAndImportSeg`: Read label maps, undo pre-processing transformations, and retain only the largest connected component of the resulting mask."
      ]
    },
    {
      "cell_type": "code",
      "execution_count": null,
      "metadata": {
        "id": "W_GjRVWtsgcP"
      },
      "outputs": [],
      "source": [
        "import glob\n",
        "import SimpleITK as sitk\n",
        "\n",
        "def postProcAndImportSeg(modOutputPath, baseScanIdx, outlineStructName,\n",
        "                         strToLabelMap, inputGridS, planC):\n",
        "    \"\"\" Import auto-segmentations to planC\"\"\"\n",
        "\n",
        "    #--------------------------------------------------\n",
        "    #              Read AI-generated mask\n",
        "    #---------------------------------------------------\n",
        "    niiGlob = glob.glob(os.path.join(modOutputPath, '*.nii.gz'))\n",
        "    print('Importing ' + niiGlob[0] + '...')\n",
        "    outputMask = sitk.ReadImage(niiGlob[0])\n",
        "    outputMask = sitk.GetArrayFromImage(outputMask)\n",
        "    numStrOrig = len(planC.structure)\n",
        "    numAIStrs = len(strToLabelMap)\n",
        "\n",
        "    #--------------------------------------------------\n",
        "    #      Undo pre-processing transformations\n",
        "    #---------------------------------------------------\n",
        "    ## Extract extents of patient outline\n",
        "    strList = [str.structureName for str in planC.structure]\n",
        "    outlineIdx = strList.index(outlineStructName)\n",
        "    outline3M = rs.getStrMask(outlineIdx, planC)\n",
        "    minr, maxr, minc, maxc, mins, maxs, _ = mask.computeBoundingbox(outline3M)\n",
        "    nSlc = maxs-mins\n",
        "    resizedDimsV = [128, 192, nSlc]\n",
        "\n",
        "    ## Undo padding\n",
        "    method = 'unpadslices'\n",
        "    _, unPadMask4M, unPadGridS = resizeScanAndMask(None,\n",
        "                                                   outputMask,\n",
        "                                                   inputGridS,\n",
        "                                                   resizedDimsV,\n",
        "                                                   method)\n",
        "    ## Undo resizing\n",
        "    outputImgSizeV = [maxr-minr, maxc-minc, nSlc]\n",
        "    method = 'bicubic'\n",
        "    _, resizeMask4M, resizeGridS = resizeScanAndMask(None,\n",
        "                                                     unPadMask4M,\n",
        "                                                     unPadGridS,\n",
        "                                                     outputImgSizeV,\n",
        "                                                     method)\n",
        "\n",
        "    ## Undo cropping\n",
        "    baseImgSizeV = list(planC.scan[baseScanIdx].getScanSize())\n",
        "    fullMask4M = np.zeros(baseImgSizeV + [numAIStrs])\n",
        "    fullMask4M[minr:maxr, minc:maxc, mins:maxs, :] = resizeMask4M\n",
        "\n",
        "    #--------------------------------------------------\n",
        "    #             Import results to planC\n",
        "    #---------------------------------------------------\n",
        "    for numLabel in range(numAIStrs):\n",
        "        binMask = fullMask4M[:, :, :, numLabel]\n",
        "        # Post-process and replace input structure in planC\n",
        "        strName = 'AI_' + strToLabelMap[numLabel + 1]\n",
        "        planC = cerrStr.importStructureMask(binMask, baseScanIdx, strName, \\\n",
        "                                              None, planC)\n",
        "        strNum = len(planC.structure) - 1\n",
        "        importMask3M, planC = cerrStr.getLargestConnComps(strNum, 1,\\\n",
        "                              planC, saveFlag=True, replaceFlag=True,\\\n",
        "                              procSructName=strName)\n",
        "\n",
        "    return planC"
      ]
    },
    {
      "cell_type": "markdown",
      "metadata": {
        "id": "zj7t-J4isgcQ"
      },
      "source": [
        "# Segment OARs"
      ]
    },
    {
      "cell_type": "markdown",
      "metadata": {
        "id": "_XVVLPjBkYI0"
      },
      "source": [
        "## Apply AI model  to all longitudinal MR datasets  \n",
        "\n",
        "### located in ***inputDicomPath*** and store auto-segmentation results to ***outputDicomPath***\n"
      ]
    },
    {
      "cell_type": "code",
      "execution_count": null,
      "metadata": {
        "id": "KUa9dKRz2Dum"
      },
      "outputs": [],
      "source": [
        "%%capture\n",
        "import subprocess\n",
        "import numpy as np\n",
        "import cerr\n",
        "from cerr import plan_container as pc\n",
        "from cerr.dataclasses import scan as cerrScn\n",
        "from cerr.utils.ai_pipeline import createSessionDir, getScanNumFromIdentifier\n",
        "from cerr.dcm_export import rtstruct_iod\n",
        "\n",
        "fileList = os.listdir(inputDicomPath)\n",
        "numFiles = len(fileList)\n",
        "modality = 'MR'\n",
        "scanNum = 0\n",
        "\n",
        "# Loop over pyCERR files\n",
        "\n",
        "for iFile in range(numFiles):\n",
        "\n",
        "    inputFile = fileList[iFile]\n",
        "    dcmDir = os.path.join(inputDicomPath, inputFile)\n",
        "\n",
        "    # Create session dir to store temporary data\n",
        "    modInputPath, modOutputPath = createSessionDir(sessionPath,\n",
        "                                                   inputDicomPath,\n",
        "                                                   inputSubDirs)\n",
        "\n",
        "    # Import DICOM scan to planC\n",
        "    planC = pc.load_dcm_dir(dcmDir)\n",
        "    numExistingStructs = len(planC.structure)\n",
        "\n",
        "    # Pre-process data\n",
        "    outlineStructName = 'patient_outline'\n",
        "\n",
        "    #1. Base scan\n",
        "    identifier = {\"seriesDate\": \"last\"}\n",
        "    baseScanIdx = getScanNumFromIdentifier(identifier, planC)[0]\n",
        "    exportLabelMap = None\n",
        "    procBaseScanIdx, __, procBaseGridS = processInputData(baseScanIdx,\n",
        "                                                          outlineStrName,\n",
        "                                                          exportLabelMap,\n",
        "                                                          planC)\n",
        "\n",
        "    #2. Moving scan\n",
        "    identifier = {\"seriesDate\": \"first\"}\n",
        "    movScanIdx = getScanNumFromIdentifier(identifier, planC)[0]\n",
        "    exportLabelMap = strToLabelMap\n",
        "    procMovScanIdx, procMovStrIdxV, procMovGridS = \\\n",
        "                                    processInputData(movScanIdx,\n",
        "                                                     outlineStructName,\n",
        "                                                     exportLabelMap,\n",
        "                                                     planC)\n",
        "\n",
        "    # Export processed inputs to NIfTI\n",
        "    baseScanFile = os.path.join(modInputPath,\n",
        "                            f\"{inputFile}_MR SCAN_last_scan_3D.nii.gz\")\n",
        "    movScanFile = os.path.join(modInputPath,\n",
        "                           f\"{inputFile}_MR SCAN_first_scan_3D.nii.gz\")\n",
        "    movMaskFile = os.path.join(modInputPath, inputSubDirs[0], \\\n",
        "                           f\"{inputFile}_MR SCAN_first_4D.nii.gz\")\n",
        "    planC.scan[procBaseScanIdx].saveNii(baseScanFile)\n",
        "    planC.scan[procMovScanIdx].saveNii(movScanFile)\n",
        "    pc.saveNiiStructure(movMaskFile,\n",
        "                        procMovStrIdxV,\n",
        "                        planC,\n",
        "                        labelDict=strToLabelMap,\n",
        "                        dim=4)\n",
        "\n",
        "    # Apply pretrained AI model\n",
        "    subprocess.run(f\"source {activateScript} && python {scriptPath} \\\n",
        "                  {modInputPath} {modOutputPath}\", \\\n",
        "                  capture_output=False,shell=True,executable=\"/bin/bash\")\n",
        "\n",
        "    # Import segmentations to planC\n",
        "    planC = postProcAndImportSeg(modOutputPath,\n",
        "                                 baseScanIdx,\n",
        "                                 outlineStructName,\n",
        "                                 strToLabelMap\n",
        "                                 procMovGridS,\n",
        "                                 planC)\n",
        "\n",
        "    newNumStructs = len(planC.structure)\n",
        "\n",
        "    # Export segmentations to DICOM\n",
        "    structFileName = fileList[iFile] + '_AI_seg.dcm'\n",
        "    structFilePath = os.path.join(outputDicomPath, structFileName)\n",
        "    structNumV = np.arange(numExistingStructs, newNumStructs)\n",
        "    indOrigV = np.array([cerrScn.getScanNumFromUID(\\\n",
        "                         planC.structure[structNum].assocScanUID, planC)\\\n",
        "                         for structNum in structNumV], dtype=int)\n",
        "    structsToExportV = structNumV[indOrigV == baseScanIdx]\n",
        "    seriesDescription = \"AI Generated\"\n",
        "    exportOpts = {'seriesDescription': seriesDescription}\n",
        "    rtstruct_iod.create(structsToExportV,\n",
        "                        structFilePath,\n",
        "                        planC,\n",
        "                        exportOpts)"
      ]
    },
    {
      "cell_type": "markdown",
      "metadata": {
        "id": "Kugws3KBl4MK"
      },
      "source": [
        "## **Optional**: Uncomment the following to download the output segmentations to your workspace bucket."
      ]
    },
    {
      "cell_type": "code",
      "execution_count": null,
      "metadata": {
        "id": "_nkTBkijl23J"
      },
      "outputs": [],
      "source": [
        "# workspaceBucket = os.environ['WORKSPACE_BUCKET']\n",
        "# !gcloud storage cp -r {outputDicomPath} {workspaceBucket}"
      ]
    },
    {
      "cell_type": "markdown",
      "metadata": {
        "id": "iLzFp-l_sgcT"
      },
      "source": [
        "# Display results"
      ]
    },
    {
      "cell_type": "markdown",
      "metadata": {
        "id": "L8FTwNqhsgcT"
      },
      "source": [
        "## Overlay AI segmentations on scan for visualization using ***Matplotlib***\n",
        "\n",
        "Note: This example displays the last segmented dataset by default.  \n",
        "Load the appropriate pyCERR archive to `planC` to view results for desired dataset."
      ]
    },
    {
      "cell_type": "code",
      "execution_count": null,
      "metadata": {
        "id": "jWQD1KeVsgcT"
      },
      "outputs": [],
      "source": [
        "from cerr.viewer import showMplNb\n",
        "\n",
        "scanNums = [baseScanIdx, movScanIdx]\n",
        "strNums =  procMovStrIdxV + list(structsToExportV)\n",
        "\n",
        "showMplNb(planC=planC, scan_nums=scanNums,\n",
        "          struct_nums=structNums)"
      ]
    }
  ],
  "metadata": {
    "colab": {
      "provenance": []
    },
    "kernelspec": {
      "display_name": "Python 3",
      "language": "python",
      "name": "python3"
    },
    "language_info": {
      "codemirror_mode": {
        "name": "ipython",
        "version": 3
      },
      "file_extension": ".py",
      "mimetype": "text/x-python",
      "name": "python",
      "nbconvert_exporter": "python",
      "pygments_lexer": "ipython3",
      "version": "3.7.8"
    },
    "toc": {
      "base_numbering": 1,
      "nav_menu": {},
      "number_sections": true,
      "sideBar": true,
      "skip_h1_title": false,
      "title_cell": "Table of Contents",
      "title_sidebar": "Contents",
      "toc_cell": false,
      "toc_position": {},
      "toc_section_display": true,
      "toc_window_display": false
    }
  },
  "nbformat": 4,
  "nbformat_minor": 0
}