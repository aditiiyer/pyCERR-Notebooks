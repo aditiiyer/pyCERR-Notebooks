{
 "cells": [
 {
             "cell_type": "markdown",
             "metadata": {
               "id": "view-in-github"
             },
             "source": [
               "<a href=\"https://colab.research.google.com/github/cerr/pycerr-notebooks/blob/main/auto_register_segment_MR_Pancreas_OARs.ipynb\" target=\"_parent\"><img src=\"https://colab.research.google.com/assets/colab-badge.svg\" alt=\"Open In Colab\"/></a>"
             ]
    },	
   {
      "cell_type": "markdown",
      "metadata": {
        "id": "kNoydh-RsgcD"
      }, 
   "source": [
    "# Introduction\n",
    "\n",
    "In this tutorial, we will demonstrate how to apply a pre-trained AI model [1] for deformable registration and segmentation of organs at risk (OARs) on longitudinal T2w-MRI scans using pyCERR.\n",
    "\n",
    "\n",
    "## Requirements\n",
    "* Python>=3.8\n",
    "* Applying this model requires access to a GPU.  \n",
    "  *On Colab* :  `Runtime > Change runtime type > Select GPU `  \n",
    "  \n",
    "## AI model\n",
    "* The segmentation model used here was trained and validated on longitudinal T2w MRI scans used for RT planning. The earlier scan must be rigidly registered to the later scan, and input segmentations of the OARs listed below must be available on the earlier scan.   \n",
    "\n",
    "## I/O  \n",
    "\n",
    "* **Input**: DICOM-format longitundinal pancreas MRI scans.  \n",
    "  \n",
    "Input data should be organized as: one directory of DICOM images per patient.    \n",
    "  \n",
    "    \n",
    "    Input dir\n",
    "            |------Pat1  \n",
    "                      |---Week1\n",
    "                            |------REG_img1.dcm  \n",
    "                                   REG_img2.dcm  \n",
    "                                   ....  \n",
    "                                   REG_RTSRTUCT  \n",
    "                      |---Week2\n",
    "                            |------img1.dcm  \n",
    "                                   img2.dcm  \n",
    "                                   ....  \n",
    "                                   ....  \n",
    "            |-----Pat2  \n",
    "                     |---Week1\n",
    "                            |------REG_img1.dcm  \n",
    "                                   REG_img2.dcm  \n",
    "                                   ....  \n",
    "                                   REG_RTSRTUCT  \n",
    "                      |---Week2\n",
    "                            |------img1.dcm  \n",
    "                                   img2.dcm  \n",
    "                                   ....  \n",
    "                                   ....\n",
    "\n",
    "\n",
    "* **Output**:   \n",
    "    \n",
    "DICOM RTStruct-format segmentations of:\n",
    "    \n",
    "* Liver\n",
    "* Bowel_Lg\n",
    "* Bowel_Sm\n",
    "* Duostomach\n",
    "  \n",
    "Deformable vector field (DVF) to deform the earlier (moving) scan to a later (baseline) scan.  \n",
    "  \n",
    "* The trained model is packaged as a Conda environment archive containing  python libraries and other dependencies.  \n",
    "  \n",
    "  \n",
    "## Running the model\n",
    "\n",
    "* The Conda archive is downloaded to a configurable `condaEnvPath`. By default `condaEnvPath = '/content/pretrainedPancreasOARModel/'`\n",
    "* The inference script is located at   \n",
    "`wrapperPath = os.path.join(condaEnvPath,'MRI_Pancreas_OAR/model_wrapper/run_inference_first_to_last.nii.py')`\n",
    "\n",
    "* Command to execute the model\n",
    "```python\n",
    "!python {wrapperPath} {input_nii_directory} {output_nii_directory}\n",
    "```\n",
    "* Data transformations including converting between DICOM and NIfTI formats,  automatic extraction of patient outline, and resizing [2], are performed using [***pyCERR***](https://github.com/cerr/pyCERR)."
   ]
  },
  {
   "cell_type": "markdown",
   "metadata": {
    "id": "6GVYj7k5e97G"
   },
   "source": [
    "## License\n",
    "\n",
    "By downloading the software you are agreeing to the following terms and conditions as well as to the Terms of Use of CERR software.\n",
    "\n",
    "**`THE SOFTWARE IS PROVIDED \"AS IS\" AND CERR DEVELOPMENT TEAM AND ITS COLLABORATORS DO NOT MAKE ANY WARRANTY, EXPRESS OR IMPLIED, INCLUDING BUT NOT LIMITED TO WARRANTIES OF MERCHANTABILITY AND FITNESS FOR A PARTICULAR PURPOSE, NOR DO THEY ASSUME ANY LIABILITY OR RESPONSIBILITY FOR THE USE OF THIS SOFTWARE.`**\n",
    "\n",
    "`This software is for research purposes only and has not been approved for clinical use.`\n",
    "\n",
    "`Software has not been reviewed or approved by the Food and Drug Administration, and is for non-clinical, IRB-approved Research Use Only. In no event shall data or images generated through the use of the Software be used in the provision of patient care.`\n",
    "  \n",
    "`YOU MAY NOT DISTRIBUTE COPIES of this software, or copies of software derived from this software, to others outside your organization without specific prior written permission from the CERR development team except where noted for specific software products.`\n",
    "\n",
    "`All Technology and technical data delivered under this Agreement are subject to US export control laws and may be subject to export or import regulations in other countries. You agree to comply strictly with all such laws and regulations and acknowledge that you have the responsibility to obtain\n",
    "such licenses to export, re-export, or import as may be required after delivery to you.`\n",
    "\n",
    "**`You may publish papers and books using results produced using software provided that you reference the following`**:\n",
    "  \n",
    "  1. ***AI model*** :  https://doi.org/10.1002/mp.16527\n",
    "  2. ***Data processing*** :  https://doi.org/10.1101/2021.03.17.435903\n"
   ]
  },
  {
   "cell_type": "markdown",
   "metadata": {
    "id": "35nEDWKTg5c1"
   },
   "source": [
    "# Downloads"
   ]
  },
  {
   "cell_type": "markdown",
   "metadata": {
    "id": "mP6FHznIg7Yd"
   },
   "source": [
    "\n",
    "## Download MRIs (DICOM) from ***dataUrl*** to ***dataDownloadDir***\n"
   ]
  },
  {
   "cell_type": "code",
   "execution_count": null,
   "metadata": {
    "id": "l2cIR2Swg_84"
   },
   "outputs": [],
   "source": [
    "import os\n",
    "workDir = r'/home/jupyter' # r'/content' for Colab\n",
    "dataUrl = 'http://path.to/data'\n",
    "dataDownloadDir = os.path.join(workDir,'sampleData','longitudinalMRdicom')\n",
    "os.makedirs(dataDownloadDir,exist_ok=True)"
   ]
  },
  {
   "cell_type": "code",
   "execution_count": null,
   "metadata": {
    "id": "CWaGs8LqhZTD"
   },
   "outputs": [],
   "source": [
    "! wget -O sampleData.gz -L {dataUrl}\n",
    "! tar xf sampleData.gz -C {dataDownloadDir}\n",
    "! rm sampleData.gz"
   ]
  },
  {
   "cell_type": "markdown",
   "metadata": {
    "id": "VSvE1KsTj9do"
   },
   "source": [
    "Define paths to input DICOM directory, desired output directory, and a session directory to store temporary files during model execution"
   ]
  },
  {
   "cell_type": "code",
   "execution_count": null,
   "metadata": {
    "executionInfo": {
     "elapsed": 261,
     "status": "ok",
     "timestamp": 1718656781516,
     "user": {
      "displayName": "Aditi Iyer",
      "userId": "02458953240687318156"
     },
     "user_tz": 240
    },
    "id": "iHbUWoUEj1A2"
   },
   "outputs": [],
   "source": [
    "#Paths to input data and conda env with pre-trained models\n",
    "inputDicomPath = os.path.join(dataDownloadDir,'your_dir_name_here')  # Replace with apropriate path to your dataset\n",
    "outputDicomPath = os.path.join(workDir, 'AIoutput')\n",
    "sessionPath = os.path.join(workDir, 'temp')\n",
    "inputSubDirs = ['Masks']\n",
    "\n",
    "if not os.path.exists(outputDicomPath):\n",
    "  os.mkdir(outputDicomPath)\n",
    "\n",
    "if not os.path.exists(sessionPath):\n",
    "  os.mkdir(sessionPath)"
   ]
  },
  {
   "cell_type": "markdown",
   "metadata": {
    "id": "wfduFdNhndfs"
   },
   "source": [
    "## Download inference script to ***scriptInstallDir***\n"
   ]
  },
  {
   "cell_type": "code",
   "execution_count": null,
   "metadata": {
    "id": "ivspAad8nb5e"
   },
   "outputs": [],
   "source": [
    "%%capture\n",
    "scriptInstallDir = os.path.join(workDir, 'pretrainedPancreasOARModel','MRI_Pancreas_OAR')\n",
    "!git clonehttps://github.com/cerr/MRI_Pancreas_Fullshot_AnatomicCtxShape {scriptInstallDir}\n",
    "scriptPath = os.path.join(scriptInstallDir, 'model_wrapper','run_inference_first_to_last_nii.py')"
   ]
  },
  {
   "cell_type": "markdown",
   "metadata": {
    "id": "pnoZxbKnsgcG"
   },
   "source": [
    "## Download pre-packaged Conda environment to ***condaArchiveDir***\n",
    "\n",
    "\n",
    "\n"
   ]
  },
  {
   "cell_type": "code",
   "execution_count": null,
   "metadata": {
    "id": "pUc1tZzbsgcK"
   },
   "outputs": [],
   "source": [
    "%%capture\n",
    "# Location of conda archive\n",
    "condaArchiveDir = os.path.join(workDir, 'pretrainedPancreasOARModel')\n",
    "varFile = os.path.join(scriptInstallDir,'model.txt')\n",
    "saveFileName = 'mri_pancreas_oar.tar.gz'\n",
    "\n",
    "# Download packaged environment for the AI model\n",
    "envHash = !sed -n 's/^CONDAPACK_HASH \\(.*\\)/\\1/p' < {varFile}\n",
    "!mkdir -p {condaArchiveDir}\n",
    "!wget `base64 -d <<<{envHash[0]} | gunzip` -O {saveFileName}\n",
    "!tar xf {saveFileName} -C {condaArchiveDir}\n",
    "!rm {saveFileName}\n",
    "\n",
    "# Path to activation script for Conda environment\n",
    "activateScript = condaArchiveDir +'/bin/activate'"
   ]
  },
  {
   "cell_type": "markdown",
   "metadata": {
    "id": "nGF_O2fDmc4q"
   },
   "source": [
    "## Download pre-trained model weights to ***modelWeightsDir***\n"
   ]
  },
  {
   "cell_type": "code",
   "execution_count": null,
   "metadata": {
    "executionInfo": {
     "elapsed": 4933,
     "status": "ok",
     "timestamp": 1718656944757,
     "user": {
      "displayName": "Aditi Iyer",
      "userId": "02458953240687318156"
     },
     "user_tz": 240
    },
    "id": "aLvEwPCfmdYB"
   },
   "outputs": [],
   "source": [
    "%%capture\n",
    "# Location of weights\n",
    "modelWeightsZipDir = os.path.join(scriptInstallDir,'models.gz')\n",
    "modelWeightsDir = os.path.join(scriptInstallDir,'models')\n",
    "\n",
    "modelHash = !sed -n 's/^MODEL_WEIGHTS_HASH \\(.*\\)/\\1/p' < {varFile}\n",
    "!wget -O {modelWeightsZipDir} -L `base64 -d <<<{modelHash[0]} | gunzip`\n",
    "!tar xf {modelWeightsZipDir} -C {scriptInstallDir}\n",
    "!rm {modelWeightsZipDir}"
   ]
  },
  {
   "cell_type": "markdown",
   "metadata": {
    "id": "DsKXYI-dsgcK"
   },
   "source": [
    "## Install ***pyCERR***\n",
    "\n",
    "pyCERR is used for data import/export and pre- and post-processing transformations needed for this model."
   ]
  },
  {
   "cell_type": "code",
   "execution_count": null,
   "metadata": {
    "id": "XRGzE5J7sgcL"
   },
   "outputs": [],
   "source": [
    "%%capture\n",
    "!pip install \"pyCERR[napari] @ git+https://github.com/cerr/pyCERR\""
   ]
  },
  {
   "cell_type": "markdown",
   "metadata": {
    "id": "sfcIIiLQsgcM"
   },
   "source": [
    "# Data processing"
   ]
  },
  {
   "cell_type": "markdown",
   "metadata": {
    "id": "1m955pAJsgcN"
   },
   "source": [
    "## **Pre-processing**: Crop scan around patient outline and resize to 128 x 192 x 128 voxels"
   ]
  },
  {
   "cell_type": "code",
   "execution_count": null,
   "metadata": {
    "id": "FtPOzqWQsgcP"
   },
   "outputs": [],
   "source": [
    "# Map output labels to structure names\n",
    "\n",
    "strToLabelMap  = {1: \"Liver\", 2:\"Bowel_lg\",\\\n",
    "                  3:\"Bowel_sm\", 4: \"Duostomach\"}\n",
    "segStrList = list(strToLabelMap.values())\n",
    "labels = list(strToLabelMap.keys())\n",
    "numAIStrs = len(labels)"
   ]
  },
  {
   "cell_type": "code",
   "execution_count": null,
   "metadata": {
    "id": "FAXBqkTasgcN"
   },
   "outputs": [],
   "source": [
    "import cerr\n",
    "from cerr.utils import mask\n",
    "import cerr.plan_container as pc\n",
    "from cerr.dataclasses import structure as cerrStr\n",
    "from cerr.contour import rasterseg as rs\n",
    "from cerr.utils.imageProc import resizeScanAndMask\n",
    "\n",
    "\n",
    "def processInputData(scanIdx, outlineStrName, strToLabelMap, planC):\n",
    "    \"\"\"Pre-process scan and mask for input to model\"\"\"\n",
    "\n",
    "    # Identify input structure indices\n",
    "    strList = [str.structureName for str in planC.structure]\n",
    "    if strToLabelMap is not None:\n",
    "        segStrList = list(strToLabelMap.values())\n",
    "        labels = list(strToLabelMap.keys())\n",
    "        strNumV = np.zeros(len(labels),dtype=int)\n",
    "        for numLabel in range(len(labels)):\n",
    "            strName = strToLabelMap[labels[numLabel]]\n",
    "            matchIdxV = cerrStr.getMatchingIndex(strName, strList,\\\n",
    "                                                 matchCriteria='exact')\n",
    "            strNumV[numLabel] = matchIdxV[0]\n",
    "\n",
    "        # Extract label map\n",
    "        maskList = cerrStr.getMaskList(strNumV, planC, labelDict=strToLabelMap)\n",
    "        mask4M = np.array(maskList)\n",
    "        mask4M = np.moveaxis(mask4M,0,-1)# nRows x nCols x nSlc x nlabels\n",
    "    else:\n",
    "        mask4M = None\n",
    "\n",
    "    # Process input scan\n",
    "    modality = 'MR'\n",
    "    scan3M = planC.scan[scanIdx].getScanArray()\n",
    "    scanSizeV = np.shape(scan3M)\n",
    "\n",
    "    # 1. Crop to  patient outline\n",
    "    #    Extract outline\n",
    "    outlineIdx = strList.index(outlineStrName) if outlineStrName in strList else None\n",
    "    if outlineIdx is None:\n",
    "        outline3M = mask.getPatientOutline(scan3M, 0.03, normFlag=True)\n",
    "        planC = pc.import_structure_mask(outline3M, scanIdx, \\\n",
    "                                         outlineStrName, None, planC)\n",
    "    else:\n",
    "        outline3M = rs.getStrMask(outlineIdx, planC)\n",
    "    #    Crop scan\n",
    "    cropMask4M = None\n",
    "    minr, maxr, minc, maxc, mins, maxs, _ = mask.compute_boundingbox(outline3M)\n",
    "    cropScan3M = scan3M[minr:maxr, minc:maxc, mins:maxs]\n",
    "    cropScanSizeV = np.shape(cropScan3M)\n",
    "    if mask4M is not None:\n",
    "        cropMask4M = mask4M[minr:maxr, minc:maxc, mins:maxs, :]\n",
    "    #    Crop grid\n",
    "    gridS = planC.scan[scanIdx].getScanXYZVals()\n",
    "    cropGridS = (gridS[0][minc:maxc], gridS[1][minr:maxr], \\\n",
    "                 gridS[2][mins:maxs])\n",
    "\n",
    "    # 2. Resize scan\n",
    "    #    Crop scan in-plane\n",
    "    outputImgSizeV = [128, 192, cropScanSizeV[2]]\n",
    "    method = 'bicubic'\n",
    "    procScan3M, procMask4M, resizeGridS = resizeScanAndMask(cropScan3M, \\\n",
    "                                          cropMask4M, cropGridS,\\\n",
    "                                          outputImgSizeV, method)\n",
    "    #    Pad scan along slices\n",
    "    resizeScanShape = procScan3M.shape\n",
    "    outputImgSizeV = [resizeScanShape[0], resizeScanShape[1], 128]\n",
    "    method = 'padslices'\n",
    "    procPadScan3M, procPadMask4M, padGridS = resizeScanAndMask(procScan3M, \\\n",
    "                                                               procMask4M,\\\n",
    "                                                               resizeGridS, \\\n",
    "                                                               outputImgSizeV,\\\n",
    "                                                               method)\n",
    "\n",
    "    # Import processed scan to planC\n",
    "    planC = pc.import_scan_array(procPadScan3M, padGridS[0], \\\n",
    "                                 padGridS[1], padGridS[2], modality,\\\n",
    "                                 scanIdx, planC)\n",
    "    processedScanIdx = len(planC.scan) - 1\n",
    "    processedStrIdxV = []\n",
    "    if procPadMask4M is not None:\n",
    "        for strName in segStrList:\n",
    "            procPadMask3M = procPadMask4M[:, :, :, segStrList.index(strName)]\n",
    "            planC = pc.import_structure_mask(procPadMask3M, processedScanIdx, \\\n",
    "                                             strName, None, planC)\n",
    "\n",
    "            processedStrIdxV.append(len(planC.structure) - 1 )\n",
    "    else:\n",
    "        processedStrIdxV = None\n",
    "\n",
    "    return processedScanIdx, processedStrIdxV, padGridS"
   ]
  },
  {
   "cell_type": "markdown",
   "metadata": {
    "id": "C1KHjP1LsgcO"
   },
   "source": [
    "\n",
    "## **Post-processing**: Read label maps, undo pre-processing transformations, and retain only the largest connected component of the resulting mask."
   ]
  },
  {
   "cell_type": "code",
   "execution_count": null,
   "metadata": {
    "id": "W_GjRVWtsgcP"
   },
   "outputs": [],
   "source": [
    "import glob\n",
    "import SimpleITK as sitk\n",
    "\n",
    "def postProcAndImportSeg(modOutputPath, inputGridS, baseScanIdx, strToLabelMap, planC):\n",
    "    \"\"\" Import auto-segmentations to planC\"\"\"\n",
    "\n",
    "    # Read output mask\n",
    "    niiGlob = glob.glob(os.path.join(modOutputPath, '*.nii.gz'))\n",
    "    print('Importing ' + niiGlob[0] + '...')\n",
    "    outputMask = sitk.ReadImage(niiGlob[0])\n",
    "    outputMask = sitk.GetArrayFromImage(outputMask)\n",
    "    numStrOrig = len(planC.structure)\n",
    "    numAIStrs = len(strToLabelMap)\n",
    "\n",
    "    # Extract extents of patient outline\n",
    "    strList = [str.structureName for str in planC.structure]\n",
    "    outlineIdx = strList.index(outlineStrName)\n",
    "    outline3M = rs.getStrMask(outlineIdx, planC)\n",
    "    minr, maxr, minc, maxc, mins, maxs, _ = mask.compute_boundingbox(outline3M)\n",
    "    nSlc = maxs-mins\n",
    "    resizedDimsV = [128, 192, nSlc]\n",
    "\n",
    "    # Undo padding\n",
    "    method = 'unpadslices'\n",
    "    _, unPadMask4M, unPadGridS = resizeScanAndMask(None, \\\n",
    "                                                   outputMask, inputGridS, \\\n",
    "                                                   resizedDimsV, method)\n",
    "    # Undo resize\n",
    "    outputImgSizeV = [maxr-minr, maxc-minc, nSlc]\n",
    "    method = 'bicubic'\n",
    "    _, resizeMask4M, resizeGridS = resizeScanAndMask(None, \\\n",
    "                                                     unPadMask4M, unPadGridS, \\\n",
    "                                                     outputImgSizeV, method)\n",
    "\n",
    "    # Undo cropping\n",
    "    baseImgSizeV = list(planC.scan[baseScanIdx].getScanSize())\n",
    "    fullMask4M = np.zeros(baseImgSizeV + [numAIStrs])\n",
    "    fullMask4M[minr:maxr, minc:maxc, mins:maxs, :] = resizeMask4M\n",
    "\n",
    "    # Import to planC\n",
    "    for numLabel in range(numAIStrs):\n",
    "        binMask = fullMask4M[:, :, :, numLabel]\n",
    "        # Post-process and replace input structure in planC\n",
    "        strName = 'AI_' + strToLabelMap[numLabel + 1]\n",
    "        planC = cerrStr.import_structure_mask(binMask, baseScanIdx, strName, \\\n",
    "                                              None, planC)\n",
    "        strNum = len(planC.structure) - 1\n",
    "        importMask3M, planC = cerrStr.getLargestConnComps(strNum, 1,\\\n",
    "                              planC, saveFlag=True, replaceFlag=True,\\\n",
    "                              procSructName=strName)\n",
    "\n",
    "    return planC"
   ]
  },
  {
   "cell_type": "markdown",
   "metadata": {
    "id": "zj7t-J4isgcQ"
   },
   "source": [
    "# Segment OARs"
   ]
  },
  {
   "cell_type": "markdown",
   "metadata": {
    "id": "_XVVLPjBkYI0"
   },
   "source": [
    "## Apply the model to all longitudinal MR datasets  in ***inputDicomPath*** and store auto-segmentation results to ***outputDicomPath***"
   ]
  },
  {
   "cell_type": "code",
   "execution_count": null,
   "metadata": {
    "id": "KUa9dKRz2Dum"
   },
   "outputs": [],
   "source": [
    "%%capture\n",
    "import subprocess\n",
    "import numpy as np\n",
    "import cerr\n",
    "from cerr import plan_container as pc\n",
    "from cerr.dataclasses import scan as cerrScn\n",
    "from cerr.utils.aiPipeline import createSessionDir, getScanNumFromIdentifier\n",
    "from cerr.dcm_export import rtstruct_iod\n",
    "\n",
    "fileList = os.listdir(inputDicomPath)\n",
    "numFiles = len(fileList)\n",
    "modality = 'MR'\n",
    "scanNum = 0\n",
    "\n",
    "# Loop over pyCERR files\n",
    "\n",
    "for iFile in range(numFiles):\n",
    "\n",
    "    dcmDir = os.path.join(inputDicomPath,fileList[iFile])\n",
    "\n",
    "    # Create session dir to store temporary data\n",
    "    modInputPath, modOutputPath = createSessionDir(sessionPath,\n",
    "                                                   inputDicomPath,\n",
    "                                                   inputSubDirs)\n",
    "\n",
    "    # Import DICOM scan to planC\n",
    "    planC = pc.load_dcm_dir(dcmDir)\n",
    "    numExistingStructs = len(planC.structure)\n",
    "\n",
    "    # Pre-process data\n",
    "    outlineStrName = 'patient_outline'\n",
    "\n",
    "    #1. Base scan\n",
    "    identifier = {\"seriesDate\": \"last\"}\n",
    "    baseScanIdx = getScanNumFromIdentifier(identifier, planC)[0]\n",
    "    exportLabelMap = None\n",
    "    procBaseScanIdx, __, procBaseGridS = processInputData(baseScanIdx,\\\n",
    "                                         outlineStrName, exportLabelMap,\\\n",
    "                                         planC)\n",
    "\n",
    "    #2. Moving scan\n",
    "    identifier = {\"seriesDate\": \"first\"}\n",
    "    movScanIdx = getScanNumFromIdentifier(identifier, planC)[0]\n",
    "    exportLabelMap = strToLabelMap\n",
    "    procMovScanIdx, procMovStrIdxV, procMovGridS = processInputData(movScanIdx,\\\n",
    "                                                   outlineStrName, exportLabelMap,\\\n",
    "                                                   planC)\n",
    "\n",
    "    # Export processed inputs to NIfTI\n",
    "    baseScanFile = os.path.join(modInputPath,\n",
    "                            f\"{fileList[iFile]}_MR SCAN_last_scan_3D.nii.gz\")\n",
    "    movScanFile = os.path.join(modInputPath,\n",
    "                           f\"{fileList[iFile]}_MR SCAN_first_scan_3D.nii.gz\")\n",
    "    movMaskFile = os.path.join(modInputPath, inputSubDirs[0], \\\n",
    "                           f\"{fileList[iFile]}_MR SCAN_first_4D.nii.gz\")\n",
    "    planC.scan[procBaseScanIdx].save_nii(baseScanFile)\n",
    "    planC.scan[procMovScanIdx].save_nii(movScanFile)\n",
    "    pc.saveNiiStructure(movMaskFile, procMovStrIdxV, planC,\\\n",
    "                        labelDict=strToLabelMap, dim=4)\n",
    "\n",
    "    # Apply pretrained AI model\n",
    "    subprocess.run(f\"source {activateScript} && python {scriptPath} \\\n",
    "                  {modInputPath} {modOutputPath}\", \\\n",
    "                  capture_output=False,shell=True,executable=\"/bin/bash\")\n",
    "\n",
    "    # Import segmentations to planC\n",
    "    planC = postProcAndImportSeg(modOutputPath, procMovGridS, baseScanIdx,\\\n",
    "                                 strToLabelMap, planC)\n",
    "    newNumStructs = len(planC.structure)\n",
    "\n",
    "    # Export segmentations to DICOM\n",
    "    structFileName = fileList[iFile] + '_AI_seg.dcm'\n",
    "    structFilePath = os.path.join(outputDicomPath, structFileName)\n",
    "    structNumV = np.arange(numExistingStructs, newNumStructs)\n",
    "    indOrigV = np.array([cerrScn.getScanNumFromUID(\\\n",
    "                         planC.structure[structNum].assocScanUID, planC)\\\n",
    "                         for structNum in structNumV], dtype=int)\n",
    "    structsToExportV = structNumV[indOrigV == baseScanIdx]\n",
    "    seriesDescription = \"AI Generated\"\n",
    "    exportOpts = {'seriesDescription': seriesDescription}\n",
    "    rtstruct_iod.create(structsToExportV, structFilePath, planC, exportOpts)"
   ]
  },
  {
   "cell_type": "markdown",
   "metadata": {
    "id": "Kugws3KBl4MK"
   },
   "source": [
    "## **Optional**: Uncomment the following to download the output segmentations to your workspace bucket."
   ]
  },
  {
   "cell_type": "code",
   "execution_count": null,
   "metadata": {
    "id": "_nkTBkijl23J"
   },
   "outputs": [],
   "source": [
    "# workspaceBucket = os.environ['WORKSPACE_BUCKET']\n",
    "# !gcloud storage cp -r {outputDicomPath} {workspaceBucket}"
   ]
  },
  {
   "cell_type": "markdown",
   "metadata": {
    "id": "iLzFp-l_sgcT"
   },
   "source": [
    "# Display results"
   ]
  },
  {
   "cell_type": "markdown",
   "metadata": {
    "id": "L8FTwNqhsgcT"
   },
   "source": [
    "## Overlay AI segmentations on scan for visualization using ***Matplotlib***\n",
    "\n",
    "Note: This example displays the last segmented dataset by default.  \n",
    "Load the appropriate pyCERR archive to `planC` to view results for desired dataset."
   ]
  },
  {
   "cell_type": "code",
   "execution_count": null,
   "metadata": {
    "id": "jWQD1KeVsgcT"
   },
   "outputs": [],
   "source": [
    "from cerr.viewer import showMplNb\n",
    "\n",
    "scanNums = [baseScanIdx, movScanIdx]\n",
    "strNums =  procMovStrIdxV + list(structsToExportV)\n",
    "showMplNb(scanNums, strNums, planC,displayMode='2d')"
   ]
  }
 ],
 "metadata": {
  "colab": {
   "provenance": [
    {
     "file_id": "https://github.com/cerr/pycerr-notebooks/blob/main/auto_register_segment_MR_Pancreas_OARs.ipynb"
    }
   ]
  },
  "kernelspec": {
   "display_name": "Python 3",
   "language": "python",
   "name": "python3"
  },
  "language_info": {
   "codemirror_mode": {
    "name": "ipython",
    "version": 3
   },
   "file_extension": ".py",
   "mimetype": "text/x-python",
   "name": "python",
   "nbconvert_exporter": "python",
   "pygments_lexer": "ipython3",
   "version": "3.7.8"
  },
  "toc": {
   "base_numbering": 1,
   "nav_menu": {},
   "number_sections": true,
   "sideBar": true,
   "skip_h1_title": false,
   "title_cell": "Table of Contents",
   "title_sidebar": "Contents",
   "toc_cell": false,
   "toc_position": {},
   "toc_section_display": true,
   "toc_window_display": false
  }
 },
 "nbformat": 4,
 "nbformat_minor": 1
}
