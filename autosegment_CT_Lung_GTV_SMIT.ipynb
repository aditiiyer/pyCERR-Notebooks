{
 "cells": [
  {
   "cell_type": "markdown",
   "metadata": {
    "colab_type": "text",
    "id": "view-in-github"
   },
   "source": [
    "<a href=\"https://colab.research.google.com/github/cerr/pyCERR-notebooks/blob/main/autosegment_CT_Lung_GTV_SMIT.ipynb\" target=\"_parent\"><img src=\"https://colab.research.google.com/assets/colab-badge.svg\" alt=\"Open In Colab\"/></a>"
   ]
  },
  {
   "cell_type": "markdown",
   "metadata": {
    "id": "A7EP6563vQHy"
   },
   "source": [
    "# The pyCERR SMIT Lung CT GTV Segmentation Model\n",
    "\n",
    "## Introduction\n",
    "\n",
    "In this tutorial, we will demonstrate how to apply a pre-trained AI model to segment the Lung GTV on a lung CT scan using pyCERR.\n",
    "\n",
    "## Requirements\n",
    "* Python>=3.8\n",
    "* Applying this model requires access to a GPU.  \n",
    "\n",
    "## AI model\n",
    "* The segmentation model was trained and validated on CT scans used for RT planning. It does not work optimally on diagnostic CTs or scans in positions other than Head First Supine.\n",
    "* The trained model is distributed along with python libraries and other dependencies via a conda package.\n",
    "\n",
    "## Required input data\n",
    "* RT planning CT DICOM\n",
    "\n",
    "### Running the model\n",
    "\n",
    "The input DICOM data must be located in inputDicomPath. The directory structure is as follows:\n",
    "\n",
    "- inputDicomPath\n",
    "    - Pat ID 1 \n",
    "    - Pat ID 2\n",
    "    - Pat ID 3\n",
    "    - ... \n",
    "\n",
    "\n",
    "### License\n",
    "By downloading the software you are agreeing to the following terms and conditions as well as to the Terms of Use of CERR software.\n",
    "\n",
    "THE SOFTWARE IS PROVIDED \"AS IS\" AND CERR DEVELOPMENT TEAM AND ITS COLLABORATORS DO NOT MAKE ANY WARRANTY, EXPRESS OR IMPLIED, INCLUDING BUT NOT LIMITED TO WARRANTIES OF MERCHANTABILITY AND FITNESS FOR A PARTICULAR PURPOSE, NOR DO THEY ASSUME ANY LIABILITY OR RESPONSIBILITY FOR THE USE OF THIS SOFTWARE.\n",
    "    \n",
    "This software is for research purposes only and has not been approved for clinical use.\n",
    "\n",
    "Software has not been reviewed or approved by the Food and Drug Administration, and is for non-clinical, IRB-approved Research Use Only. In no event shall data or images generated through the use of the Software be used in the provision of patient care.\n",
    "\n",
    "You may publish papers and books using results produced using software provided that you reference the appropriate citations:\n",
    "*  SMIT model: https://arxiv.org/abs/2205.10342\n",
    "*  CERR library of model implementations: https://doi.org/10.1016/j.ejmp.2020.04.011\n",
    "*  CERR software: https://doi.org/10.1118/1.1568978\n",
    "*  CERR radiomics: https://doi.org/10.1002/mp.13046\n",
    "\n",
    "\n",
    "YOU MAY NOT DISTRIBUTE COPIES of this software, or copies of software derived from this software, to others outside your organization without specific prior written permission from the CERR development team except where noted for specific software products.\n",
    "\n",
    "All technology and technical data delivered under this Agreement are subject to US export control laws and may be subject to export or import regulations in other countries. You agree to comply strictly with all such laws and regulations and acknowledge that you have the responsibility to obtain such licenses to export, re-export, or import as may be required after delivery to you.\n",
    "\n"
   ]
  },
  {
   "cell_type": "markdown",
   "metadata": {},
   "source": [
    "## Specify the working directory.\n",
    "The working directory will host three sub-directories.\n",
    "- input - This will host sub-directories, one per patient consisting of DICOM files for Lung CT scan.\n",
    "- output - This will host results of AI segmentation\n",
    "- session - This will host temporary nii files as I/O from inference wrapper"
   ]
  },
  {
   "cell_type": "code",
   "execution_count": null,
   "metadata": {
    "id": "qXxnhPPy3TrK"
   },
   "outputs": [],
   "source": [
    "import os\n",
    "workDir = r'/home/uname/SMIT_inference' # r'/content' # for Google Colab\n",
    "! mkdir -p {workDir}\n",
    "os.chdir(workDir)"
   ]
  },
  {
   "cell_type": "code",
   "execution_count": null,
   "metadata": {
    "id": "Lgck3qYo607q"
   },
   "outputs": [],
   "source": [
    "inputDicomPath = os.path.join(workDir,'input')\n",
    "os.makedirs(inputDicomPath, exist_ok = True)\n",
    "\n",
    "outputDicomPath = os.path.join(workDir, 'output')\n",
    "os.makedirs(outputDicomPath, exist_ok = True)\n",
    "\n",
    "sessionPath = os.path.join(workDir, 'session')\n",
    "os.makedirs(sessionPath, exist_ok = True)"
   ]
  },
  {
   "cell_type": "markdown",
   "metadata": {
    "id": "DoEXYr3GDaf_"
   },
   "source": [
    "## Download planning CT DICOM data for processing"
   ]
  },
  {
   "cell_type": "markdown",
   "metadata": {
    "id": "Le2MiPpjOuWl"
   },
   "source": [
    "### Option 1: Download data from XNAT source (`getXNATData`) - use only when data is located in an XNAT instance"
   ]
  },
  {
   "cell_type": "code",
   "execution_count": null,
   "metadata": {
    "id": "Tc5z7BJ8jJas"
   },
   "outputs": [],
   "source": [
    "!pip install pyxnat\n",
    "\n",
    "# Function definition: pull data defined in scandict from XNAT\n",
    "from pyxnat import Interface\n",
    "import urllib3, shutil\n",
    "from glob import glob\n",
    "\n",
    "def getXNATData(xhost,user,scandict,downloadDir):\n",
    "  xnat = Interface(xhost, user, verify=False)\n",
    "  os.makedirs(downloadDir, exist_ok=True)\n",
    "  expdirlist = []\n",
    "  for scan_entry in scandict:\n",
    "    proj = scan_entry['proj']\n",
    "    subj = scan_entry['subj']\n",
    "    exp = scan_entry['exp']\n",
    "    scan_list = scan_entry['scan_list']\n",
    "    expdir = os.path.join(downloadDir,exp)\n",
    "    expdirlist.append(expdir)\n",
    "    os.makedirs(expdir, exist_ok = True)\n",
    "    xexp = xnat.select.project(proj).subject(subj).experiment(exp)\n",
    "    for scan in scan_list:\n",
    "      try:\n",
    "        xnat.select.project(proj).subject(subj).experiment(exp).scan(scan).resource('DICOM').get(downloadDir,extract=True)\n",
    "      except:\n",
    "        xnat.select.project(proj).subject(subj).experiment(exp).scan(scan).resource('secondary').get(downloadDir,extract=True)\n",
    "    for dcmfolder in ['DICOM','secondary']:\n",
    "      dcmlist = glob(os.path.join(downloadDir,dcmfolder,'*.dcm'))\n",
    "      print(dcmlist)\n",
    "      for dcm in dcmlist:\n",
    "        shutil.move(dcm, expdir)\n",
    "  for dcmfolder in ['DICOM','secondary']:\n",
    "    if os.path.exists(os.path.join(downloadDir,dcmfolder)):\n",
    "      os.rmdir(os.path.join(downloadDir,dcmfolder))\n",
    "    if os.path.exists(os.path.join(downloadDir,dcmfolder + '.zip')):\n",
    "      os.remove(os.path.join(downloadDir,dcmfolder + '.zip'))\n",
    "  xnat.disconnect()\n",
    "  return expdirlist"
   ]
  },
  {
   "cell_type": "markdown",
   "metadata": {
    "id": "N5pzpm9yhHqH"
   },
   "source": [
    "### Option 2:  Download data to `inputDicomPath` (e.g. from an HTTP source) - use when data is hosted in Box"
   ]
  },
  {
   "cell_type": "code",
   "execution_count": null,
   "metadata": {
    "id": "iiNCD-z8hFe_"
   },
   "outputs": [],
   "source": [
    "dataUrl='http://path.to/data'\n",
    "\n",
    "dataDownloadDir = os.path.join(workDir,'tmp')\n",
    "os.makedirs(dataDownloadDir, exist_ok=True)\n",
    "os.chdir(dataDownloadDir)\n",
    "\n",
    "! wget -O sampleData.gz -L {dataUrl}\n",
    "! tar xf sampleData.gz -C {inputDicomPath}\n",
    "! rm sampleData.gz\n",
    "\n",
    "#unpack and move"
   ]
  },
  {
   "cell_type": "code",
   "execution_count": null,
   "metadata": {
    "id": "yc4ZOtlK7c0f"
   },
   "outputs": [],
   "source": [
    "xhost = 'https://your.xnat'\n",
    "user = 'usr'\n",
    "scandict = [{'proj':'projectname','subj':'subject_ID','exp':'ID', 'scan_list':['1']}]\n",
    "\n",
    "dcmdirlist = getXNATData(xhost,user,scandict,inputDicomPath)"
   ]
  },
  {
   "cell_type": "markdown",
   "metadata": {},
   "source": [
    "### Option 3:  Copy data to `inputDicomPath`"
   ]
  },
  {
   "cell_type": "markdown",
   "metadata": {},
   "source": [
    "## Install pyCERR for data processing"
   ]
  },
  {
   "cell_type": "code",
   "execution_count": null,
   "metadata": {
    "id": "-cG1gAx69axp"
   },
   "outputs": [],
   "source": [
    "#%%capture\n",
    "! pip install \"pyCERR[napari] @ git+https://github.com/cerr/pyCERR.git\""
   ]
  },
  {
   "cell_type": "markdown",
   "metadata": {},
   "source": [
    "## Change current directory to working dir and define model paths"
   ]
  },
  {
   "cell_type": "code",
   "execution_count": null,
   "metadata": {
    "id": "nRx8hP0prcnD"
   },
   "outputs": [],
   "source": [
    "os.chdir(workDir)"
   ]
  },
  {
   "cell_type": "code",
   "execution_count": null,
   "metadata": {
    "id": "PIagq_xEIFlZ"
   },
   "outputs": [],
   "source": [
    "wrapperInstallDir = os.path.join(workDir,'CT_Lung_SMIT')\n",
    "condaEnvDir = os.path.join(wrapperInstallDir,'conda-pack')\n",
    "condaEnvActivateScript = os.path.join(condaEnvDir, 'bin', 'activate')\n",
    "wrapperPath = os.path.join(wrapperInstallDir,'bash_run_SMIT_Segmentation.sh')\n",
    "load_weight_name = os.path.join(wrapperInstallDir,'trained_weights','model.pt')\n",
    "\n",
    "#pyCERR and filename parameters\n",
    "scanNum = 0\n",
    "structName = 'GTV'\n",
    "scan_basename = 'CT'"
   ]
  },
  {
   "cell_type": "code",
   "execution_count": null,
   "metadata": {
    "id": "0tIFXpPmDV4b"
   },
   "outputs": [],
   "source": [
    "import subprocess\n",
    "from cerr import plan_container as pc\n",
    "from cerr.dcm_export import rtstruct_iod\n",
    "import urllib3, shutil\n",
    "urllib3.disable_warnings()"
   ]
  },
  {
   "cell_type": "markdown",
   "metadata": {},
   "source": [
    "## Download the model installer and install the Lung nodule segmentation model"
   ]
  },
  {
   "cell_type": "code",
   "execution_count": null,
   "metadata": {
    "id": "t5461VKM6UQf"
   },
   "outputs": [],
   "source": [
    "os.chdir(workDir)\n",
    "!git clone https://github.com/cerr/model_installer.git"
   ]
  },
  {
   "cell_type": "code",
   "execution_count": null,
   "metadata": {
    "colab": {
     "base_uri": "https://localhost:8080/"
    },
    "id": "b-dncPq06WQ6",
    "outputId": "f2445816-d198-492b-f612-5a12e884f013"
   },
   "outputs": [],
   "source": [
    "os.chdir(os.path.join(workDir,'model_installer'))\n",
    "!./installer.sh -h"
   ]
  },
  {
   "cell_type": "code",
   "execution_count": null,
   "metadata": {
    "id": "wMjeeay86fu6"
   },
   "outputs": [],
   "source": [
    "modelOpt = '4' #CT_Lung_SMIT model\n",
    "pythonOpt = 'C' #download and use pre-packaged Conda environment\n",
    "\n",
    "! source ./installer.sh -m {modelOpt} -d {workDir} -p {pythonOpt}"
   ]
  },
  {
   "cell_type": "markdown",
   "metadata": {
    "id": "95vm9iDGDGfE"
   },
   "source": [
    "## Run the GTV segmentation model, output RTSTRUCT"
   ]
  },
  {
   "cell_type": "code",
   "execution_count": null,
   "metadata": {
    "id": "MasJhWdZCdoJ",
    "scrolled": true
   },
   "outputs": [],
   "source": [
    "for dcmdir in os.scandir(inputDicomPath):\n",
    "\n",
    "    subj = os.path.basename(dcmdir)\n",
    "    sessiondir = os.path.join(sessionPath,subj)\n",
    "    os.makedirs(sessiondir,exist_ok=True)\n",
    "    \n",
    "    #Convert input DICOM to NIfTI\n",
    "    scan_niifile = os.path.join(sessiondir, scan_basename + '.nii')\n",
    "    planC = pc.loadDcmDir(dcmDir = dcmdir)\n",
    "    planC.scan[scanNum].saveNii(niiFileName = scan_niifile)\n",
    "    \n",
    "    #Run Segmentation\n",
    "    os.chdir(wrapperInstallDir)\n",
    "    subprocess.run(f\"source \" + condaEnvActivateScript + \" && source \" + wrapperPath + \" \" + sessiondir + \" \" + sessiondir + \" \" + load_weight_name + \" \" + scan_niifile, shell=True, executable=\"/bin/bash\")\n",
    "    \n",
    "    #Import output GTV NIfTI to pyCERR, and generate RTSTRUCT to match parent series\n",
    "    output_niifile = os.path.join(sessiondir,'model_' + scan_basename + '.nii')\n",
    "    planC = pc.loadNiiStructure(nii_file_name = output_niifile, assocScanNum = scanNum, planC = planC, labels_dict = {1: structName})\n",
    "    outputDir = os.path.join(workDir,'output',id)\n",
    "    os.makedirs(outputDir, exist_ok=True)\n",
    "    rtstructFile = os.path.join(outputDir, subj+'_RTSTRUCT.dcm')\n",
    "    structNumV = [0] # Export the first and the last structure in the list\n",
    "    seriesDescription = structName + \"_CT_Lung_GTV_SMIT\"\n",
    "    rtstruct_iod.create(structNumV = structNumV, filePath = rtstructFile, planC = planC, seriesOpts = {'SeriesDescription':seriesDescription})"
   ]
  }
 ],
 "metadata": {
  "accelerator": "GPU",
  "colab": {
   "gpuType": "T4",
   "include_colab_link": true,
   "provenance": []
  },
  "kernelspec": {
   "display_name": "Python 3 (ipykernel)",
   "language": "python",
   "name": "python3"
  },
  "language_info": {
   "codemirror_mode": {
    "name": "ipython",
    "version": 3
   },
   "file_extension": ".py",
   "mimetype": "text/x-python",
   "name": "python",
   "nbconvert_exporter": "python",
   "pygments_lexer": "ipython3",
   "version": "3.11.8"
  }
 },
 "nbformat": 4,
 "nbformat_minor": 4
}
