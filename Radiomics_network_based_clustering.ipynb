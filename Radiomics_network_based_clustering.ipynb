{
  "nbformat": 4,
  "nbformat_minor": 0,
  "metadata": {
    "colab": {
      "provenance": []
    },
    "kernelspec": {
      "name": "python3",
      "display_name": "Python 3"
    },
    "language_info": {
      "name": "python"
    },
    "accelerator": "GPU",
    "gpuClass": "standard"
  },
  "cells": [
    {
      "cell_type": "markdown",
      "source": [
        "# Network-based Kmeans clustering"
      ],
      "metadata": {
        "id": "u0rrWJbD3wWA"
      }
    },
    {
      "cell_type": "markdown",
      "source": [
        "The example below demonstrates network-based clustering using optimal transport Kmeans algorithm and survival analysis using Kaplan-Meier analysis.\n",
        "\n",
        "This code reads three files: (1) partial correlations among features, (2) preprocessed radiomic features, and (3) clinical data including survival status and follow-up time."
      ],
      "metadata": {
        "id": "R2epSTsP37DH"
      }
    },
    {
      "cell_type": "markdown",
      "source": [
        "**Citation:** Oh et al, SU-400-360, AAPM 2023 and Oh et al, Journal of Medical Imaging, 8(3):031904, 2021"
      ],
      "metadata": {
        "id": "xhCGcdPi4No2"
      }
    },
    {
      "cell_type": "code",
      "source": [
        "EBICgraph_file = \"EBICgraph.csv\"\n",
        "preprocessed_radiomics_file = \"preprocessed_data_red.csv\"\n",
        "clinical_file = \"clinical_data.xlsx\""
      ],
      "metadata": {
        "id": "Dh576OX29hCu"
      },
      "execution_count": null,
      "outputs": []
    },
    {
      "cell_type": "markdown",
      "source": [
        "## Install OMT and CVX packages"
      ],
      "metadata": {
        "id": "fd9eh7uWQu7z"
      }
    },
    {
      "cell_type": "code",
      "source": [
        "!pip install pot\n",
        "!pip install cvxpy"
      ],
      "metadata": {
        "id": "3AmzbgowPI-E"
      },
      "execution_count": null,
      "outputs": []
    },
    {
      "cell_type": "markdown",
      "source": [
        "## Install other packages"
      ],
      "metadata": {
        "id": "-2XXtQ_aeREU"
      }
    },
    {
      "cell_type": "code",
      "source": [
        "!pip install seaborn==0.11.2\n",
        "!pip install openpyxl\n",
        "!pip install lifelines\n",
        "!pip install bioinfokit"
      ],
      "metadata": {
        "id": "kqcJg05zcEPx"
      },
      "execution_count": null,
      "outputs": []
    },
    {
      "cell_type": "code",
      "execution_count": null,
      "metadata": {
        "id": "4WwWoGbEDdfi"
      },
      "outputs": [],
      "source": [
        "import pandas as pd\n",
        "import numpy as np\n",
        "import seaborn as sns\n",
        "from matplotlib.colors import ListedColormap\n",
        "import matplotlib.pyplot as plt\n",
        "import numpy.matlib\n",
        "%matplotlib inline\n",
        "\n",
        "import math\n",
        "from sklearn import set_config\n",
        "from sklearn.impute import SimpleImputer\n",
        "\n",
        "import networkx as nx\n",
        "from networkx.algorithms import dfs_labeled_edges\n",
        "\n",
        "import ot\n",
        "import cvxpy as cp\n",
        "\n",
        "set_config(display=\"text\")"
      ]
    },
    {
      "cell_type": "markdown",
      "source": [
        "## Import the unblanced OMT library"
      ],
      "metadata": {
        "id": "cBeT1iKXQBam"
      }
    },
    {
      "cell_type": "code",
      "source": [
        "from UnbalancedOMT import UnbalancedOMT"
      ],
      "metadata": {
        "id": "qKNCIZMLP9dm"
      },
      "execution_count": null,
      "outputs": []
    },
    {
      "cell_type": "markdown",
      "source": [
        "## Read radiomic data"
      ],
      "metadata": {
        "id": "Qbm04gKyNdJ2"
      }
    },
    {
      "cell_type": "code",
      "source": [
        "# Upload your own data\n",
        "df_all = pd.read_csv(preprocessed_radiomics_file)\n",
        "df_red = df_all.iloc[:,1:len(df_all.columns)]"
      ],
      "metadata": {
        "id": "nZAkuwU1s3aK"
      },
      "execution_count": null,
      "outputs": []
    },
    {
      "cell_type": "code",
      "source": [
        "df_all"
      ],
      "metadata": {
        "id": "x7Ysy60LoIiP"
      },
      "execution_count": null,
      "outputs": []
    },
    {
      "cell_type": "markdown",
      "source": [
        "## Read adjacency matrix"
      ],
      "metadata": {
        "id": "sncNJQm4NnFR"
      }
    },
    {
      "cell_type": "code",
      "source": [
        "# Upload adjacency data\n",
        "corr_data = pd.read_csv(EBICgraph_file)\n",
        "corr_data = corr_data.iloc[:,1:len(corr_data.columns)]\n",
        "\n",
        "df_corr = corr_data.copy()\n",
        "df_corr=df_corr.set_index(df_red.columns)\n",
        "print(df_corr)"
      ],
      "metadata": {
        "id": "kH5RxILYn85k"
      },
      "execution_count": null,
      "outputs": []
    },
    {
      "cell_type": "markdown",
      "source": [
        "## Draw the entire network"
      ],
      "metadata": {
        "id": "yomwJbdwOI-O"
      }
    },
    {
      "cell_type": "code",
      "source": [
        "cor_matrix = np.asmatrix(df_corr)\n",
        "n=len(df_red.columns)\n",
        "variables=df_red.columns\n",
        "print(variables)\n",
        "threshold=0.15 # Threshold of partial correlation\n",
        "G=nx.Graph()\n",
        "\n",
        "for i in range(n):\n",
        "    for j in range(n):\n",
        "      if i> j and abs(cor_matrix[i,j]) > threshold:\n",
        "        G.add_edge(variables[i],variables[j], weight=1)\n",
        "\n",
        "plt.figure(1,figsize=(9,9))\n",
        "nx.draw(G, pos = nx.nx_pydot.graphviz_layout(G), node_size=20, \\\n",
        "    node_color='lightblue', linewidths=0.25, font_size=0.1, \\\n",
        "    font_weight='bold', with_labels=True )\n",
        "adj = nx.adjacency_matrix(G)"
      ],
      "metadata": {
        "id": "AJyWae2bXG2q"
      },
      "execution_count": null,
      "outputs": []
    },
    {
      "cell_type": "markdown",
      "source": [
        "# Find a largest network component"
      ],
      "metadata": {
        "id": "fS_7pyVyOcVJ"
      }
    },
    {
      "cell_type": "code",
      "source": [
        "Gcc = sorted(nx.connected_components(G), key=len, reverse=True)\n",
        "\n",
        "# Choose the network (island) of interest\n",
        "ISLAND = 0  # 0: the largest connected network, 1: the second largest one, and so on\n",
        "G0 = G.subgraph(Gcc[ISLAND])\n",
        "plt.figure(2,figsize=(20,20))\n",
        "nx.draw(G0, pos = nx.nx_pydot.graphviz_layout(G0), node_size=100, \\\n",
        "    node_color='lightblue', linewidths=0.25, font_size=8, \\\n",
        "    font_weight='bold', with_labels=True )\n",
        "adj_G0 = nx.adjacency_matrix(G0)\n",
        "\n",
        "nodes0=G0.nodes # the largest one\n",
        "df_G0=df_red[list(nodes0)]\n",
        "print(adj_G0)"
      ],
      "metadata": {
        "id": "YDu1044AZKan"
      },
      "execution_count": null,
      "outputs": []
    },
    {
      "cell_type": "markdown",
      "source": [
        "## Print nodes"
      ],
      "metadata": {
        "id": "82hvTFfdR_oK"
      }
    },
    {
      "cell_type": "code",
      "source": [
        "print(list(nodes0))"
      ],
      "metadata": {
        "colab": {
          "base_uri": "https://localhost:8080/"
        },
        "id": "lD9a2usLR07K",
        "outputId": "023b1aad-6fe5-47bb-ed4b-e53306a68d75"
      },
      "execution_count": null,
      "outputs": [
        {
          "output_type": "stream",
          "name": "stdout",
          "text": [
            "['Gabor_voxSz111mm_Sigma4mm_AR1_5_wavLen8mm_OrientAvg_30609012015_firstOrderS_std', 'Gabor_voxSz111mm_Sigma4mm_AR1_5_wavLen8mm_OrientAvg_30609012015_firstOrderS_P90', 'Gabor_voxSz111mm_Sigma4mm_AR1_5_wavLen8mm_OrientAvg_30609012015_firstOrderS_medianAbsDev', 'LawsEnergy_3d_typeE5E5E5_normyes_energyKernelSize3xx3xx3_firstOrderS_P10', 'LawsEnergy_3d_typeS5S5S5_normyes_energyKernelSize3xx3xx3_firstOrderS_kurtosis', 'Gabor_voxSz111mm_Sigma4mm_AR1_5_wavLen8mm_OrientAvg_30609012015_firstOrderS_robustMedianAbsDev', 'LawsEnergy_3d_typeE5E5E5_normyes_energyKernelSize3xx3xx3_firstOrderS_range', 'LawsEnergy_3d_typeS5S5S5_normyes_energyKernelSize3xx3xx3_firstOrderS_robustMedianAbsDev', 'LawsEnergy_3d_typeE5E5E5_normyes_energyKernelSize3xx3xx3_firstOrderS_coeffDispersion', 'LawsEnergy_3d_typeE5E5E5_normyes_energyKernelSize3xx3xx3_firstOrderS_max', 'LawsEnergy_3d_typeE5E5E5_normyes_energyKernelSize3xx3xx3_firstOrderS_median', 'Gabor_voxSz111mm_Sigma4mm_AR1_5_wavLen8mm_OrientAvg_30609012015_firstOrderS_var', 'LawsEnergy_3d_typeE5E5E5_normyes_energyKernelSize3xx3xx3_firstOrderS_meanAbsDev', 'Gabor_voxSz111mm_Sigma4mm_AR1_5_wavLen8mm_OrientAvg_30609012015_firstOrderS_interQuartileRange', 'LawsEnergy_3d_typeE5E5E5_normyes_energyKernelSize3xx3xx3_firstOrderS_min', 'LawsEnergy_3d_typeE5E5E5_normyes_energyKernelSize3xx3xx3_firstOrderS_std', 'Gabor_voxSz111mm_Sigma4mm_AR1_5_wavLen8mm_OrientAvg_30609012015_firstOrderS_kurtosis', 'LawsEnergy_3d_typeE5E5E5_normyes_energyKernelSize3xx3xx3_firstOrderS_interQuartileRange', 'Original_ngtdmFeatS_complexity', 'Gabor_voxSz111mm_Sigma4mm_AR1_5_wavLen8mm_OrientAvg_30609012015_firstOrderS_mean', 'LawsEnergy_3d_typeS5S5S5_normyes_energyKernelSize3xx3xx3_firstOrderS_entropy', 'Gabor_voxSz111mm_Sigma4mm_AR1_5_wavLen8mm_OrientAvg_30609012015_firstOrderS_robustMeanAbsDev', 'Shape_volume', 'LawsEnergy_3d_typeS5S5S5_normyes_energyKernelSize3xx3xx3_firstOrderS_interQuartileRange', 'LawsEnergy_3d_typeE5E5E5_normyes_energyKernelSize3xx3xx3_firstOrderS_skewness', 'LawsEnergy_3d_typeE5E5E5_normyes_energyKernelSize3xx3xx3_firstOrderS_medianAbsDev', 'LawsEnergy_3d_typeS5S5S5_normyes_energyKernelSize3xx3xx3_firstOrderS_min', 'LoG_IBSI_sigma_333mm_cutoff_666mm_firstOrderS_coeffVariation', 'Gabor_voxSz111mm_Sigma4mm_AR1_5_wavLen8mm_OrientAvg_30609012015_firstOrderS_rms', 'Gabor_voxSz111mm_Sigma4mm_AR1_5_wavLen8mm_OrientAvg_30609012015_firstOrderS_meanAbsDev', 'LawsEnergy_3d_typeS5S5S5_normyes_energyKernelSize3xx3xx3_firstOrderS_P10', 'LawsEnergy_3d_typeS5S5S5_normyes_energyKernelSize3xx3xx3_firstOrderS_meanAbsDev', 'Gabor_voxSz111mm_Sigma4mm_AR1_5_wavLen8mm_OrientAvg_30609012015_firstOrderS_entropy', 'LawsEnergy_3d_typeE5E5E5_normyes_energyKernelSize3xx3xx3_firstOrderS_var', 'LawsEnergy_3d_typeS5S5S5_normyes_energyKernelSize3xx3xx3_firstOrderS_coeffVariation', 'LawsEnergy_3d_typeE5E5E5_normyes_energyKernelSize3xx3xx3_firstOrderS_robustMeanAbsDev', 'LawsEnergy_3d_typeS5S5S5_normyes_energyKernelSize3xx3xx3_firstOrderS_robustMeanAbsDev', 'Gabor_voxSz111mm_Sigma4mm_AR1_5_wavLen8mm_OrientAvg_30609012015_firstOrderS_skewness', 'LawsEnergy_3d_typeS5S5S5_normyes_energyKernelSize3xx3xx3_firstOrderS_var', 'LawsEnergy_3d_typeS5S5S5_normyes_energyKernelSize3xx3xx3_firstOrderS_mean', 'LawsEnergy_3d_typeE5E5E5_normyes_energyKernelSize3xx3xx3_firstOrderS_robustMedianAbsDev', 'LawsEnergy_3d_typeE5E5E5_normyes_energyKernelSize3xx3xx3_firstOrderS_P90', 'LawsEnergy_3d_typeS5S5S5_normyes_energyKernelSize3xx3xx3_firstOrderS_std', 'LawsEnergy_3d_typeS5S5S5_normyes_energyKernelSize3xx3xx3_firstOrderS_medianAbsDev', 'Gabor_voxSz111mm_Sigma4mm_AR1_5_wavLen8mm_OrientAvg_30609012015_firstOrderS_median', 'LawsEnergy_3d_typeE5E5E5_normyes_energyKernelSize3xx3xx3_firstOrderS_coeffVariation', 'Gabor_voxSz111mm_Sigma4mm_AR1_5_wavLen8mm_OrientAvg_30609012015_firstOrderS_max', 'LawsEnergy_3d_typeE5E5E5_normyes_energyKernelSize3xx3xx3_firstOrderS_mean', 'LawsEnergy_3d_typeE5E5E5_normyes_energyKernelSize3xx3xx3_firstOrderS_kurtosis', 'LawsEnergy_3d_typeS5S5S5_normyes_energyKernelSize3xx3xx3_firstOrderS_median', 'LawsEnergy_3d_typeS5S5S5_normyes_energyKernelSize3xx3xx3_firstOrderS_coeffDispersion', 'LawsEnergy_3d_typeS5S5S5_normyes_energyKernelSize3xx3xx3_firstOrderS_P90', 'LawsEnergy_3d_typeE5E5E5_normyes_energyKernelSize3xx3xx3_firstOrderS_entropy', 'LawsEnergy_3d_typeE5E5E5_normyes_energyKernelSize3xx3xx3_firstOrderS_rms', 'Gabor_voxSz111mm_Sigma4mm_AR1_5_wavLen8mm_OrientAvg_30609012015_firstOrderS_min', 'LawsEnergy_3d_typeS5S5S5_normyes_energyKernelSize3xx3xx3_firstOrderS_skewness', 'LawsEnergy_3d_typeS5S5S5_normyes_energyKernelSize3xx3xx3_firstOrderS_rms', 'LoG_IBSI_sigma_333mm_cutoff_666mm_firstOrderS_coeffDispersion', 'Gabor_voxSz111mm_Sigma4mm_AR1_5_wavLen8mm_OrientAvg_30609012015_firstOrderS_range']\n"
          ]
        }
      ]
    },
    {
      "cell_type": "markdown",
      "source": [
        "# Balanced OMT"
      ],
      "metadata": {
        "id": "um9MFdErQjHO"
      }
    },
    {
      "cell_type": "code",
      "source": [
        "def dist_cvx(drho,D,m):\n",
        "\n",
        "    # Create two scalar optimization variables.\n",
        "    u = cp.Variable((m))\n",
        "\n",
        "    # Form the objective function.\n",
        "    objective = cp.Minimize(cp.sum(cp.abs(u)))\n",
        "\n",
        "    # Create two constraints.\n",
        "    constraints = [drho-D@u == 0]\n",
        "\n",
        "    # Solve the problem.\n",
        "    problem = cp.Problem(objective, constraints)\n",
        "    problem.solve()\n",
        "    return problem.value"
      ],
      "metadata": {
        "id": "YLJBerwZ8oug"
      },
      "execution_count": null,
      "outputs": []
    },
    {
      "cell_type": "markdown",
      "source": [
        "# Functions for Wasserstein distance-based Kmeans"
      ],
      "metadata": {
        "id": "mE6Ws6gOQpWw"
      }
    },
    {
      "cell_type": "code",
      "source": [
        "def initiate_centroids(k, dset):\n",
        "    '''\n",
        "    Select k data points as centroids\n",
        "    k: number of centroids\n",
        "    dset: pandas dataframe\n",
        "    '''\n",
        "    centroids = dset.sample(k)\n",
        "    return centroids\n",
        "\n",
        "def rsserr(a,b):\n",
        "    return np.square(np.sum((a-b)**2))\n",
        "\n",
        "def centroid_assignation(G0,gamma,UNBALANCED, dset, centroids, D, m, no_feature):\n",
        "    k = centroids.shape[0]\n",
        "    n = dset.shape[0]\n",
        "    assignation = []\n",
        "    assign_errors = []\n",
        "\n",
        "    for obs in range(n):\n",
        "        # Estimate error\n",
        "        all_errors = np.array([])\n",
        "        for centroid in range(k):\n",
        "\n",
        "            if UNBALANCED==1:\n",
        "              rho0=centroids.iloc[centroid, 0:no_feature].to_numpy()\n",
        "              rho1=dset.iloc[obs,0:no_feature].to_numpy()\n",
        "\n",
        "              b=UnbalancedOMT(rho0,rho1,G0,gamma)\n",
        "              err=b.UnbalancedDistance()\n",
        "            else:\n",
        "              #WD\n",
        "              X2=np.stack((centroids.iloc[centroid, 0:no_feature].to_numpy(), dset.iloc[obs,0:no_feature].to_numpy()))\n",
        "              X2=np.transpose(X2)\n",
        "\n",
        "              Node_weights = X2\n",
        "              S = X2.sum(axis=0)\n",
        "              S_copy = np.matlib.repmat(S,no_feature,1)\n",
        "              Node_Prob = Node_weights/S_copy\n",
        "\n",
        "              rho0 = Node_Prob[:,0]\n",
        "              rho1 = Node_Prob[:,1]\n",
        "              drho = rho0-rho1\n",
        "              drho = drho-np.average(drho)\n",
        "              err = dist_cvx(drho,D,m)\n",
        "\n",
        "            all_errors = np.append(all_errors, err)\n",
        "\n",
        "        # Get the nearest centroid and the error\n",
        "        nearest_centroid =  np.where(all_errors==np.amin(all_errors))[0].tolist()[0]\n",
        "        nearest_centroid_error = np.amin(all_errors)\n",
        "\n",
        "        # Add values to corresponding lists\n",
        "        assignation.append(nearest_centroid)\n",
        "        assign_errors.append(nearest_centroid_error)\n",
        "\n",
        "    return assignation, assign_errors"
      ],
      "metadata": {
        "id": "o_0QawySb-pT"
      },
      "execution_count": null,
      "outputs": []
    },
    {
      "cell_type": "markdown",
      "source": [
        "## Wasserstein distance-based Kmeans using unbalanced OMT"
      ],
      "metadata": {
        "id": "OEn2eNNYzAtH"
      }
    },
    {
      "cell_type": "code",
      "source": [
        "def kmeans(G0,gamma,UNBALANCED, dset, k, D, m, no_feature, dis, tol=1e-5):\n",
        "    '''\n",
        "    K-means implementationd for a\n",
        "    `dset`:  DataFrame with observations\n",
        "    `k`: number of clusters, default k=2\n",
        "    `tol`: tolerance=1E-4\n",
        "    '''\n",
        "\n",
        "    working_dset = dset.copy()\n",
        "    err = []\n",
        "    goahead = True\n",
        "    j = 0\n",
        "\n",
        "    # Initiate clusters by defining centroids\n",
        "    centroids = initiate_centroids(k, dset)\n",
        "    ITER=5\n",
        "    while(goahead):\n",
        "        print(j)\n",
        "        # Assign centroids and calculate error\n",
        "        working_dset['centroid'], j_err = centroid_assignation(G0,gamma,UNBALANCED,working_dset, centroids, D, m, no_feature)\n",
        "        err.append(sum(j_err))\n",
        "\n",
        "        #  Update centroid position\n",
        "        centroids = working_dset.groupby('centroid').agg('mean').reset_index(drop = True)\n",
        "\n",
        "        # Restart the iteration\n",
        "        if j>0:\n",
        "            if np.abs(err[j-1]-err[j])<=tol:\n",
        "                goahead = False\n",
        "        j+=1\n",
        "\n",
        "    working_dset['centroid'], j_err = centroid_assignation(G0,gamma,UNBALANCED,working_dset, centroids, D, m, no_feature)\n",
        "    centroids = working_dset.groupby('centroid').agg('mean').reset_index(drop = True)\n",
        "\n",
        "    return working_dset['centroid'], j_err, centroids"
      ],
      "metadata": {
        "id": "6_D6cgBBIuyc"
      },
      "execution_count": null,
      "outputs": []
    },
    {
      "cell_type": "markdown",
      "source": [
        "## Initialization for balanced OMT"
      ],
      "metadata": {
        "id": "Jp_00ms-zamx"
      }
    },
    {
      "cell_type": "code",
      "source": [
        "T = df_G0.to_numpy()\n",
        "T = np.transpose(T)\n",
        "no_sample = T.shape[1]\n",
        "no_feature = T.shape[0]\n",
        "print(no_feature)\n",
        "\n",
        "m = int(round(adj_G0.sum()/2))\n",
        "print(adj_G0.sum())\n",
        "print(m)\n",
        "D = np.zeros((no_feature, m))\n",
        "count = 0\n",
        "\n",
        "for i in range(no_feature-1):\n",
        "    for j in range(i+1,no_feature):\n",
        "        if adj_G0[i,j]==1:\n",
        "            D[i,count] = -1\n",
        "            D[j,count] = 1\n",
        "            count=count+1"
      ],
      "metadata": {
        "id": "cP0r9EJ-9kXj"
      },
      "execution_count": null,
      "outputs": []
    },
    {
      "cell_type": "markdown",
      "source": [
        "## Run Wasserstein Kmeans"
      ],
      "metadata": {
        "id": "TVa_Uy3ByzHO"
      }
    },
    {
      "cell_type": "code",
      "source": [
        "UNBALANCED = 1\n",
        "NO_CLUSTER = 2 # number of clusters\n",
        "gamma = 30 # paramenter for unblanced OMT\n",
        "G_0_dis=nx.floyd_warshall_numpy(G0)\n",
        "df_G0_copy=df_G0.copy()\n",
        "\n",
        "mapping = dict(zip(G0, range(0, df_G0_copy.shape[1])))\n",
        "G0 = nx.relabel_nodes(G0, mapping)\n",
        "\n",
        "df_G0['centroid'], df_G0['error'], centroids =  kmeans(G0,gamma,UNBALANCED,df_G0, NO_CLUSTER, D, m, no_feature, G_0_dis)"
      ],
      "metadata": {
        "id": "h_SLSePmV2ey"
      },
      "execution_count": null,
      "outputs": []
    },
    {
      "cell_type": "markdown",
      "source": [
        "## TSNE visualization"
      ],
      "metadata": {
        "id": "Ae6N4cx5erVj"
      }
    },
    {
      "cell_type": "code",
      "source": [
        "from sklearn.manifold import TSNE\n",
        "X_embedded = TSNE(n_components=2, learning_rate='auto',\n",
        "                   init='random').fit_transform(df_G0.iloc[:,:-2])\n"
      ],
      "metadata": {
        "id": "TbCelcdzY2tg"
      },
      "execution_count": null,
      "outputs": []
    },
    {
      "cell_type": "code",
      "source": [
        "centroid= df_G0['centroid'].tolist()\n",
        "\n",
        "\n",
        "sns.set(rc={'figure.figsize':(8,6)})\n",
        "\n",
        "sns.set(font_scale = 2)\n",
        "sns.set_style(\"whitegrid\")\n",
        "sns.scatterplot(X_embedded[:,0], X_embedded[:,1], hue=centroid)\n",
        "\n",
        "plt.xlabel(\"Component 1\")\n",
        "plt.ylabel(\"Component 2\")\n",
        "plt.legend(['Class 1', 'Class 2'])\n",
        "\n",
        "ax = plt.gca()\n",
        "leg = ax.get_legend()\n",
        "leg.legendHandles[0].set_color('darkblue')\n",
        "leg.legendHandles[1].set_color('darkorange')"
      ],
      "metadata": {
        "id": "ianYlRJPauRL"
      },
      "execution_count": null,
      "outputs": []
    },
    {
      "cell_type": "markdown",
      "source": [
        "## Read clinical data"
      ],
      "metadata": {
        "id": "anumcWT3z2IE"
      }
    },
    {
      "cell_type": "code",
      "source": [
        "# Upload clinical data including survival status and follow-up time\n",
        "df_cli = pd.read_excel(clinical_file)\n",
        "df_all_ids=df_all['id']\n",
        "\n",
        "df_cli_matched=df_cli.loc[df_cli['Case ID'].isin(df_all_ids)]"
      ],
      "metadata": {
        "id": "LwtmXKA3Q5at"
      },
      "execution_count": null,
      "outputs": []
    },
    {
      "cell_type": "markdown",
      "source": [
        "## Survival analysis"
      ],
      "metadata": {
        "id": "YY5TzvZq0B16"
      }
    },
    {
      "cell_type": "code",
      "source": [
        "# KM analysis for two clusters\n",
        "from lifelines.statistics import logrank_test\n",
        "from lifelines.statistics import multivariate_logrank_test\n",
        "from matplotlib.offsetbox import AnchoredText\n",
        "from lifelines import KaplanMeierFitter, CoxPHFitter\n",
        "\n",
        "OS=df_cli_matched['Survival'].to_numpy()\n",
        "OS_time=df_cli_matched['Survival time'].to_numpy()\n",
        "\n",
        "centroid= df_G0['centroid']\n",
        "idx0= np.where(centroid == 0)\n",
        "idx1= np.where(centroid == 1)\n",
        "\n",
        "kmf = KaplanMeierFitter()\n",
        "ax = plt.subplot(111)\n",
        "h_OS_time=OS_time[idx0]\n",
        "h_OS=OS[idx0]\n",
        "kmf.fit(h_OS_time/365, event_observed = h_OS, label = 'Low risk')\n",
        "kmf.plot(ax = ax, show_censors=True)\n",
        "\n",
        "m_OS_time=OS_time[idx1]\n",
        "m_OS=OS[idx1]\n",
        "kmf.fit(m_OS_time/365, event_observed = m_OS, label = 'High risk')\n",
        "kmf.plot(ax = ax, show_censors=True)\n",
        "\n",
        "#plt.title(\"Kaplan Meier estimates in lung cancer\")\n",
        "plt.xlabel(\"Years\")\n",
        "plt.ylabel(\"Survival\")\n",
        "plt.rcParams[\"figure.figsize\"] = (13,8)\n",
        "plt.rcParams.update({'font.size': 22})\n",
        "\n",
        "result = multivariate_logrank_test(OS_time, centroid, OS)\n",
        "result.test_statistic\n",
        "result.p_value\n",
        "result.print_summary()"
      ],
      "metadata": {
        "id": "avWTcpPkT2Jt"
      },
      "execution_count": null,
      "outputs": []
    },
    {
      "cell_type": "markdown",
      "source": [],
      "metadata": {
        "id": "ZhmKt9ES7uqh"
      }
    }
  ]
}