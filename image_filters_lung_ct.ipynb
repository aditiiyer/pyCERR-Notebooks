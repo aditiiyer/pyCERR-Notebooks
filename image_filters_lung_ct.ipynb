{
 "cells": [
  {
   "cell_type": "markdown",
   "metadata": {},
   "source": [
    "<a target=\"_blank\" href=\"https://colab.research.google.com/github/cerr/pyCERR-Notebooks/blob/main/image_filters_lung_ct.ipynb\">\n",
    "  <img src=\"https://colab.research.google.com/assets/colab-badge.svg\" alt=\"Open In Colab\"/>\n",
    "</a>"
   ]
  },
  {
   "cell_type": "markdown",
   "metadata": {
    "id": "5jXnaaCE_P5S"
   },
   "source": [
    "# IBSI-2 compatible image texture using pyCERR\n",
    "\n",
    "\n",
    "This notebook demonstrates how to apply IBSI-2 compatible image filters using pyCERR.\n",
    "\n",
    "Supported filters include: *Mean*, *Sobel*, *Laplacian of Gaussian (LoG)*, *Laws'/Laws' Energy*, and *Gabor*.  \n",
    "All filters are implemented as per the [IBSI2](https://theibsi.github.io/ibsi2/) standard, including support for 3D approximations and rotation invariance where defined."
   ]
  },
  {
   "cell_type": "markdown",
   "metadata": {
    "id": "Vu_Hjgiq_DEE"
   },
   "source": [
    "## Install pyCERR (dev version)"
   ]
  },
  {
   "cell_type": "code",
   "execution_count": null,
   "metadata": {
    "id": "9IIGc1k3-3Iz"
   },
   "outputs": [],
   "source": [
    "%% capture\n",
    "pip install git+https://github.com/cerr/pyCERR/"
   ]
  },
  {
   "cell_type": "markdown",
   "metadata": {},
   "source": [
    "## Download settings"
   ]
  },
  {
   "cell_type": "code",
   "execution_count": null,
   "metadata": {},
   "outputs": [],
   "source": [
    "! wget -O {filterSettingsTarPath} https://mskcc.box.com/shared/static/zt6qox6tnhov48ncl6txs4mlrd9rku8i.gz\n",
    "! tar xf {filterSettingsTarPath}\n",
    "! rm {filterSettingsTarPath}\n",
    "! pip install jsbeautifier\n",
    "settingsDir = '/content/convolutional_filter_settings'"
   ]
  },
  {
   "cell_type": "markdown",
   "metadata": {
    "id": "vuf1A1HZ_G5C"
   },
   "source": [
    "## Read sample DICOM images\n",
    "\n",
    "* The dataset used here, comprising a Lung CT scan with tumor segmentation, was made available by Lambin et al. via CancerData and is included with pyCERR.\n",
    "\n",
    "* Selected filter parameters used in compatibilty tests with the IBSI-2 standard are used in this demonstration."
   ]
  },
  {
   "cell_type": "code",
   "execution_count": null,
   "metadata": {
    "id": "n_FxOthE_HG2"
   },
   "outputs": [],
   "source": [
    "import os, numpy as np\n",
    "from cerr import datasets, plan_container as pc\n",
    "\n",
    "# Path to DICOM data\n",
    "sampleDataPath = os.path.dirname(datasets.__file__)\n",
    "sampleDataDir = os.path.join(sampleDataPath, 'radiomics_phantom_dicom', 'PAT1')\n",
    "\n",
    "# Import contents to planC\n",
    "planC = pc.load_dcm_dir(sampleDataDir)"
   ]
  },
  {
   "cell_type": "markdown",
   "metadata": {
    "id": "skC_2DXqCROq"
   },
   "source": [
    "## Apply IBSI2 filters\n",
    "\n",
    "*Note*:\n",
    "* Sample filter settings can be downloaded from [https://github.com/cerr/pyCERR-Notebooks](https://github.com/cerr/pyCERR-Notebooks/settings/). The `settingsDir` variable below should point to directory containing settings files.\n",
    "* The examples below use the *Napari* package for visualization. *Napari* requires a display for rendering graphics and does not support interactive visualization on a remote server (e.g. Google Colab)."
   ]
  },
  {
   "cell_type": "markdown",
   "metadata": {},
   "source": [
    "### Review filter settings"
   ]
  },
  {
   "cell_type": "code",
   "execution_count": null,
   "metadata": {
    "id": "Aya0BFyiCRrw"
   },
   "outputs": [],
   "source": [
    "import json, jsbeautifier\n",
    "from cerr.radiomics import textureUtils \n",
    "\n",
    "options = jsbeautifier.default_options()\n",
    "options.indent_size = 4\n",
    "\n",
    "# Path to JSON settings file with filter parameters\n",
    "settingsFile = os.path.join(settingsDir, 'gabor_filter.json')  #Replace with Path to sample mean filter settings file\n",
    "paramS, __ = textureUtils.loadSettingsFromFile(settingsFile)\n",
    "\n",
    "# Display settings\n",
    "print(jsbeautifier.beautify(json.dumps(paramS), options))\n",
    "\n",
    "# Compute filter response\n",
    "scanNum = 0\n",
    "strNum = 0\n",
    "planC = textureUtils.generateTextureMapFromPlanC(planC, scanNum, strNum, settingsFile)\n",
    "filtIdx = len(planC.scan)-1         # Index of filtered scan"
   ]
  },
  {
   "cell_type": "markdown",
   "metadata": {},
   "source": [
    "### Capture screenshot"
   ]
  },
  {
   "cell_type": "code",
   "execution_count": null,
   "metadata": {
    "id": "18hlrgrzEJ9l"
   },
   "outputs": [],
   "source": [
    "!export NAPARI_APPLICATION_IPY_INTERACTIVE=0\n",
    "!export QT_DEBUG_PLUGINS=1 > /dev/null 2>&1\n",
    "!apt-get update > /dev/null 2>&1\n",
    "!apt-get install libqt5x11extras5-dev > /dev/null 2>&1\n",
    "!apt-get install x11-utils > /dev/null 2>&1\n",
    "!pip install pyglet > /dev/null 2>&1\n",
    "!apt-get install -y xvfb > /dev/null 2>&1\n",
    "!pip install pyvirtualdisplay > /dev/null 2>&1\n",
    "from pyvirtualdisplay import Display\n",
    "virtualDisplay = Display(backend=\"xvfb\", size=(600, 600))\n",
    "virtualDisplay.start()"
   ]
  },
  {
   "cell_type": "code",
   "execution_count": null,
   "metadata": {
    "id": "neoLPjL8E_Mf"
   },
   "outputs": [],
   "source": [
    "from IPython.display import Image, display\n",
    "from cerr import plan_container as pc\n",
    "import cerr.contour.rasterseg as rs\n",
    "from cerr import viewer as vwr\n",
    "from skimage.io import imsave, imshow\n",
    "import numpy as np\n",
    "import os\n",
    "\n",
    "capture_fname = 'filtered_img.png')\n",
    "dispScanNum = [filtIdx]\n",
    "dispStrNum = []\n",
    "dispDoseNum = []\n",
    "displayMode = '2d'    \n",
    "viewer, scan_layer, dose_layer, struct_layer = \\\n",
    "vwr.show_scan_struct_dose(dispScanNum, dispStrNum, dispDoseNum, planC, displayMode)\n",
    "screenshot = viewer.screenshot(size =(600, 600))\n",
    "viewer.close()\n",
    "imsave(capture_fname, screenshot)\n",
    "print('saved to '+ capture_fname)\n",
    "display(Image(filename=capture_fname, retina=False, width=200, embed=True))"
   ]
  }
 ],
 "metadata": {
  "colab": {
   "provenance": []
  },
  "kernelspec": {
   "display_name": "Python 3 (ipykernel)",
   "language": "python",
   "name": "python3"
  },
  "language_info": {
   "codemirror_mode": {
    "name": "ipython",
    "version": 3
   },
   "file_extension": ".py",
   "mimetype": "text/x-python",
   "name": "python",
   "nbconvert_exporter": "python",
   "pygments_lexer": "ipython3",
   "version": "3.8.18"
  }
 },
 "nbformat": 4,
 "nbformat_minor": 4
}
