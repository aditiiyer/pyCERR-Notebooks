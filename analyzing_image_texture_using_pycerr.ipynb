{
 "cells": [
  {
   "cell_type": "markdown",
   "metadata": {
    "id": "5jXnaaCE_P5S"
   },
   "source": [
    "# Analyzing image texture using pyCERR\n",
    "\n",
    "\n",
    "This notebook demonstrates how to filter images using pyCERR.\n",
    "\n",
    "Supported filters include: *Mean*, *Sobel*, *Laplacian of Gaussian (LoG)*, *Laws'/Laws' Energy*, and *Gabor*.  \n",
    "All filters are implemented as per the [IBSI2](https://theibsi.github.io/ibsi2/) standard, including support for 3D approximations and rotation invariance where defined."
   ]
  },
  {
   "cell_type": "markdown",
   "metadata": {
    "id": "Vu_Hjgiq_DEE"
   },
   "source": [
    "## Install pyCERR (dev version)"
   ]
  },
  {
   "cell_type": "code",
   "execution_count": 2,
   "metadata": {
    "id": "9IIGc1k3-3Iz"
   },
   "outputs": [],
   "source": [
    "%% capture\n",
    "pip install git+https://github.com/cerr/pyCERR/"
   ]
  },
  {
   "cell_type": "markdown",
   "metadata": {
    "id": "vuf1A1HZ_G5C"
   },
   "source": [
    "## Read sample DICOM images\n",
    "\n",
    "* The dataset used here, comprising a Lung CT scan with tumor segmentation, was made available by Lambin et al. via CancerData and is included with pyCERR.\n",
    "\n",
    "* Selected filter parameters used in compatibilty tests with the IBSI-2 standard are used in this demonstration."
   ]
  },
  {
   "cell_type": "code",
   "execution_count": 3,
   "metadata": {
    "id": "n_FxOthE_HG2"
   },
   "outputs": [
    {
     "name": "stdout",
     "output_type": "stream",
     "text": [
      "('PAT1', 'PAT1', '1.3.6.1.4.1.9590.100.1.2.96328687310426543129572151154132284399', '1.3.6.1.4.1.9590.100.1.2.258301620411152643708006163321128526885', 'RTSTRUCT', 'RTSTRUCT', 'RTSTRUCT', 'RTSTRUCT', 'RTSTRUCT', 'RTSTRUCT', 'RTSTRUCT')\n",
      "('PAT1', 'PAT1', '1.3.6.1.4.1.9590.100.1.2.96328687310426543129572151154132284399', '1.3.6.1.4.1.9590.100.1.2.296658988911737913102339329841519593982', 'CT', 'CT', 'CT', 'CT', 'CT', 'CT', 'CT')\n"
     ]
    }
   ],
   "source": [
    "import os, numpy as np\n",
    "from cerr import datasets, plan_container as pc\n",
    "\n",
    "# Path to DICOM data\n",
    "sampleDataPath = os.path.dirname(datasets.__file__)\n",
    "sampleDataDir = os.path.join(sampleDataPath, 'radiomics_phantom_dicom', 'PAT1')\n",
    "\n",
    "# Import contents to planC\n",
    "planC = pc.load_dcm_dir(sampleDataDir)"
   ]
  },
  {
   "cell_type": "markdown",
   "metadata": {},
   "source": [
    "## Visualize input scan and tumor mask"
   ]
  },
  {
   "cell_type": "code",
   "execution_count": 4,
   "metadata": {},
   "outputs": [],
   "source": [
    "from cerr import viewer as vwr\n",
    "\n",
    "#Display scan and tumor mask\n",
    "scanNum = 0\n",
    "strNum = 0\n",
    "doseNum = []\n",
    "\n",
    "# Extract scan array\n",
    "scan3M = planC.scan[scanNum].getScanArray()\n",
    "scan3M = scan3M.astype(float)\n",
    "\n",
    "# Display \n",
    "displayMode = '2d' # Set to '2d - path' or '3d - surface'\n",
    "viewer, scan_layer, dose_layer, struct_layer = \\\n",
    "vwr.show_scan_struct_dose(scanNum, strNum, doseNum, planC, displayMode)"
   ]
  },
  {
   "cell_type": "markdown",
   "metadata": {
    "id": "skC_2DXqCROq"
   },
   "source": [
    "## Example-1 : Mean filter\n",
    "\n",
    "*Note*: The examples below use the *Napari* package for visualization. *Napari* requires a display for rendering graphics and does not support visualization on a remote server (e.g. Google Colab)."
   ]
  },
  {
   "cell_type": "markdown",
   "metadata": {},
   "source": [
    "### Review filter settings"
   ]
  },
  {
   "cell_type": "code",
   "execution_count": 5,
   "metadata": {
    "id": "Aya0BFyiCRrw"
   },
   "outputs": [
    {
     "name": "stdout",
     "output_type": "stream",
     "text": [
      "{\n",
      "    \"structures\": [\"wholeScan\"],\n",
      "    \"imageType\": {\n",
      "        \"Mean\": {\n",
      "            \"KernelSize\": [15, 15, 15]\n",
      "        }\n",
      "    },\n",
      "    \"settings\": {\n",
      "        \"padding\": [{\n",
      "            \"method\": \"padzeros\",\n",
      "            \"size\": [7, 7, 7]\n",
      "        }]\n",
      "    }\n",
      "}\n"
     ]
    }
   ],
   "source": [
    "import json, jsbeautifier\n",
    "from cerr.radiomics import textureUtils \n",
    "\n",
    "options = jsbeautifier.default_options()\n",
    "options.indent_size = 4\n",
    "\n",
    "# Path to JSON settings file with filter parameters\n",
    "settingsDir = os.path.join(sampleDataPath, 'radiomics_settings',\\\n",
    "                           'IBSIsettings','IBSI2Phase1')\n",
    "# Read filter settings\n",
    "settingsFile =  os.path.join(settingsDir,'IBSIPhase2-1ID1a1.json')\n",
    "paramS, __ = textureUtils.loadSettingsFromFile(settingsFile)\n",
    "\n",
    "# Display settings\n",
    "print(jsbeautifier.beautify(json.dumps(paramS), options))"
   ]
  },
  {
   "cell_type": "code",
   "execution_count": 6,
   "metadata": {
    "id": "18hlrgrzEJ9l"
   },
   "outputs": [],
   "source": [
    "# Compute filter response\n",
    "planC = textureUtils.generateTextureMapFromPlanC(planC, scanNum, strNum, settingsFile)\n",
    "filtIdx = len(planC.scan)-1\n",
    "strIdx = len(planC.structure)-1"
   ]
  },
  {
   "cell_type": "code",
   "execution_count": 7,
   "metadata": {
    "id": "neoLPjL8E_Mf"
   },
   "outputs": [],
   "source": [
    "#Display\n",
    "scanNum = filtIdx\n",
    "doseNum = []\n",
    "strNum = 0\n",
    "displayMode = '2d'     # Se to '2d - path' or '3d - surface'\n",
    "\n",
    "viewer, scan_layer, dose_layer, struct_layer = \\\n",
    "vwr.show_scan_struct_dose(filtIdx, strIdx, doseNum, planC, displayMode)"
   ]
  },
  {
   "cell_type": "markdown",
   "metadata": {
    "id": "1SKLWVBHFMSj"
   },
   "source": [
    "## Example-2 : 3D LoG filter"
   ]
  },
  {
   "cell_type": "code",
   "execution_count": 8,
   "metadata": {
    "id": "O9ou2Z4eFMey",
    "scrolled": true
   },
   "outputs": [],
   "source": [
    "settingsFile =  os.path.join(settingsDir,'IBSIPhase2-1ID2a.json')\n",
    "planC = textureUtils.generateTextureMapFromPlanC(planC, scanNum, strNum, settingsFile)\n",
    "print(len(planC.scan))\n",
    "\n",
    "#Display \n",
    "filtIdx = len(planC.scan)-1\n",
    "strIdx = len(planC.structure)-1\n",
    "viewer, scan_layer, dose_layer, struct_layer = \\\n",
    "vwr.show_scan_struct_dose(filtIdx, strNum, doseNum, planC, displayMode)"
   ]
  },
  {
   "cell_type": "markdown",
   "metadata": {
    "id": "KI0ZdxxoF8Zy"
   },
   "source": [
    "## Example-3: Rotation-invariant Laws' energy filter"
   ]
  },
  {
   "cell_type": "code",
   "execution_count": 9,
   "metadata": {
    "id": "aR-OJZIdF8ni"
   },
   "outputs": [],
   "source": [
    "# Read filter settings\n",
    "settingsFile =  os.path.join(settingsDir,'IBSIPhase2-1ID3c3.json')\n",
    "planC = textureUtils.generateTextureMapFromPlanC(planC, scanNum, strNum, settingsFile)\n",
    "\n",
    "#Display \n",
    "filtIdx = len(planC.scan)-1\n",
    "strIdx = len(planC.structure)-1\n",
    "viewer, scan_layer, dose_layer, struct_layer = \\\n",
    "vwr.show_scan_struct_dose(filtIdx, strNum, doseNum, planC, displayMode)"
   ]
  },
  {
   "cell_type": "markdown",
   "metadata": {
    "id": "91RFQOW8HVyE"
   },
   "source": [
    "## Example-4: 2D Gabor filter"
   ]
  },
  {
   "cell_type": "code",
   "execution_count": 10,
   "metadata": {
    "id": "6oaS_KwPHV7X"
   },
   "outputs": [],
   "source": [
    "settingsFile =  os.path.join(settingsDir,'IBSIPhase2-1ID4a1.json')\n",
    "planC = textureUtils.generateTextureMapFromPlanC(planC, scanNum, strNum, settingsFile)\n",
    "\n",
    "#Display \n",
    "filtIdx = len(planC.scan)-1\n",
    "strIdx = len(planC.structure)-1\n",
    "viewer, scan_layer, dose_layer, struct_layer = \\\n",
    "vwr.show_scan_struct_dose(filtIdx, strNum, doseNum, planC, displayMode)"
   ]
  },
  {
   "cell_type": "code",
   "execution_count": 1,
   "metadata": {},
   "outputs": [],
   "source": []
  }
 ],
 "metadata": {
  "colab": {
   "provenance": []
  },
  "kernelspec": {
   "display_name": "Python 3 (ipykernel)",
   "language": "python",
   "name": "python3"
  },
  "language_info": {
   "codemirror_mode": {
    "name": "ipython",
    "version": 3
   },
   "file_extension": ".py",
   "mimetype": "text/x-python",
   "name": "python",
   "nbconvert_exporter": "python",
   "pygments_lexer": "ipython3",
   "version": "3.10.12"
  }
 },
 "nbformat": 4,
 "nbformat_minor": 4
}
