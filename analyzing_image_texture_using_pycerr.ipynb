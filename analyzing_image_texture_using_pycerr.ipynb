{
 "cells": [
  {
   "cell_type": "markdown",
   "metadata": {
    "id": "5jXnaaCE_P5S"
   },
   "source": [
    "# Analyzing image texture using pyCERR\n",
    "\n",
    "\n",
    "This notebook demonstrates how to filter images using pyCERR.\n",
    "\n",
    "Supported filters include: *Mean*, *Sobel*, *Laplacian of Gaussian (LoG)*, *Laws'/Laws' Energy*, and *Gabor*.  \n",
    "All filters are implemented as per the [IBSI2](https://theibsi.github.io/ibsi2/) standard, including support for 3D approximations and rotation invariance where defined."
   ]
  },
  {
   "cell_type": "markdown",
   "metadata": {
    "id": "Vu_Hjgiq_DEE"
   },
   "source": [
    "## Install pyCERR (dev version)"
   ]
  },
  {
   "cell_type": "code",
   "execution_count": 1,
   "metadata": {
    "id": "9IIGc1k3-3Iz"
   },
   "outputs": [],
   "source": [
    "%% capture\n",
    "! pip install \"pyCERR[napari] @ git+https://github.com/cerr/pyCERR\""
   ]
  },
  {
   "cell_type": "markdown",
   "metadata": {
    "id": "vuf1A1HZ_G5C"
   },
   "source": [
    "## Read sample DICOM images\n",
    "\n",
    "* The dataset used here, comprising a Lung CT scan with tumor segmentation, was made available by Lambin et al. via CancerData and is included with pyCERR.\n",
    "\n",
    "* Selected filter parameters used in compatibilty tests with the IBSI-2 standard are used in this demonstration."
   ]
  },
  {
   "cell_type": "code",
   "execution_count": 2,
   "metadata": {
    "id": "n_FxOthE_HG2"
   },
   "outputs": [
    {
     "name": "stdout",
     "output_type": "stream",
     "text": [
      "('PAT1', 'PAT1', '1.3.6.1.4.1.9590.100.1.2.96328687310426543129572151154132284399', '1.3.6.1.4.1.9590.100.1.2.258301620411152643708006163321128526885', 'RTSTRUCT', 'RTSTRUCT', 'RTSTRUCT', 'RTSTRUCT', 'RTSTRUCT', 'RTSTRUCT', 'RTSTRUCT')\n",
      "('PAT1', 'PAT1', '1.3.6.1.4.1.9590.100.1.2.96328687310426543129572151154132284399', '1.3.6.1.4.1.9590.100.1.2.296658988911737913102339329841519593982', 'CT', 'CT', 'CT', 'CT', 'CT', 'CT', 'CT')\n"
     ]
    }
   ],
   "source": [
    "import os, numpy as np\n",
    "from cerr import datasets, plan_container as pc\n",
    "\n",
    "# Path to DICOM data\n",
    "sampleDataPath = os.path.dirname(datasets.__file__)\n",
    "sampleDataDir = os.path.join(sampleDataPath, 'radiomics_phantom_dicom', 'PAT1')\n",
    "\n",
    "# Import contents to planC\n",
    "planC = pc.loadDcmDir(sampleDataDir)"
   ]
  },
  {
   "cell_type": "markdown",
   "metadata": {},
   "source": [
    "## Visualize input scan and tumor mask"
   ]
  },
  {
   "cell_type": "code",
   "execution_count": 3,
   "metadata": {},
   "outputs": [],
   "source": [
    "from cerr import viewer as vwr\n",
    "\n",
    "#Display scan and tumor mask\n",
    "scanNum = 0\n",
    "strNum = 0\n",
    "doseNum = []\n",
    "\n",
    "# Extract scan array\n",
    "scan3M = planC.scan[scanNum].getScanArray()\n",
    "scan3M = scan3M.astype(float)\n",
    "\n",
    "# Visualize in Napari \n",
    "viewer, scan_layer, struct_layer, dose_layer, dvf_layer = \\\n",
    "    vwr.showNapari(planC, scan_nums=scanNum, struct_nums=strNum, dose_nums=[], vectors_dict={}, displayMode='2d')\n"
   ]
  },
  {
   "cell_type": "markdown",
   "metadata": {
    "id": "skC_2DXqCROq"
   },
   "source": [
    "## Example-1 : Mean filter\n",
    "\n",
    "*Note*:\n",
    "* Sample filter settings can be downloaded from [https://github.com/cerr/pyCERR-Notebooks](https://github.com/cerr/pyCERR-Notebooks/settings/). The `settingsDir` variable below should be edited to point to your local copy of the settings file.\n",
    "* The examples below use the *Napari* package for visualization. *Napari* requires a display for rendering graphics and does not support visualization on a remote server (e.g. Google Colab)."
   ]
  },
  {
   "cell_type": "markdown",
   "metadata": {},
   "source": [
    "### Review filter settings"
   ]
  },
  {
   "cell_type": "code",
   "execution_count": 4,
   "metadata": {
    "id": "Aya0BFyiCRrw"
   },
   "outputs": [
    {
     "name": "stdout",
     "output_type": "stream",
     "text": [
      "{\n",
      "    \"structures\": [\"GTV\"],\n",
      "    \"imageType\": {\n",
      "        \"Mean\": {\n",
      "            \"KernelSize\": [5, 5, 5]\n",
      "        }\n",
      "    },\n",
      "    \"settings\": {\n",
      "        \"padding\": {\n",
      "            \"method\": \"expand\",\n",
      "            \"size\": [2, 2, 2]\n",
      "        }\n",
      "    }\n",
      "}\n"
     ]
    }
   ],
   "source": [
    "import json, jsbeautifier\n",
    "from cerr.radiomics import textureUtils \n",
    "\n",
    "options = jsbeautifier.default_options()\n",
    "options.indent_size = 4\n",
    "\n",
    "# Path to JSON settings file with filter parameters\n",
    "settingsFile = 'C:\\settings\\convolutional_filter_settings\\mean_filter.json'  #Replace with Path to sample mean filter settings file\n",
    "paramS, __ = textureUtils.loadSettingsFromFile(settingsFile)\n",
    "\n",
    "# Display settings\n",
    "print(jsbeautifier.beautify(json.dumps(paramS), options))"
   ]
  },
  {
   "cell_type": "code",
   "execution_count": 5,
   "metadata": {
    "id": "18hlrgrzEJ9l"
   },
   "outputs": [],
   "source": [
    "# Compute filter response\n",
    "planC = textureUtils.generateTextureMapFromPlanC(planC, scanNum, strNum, settingsFile)\n",
    "filtIdx = len(planC.scan)-1         # Index of filtered scan"
   ]
  },
  {
   "cell_type": "code",
   "execution_count": 6,
   "metadata": {
    "id": "neoLPjL8E_Mf"
   },
   "outputs": [],
   "source": [
    "# Visualize in Napari \n",
    "dispScanNum = [scanNum,filtIdx]\n",
    "dispStrNum = [strNum]\n",
    "dispDoseNum = []\n",
    "viewer, scan_layer, struct_layer, dose_layer, dvf_layer = \\\n",
    "    vwr.showNapari(planC, scan_nums=dispScanNum, struct_nums=dispStrNum, dose_nums=[], vectors_dict={}, displayMode='2d')\n"
   ]
  },
  {
   "cell_type": "markdown",
   "metadata": {
    "id": "1SKLWVBHFMSj"
   },
   "source": [
    "## Example-2 : 3D LoG filter"
   ]
  },
  {
   "cell_type": "code",
   "execution_count": 7,
   "metadata": {
    "id": "O9ou2Z4eFMey",
    "scrolled": true
   },
   "outputs": [],
   "source": [
    "#Compute filter response \n",
    "settingsFile =  'C:\\settings\\convolutional_filter_settings\\LoG_filter.json' #Replace with Path to sample loG filter settings file\n",
    "planC = textureUtils.generateTextureMapFromPlanC(planC, scanNum, strNum, settingsFile)\n",
    "print(len(planC.scan))\n",
    "\n",
    "#Visualize in Napari \n",
    "filtIdx = len(planC.scan)-1\n",
    "dispScanNum = [scanNum,filtIdx]\n",
    "viewer, scan_layer, struct_layer, dose_layer, dvf_layer = \\\n",
    "    vwr.showNapari(planC, scan_nums=dispScanNum, struct_nums=dispStrNum, dose_nums=[], vectors_dict={}, displayMode='2d')\n"
   ]
  },
  {
   "cell_type": "markdown",
   "metadata": {
    "id": "KI0ZdxxoF8Zy"
   },
   "source": [
    "## Example-3: Rotation-invariant Laws' energy filter"
   ]
  },
  {
   "cell_type": "code",
   "execution_count": 8,
   "metadata": {
    "id": "aR-OJZIdF8ni"
   },
   "outputs": [],
   "source": [
    "#Compute filter response\n",
    "settingsFile = 'C:\\settings\\convolutional_filter_settings\\Rot_inv_laws_energy_filter.json' #Replace with Path to sample Laws' filter settings file\n",
    "planC = textureUtils.generateTextureMapFromPlanC(planC, scanNum, strNum, settingsFile)\n",
    "\n",
    "#Display \n",
    "filtIdx = len(planC.scan)-1\n",
    "dispScanNum = [scanNum,filtIdx]\n",
    "viewer, scan_layer, struct_layer, dose_layer, dvf_layer = \\\n",
    "    vwr.showNapari(planC, scan_nums=dispScanNum, struct_nums=dispStrNum, dose_nums=[], vectors_dict={}, displayMode='2d')\n"
   ]
  },
  {
   "cell_type": "markdown",
   "metadata": {
    "id": "91RFQOW8HVyE"
   },
   "source": [
    "## Example-4: 3D approximation of Gabor filter"
   ]
  },
  {
   "cell_type": "code",
   "execution_count": 9,
   "metadata": {
    "id": "6oaS_KwPHV7X"
   },
   "outputs": [],
   "source": [
    "#Compute filter response\n",
    "settingsFile = 'C:\\settings\\convolutional_filter_settings\\gabor_filter.json' #Replace with Path to sample Gabor filter settings file\n",
    "planC = textureUtils.generateTextureMapFromPlanC(planC, scanNum, strNum, settingsFile)\n",
    "\n",
    "#Visualize in Napari \n",
    "filtIdx = len(planC.scan)-1\n",
    "dispScanNum = [scanNum,filtIdx]\n",
    "viewer, scan_layers, struct_layer, dose_layers, dvf_layer = \\\n",
    "    vwr.showNapari(planC, scan_nums=dispScanNum, struct_nums=dispStrNum, dose_nums=[], vectors_dict={}, displayMode='2d')\n"
   ]
  }
 ],
 "metadata": {
  "colab": {
   "provenance": []
  },
  "kernelspec": {
   "display_name": "Python 3 (ipykernel)",
   "language": "python",
   "name": "python3"
  },
  "language_info": {
   "codemirror_mode": {
    "name": "ipython",
    "version": 3
   },
   "file_extension": ".py",
   "mimetype": "text/x-python",
   "name": "python",
   "nbconvert_exporter": "python",
   "pygments_lexer": "ipython3",
   "version": "3.11.9"
  }
 },
 "nbformat": 4,
 "nbformat_minor": 4
}
