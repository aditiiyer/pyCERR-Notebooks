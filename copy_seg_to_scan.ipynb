{
 "cells": [
  {
   "cell_type": "markdown",
   "id": "c3273118-0073-4236-a25a-6c384188f9c3",
   "metadata": {},
   "source": [
    "## Copy segmentation from one scan to another"
   ]
  },
  {
   "cell_type": "markdown",
   "id": "de791c48-f821-430a-abb5-2cd24c4ada0b",
   "metadata": {},
   "source": [
    "This notebook demonstrates copying segmentation from one scan to another. Scan and segmentation in the example are read from Nifti, but can also be loaded from DICOM format."
   ]
  },
  {
   "cell_type": "markdown",
   "id": "485ead3e-8c49-4592-b973-08e08676084d",
   "metadata": {},
   "source": [
    "#### Define Paths for scans and segmentation"
   ]
  },
  {
   "cell_type": "code",
   "execution_count": null,
   "id": "04b4f16c-7b30-4cba-990e-15c06d7b01ed",
   "metadata": {},
   "outputs": [],
   "source": [
    "origNiiScan = r'/path/to/original_scan.nii'\n",
    "origNiiStr = r'/path/to/original_seg.nii'\n",
    "resampNiiScan = r'/path/to/smore_resamp_scan.nii'\n",
    "outputNiiStr = r'/path/to/smore_resamp_str.nii.gz'"
   ]
  },
  {
   "cell_type": "markdown",
   "id": "69ad5932-baa0-40fd-bcae-33b946e218c0",
   "metadata": {},
   "source": [
    "#### Import scans and segmentation to planC"
   ]
  },
  {
   "cell_type": "code",
   "execution_count": null,
   "id": "aaa98a24-4fd4-45f5-8f9f-12e7776b9a23",
   "metadata": {},
   "outputs": [],
   "source": [
    "from cerr import plan_container as pc\n",
    "planC = pc.load_nii_scan(origNiiScan)\n",
    "planC = pc.load_nii_scan(resampNiiScan, planC)\n",
    "assocScanNum = 0 # index of the original scan\n",
    "structName = 'tumor'\n",
    "planC = pc.load_nii_structure(origNiiStr, assocScanNum, planC, labels_dict={1: structName})"
   ]
  },
  {
   "cell_type": "markdown",
   "id": "5a88ae0d-d639-4548-bf92-baa253709d9e",
   "metadata": {},
   "source": [
    "#### Copy segmentation from the original scan to the resampled scan"
   ]
  },
  {
   "cell_type": "code",
   "execution_count": null,
   "id": "9910124a-e615-4f1b-956a-ed5183bb45fc",
   "metadata": {},
   "outputs": [],
   "source": [
    "from cerr.dataclasses import structure as cerrStruct\n",
    "structNum = 0\n",
    "scanNum = 1\n",
    "planC = cerrStruct.copyToScan(structNum, scanNum, planC)"
   ]
  },
  {
   "cell_type": "markdown",
   "id": "cc547236-188d-44b7-9f21-79dd18f1cbf7",
   "metadata": {},
   "source": [
    "#### Visualize scan and segmentation"
   ]
  },
  {
   "cell_type": "code",
   "execution_count": null,
   "id": "35be89ec-a22c-4295-bf2b-67e26f44a367",
   "metadata": {},
   "outputs": [],
   "source": [
    "from cerr import viewer as vwr\n",
    "import numpy as np\n",
    "scanNumList = [1]\n",
    "doseNumList = []\n",
    "strNumList = [1]\n",
    "displayMode = '2d' # 'path' or 'surface'\n",
    "viewer, scan_layer, dose_layer, struct_layer = \\\n",
    "    vwr.show_scan_struct_dose(scanNumList, strNumList, doseNumList, planC, displayMode)"
   ]
  },
  {
   "cell_type": "markdown",
   "id": "847ce70a-e6c3-4320-ba31-697d618b9c23",
   "metadata": {},
   "source": [
    "#### Export segmentation to Nifti"
   ]
  },
  {
   "cell_type": "code",
   "execution_count": null,
   "id": "f60f67f0-77bd-46f3-aede-3147a37c8e6e",
   "metadata": {},
   "outputs": [],
   "source": [
    "structNum = len(planC.structure)-1 # assume the structure to export is the last one in the list\n",
    "planC.structure[structNum].save_nii(outputNiiStr, planC)"
   ]
  }
 ],
 "metadata": {
  "kernelspec": {
   "display_name": "Python 3 (ipykernel)",
   "language": "python",
   "name": "python3"
  },
  "language_info": {
   "codemirror_mode": {
    "name": "ipython",
    "version": 3
   },
   "file_extension": ".py",
   "mimetype": "text/x-python",
   "name": "python",
   "nbconvert_exporter": "python",
   "pygments_lexer": "ipython3",
   "version": "3.8.18"
  }
 },
 "nbformat": 4,
 "nbformat_minor": 5
}
