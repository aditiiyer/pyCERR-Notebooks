{
 "cells": [
  {
   "cell_type": "markdown",
   "id": "723723c9-1b4f-469e-8ad5-356ae8c6194d",
   "metadata": {},
   "source": [
    "<a target=\"_blank\" href=\"https://colab.research.google.com/github/cerr/pyCERR-Notebooks/blob/main/copy_seg_to_scan.ipynb\">\n",
    "  <img src=\"https://colab.research.google.com/assets/colab-badge.svg\" alt=\"Open In Colab\"/>\n",
    "</a>"
   ]
  },
  {
   "cell_type": "markdown",
   "id": "c3273118-0073-4236-a25a-6c384188f9c3",
   "metadata": {},
   "source": [
    "## Copy segmentation from one scan to another"
   ]
  },
  {
   "cell_type": "markdown",
   "id": "de791c48-f821-430a-abb5-2cd24c4ada0b",
   "metadata": {},
   "source": [
    "This notebook demonstrates copying segmentation from one scan to another. Scan and segmentation in the example are read from Nifti, but can also be loaded from DICOM format."
   ]
  },
  {
   "cell_type": "markdown",
   "id": "485ead3e-8c49-4592-b973-08e08676084d",
   "metadata": {},
   "source": [
    "#### Define Paths for scans and segmentation"
   ]
  },
  {
   "cell_type": "code",
   "execution_count": null,
   "id": "04b4f16c-7b30-4cba-990e-15c06d7b01ed",
   "metadata": {},
   "outputs": [],
   "source": [
    "origNiiScan = r'path/to/original_scan.nii'\n",
    "origNiiStr = r'path/to/original_seg.nii'\n",
    "resampNiiScan = r'path/to/smore_resampled_scan.nii'\n",
    "outputNiiStr = r'path/to/output_resampled_seg.nii.gz'"
   ]
  },
  {
   "cell_type": "markdown",
   "id": "69ad5932-baa0-40fd-bcae-33b946e218c0",
   "metadata": {},
   "source": [
    "#### Import scans and segmentation to planC"
   ]
  },
  {
   "cell_type": "code",
   "execution_count": null,
   "id": "aaa98a24-4fd4-45f5-8f9f-12e7776b9a23",
   "metadata": {},
   "outputs": [],
   "source": [
    "from cerr import plan_container as pc\n",
    "planC = pc.load_nii_scan(origNiiScan)\n",
    "planC = pc.load_nii_scan(resampNiiScan, planC)\n",
    "assocScanNum = 0 # index of the original scan\n",
    "structName = 'tumor'\n",
    "planC = pc.load_nii_structure(origNiiStr, assocScanNum, planC, labels_dict={1: structName})"
   ]
  },
  {
   "cell_type": "code",
   "execution_count": null,
   "id": "f86dfa4a-2ed6-4bea-a0c3-91f0617bc34d",
   "metadata": {},
   "outputs": [],
   "source": [
    "print(\"Number of scans:\" + str(len(planC.scan)))\n",
    "print(\"Number of structures:\" + str(len(planC.structure)))"
   ]
  },
  {
   "cell_type": "markdown",
   "id": "5a88ae0d-d639-4548-bf92-baa253709d9e",
   "metadata": {},
   "source": [
    "#### Copy segmentation from the original scan to the resampled scan"
   ]
  },
  {
   "cell_type": "code",
   "execution_count": null,
   "id": "9910124a-e615-4f1b-956a-ed5183bb45fc",
   "metadata": {},
   "outputs": [],
   "source": [
    "from cerr.dataclasses import structure as cerrStruct\n",
    "structNum = 0\n",
    "scanNum = 1\n",
    "planC = cerrStruct.copyToScan(structNum, scanNum, planC)\n",
    "print(\"Number of structures:\" + str(len(planC.structure)))"
   ]
  },
  {
   "cell_type": "markdown",
   "id": "2292965e-a984-4601-a452-9ba5e27e820a",
   "metadata": {},
   "source": [
    "#### Split segmentations by connected components"
   ]
  },
  {
   "cell_type": "code",
   "execution_count": null,
   "id": "38ad1367-b9b0-4fba-9f82-412825d7ab76",
   "metadata": {},
   "outputs": [],
   "source": [
    "import cerr.contour.rasterseg as rs\n",
    "from skimage import measure\n",
    "newStrNum = len(planC.structure)-1\n",
    "mask3M = rs.getStrMask(newStrNum, planC)    \n",
    "labeledMask3M, numLabels = measure.label(mask3M, return_num = True)\n",
    "for label in range(1,numLabels+1):\n",
    "    maskForLabel3M = labeledMask3M == label\n",
    "    strName = 'comp ' + str(label)\n",
    "    planC = cerrStruct.import_mask(maskForLabel3M, scanNum, strName, planC)"
   ]
  },
  {
   "cell_type": "markdown",
   "id": "cc547236-188d-44b7-9f21-79dd18f1cbf7",
   "metadata": {},
   "source": [
    "#### Visualize scan and segmentation"
   ]
  },
  {
   "cell_type": "code",
   "execution_count": null,
   "id": "35be89ec-a22c-4295-bf2b-67e26f44a367",
   "metadata": {},
   "outputs": [],
   "source": [
    "# The following snippet visualizes the last structure in the list. Multiple structures can be passed in strNumList.\n",
    "from cerr import viewer as vwr\n",
    "import numpy as np\n",
    "scanNumList = [1] # list of scans\n",
    "doseNumList = [] #  list of doses\n",
    "strNumList = [len(planC.structure)-1] # list of structures\n",
    "displayMode = '2d' # 'path' or 'surface'\n",
    "viewer, scan_layer, dose_layer, struct_layer = \\\n",
    "    vwr.show_scan_struct_dose(scanNumList, strNumList, doseNumList, planC, displayMode)"
   ]
  },
  {
   "cell_type": "markdown",
   "id": "847ce70a-e6c3-4320-ba31-697d618b9c23",
   "metadata": {},
   "source": [
    "#### Export segmentation to Nifti"
   ]
  },
  {
   "cell_type": "code",
   "execution_count": null,
   "id": "f60f67f0-77bd-46f3-aede-3147a37c8e6e",
   "metadata": {},
   "outputs": [],
   "source": [
    "# The following snippet assumes that the structure to export is the last one in the list.\n",
    "# Update the snipet to iterate over a list of structures to export multiple strucutre files.\n",
    "structNum = len(planC.structure)-1 \n",
    "planC.structure[structNum].save_nii(outputNiiStr, planC)"
   ]
  }
 ],
 "metadata": {
  "kernelspec": {
   "display_name": "Python 3 (ipykernel)",
   "language": "python",
   "name": "python3"
  },
  "language_info": {
   "codemirror_mode": {
    "name": "ipython",
    "version": 3
   },
   "file_extension": ".py",
   "mimetype": "text/x-python",
   "name": "python",
   "nbconvert_exporter": "python",
   "pygments_lexer": "ipython3",
   "version": "3.8.18"
  }
 },
 "nbformat": 4,
 "nbformat_minor": 5
}
