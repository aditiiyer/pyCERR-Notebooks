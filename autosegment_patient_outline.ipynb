{
  "cells": [
    {
      "cell_type": "markdown",
      "metadata": {
        "id": "view-in-github"
      },
      "source": [
        "<a href=\"https://colab.research.google.com/github/cerr/pycerr-notebooks/blob/main/autosegment_patient_outline.ipynb\" target=\"_parent\"><img src=\"https://colab.research.google.com/assets/colab-badge.svg\" alt=\"Open In Colab\"/></a>"
      ]
    },
    {
      "cell_type": "markdown",
      "metadata": {
        "id": "kNoydh-RsgcD"
      },
      "source": [
        "# Introduction\n",
        "\n",
        "In this tutorial, we will demonstrate how extract a mask of the patient's outline given an input scan (CT/MR).  \n",
        "\n",
        "This method has been tested on head & neck, lung, and prostate images.  \n",
        "\n",
        "## Reference\n",
        "* Iyer, A., Thor, M., Onochie, I., Hesse, J., Zakeri, K., LoCastro, E., Jiang, J., Veeraraghavan, H., Elguindi, S., Lee, N.Y. and Deasy, J.O. (2022). Prospectively-validated deep learning model for segmenting swallowing and chewing structures in CT. *Physics in Medicine & Biology*, 67(2), p.024001.\n"
      ]
    },
    {
      "cell_type": "markdown",
      "source": [
        "## License\n",
        "\n",
        "By downloading the software you are agreeing to the following terms and conditions as well as to the Terms of Use of CERR software.\n",
        "\n",
        "**`THE SOFTWARE IS PROVIDED \"AS IS\" AND CERR DEVELOPMENT TEAM AND ITS COLLABORATORS DO NOT MAKE ANY WARRANTY, EXPRESS OR IMPLIED, INCLUDING BUT NOT LIMITED TO WARRANTIES OF MERCHANTABILITY AND FITNESS FOR A PARTICULAR PURPOSE, NOR DO THEY ASSUME ANY LIABILITY OR RESPONSIBILITY FOR THE USE OF THIS SOFTWARE.`**\n",
        "\n",
        "`This software is for research purposes only and has not been approved for clinical use.`\n",
        "\n",
        "`Software has not been reviewed or approved by the Food and Drug Administration, and is for non-clinical, IRB-approved Research Use Only. In no event shall data or images generated through the use of the Software be used in the provision of patient care.`\n",
        "  \n",
        "`YOU MAY NOT DISTRIBUTE COPIES of this software, or copies of software derived from this software, to others outside your organization without specific prior written permission from the CERR development team except where noted for specific software products.`\n",
        "\n",
        "`All Technology and technical data delivered under this Agreement are subject to US export control laws and may be subject to export or import regulations in other countries. You agree to comply strictly with all such laws and regulations and acknowledge that you have the responsibility to obtain\n",
        "such licenses to export, re-export, or import as may be required after delivery to you.`\n",
        "\n",
        "**`You may publish papers and books using results produced using software provided that you reference the appropriate citation`**:\n",
        "  \n",
        "  * https://doi.org/10.1088/1361-6560/ac4000\n",
        "\n"
      ],
      "metadata": {
        "id": "6GVYj7k5e97G"
      }
    },
    {
      "cell_type": "markdown",
      "metadata": {
        "id": "DsKXYI-dsgcK"
      },
      "source": [
        "## Install ***pyCERR***\n",
        "\n"
      ]
    },
    {
      "cell_type": "code",
      "execution_count": null,
      "metadata": {
        "id": "XRGzE5J7sgcL"
      },
      "outputs": [],
      "source": [
        "%%capture\n",
        "!pip install \"pyCERR[napari] @ git+https://github.com/cerr/pyCERR\""
      ]
    },
    {
      "cell_type": "markdown",
      "source": [
        "## Example 1: CT scan"
      ],
      "metadata": {
        "id": "5bXpZIxOQb54"
      }
    },
    {
      "cell_type": "markdown",
      "metadata": {
        "id": "C1KHjP1LsgcO"
      },
      "source": [
        "\n",
        "### Import scan to planC"
      ]
    },
    {
      "cell_type": "code",
      "source": [
        "%%capture\n",
        "import cerr\n",
        "from cerr import plan_container as pc\n",
        "\n",
        "inputDicomDir = 'Path/to/input_ct_dcm'\n",
        "dcmDir = os.path.join(inputDicomDir)\n",
        "planC = pc.load_dcm_dir(dcmDir)"
      ],
      "metadata": {
        "id": "E1fpaDxjP_cs"
      },
      "execution_count": null,
      "outputs": []
    },
    {
      "cell_type": "markdown",
      "source": [
        "### Extract patient outline"
      ],
      "metadata": {
        "id": "_XVVLPjBkYI0"
      }
    },
    {
      "cell_type": "code",
      "execution_count": null,
      "metadata": {
        "id": "WCuUi5D6sgcS"
      },
      "outputs": [],
      "source": [
        "%%capture\n",
        "from cerr.utils import imageProc\n",
        "\n",
        "threshold = -400   #Modify to intensity respresenting air regions\n",
        "\n",
        "# Extract scan array\n",
        "scanNum = 0\n",
        "scan3M = planC.scan[scanNum].getScanArray()\n",
        "\n",
        "# Generate patient outline\n",
        "mask3M = imageProc.getPatientOutline(scan3M, threshold)\n",
        "\n",
        "# Import to planC\n",
        "planC = pc.import_structure_mask(mask3M, scanNum, 'outline', [], planC)\n",
        "outlineStr = len(planC.structure)-1"
      ]
    },
    {
      "cell_type": "markdown",
      "source": [
        "### Display results"
      ],
      "metadata": {
        "id": "V6weyQUlRCc3"
      }
    },
    {
      "cell_type": "code",
      "execution_count": 1,
      "metadata": {
        "colab": {
          "base_uri": "https://localhost:8080/",
          "height": 914,
          "referenced_widgets": [
            "e039c5ea20164931b187a74834571b06",
            "d75f973d43e545669abba357ca805cc7",
            "5c4ee3915ea84324841b6501f2107cad",
            "0dab5fb5f6ce4c08bbf39a7a2ad94a08",
            "5170edd45c574f3eae85f68375a31b6c",
            "2a6327afc7524bf6879599ec8b2e0bde",
            "a3ddddf451c24ac6bd2fdbff143af9ef",
            "f8e14e5edf124f199078c5d4444f31b5",
            "6ad2521278934948adc91abc48644d3c",
            "d3afedd2b8424da88031c5e7905a8ee4",
            "01d9f028ace34d6e9cdea7dd14934de4",
            "893d9eebf5e54bb387ccf08a9e3cf163",
            "aa7d9caba68548c48edd62dda9465ae0",
            "d43f716e793342d88a9e341aa54dec26",
            "dcc4ab950d8d43cfac19c69093e5560b",
            "a0b2b3c8d36a42de9e811e8d0f7ee7c4",
            "0c2d3575e5d54107834ef1e8a2d48ba3",
            "fbe22094cb0c4e97bf2868ef823a5cbc",
            "b9560804c6fd46e69c282dd7da512410",
            "39697ebe59b04e36a69865f9c68b1320",
            "4c5a99ecc557430dbac71596dd803aa2",
            "5bca2f0909a14ed4873710c4fdd42ddf",
            "3eb9ac2a58d7462a94a3212f4d6261be",
            "8466026bf3754310b62bc36ac96b14eb",
            "54e3aa31888642b9a7c00966fe18ee6c",
            "a517d809987c4f8280436e151af312e6",
            "6804187f4e99450cbc25c1d50983893a",
            "61a00ef9d5c0487f99b98bb7a2bdd1d8",
            "62f100d7ecca44f9a79f6616d15aa990",
            "4cc93c027cc746d09e1006879af5e7fb"
          ]
        },
        "id": "jWQD1KeVsgcT",
        "outputId": "25cfa03a-c477-4bd6-ca2d-fe27e6dc9411"
      },
      "outputs": [
        {
          "output_type": "display_data",
          "data": {
            "text/plain": [
              "interactive(children=(IntSlider(value=45, description='slcNum', max=135, min=-45), Text(value='axial', descrip…"
            ],
            "application/vnd.jupyter.widget-view+json": {
              "version_major": 2,
              "version_minor": 0,
              "model_id": "e039c5ea20164931b187a74834571b06"
            }
          },
          "metadata": {}
        },
        {
          "output_type": "display_data",
          "data": {
            "text/plain": [
              "interactive(children=(IntSlider(value=255, description='slcNum', max=765, min=-255), Text(value='sagittal', de…"
            ],
            "application/vnd.jupyter.widget-view+json": {
              "version_major": 2,
              "version_minor": 0,
              "model_id": "01d9f028ace34d6e9cdea7dd14934de4"
            }
          },
          "metadata": {}
        },
        {
          "output_type": "display_data",
          "data": {
            "text/plain": [
              "interactive(children=(IntSlider(value=255, description='slcNum', max=765, min=-255), Text(value='coronal', des…"
            ],
            "application/vnd.jupyter.widget-view+json": {
              "version_major": 2,
              "version_minor": 0,
              "model_id": "4c5a99ecc557430dbac71596dd803aa2"
            }
          },
          "metadata": {}
        }
      ],
      "source": [
        "from cerr.viewer import showMplNb\n",
        "\n",
        "show_scans = [scanNum]\n",
        "show_str = [outlineStr]\n",
        "showMplNb(show_scans, show_str, planC,\\\n",
        "          windowCenter=-400, windowWidth=2000)"
      ]
    },
    {
      "cell_type": "markdown",
      "source": [
        "## Example 2: MR scan"
      ],
      "metadata": {
        "id": "m0w7ABdBRdkf"
      }
    },
    {
      "cell_type": "markdown",
      "metadata": {
        "id": "_cDdTz4GRTZz"
      },
      "source": [
        "\n",
        "### Import scan to planC"
      ]
    },
    {
      "cell_type": "code",
      "source": [
        "%%capture\n",
        "\n",
        "inputDicomDir = 'Path/to/input_mr_dcm'\n",
        "dcmDir = os.path.join(inputDicomDir)\n",
        "planC = pc.load_dcm_dir(dcmDir)"
      ],
      "metadata": {
        "id": "uT4dRdfvRTZ3"
      },
      "execution_count": null,
      "outputs": []
    },
    {
      "cell_type": "markdown",
      "source": [
        "### Extract patient outline"
      ],
      "metadata": {
        "id": "0MC7sXwxRTZ5"
      }
    },
    {
      "cell_type": "code",
      "execution_count": null,
      "metadata": {
        "id": "vYIc4ZqlRTZ6"
      },
      "outputs": [],
      "source": [
        "%%capture\n",
        "\n",
        "normalize = True   #Normalize by max intensity\n",
        "threshold = 0.01   #Modify to normalized intensity respresenting air regions\n",
        "\n",
        "# Extract scan array\n",
        "scanNum = 0\n",
        "scan3M = planC.scan[scanNum].getScanArray()\n",
        "\n",
        "# Generate patient outline\n",
        "mask3M = imageProc.getPatientOutline(scan3M, threshold, normFlag=normalize)\n",
        "\n",
        "# Import to planC\n",
        "planC = pc.import_structure_mask(mask3M, scanNum, 'outline', [], planC)"
      ]
    },
    {
      "cell_type": "markdown",
      "source": [
        "### Display results"
      ],
      "metadata": {
        "id": "zAWuZKBtap-b"
      }
    },
    {
      "cell_type": "code",
      "execution_count": null,
      "metadata": {
        "id": "E5EyXrszRTZ7"
      },
      "outputs": [],
      "source": [
        "from cerr.viewer import showMplNb\n",
        "\n",
        "show_scans = [scanNum]\n",
        "show_str = [outlineStr]\n",
        "showMplNb(show_scans, show_str, planC,\\\n",
        "          windowCenter=0, windowWidth=1)"
      ]
    }
  ],
  "metadata": {
    "kernelspec": {
      "display_name": "Python 3",
      "name": "python3"
    },
    "language_info": {
      "codemirror_mode": {
        "name": "ipython",
        "version": 3
      },
      "file_extension": ".py",
      "mimetype": "text/x-python",
      "name": "python",
      "nbconvert_exporter": "python",
      "pygments_lexer": "ipython3",
      "version": "3.10.12"
    },
    "toc": {
      "base_numbering": 1,
      "nav_menu": {},
      "number_sections": true,
      "sideBar": true,
      "skip_h1_title": false,
      "title_cell": "Table of Contents",
      "title_sidebar": "Contents",
      "toc_cell": false,
      "toc_position": {},
      "toc_section_display": true,
      "toc_window_display": false
    },
    "colab": {
      "provenance": []
    },
    "widgets": {
      "application/vnd.jupyter.widget-state+json": {
        "e039c5ea20164931b187a74834571b06": {
          "model_module": "@jupyter-widgets/controls",
          "model_name": "VBoxModel",
          "model_module_version": "1.5.0",
          "state": {
            "_dom_classes": [
              "widget-interact"
            ],
            "_model_module": "@jupyter-widgets/controls",
            "_model_module_version": "1.5.0",
            "_model_name": "VBoxModel",
            "_view_count": null,
            "_view_module": "@jupyter-widgets/controls",
            "_view_module_version": "1.5.0",
            "_view_name": "VBoxView",
            "box_style": "",
            "children": [
              "IPY_MODEL_d75f973d43e545669abba357ca805cc7",
              "IPY_MODEL_5c4ee3915ea84324841b6501f2107cad",
              "IPY_MODEL_0dab5fb5f6ce4c08bbf39a7a2ad94a08"
            ],
            "layout": "IPY_MODEL_5170edd45c574f3eae85f68375a31b6c"
          }
        },
        "d75f973d43e545669abba357ca805cc7": {
          "model_module": "@jupyter-widgets/controls",
          "model_name": "IntSliderModel",
          "model_module_version": "1.5.0",
          "state": {
            "_dom_classes": [],
            "_model_module": "@jupyter-widgets/controls",
            "_model_module_version": "1.5.0",
            "_model_name": "IntSliderModel",
            "_view_count": null,
            "_view_module": "@jupyter-widgets/controls",
            "_view_module_version": "1.5.0",
            "_view_name": "IntSliderView",
            "continuous_update": true,
            "description": "slcNum",
            "description_tooltip": null,
            "disabled": false,
            "layout": "IPY_MODEL_2a6327afc7524bf6879599ec8b2e0bde",
            "max": 135,
            "min": -45,
            "orientation": "horizontal",
            "readout": true,
            "readout_format": "d",
            "step": 1,
            "style": "IPY_MODEL_a3ddddf451c24ac6bd2fdbff143af9ef",
            "value": 45
          }
        },
        "5c4ee3915ea84324841b6501f2107cad": {
          "model_module": "@jupyter-widgets/controls",
          "model_name": "TextModel",
          "model_module_version": "1.5.0",
          "state": {
            "_dom_classes": [],
            "_model_module": "@jupyter-widgets/controls",
            "_model_module_version": "1.5.0",
            "_model_name": "TextModel",
            "_view_count": null,
            "_view_module": "@jupyter-widgets/controls",
            "_view_module_version": "1.5.0",
            "_view_name": "TextView",
            "continuous_update": true,
            "description": "view",
            "description_tooltip": null,
            "disabled": false,
            "layout": "IPY_MODEL_f8e14e5edf124f199078c5d4444f31b5",
            "placeholder": "​",
            "style": "IPY_MODEL_6ad2521278934948adc91abc48644d3c",
            "value": "axial"
          }
        },
        "0dab5fb5f6ce4c08bbf39a7a2ad94a08": {
          "model_module": "@jupyter-widgets/output",
          "model_name": "OutputModel",
          "model_module_version": "1.0.0",
          "state": {
            "_dom_classes": [],
            "_model_module": "@jupyter-widgets/output",
            "_model_module_version": "1.0.0",
            "_model_name": "OutputModel",
            "_view_count": null,
            "_view_module": "@jupyter-widgets/output",
            "_view_module_version": "1.0.0",
            "_view_name": "OutputView",
            "layout": "IPY_MODEL_d3afedd2b8424da88031c5e7905a8ee4",
            "msg_id": "",
            "outputs": [
              {
                "output_type": "stream",
                "name": "stdout",
                "text": [
                  "axial view slice 45\n"
                ]
              },
              {
                "output_type": "display_data",
                "data": {
                  "text/plain": "<Figure size 640x480 with 2 Axes>",
                  "image/png": "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\n"
                },
                "metadata": {}
              }
            ]
          }
        },
        "5170edd45c574f3eae85f68375a31b6c": {
          "model_module": "@jupyter-widgets/base",
          "model_name": "LayoutModel",
          "model_module_version": "1.2.0",
          "state": {
            "_model_module": "@jupyter-widgets/base",
            "_model_module_version": "1.2.0",
            "_model_name": "LayoutModel",
            "_view_count": null,
            "_view_module": "@jupyter-widgets/base",
            "_view_module_version": "1.2.0",
            "_view_name": "LayoutView",
            "align_content": null,
            "align_items": null,
            "align_self": null,
            "border": null,
            "bottom": null,
            "display": null,
            "flex": null,
            "flex_flow": null,
            "grid_area": null,
            "grid_auto_columns": null,
            "grid_auto_flow": null,
            "grid_auto_rows": null,
            "grid_column": null,
            "grid_gap": null,
            "grid_row": null,
            "grid_template_areas": null,
            "grid_template_columns": null,
            "grid_template_rows": null,
            "height": null,
            "justify_content": null,
            "justify_items": null,
            "left": null,
            "margin": null,
            "max_height": null,
            "max_width": null,
            "min_height": null,
            "min_width": null,
            "object_fit": null,
            "object_position": null,
            "order": null,
            "overflow": null,
            "overflow_x": null,
            "overflow_y": null,
            "padding": null,
            "right": null,
            "top": null,
            "visibility": null,
            "width": null
          }
        },
        "2a6327afc7524bf6879599ec8b2e0bde": {
          "model_module": "@jupyter-widgets/base",
          "model_name": "LayoutModel",
          "model_module_version": "1.2.0",
          "state": {
            "_model_module": "@jupyter-widgets/base",
            "_model_module_version": "1.2.0",
            "_model_name": "LayoutModel",
            "_view_count": null,
            "_view_module": "@jupyter-widgets/base",
            "_view_module_version": "1.2.0",
            "_view_name": "LayoutView",
            "align_content": null,
            "align_items": null,
            "align_self": null,
            "border": null,
            "bottom": null,
            "display": null,
            "flex": null,
            "flex_flow": null,
            "grid_area": null,
            "grid_auto_columns": null,
            "grid_auto_flow": null,
            "grid_auto_rows": null,
            "grid_column": null,
            "grid_gap": null,
            "grid_row": null,
            "grid_template_areas": null,
            "grid_template_columns": null,
            "grid_template_rows": null,
            "height": null,
            "justify_content": null,
            "justify_items": null,
            "left": null,
            "margin": null,
            "max_height": null,
            "max_width": null,
            "min_height": null,
            "min_width": null,
            "object_fit": null,
            "object_position": null,
            "order": null,
            "overflow": null,
            "overflow_x": null,
            "overflow_y": null,
            "padding": null,
            "right": null,
            "top": null,
            "visibility": null,
            "width": null
          }
        },
        "a3ddddf451c24ac6bd2fdbff143af9ef": {
          "model_module": "@jupyter-widgets/controls",
          "model_name": "SliderStyleModel",
          "model_module_version": "1.5.0",
          "state": {
            "_model_module": "@jupyter-widgets/controls",
            "_model_module_version": "1.5.0",
            "_model_name": "SliderStyleModel",
            "_view_count": null,
            "_view_module": "@jupyter-widgets/base",
            "_view_module_version": "1.2.0",
            "_view_name": "StyleView",
            "description_width": "",
            "handle_color": null
          }
        },
        "f8e14e5edf124f199078c5d4444f31b5": {
          "model_module": "@jupyter-widgets/base",
          "model_name": "LayoutModel",
          "model_module_version": "1.2.0",
          "state": {
            "_model_module": "@jupyter-widgets/base",
            "_model_module_version": "1.2.0",
            "_model_name": "LayoutModel",
            "_view_count": null,
            "_view_module": "@jupyter-widgets/base",
            "_view_module_version": "1.2.0",
            "_view_name": "LayoutView",
            "align_content": null,
            "align_items": null,
            "align_self": null,
            "border": null,
            "bottom": null,
            "display": null,
            "flex": null,
            "flex_flow": null,
            "grid_area": null,
            "grid_auto_columns": null,
            "grid_auto_flow": null,
            "grid_auto_rows": null,
            "grid_column": null,
            "grid_gap": null,
            "grid_row": null,
            "grid_template_areas": null,
            "grid_template_columns": null,
            "grid_template_rows": null,
            "height": null,
            "justify_content": null,
            "justify_items": null,
            "left": null,
            "margin": null,
            "max_height": null,
            "max_width": null,
            "min_height": null,
            "min_width": null,
            "object_fit": null,
            "object_position": null,
            "order": null,
            "overflow": null,
            "overflow_x": null,
            "overflow_y": null,
            "padding": null,
            "right": null,
            "top": null,
            "visibility": null,
            "width": null
          }
        },
        "6ad2521278934948adc91abc48644d3c": {
          "model_module": "@jupyter-widgets/controls",
          "model_name": "DescriptionStyleModel",
          "model_module_version": "1.5.0",
          "state": {
            "_model_module": "@jupyter-widgets/controls",
            "_model_module_version": "1.5.0",
            "_model_name": "DescriptionStyleModel",
            "_view_count": null,
            "_view_module": "@jupyter-widgets/base",
            "_view_module_version": "1.2.0",
            "_view_name": "StyleView",
            "description_width": ""
          }
        },
        "d3afedd2b8424da88031c5e7905a8ee4": {
          "model_module": "@jupyter-widgets/base",
          "model_name": "LayoutModel",
          "model_module_version": "1.2.0",
          "state": {
            "_model_module": "@jupyter-widgets/base",
            "_model_module_version": "1.2.0",
            "_model_name": "LayoutModel",
            "_view_count": null,
            "_view_module": "@jupyter-widgets/base",
            "_view_module_version": "1.2.0",
            "_view_name": "LayoutView",
            "align_content": null,
            "align_items": null,
            "align_self": null,
            "border": null,
            "bottom": null,
            "display": null,
            "flex": null,
            "flex_flow": null,
            "grid_area": null,
            "grid_auto_columns": null,
            "grid_auto_flow": null,
            "grid_auto_rows": null,
            "grid_column": null,
            "grid_gap": null,
            "grid_row": null,
            "grid_template_areas": null,
            "grid_template_columns": null,
            "grid_template_rows": null,
            "height": null,
            "justify_content": null,
            "justify_items": null,
            "left": null,
            "margin": null,
            "max_height": null,
            "max_width": null,
            "min_height": null,
            "min_width": null,
            "object_fit": null,
            "object_position": null,
            "order": null,
            "overflow": null,
            "overflow_x": null,
            "overflow_y": null,
            "padding": null,
            "right": null,
            "top": null,
            "visibility": null,
            "width": null
          }
        },
        "01d9f028ace34d6e9cdea7dd14934de4": {
          "model_module": "@jupyter-widgets/controls",
          "model_name": "VBoxModel",
          "model_module_version": "1.5.0",
          "state": {
            "_dom_classes": [
              "widget-interact"
            ],
            "_model_module": "@jupyter-widgets/controls",
            "_model_module_version": "1.5.0",
            "_model_name": "VBoxModel",
            "_view_count": null,
            "_view_module": "@jupyter-widgets/controls",
            "_view_module_version": "1.5.0",
            "_view_name": "VBoxView",
            "box_style": "",
            "children": [
              "IPY_MODEL_893d9eebf5e54bb387ccf08a9e3cf163",
              "IPY_MODEL_aa7d9caba68548c48edd62dda9465ae0",
              "IPY_MODEL_d43f716e793342d88a9e341aa54dec26"
            ],
            "layout": "IPY_MODEL_dcc4ab950d8d43cfac19c69093e5560b"
          }
        },
        "893d9eebf5e54bb387ccf08a9e3cf163": {
          "model_module": "@jupyter-widgets/controls",
          "model_name": "IntSliderModel",
          "model_module_version": "1.5.0",
          "state": {
            "_dom_classes": [],
            "_model_module": "@jupyter-widgets/controls",
            "_model_module_version": "1.5.0",
            "_model_name": "IntSliderModel",
            "_view_count": null,
            "_view_module": "@jupyter-widgets/controls",
            "_view_module_version": "1.5.0",
            "_view_name": "IntSliderView",
            "continuous_update": true,
            "description": "slcNum",
            "description_tooltip": null,
            "disabled": false,
            "layout": "IPY_MODEL_a0b2b3c8d36a42de9e811e8d0f7ee7c4",
            "max": 765,
            "min": -255,
            "orientation": "horizontal",
            "readout": true,
            "readout_format": "d",
            "step": 1,
            "style": "IPY_MODEL_0c2d3575e5d54107834ef1e8a2d48ba3",
            "value": 255
          }
        },
        "aa7d9caba68548c48edd62dda9465ae0": {
          "model_module": "@jupyter-widgets/controls",
          "model_name": "TextModel",
          "model_module_version": "1.5.0",
          "state": {
            "_dom_classes": [],
            "_model_module": "@jupyter-widgets/controls",
            "_model_module_version": "1.5.0",
            "_model_name": "TextModel",
            "_view_count": null,
            "_view_module": "@jupyter-widgets/controls",
            "_view_module_version": "1.5.0",
            "_view_name": "TextView",
            "continuous_update": true,
            "description": "view",
            "description_tooltip": null,
            "disabled": false,
            "layout": "IPY_MODEL_fbe22094cb0c4e97bf2868ef823a5cbc",
            "placeholder": "​",
            "style": "IPY_MODEL_b9560804c6fd46e69c282dd7da512410",
            "value": "sagittal"
          }
        },
        "d43f716e793342d88a9e341aa54dec26": {
          "model_module": "@jupyter-widgets/output",
          "model_name": "OutputModel",
          "model_module_version": "1.0.0",
          "state": {
            "_dom_classes": [],
            "_model_module": "@jupyter-widgets/output",
            "_model_module_version": "1.0.0",
            "_model_name": "OutputModel",
            "_view_count": null,
            "_view_module": "@jupyter-widgets/output",
            "_view_module_version": "1.0.0",
            "_view_name": "OutputView",
            "layout": "IPY_MODEL_39697ebe59b04e36a69865f9c68b1320",
            "msg_id": "",
            "outputs": [
              {
                "output_type": "stream",
                "name": "stdout",
                "text": [
                  "sagittal view slice 255\n"
                ]
              },
              {
                "output_type": "display_data",
                "data": {
                  "text/plain": "<Figure size 1000x1000 with 2 Axes>",
                  "image/png": "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\n"
                },
                "metadata": {}
              }
            ]
          }
        },
        "dcc4ab950d8d43cfac19c69093e5560b": {
          "model_module": "@jupyter-widgets/base",
          "model_name": "LayoutModel",
          "model_module_version": "1.2.0",
          "state": {
            "_model_module": "@jupyter-widgets/base",
            "_model_module_version": "1.2.0",
            "_model_name": "LayoutModel",
            "_view_count": null,
            "_view_module": "@jupyter-widgets/base",
            "_view_module_version": "1.2.0",
            "_view_name": "LayoutView",
            "align_content": null,
            "align_items": null,
            "align_self": null,
            "border": null,
            "bottom": null,
            "display": null,
            "flex": null,
            "flex_flow": null,
            "grid_area": null,
            "grid_auto_columns": null,
            "grid_auto_flow": null,
            "grid_auto_rows": null,
            "grid_column": null,
            "grid_gap": null,
            "grid_row": null,
            "grid_template_areas": null,
            "grid_template_columns": null,
            "grid_template_rows": null,
            "height": null,
            "justify_content": null,
            "justify_items": null,
            "left": null,
            "margin": null,
            "max_height": null,
            "max_width": null,
            "min_height": null,
            "min_width": null,
            "object_fit": null,
            "object_position": null,
            "order": null,
            "overflow": null,
            "overflow_x": null,
            "overflow_y": null,
            "padding": null,
            "right": null,
            "top": null,
            "visibility": null,
            "width": null
          }
        },
        "a0b2b3c8d36a42de9e811e8d0f7ee7c4": {
          "model_module": "@jupyter-widgets/base",
          "model_name": "LayoutModel",
          "model_module_version": "1.2.0",
          "state": {
            "_model_module": "@jupyter-widgets/base",
            "_model_module_version": "1.2.0",
            "_model_name": "LayoutModel",
            "_view_count": null,
            "_view_module": "@jupyter-widgets/base",
            "_view_module_version": "1.2.0",
            "_view_name": "LayoutView",
            "align_content": null,
            "align_items": null,
            "align_self": null,
            "border": null,
            "bottom": null,
            "display": null,
            "flex": null,
            "flex_flow": null,
            "grid_area": null,
            "grid_auto_columns": null,
            "grid_auto_flow": null,
            "grid_auto_rows": null,
            "grid_column": null,
            "grid_gap": null,
            "grid_row": null,
            "grid_template_areas": null,
            "grid_template_columns": null,
            "grid_template_rows": null,
            "height": null,
            "justify_content": null,
            "justify_items": null,
            "left": null,
            "margin": null,
            "max_height": null,
            "max_width": null,
            "min_height": null,
            "min_width": null,
            "object_fit": null,
            "object_position": null,
            "order": null,
            "overflow": null,
            "overflow_x": null,
            "overflow_y": null,
            "padding": null,
            "right": null,
            "top": null,
            "visibility": null,
            "width": null
          }
        },
        "0c2d3575e5d54107834ef1e8a2d48ba3": {
          "model_module": "@jupyter-widgets/controls",
          "model_name": "SliderStyleModel",
          "model_module_version": "1.5.0",
          "state": {
            "_model_module": "@jupyter-widgets/controls",
            "_model_module_version": "1.5.0",
            "_model_name": "SliderStyleModel",
            "_view_count": null,
            "_view_module": "@jupyter-widgets/base",
            "_view_module_version": "1.2.0",
            "_view_name": "StyleView",
            "description_width": "",
            "handle_color": null
          }
        },
        "fbe22094cb0c4e97bf2868ef823a5cbc": {
          "model_module": "@jupyter-widgets/base",
          "model_name": "LayoutModel",
          "model_module_version": "1.2.0",
          "state": {
            "_model_module": "@jupyter-widgets/base",
            "_model_module_version": "1.2.0",
            "_model_name": "LayoutModel",
            "_view_count": null,
            "_view_module": "@jupyter-widgets/base",
            "_view_module_version": "1.2.0",
            "_view_name": "LayoutView",
            "align_content": null,
            "align_items": null,
            "align_self": null,
            "border": null,
            "bottom": null,
            "display": null,
            "flex": null,
            "flex_flow": null,
            "grid_area": null,
            "grid_auto_columns": null,
            "grid_auto_flow": null,
            "grid_auto_rows": null,
            "grid_column": null,
            "grid_gap": null,
            "grid_row": null,
            "grid_template_areas": null,
            "grid_template_columns": null,
            "grid_template_rows": null,
            "height": null,
            "justify_content": null,
            "justify_items": null,
            "left": null,
            "margin": null,
            "max_height": null,
            "max_width": null,
            "min_height": null,
            "min_width": null,
            "object_fit": null,
            "object_position": null,
            "order": null,
            "overflow": null,
            "overflow_x": null,
            "overflow_y": null,
            "padding": null,
            "right": null,
            "top": null,
            "visibility": null,
            "width": null
          }
        },
        "b9560804c6fd46e69c282dd7da512410": {
          "model_module": "@jupyter-widgets/controls",
          "model_name": "DescriptionStyleModel",
          "model_module_version": "1.5.0",
          "state": {
            "_model_module": "@jupyter-widgets/controls",
            "_model_module_version": "1.5.0",
            "_model_name": "DescriptionStyleModel",
            "_view_count": null,
            "_view_module": "@jupyter-widgets/base",
            "_view_module_version": "1.2.0",
            "_view_name": "StyleView",
            "description_width": ""
          }
        },
        "39697ebe59b04e36a69865f9c68b1320": {
          "model_module": "@jupyter-widgets/base",
          "model_name": "LayoutModel",
          "model_module_version": "1.2.0",
          "state": {
            "_model_module": "@jupyter-widgets/base",
            "_model_module_version": "1.2.0",
            "_model_name": "LayoutModel",
            "_view_count": null,
            "_view_module": "@jupyter-widgets/base",
            "_view_module_version": "1.2.0",
            "_view_name": "LayoutView",
            "align_content": null,
            "align_items": null,
            "align_self": null,
            "border": null,
            "bottom": null,
            "display": null,
            "flex": null,
            "flex_flow": null,
            "grid_area": null,
            "grid_auto_columns": null,
            "grid_auto_flow": null,
            "grid_auto_rows": null,
            "grid_column": null,
            "grid_gap": null,
            "grid_row": null,
            "grid_template_areas": null,
            "grid_template_columns": null,
            "grid_template_rows": null,
            "height": null,
            "justify_content": null,
            "justify_items": null,
            "left": null,
            "margin": null,
            "max_height": null,
            "max_width": null,
            "min_height": null,
            "min_width": null,
            "object_fit": null,
            "object_position": null,
            "order": null,
            "overflow": null,
            "overflow_x": null,
            "overflow_y": null,
            "padding": null,
            "right": null,
            "top": null,
            "visibility": null,
            "width": null
          }
        },
        "4c5a99ecc557430dbac71596dd803aa2": {
          "model_module": "@jupyter-widgets/controls",
          "model_name": "VBoxModel",
          "model_module_version": "1.5.0",
          "state": {
            "_dom_classes": [
              "widget-interact"
            ],
            "_model_module": "@jupyter-widgets/controls",
            "_model_module_version": "1.5.0",
            "_model_name": "VBoxModel",
            "_view_count": null,
            "_view_module": "@jupyter-widgets/controls",
            "_view_module_version": "1.5.0",
            "_view_name": "VBoxView",
            "box_style": "",
            "children": [
              "IPY_MODEL_5bca2f0909a14ed4873710c4fdd42ddf",
              "IPY_MODEL_3eb9ac2a58d7462a94a3212f4d6261be",
              "IPY_MODEL_8466026bf3754310b62bc36ac96b14eb"
            ],
            "layout": "IPY_MODEL_54e3aa31888642b9a7c00966fe18ee6c"
          }
        },
        "5bca2f0909a14ed4873710c4fdd42ddf": {
          "model_module": "@jupyter-widgets/controls",
          "model_name": "IntSliderModel",
          "model_module_version": "1.5.0",
          "state": {
            "_dom_classes": [],
            "_model_module": "@jupyter-widgets/controls",
            "_model_module_version": "1.5.0",
            "_model_name": "IntSliderModel",
            "_view_count": null,
            "_view_module": "@jupyter-widgets/controls",
            "_view_module_version": "1.5.0",
            "_view_name": "IntSliderView",
            "continuous_update": true,
            "description": "slcNum",
            "description_tooltip": null,
            "disabled": false,
            "layout": "IPY_MODEL_a517d809987c4f8280436e151af312e6",
            "max": 765,
            "min": -255,
            "orientation": "horizontal",
            "readout": true,
            "readout_format": "d",
            "step": 1,
            "style": "IPY_MODEL_6804187f4e99450cbc25c1d50983893a",
            "value": 255
          }
        },
        "3eb9ac2a58d7462a94a3212f4d6261be": {
          "model_module": "@jupyter-widgets/controls",
          "model_name": "TextModel",
          "model_module_version": "1.5.0",
          "state": {
            "_dom_classes": [],
            "_model_module": "@jupyter-widgets/controls",
            "_model_module_version": "1.5.0",
            "_model_name": "TextModel",
            "_view_count": null,
            "_view_module": "@jupyter-widgets/controls",
            "_view_module_version": "1.5.0",
            "_view_name": "TextView",
            "continuous_update": true,
            "description": "view",
            "description_tooltip": null,
            "disabled": false,
            "layout": "IPY_MODEL_61a00ef9d5c0487f99b98bb7a2bdd1d8",
            "placeholder": "​",
            "style": "IPY_MODEL_62f100d7ecca44f9a79f6616d15aa990",
            "value": "coronal"
          }
        },
        "8466026bf3754310b62bc36ac96b14eb": {
          "model_module": "@jupyter-widgets/output",
          "model_name": "OutputModel",
          "model_module_version": "1.0.0",
          "state": {
            "_dom_classes": [],
            "_model_module": "@jupyter-widgets/output",
            "_model_module_version": "1.0.0",
            "_model_name": "OutputModel",
            "_view_count": null,
            "_view_module": "@jupyter-widgets/output",
            "_view_module_version": "1.0.0",
            "_view_name": "OutputView",
            "layout": "IPY_MODEL_4cc93c027cc746d09e1006879af5e7fb",
            "msg_id": "",
            "outputs": [
              {
                "output_type": "stream",
                "name": "stdout",
                "text": [
                  "coronal view slice 255\n"
                ]
              },
              {
                "output_type": "display_data",
                "data": {
                  "text/plain": "<Figure size 1000x1000 with 2 Axes>",
                  "image/png": "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\n"
                },
                "metadata": {}
              }
            ]
          }
        },
        "54e3aa31888642b9a7c00966fe18ee6c": {
          "model_module": "@jupyter-widgets/base",
          "model_name": "LayoutModel",
          "model_module_version": "1.2.0",
          "state": {
            "_model_module": "@jupyter-widgets/base",
            "_model_module_version": "1.2.0",
            "_model_name": "LayoutModel",
            "_view_count": null,
            "_view_module": "@jupyter-widgets/base",
            "_view_module_version": "1.2.0",
            "_view_name": "LayoutView",
            "align_content": null,
            "align_items": null,
            "align_self": null,
            "border": null,
            "bottom": null,
            "display": null,
            "flex": null,
            "flex_flow": null,
            "grid_area": null,
            "grid_auto_columns": null,
            "grid_auto_flow": null,
            "grid_auto_rows": null,
            "grid_column": null,
            "grid_gap": null,
            "grid_row": null,
            "grid_template_areas": null,
            "grid_template_columns": null,
            "grid_template_rows": null,
            "height": null,
            "justify_content": null,
            "justify_items": null,
            "left": null,
            "margin": null,
            "max_height": null,
            "max_width": null,
            "min_height": null,
            "min_width": null,
            "object_fit": null,
            "object_position": null,
            "order": null,
            "overflow": null,
            "overflow_x": null,
            "overflow_y": null,
            "padding": null,
            "right": null,
            "top": null,
            "visibility": null,
            "width": null
          }
        },
        "a517d809987c4f8280436e151af312e6": {
          "model_module": "@jupyter-widgets/base",
          "model_name": "LayoutModel",
          "model_module_version": "1.2.0",
          "state": {
            "_model_module": "@jupyter-widgets/base",
            "_model_module_version": "1.2.0",
            "_model_name": "LayoutModel",
            "_view_count": null,
            "_view_module": "@jupyter-widgets/base",
            "_view_module_version": "1.2.0",
            "_view_name": "LayoutView",
            "align_content": null,
            "align_items": null,
            "align_self": null,
            "border": null,
            "bottom": null,
            "display": null,
            "flex": null,
            "flex_flow": null,
            "grid_area": null,
            "grid_auto_columns": null,
            "grid_auto_flow": null,
            "grid_auto_rows": null,
            "grid_column": null,
            "grid_gap": null,
            "grid_row": null,
            "grid_template_areas": null,
            "grid_template_columns": null,
            "grid_template_rows": null,
            "height": null,
            "justify_content": null,
            "justify_items": null,
            "left": null,
            "margin": null,
            "max_height": null,
            "max_width": null,
            "min_height": null,
            "min_width": null,
            "object_fit": null,
            "object_position": null,
            "order": null,
            "overflow": null,
            "overflow_x": null,
            "overflow_y": null,
            "padding": null,
            "right": null,
            "top": null,
            "visibility": null,
            "width": null
          }
        },
        "6804187f4e99450cbc25c1d50983893a": {
          "model_module": "@jupyter-widgets/controls",
          "model_name": "SliderStyleModel",
          "model_module_version": "1.5.0",
          "state": {
            "_model_module": "@jupyter-widgets/controls",
            "_model_module_version": "1.5.0",
            "_model_name": "SliderStyleModel",
            "_view_count": null,
            "_view_module": "@jupyter-widgets/base",
            "_view_module_version": "1.2.0",
            "_view_name": "StyleView",
            "description_width": "",
            "handle_color": null
          }
        },
        "61a00ef9d5c0487f99b98bb7a2bdd1d8": {
          "model_module": "@jupyter-widgets/base",
          "model_name": "LayoutModel",
          "model_module_version": "1.2.0",
          "state": {
            "_model_module": "@jupyter-widgets/base",
            "_model_module_version": "1.2.0",
            "_model_name": "LayoutModel",
            "_view_count": null,
            "_view_module": "@jupyter-widgets/base",
            "_view_module_version": "1.2.0",
            "_view_name": "LayoutView",
            "align_content": null,
            "align_items": null,
            "align_self": null,
            "border": null,
            "bottom": null,
            "display": null,
            "flex": null,
            "flex_flow": null,
            "grid_area": null,
            "grid_auto_columns": null,
            "grid_auto_flow": null,
            "grid_auto_rows": null,
            "grid_column": null,
            "grid_gap": null,
            "grid_row": null,
            "grid_template_areas": null,
            "grid_template_columns": null,
            "grid_template_rows": null,
            "height": null,
            "justify_content": null,
            "justify_items": null,
            "left": null,
            "margin": null,
            "max_height": null,
            "max_width": null,
            "min_height": null,
            "min_width": null,
            "object_fit": null,
            "object_position": null,
            "order": null,
            "overflow": null,
            "overflow_x": null,
            "overflow_y": null,
            "padding": null,
            "right": null,
            "top": null,
            "visibility": null,
            "width": null
          }
        },
        "62f100d7ecca44f9a79f6616d15aa990": {
          "model_module": "@jupyter-widgets/controls",
          "model_name": "DescriptionStyleModel",
          "model_module_version": "1.5.0",
          "state": {
            "_model_module": "@jupyter-widgets/controls",
            "_model_module_version": "1.5.0",
            "_model_name": "DescriptionStyleModel",
            "_view_count": null,
            "_view_module": "@jupyter-widgets/base",
            "_view_module_version": "1.2.0",
            "_view_name": "StyleView",
            "description_width": ""
          }
        },
        "4cc93c027cc746d09e1006879af5e7fb": {
          "model_module": "@jupyter-widgets/base",
          "model_name": "LayoutModel",
          "model_module_version": "1.2.0",
          "state": {
            "_model_module": "@jupyter-widgets/base",
            "_model_module_version": "1.2.0",
            "_model_name": "LayoutModel",
            "_view_count": null,
            "_view_module": "@jupyter-widgets/base",
            "_view_module_version": "1.2.0",
            "_view_name": "LayoutView",
            "align_content": null,
            "align_items": null,
            "align_self": null,
            "border": null,
            "bottom": null,
            "display": null,
            "flex": null,
            "flex_flow": null,
            "grid_area": null,
            "grid_auto_columns": null,
            "grid_auto_flow": null,
            "grid_auto_rows": null,
            "grid_column": null,
            "grid_gap": null,
            "grid_row": null,
            "grid_template_areas": null,
            "grid_template_columns": null,
            "grid_template_rows": null,
            "height": null,
            "justify_content": null,
            "justify_items": null,
            "left": null,
            "margin": null,
            "max_height": null,
            "max_width": null,
            "min_height": null,
            "min_width": null,
            "object_fit": null,
            "object_position": null,
            "order": null,
            "overflow": null,
            "overflow_x": null,
            "overflow_y": null,
            "padding": null,
            "right": null,
            "top": null,
            "visibility": null,
            "width": null
          }
        }
      }
    }
  },
  "nbformat": 4,
  "nbformat_minor": 0
}
