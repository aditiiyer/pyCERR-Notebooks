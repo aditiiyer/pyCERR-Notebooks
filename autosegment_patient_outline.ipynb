{
  "cells": [
  {
        "cell_type": "markdown",
        "metadata": {
          "id": "view-in-github"
        },
        "source": [
          "<a href=\"https://colab.research.google.com/github/cerr/pycerr-notebooks/blob/main/autosegment_patient_outline.ipynb\" target=\"_parent\"><img src=\"https://colab.research.google.com/assets/colab-badge.svg\" alt=\"Open In Colab\"/></a>"
        ]
    },
    {
      "cell_type": "markdown",
      "metadata": {
        "id": "kNoydh-RsgcD"
      },
      "source": [
        "# Introduction\n",
        "\n",
        "In this tutorial, we will demonstrate how extract a mask of the patient's outline given an input scan (CT/MR).  \n",
        "\n",
        "This method has been tested on head & neck, lung, and prostate images.  \n",
        "\n",
        "## Reference\n",
        "* Iyer, A., Thor, M., Onochie, I., Hesse, J., Zakeri, K., LoCastro, E., Jiang, J., Veeraraghavan, H., Elguindi, S., Lee, N.Y. and Deasy, J.O. (2022). Prospectively-validated deep learning model for segmenting swallowing and chewing structures in CT. *Physics in Medicine & Biology*, 67(2), p.024001.\n"
      ]
    },
    {
      "cell_type": "markdown",
      "metadata": {
        "id": "6GVYj7k5e97G"
      },
      "source": [
        "## License\n",
        "\n",
        "By downloading the software you are agreeing to the following terms and conditions as well as to the Terms of Use of CERR software.\n",
        "\n",
        "**`THE SOFTWARE IS PROVIDED \"AS IS\" AND CERR DEVELOPMENT TEAM AND ITS COLLABORATORS DO NOT MAKE ANY WARRANTY, EXPRESS OR IMPLIED, INCLUDING BUT NOT LIMITED TO WARRANTIES OF MERCHANTABILITY AND FITNESS FOR A PARTICULAR PURPOSE, NOR DO THEY ASSUME ANY LIABILITY OR RESPONSIBILITY FOR THE USE OF THIS SOFTWARE.`**\n",
        "\n",
        "`This software is for research purposes only and has not been approved for clinical use.`\n",
        "\n",
        "`Software has not been reviewed or approved by the Food and Drug Administration, and is for non-clinical, IRB-approved Research Use Only. In no event shall data or images generated through the use of the Software be used in the provision of patient care.`\n",
        "  \n",
        "`YOU MAY NOT DISTRIBUTE COPIES of this software, or copies of software derived from this software, to others outside your organization without specific prior written permission from the CERR development team except where noted for specific software products.`\n",
        "\n",
        "`All Technology and technical data delivered under this Agreement are subject to US export control laws and may be subject to export or import regulations in other countries. You agree to comply strictly with all such laws and regulations and acknowledge that you have the responsibility to obtain\n",
        "such licenses to export, re-export, or import as may be required after delivery to you.`\n",
        "\n",
        "**`You may publish papers and books using results produced using software provided that you reference the appropriate citation`**:\n",
        "  \n",
        "  * https://doi.org/10.1088/1361-6560/ac4000\n",
        "\n"
      ]
    },
    {
      "cell_type": "markdown",
      "metadata": {
        "id": "DsKXYI-dsgcK"
      },
      "source": [
        "## Install ***pyCERR***\n",
        "\n"
      ]
    },
    {
      "cell_type": "code",
      "execution_count": null,
      "metadata": {
        "id": "XRGzE5J7sgcL"
      },
      "outputs": [],
      "source": [
        "%%capture\n",
        "!pip install \"pyCERR[napari] @ git+https://github.com/cerr/pyCERR.git@testing\""
      ]
    },
    {
      "cell_type": "markdown",
      "metadata": {
        "id": "5bXpZIxOQb54"
      },
      "source": [
        "## Example 1: CT scan"
      ]
    },
    {
      "cell_type": "markdown",
      "metadata": {
        "id": "C1KHjP1LsgcO"
      },
      "source": [
        "\n",
        "### Import scan to planC"
      ]
    },
    {
      "cell_type": "code",
      "execution_count": null,
      "metadata": {
        "id": "E1fpaDxjP_cs"
      },
      "outputs": [],
      "source": [
        "%%capture\n",
        "import os\n",
        "import cerr\n",
        "from cerr import plan_container as pc\n",
        "\n",
        "inputDicomDir = r'Path/to/input_ct_dcm'\n",
        "dcmDir = os.path.join(inputDicomDir)\n",
        "planC = pc.loadDcmDir(dcmDir)"
      ]
    },
    {
      "cell_type": "markdown",
      "metadata": {
        "id": "_XVVLPjBkYI0"
      },
      "source": [
        "### Extract patient outline"
      ]
    },
    {
      "cell_type": "code",
      "execution_count": null,
      "metadata": {
        "id": "WCuUi5D6sgcS"
      },
      "outputs": [],
      "source": [
        "%%capture\n",
        "from cerr.utils import mask\n",
        "\n",
        "threshold = -400   #Modify to intensity respresenting air regions\n",
        "\n",
        "# Extract scan array\n",
        "scanNum = 0\n",
        "scan3M = planC.scan[scanNum].getScanArray()\n",
        "\n",
        "# Generate patient outline\n",
        "mask3M = mask.getPatientOutline(scan3M, threshold)\n",
        "\n",
        "# Import to planC\n",
        "structName = 'outline'\n",
        "structNum = None\n",
        "planC = pc.importStructureMask(mask3M, scanNum, structName, planC, structNum)\n",
        "\n",
        "# Index of generated outline\n",
        "outlineStr = len(planC.structure) - 1"
      ]
    },
    {
      "cell_type": "markdown",
      "metadata": {
        "id": "V6weyQUlRCc3"
      },
      "source": [
        "### Display results"
      ]
    },
    {
      "cell_type": "code",
      "execution_count": 10null
      "metadata": {
        "colab": {
          "base_uri": "https://localhost:8080/",
          "height": 437,
          "referenced_widgets": [
            "47e46d0486c84d77ba7732fa8ee3f76d",
            "6f874579a8644df7881ee689e9f0abac",
            "18d262c3e0944756a0558b973fe1aa58",
            "97f897a3494e49309f1d717af1f9512c",
            "17b9f1d51c0b4064b573ac9cbf4a1328",
            "091301f0f45c4da79e9907e404da84e8",
            "cbe77497df4b4866a8bb0f45e8c0ba06",
            "43f6bd12ad70493dade2f90df119c4fd",
            "864e349724954092bf2969a767c4c404",
            "d1ebd011ba574e7980a4862ef5e5e72e",
            "921dd2dcdd89439fb1b0d7f9c21e85a1",
            "571ecfe4f61c46a2a753512af3d8a7d2",
            "1b5fa31e4ba7440c8cea8a1a47110357"
          ]
        },
        "id": "jWQD1KeVsgcT",
        "outputId": "6c04b106-0e0c-4f94-ae89-b4e1a7cb82ec"
      },
      "outputs": [
        {
          "output_type": "display_data",
          "data": {
            "text/plain": [
              "HBox(children=(Dropdown(description='view', options=('Axial', 'Sagittal', 'Coronal'), value='Axial'), IntSlide…"
            ],
            "application/vnd.jupyter.widget-view+json": {
              "version_major": 2,
              "version_minor": 0,
              "model_id": "47e46d0486c84d77ba7732fa8ee3f76d"
            }
          },
          "metadata": {}
        },
        {
          "output_type": "display_data",
          "data": {
            "text/plain": [
              "Output()"
            ],
            "application/vnd.jupyter.widget-view+json": {
              "version_major": 2,
              "version_minor": 0,
              "model_id": "571ecfe4f61c46a2a753512af3d8a7d2"
            }
          },
          "metadata": {}
        }
      ],
      "source": [
        "from cerr.viewer import showMplNb\n",
        "\n",
        "show_scans = scanNum\n",
        "show_str = [outlineStr]\n",
        "outlineStr = len(planC.structure)-1\n",
        "\n",
        "showMplNb(planC, scan_nums=show_scans,\n",
        "          struct_nums=show_str,\n",
        "          windowCenter=-400, windowWidth=2000)"
      ]
    },
    {
      "cell_type": "markdown",
      "metadata": {
        "id": "m0w7ABdBRdkf"
      },
      "source": [
        "## Example 2: MR scan"
      ]
    },
    {
      "cell_type": "markdown",
      "metadata": {
        "id": "_cDdTz4GRTZz"
      },
      "source": [
        "\n",
        "### Import scan to planC"
      ]
    },
    {
      "cell_type": "code",
      "execution_count": null,
      "metadata": {
        "id": "uT4dRdfvRTZ3"
      },
      "outputs": [],
      "source": [
        "%%capture\n",
        "\n",
        "inputDicomDir = 'Path/to/input_mr_dcm'\n",
        "dcmDir = os.path.join(inputDicomDir)\n",
        "planC = pc.load_dcm_dir(dcmDir)"
      ]
    },
    {
      "cell_type": "markdown",
      "metadata": {
        "id": "0MC7sXwxRTZ5"
      },
      "source": [
        "### Extract patient outline"
      ]
    },
    {
      "cell_type": "code",
      "execution_count": null,
      "metadata": {
        "id": "vYIc4ZqlRTZ6"
      },
      "outputs": [],
      "source": [
        "%%capture\n",
        "\n",
        "normalize = True   #Normalize by max intensity\n",
        "threshold = 0.01   #Modify to normalized intensity respresenting air regions\n",
        "\n",
        "# Extract scan array\n",
        "scanNum = 0\n",
        "scan3M = planC.scan[scanNum].getScanArray()\n",
        "\n",
        "# Generate patient outline\n",
        "mask3M = imageProc.getPatientOutline(scan3M, threshold, normFlag=normalize)\n",
        "\n",
        "# Import to planC\n",
        "planC = pc.import_structure_mask(mask3M, scanNum, 'outline', [], planC)"
      ]
    },
    {
      "cell_type": "markdown",
      "metadata": {
        "id": "zAWuZKBtap-b"
      },
      "source": [
        "### Display results"
      ]
    },
    {
      "cell_type": "code",
      "execution_count": null,
      "metadata": {
        "id": "E5EyXrszRTZ7"
      },
      "outputs": [],
      "source": [
        "from cerr.viewer import showMplNb\n",
        "\n",
        "show_scans = [scanNum]\n",
        "show_str = [outlineStr]\n",
        "showMplNb(show_scans, show_str, planC,\\\n",
        "          windowCenter=0, windowWidth=1)"
      ]
    }
  ],
  "metadata": {
    "colab": {
      "provenance": []
    },
    "kernelspec": {
      "display_name": "Python 3 (ipykernel)",
      "language": "python",
      "name": "python3"
    },
    "language_info": {
      "codemirror_mode": {
        "name": "ipython",
        "version": 3
      },
      "file_extension": ".py",
      "mimetype": "text/x-python",
      "name": "python",
      "nbconvert_exporter": "python",
      "pygments_lexer": "ipython3",
      "version": "3.11.9"
    },
    "toc": {
      "base_numbering": 1,
      "nav_menu": {},
      "number_sections": true,
      "sideBar": true,
      "skip_h1_title": false,
      "title_cell": "Table of Contents",
      "title_sidebar": "Contents",
      "toc_cell": false,
      "toc_position": {},
      "toc_section_display": true,
      "toc_window_display": false
    },
    "widgets": {
      "application/vnd.jupyter.widget-state+json": {
        "47e46d0486c84d77ba7732fa8ee3f76d": {
          "model_module": "@jupyter-widgets/controls",
          "model_name": "HBoxModel",
          "model_module_version": "1.5.0",
          "state": {
            "_dom_classes": [],
            "_model_module": "@jupyter-widgets/controls",
            "_model_module_version": "1.5.0",
            "_model_name": "HBoxModel",
            "_view_count": null,
            "_view_module": "@jupyter-widgets/controls",
            "_view_module_version": "1.5.0",
            "_view_name": "HBoxView",
            "box_style": "",
            "children": [
              "IPY_MODEL_6f874579a8644df7881ee689e9f0abac",
              "IPY_MODEL_18d262c3e0944756a0558b973fe1aa58",
              "IPY_MODEL_97f897a3494e49309f1d717af1f9512c"
            ],
            "layout": "IPY_MODEL_17b9f1d51c0b4064b573ac9cbf4a1328"
          }
        },
        "6f874579a8644df7881ee689e9f0abac": {
          "model_module": "@jupyter-widgets/controls",
          "model_name": "DropdownModel",
          "model_module_version": "1.5.0",
          "state": {
            "_dom_classes": [],
            "_model_module": "@jupyter-widgets/controls",
            "_model_module_version": "1.5.0",
            "_model_name": "DropdownModel",
            "_options_labels": [
              "Axial",
              "Sagittal",
              "Coronal"
            ],
            "_view_count": null,
            "_view_module": "@jupyter-widgets/controls",
            "_view_module_version": "1.5.0",
            "_view_name": "DropdownView",
            "description": "view",
            "description_tooltip": null,
            "disabled": false,
            "index": 0,
            "layout": "IPY_MODEL_091301f0f45c4da79e9907e404da84e8",
            "style": "IPY_MODEL_cbe77497df4b4866a8bb0f45e8c0ba06"
          }
        },
        "18d262c3e0944756a0558b973fe1aa58": {
          "model_module": "@jupyter-widgets/controls",
          "model_name": "IntSliderModel",
          "model_module_version": "1.5.0",
          "state": {
            "_dom_classes": [],
            "_model_module": "@jupyter-widgets/controls",
            "_model_module_version": "1.5.0",
            "_model_name": "IntSliderModel",
            "_view_count": null,
            "_view_module": "@jupyter-widgets/controls",
            "_view_module_version": "1.5.0",
            "_view_name": "IntSliderView",
            "continuous_update": true,
            "description": "slcNum",
            "description_tooltip": null,
            "disabled": false,
            "layout": "IPY_MODEL_43f6bd12ad70493dade2f90df119c4fd",
            "max": 90,
            "min": 1,
            "orientation": "horizontal",
            "readout": true,
            "readout_format": "d",
            "step": 1,
            "style": "IPY_MODEL_864e349724954092bf2969a767c4c404",
            "value": 45
          }
        },
        "97f897a3494e49309f1d717af1f9512c": {
          "model_module": "@jupyter-widgets/controls",
          "model_name": "FloatSliderModel",
          "model_module_version": "1.5.0",
          "state": {
            "_dom_classes": [],
            "_model_module": "@jupyter-widgets/controls",
            "_model_module_version": "1.5.0",
            "_model_name": "FloatSliderModel",
            "_view_count": null,
            "_view_module": "@jupyter-widgets/controls",
            "_view_module_version": "1.5.0",
            "_view_name": "FloatSliderView",
            "continuous_update": true,
            "description": "doseAlpha",
            "description_tooltip": null,
            "disabled": false,
            "layout": "IPY_MODEL_d1ebd011ba574e7980a4862ef5e5e72e",
            "max": 1,
            "min": 0,
            "orientation": "horizontal",
            "readout": true,
            "readout_format": ".2f",
            "step": 0.02,
            "style": "IPY_MODEL_921dd2dcdd89439fb1b0d7f9c21e85a1",
            "value": 0.5
          }
        },
        "17b9f1d51c0b4064b573ac9cbf4a1328": {
          "model_module": "@jupyter-widgets/base",
          "model_name": "LayoutModel",
          "model_module_version": "1.2.0",
          "state": {
            "_model_module": "@jupyter-widgets/base",
            "_model_module_version": "1.2.0",
            "_model_name": "LayoutModel",
            "_view_count": null,
            "_view_module": "@jupyter-widgets/base",
            "_view_module_version": "1.2.0",
            "_view_name": "LayoutView",
            "align_content": null,
            "align_items": null,
            "align_self": null,
            "border": null,
            "bottom": null,
            "display": null,
            "flex": null,
            "flex_flow": null,
            "grid_area": null,
            "grid_auto_columns": null,
            "grid_auto_flow": null,
            "grid_auto_rows": null,
            "grid_column": null,
            "grid_gap": null,
            "grid_row": null,
            "grid_template_areas": null,
            "grid_template_columns": null,
            "grid_template_rows": null,
            "height": null,
            "justify_content": null,
            "justify_items": null,
            "left": null,
            "margin": null,
            "max_height": null,
            "max_width": null,
            "min_height": null,
            "min_width": null,
            "object_fit": null,
            "object_position": null,
            "order": null,
            "overflow": null,
            "overflow_x": null,
            "overflow_y": null,
            "padding": null,
            "right": null,
            "top": null,
            "visibility": null,
            "width": null
          }
        },
        "091301f0f45c4da79e9907e404da84e8": {
          "model_module": "@jupyter-widgets/base",
          "model_name": "LayoutModel",
          "model_module_version": "1.2.0",
          "state": {
            "_model_module": "@jupyter-widgets/base",
            "_model_module_version": "1.2.0",
            "_model_name": "LayoutModel",
            "_view_count": null,
            "_view_module": "@jupyter-widgets/base",
            "_view_module_version": "1.2.0",
            "_view_name": "LayoutView",
            "align_content": null,
            "align_items": null,
            "align_self": null,
            "border": null,
            "bottom": null,
            "display": null,
            "flex": null,
            "flex_flow": null,
            "grid_area": null,
            "grid_auto_columns": null,
            "grid_auto_flow": null,
            "grid_auto_rows": null,
            "grid_column": null,
            "grid_gap": null,
            "grid_row": null,
            "grid_template_areas": null,
            "grid_template_columns": null,
            "grid_template_rows": null,
            "height": null,
            "justify_content": null,
            "justify_items": null,
            "left": null,
            "margin": null,
            "max_height": null,
            "max_width": null,
            "min_height": null,
            "min_width": null,
            "object_fit": null,
            "object_position": null,
            "order": null,
            "overflow": null,
            "overflow_x": null,
            "overflow_y": null,
            "padding": null,
            "right": null,
            "top": null,
            "visibility": null,
            "width": null
          }
        },
        "cbe77497df4b4866a8bb0f45e8c0ba06": {
          "model_module": "@jupyter-widgets/controls",
          "model_name": "DescriptionStyleModel",
          "model_module_version": "1.5.0",
          "state": {
            "_model_module": "@jupyter-widgets/controls",
            "_model_module_version": "1.5.0",
            "_model_name": "DescriptionStyleModel",
            "_view_count": null,
            "_view_module": "@jupyter-widgets/base",
            "_view_module_version": "1.2.0",
            "_view_name": "StyleView",
            "description_width": ""
          }
        },
        "43f6bd12ad70493dade2f90df119c4fd": {
          "model_module": "@jupyter-widgets/base",
          "model_name": "LayoutModel",
          "model_module_version": "1.2.0",
          "state": {
            "_model_module": "@jupyter-widgets/base",
            "_model_module_version": "1.2.0",
            "_model_name": "LayoutModel",
            "_view_count": null,
            "_view_module": "@jupyter-widgets/base",
            "_view_module_version": "1.2.0",
            "_view_name": "LayoutView",
            "align_content": null,
            "align_items": null,
            "align_self": null,
            "border": null,
            "bottom": null,
            "display": null,
            "flex": null,
            "flex_flow": null,
            "grid_area": null,
            "grid_auto_columns": null,
            "grid_auto_flow": null,
            "grid_auto_rows": null,
            "grid_column": null,
            "grid_gap": null,
            "grid_row": null,
            "grid_template_areas": null,
            "grid_template_columns": null,
            "grid_template_rows": null,
            "height": null,
            "justify_content": null,
            "justify_items": null,
            "left": null,
            "margin": null,
            "max_height": null,
            "max_width": null,
            "min_height": null,
            "min_width": null,
            "object_fit": null,
            "object_position": null,
            "order": null,
            "overflow": null,
            "overflow_x": null,
            "overflow_y": null,
            "padding": null,
            "right": null,
            "top": null,
            "visibility": null,
            "width": null
          }
        },
        "864e349724954092bf2969a767c4c404": {
          "model_module": "@jupyter-widgets/controls",
          "model_name": "SliderStyleModel",
          "model_module_version": "1.5.0",
          "state": {
            "_model_module": "@jupyter-widgets/controls",
            "_model_module_version": "1.5.0",
            "_model_name": "SliderStyleModel",
            "_view_count": null,
            "_view_module": "@jupyter-widgets/base",
            "_view_module_version": "1.2.0",
            "_view_name": "StyleView",
            "description_width": "",
            "handle_color": null
          }
        },
        "d1ebd011ba574e7980a4862ef5e5e72e": {
          "model_module": "@jupyter-widgets/base",
          "model_name": "LayoutModel",
          "model_module_version": "1.2.0",
          "state": {
            "_model_module": "@jupyter-widgets/base",
            "_model_module_version": "1.2.0",
            "_model_name": "LayoutModel",
            "_view_count": null,
            "_view_module": "@jupyter-widgets/base",
            "_view_module_version": "1.2.0",
            "_view_name": "LayoutView",
            "align_content": null,
            "align_items": null,
            "align_self": null,
            "border": null,
            "bottom": null,
            "display": null,
            "flex": null,
            "flex_flow": null,
            "grid_area": null,
            "grid_auto_columns": null,
            "grid_auto_flow": null,
            "grid_auto_rows": null,
            "grid_column": null,
            "grid_gap": null,
            "grid_row": null,
            "grid_template_areas": null,
            "grid_template_columns": null,
            "grid_template_rows": null,
            "height": null,
            "justify_content": null,
            "justify_items": null,
            "left": null,
            "margin": null,
            "max_height": null,
            "max_width": null,
            "min_height": null,
            "min_width": null,
            "object_fit": null,
            "object_position": null,
            "order": null,
            "overflow": null,
            "overflow_x": null,
            "overflow_y": null,
            "padding": null,
            "right": null,
            "top": null,
            "visibility": null,
            "width": null
          }
        },
        "921dd2dcdd89439fb1b0d7f9c21e85a1": {
          "model_module": "@jupyter-widgets/controls",
          "model_name": "SliderStyleModel",
          "model_module_version": "1.5.0",
          "state": {
            "_model_module": "@jupyter-widgets/controls",
            "_model_module_version": "1.5.0",
            "_model_name": "SliderStyleModel",
            "_view_count": null,
            "_view_module": "@jupyter-widgets/base",
            "_view_module_version": "1.2.0",
            "_view_name": "StyleView",
            "description_width": "",
            "handle_color": null
          }
        },
        "571ecfe4f61c46a2a753512af3d8a7d2": {
          "model_module": "@jupyter-widgets/output",
          "model_name": "OutputModel",
          "model_module_version": "1.0.0",
          "state": {
            "_dom_classes": [],
            "_model_module": "@jupyter-widgets/output",
            "_model_module_version": "1.0.0",
            "_model_name": "OutputModel",
            "_view_count": null,
            "_view_module": "@jupyter-widgets/output",
            "_view_module_version": "1.0.0",
            "_view_name": "OutputView",
            "layout": "IPY_MODEL_1b5fa31e4ba7440c8cea8a1a47110357",
            "msg_id": "",
            "outputs": [
              {
                "output_type": "display_data",
                "data": {
                  "text/plain": "<Figure size 640x480 with 1 Axes>",
                  "image/png": "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\n"
                },
                "metadata": {}
              }
            ]
          }
        },
        "1b5fa31e4ba7440c8cea8a1a47110357": {
          "model_module": "@jupyter-widgets/base",
          "model_name": "LayoutModel",
          "model_module_version": "1.2.0",
          "state": {
            "_model_module": "@jupyter-widgets/base",
            "_model_module_version": "1.2.0",
            "_model_name": "LayoutModel",
            "_view_count": null,
            "_view_module": "@jupyter-widgets/base",
            "_view_module_version": "1.2.0",
            "_view_name": "LayoutView",
            "align_content": null,
            "align_items": null,
            "align_self": null,
            "border": null,
            "bottom": null,
            "display": null,
            "flex": null,
            "flex_flow": null,
            "grid_area": null,
            "grid_auto_columns": null,
            "grid_auto_flow": null,
            "grid_auto_rows": null,
            "grid_column": null,
            "grid_gap": null,
            "grid_row": null,
            "grid_template_areas": null,
            "grid_template_columns": null,
            "grid_template_rows": null,
            "height": null,
            "justify_content": null,
            "justify_items": null,
            "left": null,
            "margin": null,
            "max_height": null,
            "max_width": null,
            "min_height": null,
            "min_width": null,
            "object_fit": null,
            "object_position": null,
            "order": null,
            "overflow": null,
            "overflow_x": null,
            "overflow_y": null,
            "padding": null,
            "right": null,
            "top": null,
            "visibility": null,
            "width": null
          }
        }
      }
    }
  },
  "nbformat": 4,
  "nbformat_minor": 0
}
