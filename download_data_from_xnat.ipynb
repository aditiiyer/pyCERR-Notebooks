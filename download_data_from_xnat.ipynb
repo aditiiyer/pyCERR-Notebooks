{
  "nbformat": 4,
  "nbformat_minor": 0,
  "metadata": {
    "colab": {
      "provenance": []
    },
    "kernelspec": {
      "name": "python3",
      "display_name": "Python 3"
    },
    "language_info": {
      "name": "python"
    }
  },
  "cells": [
    {
      "cell_type": "markdown",
      "source": [
        "## Install pyXNAT\n",
        "\n",
        "pyXNAT provides a programmatic interface with XNAT."
      ],
      "metadata": {
        "id": "RR6ye8gkoOVS"
      }
    },
    {
      "cell_type": "code",
      "source": [
        "! pip install pyxnat"
      ],
      "metadata": {
        "id": "dezFLQjSoMhf"
      },
      "execution_count": null,
      "outputs": []
    },
    {
      "cell_type": "markdown",
      "source": [
        "## Create directory to store DICOM data"
      ],
      "metadata": {
        "id": "SLR9WuHNoOxy"
      }
    },
    {
      "cell_type": "code",
      "source": [
        "import os\n",
        "\n",
        "#location of input DICOM folders\n",
        "workDir = r'/content' #for Colab\n",
        "inputDicomPath = os.path.join(workDir,'input')\n",
        "os.makedirs(inputDicomPath, exist_ok=True)"
      ],
      "metadata": {
        "id": "ap93Mw-loEGE"
      },
      "execution_count": null,
      "outputs": []
    },
    {
      "cell_type": "markdown",
      "source": [
        "## Download data from XNAT source\n"
      ],
      "metadata": {
        "id": "gpbtLORYn6WN"
      }
    },
    {
      "cell_type": "code",
      "execution_count": null,
      "metadata": {
        "id": "dF7QKE3FnyJ8"
      },
      "outputs": [],
      "source": [
        "from pyxnat import Interface\n",
        "from glob import glob\n",
        "import urllib3\n",
        "import shutil\n",
        "urllib3.disable_warnings()\n",
        "\n",
        "from pyxnat import Interface\n",
        "\n",
        "def getXNATData(xhost,user,scandict,downloadDir):\n",
        "  xnat = Interface(xhost, user, verify=False)\n",
        "  os.makedirs(downloadDir, exist_ok=True)\n",
        "  expdirlist = []\n",
        "  for scan_entry in scandict:\n",
        "    proj = scan_entry['proj']\n",
        "    subj = scan_entry['subj']\n",
        "    exp = scan_entry['exp']\n",
        "    scan_list = scan_entry['scan_list']\n",
        "    expdir = os.path.join(downloadDir,exp)\n",
        "    expdirlist.append(expdir)\n",
        "    os.makedirs(expdir, exist_ok = True)\n",
        "    xexp = xnat.select.project(proj).subject(subj).experiment(exp)\n",
        "    for scan in scan_list:\n",
        "      try:\n",
        "        xnat.select.project(proj).subject(subj).experiment(exp).scan(scan).resource('DICOM').get(downloadDir,extract=True)\n",
        "      except:\n",
        "        xnat.select.project(proj).subject(subj).experiment(exp).scan(scan).resource('secondary').get(downloadDir,extract=True)\n",
        "    for dcmfolder in ['DICOM','secondary']:\n",
        "      dcmlist = glob(os.path.join(downloadDir,dcmfolder,'*.dcm'))\n",
        "      print(dcmlist)\n",
        "      for dcm in dcmlist:\n",
        "        shutil.move(dcm, expdir)\n",
        "  for dcmfolder in ['DICOM','secondary']:\n",
        "    if os.path.exists(os.path.join(downloadDir,dcmfolder)):\n",
        "      os.rmdir(os.path.join(downloadDir,dcmfolder))\n",
        "    if os.path.exists(os.path.join(downloadDir,dcmfolder + '.zip')):\n",
        "      os.remove(os.path.join(downloadDir,dcmfolder + '.zip'))\n",
        "  xnat.disconnect()\n",
        "  return expdirlist"
      ]
    },
    {
      "cell_type": "code",
      "source": [
        "xhost = 'https://xnat.yoursite.org'\n",
        "user = 'usr'\n",
        "scandict = [{'proj':proj,'subj':subj,'exp':exp, 'scan_list':['1']}]\n",
        "\n",
        "folderList = getXNATData(xhost,user,scandict,inputDicomPath)"
      ],
      "metadata": {
        "id": "Bcf74v3Ln3Eh"
      },
      "execution_count": null,
      "outputs": []
    }
  ]
}