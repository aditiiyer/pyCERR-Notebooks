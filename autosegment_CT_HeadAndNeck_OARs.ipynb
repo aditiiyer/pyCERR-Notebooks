{
  "cells": [
   {
          "cell_type": "markdown",
          "metadata": {
            "id": "view-in-github"
          },
          "source": [
            "<a href=\"https://colab.research.google.com/github/cerr/pycerr-notebooks/blob/main/autosegment_CT_HeadAndNeck_OARs.ipynb\" target=\"_parent\"><img src=\"https://colab.research.google.com/assets/colab-badge.svg\" alt=\"Open In Colab\"/></a>"
          ]
    },
    {
      "cell_type": "markdown",
      "metadata": {
        "id": "kNoydh-RsgcD"
      },
      "source": [
        "# Introduction\n",
        "\n",
        "In this tutorial, we will demonstrate how to apply pre-trained AI models to segment OARs for RT treatment planning on head and neck CT scans.\n",
        "\n",
        "## Requirements\n",
        "* Python>=3.8\n",
        "* Although these models can be run on a CPU, GPU access is recommended for efficiency.\n",
        "  To use a GPU on Colab:  Select `Runtime` > `Change runtime type > Select GPU `\n",
        "* Data I/O, pre- and post-processing are performed using [***pyCERR***](https://github.com/cerr/pyCERR) .\n",
        "\n",
        "## I/O\n",
        "* **Input**: DICOM-format head and neck CT scans(s).  \n",
        "  \n",
        "* **Output**: DICOM RTStruct-format segmentations.  \n",
        "  \n",
        "  \n",
        "  Input data should be organized as: one directory of DICOM images per patient.      \n",
        "  \n",
        "    \n",
        "    Input dir\n",
        "            |------Pat1  \n",
        "                      |------img1.dcm  \n",
        "                             img2.dcm  \n",
        "                             ....  \n",
        "                             ....  \n",
        "            |-----Pat2  \n",
        "                     |------img1.dcm  \n",
        "                            img2.dcm  \n",
        "                            ....  \n",
        "                            ....  \n",
        "\n",
        "\n",
        "## AI models\n",
        "* The segmentation models used here were trained and validated on CT scans used for RT planning. Its performance on diagnostic scans is expected to be sub-optimal.  \n",
        "* Trained models are packaged as a Conda environment archive containing  python libraries and other dependencies.\n",
        "\n",
        "### Installing models and dependencies\n",
        "\n",
        "* Installation is performed using CERR's [***model installer***]( https://github.com/cerr/model_installer).  \n",
        "\n",
        "* A Conda archive containing dependencies is downloaded to the `conda-pack`   \n",
        "  sub-directory of a configurable `scriptInstallDir`.  \n",
        "  By default `condaEnvPath = '/content/CT_HeadAndNeck_OARs/conda-pack'`\n",
        "  \n",
        "*  Inference scripts are located at\n",
        "  `deeplabScriptPath = os.path.join(condaEnvPath,'model_wrapper', run_inference_deeplab_nii.py.py')`   \n",
        "  `selfAttnScriptPath = os.path.join(condaEnvPath,'model_wrapper', run_inference_selfattn_nii.py.py')`  \n",
        "\n",
        "### Running the models\n",
        "```python\n",
        "!python {deeplabScriptPath} {input_directory} {temp_session_directory} {output_directory}\n",
        "!python {selfAttnScriptPath} {input_directory} {temp_session_directory} {output_directory}\n",
        "```"
      ]
    },
    {
      "cell_type": "markdown",
      "metadata": {
        "id": "6GVYj7k5e97G"
      },
      "source": [
        "## License\n",
        "\n",
        "By downloading the software you are agreeing to the following terms and conditions as well as to the Terms of Use of CERR software.\n",
        "\n",
        "**`THE SOFTWARE IS PROVIDED \"AS IS\" AND CERR DEVELOPMENT TEAM AND ITS COLLABORATORS DO NOT MAKE ANY WARRANTY, EXPRESS OR IMPLIED, INCLUDING BUT NOT LIMITED TO WARRANTIES OF MERCHANTABILITY AND FITNESS FOR A PARTICULAR PURPOSE, NOR DO THEY ASSUME ANY LIABILITY OR RESPONSIBILITY FOR THE USE OF THIS SOFTWARE.`**\n",
        "\n",
        "`This software is for research purposes only and has not been approved for clinical use.`\n",
        "\n",
        "`Software has not been reviewed or approved by the Food and Drug Administration, and is for non-clinical, IRB-approved Research Use Only. In no event shall data or images generated through the use of the Software be used in the provision of patient care.`\n",
        "  \n",
        "`YOU MAY NOT DISTRIBUTE COPIES of this software, or copies of software derived from this software, to others outside your organization without specific prior written permission from the CERR development team except where noted for specific software products.`\n",
        "\n",
        "`All Technology and technical data delivered under this Agreement are subject to US export control laws and may be subject to export or import regulations in other countries. You agree to comply strictly with all such laws and regulations and acknowledge that you have the responsibility to obtain\n",
        "such licenses to export, re-export, or import as may be required after delivery to you.`\n",
        "\n",
        "**`You may publish papers and books using results produced using software provided you cite the following`**:\n",
        "  \n",
        "  * **AI models**: https://doi.org/10.1088/1361-6560/ac4000  \n",
        "      https://doi.org/10.48550/arXiv.1909.05054  \n",
        "                     \n",
        "  * **CERR model library**: https://doi.org/10.1016/j.ejmp.2020.04.011  \n",
        "\n"
      ]
    },
    {
      "cell_type": "markdown",
      "metadata": {
        "id": "35nEDWKTg5c1"
      },
      "source": [
        "# Downloads"
      ]
    },
    {
      "cell_type": "markdown",
      "metadata": {
        "id": "DsKXYI-dsgcK"
      },
      "source": [
        "### Install ***pyCERR***\n",
        "\n",
        "pyCERR handles data import/export, pre- and post-processing transformations for this auto-segmentation model."
      ]
    },
    {
      "cell_type": "code",
      "source": [
        "%%capture\n",
        "!pip install \"pyCERR[napari] @ git+https://github.com/cerr/pyCERR.git@testing\""
      ],
      "metadata": {
        "id": "mSoC0TDuiLjD"
      },
      "execution_count": null,
      "outputs": []
    },
    {
      "cell_type": "markdown",
      "metadata": {
        "id": "mP6FHznIg7Yd"
      },
      "source": [
        "\n",
        "## Prepare planning CTs (DICOM)"
      ]
    },
    {
      "cell_type": "code",
      "source": [
        "import os\n",
        "workDir = r'/content' # For Colab"
      ],
      "metadata": {
        "id": "FYaSj6fcqqxZ"
      },
      "execution_count": null,
      "outputs": []
    },
    {
      "cell_type": "markdown",
      "source": [
        " ### We will use the sample head & neck CT dataset distributed with pyCERR for this demo."
      ],
      "metadata": {
        "id": "jFRdE2wVp31M"
      }
    },
    {
      "cell_type": "code",
      "execution_count": null,
      "metadata": {
        "id": "CWaGs8LqhZTD"
      },
      "outputs": [],
      "source": [
        "inputDicomPath = '/usr/local/lib/python3.10/dist-packages/cerr/datasets/sample_ct/head_and_neck'"
      ]
    },
    {
      "cell_type": "markdown",
      "source": [
        "### Alternatives\n",
        "\n",
        " Uncomment the following cell to download data from user-specified ***dataUrl*** to ***dataDownloadDir***.\n",
        "\n",
        "See also: [demo notebook](github.com/cerr/pyCERR-Notebooks/download_data_from_xnat.ipynb) for downloading data from XNAT."
      ],
      "metadata": {
        "id": "zB-PJ6IPTZRl"
      }
    },
    {
      "cell_type": "code",
      "execution_count": null,
      "metadata": {
        "id": "l2cIR2Swg_84"
      },
      "outputs": [],
      "source": [
        "# dataUrl = 'http://path.to/data'\n",
        "# dataDownloadDir = os.path.join(workDir, 'sampleData')\n",
        "# os.makedirs(dataDownloadDir, exist_ok=True)\n",
        "# ! wget -O sampleData.gz -L {dataUrl}\n",
        "# ! tar xf sampleData.gz -C {dataDownloadDir}\n",
        "# ! rm sampleData.gz\n",
        "\n",
        "# #Paths to input data\n",
        "# inputDicomPath = os.path.join(dataDownloadDir,'your_dir_name_here')  # Replace with apropriate path to your dataset"
      ]
    },
    {
      "cell_type": "markdown",
      "metadata": {
        "id": "VSvE1KsTj9do"
      },
      "source": [
        "### Define paths to input DICOM directory, desired output directory, and a session directory to store temporary files during model execution"
      ]
    },
    {
      "cell_type": "code",
      "execution_count": null,
      "metadata": {
        "id": "iHbUWoUEj1A2"
      },
      "outputs": [],
      "source": [
        "# Paths to temporary session dierectory for intermediate processing steps\n",
        "AIoutputPath = os.path.join(workDir, 'AIoutput')\n",
        "sessionPathDeepLab = os.path.join(workDir, 'tempDL')\n",
        "sessionPathSelfAttn = os.path.join(workDir, 'tempSA')\n",
        "\n",
        "if not os.path.exists(AIoutputPath):\n",
        "  os.mkdir(AIoutputPath)\n",
        "\n",
        "if not os.path.exists(sessionPathDeepLab):\n",
        "  os.mkdir(sessionPathDeepLab)\n",
        "if not os.path.exists(sessionPathSelfAttn):\n",
        "  os.mkdir(sessionPathSelfAttn)"
      ]
    },
    {
      "cell_type": "markdown",
      "source": [
        "## Download pre-trained model, inference script, and packaged conda evnironment to ***scriptInstallDir***\n"
      ],
      "metadata": {
        "id": "FC5pCpVa65lK"
      }
    },
    {
      "cell_type": "code",
      "source": [
        "%%capture\n",
        "\n",
        "# Download model installer\n",
        "os.chdir(workDir)\n",
        "!git clone https://github.com/cerr/model_installer.git\n",
        "os.chdir(os.path.join(workDir,'model_installer'))\n",
        "\n",
        "# Install CT HN OAR model\n",
        "!./installer.sh\n",
        "modelOpt = '6'  # CT_HeadAndNeck_OARs\n",
        "pythonOpt = 'C' # Download packaged Conda environment\n",
        "\n",
        "! source ./installer.sh -m {modelOpt} -d {workDir} -p {pythonOpt}"
      ],
      "metadata": {
        "id": "32VHeXVxTmt6"
      },
      "execution_count": null,
      "outputs": []
    },
    {
      "cell_type": "code",
      "source": [
        "# Location of inference script\n",
        "scriptInstallDir = os.path.join(workDir, 'CT_HeadAndNeck_OARs')\n",
        "deeplabScriptPath = os.path.join(scriptInstallDir,\n",
        "                         'model_wrapper',\n",
        "                         'run_inference_deeplab_nii.py')\n",
        "selfattnScriptPath = os.path.join(scriptInstallDir,\n",
        "                         'model_wrapper',\n",
        "                         'run_inference_selfattn_nii.py')\n",
        "\n",
        "\n",
        "# Location of Conda archive\n",
        "condaEnvPath = os.path.join(scriptInstallDir, 'conda-pack')\n",
        "\n",
        "# Location of activation script for Conda environment\n",
        "activateScript = os.path.join(condaEnvPath,'bin','activate')"
      ],
      "metadata": {
        "id": "xuDuWRX9T1Co"
      },
      "execution_count": null,
      "outputs": []
    },
    {
      "cell_type": "markdown",
      "source": [
        "### Map structure names to labels"
      ],
      "metadata": {
        "id": "hpJCvsZYAs4-"
      }
    },
    {
      "cell_type": "code",
      "source": [
        "label_dict1 = {1: \"Left masseter\", 2: \"Right masseter\",\n",
        "               3: \"Left medial pterygoid\", 4: \"Right medial pterygoid\"}\n",
        "label_dict2 = {1: \"Larynx\"}\n",
        "label_dict3 = {1: \"Pharyngeal constrictor\"}\n",
        "label_dict4 = {1:\"Left Parotid\", 2:\"Right Parotid\",\n",
        "               3:\"Left Submandible\", 4:\"Right Submandible\",\n",
        "               7:\"Mandible\", 8:\"Spinal cord\",\n",
        "               9:\"Brain stem\", 10:\"Oral cavity\"}\n",
        "label_dict_list = [label_dict1, label_dict2, label_dict3, label_dict4]"
      ],
      "metadata": {
        "id": "tCNt7dQQAsUh"
      },
      "execution_count": null,
      "outputs": []
    },
    {
      "cell_type": "markdown",
      "metadata": {
        "id": "zj7t-J4isgcQ"
      },
      "source": [
        "# Segment OARs"
      ]
    },
    {
      "cell_type": "markdown",
      "metadata": {
        "id": "_XVVLPjBkYI0"
      },
      "source": [
        "## Apply AI model  to all MR scans\n",
        "\n",
        "### located in ***inputDicomPath*** and write auto-segmentation results to ***AIoutputPath***"
      ]
    },
    {
      "cell_type": "code",
      "execution_count": null,
      "metadata": {
        "id": "WCuUi5D6sgcS"
      },
      "outputs": [],
      "source": [
        "%%capture\n",
        "import subprocess\n",
        "import numpy as np\n",
        "\n",
        "import cerr.plan_container as pc\n",
        "from cerr.dataclasses import scan as cerrScn\n",
        "from cerr.dcm_export import rtstruct_iod\n",
        "from cerr.utils.ai_pipeline import createSessionDir, getScanNumFromIdentifier\n",
        "\n",
        "\n",
        "modality = 'CT'\n",
        "scanNum = 0\n",
        "\n",
        "# Loop over pyCERR files\n",
        "fileList = os.listdir(inputDicomPath)\n",
        "numFiles = len(fileList)\n",
        "\n",
        "for iFile in range(numFiles):\n",
        "\n",
        "    inputFilename = fileList[iFile]\n",
        "    dcmDir = os.path.join(inputDicomPath, inputFilename)\n",
        "\n",
        "    # Identify CT scan\n",
        "    identifier = {'imageType':'CT SCAN'}\n",
        "    planC = pc.loadDcmDir(dcmDir)\n",
        "    scanNum = getScanNumFromIdentifier(identifier, planC)[0]\n",
        "\n",
        "    #---------------------\n",
        "    # Run DeepLab models\n",
        "    #----------------------\n",
        "    # Create session dir to store temporary data\n",
        "    modInputPath, __ = createSessionDir(sessionPathDeepLab,\n",
        "                                                   inputDicomPath)\n",
        "    # Export scan to NII\n",
        "    scanFilename = os.path.join(modInputPath,\n",
        "                                f\"{inputFilename}_scan_3D.nii.gz\")\n",
        "    planC.scan[scanNum].saveNii(scanFilename)\n",
        "    # AI inference\n",
        "    result = subprocess.run(f\"source {activateScript} && python {deeplabScriptPath}\\\n",
        "                  {modInputPath} {sessionPathDeepLab} {AIoutputPath}\",\\\n",
        "                   capture_output=False, shell=True, executable=\"/bin/bash\")\n",
        "    #-------------------------\n",
        "    # Run self-attention model\n",
        "    #-------------------------\n",
        "    # Create session dir to store temporary data\n",
        "    modInputPath, __ = createSessionDir(sessionPathSelfAttn,\n",
        "                                        inputDicomPath)\n",
        "    # Export scan to NII\n",
        "    scanFilename = os.path.join(modInputPath,\n",
        "                                f\"{inputFilename}_scan_3D.nii.gz\")\n",
        "    planC.scan[scanNum].saveNii(scanFilename)\n",
        "\n",
        "    # AI inference\n",
        "    result = subprocess.run(f\"source {activateScript} && python {selfattnScriptPath}\\\n",
        "                  {modInputPath} {sessionPathSelfAttn} {AIoutputPath}\",\\\n",
        "                   capture_output=False, shell=True, executable=\"/bin/bash\")"
      ]
    },
    {
      "cell_type": "markdown",
      "metadata": {
        "id": "Kugws3KBl4MK"
      },
      "source": [
        "## **Optional**: Uncomment the following to download the output segmentations to your workspace bucket."
      ]
    },
    {
      "cell_type": "code",
      "execution_count": null,
      "metadata": {
        "id": "_nkTBkijl23J"
      },
      "outputs": [],
      "source": [
        "# workspaceBucket = os.environ['WORKSPACE_BUCKET']\n",
        "# !gcloud storage cp -r {outputDicomPath} {workspaceBucket}"
      ]
    },
    {
      "cell_type": "markdown",
      "metadata": {
        "id": "iLzFp-l_sgcT"
      },
      "source": [
        "# Display results"
      ]
    },
    {
      "cell_type": "markdown",
      "metadata": {
        "id": "L8FTwNqhsgcT"
      },
      "source": [
        "## Overlay AI segmentations on scan for visualization using ***Matplotlib***\n",
        "\n",
        "Note: This example displays the last segmented dataset by default.    \n",
        "Load the appropriate pyCERR archive to `planC` to view results for desired dataset."
      ]
    },
    {
      "cell_type": "code",
      "source": [
        "%%capture\n",
        "# Import AI-genereated masks\n",
        "maskFiles = ['chew_AI_seg','larynx_AI_seg','cm_AI_seg','self_attn_AI_seg']\n",
        "origNumStructs = len(planC.structure)\n",
        "\n",
        "for maskNum in range(len(maskFiles)):\n",
        "  maskFileName = f\"{inputFilename}_scan_3D_{maskFiles[maskNum]}.nii.gz\"\n",
        "  maskFilePath = os.path.join(AIoutputPath,maskFileName)\n",
        "  planC = pc.loadNiiStructure(maskFilePath, scanNum, planC, labels_dict=label_dict_list[maskNum])\n",
        "\n",
        "newNumStructs = len(planC.structure)"
      ],
      "metadata": {
        "id": "8X07IN7Yw-8W"
      },
      "execution_count": null,
      "outputs": []
    },
    {
      "cell_type": "code",
      "source": [
        "from cerr.viewer import showMplNb\n",
        "\n",
        "showMplNb(planC=planC, scan_nums=scanNum,\n",
        "          struct_nums=np.arange(origNumStructs,newNumStructs),\n",
        "          windowCenter=50, windowWidth=450)"
      ],
      "metadata": {
        "colab": {
          "base_uri": "https://localhost:8080/",
          "height": 531,
          "referenced_widgets": [
            "58babc3787d149339702beb785bcf7ed",
            "f4246b584cfe4842a37a508b5925d01c",
            "bb2f93d6e1be41c8b9229d550a4d101e",
            "46bb8939cfe64fd09790c1b0ad141273",
            "06b375efd0b2445181642e8cbbcd9de3",
            "ca9abf52a81649678917e385727a598a",
            "699168eb5a804cd0b351c298e93effb2",
            "88edad463e1a4c919bed8f803aa74f07",
            "2299d222b76e4bb0967f116bb24b2983",
            "668dd68738134d95890165507d8c6b8e",
            "ca2f5a9cc3f64923b1449c6de5007288",
            "39a3e5fb9eba4e179139be4d9508535f",
            "863b5b0b7e974f07b20845399721b2fb"
          ]
        },
        "id": "d9JsEf1SQNcr",
        "outputId": "0e39b273-f7d9-47cf-acb0-d010915af097"
      },
      "execution_count": null,
      "outputs": [
        {
          "output_type": "display_data",
          "data": {
            "text/plain": [
              "HBox(children=(Dropdown(description='view', options=('Axial', 'Sagittal', 'Coronal'), value='Axial'), IntSlide…"
            ],
            "application/vnd.jupyter.widget-view+json": {
              "version_major": 2,
              "version_minor": 0,
              "model_id": "58babc3787d149339702beb785bcf7ed"
            }
          },
          "metadata": {}
        },
        {
          "output_type": "display_data",
          "data": {
            "text/plain": [
              "Output()"
            ],
            "application/vnd.jupyter.widget-view+json": {
              "version_major": 2,
              "version_minor": 0,
              "model_id": "39a3e5fb9eba4e179139be4d9508535f"
            }
          },
          "metadata": {}
        }
      ]
    }
  ],
  "metadata": {
    "colab": {
      "provenance": [],
      "gpuType": "T4"
    },
    "kernelspec": {
      "display_name": "Python 3",
      "name": "python3"
    },
    "language_info": {
      "codemirror_mode": {
        "name": "ipython",
        "version": 3
      },
      "file_extension": ".py",
      "mimetype": "text/x-python",
      "name": "python",
      "nbconvert_exporter": "python",
      "pygments_lexer": "ipython3",
      "version": "3.11.9"
    },
    "toc": {
      "base_numbering": 1,
      "nav_menu": {},
      "number_sections": true,
      "sideBar": true,
      "skip_h1_title": false,
      "title_cell": "Table of Contents",
      "title_sidebar": "Contents",
      "toc_cell": false,
      "toc_position": {},
      "toc_section_display": true,
      "toc_window_display": false
    },
    "widgets": {
      "application/vnd.jupyter.widget-state+json": {
      	"state": {},
        "58babc3787d149339702beb785bcf7ed": {
          "model_module": "@jupyter-widgets/controls",
          "model_name": "HBoxModel",
          "model_module_version": "1.5.0",
          "state": {
            "_dom_classes": [],
            "_model_module": "@jupyter-widgets/controls",
            "_model_module_version": "1.5.0",
            "_model_name": "HBoxModel",
            "_view_count": null,
            "_view_module": "@jupyter-widgets/controls",
            "_view_module_version": "1.5.0",
            "_view_name": "HBoxView",
            "box_style": "",
            "children": [
              "IPY_MODEL_f4246b584cfe4842a37a508b5925d01c",
              "IPY_MODEL_bb2f93d6e1be41c8b9229d550a4d101e",
              "IPY_MODEL_46bb8939cfe64fd09790c1b0ad141273"
            ],
            "layout": "IPY_MODEL_06b375efd0b2445181642e8cbbcd9de3"
          }
        },
        "f4246b584cfe4842a37a508b5925d01c": {
          "model_module": "@jupyter-widgets/controls",
          "model_name": "DropdownModel",
          "model_module_version": "1.5.0",
          "state": {
            "_dom_classes": [],
            "_model_module": "@jupyter-widgets/controls",
            "_model_module_version": "1.5.0",
            "_model_name": "DropdownModel",
            "_options_labels": [
              "Axial",
              "Sagittal",
              "Coronal"
            ],
            "_view_count": null,
            "_view_module": "@jupyter-widgets/controls",
            "_view_module_version": "1.5.0",
            "_view_name": "DropdownView",
            "description": "view",
            "description_tooltip": null,
            "disabled": false,
            "index": 0,
            "layout": "IPY_MODEL_ca9abf52a81649678917e385727a598a",
            "style": "IPY_MODEL_699168eb5a804cd0b351c298e93effb2"
          }
        },
        "bb2f93d6e1be41c8b9229d550a4d101e": {
          "model_module": "@jupyter-widgets/controls",
          "model_name": "IntSliderModel",
          "model_module_version": "1.5.0",
          "state": {
            "_dom_classes": [],
            "_model_module": "@jupyter-widgets/controls",
            "_model_module_version": "1.5.0",
            "_model_name": "IntSliderModel",
            "_view_count": null,
            "_view_module": "@jupyter-widgets/controls",
            "_view_module_version": "1.5.0",
            "_view_name": "IntSliderView",
            "continuous_update": true,
            "description": "slcNum",
            "description_tooltip": null,
            "disabled": false,
            "layout": "IPY_MODEL_88edad463e1a4c919bed8f803aa74f07",
            "max": 90,
            "min": 1,
            "orientation": "horizontal",
            "readout": true,
            "readout_format": "d",
            "step": 1,
            "style": "IPY_MODEL_2299d222b76e4bb0967f116bb24b2983",
            "value": 45
          }
        },
        "46bb8939cfe64fd09790c1b0ad141273": {
          "model_module": "@jupyter-widgets/controls",
          "model_name": "FloatSliderModel",
          "model_module_version": "1.5.0",
          "state": {
            "_dom_classes": [],
            "_model_module": "@jupyter-widgets/controls",
            "_model_module_version": "1.5.0",
            "_model_name": "FloatSliderModel",
            "_view_count": null,
            "_view_module": "@jupyter-widgets/controls",
            "_view_module_version": "1.5.0",
            "_view_name": "FloatSliderView",
            "continuous_update": true,
            "description": "doseAlpha",
            "description_tooltip": null,
            "disabled": false,
            "layout": "IPY_MODEL_668dd68738134d95890165507d8c6b8e",
            "max": 1,
            "min": 0,
            "orientation": "horizontal",
            "readout": true,
            "readout_format": ".2f",
            "step": 0.02,
            "style": "IPY_MODEL_ca2f5a9cc3f64923b1449c6de5007288",
            "value": 0.5
          }
        },
        "06b375efd0b2445181642e8cbbcd9de3": {
          "model_module": "@jupyter-widgets/base",
          "model_name": "LayoutModel",
          "model_module_version": "1.2.0",
          "state": {
            "_model_module": "@jupyter-widgets/base",
            "_model_module_version": "1.2.0",
            "_model_name": "LayoutModel",
            "_view_count": null,
            "_view_module": "@jupyter-widgets/base",
            "_view_module_version": "1.2.0",
            "_view_name": "LayoutView",
            "align_content": null,
            "align_items": null,
            "align_self": null,
            "border": null,
            "bottom": null,
            "display": null,
            "flex": null,
            "flex_flow": null,
            "grid_area": null,
            "grid_auto_columns": null,
            "grid_auto_flow": null,
            "grid_auto_rows": null,
            "grid_column": null,
            "grid_gap": null,
            "grid_row": null,
            "grid_template_areas": null,
            "grid_template_columns": null,
            "grid_template_rows": null,
            "height": null,
            "justify_content": null,
            "justify_items": null,
            "left": null,
            "margin": null,
            "max_height": null,
            "max_width": null,
            "min_height": null,
            "min_width": null,
            "object_fit": null,
            "object_position": null,
            "order": null,
            "overflow": null,
            "overflow_x": null,
            "overflow_y": null,
            "padding": null,
            "right": null,
            "top": null,
            "visibility": null,
            "width": null
          }
        },
        "ca9abf52a81649678917e385727a598a": {
          "model_module": "@jupyter-widgets/base",
          "model_name": "LayoutModel",
          "model_module_version": "1.2.0",
          "state": {
            "_model_module": "@jupyter-widgets/base",
            "_model_module_version": "1.2.0",
            "_model_name": "LayoutModel",
            "_view_count": null,
            "_view_module": "@jupyter-widgets/base",
            "_view_module_version": "1.2.0",
            "_view_name": "LayoutView",
            "align_content": null,
            "align_items": null,
            "align_self": null,
            "border": null,
            "bottom": null,
            "display": null,
            "flex": null,
            "flex_flow": null,
            "grid_area": null,
            "grid_auto_columns": null,
            "grid_auto_flow": null,
            "grid_auto_rows": null,
            "grid_column": null,
            "grid_gap": null,
            "grid_row": null,
            "grid_template_areas": null,
            "grid_template_columns": null,
            "grid_template_rows": null,
            "height": null,
            "justify_content": null,
            "justify_items": null,
            "left": null,
            "margin": null,
            "max_height": null,
            "max_width": null,
            "min_height": null,
            "min_width": null,
            "object_fit": null,
            "object_position": null,
            "order": null,
            "overflow": null,
            "overflow_x": null,
            "overflow_y": null,
            "padding": null,
            "right": null,
            "top": null,
            "visibility": null,
            "width": null
          }
        },
        "699168eb5a804cd0b351c298e93effb2": {
          "model_module": "@jupyter-widgets/controls",
          "model_name": "DescriptionStyleModel",
          "model_module_version": "1.5.0",
          "state": {
            "_model_module": "@jupyter-widgets/controls",
            "_model_module_version": "1.5.0",
            "_model_name": "DescriptionStyleModel",
            "_view_count": null,
            "_view_module": "@jupyter-widgets/base",
            "_view_module_version": "1.2.0",
            "_view_name": "StyleView",
            "description_width": ""
          }
        },
        "88edad463e1a4c919bed8f803aa74f07": {
          "model_module": "@jupyter-widgets/base",
          "model_name": "LayoutModel",
          "model_module_version": "1.2.0",
          "state": {
            "_model_module": "@jupyter-widgets/base",
            "_model_module_version": "1.2.0",
            "_model_name": "LayoutModel",
            "_view_count": null,
            "_view_module": "@jupyter-widgets/base",
            "_view_module_version": "1.2.0",
            "_view_name": "LayoutView",
            "align_content": null,
            "align_items": null,
            "align_self": null,
            "border": null,
            "bottom": null,
            "display": null,
            "flex": null,
            "flex_flow": null,
            "grid_area": null,
            "grid_auto_columns": null,
            "grid_auto_flow": null,
            "grid_auto_rows": null,
            "grid_column": null,
            "grid_gap": null,
            "grid_row": null,
            "grid_template_areas": null,
            "grid_template_columns": null,
            "grid_template_rows": null,
            "height": null,
            "justify_content": null,
            "justify_items": null,
            "left": null,
            "margin": null,
            "max_height": null,
            "max_width": null,
            "min_height": null,
            "min_width": null,
            "object_fit": null,
            "object_position": null,
            "order": null,
            "overflow": null,
            "overflow_x": null,
            "overflow_y": null,
            "padding": null,
            "right": null,
            "top": null,
            "visibility": null,
            "width": null
          }
        },
        "2299d222b76e4bb0967f116bb24b2983": {
          "model_module": "@jupyter-widgets/controls",
          "model_name": "SliderStyleModel",
          "model_module_version": "1.5.0",
          "state": {
            "_model_module": "@jupyter-widgets/controls",
            "_model_module_version": "1.5.0",
            "_model_name": "SliderStyleModel",
            "_view_count": null,
            "_view_module": "@jupyter-widgets/base",
            "_view_module_version": "1.2.0",
            "_view_name": "StyleView",
            "description_width": "",
            "handle_color": null
          }
        },
        "668dd68738134d95890165507d8c6b8e": {
          "model_module": "@jupyter-widgets/base",
          "model_name": "LayoutModel",
          "model_module_version": "1.2.0",
          "state": {
            "_model_module": "@jupyter-widgets/base",
            "_model_module_version": "1.2.0",
            "_model_name": "LayoutModel",
            "_view_count": null,
            "_view_module": "@jupyter-widgets/base",
            "_view_module_version": "1.2.0",
            "_view_name": "LayoutView",
            "align_content": null,
            "align_items": null,
            "align_self": null,
            "border": null,
            "bottom": null,
            "display": null,
            "flex": null,
            "flex_flow": null,
            "grid_area": null,
            "grid_auto_columns": null,
            "grid_auto_flow": null,
            "grid_auto_rows": null,
            "grid_column": null,
            "grid_gap": null,
            "grid_row": null,
            "grid_template_areas": null,
            "grid_template_columns": null,
            "grid_template_rows": null,
            "height": null,
            "justify_content": null,
            "justify_items": null,
            "left": null,
            "margin": null,
            "max_height": null,
            "max_width": null,
            "min_height": null,
            "min_width": null,
            "object_fit": null,
            "object_position": null,
            "order": null,
            "overflow": null,
            "overflow_x": null,
            "overflow_y": null,
            "padding": null,
            "right": null,
            "top": null,
            "visibility": null,
            "width": null
          }
        },
        "ca2f5a9cc3f64923b1449c6de5007288": {
          "model_module": "@jupyter-widgets/controls",
          "model_name": "SliderStyleModel",
          "model_module_version": "1.5.0",
          "state": {
            "_model_module": "@jupyter-widgets/controls",
            "_model_module_version": "1.5.0",
            "_model_name": "SliderStyleModel",
            "_view_count": null,
            "_view_module": "@jupyter-widgets/base",
            "_view_module_version": "1.2.0",
            "_view_name": "StyleView",
            "description_width": "",
            "handle_color": null
          }
        },
        "39a3e5fb9eba4e179139be4d9508535f": {
          "model_module": "@jupyter-widgets/output",
          "model_name": "OutputModel",
          "model_module_version": "1.0.0",
          "state": {
            "_dom_classes": [],
            "_model_module": "@jupyter-widgets/output",
            "_model_module_version": "1.0.0",
            "_model_name": "OutputModel",
            "_view_count": null,
            "_view_module": "@jupyter-widgets/output",
            "_view_module_version": "1.0.0",
            "_view_name": "OutputView",
            "layout": "IPY_MODEL_863b5b0b7e974f07b20845399721b2fb",
            "msg_id": "",
            "outputs": [
              {
                "output_type": "display_data",
                "data": {
                  "text/plain": "<Figure size 600x600 with 1 Axes>",
                  "image/png": "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\n"
                },
                "metadata": {}
              }
            ]
          }
        },
        "863b5b0b7e974f07b20845399721b2fb": {
          "model_module": "@jupyter-widgets/base",
          "model_name": "LayoutModel",
          "model_module_version": "1.2.0",
          "state": {
            "_model_module": "@jupyter-widgets/base",
            "_model_module_version": "1.2.0",
            "_model_name": "LayoutModel",
            "_view_count": null,
            "_view_module": "@jupyter-widgets/base",
            "_view_module_version": "1.2.0",
            "_view_name": "LayoutView",
            "align_content": null,
            "align_items": null,
            "align_self": null,
            "border": null,
            "bottom": null,
            "display": null,
            "flex": null,
            "flex_flow": null,
            "grid_area": null,
            "grid_auto_columns": null,
            "grid_auto_flow": null,
            "grid_auto_rows": null,
            "grid_column": null,
            "grid_gap": null,
            "grid_row": null,
            "grid_template_areas": null,
            "grid_template_columns": null,
            "grid_template_rows": null,
            "height": null,
            "justify_content": null,
            "justify_items": null,
            "left": null,
            "margin": null,
            "max_height": null,
            "max_width": null,
            "min_height": null,
            "min_width": null,
            "object_fit": null,
            "object_position": null,
            "order": null,
            "overflow": null,
            "overflow_x": null,
            "overflow_y": null,
            "padding": null,
            "right": null,
            "top": null,
            "visibility": null,
            "width": null
          }
        }
      }
    },
    "accelerator": "GPU"
  },
  "nbformat": 4,
  "nbformat_minor": 0
}
