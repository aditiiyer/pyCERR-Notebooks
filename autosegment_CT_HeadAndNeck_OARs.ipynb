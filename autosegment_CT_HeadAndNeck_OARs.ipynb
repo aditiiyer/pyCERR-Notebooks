{
  "cells": [
  {	
        "cell_type": "markdown",
        "metadata": {
          "id": "view-in-github"
        },
        "source": [
          "<a href=\"https://colab.research.google.com/github/cerr/pycerr-notebooks/blob/main/autosegment_CT_HeadAndNeck_OARs.ipynb\" target=\"_parent\"><img src=\"https://colab.research.google.com/assets/colab-badge.svg\" alt=\"Open In Colab\"/></a>"
        ]
    },
    {
      "cell_type": "markdown",
      "metadata": {
        "id": "kNoydh-RsgcD"
      },
      "source": [
        "  # Introduction\n",
        "\n",
        "In this tutorial, we will demonstrate how to apply a pre-trained AI model to segment the OARs on head and neck CT scans.\n",
        "\n",
        "## Requirements\n",
        "* Python>=3.7\n",
        "* This model can be run on a CPU.   \n",
        "  To use a GPU on Colab:  Select `Runtime` > `Change runtime type > Select GPU `\n",
        "\n",
        "## AI model\n",
        "* The segmentation model used here was trained and validated on CT scans used for RT planning. Its performance on diagnostic scans is expected to be sub-optimal.\n",
        "* The trained model is packaged as a Conda environment archive containing  python libraries and other dependencies.\n",
        "\n",
        "## I/O\n",
        "* **Input**: DICOM-format CT scan(s) of the prostate.  \n",
        "  \n",
        "* **Output**: DICOM RTStruct-format segmentations.  \n",
        "  \n",
        "  \n",
        "  Input data should be organized as: one directory of DICOM images per patient.      \n",
        "  \n",
        "    \n",
        "    Input dir\n",
        "            |------Pat1  \n",
        "                      |------img1.dcm  \n",
        "                             img2.dcm  \n",
        "                             ....  \n",
        "                             ....  \n",
        "            |-----Pat2  \n",
        "                     |------img1.dcm  \n",
        "                            img2.dcm  \n",
        "                            ....  \n",
        "                            ....  \n",
        "\n",
        "\n",
        "\n",
        "## Installing the model and its dependencies\n",
        "\n",
        "* Installation is performed using CERR's [***model installer***]( https://github.com/cerr/model_installer).  \n",
        "\n",
        "* A Conda archive containing dependencies is downloaded to the `conda-pack`   \n",
        "  sub-directory of a configurable `scriptInstallDir`.  \n",
        "  By default `condaEnvPath = '/content/CT_HeadAndNeck_SelfAttn/conda-pack'`\n",
        "  \n",
        "* The inference script is located at   \n",
        "  `scriptInstallDir = os.path.join(condaEnvPath,'model_wrapper', run_inference_nii.py')`  \n",
        "\n",
        "## Running the model\n",
        "```python\n",
        "!python {wrapperPath} {input_nii_directory} {output_nii_directory}\n",
        "```\n",
        "* Data I/O, pre- and post-processing are performed using [***pyCERR***](https://github.com/cerr/pyCERR) ."
      ]
    },
    {
      "cell_type": "markdown",
      "metadata": {
        "id": "6GVYj7k5e97G"
      },
      "source": [
        "## License\n",
        "\n",
        "By downloading the software you are agreeing to the following terms and conditions as well as to the Terms of Use of CERR software.\n",
        "\n",
        "**`THE SOFTWARE IS PROVIDED \"AS IS\" AND CERR DEVELOPMENT TEAM AND ITS COLLABORATORS DO NOT MAKE ANY WARRANTY, EXPRESS OR IMPLIED, INCLUDING BUT NOT LIMITED TO WARRANTIES OF MERCHANTABILITY AND FITNESS FOR A PARTICULAR PURPOSE, NOR DO THEY ASSUME ANY LIABILITY OR RESPONSIBILITY FOR THE USE OF THIS SOFTWARE.`**\n",
        "\n",
        "`This software is for research purposes only and has not been approved for clinical use.`\n",
        "\n",
        "`Software has not been reviewed or approved by the Food and Drug Administration, and is for non-clinical, IRB-approved Research Use Only. In no event shall data or images generated through the use of the Software be used in the provision of patient care.`\n",
        "  \n",
        "`YOU MAY NOT DISTRIBUTE COPIES of this software, or copies of software derived from this software, to others outside your organization without specific prior written permission from the CERR development team except where noted for specific software products.`\n",
        "\n",
        "`All Technology and technical data delivered under this Agreement are subject to US export control laws and may be subject to export or import regulations in other countries. You agree to comply strictly with all such laws and regulations and acknowledge that you have the responsibility to obtain\n",
        "such licenses to export, re-export, or import as may be required after delivery to you.`\n",
        "\n",
        "**`You may publish papers and books using results produced using software provided you cite the following`**:\n",
        "  \n",
        "  * **AI model**: https://doi.org/10.48550/arXiv.1909.05054\n",
        "  * **CERR model library**: https://doi.org/10.1016/j.ejmp.2020.04.011\n",
        "\n"
      ]
    },
    {
      "cell_type": "markdown",
      "metadata": {
        "id": "35nEDWKTg5c1"
      },
      "source": [
        "# Downloads"
      ]
    },
    {
      "cell_type": "markdown",
      "metadata": {
        "id": "mP6FHznIg7Yd"
      },
      "source": [
        "\n",
        "## Download planning MRIs (DICOM)"
      ]
    },
    {
      "cell_type": "markdown",
      "source": [
        "The following can be used to download data from user-specified ***dataUrl*** to ***dataDownloadDir***.\n",
        "\n",
        "See [demo notebook](github.com/cerr/pyCERR-Notebooks/download_data_from_xnat.ipynb) for downloading data from XNAT."
      ],
      "metadata": {
        "id": "zB-PJ6IPTZRl"
      }
    },
    {
      "cell_type": "code",
      "execution_count": null,
      "metadata": {
        "id": "l2cIR2Swg_84"
      },
      "outputs": [],
      "source": [
        "import os\n",
        "workDir = r'/content' # For Colab\n",
        "#workDir = r'/home/jupyter'\n",
        "dataUrl = 'http://path.to/data'\n",
        "dataDownloadDir = os.path.join(workDir, 'sampleData')\n",
        "os.makedirs(dataDownloadDir, exist_ok=True)"
      ]
    },
    {
      "cell_type": "code",
      "execution_count": null,
      "metadata": {
        "id": "CWaGs8LqhZTD"
      },
      "outputs": [],
      "source": [
        "! wget -O sampleData.gz -L {dataUrl}\n",
        "! tar xf sampleData.gz -C {dataDownloadDir}\n",
        "! rm sampleData.gz"
      ]
    },
    {
      "cell_type": "markdown",
      "metadata": {
        "id": "VSvE1KsTj9do"
      },
      "source": [
        "Define paths to input DICOM directory, desired output directory, and a session directory to store temporary files during model execution"
      ]
    },
    {
      "cell_type": "code",
      "execution_count": null,
      "metadata": {
        "id": "iHbUWoUEj1A2"
      },
      "outputs": [],
      "source": [
        "#Paths to input data and conda env with pre-trained models\n",
        "inputDicomPath = os.path.join(dataDownloadDir,'your_dir_name_here')  # Replace with apropriate path to your dataset\n",
        "outputDicomPath = os.path.join(workDir, 'AIoutput')\n",
        "sessionPath = os.path.join(workDir, 'temp')\n",
        "\n",
        "if not os.path.exists(outputDicomPath):\n",
        "  os.mkdir(outputDicomPath)\n",
        "\n",
        "if not os.path.exists(sessionPath):\n",
        "  os.mkdir(sessionPath)"
      ]
    },
    {
      "cell_type": "markdown",
      "source": [
        "## Download pre-trained model, inference script, and packaged conda evnironment to ***scriptInstallDir***\n"
      ],
      "metadata": {
        "id": "FC5pCpVa65lK"
      }
    },
    {
      "cell_type": "code",
      "source": [
        "%%capture\n",
        "\n",
        "# Download model installer\n",
        "os.chdir(workDir)\n",
        "!git clone https://github.com/cerr/model_installer.git\n",
        "os.chdir(os.path.join(workDir,'model_installer'))\n",
        "\n",
        "# Install CT HN OAR model\n",
        "!./installer.sh\n",
        "modelOpt = '6'  # CT_HeadAndNeck_OARs\n",
        "pythonOpt = 'C' # Download packaged Conda environment\n",
        "\n",
        "! source ./installer.sh -m {modelOpt} -d {workDir} -p {pythonOpt}"
      ],
      "metadata": {
        "id": "32VHeXVxTmt6"
      },
      "execution_count": null,
      "outputs": []
    },
    {
      "cell_type": "code",
      "source": [
        "# Location of inference script\n",
        "scriptInstallDir = os.path.join(workDir, 'CT_HeadAndNeck_OARs')\n",
        "scriptPath = os.path.join(scriptInstallDir,\n",
        "                         'model_wrapper',\n",
        "                         'run_inference_nii.py')\n",
        "\n",
        "# Location of Conda archive\n",
        "condaEnvPath = os.path.join(scriptInstallDir, 'conda-pack')\n",
        "\n",
        "# Location of activation script for Conda environment\n",
        "activateScript = os.path.join(condaEnvPath,'bin','activate')"
      ],
      "metadata": {
        "id": "xuDuWRX9T1Co"
      },
      "execution_count": null,
      "outputs": []
    },
    {
      "cell_type": "markdown",
      "metadata": {
        "id": "DsKXYI-dsgcK"
      },
      "source": [
        "## Install ***pyCERR***\n",
        "\n",
        "pyCERR is used for data import/export and pre- and post-processing transformations needed for this model."
      ]
    },
    {
      "cell_type": "code",
      "execution_count": null,
      "metadata": {
        "id": "XRGzE5J7sgcL"
      },
      "outputs": [],
      "source": [
        "%%capture\n",
        "!pip install \"pyCERR[napari] @ git+https://github.com/cerr/pyCERR.git@testing\""
      ]
    },
    {
      "cell_type": "markdown",
      "metadata": {
        "id": "sfcIIiLQsgcM"
      },
      "source": [
        "# Data processing"
      ]
    },
    {
      "cell_type": "markdown",
      "metadata": {
        "id": "rSxnA1zSHTS_"
      },
      "source": [
        "## Pre-processing\n",
        "\n",
        "### `processInputData`: Identify input scan, resample in-plane to 1mm x 1mm. Next,  crop to patient outline and resize the resulting region in-plane by to 256 x 256 voxels by padding with zeros"
      ]
    },
    {
      "cell_type": "code",
      "execution_count": null,
      "metadata": {
        "id": "HfJd7nySHUJJ"
      },
      "outputs": [],
      "source": [
        "import numpy as np\n",
        "\n",
        "import cerr\n",
        "from cerr import plan_container as pc\n",
        "from cerr.utils.ai_pipeline import getScanNumFromIdentifier\n",
        "from cerr.dataclasses import scan\n",
        "from cerr.radiomics.preprocess import getResampledGrid, imgResample3D\n",
        "from cerr.utils.mask import computeBoundingBox, getPatientOutline\n",
        "from cerr.utils.image_proc import resizeScanAndMask\n",
        "\n",
        "def processInputData(planC):\n",
        "\n",
        "  # Processing parameters\n",
        "  identifier = {'imageType':'CT SCAN'}\n",
        "  gridType = 'center'\n",
        "  resampMethod = 'sitkBSpline'\n",
        "  outputResV = [0.1, 0.1, 0]  #Output res: 1mm x 1mm in-plane\n",
        "  resizeMethod = 'pad2d'\n",
        "  outSizeV = [256,256]\n",
        "  inputMask3M = None\n",
        "  intensityThreshold = -400   #Air intensity for outline detection\n",
        "\n",
        "  #--------------------------------------------------\n",
        "  #          Extract input scan\n",
        "  #---------------------------------------------------\n",
        "  # Get scan array\n",
        "  scanNum = getScanNumFromIdentifier(identifier, planC)[0]\n",
        "  xValsV, yValsV, zValsV = planC.scan[scanNum].getScanXYZVals()\n",
        "  scan3M = planC.scan[scanNum].getScanArray()\n",
        "\n",
        "  #--------------------------------------------------\n",
        "  #          Process input scan\n",
        "  #---------------------------------------------------\n",
        "  # 1. Resample\n",
        "  [xResampleV,yResampleV,zResampleV] = getResampledGrid(outputResV,\n",
        "                                                        xValsV, yValsV, zValsV,\\\n",
        "                                                        gridType)\n",
        "  resampScan3M = imgResample3D(scan3M,\n",
        "                               xValsV, yValsV, zValsV,\\\n",
        "                               xResampleV, yResampleV, zResampleV,\\\n",
        "                               resampMethod, inPlane=True)\n",
        "  resampleGridS = [xResampleV, yResampleV, zResampleV]\n",
        "\n",
        "  # 2. Extract patient outline\n",
        "  outlineStructName = 'outline'\n",
        "  outline3M = getPatientOutline(resampScan3M, intensityThreshold)\n",
        "  resampSizeV = outline3M.shape\n",
        "  planC = pc.importStructureMask(outline3M, scanNum,\n",
        "                                 outlineStructName, planC, None)\n",
        "\n",
        "\n",
        "  # 3. Crop to patient outline on each slice\n",
        "  sumSlices = np.sum(outline3M, axis=(0, 1))\n",
        "  slcV = np.where(sumSlices > 0)[0]\n",
        "  numSlcs = len(slcV)\n",
        "  limitsM = np.zeros((numSlcs,4))\n",
        "\n",
        "  for slc in range(numSlcs):\n",
        "    minr, maxr, minc, maxc, _, _, _ = computeBoundingBox(\\\n",
        "                                               outline3M[:,:,slcV[slc]],\n",
        "                                               is2DFlag=True)\n",
        "    limitsM[slc,:] = [minr, maxr, minc, maxc]\n",
        "\n",
        "  # 4. Resize to 256 x 256 in-plane\n",
        "  resampSlc3M = resampScan3M[:,:,slcV]\n",
        "  slcGridS = (resampleGridS[0], resampleGridS[1], resampleGridS[2][slcV])\n",
        "  procScan3M, maskOut4M, resizeGridS = resizeScanAndMask(resampSlc3M,\n",
        "                                                         inputMask3M,\n",
        "                                                         slcGridS,\n",
        "                                                         outSizeV,\n",
        "                                                         resizeMethod,\n",
        "                                                         limitsM=limitsM)\n",
        "\n",
        "  return scanNum, procScan3M, resizeGridS, limitsM"
      ]
    },
    {
      "cell_type": "markdown",
      "metadata": {
        "id": "C1KHjP1LsgcO"
      },
      "source": [
        "\n",
        "## Post-processing\n",
        "\n",
        "### `postProcAndImportSeg`: Import label maps to planC and filter to retain only largest connected component."
      ]
    },
    {
      "cell_type": "code",
      "execution_count": null,
      "metadata": {
        "id": "FtPOzqWQsgcP"
      },
      "outputs": [],
      "source": [
        "# Map output labels to structure names\n",
        "strToLabelMap = {1:\"Left Parotid\", 2:\"Right Parotid\", 3:\"Left Submandibular\",\\\n",
        "                 4:\"Right Submandibular\", 7:\"Mandible\", 8:\"Spinal cord\",\\\n",
        "                 9:\"Brain stem\", 10:\"Oral cavity\"}\n",
        "outputStrLabels = list(strToLabelMap.keys())\n",
        "outputStrNames = list(strToLabelMap.values())"
      ]
    },
    {
      "cell_type": "code",
      "execution_count": null,
      "metadata": {
        "id": "W_GjRVWtsgcP"
      },
      "outputs": [],
      "source": [
        "#Import label map to CERR\n",
        "import glob\n",
        "import SimpleITK as sitk\n",
        "from cerr.dataclasses import structure\n",
        "from cerr.contour import rasterseg as rs\n",
        "\n",
        "def postProcAndImportSeg(outputDir, procScanNum, origScanNum,\n",
        "                         inputGridS, limitsM, planC):\n",
        "\n",
        "  numStrOrig = len(planC.structure)\n",
        "\n",
        "  #--------------------------------------------------\n",
        "  #              Read AI-generated mask\n",
        "  #---------------------------------------------------\n",
        "  niiGlob = glob.glob(os.path.join(outputDir,'*.nii.gz'))\n",
        "  print('Importing ' + niiGlob[0]+'...')\n",
        "  outputMask4M = sitk.ReadImage(os.path.join(outputDir,niiGlob[0]))\n",
        "  outputMask4M = np.moveaxis(sitk.GetArrayFromImage(outputMask4M),0,2)\n",
        "\n",
        "  #--------------------------------------------------\n",
        "  #      Undo pre-processing transformations\n",
        "  #---------------------------------------------------\n",
        "  #1. Undo padding\n",
        "  outputScan3M = None\n",
        "  method = 'unpad2d'\n",
        "  resizedDimsV = [256, 256]\n",
        "  _, unPadMask4M, unPadGridS = resizeScanAndMask(outputScan3M,\n",
        "                                                outputMask4M,\n",
        "                                                inputGridS,\n",
        "                                                resizedDimsV,\n",
        "                                                method,\n",
        "                                                limitsM=limitsM)\n",
        "\n",
        "  #2. Pad slices\n",
        "  outlineStructName = 'outline'\n",
        "  structList = [struct.structureName for struct in planC.structure]\n",
        "  outlineIdx = structList.index(outlineStructName)\n",
        "  outline3M = rs.getStrMask(outlineIdx, planC)\n",
        "  sumSlices = np.sum(outline3M, axis=(0, 1))\n",
        "  slcV = np.where(sumSlices > 0)[0]\n",
        "  outline3M.shape[0],outline3M.shape[1],\n",
        "  resampMask4M = np.full(outline3M.shape, 0)\n",
        "  resampMask4M[:,:,slcV] = unPadMask4M\n",
        "\n",
        "\n",
        "\n",
        "  # Extract binary masks and retain largest connected component\n",
        "  numComponents = 1\n",
        "  replaceStrNum = None\n",
        "  procStrV = []\n",
        "  # Loop over labels\n",
        "  for labelIdx in range(len(strToLabelMap)):\n",
        "\n",
        "    # Import mask to planC\n",
        "    strName = outputStrNames[labelIdx]\n",
        "    maskIdx = outputStrLabels[labelIdx]-1\n",
        "    outputMask = labelMap[:, :, :, maskIdx]\n",
        "    planC = pc.importStructureMask(outputMask, procScanNum, strName,\n",
        "                                   planC, replaceStrNum)\n",
        "    procStr = len(planC.structure)-1\n",
        "    procStrV.append(procStr)\n",
        "\n",
        "    # Copy to original scan\n",
        "    planC = structure.copyToScan(procStr, origScanNum, planC)\n",
        "    scanStr = len(planC.structure) - 1\n",
        "\n",
        "    # Post-process and replace input structure in planC\n",
        "    procMask3M = structure.getLargestConnComps(scanStr, numComponents,\n",
        "                                               planC, saveFlag=True,\n",
        "                                               replaceFlag=True,\n",
        "                                               procSructName=strName)\n",
        "    del planC.structure[procStr]\n",
        "\n",
        "\n",
        "  return planC, procStrV"
      ]
    },
    {
      "cell_type": "markdown",
      "metadata": {
        "id": "zj7t-J4isgcQ"
      },
      "source": [
        "# Segment OARs"
      ]
    },
    {
      "cell_type": "markdown",
      "metadata": {
        "id": "_XVVLPjBkYI0"
      },
      "source": [
        "## Apply AI model  to all MR scans\n",
        "\n",
        "### located in ***inputDicomPath*** and store auto-segmentation results to ***outputDicomPath***"
      ]
    },
    {
      "cell_type": "code",
      "execution_count": null,
      "metadata": {
        "id": "WCuUi5D6sgcS"
      },
      "outputs": [],
      "source": [
        "%%capture\n",
        "import subprocess\n",
        "import numpy as np\n",
        "\n",
        "from cerr.dataclasses import scan as cerrScn\n",
        "from cerr.dcm_export import rtstruct_iod\n",
        "from cerr.utils.ai_pipeline import createSessionDir\n",
        "\n",
        "\n",
        "# Loop over DICOM directories\n",
        "fileList = os.listdir(inputDicomPath)\n",
        "numFiles = len(fileList)\n",
        "modality = 'CT'\n",
        "\n",
        "for iFile in range(numFiles):\n",
        "\n",
        "    inputFilename = fileList[iFile]\n",
        "    dcmDir = os.path.join(inputDicomPath, inputFilename)\n",
        "\n",
        "    # Create session dir to store temporary data\n",
        "    modInputPath, modOutputPath = createSessionDir(sessionPath,\n",
        "                                                   inputDicomPath)\n",
        "\n",
        "    # Import DICOM scan to planC\n",
        "    planC = pc.loadDcmDir(dcmDir)\n",
        "    scanNum, procScan3M, resizeGridS, limitsM = processInputData(planC)\n",
        "    numExistingStructs = len(planC.structure)\n",
        "\n",
        "    # Export inputs to NIfTI\n",
        "    scanFilename = os.path.join(modInputPath,\n",
        "                                f\"{inputFilename}_scan_3D.nii.gz\")\n",
        "    planC = pc.importScanArray(procScan3M,\n",
        "                               resizeGridS[0], resizeGridS[1], resizeGridS[2],\\\n",
        "                               modality, scanNum, planC)\n",
        "    procScanNum = len(planC.scan) - 1\n",
        "    planC.scan[procScanNum].saveNii(scanFilename)\n",
        "\n",
        "    # Apply model\n",
        "    subprocess.run(f\"source {activateScript} && python {scriptPath} \\\n",
        "                  {modInputPath} {modOutputPath}\", \\\n",
        "                  capture_output=False, shell=True, executable=\"/bin/bash\")\n",
        "\n",
        "    # Import results to planC\n",
        "    planC, procStrV = postProcAndImportSeg(modOutputPath, procScanNum,\n",
        "                                           scanNum, resizeGridS, planC)\n",
        "\n",
        "    newNumStructs = len(planC.structure)\n",
        "\n",
        "    # Export segmentations to DICOM\n",
        "    structFileName = inputFilename + '_AI_seg.dcm'\n",
        "    structFilePath = os.path.join(outputDicomPath, structFileName)\n",
        "    seriesDescription = \"AI Generated\"\n",
        "    exportOpts = {'seriesDescription': seriesDescription}\n",
        "\n",
        "    structNumV = np.arange(numExistingStructs, newNumStructs)\n",
        "    indOrigV = np.array([cerrScn.getScanNumFromUID(planC.structure[structNum].assocScanUID,\\\n",
        "                        planC) for structNum in structNumV], dtype=int)\n",
        "    structsToExportV = structNumV[indOrigV == scanNum]\n",
        "    rtstruct_iod.create(structsToExportV, structFilePath, planC, exportOpts)"
      ]
    },
    {
      "cell_type": "markdown",
      "metadata": {
        "id": "Kugws3KBl4MK"
      },
      "source": [
        "## **Optional**: Uncomment the following to download the output segmentations to your workspace bucket."
      ]
    },
    {
      "cell_type": "code",
      "execution_count": null,
      "metadata": {
        "id": "_nkTBkijl23J"
      },
      "outputs": [],
      "source": [
        "# workspaceBucket = os.environ['WORKSPACE_BUCKET']\n",
        "# !gcloud storage cp -r {outputDicomPath} {workspaceBucket}"
      ]
    },
    {
      "cell_type": "markdown",
      "metadata": {
        "id": "iLzFp-l_sgcT"
      },
      "source": [
        "# Display results"
      ]
    },
    {
      "cell_type": "markdown",
      "metadata": {
        "id": "L8FTwNqhsgcT"
      },
      "source": [
        "## Overlay AI segmentations on scan for visualization using ***Matplotlib***\n",
        "\n",
        "Note: This example displays the last segmented dataset by default.    \n",
        "Load the appropriate pyCERR archive to `planC` to view results for desired dataset."
      ]
    },
    {
      "cell_type": "code",
      "source": [
        "from cerr.viewer import showMplNb\n",
        "\n",
        "showMplNb(planC=planC, scan_nums=procScanNum,\n",
        "          struct_nums=procStrV,\n",
        "          windowCenter=50, windowWidth=450)"
      ],
      "metadata": {
        "colab": {
          "base_uri": "https://localhost:8080/",
          "height": 531,
          "referenced_widgets": [
            "9939451fd8a64433a2bf16b45bbddb5f",
            "b8361188566a4522b74acea79c7d8157",
            "2521c9325e42410cb50a5283fedcc737",
            "8b93cddb2b964e06b15b95ec0e5c5cba",
            "08c9f8d86a91408cabdf4b15cd6beba9",
            "93f4426694df4196ace35bae01848a40",
            "7be4349618cd4382a47373bf05400130",
            "e9788026cd5a4d27b60a91ec38cf363f",
            "546542b0108641a5a1157dd040c5c70e",
            "05caeaa05e304c3a86d2847d5ab51a26",
            "57d7500383254d1aaff76a205ee94b8f",
            "a49c4c030a5548138a1c9c4773403219",
            "c110ca125d0d44cfaba1734ac54a01e6"
          ]
        },
        "id": "d9JsEf1SQNcr",
        "outputId": "a0c1a284-25d7-45b1-a141-edab57521742"
      },
      "execution_count": null,
      "outputs": [
        {
          "output_type": "display_data",
          "data": {
            "text/plain": [
              "HBox(children=(Dropdown(description='view', options=('Axial', 'Sagittal', 'Coronal'), value='Axial'), IntSlide…"
            ],
            "application/vnd.jupyter.widget-view+json": {
              "version_major": 2,
              "version_minor": 0,
              "model_id": "9939451fd8a64433a2bf16b45bbddb5f"
            }
          },
          "metadata": {}
        },
        {
          "output_type": "display_data",
          "data": {
            "text/plain": [
              "Output()"
            ],
            "application/vnd.jupyter.widget-view+json": {
              "version_major": 2,
              "version_minor": 0,
              "model_id": "a49c4c030a5548138a1c9c4773403219"
            }
          },
          "metadata": {}
        }
      ]
    }
  ],
  "metadata": {
    "colab": {
      "provenance": []
    },
    "kernelspec": {
      "display_name": "Python 3",
      "name": "python3"
    },
    "language_info": {
      "codemirror_mode": {
        "name": "ipython",
        "version": 3
      },
      "file_extension": ".py",
      "mimetype": "text/x-python",
      "name": "python",
      "nbconvert_exporter": "python",
      "pygments_lexer": "ipython3",
      "version": "3.11.9"
    },
    "toc": {
      "base_numbering": 1,
      "nav_menu": {},
      "number_sections": true,
      "sideBar": true,
      "skip_h1_title": false,
      "title_cell": "Table of Contents",
      "title_sidebar": "Contents",
      "toc_cell": false,
      "toc_position": {},
      "toc_section_display": true,
      "toc_window_display": false
    },
    "widgets": {
      "application/vnd.jupyter.widget-state+json": {
        "9939451fd8a64433a2bf16b45bbddb5f": {
          "model_module": "@jupyter-widgets/controls",
          "model_name": "HBoxModel",
          "model_module_version": "1.5.0",
          "state": {
            "_dom_classes": [],
            "_model_module": "@jupyter-widgets/controls",
            "_model_module_version": "1.5.0",
            "_model_name": "HBoxModel",
            "_view_count": null,
            "_view_module": "@jupyter-widgets/controls",
            "_view_module_version": "1.5.0",
            "_view_name": "HBoxView",
            "box_style": "",
            "children": [
              "IPY_MODEL_b8361188566a4522b74acea79c7d8157",
              "IPY_MODEL_2521c9325e42410cb50a5283fedcc737",
              "IPY_MODEL_8b93cddb2b964e06b15b95ec0e5c5cba"
            ],
            "layout": "IPY_MODEL_08c9f8d86a91408cabdf4b15cd6beba9"
          }
        },
        "b8361188566a4522b74acea79c7d8157": {
          "model_module": "@jupyter-widgets/controls",
          "model_name": "DropdownModel",
          "model_module_version": "1.5.0",
          "state": {
            "_dom_classes": [],
            "_model_module": "@jupyter-widgets/controls",
            "_model_module_version": "1.5.0",
            "_model_name": "DropdownModel",
            "_options_labels": [
              "Axial",
              "Sagittal",
              "Coronal"
            ],
            "_view_count": null,
            "_view_module": "@jupyter-widgets/controls",
            "_view_module_version": "1.5.0",
            "_view_name": "DropdownView",
            "description": "view",
            "description_tooltip": null,
            "disabled": false,
            "index": 0,
            "layout": "IPY_MODEL_93f4426694df4196ace35bae01848a40",
            "style": "IPY_MODEL_7be4349618cd4382a47373bf05400130"
          }
        },
        "2521c9325e42410cb50a5283fedcc737": {
          "model_module": "@jupyter-widgets/controls",
          "model_name": "IntSliderModel",
          "model_module_version": "1.5.0",
          "state": {
            "_dom_classes": [],
            "_model_module": "@jupyter-widgets/controls",
            "_model_module_version": "1.5.0",
            "_model_name": "IntSliderModel",
            "_view_count": null,
            "_view_module": "@jupyter-widgets/controls",
            "_view_module_version": "1.5.0",
            "_view_name": "IntSliderView",
            "continuous_update": true,
            "description": "slcNum",
            "description_tooltip": null,
            "disabled": false,
            "layout": "IPY_MODEL_e9788026cd5a4d27b60a91ec38cf363f",
            "max": 89,
            "min": 1,
            "orientation": "horizontal",
            "readout": true,
            "readout_format": "d",
            "step": 1,
            "style": "IPY_MODEL_546542b0108641a5a1157dd040c5c70e",
            "value": 44
          }
        },
        "8b93cddb2b964e06b15b95ec0e5c5cba": {
          "model_module": "@jupyter-widgets/controls",
          "model_name": "FloatSliderModel",
          "model_module_version": "1.5.0",
          "state": {
            "_dom_classes": [],
            "_model_module": "@jupyter-widgets/controls",
            "_model_module_version": "1.5.0",
            "_model_name": "FloatSliderModel",
            "_view_count": null,
            "_view_module": "@jupyter-widgets/controls",
            "_view_module_version": "1.5.0",
            "_view_name": "FloatSliderView",
            "continuous_update": true,
            "description": "doseAlpha",
            "description_tooltip": null,
            "disabled": false,
            "layout": "IPY_MODEL_05caeaa05e304c3a86d2847d5ab51a26",
            "max": 1,
            "min": 0,
            "orientation": "horizontal",
            "readout": true,
            "readout_format": ".2f",
            "step": 0.02,
            "style": "IPY_MODEL_57d7500383254d1aaff76a205ee94b8f",
            "value": 0.5
          }
        },
        "08c9f8d86a91408cabdf4b15cd6beba9": {
          "model_module": "@jupyter-widgets/base",
          "model_name": "LayoutModel",
          "model_module_version": "1.2.0",
          "state": {
            "_model_module": "@jupyter-widgets/base",
            "_model_module_version": "1.2.0",
            "_model_name": "LayoutModel",
            "_view_count": null,
            "_view_module": "@jupyter-widgets/base",
            "_view_module_version": "1.2.0",
            "_view_name": "LayoutView",
            "align_content": null,
            "align_items": null,
            "align_self": null,
            "border": null,
            "bottom": null,
            "display": null,
            "flex": null,
            "flex_flow": null,
            "grid_area": null,
            "grid_auto_columns": null,
            "grid_auto_flow": null,
            "grid_auto_rows": null,
            "grid_column": null,
            "grid_gap": null,
            "grid_row": null,
            "grid_template_areas": null,
            "grid_template_columns": null,
            "grid_template_rows": null,
            "height": null,
            "justify_content": null,
            "justify_items": null,
            "left": null,
            "margin": null,
            "max_height": null,
            "max_width": null,
            "min_height": null,
            "min_width": null,
            "object_fit": null,
            "object_position": null,
            "order": null,
            "overflow": null,
            "overflow_x": null,
            "overflow_y": null,
            "padding": null,
            "right": null,
            "top": null,
            "visibility": null,
            "width": null
          }
        },
        "93f4426694df4196ace35bae01848a40": {
          "model_module": "@jupyter-widgets/base",
          "model_name": "LayoutModel",
          "model_module_version": "1.2.0",
          "state": {
            "_model_module": "@jupyter-widgets/base",
            "_model_module_version": "1.2.0",
            "_model_name": "LayoutModel",
            "_view_count": null,
            "_view_module": "@jupyter-widgets/base",
            "_view_module_version": "1.2.0",
            "_view_name": "LayoutView",
            "align_content": null,
            "align_items": null,
            "align_self": null,
            "border": null,
            "bottom": null,
            "display": null,
            "flex": null,
            "flex_flow": null,
            "grid_area": null,
            "grid_auto_columns": null,
            "grid_auto_flow": null,
            "grid_auto_rows": null,
            "grid_column": null,
            "grid_gap": null,
            "grid_row": null,
            "grid_template_areas": null,
            "grid_template_columns": null,
            "grid_template_rows": null,
            "height": null,
            "justify_content": null,
            "justify_items": null,
            "left": null,
            "margin": null,
            "max_height": null,
            "max_width": null,
            "min_height": null,
            "min_width": null,
            "object_fit": null,
            "object_position": null,
            "order": null,
            "overflow": null,
            "overflow_x": null,
            "overflow_y": null,
            "padding": null,
            "right": null,
            "top": null,
            "visibility": null,
            "width": null
          }
        },
        "7be4349618cd4382a47373bf05400130": {
          "model_module": "@jupyter-widgets/controls",
          "model_name": "DescriptionStyleModel",
          "model_module_version": "1.5.0",
          "state": {
            "_model_module": "@jupyter-widgets/controls",
            "_model_module_version": "1.5.0",
            "_model_name": "DescriptionStyleModel",
            "_view_count": null,
            "_view_module": "@jupyter-widgets/base",
            "_view_module_version": "1.2.0",
            "_view_name": "StyleView",
            "description_width": ""
          }
        },
        "e9788026cd5a4d27b60a91ec38cf363f": {
          "model_module": "@jupyter-widgets/base",
          "model_name": "LayoutModel",
          "model_module_version": "1.2.0",
          "state": {
            "_model_module": "@jupyter-widgets/base",
            "_model_module_version": "1.2.0",
            "_model_name": "LayoutModel",
            "_view_count": null,
            "_view_module": "@jupyter-widgets/base",
            "_view_module_version": "1.2.0",
            "_view_name": "LayoutView",
            "align_content": null,
            "align_items": null,
            "align_self": null,
            "border": null,
            "bottom": null,
            "display": null,
            "flex": null,
            "flex_flow": null,
            "grid_area": null,
            "grid_auto_columns": null,
            "grid_auto_flow": null,
            "grid_auto_rows": null,
            "grid_column": null,
            "grid_gap": null,
            "grid_row": null,
            "grid_template_areas": null,
            "grid_template_columns": null,
            "grid_template_rows": null,
            "height": null,
            "justify_content": null,
            "justify_items": null,
            "left": null,
            "margin": null,
            "max_height": null,
            "max_width": null,
            "min_height": null,
            "min_width": null,
            "object_fit": null,
            "object_position": null,
            "order": null,
            "overflow": null,
            "overflow_x": null,
            "overflow_y": null,
            "padding": null,
            "right": null,
            "top": null,
            "visibility": null,
            "width": null
          }
        },
        "546542b0108641a5a1157dd040c5c70e": {
          "model_module": "@jupyter-widgets/controls",
          "model_name": "SliderStyleModel",
          "model_module_version": "1.5.0",
          "state": {
            "_model_module": "@jupyter-widgets/controls",
            "_model_module_version": "1.5.0",
            "_model_name": "SliderStyleModel",
            "_view_count": null,
            "_view_module": "@jupyter-widgets/base",
            "_view_module_version": "1.2.0",
            "_view_name": "StyleView",
            "description_width": "",
            "handle_color": null
          }
        },
        "05caeaa05e304c3a86d2847d5ab51a26": {
          "model_module": "@jupyter-widgets/base",
          "model_name": "LayoutModel",
          "model_module_version": "1.2.0",
          "state": {
            "_model_module": "@jupyter-widgets/base",
            "_model_module_version": "1.2.0",
            "_model_name": "LayoutModel",
            "_view_count": null,
            "_view_module": "@jupyter-widgets/base",
            "_view_module_version": "1.2.0",
            "_view_name": "LayoutView",
            "align_content": null,
            "align_items": null,
            "align_self": null,
            "border": null,
            "bottom": null,
            "display": null,
            "flex": null,
            "flex_flow": null,
            "grid_area": null,
            "grid_auto_columns": null,
            "grid_auto_flow": null,
            "grid_auto_rows": null,
            "grid_column": null,
            "grid_gap": null,
            "grid_row": null,
            "grid_template_areas": null,
            "grid_template_columns": null,
            "grid_template_rows": null,
            "height": null,
            "justify_content": null,
            "justify_items": null,
            "left": null,
            "margin": null,
            "max_height": null,
            "max_width": null,
            "min_height": null,
            "min_width": null,
            "object_fit": null,
            "object_position": null,
            "order": null,
            "overflow": null,
            "overflow_x": null,
            "overflow_y": null,
            "padding": null,
            "right": null,
            "top": null,
            "visibility": null,
            "width": null
          }
        },
        "57d7500383254d1aaff76a205ee94b8f": {
          "model_module": "@jupyter-widgets/controls",
          "model_name": "SliderStyleModel",
          "model_module_version": "1.5.0",
          "state": {
            "_model_module": "@jupyter-widgets/controls",
            "_model_module_version": "1.5.0",
            "_model_name": "SliderStyleModel",
            "_view_count": null,
            "_view_module": "@jupyter-widgets/base",
            "_view_module_version": "1.2.0",
            "_view_name": "StyleView",
            "description_width": "",
            "handle_color": null
          }
        },
        "a49c4c030a5548138a1c9c4773403219": {
          "model_module": "@jupyter-widgets/output",
          "model_name": "OutputModel",
          "model_module_version": "1.0.0",
          "state": {
            "_dom_classes": [],
            "_model_module": "@jupyter-widgets/output",
            "_model_module_version": "1.0.0",
            "_model_name": "OutputModel",
            "_view_count": null,
            "_view_module": "@jupyter-widgets/output",
            "_view_module_version": "1.0.0",
            "_view_name": "OutputView",
            "layout": "IPY_MODEL_c110ca125d0d44cfaba1734ac54a01e6",
            "msg_id": "",
            "outputs": [
              {
                "output_type": "display_data",
                "data": {
                  "text/plain": "<Figure size 600x600 with 1 Axes>",
                  "image/png": "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\n"
                },
                "metadata": {}
              }
            ]
          }
        },
        "c110ca125d0d44cfaba1734ac54a01e6": {
          "model_module": "@jupyter-widgets/base",
          "model_name": "LayoutModel",
          "model_module_version": "1.2.0",
          "state": {
            "_model_module": "@jupyter-widgets/base",
            "_model_module_version": "1.2.0",
            "_model_name": "LayoutModel",
            "_view_count": null,
            "_view_module": "@jupyter-widgets/base",
            "_view_module_version": "1.2.0",
            "_view_name": "LayoutView",
            "align_content": null,
            "align_items": null,
            "align_self": null,
            "border": null,
            "bottom": null,
            "display": null,
            "flex": null,
            "flex_flow": null,
            "grid_area": null,
            "grid_auto_columns": null,
            "grid_auto_flow": null,
            "grid_auto_rows": null,
            "grid_column": null,
            "grid_gap": null,
            "grid_row": null,
            "grid_template_areas": null,
            "grid_template_columns": null,
            "grid_template_rows": null,
            "height": null,
            "justify_content": null,
            "justify_items": null,
            "left": null,
            "margin": null,
            "max_height": null,
            "max_width": null,
            "min_height": null,
            "min_width": null,
            "object_fit": null,
            "object_position": null,
            "order": null,
            "overflow": null,
            "overflow_x": null,
            "overflow_y": null,
            "padding": null,
            "right": null,
            "top": null,
            "visibility": null,
            "width": null
          }
        }
      }
    }
  },
  "nbformat": 4,
  "nbformat_minor": 0
}
