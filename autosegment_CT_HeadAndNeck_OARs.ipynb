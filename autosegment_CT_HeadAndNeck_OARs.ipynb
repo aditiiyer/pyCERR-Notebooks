{
  "cells": [
   {
        "cell_type": "markdown",
        "metadata": {
          "id": "view-in-github"
        },
        "source": [
          "<a href=\"https://colab.research.google.com/github/cerr/pycerr-notebooks/blob/main/autosegment_CT_HeadAndNeck_OARs.ipynb\" target=\"_parent\"><img src=\"https://colab.research.google.com/assets/colab-badge.svg\" alt=\"Open In Colab\"/></a>"
        ]
    },
    {
      "cell_type": "markdown",
      "metadata": {
        "id": "kNoydh-RsgcD"
      },
      "source": [
        "# Introduction\n",
        "\n",
        "In this tutorial, we will demonstrate how to apply a pre-trained AI model to segment the OARs on head and neck CT scans.\n",
        "\n",
        "## Requirements\n",
        "* Python>=3.7\n",
        "* This model can be run on a CPU.   \n",
        "  To use a GPU on Colab:  Select `Runtime` > `Change runtime type > Select GPU `\n",
        "* Data I/O, pre- and post-processing are performed using [***pyCERR***](https://github.com/cerr/pyCERR) .\n",
        "\n",
        "## I/O\n",
        "* **Input**: DICOM-format CT scan(s) of the prostate.  \n",
        "  \n",
        "* **Output**: DICOM RTStruct-format segmentations.  \n",
        "  \n",
        "  \n",
        "  Input data should be organized as: one directory of DICOM images per patient.      \n",
        "  \n",
        "    \n",
        "    Input dir\n",
        "            |------Pat1  \n",
        "                      |------img1.dcm  \n",
        "                             img2.dcm  \n",
        "                             ....  \n",
        "                             ....  \n",
        "            |-----Pat2  \n",
        "                     |------img1.dcm  \n",
        "                            img2.dcm  \n",
        "                            ....  \n",
        "                            ....  \n",
        "\n",
        "\n",
        "## AI model\n",
        "* The segmentation model used here was trained and validated on CT scans used for RT planning. Its performance on diagnostic scans is expected to be sub-optimal.\n",
        "* The trained model is packaged as a Conda environment archive containing  python libraries and other dependencies.\n",
        "\n",
        "### Installing the model and its dependencies\n",
        "\n",
        "* Installation is performed using CERR's [***model installer***]( https://github.com/cerr/model_installer).  \n",
        "\n",
        "* A Conda archive containing dependencies is downloaded to the `conda-pack`   \n",
        "  sub-directory of a configurable `scriptInstallDir`.  \n",
        "  By default `condaEnvPath = '/content/CT_HeadAndNeck_SelfAttn/conda-pack'`\n",
        "  \n",
        "* The inference script is located at   \n",
        "  `scriptPath = os.path.join(condaEnvPath,'model_wrapper', run_inference_nii.py')`  \n",
        "\n",
        "### Running the model\n",
        "```python\n",
        "!python {scriptPath} {input_nii_directory} {output_nii_directory}\n",
        "```"
      ]
    },
    {
      "cell_type": "markdown",
      "metadata": {
        "id": "6GVYj7k5e97G"
      },
      "source": [
        "## License\n",
        "\n",
        "By downloading the software you are agreeing to the following terms and conditions as well as to the Terms of Use of CERR software.\n",
        "\n",
        "**`THE SOFTWARE IS PROVIDED \"AS IS\" AND CERR DEVELOPMENT TEAM AND ITS COLLABORATORS DO NOT MAKE ANY WARRANTY, EXPRESS OR IMPLIED, INCLUDING BUT NOT LIMITED TO WARRANTIES OF MERCHANTABILITY AND FITNESS FOR A PARTICULAR PURPOSE, NOR DO THEY ASSUME ANY LIABILITY OR RESPONSIBILITY FOR THE USE OF THIS SOFTWARE.`**\n",
        "\n",
        "`This software is for research purposes only and has not been approved for clinical use.`\n",
        "\n",
        "`Software has not been reviewed or approved by the Food and Drug Administration, and is for non-clinical, IRB-approved Research Use Only. In no event shall data or images generated through the use of the Software be used in the provision of patient care.`\n",
        "  \n",
        "`YOU MAY NOT DISTRIBUTE COPIES of this software, or copies of software derived from this software, to others outside your organization without specific prior written permission from the CERR development team except where noted for specific software products.`\n",
        "\n",
        "`All Technology and technical data delivered under this Agreement are subject to US export control laws and may be subject to export or import regulations in other countries. You agree to comply strictly with all such laws and regulations and acknowledge that you have the responsibility to obtain\n",
        "such licenses to export, re-export, or import as may be required after delivery to you.`\n",
        "\n",
        "**`You may publish papers and books using results produced using software provided you cite the following`**:\n",
        "  \n",
        "  * **AI model**: https://doi.org/10.48550/arXiv.1909.05054\n",
        "  * **CERR model library**: https://doi.org/10.1016/j.ejmp.2020.04.011\n",
        "\n"
      ]
    },
    {
      "cell_type": "markdown",
      "metadata": {
        "id": "35nEDWKTg5c1"
      },
      "source": [
        "# Downloads"
      ]
    },
    {
      "cell_type": "markdown",
      "metadata": {
        "id": "DsKXYI-dsgcK"
      },
      "source": [
        "### Install ***pyCERR***\n",
        "\n",
        "pyCERR handles data import/export, pre- and post-processing transformations for this auto-segmentation model."
      ]
    },
    {
      "cell_type": "code",
      "source": [
        "%%capture\n",
        "!pip install \"pyCERR[napari] @ git+https://github.com/cerr/pyCERR.git@testing\""
      ],
      "metadata": {
        "id": "mSoC0TDuiLjD"
      },
      "execution_count": null,
      "outputs": []
    },
    {
      "cell_type": "markdown",
      "metadata": {
        "id": "mP6FHznIg7Yd"
      },
      "source": [
        "\n",
        "## Prepare planning CTs (DICOM)"
      ]
    },
    {
      "cell_type": "code",
      "source": [
        "import os\n",
        "workDir = r'/content' # For Colab"
      ],
      "metadata": {
        "id": "FYaSj6fcqqxZ"
      },
      "execution_count": null,
      "outputs": []
    },
    {
      "cell_type": "markdown",
      "source": [
        " ### We will use the sample head & neck CT dataset distributed with pyCERR for this demo."
      ],
      "metadata": {
        "id": "jFRdE2wVp31M"
      }
    },
    {
      "cell_type": "code",
      "execution_count": null,
      "metadata": {
        "id": "CWaGs8LqhZTD"
      },
      "outputs": [],
      "source": [
        "inputDicomPath = '/usr/local/lib/python3.10/dist-packages/cerr/datasets/sample_ct/' #head_and_neck"
      ]
    },
    {
      "cell_type": "markdown",
      "source": [
        "### Alternatives\n",
        "\n",
        " Uncomment the following cell to download data from user-specified ***dataUrl*** to ***dataDownloadDir***.\n",
        "\n",
        "See also: [demo notebook](github.com/cerr/pyCERR-Notebooks/download_data_from_xnat.ipynb) for downloading data from XNAT."
      ],
      "metadata": {
        "id": "zB-PJ6IPTZRl"
      }
    },
    {
      "cell_type": "code",
      "execution_count": null,
      "metadata": {
        "id": "l2cIR2Swg_84"
      },
      "outputs": [],
      "source": [
        "# dataUrl = 'http://path.to/data'\n",
        "# dataDownloadDir = os.path.join(workDir, 'sampleData')\n",
        "# os.makedirs(dataDownloadDir, exist_ok=True)\n",
        "# ! wget -O sampleData.gz -L {dataUrl}\n",
        "# ! tar xf sampleData.gz -C {dataDownloadDir}\n",
        "# ! rm sampleData.gz\n",
        "\n",
        "# #Paths to input data\n",
        "# inputDicomPath = os.path.join(dataDownloadDir,'your_dir_name_here')  # Replace with apropriate path to your dataset"
      ]
    },
    {
      "cell_type": "markdown",
      "metadata": {
        "id": "VSvE1KsTj9do"
      },
      "source": [
        "### Define paths to input DICOM directory, desired output directory, and a session directory to store temporary files during model execution"
      ]
    },
    {
      "cell_type": "code",
      "execution_count": null,
      "metadata": {
        "id": "iHbUWoUEj1A2"
      },
      "outputs": [],
      "source": [
        "# Paths to conda env with pre-trained models\n",
        "outputDicomPath = os.path.join(workDir, 'AIoutput')\n",
        "sessionPath = os.path.join(workDir, 'temp')\n",
        "\n",
        "if not os.path.exists(outputDicomPath):\n",
        "  os.mkdir(outputDicomPath)\n",
        "\n",
        "if not os.path.exists(sessionPath):\n",
        "  os.mkdir(sessionPath)"
      ]
    },
    {
      "cell_type": "markdown",
      "source": [
        "## Download pre-trained model, inference script, and packaged conda evnironment to ***scriptInstallDir***\n"
      ],
      "metadata": {
        "id": "FC5pCpVa65lK"
      }
    },
    {
      "cell_type": "code",
      "source": [
        "%%capture\n",
        "\n",
        "# Download model installer\n",
        "os.chdir(workDir)\n",
        "!git clone https://github.com/cerr/model_installer.git\n",
        "os.chdir(os.path.join(workDir,'model_installer'))\n",
        "\n",
        "# Install CT HN OAR model\n",
        "!./installer.sh\n",
        "modelOpt = '6'  # CT_HeadAndNeck_OARs\n",
        "pythonOpt = 'C' # Download packaged Conda environment\n",
        "\n",
        "! source ./installer.sh -m {modelOpt} -d {workDir} -p {pythonOpt}"
      ],
      "metadata": {
        "id": "32VHeXVxTmt6"
      },
      "execution_count": null,
      "outputs": []
    },
    {
      "cell_type": "code",
      "source": [
        "# Location of inference script\n",
        "scriptInstallDir = os.path.join(workDir, 'CT_HeadAndNeck_OARs')\n",
        "scriptPath = os.path.join(scriptInstallDir,\n",
        "                         'model_wrapper',\n",
        "                         'run_inference_nii.py')\n",
        "\n",
        "# Location of Conda archive\n",
        "condaEnvPath = os.path.join(scriptInstallDir, 'conda-pack')\n",
        "\n",
        "# Location of activation script for Conda environment\n",
        "activateScript = os.path.join(condaEnvPath,'bin','activate')"
      ],
      "metadata": {
        "id": "xuDuWRX9T1Co"
      },
      "execution_count": null,
      "outputs": []
    },
    {
      "cell_type": "markdown",
      "metadata": {
        "id": "sfcIIiLQsgcM"
      },
      "source": [
        "# Data processing"
      ]
    },
    {
      "cell_type": "markdown",
      "metadata": {
        "id": "rSxnA1zSHTS_"
      },
      "source": [
        "## Pre-processing\n",
        "\n",
        "### `processInputData`: Identify input scan, resample in-plane to 1mm x 1mm. Next,  crop to patient outline and resize the resulting region in-plane by to 256 x 256 voxels by padding with zeros"
      ]
    },
    {
      "cell_type": "code",
      "execution_count": null,
      "metadata": {
        "id": "HfJd7nySHUJJ"
      },
      "outputs": [],
      "source": [
        "import numpy as np\n",
        "\n",
        "import cerr\n",
        "from cerr import plan_container as pc\n",
        "from cerr.utils.ai_pipeline import getScanNumFromIdentifier\n",
        "from cerr.dataclasses import scan\n",
        "from cerr.radiomics.preprocess import getResampledGrid, imgResample3D\n",
        "from cerr.utils.mask import computeBoundingBox, getPatientOutline\n",
        "from cerr.utils.image_proc import resizeScanAndMask\n",
        "\n",
        "def processInputData(planC):\n",
        "\n",
        "  # Processing parameters\n",
        "  modality = 'CT'\n",
        "  identifier = {'imageType':'CT SCAN'}\n",
        "\n",
        "  gridType = 'center'\n",
        "  resampMethod = 'sitkBSpline'\n",
        "  outputResV = [0.1, 0.1, 0]  #Output res: 1mm x 1mm in-plane\n",
        "\n",
        "  resizeMethod = 'pad2d'\n",
        "  outSizeV = [256,256]\n",
        "  inputMask3M = None\n",
        "\n",
        "  outlineStructName = 'outline'\n",
        "  intensityThreshold = -400   #Air intensity for outline detection\n",
        "\n",
        "  #--------------------------------------------------\n",
        "  #          Extract input scan\n",
        "  #---------------------------------------------------\n",
        "  # Get scan array\n",
        "  scanNum = getScanNumFromIdentifier(identifier, planC)[0]\n",
        "  xValsV, yValsV, zValsV = planC.scan[scanNum].getScanXYZVals()\n",
        "  scan3M = planC.scan[scanNum].getScanArray()\n",
        "\n",
        "  #--------------------------------------------------\n",
        "  #          Process input scan\n",
        "  #---------------------------------------------------\n",
        "  # 1. Resample\n",
        "  [xResampleV,yResampleV,zResampleV] = getResampledGrid(outputResV,\n",
        "                                                        xValsV, yValsV, zValsV,\\\n",
        "                                                        gridType)\n",
        "  resampScan3M = imgResample3D(scan3M,\n",
        "                               xValsV, yValsV, zValsV,\\\n",
        "                               xResampleV, yResampleV, zResampleV,\\\n",
        "                               resampMethod, inPlane=True)\n",
        "\n",
        "  resampleGridS = [xResampleV, yResampleV, zResampleV]\n",
        "  planC = pc.importScanArray(resampScan3M,\n",
        "                             resampleGridS[0], resampleGridS[1], resampleGridS[2],\\\n",
        "                             modality, scanNum, planC)\n",
        "  resampleScanNum = len(planC.scan) - 1\n",
        "\n",
        "  # 2. Extract patient outline\n",
        "  replaceStrNum = None\n",
        "  outline3M = getPatientOutline(resampScan3M, intensityThreshold)\n",
        "  resampSizeV = outline3M.shape\n",
        "  planC = pc.importStructureMask(outline3M, scanNum,\n",
        "                                 outlineStructName,\n",
        "                                 planC, replaceStrNum)\n",
        "\n",
        "  # 3. Crop to patient outline on each slice\n",
        "  sumSlices = np.sum(outline3M, axis=(0, 1))\n",
        "  validSlicesV = np.where(sumSlices > 0)[0]\n",
        "  numSlcs = len(validSlicesV)\n",
        "  limitsM = np.zeros((numSlcs,4))\n",
        "\n",
        "  for slc in range(numSlcs):\n",
        "    minr, maxr, minc, maxc, _, _, _ = computeBoundingBox(\\\n",
        "                                               outline3M[:,:,validSlicesV[slc]],\n",
        "                                               is2DFlag=True)\n",
        "    limitsM[slc,:] = [minr, maxr, minc, maxc]\n",
        "\n",
        "  # 4. Resize to 256 x 256 in-plane\n",
        "  resampSlc3M = resampScan3M[:,:,validSlicesV]\n",
        "  slcGridS = (resampleGridS[0], resampleGridS[1], resampleGridS[2][validSlicesV])\n",
        "  procScan3M, maskOut4M, resizeGridS = resizeScanAndMask(resampSlc3M,\n",
        "                                                         inputMask3M,\n",
        "                                                         slcGridS,\n",
        "                                                         outSizeV,\n",
        "                                                         resizeMethod,\n",
        "                                                         limitsM=limitsM)\n",
        "  planC = pc.importScanArray(procScan3M,\n",
        "                             resizeGridS[0], resizeGridS[1], resizeGridS[2],\\\n",
        "                             modality, scanNum, planC)\n",
        "  procScanNum = len(planC.scan) - 1\n",
        "\n",
        "  scanList = [scanNum, resampleScanNum, procScanNum]\n",
        "\n",
        "  return scanList, validSlicesV, resizeGridS, limitsM, planC"
      ]
    },
    {
      "cell_type": "markdown",
      "metadata": {
        "id": "C1KHjP1LsgcO"
      },
      "source": [
        "\n",
        "## Post-processing\n",
        "\n",
        "### `postProcAndImportSeg`: Import label maps to planC and filter to retain only largest connected component."
      ]
    },
    {
      "cell_type": "code",
      "execution_count": null,
      "metadata": {
        "id": "FtPOzqWQsgcP"
      },
      "outputs": [],
      "source": [
        "# Map output labels to structure names\n",
        "strToLabelMap = {1:\"Left Parotid\", 2:\"Right Parotid\", 3:\"Left Submandible\",\\\n",
        "                 4:\"Right Submandible\", 7:\"Mandible\", 8:\"Spinal cord\",\\\n",
        "                 9:\"Brain stem\", 10:\"Oral cavity\"}\n",
        "outputStrLabels = list(strToLabelMap.keys())\n",
        "outputStrNames = list(strToLabelMap.values())"
      ]
    },
    {
      "cell_type": "code",
      "execution_count": null,
      "metadata": {
        "id": "W_GjRVWtsgcP"
      },
      "outputs": [],
      "source": [
        "#Import label map to CERR\n",
        "import glob\n",
        "import SimpleITK as sitk\n",
        "from cerr.dataclasses import structure\n",
        "from cerr.contour import rasterseg as rs\n",
        "\n",
        "def postProcAndImportSeg(outputDir, scanList, outSlicesV, resizeGridS,\n",
        "                         limitsM, planC):\n",
        "\n",
        "\n",
        "  origScanNum = scanList[0]\n",
        "  resampScanNum = scanList[1]\n",
        "  procScanNum = scanList[2]\n",
        "  numStrOrig = len(planC.structure)\n",
        "\n",
        "  #--------------------------------------------------\n",
        "  #              Read AI-generated mask\n",
        "  #---------------------------------------------------\n",
        "  niiGlob = glob.glob(os.path.join(outputDir,'*.nii.gz'))\n",
        "  print('Importing ' + niiGlob[0]+'...')\n",
        "  outputMask4M = sitk.ReadImage(os.path.join(outputDir,niiGlob[0]))\n",
        "  outputMask4M = np.moveaxis(sitk.GetArrayFromImage(outputMask4M),0,2)\n",
        "\n",
        "  #--------------------------------------------------\n",
        "  #      Undo pre-processing transformations\n",
        "  #---------------------------------------------------\n",
        "  #1. Undo resizing\n",
        "  outputScan3M = None\n",
        "  method = 'unpad2d'\n",
        "  resampSizeV = planC.scan[resampScanNum].getScanSize()\n",
        "  resampOutSizeV = [resampSizeV[0], resampSizeV[1], len(outSlicesV)]\n",
        "  print('O/p mask shape')\n",
        "  print(outputMask4M.shape)\n",
        "\n",
        "  _, unPadMask4M, unPadGridS = resizeScanAndMask(outputScan3M,\n",
        "                                                outputMask4M,\n",
        "                                                resizeGridS,\n",
        "                                                resampOutSizeV,\n",
        "                                                method,\n",
        "                                                limitsM=limitsM)\n",
        "  #2. Undo outline crop\n",
        "  print('Undo crop')\n",
        "  resampMask4M = np.full((resampSizeV[0], resampSizeV[1],\n",
        "                          resampSizeV[2], unPadMask4M.shape[3]), 0)\n",
        "  resampMask4M[:,:,outSlicesV,:] = unPadMask4M\n",
        "\n",
        "  # Extract binary masks and retain largest connected component\n",
        "  numComponents = 1\n",
        "  replaceStrNum = None\n",
        "  procStrV = []\n",
        "  # Loop over labels\n",
        "  for labelIdx in range(len(strToLabelMap)):\n",
        "\n",
        "    # Import mask to processed scan\n",
        "    strName = outputStrNames[labelIdx]\n",
        "    maskIdx = outputStrLabels[labelIdx]-1\n",
        "    outputMask = resampMask4M[:, :, :, maskIdx]\n",
        "    planC = pc.importStructureMask(outputMask, resampScanNum,\n",
        "                                   strName, planC, replaceStrNum)\n",
        "    procStr = len(planC.structure)-1\n",
        "    procStrV.append(procStr)\n",
        "\n",
        "    # Copy to original scan\n",
        "    planC = structure.copyToScan(procStr, origScanNum, planC)\n",
        "    scanStr = len(planC.structure) - 1\n",
        "\n",
        "    # Post-process and replace input structure in planC\n",
        "    procMask3M = structure.getLargestConnComps(scanStr, numComponents,\n",
        "                                               planC, saveFlag=True,\n",
        "                                               replaceFlag=True,\n",
        "                                               procSructName=strName)\n",
        "    del planC.structure[procStr]\n",
        "\n",
        "\n",
        "  return planC, procStrV"
      ]
    },
    {
      "cell_type": "markdown",
      "metadata": {
        "id": "zj7t-J4isgcQ"
      },
      "source": [
        "# Segment OARs"
      ]
    },
    {
      "cell_type": "markdown",
      "metadata": {
        "id": "_XVVLPjBkYI0"
      },
      "source": [
        "## Apply AI model  to all MR scans\n",
        "\n",
        "### located in ***inputDicomPath*** and write auto-segmentation results to ***outputDicomPath***"
      ]
    },
    {
      "cell_type": "code",
      "execution_count": null,
      "metadata": {
        "id": "WCuUi5D6sgcS"
      },
      "outputs": [],
      "source": [
        "%%capture\n",
        "import subprocess\n",
        "import numpy as np\n",
        "\n",
        "from cerr.dataclasses import scan as cerrScn\n",
        "from cerr.dcm_export import rtstruct_iod\n",
        "from cerr.utils.ai_pipeline import createSessionDir\n",
        "\n",
        "\n",
        "# Loop over DICOM directories\n",
        "fileList = os.listdir(inputDicomPath)\n",
        "numFiles = len(fileList)\n",
        "modality = 'CT'\n",
        "\n",
        "for iFile in range(numFiles):\n",
        "\n",
        "    inputFilename = fileList[iFile]\n",
        "    dcmDir = os.path.join(inputDicomPath, inputFilename)\n",
        "\n",
        "    # Create session dir to store temporary data\n",
        "    modInputPath, modOutputPath = createSessionDir(sessionPath,\n",
        "                                                   inputDicomPath)\n",
        "\n",
        "    # Import DICOM scan to planC\n",
        "    planC = pc.loadDcmDir(dcmDir)\n",
        "    scanList, validSlicesV, procGridS, limitsM, planC = processInputData(planC)\n",
        "\n",
        "    # Export processed scan to NIfTI\n",
        "    origScanNum = scanList[0]\n",
        "    procScanNum = scanList[2]\n",
        "    numExistingStructs = len(planC.structure)\n",
        "    scanFilename = os.path.join(modInputPath,\n",
        "                                f\"{inputFilename}_scan_3D.nii.gz\")\n",
        "    planC.scan[procScanNum].saveNii(scanFilename)\n",
        "\n",
        "    # Apply model\n",
        "    subprocess.run(f\"source {activateScript} && python {scriptPath} \\\n",
        "                  {modInputPath} {modOutputPath}\", \\\n",
        "                  capture_output=False, shell=True, executable=\"/bin/bash\")\n",
        "\n",
        "    # Import results to planC\n",
        "    planC, procStrV = postProcAndImportSeg(modOutputPath, scanList,\n",
        "                                           validSlicesV, procGridS,\n",
        "                                           limitsM, planC)\n",
        "\n",
        "    # Export segmentations to DICOM\n",
        "    newNumStructs = len(planC.structure)\n",
        "    structFileName = inputFilename + '_AI_seg.dcm'\n",
        "    structFilePath = os.path.join(outputDicomPath, structFileName)\n",
        "    seriesDescription = \"AI Generated\"\n",
        "    exportOpts = {'seriesDescription': seriesDescription}\n",
        "\n",
        "    structNumV = np.arange(numExistingStructs, newNumStructs)\n",
        "    indOrigV = np.array([cerrScn.getScanNumFromUID(planC.structure[structNum].assocScanUID,\\\n",
        "                        planC) for structNum in structNumV], dtype=int)\n",
        "    structsToExportV = structNumV[indOrigV == origScanNum]\n",
        "    rtstruct_iod.create(structsToExportV, structFilePath, planC, exportOpts)"
      ]
    },
    {
      "cell_type": "markdown",
      "metadata": {
        "id": "Kugws3KBl4MK"
      },
      "source": [
        "## **Optional**: Uncomment the following to download the output segmentations to your workspace bucket."
      ]
    },
    {
      "cell_type": "code",
      "execution_count": null,
      "metadata": {
        "id": "_nkTBkijl23J"
      },
      "outputs": [],
      "source": [
        "# workspaceBucket = os.environ['WORKSPACE_BUCKET']\n",
        "# !gcloud storage cp -r {outputDicomPath} {workspaceBucket}"
      ]
    },
    {
      "cell_type": "markdown",
      "metadata": {
        "id": "iLzFp-l_sgcT"
      },
      "source": [
        "# Display results"
      ]
    },
    {
      "cell_type": "markdown",
      "metadata": {
        "id": "L8FTwNqhsgcT"
      },
      "source": [
        "## Overlay AI segmentations on scan for visualization using ***Matplotlib***\n",
        "\n",
        "Note: This example displays the last segmented dataset by default.    \n",
        "Load the appropriate pyCERR archive to `planC` to view results for desired dataset."
      ]
    },
    {
      "cell_type": "code",
      "source": [
        "from cerr.viewer import showMplNb\n",
        "\n",
        "showMplNb(planC=planC, scan_nums=origScanNum,\n",
        "          struct_nums=structsToExportV,\n",
        "          windowCenter=50, windowWidth=450)"
      ],
      "metadata": {
        "colab": {
          "base_uri": "https://localhost:8080/",
          "height": 531,
          "referenced_widgets": [
            "cb0958f95db44433aeb53d31fbeecf86",
            "f10beba13a88435daee558c6ae2a57c9",
            "e7f6d7dcaeb64cc6953fda7a767addcd",
            "a6f6aa0543294cd69f7adf3c1b0978f5",
            "ae8968224f8c4cdfa4395d06f65f6925",
            "dbeaa71f3b284068a66ef532c21cf587",
            "b04c5797632140d09f387769871c9319",
            "5be588f20622402687d814200d49217f",
            "38d1f3039b3e4b49a102fd687100fe17",
            "c9c5788a398d45739fce17748b8cd1d2",
            "2eaee03b982144ab83abdc13e27f602b",
            "a7cbfee63ec3492b859c06da64721bd4",
            "0fa68c13665d4bbb9c3df105407294ce"
          ]
        },
        "id": "d9JsEf1SQNcr",
        "outputId": "9f58e802-7e51-4f46-b022-a6e74524ee4b"
      },
      "execution_count": null,
      "outputs": [
        {
          "output_type": "display_data",
          "data": {
            "text/plain": [
              "HBox(children=(Dropdown(description='view', options=('Axial', 'Sagittal', 'Coronal'), value='Axial'), IntSlide…"
            ],
            "application/vnd.jupyter.widget-view+json": {
              "version_major": 2,
              "version_minor": 0,
              "model_id": "cb0958f95db44433aeb53d31fbeecf86"
            }
          },
          "metadata": {}
        },
        {
          "output_type": "display_data",
          "data": {
            "text/plain": [
              "Output()"
            ],
            "application/vnd.jupyter.widget-view+json": {
              "version_major": 2,
              "version_minor": 0,
              "model_id": "a7cbfee63ec3492b859c06da64721bd4"
            }
          },
          "metadata": {}
        }
      ]
    }
  ],
  "metadata": {
    "colab": {
      "provenance": [],
      "gpuType": "T4"
    },
    "kernelspec": {
      "display_name": "Python 3",
      "name": "python3"
    },
    "language_info": {
      "codemirror_mode": {
        "name": "ipython",
        "version": 3
      },
      "file_extension": ".py",
      "mimetype": "text/x-python",
      "name": "python",
      "nbconvert_exporter": "python",
      "pygments_lexer": "ipython3",
      "version": "3.11.9"
    },
    "toc": {
      "base_numbering": 1,
      "nav_menu": {},
      "number_sections": true,
      "sideBar": true,
      "skip_h1_title": false,
      "title_cell": "Table of Contents",
      "title_sidebar": "Contents",
      "toc_cell": false,
      "toc_position": {},
      "toc_section_display": true,
      "toc_window_display": false
    },
    "widgets": {
      "application/vnd.jupyter.widget-state+json": {
        "cb0958f95db44433aeb53d31fbeecf86": {
          "model_module": "@jupyter-widgets/controls",
          "model_name": "HBoxModel",
          "model_module_version": "1.5.0",
          "state": {
            "_dom_classes": [],
            "_model_module": "@jupyter-widgets/controls",
            "_model_module_version": "1.5.0",
            "_model_name": "HBoxModel",
            "_view_count": null,
            "_view_module": "@jupyter-widgets/controls",
            "_view_module_version": "1.5.0",
            "_view_name": "HBoxView",
            "box_style": "",
            "children": [
              "IPY_MODEL_f10beba13a88435daee558c6ae2a57c9",
              "IPY_MODEL_e7f6d7dcaeb64cc6953fda7a767addcd",
              "IPY_MODEL_a6f6aa0543294cd69f7adf3c1b0978f5"
            ],
            "layout": "IPY_MODEL_ae8968224f8c4cdfa4395d06f65f6925"
          }
        },
        "f10beba13a88435daee558c6ae2a57c9": {
          "model_module": "@jupyter-widgets/controls",
          "model_name": "DropdownModel",
          "model_module_version": "1.5.0",
          "state": {
            "_dom_classes": [],
            "_model_module": "@jupyter-widgets/controls",
            "_model_module_version": "1.5.0",
            "_model_name": "DropdownModel",
            "_options_labels": [
              "Axial",
              "Sagittal",
              "Coronal"
            ],
            "_view_count": null,
            "_view_module": "@jupyter-widgets/controls",
            "_view_module_version": "1.5.0",
            "_view_name": "DropdownView",
            "description": "view",
            "description_tooltip": null,
            "disabled": false,
            "index": 0,
            "layout": "IPY_MODEL_dbeaa71f3b284068a66ef532c21cf587",
            "style": "IPY_MODEL_b04c5797632140d09f387769871c9319"
          }
        },
        "e7f6d7dcaeb64cc6953fda7a767addcd": {
          "model_module": "@jupyter-widgets/controls",
          "model_name": "IntSliderModel",
          "model_module_version": "1.5.0",
          "state": {
            "_dom_classes": [],
            "_model_module": "@jupyter-widgets/controls",
            "_model_module_version": "1.5.0",
            "_model_name": "IntSliderModel",
            "_view_count": null,
            "_view_module": "@jupyter-widgets/controls",
            "_view_module_version": "1.5.0",
            "_view_name": "IntSliderView",
            "continuous_update": true,
            "description": "slcNum",
            "description_tooltip": null,
            "disabled": false,
            "layout": "IPY_MODEL_5be588f20622402687d814200d49217f",
            "max": 90,
            "min": 1,
            "orientation": "horizontal",
            "readout": true,
            "readout_format": "d",
            "step": 1,
            "style": "IPY_MODEL_38d1f3039b3e4b49a102fd687100fe17",
            "value": 47
          }
        },
        "a6f6aa0543294cd69f7adf3c1b0978f5": {
          "model_module": "@jupyter-widgets/controls",
          "model_name": "FloatSliderModel",
          "model_module_version": "1.5.0",
          "state": {
            "_dom_classes": [],
            "_model_module": "@jupyter-widgets/controls",
            "_model_module_version": "1.5.0",
            "_model_name": "FloatSliderModel",
            "_view_count": null,
            "_view_module": "@jupyter-widgets/controls",
            "_view_module_version": "1.5.0",
            "_view_name": "FloatSliderView",
            "continuous_update": true,
            "description": "doseAlpha",
            "description_tooltip": null,
            "disabled": false,
            "layout": "IPY_MODEL_c9c5788a398d45739fce17748b8cd1d2",
            "max": 1,
            "min": 0,
            "orientation": "horizontal",
            "readout": true,
            "readout_format": ".2f",
            "step": 0.02,
            "style": "IPY_MODEL_2eaee03b982144ab83abdc13e27f602b",
            "value": 0.5
          }
        },
        "ae8968224f8c4cdfa4395d06f65f6925": {
          "model_module": "@jupyter-widgets/base",
          "model_name": "LayoutModel",
          "model_module_version": "1.2.0",
          "state": {
            "_model_module": "@jupyter-widgets/base",
            "_model_module_version": "1.2.0",
            "_model_name": "LayoutModel",
            "_view_count": null,
            "_view_module": "@jupyter-widgets/base",
            "_view_module_version": "1.2.0",
            "_view_name": "LayoutView",
            "align_content": null,
            "align_items": null,
            "align_self": null,
            "border": null,
            "bottom": null,
            "display": null,
            "flex": null,
            "flex_flow": null,
            "grid_area": null,
            "grid_auto_columns": null,
            "grid_auto_flow": null,
            "grid_auto_rows": null,
            "grid_column": null,
            "grid_gap": null,
            "grid_row": null,
            "grid_template_areas": null,
            "grid_template_columns": null,
            "grid_template_rows": null,
            "height": null,
            "justify_content": null,
            "justify_items": null,
            "left": null,
            "margin": null,
            "max_height": null,
            "max_width": null,
            "min_height": null,
            "min_width": null,
            "object_fit": null,
            "object_position": null,
            "order": null,
            "overflow": null,
            "overflow_x": null,
            "overflow_y": null,
            "padding": null,
            "right": null,
            "top": null,
            "visibility": null,
            "width": null
          }
        },
        "dbeaa71f3b284068a66ef532c21cf587": {
          "model_module": "@jupyter-widgets/base",
          "model_name": "LayoutModel",
          "model_module_version": "1.2.0",
          "state": {
            "_model_module": "@jupyter-widgets/base",
            "_model_module_version": "1.2.0",
            "_model_name": "LayoutModel",
            "_view_count": null,
            "_view_module": "@jupyter-widgets/base",
            "_view_module_version": "1.2.0",
            "_view_name": "LayoutView",
            "align_content": null,
            "align_items": null,
            "align_self": null,
            "border": null,
            "bottom": null,
            "display": null,
            "flex": null,
            "flex_flow": null,
            "grid_area": null,
            "grid_auto_columns": null,
            "grid_auto_flow": null,
            "grid_auto_rows": null,
            "grid_column": null,
            "grid_gap": null,
            "grid_row": null,
            "grid_template_areas": null,
            "grid_template_columns": null,
            "grid_template_rows": null,
            "height": null,
            "justify_content": null,
            "justify_items": null,
            "left": null,
            "margin": null,
            "max_height": null,
            "max_width": null,
            "min_height": null,
            "min_width": null,
            "object_fit": null,
            "object_position": null,
            "order": null,
            "overflow": null,
            "overflow_x": null,
            "overflow_y": null,
            "padding": null,
            "right": null,
            "top": null,
            "visibility": null,
            "width": null
          }
        },
        "b04c5797632140d09f387769871c9319": {
          "model_module": "@jupyter-widgets/controls",
          "model_name": "DescriptionStyleModel",
          "model_module_version": "1.5.0",
          "state": {
            "_model_module": "@jupyter-widgets/controls",
            "_model_module_version": "1.5.0",
            "_model_name": "DescriptionStyleModel",
            "_view_count": null,
            "_view_module": "@jupyter-widgets/base",
            "_view_module_version": "1.2.0",
            "_view_name": "StyleView",
            "description_width": ""
          }
        },
        "5be588f20622402687d814200d49217f": {
          "model_module": "@jupyter-widgets/base",
          "model_name": "LayoutModel",
          "model_module_version": "1.2.0",
          "state": {
            "_model_module": "@jupyter-widgets/base",
            "_model_module_version": "1.2.0",
            "_model_name": "LayoutModel",
            "_view_count": null,
            "_view_module": "@jupyter-widgets/base",
            "_view_module_version": "1.2.0",
            "_view_name": "LayoutView",
            "align_content": null,
            "align_items": null,
            "align_self": null,
            "border": null,
            "bottom": null,
            "display": null,
            "flex": null,
            "flex_flow": null,
            "grid_area": null,
            "grid_auto_columns": null,
            "grid_auto_flow": null,
            "grid_auto_rows": null,
            "grid_column": null,
            "grid_gap": null,
            "grid_row": null,
            "grid_template_areas": null,
            "grid_template_columns": null,
            "grid_template_rows": null,
            "height": null,
            "justify_content": null,
            "justify_items": null,
            "left": null,
            "margin": null,
            "max_height": null,
            "max_width": null,
            "min_height": null,
            "min_width": null,
            "object_fit": null,
            "object_position": null,
            "order": null,
            "overflow": null,
            "overflow_x": null,
            "overflow_y": null,
            "padding": null,
            "right": null,
            "top": null,
            "visibility": null,
            "width": null
          }
        },
        "38d1f3039b3e4b49a102fd687100fe17": {
          "model_module": "@jupyter-widgets/controls",
          "model_name": "SliderStyleModel",
          "model_module_version": "1.5.0",
          "state": {
            "_model_module": "@jupyter-widgets/controls",
            "_model_module_version": "1.5.0",
            "_model_name": "SliderStyleModel",
            "_view_count": null,
            "_view_module": "@jupyter-widgets/base",
            "_view_module_version": "1.2.0",
            "_view_name": "StyleView",
            "description_width": "",
            "handle_color": null
          }
        },
        "c9c5788a398d45739fce17748b8cd1d2": {
          "model_module": "@jupyter-widgets/base",
          "model_name": "LayoutModel",
          "model_module_version": "1.2.0",
          "state": {
            "_model_module": "@jupyter-widgets/base",
            "_model_module_version": "1.2.0",
            "_model_name": "LayoutModel",
            "_view_count": null,
            "_view_module": "@jupyter-widgets/base",
            "_view_module_version": "1.2.0",
            "_view_name": "LayoutView",
            "align_content": null,
            "align_items": null,
            "align_self": null,
            "border": null,
            "bottom": null,
            "display": null,
            "flex": null,
            "flex_flow": null,
            "grid_area": null,
            "grid_auto_columns": null,
            "grid_auto_flow": null,
            "grid_auto_rows": null,
            "grid_column": null,
            "grid_gap": null,
            "grid_row": null,
            "grid_template_areas": null,
            "grid_template_columns": null,
            "grid_template_rows": null,
            "height": null,
            "justify_content": null,
            "justify_items": null,
            "left": null,
            "margin": null,
            "max_height": null,
            "max_width": null,
            "min_height": null,
            "min_width": null,
            "object_fit": null,
            "object_position": null,
            "order": null,
            "overflow": null,
            "overflow_x": null,
            "overflow_y": null,
            "padding": null,
            "right": null,
            "top": null,
            "visibility": null,
            "width": null
          }
        },
        "2eaee03b982144ab83abdc13e27f602b": {
          "model_module": "@jupyter-widgets/controls",
          "model_name": "SliderStyleModel",
          "model_module_version": "1.5.0",
          "state": {
            "_model_module": "@jupyter-widgets/controls",
            "_model_module_version": "1.5.0",
            "_model_name": "SliderStyleModel",
            "_view_count": null,
            "_view_module": "@jupyter-widgets/base",
            "_view_module_version": "1.2.0",
            "_view_name": "StyleView",
            "description_width": "",
            "handle_color": null
          }
        },
        "a7cbfee63ec3492b859c06da64721bd4": {
          "model_module": "@jupyter-widgets/output",
          "model_name": "OutputModel",
          "model_module_version": "1.0.0",
          "state": {
            "_dom_classes": [],
            "_model_module": "@jupyter-widgets/output",
            "_model_module_version": "1.0.0",
            "_model_name": "OutputModel",
            "_view_count": null,
            "_view_module": "@jupyter-widgets/output",
            "_view_module_version": "1.0.0",
            "_view_name": "OutputView",
            "layout": "IPY_MODEL_0fa68c13665d4bbb9c3df105407294ce",
            "msg_id": "",
            "outputs": [
              {
                "output_type": "display_data",
                "data": {
                  "text/plain": "<Figure size 600x600 with 1 Axes>",
                  "image/png": "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\n"
                },
                "metadata": {}
              }
            ]
          }
        },
        "0fa68c13665d4bbb9c3df105407294ce": {
          "model_module": "@jupyter-widgets/base",
          "model_name": "LayoutModel",
          "model_module_version": "1.2.0",
          "state": {
            "_model_module": "@jupyter-widgets/base",
            "_model_module_version": "1.2.0",
            "_model_name": "LayoutModel",
            "_view_count": null,
            "_view_module": "@jupyter-widgets/base",
            "_view_module_version": "1.2.0",
            "_view_name": "LayoutView",
            "align_content": null,
            "align_items": null,
            "align_self": null,
            "border": null,
            "bottom": null,
            "display": null,
            "flex": null,
            "flex_flow": null,
            "grid_area": null,
            "grid_auto_columns": null,
            "grid_auto_flow": null,
            "grid_auto_rows": null,
            "grid_column": null,
            "grid_gap": null,
            "grid_row": null,
            "grid_template_areas": null,
            "grid_template_columns": null,
            "grid_template_rows": null,
            "height": null,
            "justify_content": null,
            "justify_items": null,
            "left": null,
            "margin": null,
            "max_height": null,
            "max_width": null,
            "min_height": null,
            "min_width": null,
            "object_fit": null,
            "object_position": null,
            "order": null,
            "overflow": null,
            "overflow_x": null,
            "overflow_y": null,
            "padding": null,
            "right": null,
            "top": null,
            "visibility": null,
            "width": null
          }
        }
      }
    },
    "accelerator": "GPU"
  },
  "nbformat": 4,
  "nbformat_minor": 0
}
