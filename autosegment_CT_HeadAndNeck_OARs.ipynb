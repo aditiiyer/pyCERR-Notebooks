{
  "cells": [
     {
            "cell_type": "markdown",
            "metadata": {
              "id": "view-in-github"
            },
            "source": [
              "<a href=\"https://colab.research.google.com/github/cerr/pycerr-notebooks/blob/main/autosegment_CT_HeadAndNeck_OARs.ipynb\" target=\"_parent\"><img src=\"https://colab.research.google.com/assets/colab-badge.svg\" alt=\"Open In Colab\"/></a>"
            ]
      },
    {
      "cell_type": "markdown",
      "metadata": {
        "id": "kNoydh-RsgcD"
      },
      "source": [
        "# Introduction\n",
        "\n",
        "In this tutorial, we will demonstrate how to apply pre-trained AI models to segment OARs for RT treatment planning on head and neck CT scans.\n",
        "\n",
        "## Requirements\n",
        "* Python>=3.8\n",
        "* Although these models can be run on a CPU, GPU access is recommended for efficiency. \n",
        "  To use a GPU on Colab:  Select `Runtime` > `Change runtime type > Select GPU `\n",
        "* Data I/O, pre- and post-processing are performed using [***pyCERR***](https://github.com/cerr/pyCERR) .\n",
        "\n",
        "## I/O\n",
        "* **Input**: DICOM-format head and neck CT scans(s).  \n",
        "  \n",
        "* **Output**: DICOM RTStruct-format segmentations.  \n",
        "  \n",
        "  \n",
        "  Input data should be organized as: one directory of DICOM images per patient.      \n",
        "  \n",
        "    \n",
        "    Input dir\n",
        "            |------Pat1  \n",
        "                      |------img1.dcm  \n",
        "                             img2.dcm  \n",
        "                             ....  \n",
        "                             ....  \n",
        "            |-----Pat2  \n",
        "                     |------img1.dcm  \n",
        "                            img2.dcm  \n",
        "                            ....  \n",
        "                            ....  \n",
        "\n",
        "\n",
        "## AI models\n",
        "* The segmentation models used here were trained and validated on CT scans used for RT planning. Its performance on diagnostic scans is expected to be sub-optimal.  \n",
        "* Trained models are packaged as a Conda environment archive containing  python libraries and other dependencies.\n",
        "\n",
        "### Installing models and dependencies\n",
        "\n",
        "* Installation is performed using CERR's [***model installer***]( https://github.com/cerr/model_installer).  \n",
        "\n",
        "* A Conda archive containing dependencies is downloaded to the `conda-pack`   \n",
        "  sub-directory of a configurable `scriptInstallDir`.  \n",
        "  By default `condaEnvPath = '/content/CT_HeadAndNeck_OARs/conda-pack'`\n",
        "  \n",
        "*  Inference scripts are located at\n",
        "  `deeplabScriptPath = os.path.join(condaEnvPath,'model_wrapper', run_inference_deeplab_nii.py.py')`   \n",
        "  `selfAttnScriptPath = os.path.join(condaEnvPath,'model_wrapper', run_inference_selfattn_nii.py.py')`  \n",
        "\n",
        "### Running the models\n",
        "```python\n",
        "!python {deeplabScriptPath} {input_directory} {temp_session_directory} {output_directory}\n",
        "!python {selfAttnScriptPath} {input_directory} {output_directory}\n",

        "```"
      ]
    },
    {
      "cell_type": "markdown",
      "metadata": {
        "id": "6GVYj7k5e97G"
      },
      "source": [
        "## License\n",
        "\n",
        "By downloading the software you are agreeing to the following terms and conditions as well as to the Terms of Use of CERR software.\n",
        "\n",
        "**`THE SOFTWARE IS PROVIDED \"AS IS\" AND CERR DEVELOPMENT TEAM AND ITS COLLABORATORS DO NOT MAKE ANY WARRANTY, EXPRESS OR IMPLIED, INCLUDING BUT NOT LIMITED TO WARRANTIES OF MERCHANTABILITY AND FITNESS FOR A PARTICULAR PURPOSE, NOR DO THEY ASSUME ANY LIABILITY OR RESPONSIBILITY FOR THE USE OF THIS SOFTWARE.`**\n",
        "\n",
        "`This software is for research purposes only and has not been approved for clinical use.`\n",
        "\n",
        "`Software has not been reviewed or approved by the Food and Drug Administration, and is for non-clinical, IRB-approved Research Use Only. In no event shall data or images generated through the use of the Software be used in the provision of patient care.`\n",
        "  \n",
        "`YOU MAY NOT DISTRIBUTE COPIES of this software, or copies of software derived from this software, to others outside your organization without specific prior written permission from the CERR development team except where noted for specific software products.`\n",
        "\n",
        "`All Technology and technical data delivered under this Agreement are subject to US export control laws and may be subject to export or import regulations in other countries. You agree to comply strictly with all such laws and regulations and acknowledge that you have the responsibility to obtain\n",
        "such licenses to export, re-export, or import as may be required after delivery to you.`\n",
        "\n",
        "**`You may publish papers and books using results produced using software provided you cite the following`**:\n",
        "  \n",
        "  * **AI models**: https://doi.org/10.1088/1361-6560/ac4000  \n",
        "      https://doi.org/10.48550/arXiv.1909.05054  \n",
        "                     \n",
        "  * **CERR model library**: https://doi.org/10.1016/j.ejmp.2020.04.011  \n",
        "\n"
      ]
    },
    {
      "cell_type": "markdown",
      "metadata": {
        "id": "35nEDWKTg5c1"
      },
      "source": [
        "# Downloads"
      ]
    },
    {
      "cell_type": "markdown",
      "metadata": {
        "id": "DsKXYI-dsgcK"
      },
      "source": [
        "### Install ***pyCERR***\n",
        "\n",
        "pyCERR handles data import/export, pre- and post-processing transformations for this auto-segmentation model."
      ]
    },
    {
      "cell_type": "code",
      "source": [
        "%%capture\n",
        "!pip install \"pyCERR[napari] @ git+https://github.com/cerr/pyCERR.git@testing\""
      ],
      "metadata": {
        "id": "mSoC0TDuiLjD"
      },
      "execution_count": null,
      "outputs": []
    },
    {
      "cell_type": "markdown",
      "metadata": {
        "id": "mP6FHznIg7Yd"
      },
      "source": [
        "\n",
        "## Prepare planning CTs (DICOM)"
      ]
    },
    {
      "cell_type": "code",
      "source": [
        "import os\n",
        "workDir = r'/content' # For Colab"
      ],
      "metadata": {
        "id": "FYaSj6fcqqxZ"
      },
      "execution_count": null,
      "outputs": []
    },
    {
      "cell_type": "markdown",
      "source": [
        " ### We will use the sample head & neck CT dataset distributed with pyCERR for this demo."
      ],
      "metadata": {
        "id": "jFRdE2wVp31M"
      }
    },
    {
      "cell_type": "code",
      "execution_count": null,
      "metadata": {
        "id": "CWaGs8LqhZTD"
      },
      "outputs": [],
      "source": [
        "inputDicomPath = '/usr/local/lib/python3.10/dist-packages/cerr/datasets/sample_ct/head_and_neck'"
      ]
    },
    {
      "cell_type": "markdown",
      "source": [
        "### Alternatives\n",
        "\n",
        " Uncomment the following cell to download data from user-specified ***dataUrl*** to ***dataDownloadDir***.\n",
        "\n",
        "See also: [demo notebook](github.com/cerr/pyCERR-Notebooks/download_data_from_xnat.ipynb) for downloading data from XNAT."
      ],
      "metadata": {
        "id": "zB-PJ6IPTZRl"
      }
    },
    {
      "cell_type": "code",
      "execution_count": null,
      "metadata": {
        "id": "l2cIR2Swg_84"
      },
      "outputs": [],
      "source": [
        "# dataUrl = 'http://path.to/data'\n",
        "# dataDownloadDir = os.path.join(workDir, 'sampleData')\n",
        "# os.makedirs(dataDownloadDir, exist_ok=True)\n",
        "# ! wget -O sampleData.gz -L {dataUrl}\n",
        "# ! tar xf sampleData.gz -C {dataDownloadDir}\n",
        "# ! rm sampleData.gz\n",
        "\n",
        "# #Paths to input data\n",
        "# inputDicomPath = os.path.join(dataDownloadDir,'your_dir_name_here')  # Replace with apropriate path to your dataset"
      ]
    },
    {
      "cell_type": "markdown",
      "metadata": {
        "id": "VSvE1KsTj9do"
      },
      "source": [
        "### Define paths to input DICOM directory, desired output directory, and a session directory to store temporary files during model execution"
      ]
    },
    {
      "cell_type": "code",
      "execution_count": null,
      "metadata": {
        "id": "iHbUWoUEj1A2"
      },
      "outputs": [],
      "source": [
        "# Paths to temporary session dierectory for intermediate processing steps\n",
        "outputDicomPath = os.path.join(workDir, 'AIoutput')\n",
        "sessionPathDeepLab = os.path.join(workDir, 'tempDL')\n",
        "sessionPathSelfAttn = os.path.join(workDir, 'tempSA')\n",
        "\n",
        "if not os.path.exists(outputDicomPath):\n",
        "  os.mkdir(outputDicomPath)\n",
        "\n",
        "if not os.path.exists(sessionPathDeepLab):\n",
        "  os.mkdir(sessionPathDeepLab)\n",
        "if not os.path.exists(sessionPathSelfAttn):\n",
        "  os.mkdir(sessionPathSelfAttn)"
      ]
    },
    {
      "cell_type": "markdown",
      "source": [
        "## Download pre-trained model, inference script, and packaged conda evnironment to ***scriptInstallDir***\n"
      ],
      "metadata": {
        "id": "FC5pCpVa65lK"
      }
    },
    {
      "cell_type": "code",
      "source": [
        "%%capture\n",
        "\n",
        "# Download model installer\n",
        "os.chdir(workDir)\n",
        "!git clone https://github.com/cerr/model_installer.git\n",
        "os.chdir(os.path.join(workDir,'model_installer'))\n",
        "\n",
        "# Install CT HN OAR model\n",
        "!./installer.sh\n",
        "modelOpt = '6'  # CT_HeadAndNeck_OARs\n",
        "pythonOpt = 'C' # Download packaged Conda environment\n",
        "\n",
        "! source ./installer.sh -m {modelOpt} -d {workDir} -p {pythonOpt}"
      ],
      "metadata": {
        "id": "32VHeXVxTmt6"
      },
      "execution_count": null,
      "outputs": []
    },
    {
      "cell_type": "code",
      "source": [
        "# Location of inference script\n",
        "scriptInstallDir = os.path.join(workDir, 'CT_HeadAndNeck_OARs')\n",
        "deeplabScriptPath = os.path.join(scriptInstallDir,\n",
        "                         'model_wrapper',\n",
        "                         'run_inference_deeplab_nii.py')\n",
        "selfattnScriptPath = os.path.join(scriptInstallDir,\n",
        "                         'model_wrapper',\n",
        "                         'run_inference_selfattn_nii.py')\n",
        "\n",
        "\n",
        "# Location of Conda archive\n",
        "condaEnvPath = os.path.join(scriptInstallDir, 'conda-pack')\n",
        "\n",
        "# Location of activation script for Conda environment\n",
        "activateScript = os.path.join(condaEnvPath,'bin','activate')"
      ],
      "metadata": {
        "id": "xuDuWRX9T1Co"
      },
      "execution_count": null,
      "outputs": []
    },
    {
      "cell_type": "markdown",
      "metadata": {
        "id": "sfcIIiLQsgcM"
      },
      "source": [
        "# Data processing"
      ]
    },
    {
      "cell_type": "markdown",
      "metadata": {
        "id": "rSxnA1zSHTS_"
      },
      "source": [
        "## Pre-processing\n",
        "\n",
        "### `processInputData`: Identify input scan, resample in-plane to 1mm x 1mm. Next,  crop to patient outline and resize the resulting region in-plane by to 256 x 256 voxels by padding with zeros"
      ]
    },
    {
      "cell_type": "code",
      "execution_count": null,
      "metadata": {
        "id": "HfJd7nySHUJJ"
      },
      "outputs": [],
      "source": [
        "import numpy as np\n",
        "\n",
        "import cerr\n",
        "from cerr import plan_container as pc\n",
        "from cerr.utils.ai_pipeline import getScanNumFromIdentifier\n",
        "from cerr.dataclasses import scan\n",
        "from cerr.radiomics.preprocess import getResampledGrid, imgResample3D\n",
        "from cerr.utils.mask import computeBoundingBox, getPatientOutline\n",
        "from cerr.utils.image_proc import resizeScanAndMask\n",
        "\n",
        "def processInputData(planC):\n",
        "\n",
        "  # Processing parameters\n",
        "  modality = 'CT'\n",
        "  identifier = {'imageType':'CT SCAN'}\n",
        "\n",
        "  gridType = 'center'\n",
        "  resampMethod = 'sitkBSpline'\n",
        "  outputResV = [0.1, 0.1, 0]  #Output res: 1mm x 1mm in-plane\n",
        "\n",
        "  resizeMethod = 'pad2d'\n",
        "  outSizeV = [256,256]\n",
        "  inputMask3M = None\n",
        "\n",
        "  outlineStructName = 'outline'\n",
        "  intensityThreshold = -400   #Air intensity for outline detection\n",
        "\n",
        "  #--------------------------------------------------\n",
        "  #          Extract input scan\n",
        "  #---------------------------------------------------\n",
        "  # Get scan array\n",
        "  scanNum = getScanNumFromIdentifier(identifier, planC)[0]\n",
        "  xValsV, yValsV, zValsV = planC.scan[scanNum].getScanXYZVals()\n",
        "  scan3M = planC.scan[scanNum].getScanArray()\n",
        "\n",
        "  #--------------------------------------------------\n",
        "  #          Process input scan\n",
        "  #---------------------------------------------------\n",
        "  # 1. Resample\n",
        "  [xResampleV,yResampleV,zResampleV] = getResampledGrid(outputResV,\n",
        "                                                        xValsV, yValsV, zValsV,\\\n",
        "                                                        gridType)\n",
        "  resampScan3M = imgResample3D(scan3M,\n",
        "                               xValsV, yValsV, zValsV,\\\n",
        "                               xResampleV, yResampleV, zResampleV,\\\n",
        "                               resampMethod, inPlane=True)\n",
        "\n",
        "  resampleGridS = [xResampleV, yResampleV, zResampleV]\n",
        "  planC = pc.importScanArray(resampScan3M,\n",
        "                             resampleGridS[0], resampleGridS[1], resampleGridS[2],\\\n",
        "                             modality, scanNum, planC)\n",
        "  resampleScanNum = len(planC.scan) - 1\n",
        "\n",
        "  # 2. Extract patient outline\n",
        "  replaceStrNum = None\n",
        "  outline3M = getPatientOutline(resampScan3M, intensityThreshold)\n",
        "  resampSizeV = outline3M.shape\n",
        "  planC = pc.importStructureMask(outline3M, scanNum,\n",
        "                                 outlineStructName,\n",
        "                                 planC, replaceStrNum)\n",
        "\n",
        "  # 3. Crop to patient outline on each slice\n",
        "  sumSlices = np.sum(outline3M, axis=(0, 1))\n",
        "  validSlicesV = np.where(sumSlices > 0)[0]\n",
        "  numSlcs = len(validSlicesV)\n",
        "  limitsM = np.zeros((numSlcs,4))\n",
        "\n",
        "  for slc in range(numSlcs):\n",
        "    minr, maxr, minc, maxc, _, _, _ = computeBoundingBox(\\\n",
        "                                               outline3M[:,:,validSlicesV[slc]],\n",
        "                                               is2DFlag=True)\n",
        "    limitsM[slc,:] = [minr, maxr, minc, maxc]\n",
        "\n",
        "  # 4. Resize to 256 x 256 in-plane\n",
        "  resampSlc3M = resampScan3M[:,:,validSlicesV]\n",
        "  slcGridS = (resampleGridS[0], resampleGridS[1], resampleGridS[2][validSlicesV])\n",
        "  procScan3M, maskOut4M, resizeGridS = resizeScanAndMask(resampSlc3M,\n",
        "                                                         inputMask3M,\n",
        "                                                         slcGridS,\n",
        "                                                         outSizeV,\n",
        "                                                         resizeMethod,\n",
        "                                                         limitsM=limitsM)\n",
        "  planC = pc.importScanArray(procScan3M,\n",
        "                             resizeGridS[0], resizeGridS[1], resizeGridS[2],\\\n",
        "                             modality, scanNum, planC)\n",
        "  procScanNum = len(planC.scan) - 1\n",
        "\n",
        "  scanList = [scanNum, resampleScanNum, procScanNum]\n",
        "\n",
        "  return scanList, validSlicesV, resizeGridS, limitsM, planC"
      ]
    },
    {
      "cell_type": "markdown",
      "metadata": {
        "id": "C1KHjP1LsgcO"
      },
      "source": [
        "\n",
        "## Post-processing\n",
        "\n",
        "### `postProcAndImportSeg`: Import label maps to planC and filter to retain only largest connected component."
      ]
    },
    {
      "cell_type": "code",
      "execution_count": null,
      "metadata": {
        "id": "FtPOzqWQsgcP"
      },
      "outputs": [],
      "source": [
        "# Map output labels to structure names\n",
        "deeplabStrToLabelMap = {1:\"Left Masseter\", 2:\"Right masseter\",\n",
        "                        3: \"Left medial pterygoid\", 4:\"Right medial pterygoid\",\n",
        "                        5: \"Larynx\", 6:\"Pharyngeal constrictor\"}\n",
        "\n",
        "selfAttnStrToLabelMap = {1:\"Left Parotid\", 2:\"Right Parotid\",\n",
        "                         3:\"Left Submandible\", 4:\"Right Submandible\",\n",
        "                         7:\"Mandible\", 8:\"Spinal cord\",\\\n",
        "                         9:\"Brain stem\", 10:\"Oral cavity\"}"
      ]
    },
    {
      "cell_type": "code",
      "execution_count": null,
      "metadata": {
        "id": "W_GjRVWtsgcP"
      },
      "outputs": [],
      "source": [
        "#Import label map to CERR\n",
        "import glob\n",
        "import SimpleITK as sitk\n",
        "from cerr.dataclasses import structure\n",
        "from cerr.contour import rasterseg as rs\n",
        "\n",
        "def postProcAndImportSeg(modelName, strToLabelMap, outputDir, scanList,\n",
        "                         planC, outSlicesV=None, resizeGridS=None, limitsM=None):\n",
        "\n",
        "\n",
        "  origScanNum = scanList[0]\n",
        "  numStrOrig = len(planC.structure)\n",
        "\n",
        "  #--------------------------------------------------\n",
        "  #              Read AI-generated mask\n",
        "  #---------------------------------------------------\n",
        "  niiGlob = glob.glob(os.path.join(modOutputPath,'*.nii.gz'))\n",
        "  maskList = []\n",
        "  for filePath in niiGlob:\n",
        "    print('Importing ' + filePath +'...')\n",
        "    maskImg = sitk.ReadImage(os.path.join(modOutputPath,filePath))\n",
        "    maskSet4M = sitk.GetArrayFromImage(maskImg)\n",
        "    if maskSet4M.ndim == 3:\n",
        "        temp = np.zeros((1,)+maskSet4M.shape)\n",
        "        temp[0,:,:,:] = maskSet4M\n",
        "        maskSet4M = temp\n",
        "    if  modelName == 'selfattn':\n",
        "      maskSet4M = np.moveaxis(maskSet4M, 0, 2)\n",
        "    else:\n",
        "      maskSet4M = np.moveaxis(maskSet4M, [0,1,3], [3,2,0])\n",
        "    maskList.append(maskSet4M)\n",
        "  outputMask4M = np.concatenate(maskList, axis=-1)\n",
        "  outputStrLabels = list(strToLabelMap.keys())\n",
        "  outputStrNames = list(strToLabelMap.values())\n",
        "\n",
        "  #--------------------------------------------------\n",
        "  #      Undo pre-processing transformations\n",
        "  #---------------------------------------------------\n",
        "  if  modelName == 'selfattn':\n",
        "\n",
        "    resampScanNum = scanList[1]\n",
        "    procScanNum = scanList[2]\n",
        "\n",
        "    #1. Undo resizing\n",
        "    outputScan3M = None\n",
        "    method = 'unpad2d'\n",
        "    resampSizeV = planC.scan[resampScanNum].getScanSize()\n",
        "    resampOutSizeV = [resampSizeV[0], resampSizeV[1], len(outSlicesV)]\n",
        "\n",
        "    _, unPadMask4M, unPadGridS = resizeScanAndMask(outputScan3M,\n",
        "                                                outputMask4M,\n",
        "                                                resizeGridS,\n",
        "                                                resampOutSizeV,\n",
        "                                                method,\n",
        "                                                limitsM=limitsM)\n",
        "    #2. Undo outline crop\n",
        "    print('Undo crop')\n",
        "    resampMask4M = np.full((resampSizeV[0], resampSizeV[1],\n",
        "                          resampSizeV[2], unPadMask4M.shape[3]), 0)\n",
        "    resampMask4M[:,:,outSlicesV,:] = unPadMask4M\n",
        "\n",
        "  elif modelName == 'deeplab':\n",
        "    resampMask4M = outputMask4M\n",
        "    resampScanNum = origScanNum\n",
        "\n",
        "  #--------------------------------------------------\n",
        "  #      Import to planC\n",
        "  #---------------------------------------------------\n",
        "  numComponents = 1\n",
        "  replaceStrNum = None\n",
        "  procStrV = []\n",
        "  # Loop over labels\n",
        "  for labelIdx in range(len(strToLabelMap)):\n",
        "\n",
        "    # Import mask to processed scan\n",
        "    strName = outputStrNames[labelIdx]\n",
        "    maskIdx = outputStrLabels[labelIdx]-1\n",
        "    outputMask = resampMask4M[:, :, :, maskIdx]\n",
        "    planC = pc.importStructureMask(outputMask, resampScanNum,\n",
        "                                   strName, planC, replaceStrNum)\n",
        "    procStr = len(planC.structure)-1\n",
        "    procStrV.append(procStr)\n",
        "\n",
        "    if modelName == 'selfattn':\n",
        "     # Copy to original scan\n",
        "     planC = structure.copyToScan(procStr, origScanNum, planC)\n",
        "     scanStr = len(planC.structure) - 1\n",
        "\n",
        "     # Post-process and replace input structure in planC\n",
        "     procMask3M = structure.getLargestConnComps(scanStr, numComponents,\n",
        "                                               planC, saveFlag=True,\n",
        "                                               replaceFlag=True,\n",
        "                                               procSructName=strName)\n",
        "     del planC.structure[procStr]\n",
        "\n",
        "\n",
        "  return planC, procStrV"
      ]
    },
    {
      "cell_type": "markdown",
      "metadata": {
        "id": "zj7t-J4isgcQ"
      },
      "source": [
        "# Segment OARs"
      ]
    },
    {
      "cell_type": "markdown",
      "metadata": {
        "id": "_XVVLPjBkYI0"
      },
      "source": [
        "## Apply AI model  to all MR scans\n",
        "\n",
        "### located in ***inputDicomPath*** and write auto-segmentation results to ***outputDicomPath***"
      ]
    },
    {
      "cell_type": "code",
      "execution_count": null,
      "metadata": {
        "id": "WCuUi5D6sgcS"
      },
      "outputs": [],
      "source": [
       "%%capture\n",
        "import subprocess\n",
        "import numpy as np\n",
        "\n",
        "from cerr.dataclasses import scan as cerrScn\n",
        "from cerr.dcm_export import rtstruct_iod\n",
        "from cerr.utils.ai_pipeline import createSessionDir, getScanNumFromIdentifier\n",
        "\n",
        "# Loop over pyCERR files\n",
        "fileList = os.listdir(inputDicomPath)\n",
        "numFiles = len(fileList)\n",
        "modality = 'CT'\n",
        "scanNum = 0\n",
        "\n",
        "for iFile in range(numFiles):\n",
        "\n",
        "    inputFilename = fileList[iFile]\n",
        "    dcmDir = os.path.join(inputDicomPath, inputFilename)\n",
        "\n",
        "    # Import DICOM scan to planC\n",
        "    planC = pc.loadDcmDir(dcmDir)\n",
        "\n",
        "    # -------------------------\n",
        "    # Run DeepLab models\n",
        "    # -------------------------\n",
        "    modelName = 'deeplab'\n",
        "    # Create session dir to store temporary data\n",
        "    modInputPath, modOutputPath = createSessionDir(sessionPathDeepLab,\n",
        "                                                   inputDicomPath)\n",
        "    # Export scan to NIfTI\n",
        "    identifier = {'imageType':'CT SCAN'}\n",
        "    scanFilename = os.path.join(modInputPath,\n",
        "                                f\"{inputFilename}_scan_3D.nii.gz\")\n",
        "    scanNum = getScanNumFromIdentifier(identifier, planC)[0]\n",
        "    planC.scan[scanNum].saveNii(scanFilename)\n",
        "\n",
        "    # Apply model\n",
        "    subprocess.run(f\"source {activateScript} && python {deeplabScriptPath} \\\n",
        "                  {scanFilename} {modInputPath} {modOutputPath}\", \\\n",
        "                  capture_output=False, shell=True, executable=\"/bin/bash\")\n",
        "\n",
        "    # Import results to planC\n",
        "    outputFiles = os.listdir(modOutputPath)\n",
        "    scanList = [scanNum]\n",
        "    numExistingStructs = len(planC.structure)\n",
        "    planC, exportStrV = postProcAndImportSeg(modelName, deeplabStrToLabelMap,\n",
        "                                             modOutputPath, scanList, planC)\n",
        "\n",
        "    # -------------------------\n",
        "    # Run self-attention model\n",
        "    # -------------------------\n",
        "    modelName = 'selfattn'\n",
        "    modInputPath, modOutputPath = createSessionDir(sessionPathSelfAttn,\n",
        "                                                   inputDicomPath)\n",
        "\n",
        "    # Pre-processing\n",
        "    scanList, validSlicesV, procGridS, limitsM, planC = processInputData(planC)\n",
        "    origScanNum = scanList[0]\n",
        "    procScanNum = scanList[2]\n",
        "    scanFilename = os.path.join(modInputPath,\n",
        "                                f\"{inputFilename}_scan_3D.nii.gz\")\n",
        "    #Export processed scan to NIfTI\n",
        "    planC.scan[procScanNum].saveNii(scanFilename)\n",
        "\n",
        "    # Apply model\n",
        "    subprocess.run(f\"source {activateScript} && python {selfattnScriptPath} \\\n",
        "                  {modInputPath} {modOutputPath}\", \\\n",
        "                  capture_output=False, shell=True, executable=\"/bin/bash\")\n",
        "\n",
        "    # Import results to planC\n",
        "    planC, procStrV = postProcAndImportSeg(modelName, selfAttnStrToLabelMap,\n",
        "                                           modOutputPath, scanList, planC,\n",
        "                                           validSlicesV, procGridS, limitsM)\n",
        "    exportStrV = exportStrV + procStrV\n",
        "\n",
        "    # Export segmentations to DICOM\n",
        "    newNumStructs = len(planC.structure)\n",
        "    structFileName = inputFilename + '_AI_seg.dcm'\n",
        "    structFilePath = os.path.join(outputDicomPath, structFileName)\n",
        "    seriesDescription = \"AI Generated\"\n",
        "    exportOpts = {'seriesDescription': seriesDescription}\n",
        "\n",
        "    indOrigV = np.array([cerrScn.getScanNumFromUID(planC.structure[structNum].assocScanUID,\\\n",
        "                        planC) for structNum in exportStrV], dtype=int)\n",
        "    structsToExportV = np.array(exportStrV)[indOrigV == origScanNum]\n",
        "    rtstruct_iod.create(structsToExportV, structFilePath, planC, exportOpts)"
      ]
    },
    {
      "cell_type": "markdown",
      "metadata": {
        "id": "Kugws3KBl4MK"
      },
      "source": [
        "## **Optional**: Uncomment the following to download the output segmentations to your workspace bucket."
      ]
    },
    {
      "cell_type": "code",
      "execution_count": null,
      "metadata": {
        "id": "_nkTBkijl23J"
      },
      "outputs": [],
      "source": [
        "# workspaceBucket = os.environ['WORKSPACE_BUCKET']\n",
        "# !gcloud storage cp -r {outputDicomPath} {workspaceBucket}"
      ]
    },
    {
      "cell_type": "markdown",
      "metadata": {
        "id": "iLzFp-l_sgcT"
      },
      "source": [
        "# Display results"
      ]
    },
    {
      "cell_type": "markdown",
      "metadata": {
        "id": "L8FTwNqhsgcT"
      },
      "source": [
        "## Overlay AI segmentations on scan for visualization using ***Matplotlib***\n",
        "\n",
        "Note: This example displays the last segmented dataset by default.    \n",
        "Load the appropriate pyCERR archive to `planC` to view results for desired dataset."
      ]
    },
    {
      "cell_type": "code",
      "source": [
        "from cerr.viewer import showMplNb\n",
        "\n",
        "showMplNb(planC=planC, scan_nums=origScanNum,\n",
        "          struct_nums=structsToExportV,\n",
        "          windowCenter=50, windowWidth=450)"
      ],
      "metadata": {
        "colab": {
          "base_uri": "https://localhost:8080/",
          "height": 531,
          "referenced_widgets": [
            "b7a03eda98024454aba4b15137eb367f",
            "dbba243d65ea45f182df0c12670c723a",
            "c736f007041843248e9239a4b620055a",
            "a4b55512f2234367a265e0f836e94707",
            "69d21b3fa250432b8fe861bf89757f4e",
            "35ad36ecc0c346f3b03a35b24e8c38b6",
            "f51886d8c2a5416c944bb07763ed4e7f",
            "60986c717c8f438584cb6ebc36a60aa5",
            "6ddc4549617c4f24ac0949ef889616aa",
            "2447025a6b7a48228d1093cba2a17011",
            "7b5f268fc3fb48d097c02a2998513b19",
            "9fe4160e1e1a4475b11442efdfdb5b83",
            "edcfbfcd5a004fdfbdbeecff0690b7a9"
          ]
        },
        "id": "d9JsEf1SQNcr",
        "outputId": "07129939-8c3a-464c-d86d-2330f5a5c8f8"
      },
      "execution_count": null,
      "outputs": [
        {
          "output_type": "display_data",
          "data": {
            "text/plain": [
              "HBox(children=(Dropdown(description='view', options=('Axial', 'Sagittal', 'Coronal'), value='Axial'), IntSlide…"
            ],
            "application/vnd.jupyter.widget-view+json": {
              "version_major": 2,
              "version_minor": 0,
              "model_id": "b7a03eda98024454aba4b15137eb367f"
            }
          },
          "metadata": {}
        },
        {
          "output_type": "display_data",
          "data": {
            "text/plain": [
              "Output()"
            ],
            "application/vnd.jupyter.widget-view+json": {
              "version_major": 2,
              "version_minor": 0,
              "model_id": "9fe4160e1e1a4475b11442efdfdb5b83"
            }
          },
          "metadata": {}
        }
      ]
    }
  ],
  "metadata": {
    "colab": {
      "provenance": [],
      "gpuType": "T4"
    },
    "kernelspec": {
      "display_name": "Python 3",
      "name": "python3"
    },
    "language_info": {
      "codemirror_mode": {
        "name": "ipython",
        "version": 3
      },
      "file_extension": ".py",
      "mimetype": "text/x-python",
      "name": "python",
      "nbconvert_exporter": "python",
      "pygments_lexer": "ipython3",
      "version": "3.11.9"
    },
    "toc": {
      "base_numbering": 1,
      "nav_menu": {},
      "number_sections": true,
      "sideBar": true,
      "skip_h1_title": false,
      "title_cell": "Table of Contents",
      "title_sidebar": "Contents",
      "toc_cell": false,
      "toc_position": {},
      "toc_section_display": true,
      "toc_window_display": false
    },
    "widgets": {
      "application/vnd.jupyter.widget-state+json": {
        "b7a03eda98024454aba4b15137eb367f": {
          "model_module": "@jupyter-widgets/controls",
          "model_name": "HBoxModel",
          "model_module_version": "1.5.0",
          "state": {
            "_dom_classes": [],
            "_model_module": "@jupyter-widgets/controls",
            "_model_module_version": "1.5.0",
            "_model_name": "HBoxModel",
            "_view_count": null,
            "_view_module": "@jupyter-widgets/controls",
            "_view_module_version": "1.5.0",
            "_view_name": "HBoxView",
            "box_style": "",
            "children": [
              "IPY_MODEL_dbba243d65ea45f182df0c12670c723a",
              "IPY_MODEL_c736f007041843248e9239a4b620055a",
              "IPY_MODEL_a4b55512f2234367a265e0f836e94707"
            ],
            "layout": "IPY_MODEL_69d21b3fa250432b8fe861bf89757f4e"
          }
        },
        "dbba243d65ea45f182df0c12670c723a": {
          "model_module": "@jupyter-widgets/controls",
          "model_name": "DropdownModel",
          "model_module_version": "1.5.0",
          "state": {
            "_dom_classes": [],
            "_model_module": "@jupyter-widgets/controls",
            "_model_module_version": "1.5.0",
            "_model_name": "DropdownModel",
            "_options_labels": [
              "Axial",
              "Sagittal",
              "Coronal"
            ],
            "_view_count": null,
            "_view_module": "@jupyter-widgets/controls",
            "_view_module_version": "1.5.0",
            "_view_name": "DropdownView",
            "description": "view",
            "description_tooltip": null,
            "disabled": false,
            "index": 0,
            "layout": "IPY_MODEL_35ad36ecc0c346f3b03a35b24e8c38b6",
            "style": "IPY_MODEL_f51886d8c2a5416c944bb07763ed4e7f"
          }
        },
        "c736f007041843248e9239a4b620055a": {
          "model_module": "@jupyter-widgets/controls",
          "model_name": "IntSliderModel",
          "model_module_version": "1.5.0",
          "state": {
            "_dom_classes": [],
            "_model_module": "@jupyter-widgets/controls",
            "_model_module_version": "1.5.0",
            "_model_name": "IntSliderModel",
            "_view_count": null,
            "_view_module": "@jupyter-widgets/controls",
            "_view_module_version": "1.5.0",
            "_view_name": "IntSliderView",
            "continuous_update": true,
            "description": "slcNum",
            "description_tooltip": null,
            "disabled": false,
            "layout": "IPY_MODEL_60986c717c8f438584cb6ebc36a60aa5",
            "max": 90,
            "min": 1,
            "orientation": "horizontal",
            "readout": true,
            "readout_format": "d",
            "step": 1,
            "style": "IPY_MODEL_6ddc4549617c4f24ac0949ef889616aa",
            "value": 44
          }
        },
        "a4b55512f2234367a265e0f836e94707": {
          "model_module": "@jupyter-widgets/controls",
          "model_name": "FloatSliderModel",
          "model_module_version": "1.5.0",
          "state": {
            "_dom_classes": [],
            "_model_module": "@jupyter-widgets/controls",
            "_model_module_version": "1.5.0",
            "_model_name": "FloatSliderModel",
            "_view_count": null,
            "_view_module": "@jupyter-widgets/controls",
            "_view_module_version": "1.5.0",
            "_view_name": "FloatSliderView",
            "continuous_update": true,
            "description": "doseAlpha",
            "description_tooltip": null,
            "disabled": false,
            "layout": "IPY_MODEL_2447025a6b7a48228d1093cba2a17011",
            "max": 1,
            "min": 0,
            "orientation": "horizontal",
            "readout": true,
            "readout_format": ".2f",
            "step": 0.02,
            "style": "IPY_MODEL_7b5f268fc3fb48d097c02a2998513b19",
            "value": 0.5
          }
        },
        "69d21b3fa250432b8fe861bf89757f4e": {
          "model_module": "@jupyter-widgets/base",
          "model_name": "LayoutModel",
          "model_module_version": "1.2.0",
          "state": {
            "_model_module": "@jupyter-widgets/base",
            "_model_module_version": "1.2.0",
            "_model_name": "LayoutModel",
            "_view_count": null,
            "_view_module": "@jupyter-widgets/base",
            "_view_module_version": "1.2.0",
            "_view_name": "LayoutView",
            "align_content": null,
            "align_items": null,
            "align_self": null,
            "border": null,
            "bottom": null,
            "display": null,
            "flex": null,
            "flex_flow": null,
            "grid_area": null,
            "grid_auto_columns": null,
            "grid_auto_flow": null,
            "grid_auto_rows": null,
            "grid_column": null,
            "grid_gap": null,
            "grid_row": null,
            "grid_template_areas": null,
            "grid_template_columns": null,
            "grid_template_rows": null,
            "height": null,
            "justify_content": null,
            "justify_items": null,
            "left": null,
            "margin": null,
            "max_height": null,
            "max_width": null,
            "min_height": null,
            "min_width": null,
            "object_fit": null,
            "object_position": null,
            "order": null,
            "overflow": null,
            "overflow_x": null,
            "overflow_y": null,
            "padding": null,
            "right": null,
            "top": null,
            "visibility": null,
            "width": null
          }
        },
        "35ad36ecc0c346f3b03a35b24e8c38b6": {
          "model_module": "@jupyter-widgets/base",
          "model_name": "LayoutModel",
          "model_module_version": "1.2.0",
          "state": {
            "_model_module": "@jupyter-widgets/base",
            "_model_module_version": "1.2.0",
            "_model_name": "LayoutModel",
            "_view_count": null,
            "_view_module": "@jupyter-widgets/base",
            "_view_module_version": "1.2.0",
            "_view_name": "LayoutView",
            "align_content": null,
            "align_items": null,
            "align_self": null,
            "border": null,
            "bottom": null,
            "display": null,
            "flex": null,
            "flex_flow": null,
            "grid_area": null,
            "grid_auto_columns": null,
            "grid_auto_flow": null,
            "grid_auto_rows": null,
            "grid_column": null,
            "grid_gap": null,
            "grid_row": null,
            "grid_template_areas": null,
            "grid_template_columns": null,
            "grid_template_rows": null,
            "height": null,
            "justify_content": null,
            "justify_items": null,
            "left": null,
            "margin": null,
            "max_height": null,
            "max_width": null,
            "min_height": null,
            "min_width": null,
            "object_fit": null,
            "object_position": null,
            "order": null,
            "overflow": null,
            "overflow_x": null,
            "overflow_y": null,
            "padding": null,
            "right": null,
            "top": null,
            "visibility": null,
            "width": null
          }
        },
        "f51886d8c2a5416c944bb07763ed4e7f": {
          "model_module": "@jupyter-widgets/controls",
          "model_name": "DescriptionStyleModel",
          "model_module_version": "1.5.0",
          "state": {
            "_model_module": "@jupyter-widgets/controls",
            "_model_module_version": "1.5.0",
            "_model_name": "DescriptionStyleModel",
            "_view_count": null,
            "_view_module": "@jupyter-widgets/base",
            "_view_module_version": "1.2.0",
            "_view_name": "StyleView",
            "description_width": ""
          }
        },
        "60986c717c8f438584cb6ebc36a60aa5": {
          "model_module": "@jupyter-widgets/base",
          "model_name": "LayoutModel",
          "model_module_version": "1.2.0",
          "state": {
            "_model_module": "@jupyter-widgets/base",
            "_model_module_version": "1.2.0",
            "_model_name": "LayoutModel",
            "_view_count": null,
            "_view_module": "@jupyter-widgets/base",
            "_view_module_version": "1.2.0",
            "_view_name": "LayoutView",
            "align_content": null,
            "align_items": null,
            "align_self": null,
            "border": null,
            "bottom": null,
            "display": null,
            "flex": null,
            "flex_flow": null,
            "grid_area": null,
            "grid_auto_columns": null,
            "grid_auto_flow": null,
            "grid_auto_rows": null,
            "grid_column": null,
            "grid_gap": null,
            "grid_row": null,
            "grid_template_areas": null,
            "grid_template_columns": null,
            "grid_template_rows": null,
            "height": null,
            "justify_content": null,
            "justify_items": null,
            "left": null,
            "margin": null,
            "max_height": null,
            "max_width": null,
            "min_height": null,
            "min_width": null,
            "object_fit": null,
            "object_position": null,
            "order": null,
            "overflow": null,
            "overflow_x": null,
            "overflow_y": null,
            "padding": null,
            "right": null,
            "top": null,
            "visibility": null,
            "width": null
          }
        },
        "6ddc4549617c4f24ac0949ef889616aa": {
          "model_module": "@jupyter-widgets/controls",
          "model_name": "SliderStyleModel",
          "model_module_version": "1.5.0",
          "state": {
            "_model_module": "@jupyter-widgets/controls",
            "_model_module_version": "1.5.0",
            "_model_name": "SliderStyleModel",
            "_view_count": null,
            "_view_module": "@jupyter-widgets/base",
            "_view_module_version": "1.2.0",
            "_view_name": "StyleView",
            "description_width": "",
            "handle_color": null
          }
        },
        "2447025a6b7a48228d1093cba2a17011": {
          "model_module": "@jupyter-widgets/base",
          "model_name": "LayoutModel",
          "model_module_version": "1.2.0",
          "state": {
            "_model_module": "@jupyter-widgets/base",
            "_model_module_version": "1.2.0",
            "_model_name": "LayoutModel",
            "_view_count": null,
            "_view_module": "@jupyter-widgets/base",
            "_view_module_version": "1.2.0",
            "_view_name": "LayoutView",
            "align_content": null,
            "align_items": null,
            "align_self": null,
            "border": null,
            "bottom": null,
            "display": null,
            "flex": null,
            "flex_flow": null,
            "grid_area": null,
            "grid_auto_columns": null,
            "grid_auto_flow": null,
            "grid_auto_rows": null,
            "grid_column": null,
            "grid_gap": null,
            "grid_row": null,
            "grid_template_areas": null,
            "grid_template_columns": null,
            "grid_template_rows": null,
            "height": null,
            "justify_content": null,
            "justify_items": null,
            "left": null,
            "margin": null,
            "max_height": null,
            "max_width": null,
            "min_height": null,
            "min_width": null,
            "object_fit": null,
            "object_position": null,
            "order": null,
            "overflow": null,
            "overflow_x": null,
            "overflow_y": null,
            "padding": null,
            "right": null,
            "top": null,
            "visibility": null,
            "width": null
          }
        },
        "7b5f268fc3fb48d097c02a2998513b19": {
          "model_module": "@jupyter-widgets/controls",
          "model_name": "SliderStyleModel",
          "model_module_version": "1.5.0",
          "state": {
            "_model_module": "@jupyter-widgets/controls",
            "_model_module_version": "1.5.0",
            "_model_name": "SliderStyleModel",
            "_view_count": null,
            "_view_module": "@jupyter-widgets/base",
            "_view_module_version": "1.2.0",
            "_view_name": "StyleView",
            "description_width": "",
            "handle_color": null
          }
        },
        "9fe4160e1e1a4475b11442efdfdb5b83": {
          "model_module": "@jupyter-widgets/output",
          "model_name": "OutputModel",
          "model_module_version": "1.0.0",
          "state": {
            "_dom_classes": [],
            "_model_module": "@jupyter-widgets/output",
            "_model_module_version": "1.0.0",
            "_model_name": "OutputModel",
            "_view_count": null,
            "_view_module": "@jupyter-widgets/output",
            "_view_module_version": "1.0.0",
            "_view_name": "OutputView",
            "layout": "IPY_MODEL_edcfbfcd5a004fdfbdbeecff0690b7a9",
            "msg_id": "",
            "outputs": [
              {
                "output_type": "display_data",
                "data": {
                  "text/plain": "<Figure size 600x600 with 1 Axes>",
                  "image/png": "iVBORw0KGgoAAAANSUhEUgAAAroAAAHiCAYAAAAHyG8eAAAAOXRFWHRTb2Z0d2FyZQBNYXRwbG90bGliIHZlcnNpb24zLjcuMSwgaHR0cHM6Ly9tYXRwbG90bGliLm9yZy/bCgiHAAAACXBIWXMAAA9hAAAPYQGoP6dpAAEAAElEQVR4nOzdd3hUZfbA8e/0mp6QQhISqvSOgAVRFHTFLrtYUbCjP1axl1Xsa++6FmBZd11XbGsBy4oKWBClSQ8llIT0Mr3+/pi8N3cAESyA8XyeJw9k5s69d+5AcubMec8xxOPxOEIIIYQQQrQxxgN9AkIIIYQQQvwaJNAVQgghhBBtkgS6QgghhBCiTZJAVwghhBBCtEkS6AohhBBCiDZJAl0hhBBCCNEmSaArhBBCCCHaJAl0hRBCCCFEm2Tem41isRjbt28nJSUFg8Hwa5+TEEII8ZsWj8dpbm6moKAAo1FySkIcKHsV6G7fvp2ioqJf+1yEEEKINmXLli0UFhYe6NMQ4ndrr95mpqSk/NrnIYQQQrQ58vtTiANrrwJdKVcQQggh9p38/hTiwJLCISGEEEII0SZJoCuEEEIIIdokCXSFEEIIIUSbJIGuEEIIIYRokyTQFUIIIYQQbZIEukIIIYQQok2SQFcIIYQQQrRJEugKIYQQQog2SQJdIYQQQgjRJkmgK4QQQggh2iQJdIUQQgghRJskga4QQgghhGiTJNAVQgghhBBtkgS6QgghhBCiTZJAVwghhBBCtEkS6AohhBBCiDZJAl0hhBBCCNEmSaArhBBCCCHaJAl0hRBCCCFEmySBrhBCCCGEaJMk0BVCCCGEEG2SBLpCCCGEEKJNkkBXCCGEEEK0SRLoCiGEEEKINkkCXSGEEEII0SZJoCuEEEIIIdokCXSFEEIIIUSbJIGuEEIIIYRokyTQFUIIIYQQbZIEukIIIYQQok2SQFcIIYQQQrRJEugKIYQQQog2SQJdIYQQQgjRJkmgK4QQQggh2iQJdIUQQgghRJskga4QQgghhGiTJNAVQgghhBBtkgS6QgghhBCiTZJAVwghhBBCtEkS6AohhBBCiDZJAl0hhBBCCNEmSaArhBBCCCHaJAl0hRBCCCFEmySBrhBCCCGEaJMk0BVCCCGEEG2SBLpCCCGEEKJNkkBXCCGEEEK0SRLoCiGEEEKINkkCXSGEEEII0SZJoCuEEEIIIdokCXSFEEIIIUSbJIGuEEIIIYRokyTQFUIIIYQQbZIEukIIIYQQok2SQFcIIYQQQrRJEugKIYQQQog2SQJdIYQQQgjRJkmgK4QQQggh2iQJdIUQQgghRJskga4QQgghhGiTJNAVQgghhBBtkgS6QgghhBCiTZJAVwghhBBCtEkS6AohhBBCiDZJAl0hhBBCCNEmSaArhBBCCCHaJAl0hRBCCCFEmySBrhBCCCGEaJMk0BVCCCGEEG2SBLpCCCGEEKJNkkBXCCGEEEK0SRLoCiGEEEKINkkCXSGEEEII0SZJoCuEEEIIIdokCXSFEEIIIUSbJIGuEEIIIYRokyTQFUIIIYQQbZIEukIIIYQQok0yH+gTEEIIIX6votEo4XD4QJ+GEL8pFosFk8m0V9tKoCuEEELsZ/F4nMrKShoaGg70qQjxm5Senk5eXh4Gg2GP20mgK4QQQuxnKsht164dTqfzR39ZCyES4vE4Pp+PqqoqAPLz8/e4vQS6QgghxH4UjUa1IDcrK+tAn44QvzkOhwOAqqoq2rVrt8cyBlmMJoQQQuxHqibX6XQe4DMR4rdL/f/5sRp3CXSFEEKIA0DKFYT46fb2/48EukIIIYQQok2SQFcIIYQQv7p4PM7FF19MZmYmBoOBJUuWHOhTEr8DshhNCCGEOAhU/H3/ljLknxffp+0nTJhAQ0MDb7755k863pw5c5gxYwbz5s2jY8eOZGdnYzAYeOONNzjllFP2+Fj1MfUXX3zB0KFDtduDwSAFBQXU1dXxySefcNRRR/2kc/slHXXUUfTr149HH330QJ+KQDK6QgghhNgPysrKyM/PZ/jw4eTl5WE271uuraioiOnTpyfd9sYbb+B2u3/J0zxohEKhA30KbYIEukIIIYT42VasWMHxxx+P2+0mNzeXc889l5qaGiCRDb7yyispLy/HYDBQUlJCSUkJAKeeeqp2256cf/75vPLKK/j9fu22l156ifPPP3+Xba+//nq6du2K0+mkY8eO3HrrrUmr85cuXcrIkSNJSUkhNTWVgQMH8s033wCwefNmxo4dS0ZGBi6Xi549e/Lee+/t9fP89NNPeeyxxzAYDBgMBjZt2vSjj4NEJnjy5MlMmTKF7OxsRo8evfcXX/wgCXSFEEII8bM0NDRw9NFH079/f7755hvmzJnDjh07GDduHACPPfYY06ZNo7CwkIqKChYtWsSiRYsAmD59unbbngwcOJCSkhJmz54NQHl5OZ999hnnnnvuLtumpKQwY8YMVq5cyWOPPcbzzz/PI488ot1/9tlnU1hYyKJFi1i8eDE33HADFosFgCuuuIJgMMhnn33G8uXLuf/++7Ws8d48z2HDhnHRRRdRUVFBRUUFRUVFP/o4ZebMmVitVhYsWMCzzz77U14KsROp0RVCCCHEz/Lkk0/Sv39/7rnnHu22l156iaKiItauXUvXrl1JSUnBZDKRl5eX9Fg1ynVvXHjhhbz00kucc845zJgxgxNOOIGcnJxdtrvlllu0v5eUlDB16lReeeUVrrvuOiARJF977bUccsghAHTp0kXbvry8nNNPP53evXsD0LFjx316nlarFafTmfSc9uZx6jz++te/7tW1EHtHAl0hhBBC/CxLly7lk08+2W29bFlZmRbI/VznnHMON9xwAxs2bGDGjBk8/vjju93u3//+N48//jhlZWV4PB4ikQipqana/VdffTWTJk1i1qxZjBo1ijPPPJNOnToBcNVVV3HZZZfxwQcfMGrUKE4//XT69Onzs57n3j5u4MCB+3ZBxI+S0gUhhBBC/Cwej4exY8eyZMmSpK9169Zx5JFH/mLHycrK4sQTT2TixIkEAgGOP/74Xbb54osvOPvssznhhBN45513+O6777j55puTFnfdfvvtfP/99/zhD3/gf//7Hz169OCNN94AYNKkSWzYsIFzzz2X5cuXM2jQIJ544omf9Tz39nEul+uXulSihWR0hRBCCPGzDBgwgNmzZ1NSUrJP3RQsFgvRaHSfjnXhhRdywgkncP3112MymXa5f+HChXTo0IGbb75Zu23z5s27bNe1a1e6du3Kn//8Z8aPH8/06dM59dRTgUSHh0svvZRLL72UG2+8keeff54rr7xyr56n1Wrd5Tn91Osjfj7J6AohhBBirzQ2Nu6SldyyZQtXXHEFdXV1jB8/nkWLFlFWVsbcuXO54IIL9hjIlpSU8PHHH1NZWUl9ff1encOYMWOorq5m2rRpu72/S5culJeX88orr1BWVsbjjz+uZWsB/H4/kydPZt68eWzevJkFCxawaNEiunfvDsCUKVOYO3cuGzdu5Ntvv+WTTz7R7tub51lSUsJXX33Fpk2bqKmpIRaL/eTrI34+CXSFEEIIsVfmzZtH//79k77uuOMOCgoKWLBgAdFolOOOO47evXszZcoU0tPTMRp/ONR46KGH+PDDDykqKqJ///57dQ4Gg4Hs7GysVutu7z/ppJP485//zOTJk+nXrx8LFy7k1ltv1e43mUzU1tZy3nnn0bVrV8aNG8fxxx/PHXfcAUA0GuWKK66ge/fujBkzhq5du/L0008D7NXznDp1KiaTiR49epCTk0N5eflPvj7i5zPE4/EfHY3S1NREWlra/jgfIYQQos1obGxMWgQFEAgE2LhxI6Wlpdjt9gN0ZkL8tu3t/yN5GyGEEEIIIdokCXSFEEIIIUSbJIGuEEIIIYRokyTQFUIIIYQQbZIEukIIIYQQok2SQFcIIYQQQrRJEugKIYQQQog2SQJdIYQQQgjRJkmgK4QQQggh2iQJdIUQQgjxi9i0aRMGg4ElS5bs9WNmzJhBenr6r3ZO4vdNAl0hhBDiIGCoMOzXr301YcIEDAYDBoMBi8VCaWkp1113HYFAQNumqKiIiooKevXq9UteGiZMmMApp5zyi+7zYFFSUsKjjz56oE+jzTIf6BMQQgghxG/DmDFjmD59OuFwmMWLF3P++edjMBi4//77ATCZTOTl5R3gs/x9CoVCWK3WA30aBx3J6AohhBBir9hsNvLy8igqKuKUU05h1KhRfPjhh9r9uytdePvtt+nSpQt2u52RI0cyc+ZMDAYDDQ0NSfueO3cu3bt3x+12M2bMGCoqKgC4/fbbmTlzJm+99ZaWUZ43b95uz++oo47iyiuvZMqUKWRkZJCbm8vzzz+P1+vlggsuICUlhc6dO/P+++9rj4lGo0ycOJHS0lIcDgfdunXjscceS9rvvHnzGDJkCC6Xi/T0dA477DA2b94MwNKlSxk5ciQpKSmkpqYycOBAvvnmG+2x8+fP54gjjsDhcFBUVMRVV12F1+vVznfz5s38+c9/1p7b3jwOEpngO++8k/POO4/U1FQuvvjivXgFf38k0BXiIJCenk6nTp3o1asX/fr1o2/fvvTp04eBAwcyaNAgBgwYQM+ePenQoQOpqakH+nSFEIIVK1awcOHCPWYRN27cyBlnnMEpp5zC0qVLueSSS7j55pt32c7n8/Hggw8ya9YsPvvsM8rLy5k6dSoAU6dOZdy4cVrwW1FRwfDhw3/wmDNnziQ7O5uvv/6aK6+8kssuu4wzzzyT4cOH8+2333Lcccdx7rnn4vP5AIjFYhQWFvKf//yHlStXctttt3HTTTfx6quvAhCJRDjllFMYMWIEy5Yt44svvuDiiy/WgtKzzz6bwsJCFi1axOLFi7nhhhuwWCwAlJWVMWbMGE4//XSWLVvGv//9b+bPn8/kyZMBeP311yksLGTatGnac9ubxykPPvggffv25bvvvuPWW2/dq9ft98YQj8fjP7ZRU1MTaWlp++N8hPhdKCkpITs7G5fLhd1ux+l04nK5sFgsmEwmIpEI0WgUs9mM2WzGYDAQjUYJhUJ4PB6ampqora2lvLycurq6A/10hBA/oLGxcZc3p4FAgI0bN1JaWordbtdu/yl1sz9HPP9Hf/0nmTBhAv/4xz+w2+1EIhGCwSBGo5FXX32V008/HUhkdEtLS/nuu+/o168fN9xwA++++y7Lly/X9nPLLbdw9913U19fT3p6OjNmzOCCCy5g/fr1dOrUCYCnn36aadOmUVlZqR27oaGBN998c4/neNRRRxGNRvn888+BRLY2LS2N0047jb///e8AVFZWkp+fzxdffMHQoUN3u5/JkydTWVnJa6+9Rl1dHVlZWcybN48RI0bssm1qaipPPPEE559//i73TZo0CZPJxHPPPafdNn/+fEaMGIHX68Vut1NSUsKUKVOYMmXKPj+uf//+vPHGG3u8Jm3VD/0/2pnU6AqxnxQWFtKhQwcyMzPJzs7GZrMl3W8wGDCZTEDih3M0GsVkMmE2mzGZTBgMBmKxmPbRWWFhIZ07d2bevHnU1NQciKckhPidGTlyJM888wxer5dHHnkEs9msBbm7s2bNGgYPHpx025AhQ3bZzul0akEuQH5+PlVVVT/pHPv06aP93WQykZWVRe/evbXbcnNzAZL2/9RTT/HSSy9RXl6O3+8nFArRr18/ADIzM5kwYQKjR4/m2GOPZdSoUYwbN478/HwArr76aiZNmsSsWbMYNWoUZ555pvZcli5dyrJly3j55Ze1Y8XjcWKxGBs3bqR79+67fQ57+7hBgwb9pGv0eyKBrhC/ol69etGpUycyMzNxOp3Y7XYsFgsGg4FwOEwoFCIcDhMOh4lGo8RiMQDtT6PRiNFo1DK7gJbpdTgc5Ofnk5OTQ0VFBStXrmTt2rU/+5wLCgrYvn37z96PEKLtcblcdO7cGYCXXnqJvn378uKLLzJx4sSftV/1Ub9iMBjYiw+c93pf+ttUyYH6OfvKK68wdepUHnroIYYNG0ZKSgoPPPAAX331lfaY6dOnc9VVVzFnzhz+/e9/c8stt/Dhhx8ydOhQbr/9ds466yzeffdd3n//ff7yl7/wyiuvcOqpp+LxeLjkkku46qqrdjnP4uLiH3wOe/s4l8u1l1fl90sCXSF+BT179mTYsGHk5eVhs9mIx+P4fD4toA0GgzQ3NxMIBAiFQlqpgsFgwGhMlM6rDK8KdtXt8Xhcy/BarVbatWtHamoqWVlZFBcXs27dOm2RxE+hAmohhNgTo9HITTfdxNVXX81ZZ52Fw+HYZZtu3brx3nvvJd22aNGifT6W1WolGo3+5HPdkwULFjB8+HAuv/xy7baysrJdtuvfvz/9+/fnxhtvZNiwYfzzn//USh+6du1K165d+fOf/8z48eOZPn06p556KgMGDGDlypXam4Pd2d1z25vHib0jv9GE+AUdcsgh/OlPf8JgMBAIBGhqaqKxsZHGxkY8Hg/RaFSrJfJ6vVr/SYvFgtVq1Wp0rVarVrKgqOyGCpS9Xi/V1dVaMOxwOOjRowdHHHEEqampBAIB1qxZw4cffsi2bdv2+jmUl5f/gldECNGWnXnmmVx77bU89dRT2uIxvUsuuYSHH36Y66+/nokTJ7JkyRJmzJgBkNRh4MeUlJQwd+5c1qxZQ1ZWFmlpabtkbn+qLl268Pe//525c+dSWlrKrFmzWLRoEaWlpUBiQd3f/vY3TjrpJAoKClizZg3r1q3jvPPOw+/3c+2113LGGWdQWlrK1q1bWbRokVbOcf311zN06FAmT57MpEmTcLlcrFy5kg8//JAnn3xSe26fffYZf/rTn7DZbGRnZ+/V48Teka4LQvxCTjzxRE466SS8Xi81NTVUV1dTV1enBbnhcJh4PE4kEgES7+Ltdjt2ux2Xy0VqaipOpxObzYbD4cDtduN0OnE4HNr3brcbh8OhBcRGo5FIJILP56O2tpbt27ezZcsWtm3bRigUoqSkhDPPPJOMjIwDfHWEEG2R2Wxm8uTJ/PWvf01qfaWUlpby2muv8frrr9OnTx+eeeYZrevCzusU9uSiiy6iW7duDBo0iJycHBYsWPCLPYdLLrmE0047jT/+8Y8ceuih1NbWJmV3nU4nq1ev5vTTT6dr165cfPHFXHHFFVxyySWYTCZqa2s577zz6Nq1K+PGjeP444/njjvuABL1wp9++ilr167liCOOoH///tx2220UFBRo+582bRqbNm2iU6dO5OTk7PXjxN6RrgtC/ExpaWmMGzeOwsJCIpEI69evx+/3EwgECIfDRCIRrdzAYrFgsViw2+0YjUZisRixWAybzYbdbtcyHFarFavVitFoJBqNao83mUyEQiGtDCISiRAIBAgGg1pZhN1uJy0tjZycHC1Yrq6u5tNPP2Xp0qUH+GoJ8fuyL10Xfi/uvvtunn32WbZs2XKgT0X8hknXBSH2g0GDBjF06FDS09NpaGigvr6e+vp6wuEwwWCQWCyG0WjUWojZbDasVitOp1OrhVXbWCwWTEYj2U1rcNdvAsBgMBKPx4jF4mCy0JDdF58zH4vFQjAY1EofzGazdsx4PE44HMbj8WjZ3rS0NE499VT69evHG2+8QVNT04G6ZEKI35mnn36awYMHk5WVxYIFC3jggQd26QcrxK9FAl0hfqJRo0Zx5JFHYjAYqKqqoqKigurqagKBgJaZNZvN2O123C4XPU1baBfcgSFkwOQzJoJY4tDyoYrBYMAaqMUS9vzgMTPrluOztyNmTrx7jcfjNJgy2eDsib8lWxyJRIhEItTW1gKJ9jrt27enoKCAAQMGkJuby1tvvcWaNWt+5SskhBCwbt067rrrLurq6iguLuaaa67hxhtvPNCnJX4npHRBiJ9g1KhR9OjRg9TUVLxeL5WVldTU1FBfX088HsdmsyXKEWw2epq20T28GnM8/Kuek8eSSbWzlM3u3jS3DJUIh8NYrVYyMzNxuVxkZGSQmppKOBxm7dq1vPLKK7/qOQnxeyelC0L8OqR0QYhfyTHHHMOwYcPw+/1UVVXR3NxMfX09Xq+XSCSCzWbD5XLhdrnoF1tNiX/1Pu0/bHJSlTMYf/YhGDAQi8cwxOO0q/qSlNqVGOK7b7HjDtfhbqwjFR/LXYO10olIJKItjqutraWoqIiSkhKOPvpoXC4XL7744i9xWYQQQoiDjgS6QuyDnj170qNHDyDxblK1CItGoxiNRqxWKykpKaSnpdE3uooiXZAbtqVTXzqaekehNrZXtQ9TC9cMBgNWhwuzxQoBtHHAsViMhuyjsOcfg4G4NlzC7q+iqGo+jkA1xpYAOKtxFUc1rmJDSn9W2joRCAbxeDzEYjF8Ph9VVVVYrVaysrLo2rUrU6dO5eGHH9aapwshhBBthQS6Quylzp07M2bMGKxWK9XV1dTU1NDQ0KCN6zUajTidTtJSU+kTWUmRdyUAcaCiw/F4cgdoGdZwPNEWzNiSnA2EojQ3e1s6NNQTCoVoampi6dKlWj9d1bqnY8eOHHbYYWRnZ9NgyaGh/amYTCayfZso2fIuBhLVSB2bv8OWHmdlak/8fj+xWIxQKKSVVzQ2NlJQUEDPnj257rrruO+++w7EZRVCCCF+NRLoCrEXhg4dygknnIDH49GC3EAggMlkwm63YzabsVgsuJxOuvuXklevC3KLj6cmrQdRr5dYLEY8Ht9l0hkkBkFUVlaybds2ampqtNtV311lw4YNdO7cWaubDwQCxGIxvMYc/Pl/oEPDIlz+HQC0b1iCPc/Ot7md8Pp82r48Hg87duxg/fr1LF26lJ49e/L2229z0kkn/erXUgghhNhfJNAVYg8yMzM588wzSUtLo7a2loaGBnw+HyaTifT0dGw2GxaLRQtcixsWk1e/BEgEuVWlJ1Kf3oNIS9uveDxOKBTSyhQsFos26jcSieB2u0lLSyMej9Pc3EwwGMTpdFJYWEhqamqig4PbTWpqKh6PB4vFQjwe18oO6u0F+Ev+SG7TSgq3fQRAVuWX9EgP8r2jOz6/H0DrzODz+QiFQmzfvp3169czfPhwFi5ceCAutRBCCPGLk0BXiB/QoUMHLrnkEjIzMykrK6OyspJIJILZbNYGMVitVq3ONhoK0r62dYZ7ZckJNGT2IhoOayUL0WhUG+ygssBWqzVpIERaWhrBYBAAh8NBamoqWVlZZGdnYzabaWhooLq6mkgkgsFgSO7D2zItrTq9F/F4jKLt/wOgfcN3xNNiLLcegqFlmhokssGhUIiKigogMd2ttrZWWo8JIYRoE2QEsBA7ad++PePHj+ess86iubmZJUuWsHXrVuLxOE6nk4yMDNLT00lNTcXlcmGxWIhGo+RWztf24XXmU5PWQ1uoZjAYiEajhEIh4vE4ZrNZC3TtdrsW0Obn59O1a1f69evHgAED6Nu3L126dCE7O1vL8oZCISwWy24HTqgMbzQapcLdnc25R2nnVNi4lI7RzdrQCjUnPh6P4/f7qampITs7W8oXhBC/ing8zsUXX0xmZiYGg4ElS5Yc6FPaxaZNm5LObd68eRgMBhoaGvZ6H0cddRRTpkz5Vc7vYLY312rGjBmkp6fvt3MCyegKkeSoo47imGOOIT09naqqKtatW8f27duJxWJ07twZt9utBadqTnskEiEc8JFf/522ny1Zh2pTy1QtrtFo1AZJqMloNpsNs9lMLBbTRgSbzWZtW4PBoJU7BINBQqGQNjLYarVq3RcgEfCGw629euPxONvdh4DBQIfKT4DEArUK9yEYDAbMZjNWq5VIJILX6yUcDlNbW0tBQQHHHnssH3744a9/wYUQmoqWnw/7S/6Pt9FPMmHCBBoaGnjzzTd/0vHmzJnDjBkzmDdvHh07diQ7OxuDwcAbb7zBKaec8pP2+WsbPnw4FRUV+32WwM+91gfCgbpWP0YCXSGAIUOG0L9/f4xGI1u3bmXDhg00NDTQ1NREMBjEYrGQnZ2NxWLRsrJKLBYjv6q1rtXjyKPemkcsFNLKGlQdrmpq7XA4tKBWdUMIh8PE43EtGFb7jsViRKOJ9gyqA4PBYMBoNBKNRrWAOqQ7nn6xW4X7EAosi7CEPVhiQdp7V7HeVIrZbMblchEIBIjH40QiEcrLyykqKmLkyJFkZ2fz5ptv4m+p6xVCiJ+jrKyM/Px8hg8ffqBPZa9ZrVby8vIO9Gn8ZKFQCKvVul+OdbBeKyldEAIYO3YsBQUF+Hw+1q9fz/fff8/atWupqKggGAzicDhISUnBZrNpWVZAWwiW7tui7auyYCQmk4lYLEYgEMDj8RAIBDAajYlBEm63VnYQiUQIh8MEAgF8Ph9NTU14vV5t2IMqd9B/qaBX3W8ymbQyCNXqDNDqdwOBAFuyh2nnV9K0hGg4pE1My8nJITU1FavVyrZt29iyZQvRaJTBgwdz9dVXM2TIkP31MgghfsNWrFjB8ccfj9vtJjc3l3PPPZeamhogkaG88sorKS8vx2AwUFJSQklJCQCnnnqqdtvuqHKCV199lSOOOAKHw8HgwYNZu3YtixYtYtCgQbjdbo4//niqq6uTHvvCCy/QvXt37HY7hxxyCE8//XTS/V9//TX9+/fHbrczaNAgvvvuu6T7d/44vra2lvHjx9O+fXucTie9e/fmX//61z5dp9tvv51+/frx3HPPUVRUhNPpZNy4cTQ2Nmr3z5w5k7feekv7ZG/evHkAbNmyhXHjxpGenk5mZiYnn3wymzZt0vY9YcIETjnlFO6++24KCgro1q0b06ZNo1evXrucR79+/bj11luBxO+iq666ivT0dLKysrj++us5//zzkzLtwWCQq666inbt2mG32zn88MNZtKh1XcruShdmzJhBcXExTqeTU089VRtNvz9JoCt+10499VTOOeccvv/+e77++ms2bdqEx+MhGAzi9/sJBALacAWz2axlXFXWNRaLYQg24Y40ABA1mAmkFGK1WjEajVoQq++yYLVaCQaDBAIBAoEAwWBQ+0r00Y1r09VSUlJwuVxaBlgF2SoAVjXAqgxCvXM3Go3a+UYiEXY4SglZ3ABYYkE6hDZgs9nIzMwkNzeXnJwc0tLSCIfDNDQ0sG3bNqqqqrDb7YwdO5arrrqKESNGHJDXSAhx8GtoaODoo4+mf//+fPPNN8yZM4cdO3Ywbtw4AB577DGmTZtGYWEhFRUVLFq0SAuSpk+frt22J3/5y1+45ZZb+PbbbzGbzZx11llcd911PPbYY3z++eesX7+e2267Tdv+5Zdf5rbbbuPuu+9m1apV3HPPPdx6663MnDkTSLRZPPHEE+nRoweLFy/m9ttvZ+rUqXs8h0AgwMCBA3n33XdZsWIFF198Meeeey5ff/31Pl2v9evX8+qrr/Lf//6XOXPm8N1333H55ZcDMHXqVMaNG8eYMWOoqKigoqKC4cOHEw6HGT16NCkpKXz++ecsWLAAt9vNmDFjCIVC2r4//vhj1qxZw4cffsg777zDhRdeyKpVq5Ku73fffceyZcu44IILALj//vt5+eWXmT59OgsWLKCpqWmXsonrrruO2bNnM3PmTL799ls6d+7M6NGjtQFIO/vqq6+YOHEikydPZsmSJYwcOZK77rprn67TL0FKF8Tv1hVXXEHPnj1Zu3Ytn3/+Oc3NzUAiExqJRAgEAlgsFm0BGpA0PUx1Umi34yvtNo8jT1scZrVaCYfDWCwWLQg1tnQ8UOUCKusaCoW0jg6qpEGVIShGo1Hbtzq+Cnr1C9KgtcRBdWGIRGNU5Aylw/ZEy7GMeCM7bDZsNhsmkwmr1YrdbiccDmM0GmlsbMTv95OWlkZ+fj79+vWjX79+DBs2TAZLCCF28eSTT9K/f3/uuece7baXXnqJoqIi1q5dS9euXUlJScFkMu3y8XZ6evpefeQ9depURo8eDcD//d//MX78eD7++GMOO+wwACZOnMiMGTO07f/yl7/w0EMPcdpppwFQWlrKypUree655zj//PP55z//SSwW48UXX8Rut9OzZ0+2bt3KZZdd9oPn0L59+6Rg+Morr2Tu3Lm8+uqr+/TpVyAQ4O9//zvt27cH4IknnuAPf/gDDz30EHl5eTgcDoLBYNJ1+cc//kEsFuOFF17Qki3Tp08nPT2defPmcdxxxwHgcrl44YUXkkoWRo8ezfTp0xk8eLD2uBEjRtCxY0ft+DfeeCOnnnoqkHg933vvPe3xXq+XZ555hhkzZnD88ccD8Pzzz/Phhx/y4osvcu211+7yHB977DHGjBnDddddB0DXrl1ZuHAhc+bM2evr9EuQQFf87vTo0YMjjzwSo9HIwoUL2bFjB8FgUAtCVRswlVl1u9243W4tsIVEyUI4HCYcDuMIVGn7rigYmZh41hJ0pqWlafW5JpOJUCiE3+/H7/cn1eLG43FtkZvdbsdkMmklCIBW6qBf0AZo7crUQjaVNVbbqS4MoVCIenM2HVoeZzKZk45hNptxOBzabapmuLm5mXA4TGNjI3a7nWg0ykUXXYTH42HVqlUH5appIcT+t3TpUj755BPcbvcu95WVldG1a9effYw+ffpof8/NzQWgd+/eSbdVVSV+Hnu9XsrKypg4cSIXXXSRtk0kEtEWS61atYo+ffpoaycAhg1rLfPanWg0yj333MOrr77Ktm3btIXCTqdzn55LcXGxFuSq48ZiMdasWfODQf/SpUtZv349KSkpSbcHAgHKysq073v37r1LXe5FF13EhRdeyMMPP4zRaOSf//wnjzzyCACNjY3s2LEjKVA3mUwMHDhQS+6UlZURDoe1NxUAFouFIUOGsGrVqt2e76pVq7TAWf88JdAV4lcyatQo+vfvz5YtW1izZg1+vx9fy7QwtaBLBY4Gg4G0tDTat29Pbm4uNpstKcgNtgyAsAXrSfEnetDGgaA1XavfVdlVlbFVJQyAVoJgMBiwWq1axtdsNifVAKvjqtpb1ZpMZXcVVcKg2oapbVWXiO3btxMOtXZksBiiWrcFq9VKSkoKVqtV+yWlyi5Uz97169fj9/u1MccWi4UOHTrQr18/iouLKS8vT8qkCCF+XzweD2PHjuX+++/f5b78/Pxf5BjqZyqgveHf+Tb1c9Hj8QCJrOOhhx6atJ+dPy3bFw888ACPPfYYjz76KL1798blcjFlypSk0oFfi8fjYeDAgbz88su73JeTk6P93eVy7XL/2LFjsdlsvPHGG9qnjWecccaver4HCwl0xe9Cfn4+gwcPJhKJsGnTJioqKrDZbBiNRi2oVD8g1fAGp9NJeno6LpcLk8mkTTbTt/RqV79MO4YnpZRI3KA9XgWjoVAIn8+nBceqtZe+l64KUHcOYPUZXHWu+kloqpOD+j4cDmsBudVqxeFwtPbMjbT+d8/2bsDu7EcgbiQYDGrlC6r+WHV2cLvdNDc34/f7qaioIBqNYrPZtDHGJSUl5OXlMWDAAPLy8qSsQYjfqQEDBjB79mxKSkq0T6D2hnpj/kvLzc2loKCADRs2cPbZZ+92m+7duzNr1iwCgYCW1f3yyy/3uN8FCxZw8sknc8455wCJ3xtr166lR48e+3R+5eXlbN++nYKCAu24RqORbt26AWjtI/UGDBjAv//9b9q1a0dqauo+Hc9sNnP++eczffp0rFYrf/rTn3A4HACkpaWRm5vLokWLOPLII4FE0ufbb7+lX79+AHTq1Amr1cqCBQvo0CHx2WA4HGbRokU/2DO4e/fufPXVV0m3/dj1/TXIYjTR5g0cOJATTzyRrVu38t133+Hz+ZIyp/ofJqptlwog9R/nqy4HKjA2mUxY4q3v4re3G57UxxaSs7lqoZmqrVXdElQQra+11S92046lGxKhzkMFyar+NxqN4vP58Pl8BAIB/H4/wWAQm81G1JFJs631XX/74GbMZjPhcBifz6fV56oFbKp0Q10DtWBOf42qq6v5/PPPWbhwISkpKVxxxRW/zosohDgoNDY2smTJkqSvLVu2cMUVV1BXV8f48eNZtGgRZWVlzJ07lwsuuGCPgWxJSQkff/wxlZWV1NfX/6Lnescdd3Dvvffy+OOPs3btWpYvX8706dN5+OGHATjrrLMwGAxcdNFFrFy5kvfee48HH3xwj/vs0qULH374IQsXLmTVqlVccskl7NixY5/PzW63c/7557N06VI+//xzrrrqKsaNG6eVLZSUlLBs2TLWrFlDTU0N4XCYs88+m+zsbE4++WQ+//xzNm7cyLx587jqqqvYunXrjx5z0qRJ/O9//2POnDlceOGFSfddeeWV3Hvvvbz11lusWbOG//u//6O+vl77XeRyubjsssu49tprmTNnDitXruSiiy7C5/MxceLE3R7vqquuYs6cOTz44IOsW7eOJ598cr+XLYAEuqKN69SpE0ceeSROp5MtW7ZQXl6O1+sFSCoHUF0KVEBps9m0+la/3099fT1er1frkgBowbLii8S1+lxIvNtVnRtU4KinAu1IJKJ1YVDZWPXRmurEoIJLFWzre+7qA091nxozHA6HteDUbDazLWOAdnxjLKQF2Pq6ZFWnrIJxNdRi5/6+0WiUxsZGNm7cyPLly1m1ahXZ2dlMnjz5V3glhRAHg3nz5tG/f/+krzvuuIOCggIWLFhANBrluOOOo3fv3kyZMoX09HTtZ+LuPPTQQ3z44YcUFRXRv3//X/RcJ02axAsvvMD06dPp3bs3I0aMYMaMGZSWlgLgdrv573//y/Lly+nfvz8333zzbksv9G655RYGDBjA6NGjOeqoo8jLy/tJwy46d+7MaaedxgknnMBxxx1Hnz59klqfXXTRRXTr1o1BgwaRk5PDggULcDqdfPbZZxQXF3PaaafRvXt3Jk6cSCAQ2KsMb5cuXRg+fDiHHHLILuUc119/PePHj+e8885j2LBhuN1uRo8enVS/fN9993H66adz7rnnMmDAANavX8/cuXO1xdo7Gzp0KM8//zyPPfYYffv25YMPPuCWW27Z52v1cxniO//23Y2mpqaDbtKFEHvj0ksvJRgMUlFRQXV1NY2NjUkf/+trYfWlAaqlmBoSEYvFSEtL0wJQVVdbuPld0utXAvBF7mkELWnaeEOVUQ0EAok2ZC0BqQqq9RPQVFDpcDiw2+2YzWatdlgFmup7FWhDIiDW1xcHAgFCoRAGgwG73Y7T6cRut2O1WgmFQtgbN9Jz+38B2OjsyUpbT20gRlZWFu3atSMSiWjZZoD6+nrWrl3L5s2bCYVC2rmoa6H+7nQ6KS0tpX///mzcuJHp06f/+i+wEAe5xsbGXYKQQCDAxo0bKS0tTQokxO/D7bffzptvvrnfF/PG43G6dOnC5ZdfztVXX73HbWOxGN27d2fcuHHceeed++kM983e/j+SGl3RpjkcDtavX8/27du1jKX6U31BIkjUj9zVZ05VxtPhcGgLsYxGY9LiMoBYNIbFmbhPZWh3zsiqwFYNflA1uqorA6Cdlz7w1pczqO3UeekzrdA6FU2fAVa368Uh6dhqkZ2qL1bdGkKhECkpKeTn5+PxeGhoaNAmtqlrFo1GtUbte9sqSAghxP5RXV3NK6+8QmVlpdY7V2/z5s188MEHjBgxgmAwyJNPPsnGjRs566yzDsDZ/rIk0BVtUkpKCqeeeirl5eXU1NTg8/mSFpSpQA0SJQQqYDWbzVqtrApGVVmAatdls9kIBoN4PB4ikdZA12Q2YWlpwaWCYJU1VsGqosoDVOZV1dhCa9CtjqkfUKHOQVFjf/UlGCpw1QfE2n5oDYpVxwd1HBXo2mw27XGq1tdms5GRkUEsFqO6uppIJKLVE6vstMvlIhKJsHz5cpqbmxk/fvw+TwwSQgjxy2vXrh3Z2dn87W9/222pgdFoZMaMGUydOpV4PE6vXr346KOP6N69+wE421+WBLqiTTrjjDPo0KEDb7/9Nk1NTT+Y1dTfpoLFWCym9bz1+XykpqZit9u1PrWxWIxwOEwoFErqkOB0OImZTFr9rD6g3iWbqquvVfvUb6f+VEGtOpa+962+LlfV1OoDTzUZTX3pg18gKcusMrhqwZmq81WBeiQS0fr/qnpedZ8qcTAYDAQCAerq6ojFYowePZqCggK2b9/+i7ymQgjRFtx+++3cfvvt+/WYP1alWlRUxIIFC/bT2exfEuiKNiMrK0urQbJYLKxfv57GxkYtMNR3TAB2yZaqgFFfn6o+nldtulQwqPrWosuQWq1WAqAtSNu5HZg+mFXlDyaTSRtEEYvFtAyryvaq1juqI4J+KhokMtD6RWxq36pDg34AhsViwWzR/ZdvOS/9dVB1xU1NTYTDYa0+2Ov10tDQQHNz8y4L6/TnrzpB+Hw+1q5dy9lnn83ChQvb7A9QIYQQBzcJdEWb0b59e4488kjC4TBr1qxh+/btWgC2c9ZTdVWIRCLaAiv9oIe0tDRtMZoaumC1WpM6JKiJZEo0FtXKHVSm0+FwaON9te2iUW0CmqoZNhqN2kQ0lTFW2yn6QFd1jFDPS9XwRqNRrc52dy3KcuqXa/uLtBxHT9+HNxAIUF1drY0rBpKyueqY+iBcHTcUCrFu3Tqi0Shdu3bF7XYzd+7cX+y1FkIIIfaGBLqizejYsSNer5eamhrq6+u1AE0FZjuPztXfp+p3IdHfMDU1lfT0dC3I1VPbmc1mjNHWkgQDBi0Q1Q+NUFRZgcrWqnpgfT9cQCuLUNngnUcF6/+u7le36xeu6et1Y7EYxpCHlPo12uMrzQVa8K9fFLfzcfTnr68V1p+D2l7VFgP4fD7Wr19PYWEh/fv3Jx6P88EHH/zYyyiEEEL8YiTQFW3C+eefT+fOnVm0aBHl5eVallG19tJnG/VdFVRAarfbtcyo2+0mIyOD1NTUpDG+KoOqAmOr1Yop0prRtVgtmNh1tKQ+6NRnZaG1g4JqNRaNRrVOB/F4PGmUoz5Y313ZhaJ/rirQjUajGGI+DCQC0jprLg2mDGItfXZtNpv25fP5tCywzWbDYDAk9dbV0wfYO98Wi8Xw+Xx4PB68Xq90YhBCCLHfycAI8Ztns9nIz8/H6/VSVVVFfX291mt250Vfqv5258VhRqNRG5mblpZGWloaDocjafyu6sSggmjVe1fRL/oyGo1JfW9ViYFaVKZad6myBX1JghryoC+D0Lfz2vm8VWZalR3oRxTrA2H9wrmAya2djzpHNQlNfaluEDabTcsK79yiTZ/Z1b8RUOccDodpampi06ZNxGIxRowYsds57EIIIcSvQTK64jetpKSELl26sHnzZhoaGvB4PABaxwB9rar66F0FoirTaTQatTG3VquV1NRUnE4nZrNZG75gNBq1kgK1sGvnQDcSjhA1trbyikQiWnZUP8FMlS+okgGr1ZrU3UA/zEKfRdUfSz0P/Whifcu0cDi8S8lFMoO2nXpsJBLB6XTicDiSgmp94Ko/J/35qO3Vduo+tcBt8+bNFBQU0K9fP/Lz83nllVd+5isvhBBC/DjJ6IrfrJKSEkaOHEmHDh2orq5my5YthEKhpG4HKoOrH4yg6mNVyzCLxUJ+fj65ublkZGTgcrm0j+xV8KhKDPQjgncei6svjVDZzt21M4vH40lZW5VZVcMl9NlY/Xhefa9c/eIvfSCqL7HQ187qF80lvjcm1SUDWgBrsViw2+3agj0VjJvNZm3/+uEaO2eQ9QvsjEYjoVCI2tpaKisraWpqIiMjg86dO/+y/xiEEAeFTZs2YTAY9mnq14wZM7SJkr8lRx11FFOmTNG+Lykp4dFHH93rx/9Wn/cvYW+ulcFg4M033/zZx5KMrvjNKi0txe1209zcrI3ahdYyAxUIms1mLajTf+SusqtWq5XCwkKi0Sgej0crbdBPFVOPV0Gz+ng/uV1ZYkGavo5X1f7qh0BA6xAHfTCq6NuP6ReAqfPX19+qc1P1xer7nQNbg8EAusOYzGZsVhter1e7FpFIRCvLUM9RZXzVNqruVt/mTD9KWX+u6k/1d4/Hw/Lly+nQoQOnnHIK8+fP58svv/w5/wSEaFMM+3skbL9++7T9hAkTmDlzJpBYV1BYWMiZZ57JtGnTtA4xRUVFVFRUkJ2d/Yue64QJE2hoaPhFAp9fy6JFi/Z7ada8efMYOXIk9fX1v6mgeX9eKwl0xW9Wbm4u1dXV7Nixg4aGhqR2XyoQU1lJ1f9WX/Oq2O12srKy8Pl8+Hw+bRt9gKqvfVUZT9XjVglHIphsJu2xavKYCmh3nnZmNpu1Wlh9dlU/sUxNKVO3q8BXZVfV+ahjAlqQvLuOCNq+MGjZaXU8SGR1bTab1jNYPX9Vv+xwOPD7/Xg8Hu3YKgCG1m4Tal/6YwaDQSoqKrDb7QwYMIAhQ4ZIoCvEb8yYMWOYPn064XCYxYsXc/7552MwGLj//vuBxBvt3+vC05ycnAN9Cj+Z+nmvesj/2vbntZLSBfGb1LFjR+x2O1u3bqW8vByPx6MtyAK0ANJut2ttvNS0L32pgMr8qkEJ6jYVwKr//Kp/rspwqgBS3x834G/tN6vvXauCU333BbvdjtPpxO1243Q6cTqd2vk6HA6cTicul0v7Xi0M03duUF/qcSpAVcGnOg/9GGLFYECrSdY/Rl87rPZrt9txuVxkZWVRWlpKu3bttEAbWrs86N9AqCyzvqxBnYfH42H9+vU0Nzf/mv9EhBC/ApvNRl5eHkVFRZxyyimMGjWKDz/8ULt/d6ULb7/9Nl26dMFutzNy5EhmzpyJwWCgoaEhad9z586le/fuuN1uxowZQ0VFBZCYJDZz5kzeeust7WfpvHnzdnt+Rx11FFdeeSVTpkwhIyOD3Nxcnn/+ebxeLxdccAEpKSl07tyZ999/P+lxK1as4Pjjj8ftdpObm8u5555LTU2Ndr/X6+W8887D7XaTn5/PQw89tMuxd/44/uGHH6Z37964XC6Kioq4/PLLtXUke0Ndy1deeYXhw4djt9vp1asXn376qXb/yJEjAcjIyMBgMDBhwgQg8fP23nvvpbS0FIfDQd++fXnttde0fc+bNw+DwcD777/PwIEDsdls/OMf/8BoNPLNN98kncejjz5Khw4dtJ/le/N6zp49m549e2Kz2SgpKdnleu18rdatW8eRRx6J3W6nR48eSf+mfi4JdMVvTq9evRg1ahQ1NTXU1dXh8/l2WbRls9lIS0vTPn5X42sDgYDWvksFrn6/nzVr1rB582a8Xq8WoEFrbasa6wuJHyB+v5/m5mbi8dbMcDAY1DLCir5MQh/s6gNTVf+qrydWwae+nZgqKVClFfp6YX2wu3MvXP0isVYG7bFWqzVpkptayKeo883IyCA/P5/CwkKysrIwmUzaNVTb6Y+lny6nL2XweDyUlZXh8Xjo1KnTL/OPQgix361YsYKFCxdqnwjtzsaNGznjjDM45ZRTWLp0KZdccgk333zzLtv5fD4efPBBZs2axWeffUZ5eTlTp04FYOrUqYwbN04LfisqKhg+fPgPHnPmzJlkZ2fz9ddfc+WVV3LZZZdx5plnMnz4cL799luOO+44zj33XHw+HwANDQ0cffTR9O/fn2+++YY5c+awY8cOxo0bp+3z2muv5dNPP+Wtt97igw8+YN68eXz77bd7vD5Go5HHH3+c77//npkzZ/K///2P6667bo+P2Z1rr72Wa665hu+++45hw4YxduxYamtrKSoqYvbs2QCsWbOGiooKHnvsMQDuvfde/v73v/Pss8/y/fff8+c//5lzzjlHC5KVG264gfvuu49Vq1Zx0kknMWrUKKZPn560zfTp05kwYQJGo3GvXs/Fixczbtw4/vSnP7F8+XJuv/12br31VmbMmLHb5xeLxTjttNOwWq189dVXPPvss1x//fX7fJ1+iJQuiN+U4cOHM2TIEOrr61m6dKkWFKouAy6XC7fbjcvlIiUlhcrKSurr6/H7/Um1uvquCw0NDaxfv560tDQyMzOBxA9dFYCqRWEqM+z1eqmsrCQcDpNr1JcuhPE2NmpZZEDLGKvyBLW/HwpK9fXF0Prxv34hHbQuVFNZWX2drb7LQ1LvXl2cq0oMHA6H9neTyZTUakxNi9s5c6uy6WVlZezYsYNgMJhUwqCyuKmpqVomXL9Qrrm5mfXr12M0GjnppJN45JFHft1/NEKIX8w777yD2+3W/m8bjUaefPLJH9z+ueeeo1u3bjzwwAMAdOvWjRUrVnD33XcnbRcOh3n22We1N7+TJ09m2rRpALjdbhwOB8FgcK/KIvr27cstt9wCwI033sh9991HdnY2F110EQC33XYbzzzzDMuWLWPo0KE8+eST9O/fn3vuuUfbx0svvURRURFr166loKCAF198kX/84x8cc8wxQCKYLiws3ON57LxQ7a677uLSSy/l6aef/tHnoDd58mROP/10AJ555hnmzJnDiy++yHXXXaf9zmrXrp1WoxsMBrnnnnv46KOPGDZsGJD4FHT+/Pk899xzjBgxQtv3tGnTOPbYY7XvJ02axKWXXsrDDz+MzWbj22+/Zfny5bz11lvA3r2eDz/8MMcccwy33norAF27dmXlypU88MADWsZZ76OPPmL16tXMnTuXgoICAO655x6OP/74fbpOP0QCXfGbccghh9CnTx/8fj+VlZVa5lT/cbnVasXlcuFyuTAYDFqGVvXJVdvv3F4sOzubtLQ07HY70WgUv9+v1aBqC8hiYRw9KnCkNGNvDlO3KB2aWs/PYrZgNrR2YtAHuwaDQevwoK/V1U9SUxlV/aQz9bz0da/6hWb6Otid25DpF67pF6+p+/SLzFR2WI0QVsfR31ZbW4vP59OyyikpKQQCAa2Fmr7zggqu9dPe9Flxg8GAx+OhoaGBXr16sWLFip/+D0MIsd+MHDmSZ555Bq/XyyOPPILZbNaCsN1Zs2YNgwcPTrptyJAhu2zndDqTPuHJz8+nqqrqJ51jnz59tL+bTCaysrLo3bu3dltubi6Atv+lS5fyySef4Ha7d9lXWVkZfr+fUCjEoYceqt2emZlJt27d9ngeH330Effeey+rV6+mqalJ663u8/lwOp17/XxUsAqJ3yuDBg1i1apVP7j9+vXr8fl8SQEsQCgUon///km3DRo0KOn7U045hSuuuII33niDP/3pT8yYMYORI0dSUlIC7N3ruWrVKk4++eSk2w477DAeffRR7ffSztsXFRVpQe7Oz/nnkkBX/GZ0796dgoICVq1aRU1NTdKiLn3QqOpLA4EAXq9XCx71PWf1Qajqd6tqZSERQKryAZPJSLzTOswj5mPN8wJgBdLGOrHekg11ifMzGA1YLckf4ekDWX0guvPQChXkqiBcBY76iWo7Tz9T3+/c4kydv3q8xWJJ1BbHWh8fiSR6Aqteu+qaqOBWUbepscpGo5Hc3FxtGIQ6jn7hm3qekUhEK49Q11oF16pHcXV1NYMGDcJut+9SFyaEOPi4XC6tPeBLL71E3759efHFF5k4ceLP2u/Ofb93fsP/c/elv03fIxwSHWHGjh2rLajTy8/PZ/369ft8Dps2beLEE0/ksssu4+677yYzM5P58+czceJEQqHQPgW6+0rVAb/77ru0b98+6T79Amdgl84HVquV8847j+nTp3Paaafxz3/+UyuH+K2SQFf8ZuTl5WkDCAKBQFIHAvWDS/WljUaj2nbqPpVRDPfrh/+oozBaLGAwYFu7ltqWhQ0q4DMYDFi7boeBNVC6DXtWwy7nY3D5MHfa3hro6n6YqmPpux+o4FWVGuzco1dtr9p8xePxpOls2nF1WVgVzOpXyuonuKmMbiQSIaarXVAT0VTGVm2vfgiqa6haqHm9XioqKrRshNlsxuPx0NTUpD0HfZAbi8W0a6+6VKhzV8FuKBSioaGBgoICunXrJoGuEL8xRqORm266iauvvpqzzjoLh8OxyzbdunXjvffeS7pt0aJF+3wsq9Wa9Gb/lzRgwABmz55NSUnJbrsOdOrUCYvFwldffUVxcTEA9fX1rF27NqkMQG/x4sXEYjEeeughLanx6quv/qTz+/LLLznyyCOBxM/mxYsXM3nyZADtUzP9tenRowc2m43y8vIfPL89mTRpEr169eLpp58mEolw2mmnafftzevZvXt3FixYkHTbggUL6Nq16y7ZXLX9li1bqKioID8/X3vOvxRZjCZ+E/Lz8zGbzVRVVVFXV6f1zNUHaerdud/vp76+nvr6eq3+NNatG97rr6f5uedofughfGPH4hkzBs/o0dReeSWNU6cSCIfxpKzDfebnFFz/EdmXfIpl0PcYdUGuBQfDnZdjoeUHurm164KquVVf6oebCsh3zuSqDGckEtG+VEmBCijV46F1GtrOgS+0DrJQX/p+vfohFEogENSy3cFgUJsqFwwG8fv9eL1evF6vdp1VdjsWi2mLQZqamrTzVddfPUeDwaANxYBEC7f09HScTqd2brFYjIaGBhoaGrBarfTs2fMn/usQQhwoZ555JiaTiaeeemq3919yySWsXr2a66+/nrVr1/Lqq69qi5J297Psh5SUlLBs2TLWrFlDTU2Ntgj2l3DFFVdQV1fH+PHjWbRoEWVlZcydO5cLLriAaDSK2+1m4sSJXHvttfzvf/9jxYoV2uKsH9K5c2fC4TBPPPEEGzZsYNasWTz77LM/6fyeeuop3njjDVavXs0VV1xBfX09F154IQAdOnTAYDDwzjvvUF1djcfjISUlhalTp/LnP/+ZmTNnUlZWxrfffssTTzyh9UHek+7duzN06FCuv/56xo8fn/QGZm9ez2uuuYaPP/6YO++8k7Vr1zJz5kyefPJJbXHhzkaNGkXXrl05//zzWbp0KZ9//vluFyz+VBLoioNeUVERw4cPp7m5mQ0bNlBfX69lblUwFQgEtFrYQCBAfX09Ho8HY7duNN55J7VPPEHg2GMJ/8BEroZhw7Be2o2hj5RTcoKPjG6R5A1CFo5x3cRtuRWclvYUx7hv2mUfqfi0bIC+rlZlnVtLIUxakKs/f1UKoH9eqr2Zvq0ZsNtSAXVM1blB9dcNh8O7TGmLx1vLGuLxOCFDMyknfYP1hM9pCifeTKg3C16vF7vdTnZ2NhkZGTQ1NVFbW0swGNS6RqjnqQ/E1ZuQUCiE2WzWWqnpa4gDgQDbtm3D4/HQr18/ioqKfuo/EyHEAWA2m5k8eTJ//etf8Xq9u9xfWlrKa6+9xuuvv06fPn145plntCBm54/R9+Siiy6iW7duDBo0iJycnF0yhj9HQUEBCxYsIBqNctxxx9G7d2+mTJlCenq69vPqgQce4IgjjmDs2LGMGjWKww8/nIEDB/7gPvv27cvDDz/M/fffT69evXj55Ze59957f9L53Xfffdx333307duX+fPn8/bbb2sDOdq3b88dd9zBDTfcQG5urpbpvfPOO7n11lu599576d69O2PGjOHdd9+ltLR0r46pSixUQK3szes5YMAAXn31VV555RV69erFbbfdxrRp03a7EA0SyZw33ngDv9/PkCFDmDRp0i6LFX8OQ3wvimCamppIS0v7xQ4qxL4YP348WVlZbNy4kS1btmiZRlVzqwIsq9WqjeYN5eay/Zxz8O5UeA9gCofptHIlvVavpqprV+b370+JdQEnp07BbNIFuGEL2RVH0dtwFscMOh27MUW766PGe5nju4l2b0Dem4nb/PZsVnc8m1g8TigUAloXpKmgUi1GU0GtflKbChJjsRher5dwOKw11VaLzlSXCaPRqO1jdzW6qjRBn8nNMgfpsvolADabi9laNIasrCxqPRWYx72Jo1ODtq1/R6IEIxYyUv1BezzzOxONxqipqWHp0qXE43FSU1O13o36hWYqWFdcLhe5ubmkpKTg9Xqpq6vT7o/H49hsNoqLi+nbty8rVqxg7ty5e/+PQ4iDXGNjI6mpqUm3BQIBNm7cSGlpqVbW83ty99138+yzz7Jly5YDfSoHtU2bNlFaWsp3331Hv32cYvdz3XnnnfznP/9h2bJlP7rtgXo99/b/kdToioNaZmYmKSkphEIhamtraWxs3GnwgUHLlAIE3G5qr7wST9++u+yr69q1DPv2Wyw+H8ZgEJPJROHq1XzRvwcnpN2C2ZgIvjLqB3JFtzdxGDKwFe9+ROEyz1tghNrjIPctA4Z4HEegBhNRMLb+t9p5jK8K8FSGdud+vepP/SIx1cYH0CaWqdZf6ku/ME0dU59VDofDuJo3a+fldqfQvn177KlGwmd+QDyvIen5OXJbPxZ0TdzA1rQQO17vRGEgwDSgN2BoaoLmZgzopgvH41SYTDzpcPCR3U64ZbGfKi9Rz1E/yEIN64jFYrRr126311sI8dv19NNPM3jwYLKysliwYAEPPPCAlnkUBxePx8OmTZt48sknueuuu3a7zW/t9ZRAVxy01DQXq9VKTU0NHo+HcDisdQJQrcHUVywjg4q//IXQTqtMO61YwRFffkmqCvzMZqItmVMMBvo6/4PD2ABAmrGQG7p/gclg2c0ZJWwJfcN241cARJ0QyCzCUVsOtExSiyWytKpMQXVIUIGefvKaom8Bph8HrIJCQCsDiEQiOBwO7Roo+oVv6rHqnIjHyNnRWtwfSivGbDYTOGQB8bzt2u2WYDqRaKIdW8wSIG5KZKYLz9iKMxTm6htqyNJ/CLSbD4Q6RKM84PFQEQhwe2Ymy2027dwArR+xvsOE3+/XWv2kpaXR2Nj4g9dfCPHbsm7dOu666y7q6uooLi7mmmuu4cYbbzzQpyV2Y/LkyfzrX//ilFNO2aVsQfmtvZ5SuiAOWmeccQZ9+/Zl6dKlrFq1Co/Ho9V7GgyGpIVO9sJCNt98M4GWFZsAPdau5bDFizE0NBAOh7W+ruojjnA4zOZeh9D+D7fhMiVaJ/wxbTqDnRP2eF5f+V7kP42TEt+s7EHHp724W7Kl33S+mHA8EdSpgRPhcFjr56sCUXUeNpstaQKaqgdTvWwdDofWiUFfsqHvOKFqclU7HvWlJsQZDAaaqisYtnUWABGzkxXdLgKDEcupHxDt/D0A52e8Tm/7qUnP9XPv47zV9H/a90MfgeEPgAGoyM7eZTFGZl0dFl3Zgt9o5PbOnVneUpurRgf7fL6k1m8q+M3Ly6Nfv340Njbyr3/9a8//QIT4DZDSBSF+HVK6IH7zXC4XdXV1VFRUUF9fDySyk2qYgQqyTCkpSUGuu7mZ8R9/TF4sRiAex9dSBqACLfVRfyQS4cuenTmvJcg10Y5BjvP3eE7huJ/3d9wNLf+nXA1dId46BjIWi2Ewtvay1X+FQiGtpthqtWoLx1Qdrypl0HdJUBlbo9GIy+VKZGFbppepbe12uxYwqmukWn7Z7XasVit53jXaOQZTirDa7IQs9UQ7rtRuLzD32+X5HuG6CgMG3my6CoAv/wwWH8z3nI+hXTvsdntSf1yryUSfRYsYMG8etmAQRyzGtHXr+HduLq9nZBBzuZJGBathHqodmWpdtrvG7UIIIcS+kq4L4qBUXFyM3+9n/fr11NbWallMfb9WtQAtcMIJWpDr8Ps5Z9482rVkFdUiMP3H+CrACgSDdMx9WztmV9uQH21384/68XjsGxPfhKw4K3sR09Xk5jcsS2qfpYJc/VCFWCymBbiqx63K9qo/1fZqoph6LmrBnb4/rj7w1XdzUN0bopEIHRoWa+fYnN0rEWj2+B6MiQ90skwdyTSV7PY5H+66klNSH9e+/+pKCDptWrmFOieLxULcaGTpoYfy4lVXsbZlPKYtHue8ykpmrltH+8ZGAoGAVtoBrWUbkHiHXlNTQyQS0aYXCSGEED+VBLrioHT00UfT0NBAWVkZ4XAYu92u1eaqTK7NZsOZlcUO3ajBY1euJLcl4NN3PtAPlVAf66/q25vDXM9ojz3UOWmP57Q9vJTvg29p39vePY5QnZWGrNaFb7mNK5LG7iqqvECdi/pSwaw+i6sfpasWbak+tfpMrQrgVXC88zEBIuEwWeUfYownMsNBWwbNmd0T25paOzIYMO4xyD/cdSUZFYk0digVooawFoSrAFx1ggiFQkTNZj7805/Y2DI2EiAtEuG+jRspbBkyoc5fvaZqeMWWLVvw+/2MHTtWm8AkhBBC/BQS6IqDUklJCT6fT1uUpM/KQiK76XA4iA4eTLRllKLL56Pr+vVaiQC0LvwymUxa6zGDwYDD4cA1chkGQyKj6TD0oJf9ZH6IP9bAzKozte/bVcKA3HfIyfkP4bwcQuZEdwZTLKwFbap3rs1mw2q14nA4cLvduFwuLTAEkjK96ktff6vvS6u2h0SgrwJeNYhCLWiz2+3YrFaKaxaSU53I5saB7bmHt3ZkWNM6+70mup76aPkeX5Psra0dKOzHfK0thtNnkvXZaYPdztyzz2bOySfT2FKjmBaJ8NDWrZT6/Vp/X32WOx6PU1NTQ0NDAx07duTwww/f4zkJIYQQeyKBrjgoBYNBbVW+PtBTQZ7BYMDpdBLSZfy6LVmCt7ERn8+nlToAWuCogkKj0Yjd7aY441PtsWenP/SD59IY2MyjW7tTa1wHgDkM7bcl7svJWU737rOIW1oGRcTDWA0xbVKZWnSmvhwOBy6XK+lje30wqwJG/fPUZ1r1ZQ0mkwmHw4HT6dR69Krg2G6zUVr/Je1qE/XDcWB91pF4Mw/RMqiOcC6msu7aviPxwB5fk2ELWzPXtm5rklqgqay0PrMcjUaJG41sGTCA1y+/nMqCAiAR7P512zYMLYGu/jmrWt3m5maampr2eD5CCCHEj5FAVxyUampqtIEH+p6r+kwnbjdbjjhCe4xr+3Ytw6jacKmSAf2UMpPJxILu3THS0tM2aucQ+5jdnkdjYDOPb+9JraUSSAS5Pb8He7B1G4vFjy2zdSJQfsWn2iIwdXyVTQa0QFM/KEIFjfrMqHoeqm+u6qyg/9JPQtMmo5lMFFbNJ1uXyV2VOoxQfCiHvHkInZ7uRKcXOpGzPIdYsPVHQGV4xR5fk+7jHyalJcAPZUYwu8O79PJVi9L0zzEejxNzufjgggvwuRJZ4axIhNN8Pq3vr3o+qk65sbGRsrIyvF6vNnlNCCGE2FcS6IqDTkZGBtu3b9dacqmgDyAnJcqlR1Zz2wmbOb7nJuwkIk5nbS2Fmzdrtbwqy6ifRqZG6oatVr7umkmGOTHFxRTZ/X8DFeQ2OhJBrDkMpYuyWLvwNObP/z++/fY8YrHEYx3DWltqZdQswRoLJJUSqKytPiOr/tRnrVVQH4lE8Pv91NXV4fV6k/ajAlr1GC2bazJhNhlpv+Nzsqu/0c6n0yAzYzpGGfhWP9LWpWHfYce13UXBmwUUvtWapf1P40VsDy/9wdfF0rcv7TY6te/Dwz4GWrPSO488Vtlz9VqE7XaWHHec9vjzGxuxtTwP/QK+eDyOz+dj3bp1NDU1MXbs2B88JyGEEGJPpL2YOOgMGTKEbdu2aQudVAlDTkqUy46sJN2ZCHp7s4HbPr6Uacc8S9GaNbha+tJCa7kCkLRgC2BZ7/acnnmZdrzMQJddziEcbuLldUNpzG4JckNge/sPbK3qj9frxWQyEonksXnz4ZSWfoYxCwwFBuLbE8dov+ofbO9xLmGLQwted+4Aoc5R35EhHo8TCYexxQNEwmHqtm0jlN0et9udFEhaLBYsZjNOYxibzYqzegXuzZ9iDnuSnkePoZBmKWLl/ZdhCuyaGc1/6XgaRi2mefAafPE6/rX1Aq4p/XaX7ZSRT2dTdniiljfSbiuGlutrNpux2+1JrcP0WVo1InhNnz70/+ADHF4vGeEw7eNxNux0DFX7W1tbi91u55BDDvnB8xGiLZltmL1fj3d6/PR9fsyECRNoaGjgzTff/OVPSIhfgQS64qByxhln0KVLF5599llSUlKwWq3EYjGyXWEuG1FNuiN5olinulXc9vGlfGP6I9nZ2VgsFi2AjMfj2kf/qquByWTC3XUeOZb1AFgN+VzaeddfLis23MeGrErt+/hbo2jc0Jl4vCkpm9rYOIzGxq2kpW3AfmQc/9sG8MWx+avpsPJvVHQ6A7+rkAiJSW8Gg4FQKITf78doNBIKhbAEGzHHglhiMSyeKno3LsYdbU4c2AZNHjebtg6kyZxCPB7D4XBgDzVQUP0l7rh3l3NXEkFuKSvvv42INwUAX7GPzedsxrXcRfaX2TiqHRxy9s0sWnseABX271gfnEdn21G73WfmNhsWD4TdYAqFiLdkY1UtcigUIhgMEmwZsawXDocJxmJs6tCB7isT/XstFgsRrzdpPLB+RHBDQwPLli1jwIABLFmyRFtkKIT47VOlTjsPnhHilyT/usRBJRqNUl1drQWrBoOBnJQolx9VRbojUR5QF3DzpucPNNgzgUSwe0LV0xhJBMH6TKLKlkIig9posWDKaA1gT06dRba5U9I5hEL1fOppGf8FUOWmeXXnpNrT1h/OFjZuPJN43IAxDRwnxbG0fLpv9Htov2IGxSv+RlrDGtyNZTjq12GrXYOzfh3uhnV03vwGfTbMpMemV+hV/iq96ua1BrktUuMe+jR8ypCadzi09j36bJ1N16qPdxvkGq1GMvOh74hEkLv83ju0INfVeS2VkyrBAdW9qll2/jIWXLWArf2qKHiqtePEC9UnsDn01W5fH9uY1lpmayRxfH09rj57rR/MoV4XgKhuGOPxjY1JvZHVv4FIJILBYCAcDlNRUUHXrl0ZPXr0bs9JCHFwePjhh+nduzcul4uioiIuv/xyPJ7WT5lmzJhBeno6b7/9Nj169MBmszF//nwsFguVlZVJ+5oyZQpHtKzBUI+bO3cu3bt3x+12M2bMGCoqKoBE/+2ePXty8cUXa48vKysjJSWFl156aT88c3Ewk0BXHFQCgQBVVVXaAILctBiXj9ihlSvUB1OYX3cMDcZibh/1NzzWRBCXYqiinWHlLq22tFZaLcHUsj4ZdLJ/rh2vu7XnLufw3aZpbMtrrbmNfDwKi8WaVCOrSg4SNcQGtm0bDoAxDSxjwdpayorVW0X++tfJX/0v2q95hU6b36R75ft02fYuab4tu70OMYOJxpROxAx7/i8aisE3O2BZvRl3VwdHnxlj4DFgM7bn27vvIu5PnEhK11WUTHmMqCWqLRqLRqPEiLG5/2bCnwwh/aMBiedr8vNW+dTdHi/1vvswJdoT4yuMEC/YCpAU5CZ1XdBNbFPKunXT/n5idTVpLlfSOGR9H+JIJEJ9fT0Oh4O8vLw9XgshxIFlNBp5/PHH+f7775k5cyb/+9//uO6665K28fl83H///bzwwgt8//33DBo0iI4dOzJr1ixtm3A4zMsvv8yFF16Y9LgHH3yQWbNm8dlnn1FeXs7UqYmfU3a7nZdffpmZM2fy1ltvEY1GOeecczj22GOT9iF+n6R0QRw0cnJy8Pv9NDU1YbfbaZcaY+LQ7aQ5WoPcBfWjiBqdpDU34w26eaXv5UxadD8AeeF5eByDiBtaJ6ipTgexWAyvw4Gj3wLteIbm7qTmJ4Kn+V/Nw1v4LR7bSr52vki8Jb40VKQS21SI0WjQAmhoDexU5nH79mH0bvcF9dYYhnQwHOuicLWXrWtJtD34EQ0pnYjaUohGo/gNLmoyemFypGAM+0mvWYIllBiyEKc10ewxOFkTzaPZ4OGaUavonV8NQDBi4n+vTSA3mKhXdhVvpMfVd7M0eGhSGzBorYfd0nc7PR6aQMOoRH1uuWs+ywNv0Nt+atJ5GpxODplrZ8n4RCsyR9dPMS7rk1RjrN5gqFIRdQy18K68e3fqP/2UjPp6nNEo6U4nEdAyv+pP9fdIJEJTU1PSvoQQB58pU6Zofy8pKeGuu+7i0ksv5emnn9ZuD4fDPP300/Tt27oQduLEiUyfPp1rr70WgP/+978EAgHGjRuX9Lhnn32WTp0Sn8BNnjyZadOmaff369ePu+66i0mTJvGnP/2JzZs388477/xaT1X8hkigKw4KRUVFZGVl0dzcjNfrxWKKc+HQctJayhXqAyl8Xnc0UWMiQ2kyGun15Zf87w+nMG7Zc6QGGzDHvTg8X1Fj6r9LpwODwcCWXqn0c7XW415ZMlP7+wfOy/AZV0MYaCkttTWZqH/5VGwmc1JWUgXRgC64M1Lst1BvTXSBaLal8HV0NOcd/x6+ygCxCDSHXXxX3asl0ExMSzOazDSmdSbqaofBYCAQCBAKhRLBYjxOxGSjKmcwQFItm6pVbRcOc17he7og18zM5cdSEHFr51t67ouYHAG+2nYE8XhICyT1JQNxc5xNo7aQ/9yJVFyS+OUwq3YcV+Z8QZF1UNJrNdpzBUtI9B02ZFZpWe5AIKANgVBBqZ4KdC0WC76MDDLqG4FTuGDLGL62fscnzk/A0Fp6ojLEAJWVlWRkZNC/f3+++eYbhBAHn48++oh7772X1atX09TUpI0o9/l8OFsG+1itVvr06ZP0uAkTJnDLLbfw5ZdfMnToUGbMmMG4ceNwuVqH1DidTi3IBcjPz6eqqippP9dccw1vvvkmTz75JO+//z5ZWVm/4rMVvxVSuiAOCu3btyctLQ2v10tTUxOHljZrNbn+iJV51SMIxuxaq7F4PE5qfT0hs51X+1yq7Sc/8hnhkF8bGKE+Qgewdl6jbecyDKHYmgggG6Jb8GWvTjofe5OJxhdOxxbLaO3buxMVeKrgMxBtrVfItDfTGEpn+srRFB5ipGMf6DvQi7Uki22Zg6jMGUJN/nDq2x+mBbn6kgKVMYbkrgZq4IQaEmE3+RhcuFk77szlx5KdEueQzI3abSa7n4VVI4hEWvvc7ty/1mg0EiNG6L1hWglDzBjhsdrBbAzNT3re6X++GWtLGbGnOEyw/UptqlkoFNIWlqlrpu+vC4mPNw2YgIeAJxm940Ru3XIr0zdO5/DGw7VrC63BcXV1NaFQiOHDh3P22Wfv5l+QEOJA2rRpEyeeeCJ9+vRh9uzZLF68mKeeegpAG8cOrYty9dq1a8fYsWOZPn06O3bs4P3339+l5ED1GldUEkOvqqqKtWvXYjKZWLdu3S/59MRvmAS64qDgdrtJTU0lEomQZW/ihF6N2n3f1XYnELVpH2OrkoHUqiqytm3jf51OosmWDoDV4MPNDgDto3OLxYI3JQVTwQ5tn/0dV2p/j8RbfwibItBtqYXIzItwUKyN6tXX++qHI6hAzGg08lX1Ydp+Uqxe+rZbS1Mkk/lbWz+iG1X8JUZj65Q2tZArFosRDoeTgtxwOKxld9X26nnF43HM+Dmr+/vavlfVdqQ56OTkjnPR/x5Z2dSfb2qHAmhBu8q2ql8U6jlWH1aD/YnkvrXP1I5keeAN7XuzI4Xe/2z9pRPo8jqxePLIZVUeoVqLqecGYAjHyN38f8Afk47TIdSBaRXTmFk+kyP8R2jX1WKx0NTURFNTEy6Xi/bt2yOEOLgsXryYWCzGQw89xNChQ+natSvbt2/f68dPmjSJf//73/ztb3+jU6dOHHbYYT/+oJ1ceOGF9O7dm5kzZ3L99dezatWqfd6HaHsk0BUHBZPJhN1ux0CcK0Z5sVsSAdgOXwZlTe21SWf6YQuxWIz+n3xCyOzg09I/aPtKNyVW7+pb16w5bAvd7B9p2wx1DtD+vi20WPt7Rj341x6N2ZiFw+HAarVqwaj6uwq0w+GwlnU1GAxsCeUnPaejixdDPMI3Vf2ItgyWaOeso0tmJTabTcvU6odA2Gw2nE4nTqczaXSwGnqhhi9Eo1GOKviM9u7ER3e+iIOFVYeTb1uPyZic5VjeMAhDS92yOpa+K4IaJ2w0GokTZ33nSgofaA1CY0SYVT+O+TtmJJ6r2czA4KWYWiYG+woaaM76VtuPCm6j0agW+EJLUB2FsTP7YIqelriNMGUZ6wkYW8cPdwx35L6q+xjrHZtUl9vc3ExFRQU7drS+YRFC7H+NjY0sWbIk6Ss7O5twOMwTTzzBhg0bmDVrFs8+++xe73P06NGkpqZy1113ccEFF+zzOT311FN88cUXzJw5k7PPPptTTjmFs88+OymbLH6fJNAVBwXVfzXDFSM7JRGoBaNm5u04jFg8MfAhFAppga4KorK2bSN761Y2ZrYOFciLfkk82hoYf1Nio2eX57X7O1uuJM/SA0gEX+8336TdZ/eYqK8f2DptrCUQVV/6xWj68zAajXTo8LG2H0cMMp1+Tiz9kNrGEF/uGKjdd3TRQiwWszYm2OVy4Xa7ycjIIDs7m/z8fAoKCigsLKS4uJi0tDQtyDUajdrUsSI1jxd4efXJfLummU5prSULimuDSztnVfqhgnV9X1qVAXfkOvB92YfB3WeQ+e6hifuI8GZkkpbZ7XLb/fSf1TqAwsIXWscFlS1WGXAtcx03ctx7x5C3dXjLo8Is7f0Uz57wHJcdfhn/av8voi0t4owYubH2Rk7ynqSdu9/vp6Kigrq6OjIyMvbwr0kI8WuaN28e/fv3T/qaNWsWDz/8MPfffz+9evXi5Zdf5t57793rfRqNRiZMmEA0GuW8887bp/NZvXo11157LU8//TRFRUUAPP3009TU1HDrrbfu075E22OI71zkshtNTU2kpaXtj/MRv0NGo5HhwxPBT6ljLSf3SWQpNzW358u6YVrJgioTUOUE6p9udWEh8889iyffPIkcXyKbu5kRVBgGE09J4Y3T0jg1awoA8fhgHsj7UgtYgzEvN+9ILNwyxKDo7U5UbhmnZVwBLTBUwyhCoZCWYVZZTLvdTp8+D2IyJRaj9WsCZ8tarC825vLx9uO4efgsraTg+U1/wWq179KDVmU/1Uf2ZrOZYDCI3+/XOjwYDAbSLHX8qegJAAIRK1e+fiyH5ixk0sh6AHZ8djRlL14OQNgRZtmVy8CU3AZMf01V1tRms2EwGPB4PHR5pwv5m3Mpe/hpqsd9CoAp4uKuwhosBjvf/+0ipo99AQD7DhuO928m6A9r+9d3vIiFYxz7ztEcslK1cwvjt1zJoxML8ASDeDweAoEAQX+QM1eeyR+2t2bo78q4i9nW2djtdrKzs8nMzMTv97No0SKCweDP+rcnxK+tsbGR1NTUpNsCgQAbN26ktLQUu91+gM7s4DNx4kSqq6t5++23D/SpiN+Avf1/JF0XxAFls9kYNWoU27Zto2pHJZNOr9Huqw7laRnBndtXqR6r8Xic3IoKen71Df/uexmTv/gLAEV8RkVqMW8MOhqDqXUR2uiUE5On8MRbW1WlNoG3oaT1rpagMBgMaiUDKjupFl+pINhsXqsFudXVFm76TwoPnlOH2QTDSnfw38Xz2VCXRaes2sT52VZRGetHMBikqamJ6upqVq9ezZdffrnLNerVqxfnnXce2dnZVFZWYg5t4cS8l7X7l5S7qNi4mEnj6rXbZtYuorepkbRoGha/hfRF6dQfWq9lhlXtr3rTYDKZSElJ0YY0uN1u6o6rI/+5fDpdfTlNQ1cRLK4iavaywPsUR7mvoUOf8VibXiCUCoHcIK6SdZjWdtLKF9R1Iwqj3x/FIatag9yw8XJePNxHcyCgBcVOpxOr1cpb/d8CI/xhayLYvan+JiztLLwRf4OKigoMBgO9e/cmNzeX2bP378hUIcQvr7GxkeXLl/PPf/5Tglzxi5PSBXFAlZaWah9DDy7x4LYlPkr3R+1s8JZqgaR+0ZS+W4DBYMBoMNDniy+o3ZHFB10Ss9uNxOkaep8N+fn0c7yqHc9kSF65G4211obG4kbq6/sntSVTx1fnoP8ARPXpzcioo0eP1sVaq1Y5+WKdi38tcGi3XXD4VhZvbv24/di818gxrsJsNuPxeHjvvfd2G+QCrFixglWrVmGxWMi0N3FK0cu4LU0AVPuzueNVF5cfW6dtv2C1hZmfmnnH3dpDstMnnbA2JUoNLBaLlrFWzw8SC9VUHbLZbCbaLsq207ZhiJko0tXsfuK9n1g8hqv/YfSd0Xo9Xf7FWlZaq4+OGznuvVH0WNW7ZatEkDv92Ajbiou1gNjv92vBt81u4/Ver/Nu+3dbXksj11Zdy1jvWO0NRzwe32UVthDit+nkk0/muOOO49JLL+XYY4890Kcj2hgJdMUBlZmZqdW+Ht/br92+srkPsVhrdwO1kl8tnoLWGlCDwQDxOH2++JIvoiO1DgyZ/hpGbZtFie0Lbb+9bKf84LnEYzZMLT1z9e1vdteKS91uNpspLPwckynRCm3TpnTefz8Tk8nEPxdkEG5JGHfJC7OmwsK3FaUAmAwxBqXPBRKN0HfuB7mzjRs3YjN4GZX+LG5zIsitCWQzY/nxBEMRjuvbuuDixXkZGAwG5lvm02hu7V7R+5nepH2bpmVQ9aUZKnutamxVoF/To4b60nqyZx+JpTIRqHtj1cSJYrDZ6DJggrb/6sErsfnqtVpgEyZGvzeKnquTg9wZo2NsKy7GZksMtFD12arW2Ww2Y3fYeb3367xflOgqoWp2Tw2eSjgc1votCyF+++bNm4fP5+ORRx450Kci2iAJdMUBZbVatcDV1ZLNDUVNrGss0koTVNCp73ag6lVVYGQymSAep/tnn/NNdKi2/1NXPaf9vaftZHIt3ZOOH42Htb8bDNFdpnupLKfKgKqMss1mIz3dT2np+6SmbtD28e9/F2Iy2UhNTSVqzuS1r1pr288esomZ37R2e8h1VFHAZ0Sj0R/NTqanp1Ns+AinqQGAplAqM1f8ge01IXKznZhb6oHX12TREO9ISkoKZouZT/I/aX1+cQOd53amw+sdMG5L/NfXD3ZQ7cxU4KveXPjT/BgwYN+06wjeXn+4D3tjYl/+bDikeToZkSglZSWc+cIZSTW5YePlvHB0kC3t22uvmVoQp38jAYk3MWaLmdd6vsbcksQbAiNGbmm4hWNrj6WmpgaPx0NKSsoer5sQQojfNwl0xQGlBTvRMA5rIuD1ReyEw5GkhVkqw6i6L6iPr9U+tIlh0Sj15emEYonCdFesNeuXZtq1/+oHvtYRkpZYiE6dXsFk2qAtNlNTxFRtayQSwWyuoX37tznkkKfIzFyiPX7RonbU1we0elO3281bS/KItGR1O+b4ybDV8fHm1kljx+S/z8C8tYwaNWqP1+mwPmkURlpr1z7ZfhR1HiM+n4/ivNaFLhFzDqWlpWRlZWG1WlnVbhVzjpxDRUaFtk3u+lz6vdwP+/d27fmpvr2qrlbfPWFPrM5MjnO0rmpecpmH0x8xctJ/TiKnul3LrYkg98nDmlifk5M0VS4SiWgLDG02W9Lkt3g8jsls4u1+b/Nhxw+BljKGHdfSobwDwWCQDh064HA4EEIIIXZHFqOJA8poTARrR5S0BmKBqD1pgpcqWVB/qi4FquRBn4G12Ww4HA42cSRd+SDpWHGSG4wEY16+8P9N+75gO6RkbiYzczMNDbmEw/aW/baOpDUaY2RklO/yPJYsyeTNN9MIBhOBrurS4A24+ej7FMb0SYwSMxsifFreF5c1xND8ZRgNcNohCxhYUECg0skn3/mS9luYDVefDH/q1DqueEtzAWsbOhKPN+C0hLhyxHrtvrAhjfT0dFJSUmhsbCQYDLIpYxNlfcsYvm44/bf1T1z3mJHec3rzTfAbPN082O127Q2FWgCo6m2dtU72ZGjxdby94T5wBvG1gx39B1CklRv7CRuv4olhDazPysHashBO1QWrIFe/MC7QskBNlYZYLBY+GPoB7pCbYVuHYcTI2dvP5tacWyksLCQUCrF27do9nqMQQojfJwl0xQGjPr72eDx0L23Sbl9en+iJq1bvq8BIBUcq2xcOhzEajVpWEBKlEE6nE59rCLVWFzZaF4n56jZCSyVBMOblxfrWFlbm7S5SPK3Z3/T0vRtKsGVLKm+/ncnmzUZisdYss8Fg0IY8hGOt/WYLUpso88f4rHIkAEPzlwHQIXU7L0+B9dvB07I+zmiEPiXJx9vua8+r604EYyIwPHPw9xSmewDwhJ0sru6P0WjE4XBgsyWmyfl8PlwuF/M7z2dx5mKO3XgsHTwdMMVNHPq/Q6leWc3GwzYS7djaXgwSGdecxTmkb0nf4zWwGpykbjmcpm6JPsIxiyoHeQGv9SmmH9aDjZl5mFr2qbLlJpMJq9VKKBRKanOm3uBYrVatpMNitfDuoe8ybOswAHoHe9O7oTe+Tj4yMzP36rUSQgjx+yOBrjhg+vXrB0Bzc7PWXzYcM1EbySceTyxMUzWzOw820E89A3ap17VYLATTR1JZ+x2wCYD1gU+IRiOYTGbm1N/IhlCiN6wxAK43HLyxfjC9+6+hY8dKjMY9t5eurMxh4cJulJeDx+PBam1tk5WZmUlmZiZut5toNEpDaAeQaCs2tudaHvqyF7FYnA83D8cXgKNLl2n77Vzww8fcGurJf7ccR9QQx2wykZMSpn/BVu3+p74cScSWmNzmcrnIyMggGo3icDi0bG2Dq4FXu7/KiRtOpHttol45pzKHnNk5BJ1BDMaWIJc4ppAJc6j1R0Qw5Yd71uZ52tOk+/5//f7Jpl5rqXKdQlMwiLVlsZkKYvWdLPQlIiqTrIJgs9mslanEUmJ8WvIpIzaNAKBvY1++s38nwyOEEEL8IAl0xQHhcDg45JBDqKqqwhCuJ8ed6BoQx6iN2dWXL+j71qoyBpXNBbQgV98CLBwO4w0dhzH0N2JW8KYHub7KAjGSqtN7vAEpgRp6FM5j1ap2/P2zI7A77S1txloDaRWgxeMGotFEDXBOTgSXy4XX69UylVlZWWRnZ+NyuQgGgyyp7sEZoQ04rFFy3H7cVn/LiNwYH20awMKKfvyh6xJ6ZqzCZIgkSixa4myDwcD2QEe+bBhLQyiDSDyAxRLBZWpiXMfWbPWXm9qxYYcRt7tOyySnpqZit9txOp0tbyYMWsb2i8wviK6O0mtzL20fNp/tB1+vjQM20mxvRm2xNbyYDtbWRX/2xtZm3WVdy1iV58NoLMURChFr6Y4QDoe10gjVJkx9qUVpahv9JDqVBbZarSzvuFwLdA9tOJQlsSWyIE0IIcQPkkBXHBCjRo2ioKCATZs2cXiH1vrcmmCW9rG/CnRVAKvvuKCyvGqOucPhwG6343A4sFgshMNhtm7dSizmIOvDwTQev6g1uNUFua5KSNne+n337CpSbBHe29gPqy2RUfR6vfh8PgoKCkhNTdXKAmKxGA0NDRiNRtxuN0ajEY/Ho7W/amhoIBQKYTabWVeXT5+8RPb12G6bWVjZnlA0UZMaAz6pOI5FzadhMBjwer00NDQQDofp0aMHJpMJf8xPPB7GYjHT3rmZUXnvkGpN5FBr/Wl8WnEUJlOIjRs30tzcjN1uJy8vj6ysLDIyMrRAUg2LiMfj1HatZbF1McXzikldlwqx1rIQ9RUxRliSt4SydmWkLbXQvlPiOr1Q/QcubvoIgGg4xLo+r2vXMNwnQnYsWwuu1RsUaG3Jphb3eTwe7Xu10FB9r59RHwqFCAQCRF1RQsYQ1piVomARRWVFfJP2zS/xT1II8TPNmDGDKVOm0NDQcKBP5YCaN28eI0eOpL6+nvT09AN9Oj/bUUcdRb9+/Xj00UcP9Kn8JBLoigPCarXS2NhIIBAgJ6W1xdfi2r5EohHto22j0agNNdC3G1OLlFTpgsryhsNhAoEA4XAYv9+fCIa/HYS7PoJl2HJitgjxOBiNBiyNLgzfjOXrkJGi+Gfk27YAUJhSR0lqNWUN7bTzSk1NJT09HbfbrR03GAxq7blUJwiAYDBIOBzGarVit9txu91s8ZXSh0Sge2juYvpkreCL7f3Y5snBQEv7NG8Ur89HPBAgw2DA6rDi37YVu81Oit2O0xZhSPZCsm2t9cN1gTTeKD8Ls8tJRkadNipYXR8VNKrrpGphVRmB1W0lfH6YRnMjtbW1LF++nGAwqNVFqz87eTpx+a238a/TEjWyfmMdj6W3tkrTXtfmFPzxNPx+nxacqjcK+lpq1W3D7/drQTCQ1HVBHVs/SjhoD/Jpx085dn2iqXzWjiwirgjp6enaL1eTyaRlsYX4LZk92/DjG/2CTj99zyVaO5swYQIzZyYWxlosFoqLiznvvPO46aabtP+n4rfBYDDwxhtvcMopp/zotq+//vpeD+g5GIN8+ZcpDohAIEBNTU1iGpZuJK8/6tTKE/QT0dT3RqNR+2herdJXIpEIwWBQC+bC4TCxWIxAIEDlFyXUv5emZRBzc3MpKCjA6XQSiAWYVzmEbi4HA3ISq/dTrAEtcE1LSyM3N5fMzEzteOojd3Uefr8fn8+nlVDEYjFsNhvZ2dm43W5WNmXRvrqOfjnfA+AwBzm6+KufdQ3rAmlMX3YCMasdq9VMWlpiGITD4dD+VCN99Z0OVLlHKBQiFAphs9lwu90Eg601uKpfsNFopL23PVMXTSU1mMrgJ69g0eSndns+Zp+Ddq9cTGW0Tnuz4fV6aW5u1rKz6oelyix7vV6tJlfVVuvfvKguG/oSlvJ25dDSaGLE5hG8W/wunTt35ptvvtEe179/fz777LOfdX2FELsaM2YM06dPJxgM8t5773HFFVdgsVi48cYbf7VjqvHrYv9SJWMHYsGv+iTwl3gDJX10xQHh8XhobGxMBK+6KWSq3ZSq41RBq1pkZjabsdls2Gw2LWtpt9ux2+1JmT/1Mb0qdVBlEOnp6eTn55OSkkIgEKCpqUnLODYHW/vGqvZgGRkZ5Obmkp2djdPp1M5LDaxQ7cxU7WssFiMtLY38/Hzy8vJIS0vD7Xbjdqfwv8oxvL52BPX+Pbfr+jHRGLz7fQemvT+A9Vt9WrbUbrfTrl07ioqKaNeuHXa7fZe6ZhW8q+AxEolQX19PXV0dkUhEC44h8Y4/PZTO1K8SQS7AwMeuovieC0n7z+FkzD6Sdm8dQ+5/R5H72vHEHxrP2kof1dXV2uSy5uZmfD5fUucM9Xroxw/rSxxUcKtGFatfcOrfwrq8dfiNicWKOaEculV1o6ioKOka5eTk/KxrLITYPZvNRl5eHh06dOCyyy5j1KhRvP3220nbzJ07l+7du+N2uxkzZgwVFa3laYsWLeLYY48lOzubtLQ0RowYwbfffpv0eIPBwDPPPMNJJ52Ey+XirrvuonPnzjz44INJ2y1ZsgSDwcD69eu1x73wwguceuqpOJ1OunTpssu5vf3223Tp0gW73c7IkSOZOXNmYqGurtxi/vz5HHHEETgcDoqKirjqqquSJjHOmjWLQYMGkZKSQl5eHmedddaPTrfcWUNDA5dccgm5ubnY7XZ69erFO++0jm2fPXs2PXv2xGazUVJSwkMPPZT0+JKSEu655x4uvPBCUlJSKC4u5m9/a22XGQqFmDx5Mvn5+djtdjp06MC9996rPRbg1FNPxWAwaN/ffvvt9OvXjxdeeIHS0lLs9sTai6OOOoopU6Zo+w4Gg1x//fUUFRVhs9no3LkzL774Ips2bWLkyERHoYyMxITOCRMmaI+56qqrtN9Nhx9+OIsWLdL2OW/ePAwGA++//z4DBw7EZrMxf/78fbqmP0QyuuKACAQCWiCbYmstXTAajRjNFiwWC4FAos+W/h2d+hh+5yyf2kYFQypwUllgfSbW6/USiUS0gDoWi2HBy4B2G7XjROIW0tPTycnJITU1FYvFogVi+gVT6lgul0sLJDMzM0lPT9cWywWDQSwWCxaLlfXe/iz9piMljuUUpHmxWhLvlks7llKQv4eWC8DWbVsp31bP/LJ2VDUacGWESW1px6UCSZUZNZvNSQG5/vrpF3qFw2EqKysTY3dbapxVlhVgUMUgLcitTavl73/8O40hM40L21NVVYXP58HtdpOR4cJo9BCPN2tvPNTiPEDL1uqHUKg3NaqtmCphUK+hCtRVQA6JbG3YHOaDwg84ufxkAKx+K6mprUMzAGpqasjIyKC+vn7P/xCFED+Lw+GgtrZW+97n8/Hggw8ya9YsjEYj55xzDlOnTuXll18GEl12zj//fJ544gni8TgPPfQQJ5xwAuvWrUtaWHr77bdz33338eijj2oJjunTpzN16lRtm+nTp3PkkUfSuXNn7bY77riDv/71rzzwwAM88cQTnH322WzevJnMzEw2btzIGWecwf/93/8xadIkvvvuu6T9AZSVlTFmzBjuuusuXnrpJaqrq5k8eTKTJ09m+vTpQOL3yJ133km3bt2oqqri6quvZsKECbz33nt7dc1isRjHH388zc3N/OMf/6BTp06sXLlS+/m4ePFixo0bx+23384f//hHFi5cyOWXX05WVpYWOAI89NBD3Hnnndx000289tprXHbZZYwYMYJu3brx+OOP8/bbb/Pqq69SXFzMli1b2LIlUZ63aNEi2rVrx/Tp0xkzZkzSz+X169cze/ZsXn/99R8cGnTeeefxxRdf8Pjjj9O3b182btxITU0NRUVFzJ49m9NPP501a9Zoa1oArrvuOmbPns3MmTPp0KEDf/3rXxk9ejTr169PyhjfcMMNPPjgg3Ts2PEX66gjga7Y7/RZ0c6ZDWQ6Ex+Zh2MWMCSCHpvNht/vTwrSoHUMsD54VeUN+m1UUKrPGFqtVi2zq+p9EzWsMKZkKSnWRGDtCduppStZWVmkpaVpQy1Uvas+w6gCMavVSkpKCkajkZSUFOLxOM3NzdrQhsTI4HSys7MpKSnhsMMup2/fvvv0cVz3/tAdGN3yfVVVFcuXL+f999/XRuL6fD6tbMLlcuF2u7VzVUGwfuyvCsT1JQ8qII3FYjjjrdnnj/t+TJOhCZfTpS288/sTmdVoNKqVKwDaYj3VJkwF3+q4KqhVga7K4Krz1L+u+tdQBbw+d+tgDX2Nr/LFF1/QuXNnCXSF+JXE43E+/vhj5s6dy5VXXqndHg6HefbZZ+nUKbFydfLkyUyb1jqB8uijj07az9/+9jfS09P59NNPOfHEE7XbzzrrLC644ALt+wkTJnDbbbfx9ddfM2TIEMLhMP/85z93yfJOmDCB8ePHA3DPPffw+OOP8/XXXzNmzBiee+45unXrxgMPPABAt27dWLFiBXfffbf2+HvvvZezzz5by2B26dKFxx9/nBEjRvDMM89gt9u58MILte07duzI448/zuDBg/F4PNrP3D356KOP+Prrr1m1ahVdu3bV9qM8/PDDHHPMMdx6a2LqZNeuXVm5ciUPPPBAUqB7wgkncPnllwNw/fXX88gjj/DJJ5/QrVs3ysvL6dKlC4cffjgGg4EOHTpoj1OfeKWnp5OXlzzaPRQK8fe///0HPxVbu3Ytr776Kh9++KE20VN/7ipobdeunVaj6/V6eeaZZ5gxYwbHH388AM8//zwffvghL774Itdee632+GnTpnHsscf+6DXcFxLoiv2usLAQk8mE1+ulZ6fW7qubg4cQx7hLtwUV6KjgVT82Fkiqy1Xb6fvvqo4DKoupqG3yXfW0czYCEIsbmF93LCkZifIG1QVBDV1wOBxYrVZtYIX6GF4FzXa7Xcsmp6amah9Lpaam0r59e7p37679Avi52rVrxzHHHEPXrl0pKyujvLyc8vJyqqurE7XPLeeh6onV4jQVdKrrqQJLFfDa7XZtsZj+ejXFm7SFaqqdms1m07b3+XwEAgEtE6uutzbOVz+quaWMQW2jsrr611lfzqAy+aqswWZtbYVW7Cmm3JM8rU7VHwshflnvvPMObrdbWwNx1llncfvtt2v3O53OpJ9x+fn5SR/r79ixg1tuuYV58+ZRVVVFNBrF5/NRXp78f3jQoEFJ3xcUFPCHP/yBl156iSFDhvDf//6XYDDImWeembRdnz59tL+7XC5SU1O1469Zs4bBgwcnbT9kyJCk75cuXcqyZcu0DDSg/S7ZuHEj3bt3Z/Hixdx+++0sXbqU+vp67XdUeXk5PXr0+NFruGTJEgoLC7Ugd2erVq3i5JNPTrrtsMMO49FHH036ma1/rgaDgby8PO25TpgwgWOPPZZu3boxZswYTjzxRI477rgfPbcOHTrssfRryZIlmEwmRowY8aP7UsrKygiHwxx22GHabRaLhSFDhrBq1aqkbXd+3X8JEuiK/cpoNNKhQwftY36Trkq8LtxOq63VT0ELhULaxCx1G6B9r+/GoN9O1cyquk9AGzerAtRYLEa/jNaBDWs9hxC3tdNqboPBID6fD7/fr71T12cQ1Q9A1f6svr6ecDhMly5dOProo3+V/7Q7Kyoq2qVGdevWrbzzzjssXryYHTsSXRpcLpdWV2y1WpN6Fas3BCaTCYfDgdlsJhAIJH10VVxdzNoOa7UssOpuoGqXVcsw1YFClXOoAFoFqYD2+utfK/V39XqpIFi9kdBv25jeqJ3XSTUn8Un9J7tcF5VdFkL8ckaOHMkzzzyD1WqloKBgl8VCO39Kpd6wKueffz61tbU89thjdOjQAZvNxrBhw3Z5Y+pyuXY59qRJkzj33HN55JFHmD59On/84x9xOpPXPOzu+PqBQz/G4/FwySWXcNVVV+1yX3FxMV6vl9GjRzN69GhefvllcnJyKC8vZ/To0Xv95lp9nP9z7em5DhgwgI0bN/L+++/z0UcfMW7cOEaNGsVrr722x33u7rrr/VLn/lOP/1PIYjSxX+Xl5VFUVKTVr9b6Wv/TdHMuJhaLal0C9Iuo9MMjgKSgVwVpKnOpsofqB7B+HyoTrDKaWdZasmwN2jlsDvfVPk7XH1c/jlafxVXfq+AuHo/Tp08fzjrrrP0S5P6QwsJCLr30Uo4++mg6duxIJBKhsbGR+vp6rbwB0EoGnE4nLpdL+1J1tlXprZmYo9cezSFbDiEYDGpfqpRAXycdCoXw+/1aqYd6fdSX/vVQ1OuoH/W8u/IUlRUuKy6jOqUaAEfcQX5V/i7XYOeyFyHEz+dyuejcuTPFxcU/aUX8ggULuOqqqzjhhBO0xVY1NTV79dgTTjgBl8vFM888w5w5c5JKCPZGt27dtO4sin5BFCQCxJUrV9K5c+ddvqxWK6tXr6a2tpb77ruPI444Qht8tC/69OnD1q1bWbt27W7v7969OwsWLEi6bcGCBXTt2vUH62Z3JzU1lT/+8Y88//zz/Pvf/2b27NnU1dUBaL3q91Xv3r2JxWJ8+umnu71ffdKq33enTp2wWq1JzykcDrNo0aK9yoD/XBLoiv0qPz+fnJwcLYBZVl1ELJ4ISNLMDRCPJLUV02dM9bepj+QDgYA2AAHQ+sOqj+j15Q4qg6sC5kxbE6OKWn/IrWrqRtzk1mpUzWYzVmtioZOqO9JP8YrFYgSDQfx+P83NzZjNZvr27cuVV15JYWHh/rqkezR+/Hjuuusu2rdvj8/no7KykqqqKhoaGggEWscWW61WrcOB+jKZTKzIX8HCvIUAmGNmzvv8PHps65F0XXfuaxyJRJLqddW11A+F2HmRoHqddzfqeedWcyaTCZPNxMoOK7VtVe9gPfUDVwhx8OjSpQuzZs1i1apVfPXVV5x99tl7nSU0mUxMmDCBG2+8kS5dujBs2LB9OvYll1zC6tWruf7667Va0xkzZgCtb4yvv/56Fi5cyOTJk1myZAnr1q3jrbfeYvLkyUAiq2u1WnniiSfYsGEDb7/9Nnfeeec+nceIESM48sgjOf300/nwww+1zOucOXMAuOaaa/j444+58847Wbt2LTNnzuTJJ5/cZeHcnjz88MP861//YvXq1axdu5b//Oc/5OXlaXWzJSUlfPzxx1RWVu7TWoaSkhLOP/98LrzwQt588002btzIvHnzePXVV4FE6YPBYOCdd96huroaj8eDy+Xisssu49prr2XOnDmsXLmSiy66CJ/Px8SJE/f+wv1EUrog9qsuXbpoI10jkQihqIkd/kzynYlVu0aDEbN510xcLBZLGi6wc9sxdVs0GqW5uRmPx4PRaCQQCBAMBrVgLBqN4IjtoMDVyKDsFdhMiWCsyp/BysbuuNMS5Q92u137iF/17a2rq9MCLxVkx+Nx8vLyKC4u5ogjjqBfv357fS1mz57NV199pZ2jy+WiuLiYzp07U1hYSCQS4dVXX6W6ulrLIKtyge7du3PyySdTXFz8o8dxu90888wzvP/++3z33XesXbuWTZs2YbfbycrK0oJUNVFOXVuLxYLD7eBfh/4Ly2ILg7cOxhwzc8miS8juks07Oe8QM8WSzsvv9+PxeKivr9dqmtUvEPUmQf/6qcBYH/iqgFcFyvpOGmr1td1kp+/Gvtpz9Hg99OjRgzVr1mj9gH8oWyKEOHBefPFFLr74YgYMGEBRURH33HPPPgVwEydO5J577klaqLa3SktLee2117jmmmt47LHHGDZsGDfffDOXXXYZNlui7r9Pnz58+umn3HzzzRxxxBHE43E6derEH//4RyCxkGvGjBncdNNNPP744wwYMIAHH3yQk046aZ/OZfbs2UydOpXx48fj9Xrp3Lkz9913H5DIKr/66qvcdttt3HnnneTn5zNt2rSkhWg/JiUlhb/+9a+sW7cOk8nE4MGDee+997TkwkMPPcTVV1/N888/T/v27dm0adNe7/uZZ57hpptu4vLLL6e2tpbi4mJuuukmANq3b88dd9zBDTfcwAUXXMB5553HjBkzuO+++4jFYpx77rk0NzczaNAg5s6d+4t1VtgTQ3znJeu70dTURFpa2q9+MqLtU/9RV65cSVVVFZmZmZw/eDPt3YlAd1H9oWzylmgfc6tMXjgcTlp0Fo/HcbvdWqeAYDColSaoTKN6XKatkQxXjFSngT5ZZaRZvUnnVBPK5uNtQzGYnVqnApfLhdPp1Pr1xuNxbeJZMBikubmZQCCAxWKhtLSUww47jOHDh//o849EIjQ3N/Pmm2/y+eef4/P5sNvteL1eHA4HQ4cOZfTo0dpijr/85S+sWbOGaDSq9ZVV3Qzy8vIYPnx40krlH/PZZ5/xwQcfsGzZMiKRCDk5OWRmZuJyubBarUndKGKxGI2NjTQ1NUEEzlxwJv029NP25TF7eL/kfRryGjClmNiQs4Haxlpqa2sJBAIUFBTgciU6NKjFYSqjru9Woco+dq7J1XeH0HdtsFgs9K/oz5lzE4tQPEYPYwvHUtS1iI0bN1JWVrbX10OIX1tjY+Mu7e8CgQAbN25M6lUq9s7nn3/OMcccw5YtW8jNzf3Z+7v77rt59tlntdZb4rdjb/8fSUZX7HfNzc0YjUYtuNrYlKsFun3SllER6UYoFNKCLZXZUyUH+mBW1eWq1f4pKSmkmJvJMFURiYQpcW2mIKXpB8+lNpTNYs9obE6Dlqn1eDzasVQ2Uv8xuxprq884qkzljzGbzVRUVPDll19SXV2N0+nUsp45OTkceuihSSuWe/bsSUNDA42NjVp9sQoM6+vrd1mp/GPS0tLIysoiKyuLxsZG7Trqr69a1Kcy2+oNx3uj38P4gZE+ZYmVvu6ImzPXn6lNKWtwNzC/23yq/YmPqxzNDlwuF1uKtlCTUqO9WVBZ+Z1LS1RWV725Ua3cVE9d9bpHo1Hcza0tfN7IeYOgMYjdbpc35EK0UcFgkOrqam6//XbOPPPMnxzkPv300wwePJisrCwWLFjAAw88oJUliLZJAl2xX4XDYW1Urlr4tKYhnYHtynCYg9iMfoamfcx3kW40hLOSujAkDYUgSgfnRtLsiRY3pCR6t+amBCmwbdrjOUTjRjZ7O1AXSKGKXqRm5GBuqbVVZQ5q9GE4HNYWQEUiEW3UbyAQ0OpTPR5PUsP0H9OjRw+i0SiZmZmkpqbicrmw2WwUFBQwYMCApG07derEmjVrtGBa1dMaDAZSUlL26WMfFRwbDAbtcapmVj1v9VxVJnXnoQ4fnPgBaxevZdTiUaT705P2n+5J58TFu8kufwuLOy7mg0M+oNxSrq1MVl0a9IvQVLZ+54EfKpursr3uQGugW+msxGhIlDZIdkyItulf//oXEydOpF+/fvz973//yftZt24dd911F3V1dRQXF3PNNdf8quOLxYEnga7Yb4qKivD5fNqqf1V3CQYWV3fj8PxEm6921m2Mzt/Gdl8ODQFH60K0eBwMBiBOaVoVLsvet49aWZ1DwJCF0epme7AjwWii7laN6LVYLFomUY0VVoG1ynKGQiHt/FVrLBWU7Wsm0ePx0KFDB9LT0wkGg1pf2p1ne6u+tSrAVTWq4XCYurq6vV6tDK2rbFXwrm+hVlNTg8PhIDs7W1s4pq6FooLN9QPWs7LrSkpXl5LZnEmGMYOBKwdiC9t+8NgDNwxk4IaBfNnhS15v/zrbbNu0NzGANqBClTboe+6qYFzVSjtiDoasaO192RBrIBAOaAG5EKLtmTBhwj7VqP6QRx55hEceeeTnn5D4zZBAV+w3paWlWtYUSJo0ttnfCXt1iEE5q7XtC5zVFDh/aG97FrB3pcHUi4qKSrY0pdEcSgSu1khicZnDmliAlZKSok1Mczgc2qIst9utnZ8KyFWNrgpuVUbSbDZTULDn8b07q6+v12bB+3w+mpubqa6upry8PGnKzLp166ioqMDpdGpdBCwWC8FgkA0bNuxzYGcymWhubqa2tlbLkodCIS1DnZ6erpWM6LOp+sfbbLZEi69eZayNrsVqtfL18K/psL4DxpBRC8ZtFhslS0oo2tza43fo5qEM3TyUeXnzeL34dRpSG7QAWl1PfYmKepMTjUa1QP+wlYdhCyWC6np7Pd+6vyVa03q/EEIIochvBbFfDB06lNzcXHbs2EEkEtF6tTocDi2jusnfj00b8hncbg3FrgoMhj2vk/SFzXxbWcyWWnDY7QwbPpzRxx1HTmFPUvNae/Nt376dt956i++++w6Px6MdV3UbgETQ7XA4tCymyh4qKvCzWCxaQ2u/3084HN7tqOK9oV90pW+HplddXU0gENDG6OpbboVCocRCsX2gOiJUV1djMplIS0vTnrvdbtdqolVmdedG69pkMpsNt9tNc3MzmzdvxpPiYeTVIxkzZswuxwx/F6bsvDLSVrRmvY+qPIq+dX25u//d7HDv0AJ2fX9ktQBPlWm4XC7yKvIYsbh1Is9bPd4ixZmCN5hYYCiBrhBCCD35rSD2i/z8fNxuN9u2bQMS01XUOF01bMDhcBAw5LGwJpMVngipjkSQpUoGAoEAsWiMOHGikSh1ARdmqwOPx0P3ou6cM/mhXVY3Q2J05Nlnn01DQwMbNmzQuir8P3vnHV9lef7/99k7exISEiHsDYKggjhx1YFarVpx1VbR0kq1Le5VZ92jdQC1tm5cVVD5gggIAgqIhE1IgOx19so5vz/yu2+fkwRIWAG8369XXsl5zjOu5znJyedcz3V9LnHbXNTaikylQGRuhagU2VuDwSAz06KRyufztTnu7hBlAqIMwmAwkJSUJP0NtXi93oRMpXCYgJY55Z0xD4eWscEmk4nGxkbZTCdqhcVoY21WtfVEMyGAxZAJ0RCYkZHRrsgFMA0z0feHvrwy7RXyX8lncFNLM1tqOJXHlz3ON+nf8K9e/8Lr9CZkk4WdmNFoJNefy8QvJlJYWij3uzFzI2uK1pDRnCG9lFtPClIoFArFzxsldBWHhDVr1jBu3Lj/72X703jXYDCI19sicJxOJ06nk3A4jMfnI4xFNoFFcBEkSCjaUrOq0+moa6jF6Yxx4okncscdd7QrcgVJSUmMGDFCNkKZTCY5REJ7W1zbBCXqRJubm2UdrSgfCAQC+Hw+KZo7OvoRYO3atTidTmKxGMFgEGhxQ3A4HJSVlbXc9rdYKC0tpaGhAavVisPhkNdO+D1mZGR0WuiOGjWKNWvWsGTJEqqqqrDZbKSmpsrstrD8EpZq2kEb0PKhw+VyYbVaZZ3yyJEjmTRp0l6Pfd3j17F28lp+P/n33LL6FnpGW9wlxtSNodBXyN8H/x1PsoewoWXkc7IpmW6Rbpy96GyKK4oT9rUhcwP/GPsPdGYd1nhLhl6MMFYoFAqFQqB8dBWHjCuvvJJdu3bh8XjIzs7GbrcTDoepq6ujsbERl8tFt27dSElJwe1243a7CYdbRI8oNRDWXjabjS1bttC7d28+/vjjDscwa9Ysdu7cKR0MhNh0Op1S1Ipb96KUwOPxUFtbS11dHRkZGTI+nU7HuHHjOOecc9p1P/B4PLKxTcuMGTNYt24ddrsdg8FANBqV4jIUCtHU1CSHUYiSAovFkuCEEI1GpT/tmDFjOPPMMzv1Wni9Xh5//HG++OILmpubKSwsxG63S69ebd2s0WiU9l7CO1in07Ft2zaGDx/OzTffLPdbWFjI9u3bE47V+i3mpZde4vkHnufOwJ2cWH9iwnMxYmzMaBn00Lu2N/p2hjd+0/Mb5oyZQ1AXlB+UfD4fSUlJGI1GysvL2bx5M01NTZ26JgrFwUD56CoUBwflo6s47BAZU9FVb7fbsdvt0nIsGAzS2Ngox9EKOykhPMWwBHE7Oy0tjeLi4r0fWIPT6ZQjasXYSeG2IG7Ti9v3olxBiE6r1Sq9ep1OJxkZGRx//PG7tfiqqqqiV69ebZbv3LkTk8mUMNLY7/e3+MzGIlQmBdGl6DEY9Ph1MZqbPRBtItfvwKg3yEYtkeXdtm1bJ1+Jlutw8803U1FRwbp16/D7/QletmazWQps4UAhHosJdc3NzWRkZMh9XnrppW1EbnvlGJMmTeKrr77inzX/5F/1/+L+kvvJCeYAoEdP39q+7ca8sGAhc4fPJZbcEmM0GE0YRCFKTVwuF3369CEajfLdd991+tooFAqF4uhBCV3FIUM7atZisUi7KyEyRb1nLBZLqN0VYldkPoXgSk1NJT8/f+8H1jBkyBBKSkrwer0yYxkMBmWZQmtHhVAohMFgIDMzU2Zcg8Eg2dnZDBo0KMEhQSDEensid8WKFZSWlpKbm0swGJTHCTaHWZ1Wx4pudQRNsTbbAThDRo7bkUHfplRsZot0i6isrKSmpobMzMw224jzaY/09HQmT57M7Nmz2bFjB263G6/XS3NzM3a7HZfLJV8vn88nR/qKDwBJSUk4nT/52b711lvtXovWZGZmMm7cOFauXMnSyqXcnHszVzZeSa9oL/p7+iesuzFtI+XOcr4a8hXB5GDLZLqmkDwn7UhhUV4RjUapra3dpw8ACoXi4BGPx7nhhht49913aWho4Pvvv+/U2PTDhQULFjBhwgQaGhra/TAPMHPmTKZOndrue6Di0KKEruKQEY1GZWe/uG2vHcCgxWQySVEbjUbxer1Eo1HZBGWxWGhubu70bb9evXqRkpLCrl27ZFNXMBiUGWS9Xo/JZJJlC5FIRIrqtLQ0KioqCAQC5ObmMnjw4Db7D4VCVFVV0bt373aPP3/+fOrr68nJySEUChGLxWgwBvmw30681j1PV/NaonzZs5LvffVcvPUYjMGWP99AIMB9993HrbfeSmFhYcI2e3ODGDNmDNFolM8++4xt27bJ6ywawqLRKKFQiFAoJJv2RKNYZmamLL343//+t8fjtOb000+ntraW+fPnU+Or4UHng6SmpjLIMoizas/CYDSwrM8yqpOrAbDb7RgjRurq6mhqasJisZCUlCRrrQFpRRaNRtm6dWun4lEoDgcqdBWH9Hi58dxOrT958mQaGxv54IMP9ul4c+bMYebMmSxYsIBjjjmGjIwMdDods2fP5vzzz9/jttr3sqSkJAYOHMj999/PySefvE+xdJSTTjqJoUOH8tRTT8llY8eOpaKiQpV0HiEooas4ZIhMZzwelw1VYoSvEFfCz1UrOEWWNx6Py1voZrNZZiA7S/fu3dm1axfBYFAeLykpScYkSizEGFwh+CwWC9nZ2VgsFoYNG0Z6enqbfYthDO0JzDlz5rBjxw6Sk5MxGAyYzWb8kbYi1xbWU1zrQo8OvU5PhGbWZ7qJGFtKHeocYd7tuY1flffBHmsReps2beI///kPf/3rXzt9PUaMGMGOHTsAEso6HA6HPA+r1YrT6cRisdDY2IjJZCI5OZlYLMby5cuZPXt2p47Zs2dPWX8s6qV1Oh077Dt4c+Cbsl7YZDTJxjiPx0N9fT2BQEBmnEXWXWTGxe+WyWSSrhIKheLwYMuWLeTm5jJ27Nh92n7GjBlMnDiR2tpapk+fzjnnnMPatWvbvbO2N8T0y33BbDaTk5OzT9sqDj1qjJDikLFz586WyVb/v7FMeLZqM3KifEGULWgziKLkwWxuGfoQDoepr6/vdBxDhw6lf//+pKamylpZka00m83Y7XYcDoe8NS8yz42NjSQnJzNkyBD69m2/jtRkMrX7prtq1SpeffVV4vE4WVlZ0gprXZZbilxdHMZtzuCK7ws5uao7p9QWcGJFDiftzOXq1T05rjQdU7RFeNbaQ7zffYsU4RkZGdTW1vLZZ591+nrY7XbS0tLIyMggJyeHvLw8cnJyyMjIIDs7m27duskmQQCfz5cwrjcYDO628augoGC3xw2Hw/KYqampOJ1O6Rcs3C9E6YXb7aa2tpampiZisRgOh4Pk5GRcLpdsnhO/R0lJSeTl5XX6OigUiv1j7dq1nHnmmTidTrKzs7nyyivl9MbJkydz8803U1ZWhk6no7CwUN6BuuCCC+SyPZGSkkJOTg4DBw7kxRdfJBAI8MUXX1BXV8dll11GXl4edrudQYMG8d///jdh25NOOokpU6YwdepUMjIyOOOMMwD46quvGDVqFBaLhdzcXP785z/L95LJkyfz1Vdf8fTTT8uSttLSUhYsWIBOp0soS5g5cyYFBQXY7XYuuOCCTo2FVxxclNBVHDK2bdtGc3OzHLgQDofl7XtRv9v6u7aEQWQAxXLhwtDZrG5hYSEnnHACgwcPpnv37hiNRn788UfWr19PTU2NtBsTPr+iaa6+vp54PJ7QgNWa1l68gkWLFlFaWirdHLxeL56gj6XZ1XKdcVszGdyQjs1okQJfTCZzGKyMqsvikpJCuf4Oh48G/HIAh8/n4+WXX2bNmjWduh4NDQ1UVFRQU1ODyWSSnr7JycnSYzcWi1FbW8vOnTuprKyksbFRXvfMzMzd1kqXl5fv9rjNzc2kpaWRkpKCw+GQHzDE6yw+0Oh0OjweDz6fT2Z/xe+H3W6XA0dEBlc00CkUikNHY2MjJ598MsOGDWPFihXMmTOHqqoqLrnkEgCefvpp7rvvPrp3705FRQXLly9n+fLlQEumVizrKKKZWEx2HDFiBP/73/9Yu3Ytv/nNb7jyyiv59ttvE7aZNWsWZrOZxYsX89JLL7Fz507OOussjj32WFavXs2LL77Iq6++ygMPPCBjHjNmDNdffz0VFRVUVFS0+163bNkyrr32WqZMmcKqVauYMGGC3Iei61GlC4pDRk1NDX6/n/T0dPnmJIY2iE5/h8MhM3TCmktk9cRELovFIm2vQqEQK1euZPz48Xs5eiKFhYVEIhE52WvHjh2Ew2GysrKw2+0kJyfj8/nkIAmLxSLF4L6USwiXhFgsRjgcxufz8UNOI0FTy/nbwgYGNKXJwRDiNrzZbJbZTYD0sJWiegfb0loGVOw0uMluNmAymQgEAmzcuJFly5a1Wz+8O3bu3ElJSQkbN24kKyuLtLQ0KTaFP63X66W2tpby8nKi0ShZWVkyC15QUMApp5zCs88+22bfe3IvDIVCuFwuAOmqIUom9Ho9kUhEeiZrr4fRaCQSiUhbOKfTSWNjI36/H0A6eigUikPHc889x7Bhw3jooYfkstdee438/Hw2btxI7969cblcGAyGNrf9Raa2o/j9fu644w4MBgPjx48nLy+PadOmyedvvvlm5s6dy9tvv82oUaPk8uLiYh599FH5ePr06eTn5/Pcc8+h0+no27cvu3bt4vbbb+euu+4iOTlZJjv2FN/TTz/NxIkTue222wDo3bs3S5YsYc6cOR0+J8XBQ2V0FYeU2tpaOWxBDFkQdaBiFK4YJiF+1mbwRJZP3Kqura1lzpw5bUbVdgSxH51OR8+ePRk1ahSjR49m6NChFBQUyGYnaBGebreb8vLyfermD4fDCZneKDG+z//pdv+o8jSMcX2b2l4h8MTyeDyOy//T59Ol3WsxmlrqlnU6HV6vd49Z1PYQ3r2VlZVy3LAQnMnJybK8QIz8TUlJoW/fvtLlwel0ct5553Hvvfd2+JgNDQ3U19fLDxHCt1e8vrFYjPr6esrLy6mrq0Ov18vnjUaj/LAgsu/idRIfgAoKClT5gkJxCFm9ejXz58+XHz6dTqcs8dqyZcsBOcZll12G0+nE5XLx3nvv8eqrrzJ48GCam5u5//77GTRoEGlpaTidTubOnUtZWVnC9iNGjEh4XFJSwpgxYxLed48//ni8Xq/sW+gIJSUljB49OmHZmDFj9uEMFQcDldFVHFLWrl2LzWYjJSUFo9GYIFwFWk9UrdDV638SgjqdjnA4jNfrpaGhgSVLlnDCCSckHOvjjz/m3HPPbRNDY2MjTU1NRCIRkpOT6devHyNHjqRfv34ywyjsx2KxmLTvCoVC7Nixg7Vr1zJ06FByczvesRwIBAgEAkCLoA+5dATNLeLcFtbTq8pBzBSTdWB6vV76+opt4P/bhWmypM26uGyaAxJqVTsTWzQalR9A9Ho9KSkppKWlyQx7r169yMvLk8fp3r07gMy8WiwW7rrrLhobG3nyyScT9n/nnXdy//33Jyz7+uuvqa2tJS0tTf4OaD8IRCIROUgEkCOKxQeaYDCI3++X9dzC41icv8FgID8/X46cVigUBxev18u5557LI4880ua5zrxX7oknn3ySU089leTk5AQ7xccee4ynn36ap556ikGDBuFwOJg6dWqbiZWibE7x80IJXcUhxefzsWDBAsaPH8/w4cNlGYBoLotGo7jdbhwOhxRwok4TWoReKBSS9VnQ0lzWWuQCjBs3rs2y9evXU1tbS0ZGBn379t3twAmn08nAgQMZOHAgsViM2bNns2vXLurq6li3bh1vvvkmV1xxRbvete0hbLBk1jJqks/l1lmIhaPEjWZ5jmIggxiaIWp7TSYTPttP2euRpSmEgiFs1pZSg+Tk5E4J3a1bt7Jw4UK2bNlCQ0MDsViM7OxsfvGLX5CWlpaw7siRIznvvPOYP38+s2fPxuPxMH78eLxer3SsaG8E7wMPPNBG6H7//ffSZk00JgoRK7K0okktKSlJ1ubG43E5LU9kdUVtb1FREaFQiB9//FENilAoDjHDhw/nvffeo7CwMCFxsTeEn3pHyMnJadeffPHixZx33nlcccUVQEuyZOPGjfTv37/Nulr69evHe++9l3DXbPHixbhcLvlhXviV720/y5YtS1i2dOnSDp2T4uCjShcUXUIkEiE3N1eKHG12NxgM0tDQQDQaTRgEIG5xA3KoRFpaGgMHDmz3GO15HPbt21d2xnYUvV7PmDFjsNvtZGVl0bNnTzIzM6mpqenwPsSQi+bm5v+ftf3pTy9mIKFEQgh+bX2rEL/RaJSo7iehm+r5qXnPaDTKGriOsmXLFrZv3051dTUVFRX06NGD008/vY3I1TJhwgR0Oh2ffvopn3zySYLNWlFRUbvHX7RoUcLjfv36yWYym80mxwv7/X5ZryuyyUCCeBf13MINw+v1otPpZD33vpSxKBSKjtHU1MSqVasSvsrLy7npppuor6/nsssuY/ny5WzZsoW5c+dy9dVX71EoFhYWMm/ePCorK2loaNinmIqLi/niiy9YsmQJJSUl3HDDDVRVVe11uxtvvJHy8nJuvvlm1q9fz4cffsjdd9/NH//4R3mHqbCwkGXLllFaWkptbW277y+33HILc+bM4fHHH2fTpk0899xzqj73MEIJXUWXIMbg6vX6hNGzwu4rFArJrGY4HJZ2XCK7K/xS09PTdzucYXcUFBTs0faqPbp168bZZ5/NqaeeyllnncWJJ56Y0Jzwzjvv7PGNzWQyySx0NBpFF/tJxG7PDBC0/jQdLhqNtvuPIRKJUGXwUprul8t00bi8ZW8wGHY7pac9IpEIpaWl0gYnJSWFyy67rEOelNdffz3hcJj33nuPr776Si6/8cYbWbFiBbfcckvC+p9//nnC4/Hjx0sHDWipYfb7/fj9fpqbm+UHH71eL5+LxWKyQVEIYL/fL4dciOEWnckmKRSKzrFgwQKGDRuW8HXvvffSrVs3Fi9eTHNzM6effjqDBg1i6tSppKSktOtEI3jiiSf44osvyM/PZ9iwYfsU0x133MHw4cM544wzOOmkk8jJydnrAAqAvLw8Pv30U7799luGDBnCb3/7W6699lruuOMOuc60adMwGAz079+fzMzMNnW/AMcddxwvv/wyTz/9NEOGDOHzzz9P2Ieia9HF99QW/f9xu91qAojigPOHP/yBYDBIRUWFrJkVtbtOpxO73U44HCYQCGAymXC5XNLg22w2s2PHDvLy8rj11lu73Lz7448/xmq1ctppp7X7/LPPPstnn31GYWEhTqcTf8DPW/22U+tsmc42tDKVMaXpMourbdBrbm4mZGhmbXYT3+U1EDW0rJNTb+bMNVmkpKRgtVoJBoPU19eTlpbGRRddtFdT9i1btjBr1iyWL19OPB6noKCAf/7znx0+53vvvZd77rkHaBmGIXwpBa0b61q/1VxwwQX07NkTt9tNWVkZwWAQu91ORkYGKSkpxONx2bQoGuVEPa52NLTZbJZZ5crKSsrKyti4cWOHz0OhOJg0NTWRlJSUsCwYDLJt2zaKioqUFZ5CsY909O9IpT4UXcbKlSsZMGCAtIcSdmPJycmkpKQQDoc1t/p/GiAgOvCFE8OebrMfKtpretPi9XplViMSidAcbeb48kw+7NfS2bsqpwG/IUpawMyAuhRsUQMRfYy1afXUWoNsyvJKgQuQ4TFz8roMKfzF7TS73U4wGOTLL7+kqKhoj00gzc3NZGVlMXLkSAYMGMCll17aqXO+++67pdCdOHHiHq3E2sNms8lmwqampoTrEwqFpOuDaDprbm7G5XLhcrnwer0EAgH0ej16vZ66ujrKy8sJBAJtGlAUCoVC8fNFCV1Fl7FmzRoGDBggnQ5EHaaoORWCRTslTdR/ip/FmODDHY/HI50URGlCbpOF7o02dqS0uDFszPQA8G33OgobHOxMDhAytq0Hy/bZOGdjN8xGnbxNL0SmGKJRXl7O//73P6677rrdxlRUVMSvfvUrzGYzTqdzn87r008/5ayzzmqzfOHChW2WiSZAQWFhIbW1tQSDQSKRCDqdTopcMfzBZrPJ4RnxeDxB/IZCIbKysjAYDPzwww9s3rwZgCFDhnTaYk2hUCgURyeqRlfRZTQ2NhKPx6UHrMjSArIZS2RzBdpGgHg8TiQS2acBDoeSDRs24PP5MJvNsqlMr9ejQ8fEjbnkN9oS1o/pYWu6r43ITQqaOKs0n8u3FpNksMlb+IDMdIvrqNfr2blzJ59++mmbeISIFNnwfRW5AGeeeSZffvkljz32WMLy9gZ4VFdXJzwuLCzEYrHIDywiNjEWWoh37XkajUY5zEJsW1VVJUUuHDjPToVCoVAc+aiMrqJLiUQictSuyNoKYSsyn8J6SvjKWiwWaTPl9Xqpq6s7qDXkGzZsoLKykuzsbGkTBi3iUtwqF84BVVVVclqY1Wpl165drFixgmAwiMPhkA148Xi8pfQiFuO8zQU0OaI0WMMsyamm3haSx3aEDAzdnky230puxInZZEZv0IEmiy2ukZjiZjAYiMfjNDY2snDhQiorK7nmmmvk+kJUHihOOeUUTjnlFPn4oosuanc97YeUcDgsJ6GJcb9CoIsGRDG8QnjkBoNBOXgjPT2dWCxGXV0dS5YsSTjO4f7BR6FQKBSHDiV0FV1KMBiUTgqiDEEI3lgsRiQSkQJXZPVEqUI0GsXj8VBdXd0hp4DO8tZbb7F27Vqqq6sJh8M4nU5SU1NJTU3F5XJJwe33+6mvr6empoaGhgZCoRBWq1UKW5FBTUpKwmKxSMEnBGc8HsfWDNneOH02p+I2hkGnoznWjLEpih6drEcW5y6uhxiPKxwJzGaztDHz+XzU1dWxYsUKunXrxgknnLDX7O3KlSvR6XQkJSW161fZEb7//vs2yy644IIEGziv1yttxLQDI8Q1CYVCBINBOaHNarWi1+sJBAI0NzeTk5NDKBRqN2OtUCgUCoVACV1Fl5GRkUF9fT319fU0NjZis9lITk4mOTlZNhv5/S1WWuKWvNlsxuVy4XA4MJvNRCIR1q9fz3HHHXdAYtqxYwcvvfQSW7duRa/Xy2PZbDYsFguhUIidO3dK+zNheRaNRmUGUmRVrVZrQo2pyFhGIhH8fj/xeFxmMuPxuMwUZ+mtMuvrs/nkbXoh/KPRqBS9Ylvxs3aSWkpKCsnJyQQCAd5++23ef/99srKy6N27N927dycej1NRUcGuXbuoqKigoaEBvV6PxWKRzX82m43c3FyGDBnC6aefvtfrF4lEKCkpwWw2s2vXLjmG9/33309YLy0tjczMTDZu3CjLLkKhUEKzobgewh/Y4/HIrG52djbr168nFAq1iUGhUCgUCoESuoouQ2Q7RUbSaDRisVikl64QdULkinIFYUNlNpsJBoNUVlYesJj+9a9/sWDBAjIzM8nNzSU5OVmOnjUajbJRSghKURcruv/FMAMxDEFkV0VjnVhXZGZFyYF28ls0GpXriAyntnxDuE+I9cW2IlMsthXXTFzPmpoaqqqqKCsrIzU1Fb1ej8/nw+12EwqFsFgsCQ4WoVCIpqYmKisrKS8vp7q6Wk4e2h3asohBgwbJn71eb5tssshIm0wmLBYLgUBAZsN1Oh2hUEhuJ34vgsEgbrebpqamTrs8KBQKheLnhxK6ikPOgAEDZHNWNBqVIlAIRJPJJN0JIpGIzG7CT0JR3M6ORCLU19ezadOm3Y7z7Qw7duzAbDaTmZlJRkaGnLQlmqOEwBXDDMxmMzqdTtYTa2uKtaUF4jwgUZw2NzcnPBb7MRqNUkTHYjF5jYTQFeUcWkGrvT5iOzFIwWw243A48Pv9uN1u/H6/rI9NTU2V2XKj0ShHFYu6WDGU4bvvvqOuro7f//73HbqW9fX18udly5Yl1PHCT+4a2sERomZbZHRFZl9k1IXIraysPCLcNhQKhULRtSjXBcUhp6Kigry8PHJzcwkEAjQ1NQE/CR9xez8cDsusbiQSIRgMEgwGpXgTAikUCiV03e8rCxcuJBgMkpaWJksOhHgVP4s6UlE6oB05KzK6IuMqthVf4jzE/oCE9bRiWey39Re0HcQgygyEyBbXRzthzeFwkJqaSnp6uhy8Iep+tXWwZrMZu92O3W7H6XTKwR1WqxWPx8OKFSs6fV179uzZRuQCuFwuGTuQULssJp+J+EUcFouFaDRKQ0MD8XicrKysTsejUCgOHqWlpeh0OlatWtXhbWbOnNmpqY5HEoWFhTz11FN7XEen0/HBBx8cknh+jiihqzjk1NfX4/V6ycrKktZRorPeaDQSi8VkDaxAZH7FMiGOhOD0+Xz7HdfixYuxWq1SPAlHBa3whJb6V5HFFWJclCBonQO0wlYrfrXWaeJctEJXLBNlDOJchZAWiGNpSx9Eple7L5GtdTqdpKenk52dTXZ2NsnJyVit1oTmPlEXKzLDYrvk5GTsdnunygWeffZZrrvuOhYsWNDu82LYRWtRLs5HZKv1ej12u53k5GQcDgfQ4kvc3Ny8zw1zCoWi80yePFn+fZpMJoqKirjtttsIBoNynfz8fCoqKhKaTw/UsTsy1lcbo9lsplevXtx3333yve1gsTuxvnz5cn7zm98c1GMr9owqXVB0CatXr6ZPnz7k5+fLWeg2m03W7QaDQSnQxCABIKE+VWR9RZbS7/djt9v3KZ6PP/6YDRs2SDElMsfaMgSj0Shrh7XiVcSjzfBqbbLEc0KoassVREazde2tth5XZJKhbTZXK3618QihqJ0sJ1wrRPOciENb6iCOpc1eCyEcCoXQ6/V89dVX7frktmbKlCl7fN7r9SbUGgthL8paRMZZjPl1uVzY7XZ8Ph9NTU2kpKTQs2dP/H5/p7JHCsXhynvTdHtf6QAy6fHO17lPnDiRGTNmEIlEWLlyJVdddRU6nY5HHnkEaHmv6+qR7CJG4cxy0003YTKZ+Mtf/tLpfYn3UG2SoTNkZmbu03aKA4fK6Cq6jNLSUmw2G1lZWQkNR0LoiqyB1n4KkLf3xRQtIYh8Ph9+v5/t27ezdu3aTo2CXblyJW63G2jJNAo3BHG8aDQqhaJ2oIG2VABoY4+mzUqLTLD2dr1W3LY3HEOIbYE2oyrWF9u0zu5qJ8nBT5lTkYXWloVoRbVYFolEpBAWGI1GVq1atd9jdj0eDx6Pp815NDc3EwgEcLvdBINB2YBoMBhwOBzSfaKpqYlIJEJGRgYDBgzYr1gUCkXHsVgs5OTkkJ+fz/nnn8+pp57KF198IZ9vr3Tho48+ori4GKvVyoQJE5g1axY6nY7GxsaEfc+dO5d+/frhdDqZOHEiFRUVANxzzz3MmjWLDz/8UL5X7O5OkTbGHj168Lvf/Y5TTz2Vjz76CIC///3vDBo0CIfDQX5+PjfeeGOC97bIzH700Uf0798fi8VCWVkZDQ0N/PrXvyY1NRW73c6ZZ57Jpk2bAFiwYAFXX301TU1NMj4xHr116cKmTZsYN24cVquV/v37J1w7xcFBZXQVXca3336L2WyWDgDCK1V400LLCFij0UhzczOhUCihKUzcWheWX0JIlpWVUVdXx48//sgvf/nLDsUithe+ruI4ol64PTEqhKzI4O4JIW5bf9fW3mqFtfguXCcEYlshprXra2nd5KbN9mrrhoU1mXYIhmhGE8JTiHer1YrdbqeyspLt27d3qvlPGwsgb3WK6yDiEFlzkT0Wlm7itRE1uk1NTTidTkwmE3l5edjtdvk7o1AoDg1r165lyZIl9OjRY7frbNu2jYsuuojf//73XHfddXz//fdMmzatzXp+v5/HH3+c119/Hb1ezxVXXMG0adN44403mDZtGiUlJbjdbmbMmAGQ4BCzN2w2G3V1dUBLQuCZZ56hqKiIrVu3cuONN3LbbbfxwgsvJMTyyCOP8Morr5Cenk5WVhaXXXYZmzZt4qOPPiIpKYnbb7+ds846i3Xr1jF27Fieeuop7rrrLjZs2ADQrmd5LBbjwgsvJDs7m2XLltHU1MTUqVM7fB6KfUMJXUWXsmjRIrKysujfvz+5ublSXPl8PvR6vczWamtPo9EooVAIm61ldG4gEKCkpITq6mosFguNjY14PB6amppYuXIlAwYMwGq17jGOQCCAw+GQzXAGg0GKUCF6hfAVDgHa5fCTCNbW1GpdEbRNaECC0BVCWdvMJrYRsYhtxG00reDX1hCL2KAlAyu2F/tsbVPW2uJMG5vYj/AHNpvNcmhDR2hoaOChhx4iHA5z2mmnMWrUKFJSUvD7/VJoizIKIWy1pSnCzk2cixDbwqtYZPtF6YpCoTi4fPLJJzidTvk+rNfree6553a7/j/+8Q/69Okjx4T36dOHtWvX8uCDDyasF4lEeOmll+jZsyfQUvp03333AS2i0WazEQqFOlUWEY/HmTdvHnPnzuXmm28GSBCWhYWFPPDAA/z2t79NELqRSIQXXniBIUOGAEiBu3jxYsaOHQvAG2+8QX5+Ph988AEXX3wxycnJ6HS6Pcb35Zdfsn79eubOnUu3bt0AeOihhzjzzDM7fE6KzqOErqLLqa6u5pRTTmHIkCHU1tZSVVUlR+YGg0ECgQDwkwj0+XyYTCbS0tLkIIHKykoqKyuloI1EItTU1PDZZ5+xfft2evXqxeDBg9s9/po1awiHwzKzLLKLWrEJiU1SWnErBLAQqyIbKhBitfU22tG9Yj3tNqJsQViTCdGvbXYTQx3EY0CuBz+VP2gzu+Jaini1VmWi5EJbN6wVwVarlfLyclnmsTfeeecdgsEgTqeTxsZGSkpKiMVi7Ny5k7KyMrxeL8FgUJ6j8B0WrwG01AYLi7GsrCwMBoP0OE5OTmbdunVUVVV1KB6FQrF/TJgwgRdffBGfz8eTTz6J0Whk0qRJu11/w4YNHHvssQnLRo0a1WY9u90uRS5Abm4u1dXV+xSjEOOiLOtXv/qVLCX48ssv+dvf/sb69etxu91y2I+2x8NsNif8vygpKcFoNDJ69Gi5LD09nT59+lBSUtLhuEpKSsjPz5ciF2DMmDH7dI6KjqNqdBWHBWLAQiwWIxAISPGltffSuh2ISWPwU4OWeMPSOiVofWB3R3V1tczUtmfdJRrRtLWvJpNJukTAT3W7WuEKJIhgrbDUCs7WxxTiNhwOJzSDAbI2WWshpq2xbW//2mY1bdZXez5C4O7Owkzr/hAKhTrscqHT6XA6nTgcDgwGA6FQiMbGRqqrq6mpqUmYLiey3yJ7LDL5Xq83wU/Z7XZTVlbGpk2b2L59O6WlpR2KRaFQ7D8Oh4NevXoxZMgQXnvtNZYtW8arr7663/vVDpsBEu6OdZYJEyawatUqNm3aRCAQYNasWTgcDkpLSznnnHMYPHgw7733HitXruT5558HSOg7EPaSiqMDldFVHBaIJqNAIEAwGEy4vS5ErpjwJUSZdgiDeE5kL0UGVGQ3k5KSdnts0fimpXWTl1gmYhIlDuKYYrkQbFpXBhFPaz9coI2I1Q6DiMVi0lsYkI4PApEVjkQibWqHRdzaWtvW/zTa+yfSupZWoBXkwhmhI/To0YP6+noZQzAYxOv14na78fl8ssFMZFK0ZRTi/Hw+X4LQLSsrk40oooZXoVAcevR6PX/961/54x//yK9+9StZTqalT58+fPrppwnLli9f3uljmc3mDpdMCTHempUrVxKLxXjiiSfk+/rbb7+91/3169ePaDTKsmXLZOlCXV0dGzZsoH///h2Or1+/fpSXl1NRUUFubi4AS5cu7dA5KfYdldFVHBakp6cTDoflrWwhALXWXVoHBiGKxbhcIQi1JQJi8IDFYkm4JdYarb+itkxB22CmFV7acgYhJoUQbF2zq62l1dbjtm48E2jLCCwWixTq2syx1hJMbCNoXV+sFb2tyxe04lgrerUZYe35t16vI5x44on06dOHzMxMrFYrfr+fhoYG/H6//GAgXletl7LWQULYtAk/XdFUAiiRq1B0MRdffDEGg0FmRltzww03sH79em6//XY2btzI22+/zcyZM4G2d472RGFhIWvWrGHDhg3U1tYmfOjvKL169SISifDss8+ydetWXn/9dV566aW9bldcXMx5553H9ddfz6JFi1i9ejVXXHEFeXl5nHfeeTI+r9fLvHnzqK2tbbdn4NRTT6V3795cddVVrF69mq+//prp06d3+jwUnUMJXUWXk5KSgsPhkLWYIkMJP4kubWe+TqcjHA7j9/ulQ4AQTEIUisYll8tFRkZGu5kGgdbDVZRKaOtsW7sjtK7dNRqN8la7yNwKhFhuPRCh9X5aD8IQ8Qvx3rp0Qohr7f7E8cSXNiuu3a71P5fWmef2fH0FsVhMfnjoCDabjWHDhlFUVERSUpL8MBONRqWjhsVikU1mwjdZm4GOxWLSpSEtLW2fb2cqFIoDj9FoZMqUKTz66KPt3ukpKiri3Xff5f3332fw4MG8+OKLUtx19H0E4Prrr6dPnz6MHDmSzMxMFi9e3OlYhwwZwt///nceeeQRBg4cyBtvvMHf/va3Dm07Y8YMRowYwTnnnMOYMWOIx+N8+umnsuRi7Nix/Pa3v+WXv/wlmZmZPProo232odfrmT17NoFAgFGjRnHddde1acpTHHh08Q7813C73SQnJx+KeBQ/U2677Tby8vJYtWoVGzZsoKmpSQpWIfS0WVudTkdGRgapqak4nU50Op0cESzEWFJSEsOHD+eEE07Yo2n3hx9+yH/+8x/S09Mxm82kpaVJizG/3y8zB6K8QohrkTltPfms9ZS0PVmItScktVlf4S6grdsV+xVet0Jga23HtJlhIV4FWpEuRLYYiiHi1Tbd6XQ6OZEsFApRW1vLddddJ2/hdYRdu3axa9cuSkpK2Lp1K16vF6PRiNlsJhaL4fP5aGxsxO12yw8w0PIBwePxMHToUIYMGUJOTg5PPfXUPv2TUyi6gqampjalU8FgkG3btlFUVLRXR5ijkQcffJCXXnqJ8vLyrg5FcQTT0b8jVaOrOCyorq5OsGXROhXEYjHC4bCsvxViTnTVQkuZgnAeMBgMOJ1OXC4X+fn5e51MI4Sy2FckEpGlAq0buVoPbBDPaYVtOBxOGIIg1tMKX20trLa8oPWYX/G89hjaZSKOPU3u0Xrjiv2L822dqRYit3W2WJRlRKNRkpKSOj2Xvlu3bvj9fpmt1elaxnMK/2SDwYDX65WvMyDti4LBYIIvcGpqaqeOrVAoupYXXniBY489lvT0dBYvXsxjjz2218mJCsWBQgldxWFBY2MjPp9PZhcBmdHV+syK5qtYLEZycrJ0WNBuI8bFpqSkkJ2dvddj5+bmygyp+C5EoSiL0NbmCsEtsqFiapoQomLoQeu6XbFMWxLQXr0s/FRTK4Ro61peUcYhsttaAavNLItrIq6d9hjtlTC01+msbbBrbm4mIyOjQ9e1NaJhUNRWW61W2dgn0HrmCh9daLE10+l01NbWdup2p0Kh6Ho2bdrEAw88QH19PQUFBdx66637NI5XodgXlNBVHBbodDrZoARI14TWt9K1tlrC7UAITSH+bDYbKSkp5ObmdkiQFRcXYzQaiUajsmQhFArJGllRE6wVj62/i6Y4EXfrLGnrOt/W2WAhqltnVVvX8LZukBPnLWg9FKK97HDrfWidH7SuFtoMsLj2fr+f9PR00tPTO/KySgKBgBz76/P5iMViWK1WzGazHPksRK6IR7wO8Xgcp9OJXq+nurqacDiMzWaT/soKheLw5sknn+TJJ5/s6jAUP1OU0FV0OdnZ2SQnJxOJRGT3vdvtThCRQoCJLK/wPGzPj9Zut5OVlUWPHj0wm817Pb6o/RXCSZtBFUJXO+pX6/GrRWRMtW4B2v2IOlvtYAYRuxD12hHHYhttXW/r0gJRkiB+1l4TrYDVCmLtd63Q1Y491pY7iBrhcDjcbr1hR2hsbKSsrIyqqir8fr8cemEwGHC73TQ0NODz+RLqkYX41Q6P8Hq91NTUKJGrUCgUig6hhK6iy4nH49TX15OUlERqaiqZmZnU1NQAP4nQcDhMMBjEarVis9mwWCxyCITBYJB+rLFYDLPZjMPh6NQs9JycHLZt2yatzYQ1mdlsliJRm9FtbSGmHboghKw2U6ttHhMxtx7ZK0SlVuyJOlYtIpstro3IbGvjEY4Grd0ktCUPJpOpjTjWWp+JOOGnkpF4PM64ceM6fF2hpYFt4cKFLFu2jM2bNxMMBrHb7VLMejwempubcTqdOJ1O3G43brc74YOHxWIhHA7z/fffK99JhUKhUHQYJXQVXU51dTVLliwhKSmJoqIi2eikzXRCi8ATmVxt05fX68Xr9cqmpubmZvx+f6eyfr169aKiooJQKEQoFJIZ2Wg0KgWvdn+ta11bN4SJTKlWNGqzp1qrMSEyxZQwIezD4XCb0gVInHAmhK62BELU1GobyVrbhWnFubYBTMQnYhfnI0Suy+WioKCgw9cVWhwXysvLqayspKGhQcYfCoXkYzEwQlxzcU7CMi4jI4NwOCwHRSgUCoVC0RGUj67isKC2tpZNmzbhdDql+4LW+kqIuHA4jMfjwe12yzKGYDBIbW0tDQ0NspZWOwSiI4wdO5bMzExp59XewAohHltnPLVNYNosLZBQlyss0rRDLQSiLKO120EoFEo4F20Jh7hGrQW1yAaLUcHaul/tMbTHEfsVj0X2VxwnGAzi8/n2yQrJbrcTCASorKzE7XYTCoXwer3U1tYSCoVkvD6fD4/HI5eJUhGHw0FhYSGhUGifTOIVCoVC8fNFCV3FYcN3332H2WwmNzdX3ioPBAIEAoE2oisQCMihCpFIhNraWmpra/F6vVIQdWbqTt++fRk9ejSZmZkJYlArVLUDKYSw1JYuiPW1DWGt7ci060JbIQ0/1crCT4JT/CyEragdFiUPWoGqzYqKsgXtUI32hkm0Z2umreX1+/2Ew+FOlYMIbDYb4XBYeuSKqXZ+v18OiRCjfpuamqSPrvD2TUlJIScnB7fb3eljKxQKheLnjSpdUBw2RCIRmpub5XASUapgNBpxOByyblbcahdNYdFoVGYv7XY7Ho8Hr9fb7gjGPTFp0iTcbjc//PCDXCb2LW6jQ4vQbu1bKwRsc3MzoVAowZ5M60GrzZy2l/1t7a1rsVhkDIAU2dossji+VlyLsg9R+qAVstoMb+taYyGCxahlIaZjsRhOp3OPo5R3h2hCEw4KYqSvOE48HpeZa+G0EAqF5MjftLQ0YrGYMpdXKBQKRadRGV3FYYXf78fhcEjHATHtTGRoRb2sXq+XgkjUswaDQbxeL42NjdTX11NdXd3p45999tnk5+cDLZZYwWBQ7l9kRLXZ3NbftX6/Ypk2UyvKELR1tFqHBu2UNWjJhoq6Y20dbmvPXq1o1rpTaAW3iKv1WOXW9cQGg0EKXVFWYDQayczMpFevXp2+puvWrWPHjh1SXItroJ3mprWSEx8sjEajHOG8ceNGNQ1NoTjCicfj/OY3vyEtLQ2dTseqVasO6fEnT57M+eeff0iPub8UFhby1FNPycc6nY4PPvgAgNLS0r1exwULFqDT6WhsbDyocR7OKKGrOKxoaGjAZrORlJSU4BogsrgiOynEXzgcltncaDRKIBCgqamJyspKysvL21iA7Y2srCzGjh2L1WrF4/HILLO4/d9a1GprY6Gt/6/IYGonugGylEBbRqD9EuuI9cxmc0JzmPgu6n21mV1A+gtrxwmL5drBEbtrmtPuQ/jY5uTk0KNHj05dT2hpRtOWHQjrNFGyILyPhb2acI2wWq1YLBZSUlL4v//7P0pLSzt9bIVCceDYX6E4Z84cZs6cySeffEJFRQUDBw5MEG574quvvuLkk08mLS0Nu91OcXExV111lWxQ/rlQUVHBmWee2dVhHFGo0gXFYcWuXbvw+Xykp6cTDoelhZgQsdpsqlaICVEZCoVko1ppaSmbNm2ib9++nYph9OjR7Ny5k6+//lpaYFksloSyg9ZNY/BTQ5cQcEJ8i4xl6/WFSBXuCq1re7V2ZRaLRU6E05ZMtHZv0A6RaG9ghHZUsXaZVpCLuMT43Xg8jtVqJTMzs9OOC9DSaBgMBjEajQk1x6K5UGStRRxGoxG73S7HA2dlZSVkNBSKoxVdxbRDerx47uOH9HhbtmwhNzeXsWPHdmq7devWMXHiRG6++WaeeeYZbDYbmzZt4r333ut0MuNIRzRrKzqOyugqDitWr15NSUkJGRkZ0i4MkONgRUa3tQWXVpx5PB7q6urYtWsXGzduZOvWrZ2O48ILL2TMmDHSMUCMohXlAtpSAG3trbYcQTtoAmjTDNbesAvtMAqRkd1d9liIWa0jROuSBSGetZPVtNPOtKJXu6/m5mZZuiGmmO3LG2xDQwO7du2iubkZq9UqxwBrp9q19gEW3w0GAy6Xi5ycHDweT6ePrVAoDi1r167lzDPPxOl0kp2dzZVXXkltbS3Qkg2++eabKSsrQ6fTUVhYSGFhIQAXXHCBXNYen3/+OTk5OTz66KMMHDiQnj17MnHiRF5++WVsNhsA99xzD0OHDk3Y7qmnnmp3n/feey+ZmZkkJSXx29/+NiErfNJJJ3HzzTczdepUUlNTyc7O5uWXX8bn83H11Vfjcrno1asXn332mdymubmZa6+9lqKiImw2G3369OHpp59OOKbIhj/++OPk5uaSnp7OTTfdlOAkU11dzbnnnovNZqOoqIg33nijTeztZcDXr18v70QOHDiQr776qt3rKFi0aBEnnngiNpuN/Px8brnlFnw+3x63OZJRQldxWLF+/XqmT5/OscceS3Z2NlarFavVKrObrUfhahvSRJ2ux+OhtraWyspKVq9ezYIFC/ZpyMAll1zC9OnT6dOnD0ajkaamJpnhtFgsMhOpHVUr4hOCsbXoFBlNrY+tqIkV5QmiTlU7zEErlrUZYlEGYLFYEj4YaIWsEI/CpUIITu2+9Xo9FosFk8lEc3MzHo+H+vp6PB4PaWlpTJw4sdNZGICXX36ZLVu2YLVayc3NJS8vD6fTCbRYpxmNRtmIlpOTw6BBgygqKiIrK4uCggJ69eqlMhgKxRFAY2MjJ598MsOGDWPFihXMmTOHqqoqLrnkEgCefvpp7rvvPrp3705FRQXLly9n+fLlAMyYMUMua4+cnBwqKipYuHDhfsc5b948SkpKWLBgAf/97395//33uffeexPWmTVrFhkZGXz77bfcfPPN/O53v+Piiy9m7NixfPfdd5x++ulceeWVsuE5FovRvXt33nnnHdatW8ddd93FX//6V95+++2E/c6fP58tW7Ywf/58Zs2axcyZM5k5c6Z8fvLkyZSXlzN//nzeffddXnjhhQ71mvzpT3/i1ltv5fvvv2fMmDGce+651NXVtbvuli1bmDhxIpMmTWLNmjW89dZbLFq0iClTpnTySh45KKGrOCzJyckhKSkJq9UqBaC4tS2ypxaLRd4OF8JQ6xcrhklUV1dTXl7Ojh07Oh1HcnIyV1xxBX379sXv9+PxeKTYFXWm2iytoLXgFfWn2pHAWrTrCVGv9bVtD5Hp1bo1aMsQRPZbxNcarTAX5wLI8wyHwzgcDgYMGMDw4cM7fe127dpFZWUler0ep9OJzWaTXxaLBYvFAiROektOTiY1NZWMjAzy8/NxOp2sX7++08dWKBSHlueee45hw4bx0EMP0bdvX4YNG8Zrr73G/Pnz2bhxI8nJybhcLgwGAzk5OWRmZpKZmQkgLQTF49ZcfPHFXHbZZYwfP57c3FwuuOACnnvuuX2yHDSbzbz22msMGDCAs88+m/vuu49nnnkm4f17yJAh3HHHHRQXF/OXv/wFq9VKRkYG119/PcXFxdx1113U1dWxZs0aoCUBce+99zJy5EiKioq4/PLLufrqq9sI3dTUVJ577jn69u3LOeecw9lnn828efMA2LhxI5999hkvv/wyxx13HCNGjODVV1/t0OCjKVOmMGnSJPr168eLL75IcnIyr776arvr/u1vf+Pyyy9n6tSpFBcXM3bsWJ555hn+9a9/EQwGO309jwSU0FUcliQlJeFyubDZbDL7qJ0QJrKlrZuvRD2p0+mUWVhx+3zDhg00NTV1OpaMjAzOP/98mekUGchIJCLrSLXZVG25gtbfVjwW4lQ7DENr7yW2aT3xTOyn9ShhsVxkcYWI1lqNaa+f+FAg6onFBwkxZS0QCOB2u4nH4xQWFu5z48OOHTsIh8NytK+2jtjhcOByuYhGo1JY19XVyaEfTqdTNr61/mehUCgOP1avXs38+fPl37vT6ZT9EVu2bNmvfRsMBmbMmMGOHTt49NFHycvL46GHHmLAgAFUVFR0al9DhgyRkxgBxowZg9frTbAvHDx4cMKx09PTGTRokFyWnZ0NkJBtff755xkxYgSZmZk4nU7++c9/UlZWlnDsAQMGJJSg5ebmyn2UlJRgNBoZMWKEfL5v375yUuieGDNmjPzZaDQycuRISkpK2l139erVzJw5M+F1OuOMM4jFYmzbtm2vxzoSUc1oisMSo9FIUlISDodDijKtF6wQh6I+VywXt/FtNpucmqbX66mpqWHbtm3YbLZ9ugWflpZGjx492LVrF/CTv652gIQoSxD2WCJmrWWYOAchOFs7IsBPdbRCqGrLD4T4FQ1qBoMhYTiG8L4V5Rxi/2Lf2qyFiF2bKRfjlMPhMNnZ2Rx//PEkJSXty0tIQ0OD9N8VpSU+n49YLCbLJJqamuQoZ7FOUlISBQUF5OTksGHDBr744ot9Or5CoTh0eL1ezj33XB555JE2z+Xm5h6QY+Tl5XHllVdy5ZVXcv/999O7d29eeukl7r33XlkepmVfJymK5IpAp9MlLGvtd/7mm28ybdo0nnjiCcaMGYPL5eKxxx5j2bJle91vaz/1g43X6+WGG27glltuafPcvjQbHwkooas4LAkEAjidTpKTkwkEAjJjKgScKE/Q1qhqrbe0TVyRSIT6+nosFgvJycmEQiF527wznH322SxdupSKigrcbrds1BLDJEQmVVsS0HqkrjYDLUSmtqxAay8mzqW9fWityrTnKrYV67ben9ZXV/vBQZQPNDQ04PF4MJvN9O3bl3HjxnX6Ogl27dqF3++XItbn88mpZ2JQhHCSENlk4VIhMg2dzdYoFIquYfjw4bz33nsUFha2Kc3aE6IvoLOkpqaSm5srm6gyMzOprKyUSQagXX/Z1atXEwgEZBPb0qVLcTqd0j99X1i8eDFjx47lxhtvlMs6m8Xu27cv0WiUlStXcuyxxwKwYcOGDvnfLl26VL5Xi33sruZ2+PDhrFu3bp880Y9UVOmC4rBk586dmM1mkpKSMJlM2O12UlJScDgcsmsfWt4kHQ4HycnJJCcnY7PZ5KCJWCyGw+FAp9Ph9/vlrfH6+vp9iqlXr14MHz6cvLw8HA6HzMwKGy6tPVfr0gr4qewgFAolOBy0h8lkkuJeCFtRZmA2m2UWufWYYe3QidZZB6PRKJ0ftIMvRFzBYBC/34/RaKRHjx4cd9xx+3SdBKWlpdTX1+P1emUJid/vTxjvLHx0xSAQ4aHsdDrVNDSF4jCkqamJVatWJXyVl5dz0003UV9fz2WXXcby5cvZsmULc+fO5eqrr96jkC0sLGTevHlUVlbS0NDQ7jr/+Mc/+N3vfsfnn3/Oli1b+PHHH7n99tv58ccfOffcc4EWt4SamhoeffRRtmzZwvPPP5/gjCAIh8Nce+21rFu3jk8//ZS7776bKVOmtNvH0FGKi4tZsWIFc+fOZePGjdx55527bazbHX369GHixInccMMNLFu2jJUrV3LddddJQb4nnn/+eWbPns369eu56aabaGho4Jprrml33dtvv50lS5YwZcoUVq1axaZNm/jwww9VM5pCcahZs2aNvO0tBiaIhibhdCAmZ6Wnp5OWlobVak2YphaPx7Hb7VgsFkKhEHV1ddTW1u72zbQj5Ofnk52dTUpKioxNZCbFFDWtvZh2gASQ4KggBKhWqArRZ7PZpJgWQl97/lq09mNan2Ftza/W/UF7i0/UNgcCAbxeL3a7nYKCAkaMGMHo0aP3+TpBy+jfuro6KXLdbjfRaFS+fsIjWZRmmM1mrFYrLpcLi8WCz+drU+OmUCi6lgULFjBs2LCEr3vvvZdu3bqxePFimpubOf300xk0aBBTp04lJSVljyLyiSee4IsvviA/P59hw4a1u86oUaPwer389re/ZcCAAYwfP56lS5fywQcfMH78eAD69evHCy+8wPPPP8+QIUP49ttvmTatrS/xKaecQnFxMePGjeOXv/wlv/jFL7jnnnv265rccMMNXHjhhfzyl79k9OjR1NXVJWR3O8qMGTPo1q0b48eP58ILL+Q3v/kNWVlZe93u4Ycf5uGHH2bIkCEsWrSIjz76iIyMjHbXHTx4MF999RUbN27kxBNPZNiwYdx1111069at0/EeKejirYta2sHtdpOcnHwo4lEoADjhhBM499xz8fl8rF69GrfbTUpKCj6fj6qqKgKBAJmZmaSmpuJyudDr9TQ1NVFbWysFW15eHgMGDMDn81FRUUEwGKS4uJhf/OIXnHDCCfsc26pVq9iwYQM7d+7E7XYTCARkXa7JZJKfwLVZVzGqWDSStVduoR3tK5YLKzMhqIV3sLYuNxQKyQlq8JPlGpAgfrUeuaLcIRaLEQgEElwWevXqxUknnZTQfLEvTJw4kR07dmAymWTJgviAEAqFaGpqSrA2s9ls9OjRg+LiYvLz8wmHw/z5z38+qv0dFUc/TU1Nbercg8Eg27Zto6ioCKvV2kWRKRRHNh39O1IZXcVhyQ8//IBOpyMtLU0Kx0gkQjgcTnA1aG5uxufzUVNTQ01NDW63W9Z9tp5MJpqtampq9stGJTc3l+TkZKxWa0KmVOv8IDKzwh7NZDLJx2KZyGAKX1utH67ZbJb1xcFgUArb1vsUx9dmcrWWZCKzqy1jEFnlYDAoh0KIuuf09PQ92vx0FI/HQ0NDg8yu63Q6bDYbLpcLu92e4AwhbNfERLTU1FR0Oh2bN29WIlehUCgU+4VqRlMcljQ1NRGPx0lPT5d1t8IRQNTnRiIRWfPp9/vx+XwyuxmNRqWQE/WuoVAIn8/Htm3b2Lp1K/3799+n2LKysnA4HFJoimyrEN9CXAv0er0UrtqmNWHrBT/Zj2kdHMQgCiGexfNiP0LUat0aoK0jhRC52ilpWqsx0ZksmsBsNtse/Xs7wuLFi+XrBGCz2bDb7fJTt/ZGkvjZYDDI0oV4PK78cxUKhUKx3yihqzhsqaysZNSoUaSlpbFp0ybcbres64zFYtTV1WGz2WSHvslkkj63wWCQhoYGedvQ5XLR3NzM1q1b2b59O8FgcJ+Frk6nY9iwYbLetK6ujkAggE6nk01WImMsxKPdbkev18vsphCsonFM7Fc0qonyAyFMxXIhZoUoFA1rWtGrdVkQNmhCSGvH72rX1U5Pczqd+5XR/fzzz5k9ezZJSUnSTcFut0s7scbGRimCxdAPcY2cTidpaWls27aNuXPn7nMMCoVCoVCAErqKwxi32y1vdzscDgKBQIK/rOjat1qtsnFLZCeFIBQCUQiqSCRCY2MjJSUlfP/997ttftgbTqeToqIieWtdDKLQOkKIEgvh5autwRXPC5GrrckV27fOqoqMrNhG+PBqM7ZaFwYhlrWevdr1xLrieVE6kZ6evl8dyD/++CP19fU4nU4MBoO8RpFIBK/XKz8EWCwWmpubZcbd6XSSlJRESkpKh6YBKRQKhUKxN5TQVRy2bN++nUAggMPhIDU1lUAggM/nkzWdoq5UfBeZUjFNTQxTCIfDslHLbDbLCTDz5s3bZ6ELLbY4er2edevWyYazSCSSMKChublZCjtRbiDEunYgBPzk/6tF65AgthViV4h6IRi1tctakStqlbWDKLQCOBwOy+x0eno6xcXF+3xNtmzZQkVFBaFQSJqsm81mmZUW9dPiWohRyk6nM6GxcF/GNSsUCoVC0RoldBWHLQsXLuSyyy7DZDKRmZlJU1OTvBUOP2VBRXOVEHoiO6h1FBDCUJQ5VFVVMW/ePHr27MkFF1ywzzEWFBTQ3NycMFEsHA4nZEsFIqtqMpnQ6/XyPLSet0LUiu20wlasJwRi6/XD4TCAFP+tSxa0tblaT19tjW6PHj32qwv8+++/p76+Xja7ad0g2stei9cqNTWV9PR0DAYDZWVlLFy4cJ9jUCgUCoVCoISu4rAlHA6zZMkShg4dKmeCa5u8hIASjWcieyncEAA5OCIcDmM2m3G5XESjUWpra6Vh+EknnURqauo+x1lUVCQdBoTo1janaaeUQUsG1mKxtClFEM4Q2hIEq9Wa4CKhLYEQX0Lkijph8WFAK3QFIhbxvBDlYljD/mRzv//+ezZt2kRTUxOBQCBhop04npjsJoS3GBCRnp5Ot27d0Ov1fPXVV6oRTaFQKBQHBGUvpjis+eyzz4hGo+Tk5JCUlCRrbYWllhCxwiILfnJjEK4F9fX1MstotVpJSUmRdaDffvsts2bN2u84hw8fTt++fcnKysJms2G1WuV3rU2YcIIQmVRRViCy0ULkautmhatDNBqVZQbaJrJQKEQgEMDv90uBKfYpjqsdaiGcHLRC2GKxkJaWRkpKyj5fg+XLl8shER6PR557IBDA7XYnjE0WZRjCPzclJUVmx9999939fj0UCoVCoQAldBWHObt27SIUCpGTk0NKSgo2m01adcFPt+m1rgTNzc3S+UCMn21qasLn88nsZXp6OklJSVRUVPDpp58ekFiHDRtGXl4edrsdh8OBw+GQllrtjdwVglWbxdWWPGjLDUT2VYzpFd664XAYv9+P3+8nFApJsSuyp9oaXVFWIYZXCNsyo9EoSwj2lTVr1lBaWkpVVRVNTU0Eg0E5flm8BuLDh0Cn00lfXZfLRVZWFl6vF4/Hs9+vhUKhUCgUoISu4gigtrYWp9OJy+WSwkjcwjebzQBSxOl0OqxWqxz729jYiM/no6mpiZqaGhobG4lEIjgcDlnGUFJSckBGzRoMBnr06IHT6UwQuUlJSaSmppKcnIzD4ZBjfMVtfLPZLEsQWo8G9vl8MgsqShSE2BVfwj9YTEwLhUKEQqGEsgWRQRbCWQzeEEMoHA7HPtfmer1eVq9eTUVFBXV1ddJlQjQDitHI8JNPsKg3zszMJCMjA7PZTDQaZdOmTfv9OigUiq6jtLQUnU7HqlWrOrzNzJkz9+tu0oFmwYIF6HQ6GhsbuzqUDnPPPfcwdOhQ+Xjy5Mmcf/758vFJJ53E1KlT97iPwsJCnnrqqYMSX1eihK7isGflypU0NTXJrF9ycrLs2hfCSXtb32AwYDabpQWZKGVoaGiQQkyn08nJZH6/n1dfffWAxJqfny/LK0R8YtpXVlYW2dnZ5OXlkZubS1paGk6nUw6OEGJWm9UVIlbbiCaa0cQ5ay3FtFlc0WSm0+kSMrjiea3Qdblc++ydu3jxYsrLy+WHCpPJRFJSkhTk4XBYZo61tmVGo5GsrCx5zdauXcs777yz/y+CQqE4KEyePFm+B5lMJoqKirjtttsSJk3m5+dTUVHBwIEDD/ixtcJtd9TU1PC73/2OgoICLBYLOTk5nHHGGSxevPiAxnO48/TTTzNz5syuDuOwQDWjKQ575s+fz7Zt27j++usZOXKkrNXdsmWLtBsDZO2puG1uMplIT0+Xt/NFKYPI9rrdbtm49fzzz/PNN9/wt7/9jREjRuxzrCaTiezsbHbs2EE4HMZisaDT6bDb7bLhKisri6ysLHw+H+Xl5Wzbto3a2lp8Pp+MUwjbtLQ0LBaLHBksxLlwbfD5fFRXV+PxeGRWGJA1ucJOzOfzJQyqEEMmnE4n3bt35+STT2bUqFGdPt9AIEBJSQkbN26koaFBXnOz2cymTZvkJDshzoPBIGazmbS0NPLz88nMzKRPnz5888033HPPPft83RWKo4GKaRWH9Hi5j+d2epuJEycyY8YMIpEIK1eu5KqrrkKn0/HII48ALXe2cnJyDnSoHWbSpEmEw2FmzZrFMcccIx126urquiymriA5ObmrQzhsUBldxRFBaWkpmzdvJiUlRQpFi8UiSxhE05ZozvJ6vQQCATlpKzk5GaPRKCem1dfX43a7ZW2v1+tl/fr1vPfee/sda69evcjNzSU1NVWWMNhsNlkukZmZicvlIicnh2OPPZYJEyYwdOhQCgsLycrKIj09nfT0dDIyMujWrRtFRUX07duXQYMGMWTIEIYOHcqQIUPo378/hYWFCddBm60VDXuA/DBgMpkSpsmlp6fTs2fPfRK50OKb29TURCgUks1l4jXw+/0JlmpGoxGz2YzdbiclJYWMjAwMBgPV1dV8/vnn+33dFQrFwUdkSfPz8zn//PM59dRT+eKLL+Tz7ZUufPTRRxQXF2O1WpkwYQKzZs1qtzRg7ty59OvXD6fTycSJE6moaBH+99xzD7NmzeLDDz+UGeUFCxa0ia2xsZGvv/6aRx55hAkTJtCjRw9GjRrFX/7yF37xi1/sNr7GxsZ297l48WIGDx6M1WrluOOOY+3atfI5UW7xySef0KdPH+x2OxdddBF+v59Zs2ZRWFhIamoqt9xyS0IZ2euvv87IkSPl/4Bf/epXVFdXy+dF2cS8efMYOXIkdrudsWPHsmHDhoTYHn74YbKzs3G5XFx77bUJWXVoPwMejUaZMmUKycnJZGRkcOeddyaMY2/vel533XVkZmaSlJTEySefzOrVq3e7/uGKErqKI4bXX3+dzZs3k5SUREFBAUlJSfLWvxBRwnIsGAzi8/nQ6/VS2AlLL20Nq2jUMplMBINBvv/+e/7973/vV5zHHHMMo0ePplevXuTk5JCWliZrdJOTk0lKSkpYPzMzk7Fjx9KvXz+Kioo45phjKCoqoqioiN69ezNgwABGjBjBcccdx5gxYxg6dCiDBw+Wgrq9KWZC5Ap/XoPBIAWmNp6cnByGDBmyz+e6du1aampqpEMEgM/no76+XtZMCxFuMBikw0JqaqoslZg3bx5LlizZ5xgUCkXXsHbtWpYsWSJ7Jdpj27ZtXHTRRZx//vmsXr2aG264genTp7dZz+/38/jjj/P666+zcOFCysrKmDZtGgDTpk3jkksukeK3oqKCsWPHttmH+AD/wQcfEAqF9vv8/vSnP/HEE0+wfPlyMjMzOffcc2VJmIj5mWee4c0332TOnDksWLCACy64gE8//ZRPP/2U119/nX/84x8JTjKRSIT777+f1atX88EHH1BaWsrkyZPbHHv69Ok88cQTrFixAqPRyDXXXCOfe/vtt7nnnnt46KGHWLFiBbm5ubzwwgt7PZ9Zs2ZhNBr59ttvefrpp/n73//OK6+8stv1L774Yqqrq/nss89YuXIlw4cP55RTTqG+vr6DV/DwQJUuKI4YotEoL7/8MjfddBPdunWTAwZEl7+2kUv42fr9fkwmkxw1KzK/Ivvr8/nkOsFgkJKSEt59913GjRtHQUHBPsealpbGmDFj2LBhA01NTVitVtLS0sjLy9vtNgMHDkwotYCWerf2bkHpdDoyMjKora2VTWYGg6FNQ5m4HikpKeTk5MjGL1H327t3b3r37r1P5zhv3jy+//57KisrpaOCKA/xer0JU9+ABKGblJREcnIyHo9H1ZEpFEcQn3zyCU6nU7rd6PV6nnvuud2u/49//IM+ffrw2GOPAdCnTx/Wrl3Lgw8+mLBeJBLhpZdeomfPngBMmTKF++67D2gRsDabTTrw7A6j0cjMmTO5/vrreemllxg+fDjjx4/n0ksvZfDgwZ0+17vvvpvTTjsNaBGJ3bt3Z/bs2VxyySUy5hdffFHGfNFFF/H6669TVVWF0+mkf//+TJgwgfnz5/PLX/4SIEGwHnPMMTzzzDMce+yxeL3eBOebBx98kPHjxwPw5z//mbPPPptgMIjVauWpp57i2muv5dprrwXggQce4Msvv2yT1W1Nfn4+Tz75JDqdjj59+vDDDz/w5JNPcv3117dZd9GiRXz77bdUV1djsVgAePzxx/nggw949913+c1vftPp69lVqIyu4oiirKyMBQsWEI1GKSoqonv37qSmpmK322VjmsggAtJxQTuGVzghpKWlSRcHkRl2u938+OOP/Oc//zkg8fbp04dBgwbRt29funfvLjOsuyM3N5eePXsycOBABg4cuNc6K9Fkpm18E3Zm8XhcZlULCwsZOHAgQ4cOZeDAgfTt25eBAwdy3HHH7fO5LVu2jE2bNkmP4nA4jMfjoaGhAbfbDZAw8U0IceFjbLfbKSkp2efjKxSKQ8+ECRNYtWoVy5Yt46qrruLqq69m0qRJu11/w4YNHHvssQnL2iuVstvtUjACckhQZ5k0aRK7du3io48+YuLEiSxYsIDhw4fv0wfqMWPGyJ/T0tLo06dPwntW65izs7MpLCxMEKzZ2dkJ57Fy5UrOPfdcCgoKcLlcUsy2dv7RCvPc3JZaarGfkpISRo8evdtYd8dxxx2X8D9ozJgxbNq0qc1gIYDVq1fj9XpJT0+XmXKn08m2bdvYsmXLXo91OKEyuoojjs8++4ycnBxGjhwpfVrF9DDtWGD4yYVAOBMIISyyu0Igi9pRIdTmzp1L9+7dueKKK/Y7XpvNtt/72B3BYBCTyYTdbk/w4hXT08S5ivrevLw8OcRhf3xzP/30UzZu3EhNTY30JhZ1ucLjV/gd63Q66YThcrlITU0lOzsbo9HIhx9+eACvhkKhONg4HA569eoFwGuvvcaQIUN49dVXZXZxXxFlZwLtqPPOYrVaOe200zjttNO48847ue6667j77ruZPHlywghygbYcYX9jbm+Z+H/k8/k444wzOOOMM3jjjTfIzMykrKyMM844Q1owtrdvIU7Ffg4FXq+X3NzcdmuhDycruI6gMrqKI5IZM2bgcDjo3r07BQUFsvnL5XLJiWR2u12KLeEd6/P5cLvdeL1ewuEwRqMRl8tFeno6ubm55OTk4HQ6KS8v54033mDRokVdfap7RHj0ulwu+cYobMpEZttqtdKzZ08KCwvl4Ir9EbkLFy5k0aJFVFdXS/9iUa4g3qzFAAqr1SrdIux2u6wTzsnJwWAw4Pf7D8h1UCgUhx69Xs9f//pX7rjjDllu1Zo+ffqwYsWKhGXLly/v9LHMZnO7mceO0L9/f3w+H4DsDRCNbsBuPX+XLl0qf25oaGDjxo3069dvn2IAWL9+PXV1dTz88MOceOKJ9O3bd5+y1v369WPZsmW7jXV3tLdNcXFxQomZYPjw4VRWVmI0GunVq1fCV0ZGRqdj7kqU0FUcsWzevJm0tDT69u1Lfn4+6enpCfWfKSkp0opLZDvFJDExiEHc9hdiNzMzU74R/vDDDzzyyCPMnz+/i89094iSCJfLJa3DxJdOp8Nms5Gamkq3bt0O2DE/+eQTVq1aRUNDA83Nzfj9fqqqqmQJg8ViISUlRXoF22w26TphtVpl6cje6skUCsXhz8UXX4zBYOD5559v9/kbbriB9evXc/vtt7Nx40befvttWUawt1IuLYWFhaxZs4YNGzbI3oTW1NXVcfLJJ/Pvf/+bNWvWsG3bNt555x0effRRzjvvPKDlDttxxx3Hww8/TElJCV999RV33HFHu8e87777mDdvHmvXrmXy5MlkZGR0yMt3dxQUFGA2m3n22WfZunUrH330Effff3+n9/P73/+e1157jRkzZrBx40buvvtufvzxx71uV1ZWxh//+Ec2bNjAf//7X5599ll+//vft7vuqaeeypgxYzj//PP5/PPPKS0tZcmSJUyfPr3NB5fDHSV0FUcsf//73/nhhx8wmUzk5+dTVFREXl6enLaVlJQknQC0t37EtK5AIJAwTUxYYSUnJ5Oeno7FYmHdunX87W9/47PPPuvKU90jffr0ISUlJWGIhrDgEcMq0tLSDsixtm/fzrp166iqqpKDIPx+vxwWEY/HMZlMOBwOMjMzpbWby+UiKSkJu92OyWTCbDarUb8KxVGA0WhkypQpPProozJrqqWoqIh3332X999/n8GDB/Piiy9K1wXR5NQRrr/+evr06cPIkSPJzMxsdwCE0+lk9OjRPPnkk4wbN46BAwdy5513cv311yc0zL322mtEo1FGjBjB1KlTeeCBB9o95sMPP8zvf/97RowYQWVlJR9//PEeHSb2RmZmJjNnzuSdd96hf//+PPzwwzz++OOd3s8vf/lL7rzzTm677TZGjBjB9u3b+d3vfrfX7X79618TCAQYNWoUN910E7///e9321Sm0+n49NNPGTduHFdffTW9e/fm0ksvZfv27WRnZ3c65q5EF+9AEYzb7Vbmw4rDlquvvpoxY8ag0+nYtWsXFRUV8lb6jh078Hg8soZXWIrBT41ponlLTEsTvrSBQED67RYUFPDNN9908ZnunkWLFrFu3Tqqq6sT6pVTU1Pp2bMn55577n4fY/369cyYMYNPP/1UCtp4PE5jY6P0obTZbFgsFpKSkujdu7dsiDMajaSkpOByucjPz6ewsJBPP/2UGTNmHICzVygOX5qamtpYCgaDQbZt20ZRUdE+j94+knnwwQd56aWXKC8v7+pQFEcwHf07Us1oiiOeGTNmMGPGDPr27ctFF13E8OHDCQQCVFRUEIvF8Pv98kuMBNbr9bJ+NxwO09DQQDQaTfDdTUpKIiMjg3g8zo8//ki3bt0YMWIEU6ZM4Ywzzujq007ghBNOICMjg+3btwMtDSP5+fn06NFjv/ctsjE//vgjdXV1pKamYrPZpJ2YyWQiMzNTNkqImujq6mrpGywmxokO5ffff5///ve/+x2bQqE4/HnhhRc49thjSU9PZ/HixTz22GNMmTKlq8NS/ExQGV3FUUVmZiaXXnophYWFGI1GysvLqauro7GxEbfbjcfjIRgMymlq0WiUQCBAc3MzkUhE1uyazWZsNhsGg0E2sBkMBoxGI2lpafTu3ZtbbrmFE088satP+aARDAZ57bXXmD9/PmvWrKG+vh6DwSCHVIhGNECOH47H41gsFqxWq/TMFVN1ROPghg0buPvuu7v47BSKQ4PK6MIf/vAH3nrrLerr6ykoKODKK6/kL3/5iywtUyj2hY7+HSmhqzgqueiii5gwYQIAO3bsoLKyEp/PJ5vQtAMlfD6ftLLR3vYXLgY+nw+Px4NerycajUpv2gEDBvDrX/+aW265pStP9aAwb948PvnkE7799lvKy8vxer3odDrZSCaIx+Oy0Q9+Ggoh/HKdTid5eXkUFBSQmZlJMBjkH//4BytXruyqU1MoDilK6CoUBwdVuqD4WfPuu+9SWVnJr371K3JycrDb7VLU+nw+vF4vTU1Nsm5XiDXtgANANq4Fg0EsFgs2m42kpCSsViuBQIAZM2awZMkSJk2axMUXX9yVp3xAcLvdfPTRR3z11Vf88MMP7Ny5k0AggMlkwmKxYDabpVuCGL2s9e4V6zmdTjmHvaCggAEDBhAMBvnoo4+UyFUoFArFIUMJXcVRy6JFiygqKuLEE08kNzcXn89HfX09DQ0NctABIMf/CrsakaUUjWvxeFzeYotEIvJxPB6noaGBXbt2UVJSwjfffMNVV13FkCFDuuyc95fp06ezceNGKisrcbvdshRBDNWwWq3SpUKIW20XstFoxOl0kpycTGpqKqmpqeTk5JCTk8OSJUsSZr4rFAqFQnGwUUJXcVTz+uuv88MPPzBhwgRyc3Ox2Wzk5ubidDpJTU3F4/Hg9/upra2VzWrCckwIOYvFgk6nIxwOEwqFCIVCACQnJ5OZmSkn7XzzzTds3bqVV1555Ygz1F65ciWLFy/mxx9/pKKiQmZtLRaLzNhGo1EMBoO8HmKZ0WjEarViMBgwmUy4XC7S0tIoKCggLS0NnU7H119/3Wa2vUKhUCgUBxsldBVHPatWrWLVqlV0796dCy64gOHDh5OdnY3P55NNaiaTSYper9cr63ZFA5rI4IpMbzgcJhAISJEHLSMT3W43f/zjHxk3bhznnnvuYe83uGLFCubPn09JSYm0ZhPOFNryfSFoQ6GQHE7h9XoJhUKEw2FZ1iGGQthsNgoKCrBYLCxZsoS//e1vXXiWCoVCofi5ooSu4mfDjh07ePbZZ5kwYQLHHnss2dnZmM1mUlJSZO2pz+ejoaGB+vp6vF6vXOb3+6X4Ew4DWnN0p9OJw+FAp9OxadMmdu3axbfffsvQoUMZOHAgw4YNw+VydeHZ/0QwGJTif8OGDezYsYOGhgZZswwtwjYUCkmxK3xzg8GgFLLNzc0yu60dEiHKFbxeL4sXL+bJJ5/ssnNVKBQKxc8bJXQVPzvmz5/P/Pnzyc3NZezYsfTt25devXqh0+kIhULU19eTlJREfX09jY2NcrSux+ORt+xFaYMYKawdjCBKIaqqqigpKSEjI4Pu3btTXFzMoEGDGDRo0CEvbWhubmb+/PmsWLGCLVu2UFtbS2NjI36/n2AwKBvywuGwrFcWIlen06HX6+U8dNFwJuqXxchfYSfWu3dvcnJy+Oc//8nHH398SM9ToVAoFAotyl5ModCQmprK6NGjKS4uljW94XCY2tpavvnmGzweD9FolGg0Kn13heATY3dFvaqobRUlEMK712q1kpOTI0cNp6WlySxpVlYWubm5JCcn43Q66dGjh7Q52xu1tbVUVlayY8cOduzYwa5du6isrKS+vp7S0lLq6upwu93SHs1oNGIymaSAjcfj0lM4Ho/LelyLxSLrb61WK9nZ2TImo9GIy+WiR48eFBUVodfr+eabb/jnP/950F4jheJIQtmLHXhmzpzJ1KlTaWxsBOCee+7hgw8+YNWqVQBMnjyZxsZGPvjgg93u46STTmLo0KE89dRTBz1excFB2YspFPtAQ0MDc+bM4csvv+SEE05g0KBBZGVlkZKSQq9evairq8Pj8RAIBGR9qmhei0ajxGIxAoEAer0evV4v7crEIIp4PE5TUxO1tbVYrVaSk5Ox2+0ye2qz2UhOTsbhcMgMqclkknXCBoNBimaByCx7PB6amppkGUJDQ4OsQRYxNjc3AyTEJ7LUYviDmD9vMBjkiGThuCCmxol63KSkJGw2GyaTifLycr755hvmzp17KF8yhUJxCJk8eTKzZs3ihhtu4KWXXkp47qabbuKFF17gqquuYubMmYcspmnTpnHzzTcfsuMpjiyU0FUo2iEajbJgwQIWLFjAyJEjGTZsGIWFhaSkpFBTU0N9fb0UvFrvXW1Nq/ZnQIpUQDa0eTwefD6fbHITpQBCTIZCoYTaYHEsUUsLP4nW5uZmAoGAHIghRHcwGJTbijIMk8mEzWaTtmnhcFjW4QpBLazDzGYzDocDu92O3W4nPT2dnJwc8vLyyMrKIhqNsmTJElWLq1DsJ9MqdIf0eI/n7vWGbrvk5+fz5ptv8uSTT2Kz2YCW7Np//vMfCgoKDmSIHcLpdOJ0Og/5cRVHBvq9r6JQ/LxZsWIFL7/8MnV1dVitVrKysujevTv5+fl069ZNZnztdjtWqzVBLAphKkSmyIgmJyfLbGjrTKnJZJL7CAaDeL1eGhsbqauro7q6msrKSqqqqqiqqqKyspKKigqqq6tpbGyUDXRCtDocDlwuFzabDZvNJsWqw+HA4XDIJjpht5aRkUFGRgY5OTnk5+fLkoRevXrRu3dvjjnmGGnPFgwG2bhxI/PmzVMiV6H4GTF8+HDy8/N5//335bL333+fgoIChg0bJpfNmTOHE044gZSUFNLT0znnnHPYsmWLfL60tBSdTsf777/PhAkTsNvtDBkyhG+++SbheDNnzqSgoAC73c4FF1xAXV1dwvP33HMPQ4cObRPnvffeK0eQ//a3v5V3rdojFAoxbdo08vLycDgcjB49mgULFnTyyigOR1RGV6HoILNmzWLMmDEUFBTIN27h0lBbWysb0cLhsCwL0GZqxSQxbYYXWrLHYn0hjqPRKIFAQJY8mM3mBLsvsU8x0U1kZkXGVmSPRQyiPthsNmMymdrUDTscDrmd2WyWYtzlcklR7nA4MBqN7Nixg9WrV7N48WJKS0sP+eugUCi6nmuuuYYZM2Zw+eWXA/Daa69x9dVXJ4hDn8/HH//4RwYPHozX6+Wuu+7iggsuYNWqVQnlV9OnT+fxxx+nuLiY6dOnc9lll7F582aMRiPLli3j2muv5W9/+xvnn38+c+bM4e67795rfPPmzcNqtbJgwQJKS0u5+uqrSU9P362f95QpU1i3bh1vvvkm3bp1Y/bs2UycOJEffviB4uLi/btYii5FCV2FooO43W7mzp1LZmYmo0eP5phjjsHpdGK320lJScHj8eB2u3G73bJ0QNTuNjc3S+EppooJkaodoSvEZ3NzM83NzRiNRjmZTJshFttqxa4Y4CDKGoTIhp+cEiwWi2yWE8tdLhcul0suF41nZrNZNtXV19dTXV2Nz+fj888/Z8OGDV3zIigUisOCK664gr/85S9s374dgMWLF/Pmm28mCN1JkyYlbPPaa6+RmZnJunXrGDhwoFw+bdo0zj77bKAlCztgwAA2b95M3759efrpp5k4cSK33XYbAL1792bJkiXMmTNnj/GZzWZee+017HY7AwYM4L777uNPf/oT999/f4LIBigrK2PGjBmUlZXRrVs3GdOcOXOYMWMGDz300L5dJMVhgRK6CkUnqamp4ZNPPqFnz56MHDmSwsJC8vLy0Ov1eL1eduzYIZvVgsEg4XBYZm2hpYwhEolI5wKta4OotxWZWe1jIXK1TW5if0LUCmENLUJXTDMTwlUIXlEuIWpuU1NTsdvt6PV6gsEgjY2NVFZWUl5eTmlpKaWlpXK/CoVCkZmZydlnn83MmTOJx+OcffbZbWwTN23axF133cWyZcuora2VH8LLysoShO7gwYPlz7m5uQBUV1fTt29fSkpKuOCCCxL2O2bMmL0K3SFDhmC32xO28Xq9lJeX06NHj4R1f/jhB5qbm+ndu3fC8lAoRHp6+t4uheIwRwldhWIf2bJlC1u2bJGCt6ioCIfDQY8ePYhEIkQiEemzKwYrxGIx6Y5gMpmkGG1ubpb/BIQwNRqNRCIRgDbCVuuYILK9QII1mF6vl5ne5ORkuUxMMdNmd3U6HW63m23btlFaWsqGDRuoqKg4xFdUoVAcSVxzzTVMmTIFgOeff77N8+eeey49evTg5Zdfplu3bsRiMQYOHNimVlZrodhew+3Bxuv1YjAYWLlypXwvFagmtyMfJXQViv1ECF6n08no0aM56aSTSE9Px2azodPp8Pl8eL1e6b1bX1+fIFy1nrxAgpWYxWKR5QmiRre1dZlYV2wnvHpNJpMsh8jKykqo34WWLumGhgbKy8spKytj48aN8jakQqFQ7I2JEydKX+4zzjgj4bm6ujo2bNjAyy+/zIknngjAokWLOn2Mfv36sWzZsoRlS5cu3et2q1evJhAISFeIpUuX4nQ6yc/Pb7PusGHDaG5uprq6WsaqOHpQQlehOEB4vV7mzZvHvHnz5LLMzEwKCgro3r073bt3Jycnh+LiYgYPHpwgOsXgCdEkJupuDQaDFMKiqQwSs7rCpcFkMsk63WAwiMfjoa6ujtraWpYvX05NTQ27du2ivr6+S66PQqE4ujAYDJSUlMiftaSmppKens4///lPcnNzKSsr489//nOnj3HLLbdw/PHH8/jjj3Peeecxd+7cvZYtQItl4rXXXssdd9xBaWkpd999N1OmTGlTnwstdb+XX345v/71r3niiScYNmwYNTU1zJs3j8GDB8v6YcWRiRK6CsVBpKamhpqaGlauXAlAdnY2RUVFDB48WNqLiaav1mUIgCxvABKcHETTWSwWk41roVAIj8dDQ0MDVVVVlJeXs23bNnw+X5ecu0KhOPppPfVNoNfrefPNN7nlllsYOHAgffr04ZlnnuGkk07q1P6PO+44Xn75Ze6++27uuusuTj31VO644w7uv//+PW53yimnUFxczLhx4wiFQlx22WXcc889u11/xowZPPDAA9x6663s3LmTjIwMjjvuOM4555xOxas4/FAjgBWKLkan08mBDMJXV5QipKSkyMlk2jrcUCgkSyJqa2upqqqSDgsKheLwQY0AVigODmoEsEJxhBCPx/F6vXi93q4ORaFQKBSKowo1GU2hUCgUCoVCcVSihK5CoVAoFAqF4qhECV2FQqFQKBQKxVGJEroKhUKhUCgUiqMSJXQVCoVCoVAoFEclSugqFIou4ZRTTunqEBQKhUJxlKPsxRQHDYvFgsvlIjk5WY6kzczMlH6xOp0Oi8VCbm4uTqeTXbt28corrxAKhbo6dMUhQDtBTqFQKBSKg4ESuor94uqrr2bgwIF4PB6am5sxGAyYzWaMRiNGoxGTyYTVakWv16PX63G5XJhMJvR6PfF4HLPZTGZmJiaTiV27drFjxw4+/PDDrj4thUKhUCgURwFK6Cr2meHDh3P55ZdTXFxMRUUF9fX1NDc3y1G10DLFKx6Pyy+9Xk8sFpMjbOPxOG63m3g8Tk1NDbFYrIvPSnEoOf7447njjjvo168fer2empoaQqEQBoNBzqQPh8NEo1EAOe5Yr9djMBjktLhwOExxcTGbN2/mr3/9K0uXLu2yc1IoFLuntLSUoqIivv/+e4YOHXrA9ltYWMjUqVOZOnXqAdvnvqLT6Zg9ezbnn39+V4eiQAldxX7gdDpJSkoiKSkJt9tNMBgkFotJsRqPxzEYDAmPw+GwFLw6nS5BFAeDQex2Oz169GD79u1ddl6KQ8fw4cPp378/BQUFAKSkpBAIBBJ+N6LRqCxnEWOOxR0CaPm9CgaD5OfnYzabGThwoBK6CsVBoKamhrvuuov//e9/VFVVkZqaypAhQ7jrrrs4/vjjO7SP/Px8KioqyMjIOMjRKhQtKKGr2Gd27dpFbW0tmZmZuN1ufD5fQkY2Ho/Ln3U6HQaDQYpcs9kMgMFgwGKxyLKGjIwMioqKlND9mVBTU8Py5cuprKzEaDTidrsJBAIya6vX66XQFXcARDZXe9cgEAjg9/uprKykvLy8i89Kodg3TtetOqTH+zw+tFPrT5o0iXA4zKxZszjmmGOoqqpi3rx51NXVdXgfBoOBnJycTkZ6+BEOh+X/McXhjXJdUOwzRqMRm82G0+nE4XBgs9lk85nT6cRqtcplLpcLq9VKSkoKaWlppKamkpycjMvlwul0kpaWRt++fSkoKGDFihVdfWqKQ0RKSgrQ8s/PaDRiNpvll1hms9kwmUzodDq5jihtMBqNOBwOkpOTMZlMGAwG7HZ7156UQnEU0tjYyNdff80jjzzChAkT6NGjB6NGjeIvf/kLv/jFL+R6Op2OF198kTPPPBObzcYxxxzDu+++K58vLS1Fp9OxatUqABYsWIBOp2PevHmMHDkSu93O2LFj2bBhg9xmy5YtnHfeeWRnZ+N0Ojn22GP58ssvO30Or732GgMGDJBN0FOmTJHPlZWVcd5558k7lZdccglVVVXy+XvuuYehQ4fyyiuvUFRUhNVqBWDTpk2MGzcOq9VK//79+eKLLzodl+LgojK6in0mHA7L7Kz4ZCuyuPF4nGg0Sjwep7m5WdblmkwmjEYjwWCQcDhMLBYjFAphs9mwWCyEw2G8Xm9XnpbiEGKz2UhOTiYzMxOj0YjFYiESiQAQi8XQ6XTEYjGcTiexWExmecXvmfjdC4fD5Ofno9PpSEtL68pTUiiOSpxOJ06nkw8++IDjjjsOi8Wy23XvvPNOHn74YZ5++mlef/11Lr30Un744Qf69eu3222mT5/OE088QWZmJr/97W+55pprWLx4MQBer5ezzjqLBx98EIvFwr/+9S/OPfdcNmzYIMue9saLL77IH//4Rx5++GHOPPNMmpqa5P5jsZgUuV999RXRaJSbbrqJX/7ylyxYsEDuY/Pmzbz33nu8//77sizvwgsvJDs7m2XLltHU1HRY1AgrElFCV7HPVFVVUV1dTXV1NRUVFZSXl8vby6FQiEAgIMVuOByWTUY6nY5wOIzH4yEUCuF0OnG5XFgsFvVp+GeG3+/HbDZjsVgwGo2Ew2H5YUiI3GAwKAWtELlC9JrNZkwmE36/H5fLRW5uLklJSV19WgrFUYfRaGTmzJlcf/31vPTSSwwfPpzx48dz6aWXMnjw4IR1L774Yq677joA7r//fr744gueffZZXnjhhd3u/8EHH2T8+PEA/PnPf+bss88mGAxitVoZMmQIQ4YMkevef//9zJ49m48++ighK7snHnjgAW699VZ+//vfy2XHHnss0GJ1+MMPP7Bt2zby8/MB+Ne//sWAAQNYvny5XC8cDvOvf/2LzMxMAD7//HPWr1/P3Llz6datGwAPPfQQZ555ZodiUhwalNBV7DMmk4loNMqWLVtYtGgR0PJm2NDQwPbt26mtrSU3N5e8vDy2b9/Od999x5AhQzCZTJSXl7NhwwbcbjfFxcX06dMHr9fLwoULu/isFIcSkcUvKyvDZDJJhwXR1GgymXC5XHg8Hilm7Xa7/CBlNBpJSkrCarUSDAbZsWNHQm24QqE4cEyaNImzzz6br7/+mqVLl/LZZ5/x6KOP8sorrzB58mS53pgxYxK2GzNmjCxV2B1asZybmwtAdXU1BQUFeL1e7rnnHv73v/9RUVFBNBolEAhQVlbWobirq6vZtWvXbofUlJSUkJ+fL0UuQP/+/UlJSaGkpEQK3R49ekiRq91OiNz2zl3R9Rx0oZuenk4wGCQej+P3+w/24RSHkFNPPZXMzEzee+89XnzxRY477jiKiopYvnw5mzdvluvddtttLFq0iJqaGnw+H926dWPNmjXy+Y0bN2IymVi3bl1XnIaiCznmmGP4z3/+w2effUZ6ejpFRUXU1tZSUlJCU1MTPXr04NZbb+XDDz9k3rx5FBYWctppp7Ft2zaWLVtGJBJhzJgxXH311Xz66ad8/PHHDBw4kNGjR7Ns2TJ5nIEDBxKPx/nxxx+BljpCJYgVis5jtVo57bTTOO2007jzzju57rrruPvuuxOE7r5gMpnkz6LRVDQ3T5s2jS+++ILHH3+cXr16YbPZuOiiiwiHwx3at81m26/YBA6H44DsR3FoOehC1+VykZmZSXJysrylHYlEZMYmFArh9/sJhUKy+15YCJnNZnQ6HSaTiV69etG3b1++++47Nm3ahNvtVhO0upimpiY2bNhAaWkpANu3bycajbJjx46E9ebMmUNNTQ0AtbW11NbWttmXECCKnxc7d+7km2++obKyksrKSqLRKBUVFbjdbqDld2rz5s2yQbG0tJSNGzeyYcMGPB4PAOvXr2fnzp2sWrUKn89HTU0NgwYNSjiO2WwmGAzKx0rkHhrMZjP9+/fHYDCwcuXKrg5HcRDo378/H3zwQcKypUuX8utf/zrh8bBhw/b5GIsXL2by5MlccMEFQEvNrvi/0xFcLheFhYXMmzePCRMmtHm+X79+lJeXU15eLrO669ato7Gxkf79++92v2K7iooKmYVW1oaHHwdd6JaWlpKeno7ZbMZut+NyuWRjUnNzMy6Xi0gkgslkIjU1VXZMi/GwJpMJu91OQUEBAwcOpH///pSWllJZWUlDQwNer1daC4nbmZFIRNaECoN58aU4cHzxxRdUV1dLkVpRUUFFRUWb9bTZW4VCyyuvvEJDQ4N8rO20Fvz3v/+lqalJPv7qq68Snq+oqODdd99l/fr1AGzdulWKYMF33313IMNW7AGHw0Fubi59+/YlLy8PvV6Px+MhHo9TW1uLx+PB7Xar9+MjjLq6Oi6++GKuueYaBg8ejMvlYsWKFTz66KOcd955Ceu+8847jBw5khNOOIE33niDb7/9lldffXWfj11cXMz777/Pueeei06n48477+z0cKF77rmH3/72t2RlZXHmmWfi8XhYvHgxN998M6eeeiqDBg3i8ssv56mnniIajXLjjTcyfvx4Ro4cudt9nnrqqfTu3ZurrrqKxx57DLfbzfTp0/f5PBUHh0NSo1tXV0c4HCY9PR2n05mQtRVZXCFsk5KSsNlscnysqNFLSkoiJSWFbt26kZ+fz48//sj27dsJBAIyKxwOhwkGg0QiEaLRaJsvkUWOxWKyUUo7oau5uTkh26ymdO2d1atXd3UIiiMYrcjdHeJuwJ5onS3syDaKfUc0AlosFpxOp/xuNpuxWq0UFxczZswYMjMzKS8vp6ysDJ1Ox44dO2hoaCAQCNDQ0EB1dXVXn4qigzidTkaPHs2TTz7Jli1biEQi5Ofnc/311/PXv/41Yd17772XN998kxtvvJHc3Fz++9//7jEzujf+/ve/c8011zB27FgyMjK4/fbb5V2fjnLVVVcRDAZ58sknmTZtGhkZGVx00UVAS2Ltww8/5Oabb2bcuHHo9XomTpzIs88+u8d96vV6Zs+ezbXXXsuoUaMoLCzkmWeeYeLEift8rooDjy7egXt4breb5OTkA3JA4XspuqWtVivNzc3odDqys7PJzc0lIyMDq9UqvTKFJ+vQoUM55phj8Hq9rFixQt6+DIVC+Hw+otEofr+fSCQiR89Go9GEEaJC0IbDYWl7Jbq4m5ubpUsAQCgUIh6PyylNQvwKcQzI7RUKheJoRLz/aX2OhUuG0WiUHtl2u116Yvfp04cRI0Zgt9tZv349W7ZsoaamRjapBgIBampqqK+v7+rTO+g0NTW1cQIJBoNs27YtwY/1aEGNv1UcKjr6d3TIXReiPKrwqgAAHNRJREFU0ShNTU2ylEGUGZjNZjweD6mpqej1eux2O2azmXg8jtFoRK/XYzKZMJvNJCUl0a1bN3w+H7W1tTQ1NaHX66Uvq5imJHw4dTqd9HkVQtVobDl1IXy14lUbqxDMYl1ttjcej8u6Y+1y7XMKhUJxpCHErdlsloJWCF3xPixGMNtsNjk4Jjs7m+LiYoqKitDr9dTV1REIBIjFYvh8Ppl0CAQCyi9boVAcErrMXky84TkcDik2g8GgfFMUQliUNIgMr9vtRq/Xk5ycTHZ2NpFIhFAoJDOxwlBeWx4hxK5AjBAFpCAVb9rieywWk16eor5XCFixP+222mOL/bYWvgqFQnEk0PrOl3j/0r7vCTEciUQwm83SDi41NRWTycTOnTul00pzczNNTU14vV48Hg+1tbUd7phXKBSK/aFLfXRjsRgejwez2SzLDaxWKzk5OWRkZGAwGGS2wGKx0NjYSFNTk2xSE/W92v2Fw2HC4TCRSIRIJJIgMLWlB6KUQSwTb+biS2R5xTqtyxq0Nbza7UQ8QhgrkatQKI5UxId87VRDg8EgfzabzQmNvvF4HI/HQyQSoaKigrq6OoxGI/F4nGAwiN/vl57IiqMT9f9OcbhxWAyMCIfDOByOhDpYnU6H1WolNTUVl8uFXq+npqYGv9+P0+kkIyND3ioT5QqxWAybzSYzDZA4kla8GYvmN22mQqCt7W1d1yvEK5AQpxDCYl3t+FuFQqE40hEJAkBmcw0Gg7wz5nA46N69O5mZmXg8HsrKyqiuriYYDMo7clarFaPRqNwWFArFIeWwELoAkUhEfvKPx+Mym5uUlITL5cLn81FdXU0gEJATkXJycujevbvMCPt8PiwWixSl2lpdbSZXNKgJgarNvmqXCbHauv5WZWkVCsXPCZE8EGVf4kv0PqSkpDBgwABSUlJYt24d69evp7a2Vr4Pp6WlkZKSQlJSktxGoVAoDgWHjdAVJQdiCAHA0KFDKS8vp66urt1tCgoK5Oi9mpoaKioq9umWmHjD1r6BC/9e8QYvlrd+w9fpdPJ2nvY5kTUWy0wmk6wT1ta5AQnriufFdmJZ6xo57XrtIfavLa8QIl3EJ5Zpj6M9buvntfsT59veccTz4hitSz5axyjQlou0Xlf8rL2+ollQe120WXtt1r29SVjac41EInK71oiYxIcobSziPLSvQ+sPQ+JaaK+PNgZtZkyck1jeehtxLuI5aDtRSHuNRBza38n2zlP7e6Z9jbWxi+1a3wnR1qZr9xWNRtuch9i39m9GW/Yjlmn/BsQHYBGTTqeT10k0RwEJd1X2dm7isfjdbP13pv171dbta/9mteu3jlms3/r6tP5d0V5D7d+zthxKi3ZZ6995Qeu/IW1zrPh7AKSVonis/d0Wj1vfmRLvB+L6GI1Ghg4dSn5+Pg6Hg+rqampra6mrq6O0tLTd927Rd6EG/igUikPBYSN022Nvs7HLyso6POt6TzQ3NxMIBPZ7P3tDiAbxT01814prsY5ohGudRRHPtf7HKASAVjwAbf6Bi3W0wkT802pPqAvXCyE2RIZGxNCe17D2+dbHFs9r9y8Q/1TFubYW1WIf4tpom2Jai4fWwksrDMXzWoEpxIL2NWotWKxWq8z4i9dLew67+2Cifa21cYprpD2WEJHa11J7Hq1FpXj9tOfc+vq2vkbtCX+xTOtW0np/BoNB3u3Y3fbaD0R7+lCj3UYIMe2HI634Fbe7xe8eIO/MaLfR1tlrfxYxaT8YCRHXupZe/GwwGBJi1t4Rai382vvw0/pDW+sPg63vFIn9ar/ai0t7l0m8VuJcxTqtvcC1d7JE7MLtRruuOA/t9701jBkMBpqamrDb7WzevJm1a9fucX1x/krkKhSKQ8VhLXQBsrOzqaqq6uowDghH6nQ2h8OBxWKRwkvbCCi+jEaj9NYUgl2IUvElMufax1phabFYpBWcxWJJEL1asSVEt4hDWMUJRMZJfBc/A1I8CYskIYK0t1PFOWjFoshCwU/CWbs9JGZAW4tAbUzarGZr4aoVfULsazvcW5+LVmRrxbRWcGt/57TPtVejrrXoMxgMUkyJeIRgEllwIYpFrNosoFZEal1LtOfZ2s1EWw+vjTsajSaIMnEeYsiLVsi1NzBGTEoUwk07OTESiRAMBuW5CyEmRKLYTuxLjDEXjgTiZyGcW4vco5nm5mY+//zzDq+flJRELBZT1mIKheKQcdgL3aqqKiwWi/TZVRx6fD4fPp/vkB1P69MpRLQQWtpMsdVqxWazScEphJsQ3QaDAavVKgW0VpAKMQ0tYtBms8mfhdBtnYkVcWhjap3R1QpxbZZPiHsRpxCTYj+Q6OShvUWvzfCK89dmLoUQ1Qpm7fa7y8pps4GAFK8iUyoeRyIRef2FuAOkrZ84ByHwWmcQtT7VrW+jC7cVEY9YLgRk6+ZQUeIk9icEsFgWj8flOkfqB8ujmc5Os1IoFIr95bAXutDyD1Xc6kpNTcXr9cqaSsXRhxBXCoXiyCY9PZ1AIKDsxBQd4qSTTmLo0KE89dRTXR2K4ijiiBC6Wnr27Mmpp56K2WxmyZIlfPnll10dkkKhUCg0nHDCCZxyyimEQiHefPNNSktLuzqkIwLdv04/pMeL/7rjZScAkydPZtasWfJxWloaxx57LI8++iiDBw/e73jef//9hObaA83kyZNpbGzkgw8+OGjHUBx+HHFCd8WKFaxYsQKAESNGcOmll+JwOKiqqmL58uVHTT2vQqFQHCmkpaVxwgknkJ6eTk1NDd9++y2LFi3q6rAUB4GJEycyY8YMACorK7njjjs455xz9tgYHolEOiRg09LSDlicCoWgrZfSEcTKlStZunQpxxxzDNdffz33339/V4ekUCgUPyuOO+44br/9diZNmkR6ejqfffYZ1dXVXR2W4iBhsVjIyckhJyeHoUOH8uc//5ny8nJqamoAKC0tRafT8dZbbzF+/HisVitvvPEGdXV1XHbZZeTl5WG32xk0aBD//e9/E/Z90kknMXXqVPm4sLCQhx56iGuuuQaXy0VBQQH//Oc/9xjfu+++y6BBg7DZbKSnp3Pqqafi8/m45557mDVrFh9++KHsu1iwYAEA5eXlXHLJJaSkpJCWlsZ5552XcBdi8uTJnH/++Tz00ENkZ2eTkpLCfffdRzQa5U9/+hNpaWl0795dfgBQHF4ccRnd1pSWljJ9+nQABg8ezDPPPENRURFbt27liSeeOCD2YwqFQqH4iauvvpoLL7yQYDDIY489xu23397VISm6AK/Xy7///W969epFenp6wnN//vOfeeKJJxg2bBhWq5VgMMiIESO4/fbbSUpK4n//+x9XXnklPXv2ZNSoUbs9xhNPPMH999/PX//6V959911+97vfMX78ePr06dNm3YqKCi677DIeffRRLrjgAjweD19//TXxeJxp06ZRUlKC2+2WgjQtLY1IJMIZZ5zBmDFj+PrrrzEajTzwwANMnDiRNWvWSEee//u//6N79+4sXLiQxYsXc+2117JkyRLGjRvHsmXLeOutt7jhhhs47bTT6N69+wG8yor95YgXulrWrFnDLbfcAsAZZ5zBlClTyMnJwev1UlNTw9q1a3nnnXe6OEqFQqE4srjuuus444wz6N27Nzt37uT9999n0qRJe/XZVRx9fPLJJzidTqDFkSc3N5dPPvmkjb/31KlTufDCCxOWTZs2Tf588803M3fuXN5+++09Ct2zzjqLG2+8EYDbb7+dJ598kvnz5+9W6EajUS688EJ69OgBwKBBg+TzNpuNUChETk6OXPbvf/+bWCzGK6+8Iq0XZ8yYQUpKCgsWLOD001vqptPS0njmmWfQ6/X06dOHRx99FL/fz1//+lcA/vKXv/Dwww+zaNEiLr300r1cRcWh5KgSulrmzp3L3LlzmThxIpdeeimXXHIJl156KaeccgpPPvmknL6mUCgUivbJy8vj3nvvZfLkyRgMBjZs2MBjjz3G/Pnzuzo0RRcxYcIEXnzxRQAaGhp44YUXOPPMM/n222+luAQYOXJkwnbNzc089NBDvP322+zcuVN6Wdvt9j0eT9vkptPpyMnJ2W1pzJAhQzjllFMYNGgQZ5xxBqeffjoXXXQRqampu93/6tWr2bx5My6XK2F5MBhky5Yt8vGAAQMSxHx2djYDBw6Ujw0GA+np6aps5zDkqBW6gjlz5jBnzhzMZjPdunUjKyuLvn37MmzYMNavX7/X6WsKhULxc6Nnz54MGjSIhoYG/v3vf/Pxxx9TWVnJsmXLujo0RRfjcDjo1auXfPzKK6+QnJzMyy+/zAMPPJCwnpbHHnuMp59+mqeeeopBgwbhcDiYOnXqXu8KtG5iE9MU28NgMPDFF1+wZMkSPv/8c5599lmmT5/OsmXLKCoqancbr9fLiBEjeOONN9o8l5mZucc4OhObous46oWuIBwOU1paKgvMn3jiCcaPH893333Hm2++qYZRKBQKBXDJJZdw/PHH09zczB//+MeuDkdxmCMG6wQCgT2ut3jxYs477zyuuOIKoGVAzMaNG+nfv/8Bj+f444/n+OOP56677qJHjx7Mnj2bP/7xj5jN5jZDZIYPH85bb71FVlYWSUlJBzQWxeHBz0botubWW2+VP3fr1o0ePXpgNBopLy+nrq6uCyNTKBSKQ4fT6SQvL49IJEJFRQVvv/02b7/9dleHpThMCYVCVFZWAi2lC8899xxer5dzzz13j9sVFxfz7rvvsmTJElJTU/n73/9OVVXVARW6y5YtY968eZx++ulkZWWxbNkyampq6NevH9Di4jB37lw2bNhAeno6ycnJXH755Tz22GOcd9553HfffXTv3p3t27fz/vvvc9ttt6nGsqOAn63Q1bJr1y5qa2s588wzGTNmDBUVFcybN09leRUKxVHNhAkT6NOnD7W1tcyZM2evWTmFYs6cOeTm5gLgcrno27cv77zzDieddNIet7vjjjvYunUrZ5xxBna7nd/85jecf/75NDU1HbDYkpKSWLhwIU899RRut5sePXrwxBNPcOaZZwJw/fXXs2DBAkaOHInX62X+/PmcdNJJLFy4kNtvv50LL7wQj8dDXl4ep5xyisrwHiXo4mLQ/R5wu90kJycfingOKwoKCgiFQmoIhUKhOGqw2+2EQqE2t3AVB4empqY2gikYDLJt2zaKioqwWq1dFJlCcWTT0b8jldHdCyeccAJ6vZ6SkhLWrl3b1eEoFArFPpGZmcmoUaMwm83Mnj27q8NRKBSKQ4ISunugrKyszcAJl8uFyWSisbFRdVcqFIrDGrPZLLvaa2pq+N///tfFESkUCsWhRQndTuLxeOjVqxejRo0iEomwdu1aVdqgUCgOK0aNGoXL5WLbtm1s3bq1q8NRKBSKLkMJ3X1g8+bNbN68OWFZnz596NOnD83Nzaxdu5bt27d3UXQKheLngslk4oQTTiAjI4OdO3eyZMkSAL799tsujkyhUCgOD5TQPUBs2LCh3WlraWlp6PV6amtruyAqhUJxNOFyuXA4HFRXVxOLxYhEImpKmUKhUOwB/d5XUewPZrOZ448/ntGjR3d1KAqF4gime/funH322XTv3l31BygUCkUHURndg0xlZSUffvhhwjK73U5KSgqBQICGhoYuikyhUByuuFwu0tPT8fl81NTUALBjxw7efPPNLo5MoVAojiyU0O0C/H4/Y8aMoXfv3vj9fr755hs2btzY1WEpFIouxmw2c8opp9CzZ08aGxtVWYJCoVDsJ0rodhHz5s1j3rx5bZanpaUp6zKF4mdEdna2dG4Jh8N89tlnXRyRQqFQHD2oGt3DjLFjx3LVVVdx9tln/yyn0SkUPxdGjRrFFVdcwcknn9zVoSgUhw333HMPQ4cO7dIYTjrpJKZOndqlMSgOHCqje5jxySef7PY5m82mZtErFEcgTqeTWCyG3++Xy7799ltlA6ZI4F+n6w7p8X79ebzT25SXl3P33XczZ84camtryc3N5fzzz+euu+4iPT39IER56Hn//fcxmUzycWFhIVOnTlXi9whFZXSPIAYNGsSZZ55JZmZmV4eiUCg6gNPpZNKkSYwZMwaHw9HV4SgU+8XWrVsZOXIkmzZt4r///S+bN2/mpZdeYt68eYwZM4b6+vrdbism9B0JpKWl4XK5ujoMxQFCCd0jiG+//ZbPPvtMdmELzGYzffr0YeDAgXTv3r2LolMofp7k5uYyfPhwhg8f3iaj5fV6ee+99/jiiy/a/N0qFEcaN910E2azmc8//5zx48dTUFDAmWeeyZdffsnOnTuZPn26XLewsJD777+fX//61yQlJfGb3/wGgNtvv53evXtjt9s55phjuPPOO4lEIp2K48cff+Scc84hKSkJl8vFiSeeyJYtWwBYvnw5p512GhkZGSQnJzN+/Hi+++47ue2vfvUrfvnLXybsLxKJkJGRwb/+9S8gsXThpJNOYvv27fzhD39Ap9Oh0+nw+XwkJSXx7rvvJuzngw8+wOFw4PF4OnU+ioOLErpHAeFwmA0bNrB27Vp27NjR1eEoFD8rKioq+O677/juu++oq6vr6nAUioNCfX09c+fO5cYbb8RmsyU8l5OTw+WXX85bb71FPP5TOcTjjz/OkCFD+P7777nzzjuBFuu8mTNnsm7dOp5++mlefvllnnzyyQ7HsXPnTsaNG4fFYuH//u//WLlyJddccw3RaBQAj8fDVVddxaJFi1i6dCnFxcWcddZZUnxefvnlfPzxx3i9XrnPuXPn4vf7ueCCC9oc7/3336d79+7cd999VFRUUFFRgcPh4NJLL2XGjBkJ686YMYOLLrpIZYMPM1SN7s+A9PR0UlNTCYfD7NixQzk6KBSdpHv37qSlpeHz+WTmSKH4ObFp0ybi8Tj9+vVr9/l+/frR0NBATU0NWVlZAJx88snceuutCevdcccd8ufCwkKmTZvGm2++yW233dahOJ5//nmSk5N58803ZR1t79695fOtmzv/+c9/kpKSwldffcU555zDGWecgcPhYPbs2Vx55ZUA/Oc//+EXv/hFuwI1LS0Ng8GAy+UiJydHLr/uuusYO3YsFRUV5ObmUl1dzaeffsqXX37ZofNQHDpURvdnQF1dHZs3b6asrEyJXMXPkq+//nq/tt+xYwdr1qxRIlfxs0ebsd0bI0eObLPsrbfe4vjjjycnJwen08kdd9xBWVlZh/e5atUqTjzxxIRmMS1VVVVcf/31FBcXk5ycTFJSEl6vVx7DaDRyySWX8MYbbwDg8/n48MMPufzyyzscA7S4pgwYMIBZs2YB8O9//5sePXowbty4Tu1HcfBRQleB0+kkPz+f/Px87HZ7V4ejUBxQ4vE4J5xwQrv/oM1mM3379mXcuHGMHz+egQMHtrktq1AooFevXuh0OkpKStp9vqSkhNTU1IRm6dYNmN988w2XX345Z511Fp988gnff/8906dP71Sj2t7+Pq+66ipWrVrF008/zZIlS1i1ahXp6ekJx7j88suZN28e1dXVfPDBB9hsNiZOnNjhGATXXXcdM2fOBFrKFq6++mp0ukPrnKHYO6p0QYHX602oV1IojlbsdnuCxVc4HGb9+vWsX7++C6NSKA5/0tPTOe2003jhhRf4wx/+kCA4KysreeONN/j1r3+9R6G3ZMkSevTokdC0tn379k7FMXjwYGbNmkUkEmk3q7t48WJeeOEFzjrrLKDFDq22tjZhnbFjx5Kfn89bb73FZ599xsUXX7zbDDG0fCBubm5us/yKK67gtttu45lnnmHdunVcddVVnToXxaFBZXQVHaJbt2707NmT7t27K5skxRFDz549ZYNmKBRSdywUiv3gueeeIxQKccYZZ7Bw4ULKy8uZM2cOp512Gnl5eTz44IN73L64uJiysjLefPNNtmzZwjPPPMPs2bM7FcOUKVNwu91ceumlrFixgk2bNvH666+zYcMGeYzXX3+dkpISli1bxuWXX95uFvhXv/oVL730El988cVeyxYKCwtZuHAhO3fuTBDNqampXHjhhfzpT3/i9NNPV65HhylK6Co6xK5du9iyZQs7duzA5/O1u466ZaM4kMTjcfnVHk6nk969e9O3b1969erV7gewLVu2kJ+fj06nw2q1tsnsKBSKjlNcXMyKFSs45phjuOSSS+jZsye/+c1vmDBhAt988w1paWl73P4Xv/gFf/jDH5gyZQpDhw5lyZIl0o2ho6Snp/N///d/eL1exo8fz4gRI3j55ZdlRvbVV1+loaGB4cOHc+WVV3LLLbfI5jgtl19+OevWrSMvL4/jjz9+j8e87777KC0tpWfPnm187K+99lrC4TDXXHNNp85DcejQxTtQWe52u9U4WsVeEW8CVqsVv99PZWVlp5oMFAot2rcm7Yeo3r17c/zxx9OjRw8MBgO1tbWUlZV1OjOkUBwKmpqaSEpKSlgWDAbZtm0bRUVFWK3WLopMcSB4/fXX+cMf/sCuXbswm81dHc7Pio7+HakaXcUBY8uWLR3qShdG4RkZGdhsNmKxGI2NjZSXl7Nr165DEKnicCItLY3evXtTWFhIcnIysViM7du3k5qaSmNjY5v1N27cyMaNGw99oAqFQvH/8fv9VFRU8PDDD3PDDTcokXsYo4Su4pDj9/tZu3ZtV4ehOEyor69n6dKlLF26tKtDUSgUig7x6KOP8uCDDzJu3Dj+8pe/dHU4ij2gShcURwx2u52srCycTidGoxGPx4PH48HtdhMMBrs6PMX/JyUlhbS0NFJSUoAWZwOv10ttba1y91D87FClCwrFwUGVLiiOOvx+P6WlpV0dhmIvNDY2tltyoFAoFArFoUYJXcXPDqvVis1mw2KxYDAY0Ov1RKPRhK9gMEgkEunqUA86drsdk8mE2WzG4XBgt9sJhUJ4vV78fj+hUKhTZu4KhUKhUBxOKKGr+NkRDAZVqcP/Rzs8oaampgsjUSh+fnRmnK5CoUiko38/ykdXoVAoFIpDiPB81X7QVCgUnUP8/expqh2ojK5CoVAoFIcUg8FASkoK1dXVQEsJkRq4o1B0jHg8jt/vp7q6mpSUFAwGwx7XV0L3/7Vvx7gJA0EARdcgSiQqBNz/bFzAPU4VysRIAcTPeyeYxpq/1i4AvNjpdBpjjHvsAo85HA737+gnQhcAXmyapnE+n8fxePwXD1/hL+12u1//5H4TugDwJtvtdvXCBh7nMRoAAElCFwCAJKELAECS0AUAIEnoAgCQJHQBAEgSugAAJAldAACShC4AAElCFwCAJKELAECS0AUAIEnoAgCQJHQBAEgSugAAJAldAACShC4AAElCFwCAJKELAECS0AUAIEnoAgCQJHQBAEgSugAAJAldAACShC4AAElCFwCAJKELAECS0AUAIEnoAgCQJHQBAEgSugAAJAldAACShC4AAElCFwCAJKELAECS0AUAIEnoAgCQJHQBAEgSugAAJAldAACShC4AAElCFwCAJKELAECS0AUAIEnoAgCQJHQBAEgSugAAJAldAACShC4AAElCFwCAJKELAECS0AUAIEnoAgCQJHQBAEgSugAAJAldAACShC4AAElCFwCAJKELAECS0AUAIEnoAgCQJHQBAEgSugAAJAldAACShC4AAElCFwCAJKELAECS0AUAIEnoAgCQJHQBAEgSugAAJAldAACShC4AAElCFwCAJKELAECS0AUAIEnoAgCQJHQBAEhaFbrLsjx7DgDIsT/hvVaF7jzPz54DAHLsT3ivaVlx3LzdbuN6vY79fj+maXrFXADwsZZlGfM8j8vlMjYbtwThXVaFLgAAfBrHTAAAkoQuAABJQhcAgCShCwBAktAFACBJ6AIAkCR0AQBI+gJRVZgickB99QAAAABJRU5ErkJggg==\n"
                },
                "metadata": {}
              }
            ]
          }
        },
        "edcfbfcd5a004fdfbdbeecff0690b7a9": {
          "model_module": "@jupyter-widgets/base",
          "model_name": "LayoutModel",
          "model_module_version": "1.2.0",
          "state": {
            "_model_module": "@jupyter-widgets/base",
            "_model_module_version": "1.2.0",
            "_model_name": "LayoutModel",
            "_view_count": null,
            "_view_module": "@jupyter-widgets/base",
            "_view_module_version": "1.2.0",
            "_view_name": "LayoutView",
            "align_content": null,
            "align_items": null,
            "align_self": null,
            "border": null,
            "bottom": null,
            "display": null,
            "flex": null,
            "flex_flow": null,
            "grid_area": null,
            "grid_auto_columns": null,
            "grid_auto_flow": null,
            "grid_auto_rows": null,
            "grid_column": null,
            "grid_gap": null,
            "grid_row": null,
            "grid_template_areas": null,
            "grid_template_columns": null,
            "grid_template_rows": null,
            "height": null,
            "justify_content": null,
            "justify_items": null,
            "left": null,
            "margin": null,
            "max_height": null,
            "max_width": null,
            "min_height": null,
            "min_width": null,
            "object_fit": null,
            "object_position": null,
            "order": null,
            "overflow": null,
            "overflow_x": null,
            "overflow_y": null,
            "padding": null,
            "right": null,
            "top": null,
            "visibility": null,
            "width": null
          }
        }
      }
    },
    "accelerator": "GPU"
  },
  "nbformat": 4,
  "nbformat_minor": 0
}
