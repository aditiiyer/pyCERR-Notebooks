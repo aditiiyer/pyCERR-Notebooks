{
  "cells": [
   {
          "cell_type": "markdown",
          "metadata": {
            "id": "view-in-github"
          },
          "source": [
            "<a href=\"https://colab.research.google.com/github/cerr/pycerr-notebooks/blob/main/autosegment_CT_HeadAndNeck_OARs.ipynb\" target=\"_parent\"><img src=\"https://colab.research.google.com/assets/colab-badge.svg\" alt=\"Open In Colab\"/></a>"
          ]
    },
    {
      "cell_type": "markdown",
      "metadata": {
        "id": "kNoydh-RsgcD"
      },
      "source": [
        "# Introduction\n",
        "\n",
        "In this tutorial, we will demonstrate how to apply a pre-trained AI model to segment the OARs on head and neck CT scans.\n",
        "\n",
        "## Requirements\n",
        "* Python>=3.7\n",
        "* This model can be run on a CPU.   \n",
        "  To use a GPU on Colab:  Select `Runtime` > `Change runtime type > Select GPU `\n",
        "* Data I/O, pre- and post-processing are performed using [***pyCERR***](https://github.com/cerr/pyCERR) .\n",
        "\n",
        "## I/O\n",
        "* **Input**: DICOM-format CT scan(s) of the prostate.  \n",
        "  \n",
        "* **Output**: DICOM RTStruct-format segmentations.  \n",
        "  \n",
        "  \n",
        "  Input data should be organized as: one directory of DICOM images per patient.      \n",
        "  \n",
        "    \n",
        "    Input dir\n",
        "            |------Pat1  \n",
        "                      |------img1.dcm  \n",
        "                             img2.dcm  \n",
        "                             ....  \n",
        "                             ....  \n",
        "            |-----Pat2  \n",
        "                     |------img1.dcm  \n",
        "                            img2.dcm  \n",
        "                            ....  \n",
        "                            ....  \n",
        "\n",
        "\n",
        "## AI model\n",
        "* The segmentation model used here was trained and validated on CT scans used for RT planning. Its performance on diagnostic scans is expected to be sub-optimal.\n",
        "* The trained model is packaged as a Conda environment archive containing  python libraries and other dependencies.\n",
        "\n",
        "### Installing the model and its dependencies\n",
        "\n",
        "* Installation is performed using CERR's [***model installer***]( https://github.com/cerr/model_installer).  \n",
        "\n",
        "* A Conda archive containing dependencies is downloaded to the `conda-pack`   \n",
        "  sub-directory of a configurable `scriptInstallDir`.  \n",
        "  By default `condaEnvPath = '/content/CT_HeadAndNeck_SelfAttn/conda-pack'`\n",
        "  \n",
        "* The inference script is located at   \n",
        "  `scriptPath = os.path.join(condaEnvPath,'model_wrapper', run_inference_nii.py')`  \n",
        "\n",
        "### Running the model\n",
        "```python\n",
        "!python {scriptPath} {input_nii_directory} {output_nii_directory}\n",
        "```"
      ]
    },
    {
      "cell_type": "markdown",
      "metadata": {
        "id": "6GVYj7k5e97G"
      },
      "source": [
        "## License\n",
        "\n",
        "By downloading the software you are agreeing to the following terms and conditions as well as to the Terms of Use of CERR software.\n",
        "\n",
        "**`THE SOFTWARE IS PROVIDED \"AS IS\" AND CERR DEVELOPMENT TEAM AND ITS COLLABORATORS DO NOT MAKE ANY WARRANTY, EXPRESS OR IMPLIED, INCLUDING BUT NOT LIMITED TO WARRANTIES OF MERCHANTABILITY AND FITNESS FOR A PARTICULAR PURPOSE, NOR DO THEY ASSUME ANY LIABILITY OR RESPONSIBILITY FOR THE USE OF THIS SOFTWARE.`**\n",
        "\n",
        "`This software is for research purposes only and has not been approved for clinical use.`\n",
        "\n",
        "`Software has not been reviewed or approved by the Food and Drug Administration, and is for non-clinical, IRB-approved Research Use Only. In no event shall data or images generated through the use of the Software be used in the provision of patient care.`\n",
        "  \n",
        "`YOU MAY NOT DISTRIBUTE COPIES of this software, or copies of software derived from this software, to others outside your organization without specific prior written permission from the CERR development team except where noted for specific software products.`\n",
        "\n",
        "`All Technology and technical data delivered under this Agreement are subject to US export control laws and may be subject to export or import regulations in other countries. You agree to comply strictly with all such laws and regulations and acknowledge that you have the responsibility to obtain\n",
        "such licenses to export, re-export, or import as may be required after delivery to you.`\n",
        "\n",
        "**`You may publish papers and books using results produced using software provided you cite the following`**:\n",
        "  \n",
        "  * **AI model**: https://doi.org/10.48550/arXiv.1909.05054\n",
        "  * **CERR model library**: https://doi.org/10.1016/j.ejmp.2020.04.011\n",
        "\n"
      ]
    },
    {
      "cell_type": "markdown",
      "metadata": {
        "id": "35nEDWKTg5c1"
      },
      "source": [
        "# Downloads"
      ]
    },
    {
      "cell_type": "markdown",
      "metadata": {
        "id": "DsKXYI-dsgcK"
      },
      "source": [
        "### Install ***pyCERR***\n",
        "\n",
        "pyCERR handles data import/export, pre- and post-processing transformations for this auto-segmentation model."
      ]
    },
    {
      "cell_type": "code",
      "source": [
        "%%capture\n",
        "!pip install \"pyCERR[napari] @ git+https://github.com/cerr/pyCERR.git@testing\""
      ],
      "metadata": {
        "id": "mSoC0TDuiLjD"
      },
      "execution_count": null,
      "outputs": []
    },
    {
      "cell_type": "markdown",
      "metadata": {
        "id": "mP6FHznIg7Yd"
      },
      "source": [
        "\n",
        "## Prepare planning CTs (DICOM)"
      ]
    },
    {
      "cell_type": "code",
      "source": [
        "import os\n",
        "workDir = r'/content' # For Colab"
      ],
      "metadata": {
        "id": "FYaSj6fcqqxZ"
      },
      "execution_count": null,
      "outputs": []
    },
    {
      "cell_type": "markdown",
      "source": [
        " ### This demo uses the sample head & neck CT dataset distributed with pyCERR."
      ],
      "metadata": {
        "id": "jFRdE2wVp31M"
      }
    },
    {
      "cell_type": "code",
      "execution_count": null,
      "metadata": {
        "id": "CWaGs8LqhZTD"
      },
      "outputs": [],
      "source": [
        "inputDicomPath = '/usr/local/lib/python3.10/dist-packages/cerr/datasets/sample_ct/head_and_neck'"
      ]
    },
    {
      "cell_type": "markdown",
      "source": [
        "### Alternatives\n",
        "\n",
        " Uncomment the following cell to download data from user-specified ***dataUrl*** to ***dataDownloadDir***.\n",
        "\n",
        "See also: [demo notebook](github.com/cerr/pyCERR-Notebooks/download_data_from_xnat.ipynb) for downloading data from XNAT."
      ],
      "metadata": {
        "id": "zB-PJ6IPTZRl"
      }
    },
    {
      "cell_type": "code",
      "execution_count": null,
      "metadata": {
        "id": "l2cIR2Swg_84"
      },
      "outputs": [],
      "source": [
        "# dataUrl = 'http://path.to/data'\n",
        "# dataDownloadDir = os.path.join(workDir, 'sampleData')\n",
        "# os.makedirs(dataDownloadDir, exist_ok=True)\n",
        "# ! wget -O sampleData.gz -L {dataUrl}\n",
        "# ! tar xf sampleData.gz -C {dataDownloadDir}\n",
        "# ! rm sampleData.gz\n",
        "\n",
        "# #Paths to input data\n",
        "# inputDicomPath = os.path.join(dataDownloadDir,'your_dir_name_here')  # Replace with apropriate path to your dataset"
      ]
    },
    {
      "cell_type": "markdown",
      "metadata": {
        "id": "VSvE1KsTj9do"
      },
      "source": [
        "### Define paths to input DICOM directory, desired output directory, and a session directory to store temporary files during model execution"
      ]
    },
    {
      "cell_type": "code",
      "execution_count": null,
      "metadata": {
        "id": "iHbUWoUEj1A2"
      },
      "outputs": [],
      "source": [
        "# Paths to conda env with pre-trained models\n",
        "outputDicomPath = os.path.join(workDir, 'AIoutput')\n",
        "sessionPath = os.path.join(workDir, 'temp')\n",
        "\n",
        "if not os.path.exists(outputDicomPath):\n",
        "  os.mkdir(outputDicomPath)\n",
        "\n",
        "if not os.path.exists(sessionPath):\n",
        "  os.mkdir(sessionPath)"
      ]
    },
    {
      "cell_type": "markdown",
      "source": [
        "## Download pre-trained model, inference script, and packaged conda evnironment to ***scriptInstallDir***\n"
      ],
      "metadata": {
        "id": "FC5pCpVa65lK"
      }
    },
    {
      "cell_type": "code",
      "source": [
        "%%capture\n",
        "\n",
        "# Download model installer\n",
        "os.chdir(workDir)\n",
        "!git clone https://github.com/cerr/model_installer.git\n",
        "os.chdir(os.path.join(workDir,'model_installer'))\n",
        "\n",
        "# Install CT HN OAR model\n",
        "!./installer.sh\n",
        "modelOpt = '6'  # CT_HeadAndNeck_OARs\n",
        "pythonOpt = 'C' # Download packaged Conda environment\n",
        "\n",
        "! source ./installer.sh -m {modelOpt} -d {workDir} -p {pythonOpt}"
      ],
      "metadata": {
        "id": "32VHeXVxTmt6"
      },
      "execution_count": null,
      "outputs": []
    },
    {
      "cell_type": "code",
      "source": [
        "# Location of inference script\n",
        "scriptInstallDir = os.path.join(workDir, 'CT_HeadAndNeck_OARs')\n",
        "scriptPath = os.path.join(scriptInstallDir,\n",
        "                         'model_wrapper',\n",
        "                         'run_inference_nii.py')\n",
        "\n",
        "# Location of Conda archive\n",
        "condaEnvPath = os.path.join(scriptInstallDir, 'conda-pack')\n",
        "\n",
        "# Location of activation script for Conda environment\n",
        "activateScript = os.path.join(condaEnvPath,'bin','activate')"
      ],
      "metadata": {
        "id": "xuDuWRX9T1Co"
      },
      "execution_count": null,
      "outputs": []
    },
    {
      "cell_type": "markdown",
      "metadata": {
        "id": "sfcIIiLQsgcM"
      },
      "source": [
        "# Data processing"
      ]
    },
    {
      "cell_type": "markdown",
      "metadata": {
        "id": "rSxnA1zSHTS_"
      },
      "source": [
        "## Pre-processing\n",
        "\n",
        "### `processInputData`: Identify input scan, resample in-plane to 1mm x 1mm. Next,  crop to patient outline and resize the resulting region in-plane by to 256 x 256 voxels by padding with zeros"
      ]
    },
    {
      "cell_type": "code",
      "execution_count": null,
      "metadata": {
        "id": "HfJd7nySHUJJ"
      },
      "outputs": [],
      "source": [
        "import numpy as np\n",
        "\n",
        "import cerr\n",
        "from cerr import plan_container as pc\n",
        "from cerr.utils.ai_pipeline import getScanNumFromIdentifier\n",
        "from cerr.dataclasses import scan\n",
        "from cerr.radiomics.preprocess import getResampledGrid, imgResample3D\n",
        "from cerr.utils.mask import computeBoundingBox, getPatientOutline\n",
        "from cerr.utils.image_proc import resizeScanAndMask\n",
        "\n",
        "def processInputData(planC):\n",
        "\n",
        "  # Processing parameters\n",
        "  modality = 'CT'\n",
        "  identifier = {'imageType':'CT SCAN'}\n",
        "\n",
        "  gridType = 'center'\n",
        "  resampMethod = 'sitkBSpline'\n",
        "  outputResV = [0.1, 0.1, 0]  #Output res: 1mm x 1mm in-plane\n",
        "\n",
        "  resizeMethod = 'pad2d'\n",
        "  outSizeV = [256,256]\n",
        "  inputMask3M = None\n",
        "\n",
        "  outlineStructName = 'outline'\n",
        "  intensityThreshold = -400   #Air intensity for outline detection\n",
        "\n",
        "  #--------------------------------------------------\n",
        "  #          Extract input scan\n",
        "  #---------------------------------------------------\n",
        "  # Get scan array\n",
        "  scanNum = getScanNumFromIdentifier(identifier, planC)[0]\n",
        "  xValsV, yValsV, zValsV = planC.scan[scanNum].getScanXYZVals()\n",
        "  scan3M = planC.scan[scanNum].getScanArray()\n",
        "\n",
        "  #--------------------------------------------------\n",
        "  #          Process input scan\n",
        "  #---------------------------------------------------\n",
        "  # 1. Resample\n",
        "  [xResampleV,yResampleV,zResampleV] = getResampledGrid(outputResV,\n",
        "                                                        xValsV, yValsV, zValsV,\\\n",
        "                                                        gridType)\n",
        "  resampScan3M = imgResample3D(scan3M,\n",
        "                               xValsV, yValsV, zValsV,\\\n",
        "                               xResampleV, yResampleV, zResampleV,\\\n",
        "                               resampMethod, inPlane=True)\n",
        "\n",
        "  resampleGridS = [xResampleV, yResampleV, zResampleV]\n",
        "  planC = pc.importScanArray(resampScan3M,\n",
        "                             resampleGridS[0], resampleGridS[1], resampleGridS[2],\\\n",
        "                             modality, scanNum, planC)\n",
        "  resampleScanNum = len(planC.scan) - 1\n",
        "\n",
        "  # 2. Extract patient outline\n",
        "  replaceStrNum = None\n",
        "  outline3M = getPatientOutline(resampScan3M, intensityThreshold)\n",
        "  resampSizeV = outline3M.shape\n",
        "  planC = pc.importStructureMask(outline3M, scanNum,\n",
        "                                 outlineStructName,\n",
        "                                 planC, replaceStrNum)\n",
        "\n",
        "  # 3. Crop to patient outline on each slice\n",
        "  sumSlices = np.sum(outline3M, axis=(0, 1))\n",
        "  validSlicesV = np.where(sumSlices > 0)[0]\n",
        "  numSlcs = len(validSlicesV)\n",
        "  limitsM = np.zeros((numSlcs,4))\n",
        "\n",
        "  for slc in range(numSlcs):\n",
        "    minr, maxr, minc, maxc, _, _, _ = computeBoundingBox(\\\n",
        "                                               outline3M[:,:,validSlicesV[slc]],\n",
        "                                               is2DFlag=True)\n",
        "    limitsM[slc,:] = [minr, maxr, minc, maxc]\n",
        "\n",
        "  # 4. Resize to 256 x 256 in-plane\n",
        "  resampSlc3M = resampScan3M[:,:,validSlicesV]\n",
        "  slcGridS = (resampleGridS[0], resampleGridS[1], resampleGridS[2][validSlicesV])\n",
        "  procScan3M, maskOut4M, resizeGridS = resizeScanAndMask(resampSlc3M,\n",
        "                                                         inputMask3M,\n",
        "                                                         slcGridS,\n",
        "                                                         outSizeV,\n",
        "                                                         resizeMethod,\n",
        "                                                         limitsM=limitsM)\n",
        "  planC = pc.importScanArray(procScan3M,\n",
        "                             resizeGridS[0], resizeGridS[1], resizeGridS[2],\\\n",
        "                             modality, scanNum, planC)\n",
        "  procScanNum = len(planC.scan) - 1\n",
        "\n",
        "  scanList = [scanNum, resampleScanNum, procScanNum]\n",
        "\n",
        "  return scanList, validSlicesV, resizeGridS, limitsM, planC"
      ]
    },
    {
      "cell_type": "markdown",
      "metadata": {
        "id": "C1KHjP1LsgcO"
      },
      "source": [
        "\n",
        "## Post-processing\n",
        "\n",
        "### `postProcAndImportSeg`: Import label maps to planC and filter to retain only largest connected component."
      ]
    },
    {
      "cell_type": "code",
      "execution_count": null,
      "metadata": {
        "id": "FtPOzqWQsgcP"
      },
      "outputs": [],
      "source": [
        "# Map output labels to structure names\n",
        "strToLabelMap = {1:\"Left Parotid\", 2:\"Right Parotid\", 3:\"Left Submandible\",\\\n",
        "                 4:\"Right Submandible\", 7:\"Mandible\", 8:\"Spinal cord\",\\\n",
        "                 9:\"Brain stem\", 10:\"Oral cavity\"}\n",
        "outputStrLabels = list(strToLabelMap.keys())\n",
        "outputStrNames = list(strToLabelMap.values())"
      ]
    },
    {
      "cell_type": "code",
      "execution_count": null,
      "metadata": {
        "id": "W_GjRVWtsgcP"
      },
      "outputs": [],
      "source": [
        "#Import label map to CERR\n",
        "import glob\n",
        "import SimpleITK as sitk\n",
        "from cerr.dataclasses import structure\n",
        "from cerr.contour import rasterseg as rs\n",
        "\n",
        "def postProcAndImportSeg(outputDir, scanList, outSlicesV, resizeGridS,\n",
        "                         limitsM, planC):\n",
        "\n",
        "\n",
        "  origScanNum = scanList[0]\n",
        "  resampScanNum = scanList[1]\n",
        "  procScanNum = scanList[2]\n",
        "  numStrOrig = len(planC.structure)\n",
        "\n",
        "  #--------------------------------------------------\n",
        "  #              Read AI-generated mask\n",
        "  #---------------------------------------------------\n",
        "  niiGlob = glob.glob(os.path.join(outputDir,'*.nii.gz'))\n",
        "  print('Importing ' + niiGlob[0]+'...')\n",
        "  outputMask4M = sitk.ReadImage(os.path.join(outputDir,niiGlob[0]))\n",
        "  outputMask4M = np.moveaxis(sitk.GetArrayFromImage(outputMask4M),0,2)\n",
        "\n",
        "  #--------------------------------------------------\n",
        "  #      Undo pre-processing transformations\n",
        "  #---------------------------------------------------\n",
        "  #1. Undo resizing\n",
        "  outputScan3M = None\n",
        "  method = 'unpad2d'\n",
        "  resampSizeV = planC.scan[resampScanNum].getScanSize()\n",
        "  resampOutSizeV = [resampSizeV[0], resampSizeV[1], len(outSlicesV)]\n",
        "  print('O/p mask shape')\n",
        "  print(outputMask4M.shape)\n",
        "\n",
        "  _, unPadMask4M, unPadGridS = resizeScanAndMask(outputScan3M,\n",
        "                                                outputMask4M,\n",
        "                                                resizeGridS,\n",
        "                                                resampOutSizeV,\n",
        "                                                method,\n",
        "                                                limitsM=limitsM)\n",
        "  #2. Undo outline crop\n",
        "  print('Undo crop')\n",
        "  resampMask4M = np.full((resampSizeV[0], resampSizeV[1],\n",
        "                          resampSizeV[2], unPadMask4M.shape[3]), 0)\n",
        "  resampMask4M[:,:,outSlicesV,:] = unPadMask4M\n",
        "\n",
        "  # Extract binary masks and retain largest connected component\n",
        "  numComponents = 1\n",
        "  replaceStrNum = None\n",
        "  procStrV = []\n",
        "  # Loop over labels\n",
        "  for labelIdx in range(len(strToLabelMap)):\n",
        "\n",
        "    # Import mask to processed scan\n",
        "    strName = outputStrNames[labelIdx]\n",
        "    maskIdx = outputStrLabels[labelIdx]-1\n",
        "    outputMask = resampMask4M[:, :, :, maskIdx]\n",
        "    planC = pc.importStructureMask(outputMask, resampScanNum,\n",
        "                                   strName, planC, replaceStrNum)\n",
        "    procStr = len(planC.structure)-1\n",
        "    procStrV.append(procStr)\n",
        "\n",
        "    # Copy to original scan\n",
        "    planC = structure.copyToScan(procStr, origScanNum, planC)\n",
        "    scanStr = len(planC.structure) - 1\n",
        "\n",
        "    # Post-process and replace input structure in planC\n",
        "    procMask3M = structure.getLargestConnComps(scanStr, numComponents,\n",
        "                                               planC, saveFlag=True,\n",
        "                                               replaceFlag=True,\n",
        "                                               procSructName=strName)\n",
        "    del planC.structure[procStr]\n",
        "\n",
        "\n",
        "  return planC, procStrV"
      ]
    },
    {
      "cell_type": "markdown",
      "metadata": {
        "id": "zj7t-J4isgcQ"
      },
      "source": [
        "# Segment OARs"
      ]
    },
    {
      "cell_type": "markdown",
      "metadata": {
        "id": "_XVVLPjBkYI0"
      },
      "source": [
        "## Apply AI model  to all MR scans\n",
        "\n",
        "### located in ***inputDicomPath*** and write auto-segmentation results to ***outputDicomPath***"
      ]
    },
    {
      "cell_type": "code",
      "execution_count": null,
      "metadata": {
        "id": "WCuUi5D6sgcS"
      },
      "outputs": [],
      "source": [
        "%%capture\n",
        "import subprocess\n",
        "import numpy as np\n",
        "\n",
        "from cerr.dataclasses import scan as cerrScn\n",
        "from cerr.dcm_export import rtstruct_iod\n",
        "from cerr.utils.ai_pipeline import createSessionDir\n",
        "\n",
        "\n",
        "# Loop over DICOM directories\n",
        "fileList = os.listdir(inputDicomPath)\n",
        "numFiles = len(fileList)\n",
        "modality = 'CT'\n",
        "\n",
        "for iFile in range(numFiles):\n",
        "\n",
        "    inputFilename = fileList[iFile]\n",
        "    dcmDir = os.path.join(inputDicomPath, inputFilename)\n",
        "\n",
        "    # Create session dir to store temporary data\n",
        "    modInputPath, modOutputPath = createSessionDir(sessionPath,\n",
        "                                                   inputDicomPath)\n",
        "\n",
        "    # Import DICOM scan to planC\n",
        "    planC = pc.loadDcmDir(dcmDir)\n",
        "    scanList, validSlicesV, procGridS, limitsM, planC = processInputData(planC)\n",
        "\n",
        "    # Export processed scan to NIfTI\n",
        "    origScanNum = scanList[0]\n",
        "    procScanNum = scanList[2]\n",
        "    numExistingStructs = len(planC.structure)\n",
        "    scanFilename = os.path.join(modInputPath,\n",
        "                                f\"{inputFilename}_scan_3D.nii.gz\")\n",
        "    planC.scan[procScanNum].saveNii(scanFilename)\n",
        "\n",
        "    # Apply model\n",
        "    subprocess.run(f\"source {activateScript} && python {scriptPath} \\\n",
        "                  {modInputPath} {modOutputPath}\", \\\n",
        "                  capture_output=False, shell=True, executable=\"/bin/bash\")\n",
        "\n",
        "    # Import results to planC\n",
        "    planC, procStrV = postProcAndImportSeg(modOutputPath, scanList,\n",
        "                                           validSlicesV, procGridS,\n",
        "                                           limitsM, planC)\n",
        "\n",
        "    # Export segmentations to DICOM\n",
        "    newNumStructs = len(planC.structure)\n",
        "    structFileName = inputFilename + '_AI_seg.dcm'\n",
        "    structFilePath = os.path.join(outputDicomPath, structFileName)\n",
        "    seriesDescription = \"AI Generated\"\n",
        "    exportOpts = {'seriesDescription': seriesDescription}\n",
        "\n",
        "    structNumV = np.arange(numExistingStructs, newNumStructs)\n",
        "    indOrigV = np.array([cerrScn.getScanNumFromUID(planC.structure[structNum].assocScanUID,\\\n",
        "                        planC) for structNum in structNumV], dtype=int)\n",
        "    structsToExportV = structNumV[indOrigV == origScanNum]\n",
        "    rtstruct_iod.create(structsToExportV, structFilePath, planC, exportOpts)"
      ]
    },
    {
      "cell_type": "markdown",
      "metadata": {
        "id": "Kugws3KBl4MK"
      },
      "source": [
        "## **Optional**: Uncomment the following to download the output segmentations to your workspace bucket."
      ]
    },
    {
      "cell_type": "code",
      "execution_count": null,
      "metadata": {
        "id": "_nkTBkijl23J"
      },
      "outputs": [],
      "source": [
        "# workspaceBucket = os.environ['WORKSPACE_BUCKET']\n",
        "# !gcloud storage cp -r {outputDicomPath} {workspaceBucket}"
      ]
    },
    {
      "cell_type": "markdown",
      "metadata": {
        "id": "iLzFp-l_sgcT"
      },
      "source": [
        "# Display results"
      ]
    },
    {
      "cell_type": "markdown",
      "metadata": {
        "id": "L8FTwNqhsgcT"
      },
      "source": [
        "## Overlay AI segmentations on scan for visualization using ***Matplotlib***\n",
        "\n",
        "Note: This example displays the last segmented dataset by default.    \n",
        "Load the appropriate pyCERR archive to `planC` to view results for desired dataset."
      ]
    },
    {
      "cell_type": "code",
      "source": [
        "from cerr.viewer import showMplNb\n",
        "\n",
        "showMplNb(planC=planC, scan_nums=origScanNum,\n",
        "          struct_nums=structsToExportV,\n",
        "          windowCenter=50, windowWidth=450)"
      ],
      "metadata": {
        "colab": {
          "base_uri": "https://localhost:8080/",
          "height": 438,
          "referenced_widgets": [
            "08d7f62c2be94cae9c9c20935f470ed2",
            "5dce7572b1b44c0f8fdd03d9eab76fca",
            "bc504fc4b465471c8e391003041f91b8",
            "c55fa862f0e247f5a5a4c2adaf7b7c5c",
            "eedfee878e934141bba03edbbd687960",
            "77830e05c4014384891391262404cf7c",
            "c97efd962ca94c76a464933e329f5bc7",
            "e7b1fdd6415e48ff8da5df0799b7ca1f",
            "ddaaa609de0143a3b98397f5e7ebedbd",
            "0e24f245efbf436b9f4ff8ecc0627d44",
            "c0ffc166a216425ebee21f2fd054c71c",
            "029a509c643b4eb08b19ce066c890850",
            "cbf14129d7524d8d9aae6ccb45450c50"
          ]
        },
        "id": "d9JsEf1SQNcr",
        "outputId": "798634ab-b332-4dfe-d879-fd5168ec6f4a"
      },
      "execution_count": null,
      "outputs": [
        {
          "output_type": "display_data",
          "data": {
            "text/plain": [
              "HBox(children=(Dropdown(description='view', options=('Axial', 'Sagittal', 'Coronal'), value='Axial'), IntSlide…"
            ],
            "application/vnd.jupyter.widget-view+json": {
              "version_major": 2,
              "version_minor": 0,
              "model_id": "08d7f62c2be94cae9c9c20935f470ed2"
            }
          },
          "metadata": {}
        },
        {
          "output_type": "display_data",
          "data": {
            "text/plain": [
              "Output()"
            ],
            "application/vnd.jupyter.widget-view+json": {
              "version_major": 2,
              "version_minor": 0,
              "model_id": "029a509c643b4eb08b19ce066c890850"
            }
          },
          "metadata": {}
        }
      ]
    }
  ],
  "metadata": {
    "colab": {
      "provenance": [],
      "gpuType": "T4"
    },
    "kernelspec": {
      "display_name": "Python 3",
      "name": "python3"
    },
    "language_info": {
      "codemirror_mode": {
        "name": "ipython",
        "version": 3
      },
      "file_extension": ".py",
      "mimetype": "text/x-python",
      "name": "python",
      "nbconvert_exporter": "python",
      "pygments_lexer": "ipython3",
      "version": "3.11.9"
    },
    "toc": {
      "base_numbering": 1,
      "nav_menu": {},
      "number_sections": true,
      "sideBar": true,
      "skip_h1_title": false,
      "title_cell": "Table of Contents",
      "title_sidebar": "Contents",
      "toc_cell": false,
      "toc_position": {},
      "toc_section_display": true,
      "toc_window_display": false
    },
    "widgets": {
      "application/vnd.jupyter.widget-state+json": {
        "08d7f62c2be94cae9c9c20935f470ed2": {
          "model_module": "@jupyter-widgets/controls",
          "model_name": "HBoxModel",
          "model_module_version": "1.5.0",
          "state": {
            "_dom_classes": [],
            "_model_module": "@jupyter-widgets/controls",
            "_model_module_version": "1.5.0",
            "_model_name": "HBoxModel",
            "_view_count": null,
            "_view_module": "@jupyter-widgets/controls",
            "_view_module_version": "1.5.0",
            "_view_name": "HBoxView",
            "box_style": "",
            "children": [
              "IPY_MODEL_5dce7572b1b44c0f8fdd03d9eab76fca",
              "IPY_MODEL_bc504fc4b465471c8e391003041f91b8",
              "IPY_MODEL_c55fa862f0e247f5a5a4c2adaf7b7c5c"
            ],
            "layout": "IPY_MODEL_eedfee878e934141bba03edbbd687960"
          }
        },
        "5dce7572b1b44c0f8fdd03d9eab76fca": {
          "model_module": "@jupyter-widgets/controls",
          "model_name": "DropdownModel",
          "model_module_version": "1.5.0",
          "state": {
            "_dom_classes": [],
            "_model_module": "@jupyter-widgets/controls",
            "_model_module_version": "1.5.0",
            "_model_name": "DropdownModel",
            "_options_labels": [
              "Axial",
              "Sagittal",
              "Coronal"
            ],
            "_view_count": null,
            "_view_module": "@jupyter-widgets/controls",
            "_view_module_version": "1.5.0",
            "_view_name": "DropdownView",
            "description": "view",
            "description_tooltip": null,
            "disabled": false,
            "index": 0,
            "layout": "IPY_MODEL_77830e05c4014384891391262404cf7c",
            "style": "IPY_MODEL_c97efd962ca94c76a464933e329f5bc7"
          }
        },
        "bc504fc4b465471c8e391003041f91b8": {
          "model_module": "@jupyter-widgets/controls",
          "model_name": "IntSliderModel",
          "model_module_version": "1.5.0",
          "state": {
            "_dom_classes": [],
            "_model_module": "@jupyter-widgets/controls",
            "_model_module_version": "1.5.0",
            "_model_name": "IntSliderModel",
            "_view_count": null,
            "_view_module": "@jupyter-widgets/controls",
            "_view_module_version": "1.5.0",
            "_view_name": "IntSliderView",
            "continuous_update": true,
            "description": "slcNum",
            "description_tooltip": null,
            "disabled": false,
            "layout": "IPY_MODEL_e7b1fdd6415e48ff8da5df0799b7ca1f",
            "max": 90,
            "min": 1,
            "orientation": "horizontal",
            "readout": true,
            "readout_format": "d",
            "step": 1,
            "style": "IPY_MODEL_ddaaa609de0143a3b98397f5e7ebedbd",
            "value": 45
          }
        },
        "c55fa862f0e247f5a5a4c2adaf7b7c5c": {
          "model_module": "@jupyter-widgets/controls",
          "model_name": "FloatSliderModel",
          "model_module_version": "1.5.0",
          "state": {
            "_dom_classes": [],
            "_model_module": "@jupyter-widgets/controls",
            "_model_module_version": "1.5.0",
            "_model_name": "FloatSliderModel",
            "_view_count": null,
            "_view_module": "@jupyter-widgets/controls",
            "_view_module_version": "1.5.0",
            "_view_name": "FloatSliderView",
            "continuous_update": true,
            "description": "doseAlpha",
            "description_tooltip": null,
            "disabled": false,
            "layout": "IPY_MODEL_0e24f245efbf436b9f4ff8ecc0627d44",
            "max": 1,
            "min": 0,
            "orientation": "horizontal",
            "readout": true,
            "readout_format": ".2f",
            "step": 0.02,
            "style": "IPY_MODEL_c0ffc166a216425ebee21f2fd054c71c",
            "value": 0.5
          }
        },
        "eedfee878e934141bba03edbbd687960": {
          "model_module": "@jupyter-widgets/base",
          "model_name": "LayoutModel",
          "model_module_version": "1.2.0",
          "state": {
            "_model_module": "@jupyter-widgets/base",
            "_model_module_version": "1.2.0",
            "_model_name": "LayoutModel",
            "_view_count": null,
            "_view_module": "@jupyter-widgets/base",
            "_view_module_version": "1.2.0",
            "_view_name": "LayoutView",
            "align_content": null,
            "align_items": null,
            "align_self": null,
            "border": null,
            "bottom": null,
            "display": null,
            "flex": null,
            "flex_flow": null,
            "grid_area": null,
            "grid_auto_columns": null,
            "grid_auto_flow": null,
            "grid_auto_rows": null,
            "grid_column": null,
            "grid_gap": null,
            "grid_row": null,
            "grid_template_areas": null,
            "grid_template_columns": null,
            "grid_template_rows": null,
            "height": null,
            "justify_content": null,
            "justify_items": null,
            "left": null,
            "margin": null,
            "max_height": null,
            "max_width": null,
            "min_height": null,
            "min_width": null,
            "object_fit": null,
            "object_position": null,
            "order": null,
            "overflow": null,
            "overflow_x": null,
            "overflow_y": null,
            "padding": null,
            "right": null,
            "top": null,
            "visibility": null,
            "width": null
          }
        },
        "77830e05c4014384891391262404cf7c": {
          "model_module": "@jupyter-widgets/base",
          "model_name": "LayoutModel",
          "model_module_version": "1.2.0",
          "state": {
            "_model_module": "@jupyter-widgets/base",
            "_model_module_version": "1.2.0",
            "_model_name": "LayoutModel",
            "_view_count": null,
            "_view_module": "@jupyter-widgets/base",
            "_view_module_version": "1.2.0",
            "_view_name": "LayoutView",
            "align_content": null,
            "align_items": null,
            "align_self": null,
            "border": null,
            "bottom": null,
            "display": null,
            "flex": null,
            "flex_flow": null,
            "grid_area": null,
            "grid_auto_columns": null,
            "grid_auto_flow": null,
            "grid_auto_rows": null,
            "grid_column": null,
            "grid_gap": null,
            "grid_row": null,
            "grid_template_areas": null,
            "grid_template_columns": null,
            "grid_template_rows": null,
            "height": null,
            "justify_content": null,
            "justify_items": null,
            "left": null,
            "margin": null,
            "max_height": null,
            "max_width": null,
            "min_height": null,
            "min_width": null,
            "object_fit": null,
            "object_position": null,
            "order": null,
            "overflow": null,
            "overflow_x": null,
            "overflow_y": null,
            "padding": null,
            "right": null,
            "top": null,
            "visibility": null,
            "width": null
          }
        },
        "c97efd962ca94c76a464933e329f5bc7": {
          "model_module": "@jupyter-widgets/controls",
          "model_name": "DescriptionStyleModel",
          "model_module_version": "1.5.0",
          "state": {
            "_model_module": "@jupyter-widgets/controls",
            "_model_module_version": "1.5.0",
            "_model_name": "DescriptionStyleModel",
            "_view_count": null,
            "_view_module": "@jupyter-widgets/base",
            "_view_module_version": "1.2.0",
            "_view_name": "StyleView",
            "description_width": ""
          }
        },
        "e7b1fdd6415e48ff8da5df0799b7ca1f": {
          "model_module": "@jupyter-widgets/base",
          "model_name": "LayoutModel",
          "model_module_version": "1.2.0",
          "state": {
            "_model_module": "@jupyter-widgets/base",
            "_model_module_version": "1.2.0",
            "_model_name": "LayoutModel",
            "_view_count": null,
            "_view_module": "@jupyter-widgets/base",
            "_view_module_version": "1.2.0",
            "_view_name": "LayoutView",
            "align_content": null,
            "align_items": null,
            "align_self": null,
            "border": null,
            "bottom": null,
            "display": null,
            "flex": null,
            "flex_flow": null,
            "grid_area": null,
            "grid_auto_columns": null,
            "grid_auto_flow": null,
            "grid_auto_rows": null,
            "grid_column": null,
            "grid_gap": null,
            "grid_row": null,
            "grid_template_areas": null,
            "grid_template_columns": null,
            "grid_template_rows": null,
            "height": null,
            "justify_content": null,
            "justify_items": null,
            "left": null,
            "margin": null,
            "max_height": null,
            "max_width": null,
            "min_height": null,
            "min_width": null,
            "object_fit": null,
            "object_position": null,
            "order": null,
            "overflow": null,
            "overflow_x": null,
            "overflow_y": null,
            "padding": null,
            "right": null,
            "top": null,
            "visibility": null,
            "width": null
          }
        },
        "ddaaa609de0143a3b98397f5e7ebedbd": {
          "model_module": "@jupyter-widgets/controls",
          "model_name": "SliderStyleModel",
          "model_module_version": "1.5.0",
          "state": {
            "_model_module": "@jupyter-widgets/controls",
            "_model_module_version": "1.5.0",
            "_model_name": "SliderStyleModel",
            "_view_count": null,
            "_view_module": "@jupyter-widgets/base",
            "_view_module_version": "1.2.0",
            "_view_name": "StyleView",
            "description_width": "",
            "handle_color": null
          }
        },
        "0e24f245efbf436b9f4ff8ecc0627d44": {
          "model_module": "@jupyter-widgets/base",
          "model_name": "LayoutModel",
          "model_module_version": "1.2.0",
          "state": {
            "_model_module": "@jupyter-widgets/base",
            "_model_module_version": "1.2.0",
            "_model_name": "LayoutModel",
            "_view_count": null,
            "_view_module": "@jupyter-widgets/base",
            "_view_module_version": "1.2.0",
            "_view_name": "LayoutView",
            "align_content": null,
            "align_items": null,
            "align_self": null,
            "border": null,
            "bottom": null,
            "display": null,
            "flex": null,
            "flex_flow": null,
            "grid_area": null,
            "grid_auto_columns": null,
            "grid_auto_flow": null,
            "grid_auto_rows": null,
            "grid_column": null,
            "grid_gap": null,
            "grid_row": null,
            "grid_template_areas": null,
            "grid_template_columns": null,
            "grid_template_rows": null,
            "height": null,
            "justify_content": null,
            "justify_items": null,
            "left": null,
            "margin": null,
            "max_height": null,
            "max_width": null,
            "min_height": null,
            "min_width": null,
            "object_fit": null,
            "object_position": null,
            "order": null,
            "overflow": null,
            "overflow_x": null,
            "overflow_y": null,
            "padding": null,
            "right": null,
            "top": null,
            "visibility": null,
            "width": null
          }
        },
        "c0ffc166a216425ebee21f2fd054c71c": {
          "model_module": "@jupyter-widgets/controls",
          "model_name": "SliderStyleModel",
          "model_module_version": "1.5.0",
          "state": {
            "_model_module": "@jupyter-widgets/controls",
            "_model_module_version": "1.5.0",
            "_model_name": "SliderStyleModel",
            "_view_count": null,
            "_view_module": "@jupyter-widgets/base",
            "_view_module_version": "1.2.0",
            "_view_name": "StyleView",
            "description_width": "",
            "handle_color": null
          }
        },
        "029a509c643b4eb08b19ce066c890850": {
          "model_module": "@jupyter-widgets/output",
          "model_name": "OutputModel",
          "model_module_version": "1.0.0",
          "state": {
            "_dom_classes": [],
            "_model_module": "@jupyter-widgets/output",
            "_model_module_version": "1.0.0",
            "_model_name": "OutputModel",
            "_view_count": null,
            "_view_module": "@jupyter-widgets/output",
            "_view_module_version": "1.0.0",
            "_view_name": "OutputView",
            "layout": "IPY_MODEL_cbf14129d7524d8d9aae6ccb45450c50",
            "msg_id": "",
            "outputs": [
              {
                "output_type": "display_data",
                "data": {
                  "text/plain": "<Figure size 640x480 with 1 Axes>",
                  "image/png": "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\n"
                },
                "metadata": {}
              }
            ]
          }
        },
        "cbf14129d7524d8d9aae6ccb45450c50": {
          "model_module": "@jupyter-widgets/base",
          "model_name": "LayoutModel",
          "model_module_version": "1.2.0",
          "state": {
            "_model_module": "@jupyter-widgets/base",
            "_model_module_version": "1.2.0",
            "_model_name": "LayoutModel",
            "_view_count": null,
            "_view_module": "@jupyter-widgets/base",
            "_view_module_version": "1.2.0",
            "_view_name": "LayoutView",
            "align_content": null,
            "align_items": null,
            "align_self": null,
            "border": null,
            "bottom": null,
            "display": null,
            "flex": null,
            "flex_flow": null,
            "grid_area": null,
            "grid_auto_columns": null,
            "grid_auto_flow": null,
            "grid_auto_rows": null,
            "grid_column": null,
            "grid_gap": null,
            "grid_row": null,
            "grid_template_areas": null,
            "grid_template_columns": null,
            "grid_template_rows": null,
            "height": null,
            "justify_content": null,
            "justify_items": null,
            "left": null,
            "margin": null,
            "max_height": null,
            "max_width": null,
            "min_height": null,
            "min_width": null,
            "object_fit": null,
            "object_position": null,
            "order": null,
            "overflow": null,
            "overflow_x": null,
            "overflow_y": null,
            "padding": null,
            "right": null,
            "top": null,
            "visibility": null,
            "width": null
          }
        }
      }
    },
    "accelerator": "GPU"
  },
  "nbformat": 4,
  "nbformat_minor": 0
}
