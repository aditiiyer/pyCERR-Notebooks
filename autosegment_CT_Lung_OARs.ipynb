{
  "cells": [
  {
        "cell_type": "markdown",
        "metadata": {
          "id": "view-in-github"
        },
        "source": [
          "<a href=\"https://colab.research.google.com/github/pycerr-notebooks/blob/main/autosegment_CT_Lung_OARs.ipynb\" target=\"_parent\"><img src=\"https://colab.research.google.com/assets/colab-badge.svg\" alt=\"Open In Colab\"/></a>"
        ]
      },
    {
      "cell_type": "markdown",
      "metadata": {
        "id": "kNoydh-RsgcD"
      },
      "source": [
        "# Introduction\n",
        "\n",
        "In this tutorial, we will demonstrate how to apply a pre-trained AI model to segment the OARs on a lung CT scan using pyCERR.  \n",
        "\n",
        "## AI model\n",
        "* The segmentation model was trained and validated on CT scans used for RT planning. It does not work optimally on diagnostic CTs.\n",
        "* The trained model is distributed along with python libraries and other dependencies via a conda package.\n",
        "* The model requires acess to a GPU.\n",
        "\n",
        "### Running the model\n",
        "\n",
        "* Conda packge is location: condaEnvPath: `'/home/jupyter/AImodels/CTLungOARincrMRRN/'`\n",
        "* Inference script location: `os.path.join(condaEnvPath,'CT_LungOAR_incrMRRN/model_wrapper/run_inference_nii.py')`\n",
        "\n",
        "```python\n",
        "python run_inference_nii.py <input_nii_directory> <output_nii_directory>\n",
        "```"
      ]
    },
    {
      "cell_type": "markdown",
      "metadata": {
        "id": "DsKXYI-dsgcK"
      },
      "source": [
        "# Install pyCERR\n",
        "\n",
        "pyCERR is used for data import/export and transformation."
      ]
    },
    {
      "cell_type": "code",
      "execution_count": 0,
      "metadata": {
        "id": "XRGzE5J7sgcL"
      },
      "outputs": [],
      "source": [
        "!pip install git+https://github.com/cerr/pyCERR.git"
      ]
    },
    {
      "cell_type": "markdown",
      "metadata": {
        "id": "pnoZxbKnsgcG"
      },
      "source": [
        "# Download pretrained segmentation model\n",
        "\n"
      ]
    },
    {
      "cell_type": "code",
      "execution_count": 1,
      "metadata": {
        "id": "pUc1tZzbsgcK"
      },
      "outputs": [],
      "source": [
        "# Location of LungOAR model\n",
        "modelDir ='/content/pretrainedModel'\n",
        "\n",
        "# Download packaged environment for the AI model\n",
        "boxLink = 'https://mskcc.box.com/shared/static/xph6atg73tuxmo26ndrajxcm02h85elk.gz'\n",
        "saveFileName = 'ct_lung_oar.tar.gz'\n",
        "\n",
        "!mkdir -p {modelDir}\n",
        "!wget {boxLink} -O {saveFileName}\n",
        "!tar xf {saveFileName} -C {modelDir}\n",
        "!rm {saveFileName}"
      ]
    },
    {
      "cell_type": "markdown",
      "metadata": {
        "id": "sfcIIiLQsgcM"
      },
      "source": [
        "# Functions for data pre- and post-processing"
      ]
    },
    {
      "cell_type": "markdown",
      "metadata": {
        "id": "1m955pAJsgcN"
      },
      "source": [
        "## Identify the input scan and resize slices to 512x512"
      ]
    },
    {
      "cell_type": "code",
      "execution_count": 2,
      "metadata": {
        "id": "FAXBqkTasgcN"
      },
      "outputs": [],
      "source": [
        "import cerr\n",
        "from cerr.dataclasses import structure\n",
        "from cerr.contour import rasterseg as rs\n",
        "from cerr.utils import identifyScan, imageProc\n",
        "\n",
        "def processInputData(planC):\n",
        "\n",
        "  # Identify scan index in  planC\n",
        "  scanIdS = {\"imageType\": \"CT SCAN\"}\n",
        "  matchScanV = identifyScan.getScanNumForIdentifier(scanIdS, planC, False)\n",
        "\n",
        "  # Extract scan\n",
        "  scanNum = matchScanV[0]\n",
        "  scan3M = planC.scan[scanNum].getScanArray()\n",
        "  mask3M = np.empty((0, 0, 0, 0))\n",
        "\n",
        "  # Resize scan and import to planC\n",
        "  inputImgSizeV = np.shape(scan3M)\n",
        "  gridS = planC.scan[scanNum].getScanXYZVals()\n",
        "  outputImgSizeV = [512, 512, inputImgSizeV[2]]\n",
        "  method = 'padorcrop3d'\n",
        "  procScan3M, __, resizeGridS = imageProc.resizeScanAndMask(scan3M, mask3M, gridS, outputImgSizeV, method)\n",
        "\n",
        "  return procScan3M, resizeGridS"
      ]
    },
    {
      "cell_type": "markdown",
      "metadata": {
        "id": "C1KHjP1LsgcO"
      },
      "source": [
        "## Import and refine AI segmentations"
      ]
    },
    {
      "cell_type": "code",
      "execution_count": 3,
      "metadata": {
        "id": "FtPOzqWQsgcP"
      },
      "outputs": [],
      "source": [
        "# Map output labels to structure names\n",
        "\n",
        "strToLabelMap = {1:\"Lung_Left\", 2:\"Lung_Right\", 3:\"Heart\", 4:\"Esophagus\", \\\n",
        "                 5:\"Cord\", 6:\"PBT\"}\n",
        "numLabel = len(strToLabelMap)"
      ]
    },
    {
      "cell_type": "code",
      "execution_count": 4,
      "metadata": {
        "id": "W_GjRVWtsgcP"
      },
      "outputs": [],
      "source": [
        "#Import label map to CERR\n",
        "import glob\n",
        "\n",
        "def postProcAndImportSeg(outputDir,procScanNum,scanNum,planC):\n",
        "  niiGlob = glob.glob(os.path.join(outputDir,'*.nii.gz'))\n",
        "\n",
        "  print('Importing ' + niiGlob[0]+'...')\n",
        "  numStrOrig = len(planC.structure)\n",
        "  planC = pc.load_nii_structure(niiGlob[0], procScanNum, planC, \\\n",
        "                              labels_dict = strToLabelMap)\n",
        "  cpyStrNumV = np.arange(numStrOrig,len(planC.structure))\n",
        "  numComponents = 1\n",
        "  for label in range(numLabel):\n",
        "    # Copy to original scan\n",
        "    planC = structure.copyToScan(cpyStrNumV[label], scanNum, planC)\n",
        "    origStr = len(planC.structure)-1\n",
        "    mask3M = rs.getStrMask(origStr,planC)\n",
        "    # Post-process\n",
        "    procMask3M = imageProc.getLargestConnComps(mask3M,numComponents)\n",
        "    strName =  strToLabelMap[label+1]\n",
        "    planC = pc.import_structure_mask(procMask3M, scanNum, strName, [], planC)\n",
        "    # Delete original\n",
        "    del planC.structure[origStr]\n",
        "\n",
        "  return planC"
      ]
    },
    {
      "cell_type": "markdown",
      "metadata": {
        "id": "zj7t-J4isgcQ"
      },
      "source": [
        "# Segment OARs"
      ]
    },
    {
      "cell_type": "markdown",
      "metadata": {
        "id": "mDB-RjRQsgcQ"
      },
      "source": [
        "## Define I/O paths\n",
        "\n",
        "Specify paths to the DICOM input data, desired output directory, and temporary (session) directory used to store intermediate results."
      ]
    },
    {
      "cell_type": "code",
      "execution_count": 5,
      "metadata": {
        "id": "lzcaNT4SsgcR"
      },
      "outputs": [],
      "source": [
        "import os\n",
        "from cerr import plan_container as pc\n",
        "\n",
        "#Paths to input data and conda env with pre-trained models\n",
        "inputDicomPath = '/content/sampleData/'  # Replace with path to dataset\n",
        "outputDicomPath = '/content/AIoutput/'\n",
        "sessionPath = '/content/temp'\n",
        "condaEnvPath = '/content/pretrainedModel/'\n",
        "\n",
        "if not os.path.exists(outputDicomPath):\n",
        "  os.mkdir(outputDicomPath)\n",
        "\n",
        "# Path to packaged conda environment\n",
        "wrapperPath = os.path.join(condaEnvPath,'CT_LungOAR_incrMRRN', \\\n",
        "                          'model_wrapper','run_inference_nii.py')\n",
        "activateScript = condaEnvPath+'/bin/activate'"
      ]
    },
    {
      "cell_type": "markdown",
      "metadata": {
        "id": "GbB7NyKgsgcR"
      },
      "source": [
        "## Run AI model"
      ]
    },
    {
      "cell_type": "code",
      "execution_count": 6,
      "metadata": {
        "id": "WCuUi5D6sgcS"
      },
      "outputs": [],
      "source": [
        "%%capture\n",
        "import subprocess\n",
        "import numpy as np\n",
        "import cerr\n",
        "from cerr import plan_container as pc\n",
        "from cerr.ai import createSessionDir as cdir\n",
        "from cerr.dcm_export import rtstruct_iod\n",
        "\n",
        "# Loop over pyCERR files\n",
        "fileList = os.listdir(inputDicomPath)\n",
        "numFiles = len(fileList)\n",
        "modality = 'CT'\n",
        "scanNum = 0\n",
        "\n",
        "for iFile in range(numFiles):\n",
        "\n",
        "    dcmDir = os.path.join(inputDicomPath,fileList[iFile])\n",
        "\n",
        "    # Create session dir to store temporary data\n",
        "    modInputPath, modOutputPath = cdir.createSessionDir(sessionPath, inputDicomPath)\n",
        "\n",
        "    # Import DICOM to planC\n",
        "    planC = pc.load_dcm_dir(dcmDir)\n",
        "\n",
        "    # Pre-process data\n",
        "    procScan3M, resizeGridS = processInputData(planC)\n",
        "    planC = pc.import_scan_array(procScan3M, resizeGridS[0], \\\n",
        "            resizeGridS[1], resizeGridS[2], modality, scanNum, planC)\n",
        "    procScanNum = len(planC.scan) - 1\n",
        "\n",
        "    # Export inputs to NIfTI\n",
        "    scanFilename = os.path.join(modInputPath, f\"{fileList[iFile]}_scan_3D.nii.gz\")\n",
        "    planC.scan[procScanNum].save_nii(scanFilename)\n",
        "\n",
        "    # Apply model\n",
        "    subprocess.run(f\"source {activateScript} && python {wrapperPath} \\\n",
        "                  {modInputPath} {modOutputPath}\", \\\n",
        "                  capture_output=False,shell=True,executable=\"/bin/bash\")\n",
        "\n",
        "    # Import results to planC\n",
        "    planC = postProcAndImportSeg(modOutputPath,procScanNum,scanNum,planC)\n",
        "\n",
        "    # Export segmentations to DICOM\n",
        "    structFileName = fileList[iFile]+'_AI_seg.dcm'\n",
        "    structFilePath = os.path.join(outputDicomPath,structFileName)\n",
        "    structNumV = list(np.arange(len(planC.structure)-numLabel,\\\n",
        "                                len(planC.structure)))\n",
        "    seriesDescription = \"AI Generated\"\n",
        "    rtstruct_iod.create(structNumV,structFilePath,planC,seriesDescription)\n"
      ]
    },
    {
      "cell_type": "markdown",
      "metadata": {
        "id": "iLzFp-l_sgcT"
      },
      "source": [
        "# Display results"
      ]
    },
    {
      "cell_type": "markdown",
      "metadata": {
        "id": "L8FTwNqhsgcT"
      },
      "source": [
        "## Display using matplotlib"
      ]
    },
    {
      "cell_type": "code",
      "execution_count": 7,
      "metadata": {
        "colab": {
          "referenced_widgets": [
            "cc37a35a904045c1bfeb1a75b8b0658f",
            "70c61bbc29d9485e8ec87e2f37ceb0e6",
            "62cd7c5b0f4a44c18a2a021649c3a6d3"
          ]
        },
        "id": "jWQD1KeVsgcT",
        "outputId": "59375a64-93ae-4a95-c898-41b7170adde8"
      },
      "outputs": [
        {
          "data": {
            "application/vnd.jupyter.widget-view+json": {
              "model_id": "cc37a35a904045c1bfeb1a75b8b0658f",
              "version_major": 2,
              "version_minor": 0
            },
            "text/plain": [
              "interactive(children=(IntSlider(value=48, description='slcNum', max=144, min=-48), Text(value='axial', descrip…"
            ]
          },
          "metadata": {},
          "output_type": "display_data"
        },
        {
          "data": {
            "application/vnd.jupyter.widget-view+json": {
              "model_id": "70c61bbc29d9485e8ec87e2f37ceb0e6",
              "version_major": 2,
              "version_minor": 0
            },
            "text/plain": [
              "interactive(children=(IntSlider(value=256, description='slcNum', max=768, min=-256), Text(value='sagittal', de…"
            ]
          },
          "metadata": {},
          "output_type": "display_data"
        },
        {
          "data": {
            "application/vnd.jupyter.widget-view+json": {
              "model_id": "62cd7c5b0f4a44c18a2a021649c3a6d3",
              "version_major": 2,
              "version_minor": 0
            },
            "text/plain": [
              "interactive(children=(IntSlider(value=256, description='slcNum', max=768, min=-256), Text(value='coronal', des…"
            ]
          },
          "metadata": {},
          "output_type": "display_data"
        }
      ],
      "source": [
        "from cerr.viewer import showMplNb\n",
        "\n",
        "showMplNb(scanNum, structNumV, planC,\\\n",
        "          windowCenter=-400, windowWidth=2000)"
      ]
    }
  ],
  "metadata": {
    "kernelspec": {
      "display_name": "Python 3",
      "language": "python",
      "name": "python3"
    },
    "language_info": {
      "codemirror_mode": {
        "name": "ipython",
        "version": 3
      },
      "file_extension": ".py",
      "mimetype": "text/x-python",
      "name": "python",
      "nbconvert_exporter": "python",
      "pygments_lexer": "ipython3",
      "version": "3.10.12"
    },
    "toc": {
      "base_numbering": 1,
      "nav_menu": {},
      "number_sections": true,
      "sideBar": true,
      "skip_h1_title": false,
      "title_cell": "Table of Contents",
      "title_sidebar": "Contents",
      "toc_cell": false,
      "toc_position": {},
      "toc_section_display": true,
      "toc_window_display": false
    },
    "colab": {
      "provenance": []
    }
  },
  "nbformat": 4,
  "nbformat_minor": 0
}
