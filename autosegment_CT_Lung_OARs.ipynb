{
  "cells": [
    {
      "cell_type": "markdown",
      "metadata": {
        "id": "view-in-github"
      },
      "source": [
        "<a href=\"https://colab.research.google.com/github/cerr/pycerr-notebooks/blob/main/autosegment_CT_Lung_OARs.ipynb\" target=\"_parent\"><img src=\"https://colab.research.google.com/assets/colab-badge.svg\" alt=\"Open In Colab\"/></a>"
      ]
    },
    {
      "cell_type": "markdown",
      "metadata": {
        "id": "kNoydh-RsgcD"
      },
      "source": [
        "# Introduction\n",
        "\n",
        "In this tutorial, we will demonstrate how to apply a pre-trained AI model to segment the OARs on a lung CT scan using pyCERR.  \n",
        "\n",
        "## Requirements\n",
        "* Python>=3.8\n",
        "* Running this model requires access to a GPU.  \n",
        "  *On Colab* :  `Runtime > Change runtime type > Select GPU `\n",
        "\n",
        "## AI model\n",
        "* The segmentation model used here was trained and validated on CT scans used for RT planning. Its performance on diagnostic CTs is expected to be sub-optimal.\n",
        "* The trained model is packaged as a Conda environment archive containing  python libraries and other dependencies.\n",
        "\n",
        "## I/O\n",
        "* **Input**: DICOM-format planning lung CT scan(s).\n",
        "\n",
        "* **Output**: DICOM RTStruct-format segmentations.\n",
        "\n",
        "  Input data should be organized as: one directory of DICOM images per patient.    \n",
        "  \n",
        "    \n",
        "  ```center  \n",
        "    Input dir\n",
        "            |------Pat1  \n",
        "                      |------img1.dcm  \n",
        "                             img2.dcm  \n",
        "                             ....  \n",
        "                             ....  \n",
        "            |-----Pat2  \n",
        "                     |------img1.dcm  \n",
        "                            img2.dcm  \n",
        "                            ....  \n",
        "                            ....  \n",
        "    \n",
        "  ```\n",
        "\n",
        "## Installing the model and its dependencies\n",
        "\n",
        "* Installation is performed using CERR's [***model installer***]( https://github.com/cerr/model_installer).\n",
        "\n",
        "* A Conda archive containing dependencies is downloaded to the `conda-pack`   \n",
        "  sub-directory of a configurable `scriptInstallDir`.  \n",
        "  By default `condaEnvPath = '/content/CT_LungOAR_incrMRRN/conda-pack'`\n",
        "\n",
        "* The inference script is located at   \n",
        "  `scriptInstallDir = os.path.join(condaEnvPath,'model_wrapper', run_inference_nii.py')`\n",
        "\n",
        "## Running the model\n",
        "* Command to execute the model\n",
        "```python\n",
        "!python {wrapperPath} {input_nii_directory} {output_nii_directory}\n",
        "```\n",
        "* Data I/O, pre- and post-processing are performed using [***pyCERR***](https://github.com/cerr/pyCERR) ."
      ]
    },
    {
      "cell_type": "markdown",
      "metadata": {
        "id": "6GVYj7k5e97G"
      },
      "source": [
        "## License\n",
        "\n",
        "By downloading the software you are agreeing to the following terms and conditions as well as to the Terms of Use of CERR software.\n",
        "\n",
        "**`THE SOFTWARE IS PROVIDED \"AS IS\" AND CERR DEVELOPMENT TEAM AND ITS COLLABORATORS DO NOT MAKE ANY WARRANTY, EXPRESS OR IMPLIED, INCLUDING BUT NOT LIMITED TO WARRANTIES OF MERCHANTABILITY AND FITNESS FOR A PARTICULAR PURPOSE, NOR DO THEY ASSUME ANY LIABILITY OR RESPONSIBILITY FOR THE USE OF THIS SOFTWARE.`**\n",
        "\n",
        "`This software is for research purposes only and has not been approved for clinical use.`\n",
        "\n",
        "`Software has not been reviewed or approved by the Food and Drug Administration, and is for non-clinical, IRB-approved Research Use Only. In no event shall data or images generated through the use of the Software be used in the provision of patient care.`\n",
        "  \n",
        "`YOU MAY NOT DISTRIBUTE COPIES of this software, or copies of software derived from this software, to others outside your organization without specific prior written permission from the CERR development team except where noted for specific software products.`\n",
        "\n",
        "`All Technology and technical data delivered under this Agreement are subject to US export control laws and may be subject to export or import regulations in other countries. You agree to comply strictly with all such laws and regulations and acknowledge that you have the responsibility to obtain\n",
        "such licenses to export, re-export, or import as may be required after delivery to you.`\n",
        "\n",
        "**`You may publish papers and books using results produced using software provided that you reference the following`**:\n",
        "  \n",
        "  * **AI model**: https://doi.org/10.1109/TMI.2018.2857800  \n"
      ]
    },
    {
      "cell_type": "markdown",
      "metadata": {
        "id": "35nEDWKTg5c1"
      },
      "source": [
        "# Downloads"
      ]
    },
    {
      "cell_type": "markdown",
      "metadata": {
        "id": "mP6FHznIg7Yd"
      },
      "source": [
        "\n",
        "### Download planning CTs (DICOM)\n"
      ]
    },
    {
      "cell_type": "markdown",
      "source": [
        "The following can be used to download data from user-specified ***dataUrl*** to ***dataDownloadDir***.\n",
        "\n",
        "See [demo notebook](github.com/cerr/pyCERR-Notebooks/download_data_from_xnat.ipynb) for downloading data from XNAT."
      ],
      "metadata": {
        "id": "fNLG-DEgqO9t"
      }
    },
    {
      "cell_type": "code",
      "execution_count": null,
      "metadata": {
        "id": "l2cIR2Swg_84"
      },
      "outputs": [],
      "source": [
        "import os\n",
        "workDir = r'/content' #for Colab\n",
        "#workDir = r'/home/jupyter'\n",
        "dataUrl = 'http://path.to/data'\n",
        "dataDownloadDir = os.path.join(workDir,'sampleData')\n",
        "os.makedirs(dataDownloadDir,exist_ok=True)"
      ]
    },
    {
      "cell_type": "code",
      "execution_count": null,
      "metadata": {
        "id": "CWaGs8LqhZTD"
      },
      "outputs": [],
      "source": [
        "%%capture\n",
        "! wget -O sampleData.gz -L {dataUrl}\n",
        "! tar xf sampleData.gz -C {dataDownloadDir}\n",
        "! rm sampleData.gz"
      ]
    },
    {
      "cell_type": "markdown",
      "metadata": {
        "id": "VSvE1KsTj9do"
      },
      "source": [
        "Define paths to input DICOM directory, desired output directory, and a session directory to store temporary files during model execution"
      ]
    },
    {
      "cell_type": "code",
      "execution_count": null,
      "metadata": {
        "id": "iHbUWoUEj1A2"
      },
      "outputs": [],
      "source": [
        "#Paths to input data and conda env with pre-trained models\n",
        "\n",
        "# Replace with appropriate path to your dataset\n",
        "inputDicomPath = os.path.join(dataDownloadDir,'your_dir_name_here')\n",
        "# Dir to hold temp files\n",
        "sessionPath = os.path.join(workDir, 'temp')\n",
        "# Dir to store AI model outputs\n",
        "outputDicomPath = os.path.join(workDir, 'AIoutput')\n",
        "\n",
        "if not os.path.exists(outputDicomPath):\n",
        "  os.mkdir(outputDicomPath)\n",
        "\n",
        "if not os.path.exists(sessionPath):\n",
        "  os.mkdir(sessionPath)"
      ]
    },
    {
      "cell_type": "markdown",
      "source": [
        "### Download pre-trained model, inference script, and packaged conda evnironment to ***scriptInstallDir***\n"
      ],
      "metadata": {
        "id": "wfduFdNhndfs"
      }
    },
    {
      "cell_type": "code",
      "source": [
        "%%capture\n",
        "os.chdir(workDir)\n",
        "!git clone https://github.com/cerr/model_installer.git\n",
        "os.chdir(os.path.join(workDir,'model_installer'))\n",
        "!./installer.sh -h\n",
        "\n",
        "modelOpt = '2'  # CT_LungOAR_incrMRRN\n",
        "pythonOpt = 'C' # Download packaged Conda environment\n",
        "\n",
        "! source ./installer.sh -m {modelOpt} -d {workDir} -p {pythonOpt}"
      ],
      "metadata": {
        "id": "DMkOn_-Er1r8"
      },
      "execution_count": null,
      "outputs": []
    },
    {
      "cell_type": "code",
      "source": [
        "# Location of inference script\n",
        "scriptInstallDir = os.path.join(workDir, 'CT_LungOAR_incrMRRN')\n",
        "scriptPath = os.path.join(scriptInstallDir,\n",
        "                         'model_wrapper',\n",
        "                         'run_inference_nii.py')\n",
        "\n",
        "# Location of Conda archive\n",
        "condaEnvPath = os.path.join(scriptInstallDir, 'conda-pack')\n",
        "\n",
        "# Location of activation script for Conda environment\n",
        "activateScript = os.path.join(condaEnvPath,'bin','activate')"
      ],
      "metadata": {
        "id": "ivspAad8nb5e"
      },
      "execution_count": null,
      "outputs": []
    },
    {
      "cell_type": "markdown",
      "metadata": {
        "id": "DsKXYI-dsgcK"
      },
      "source": [
        "### Install ***pyCERR***\n",
        "\n",
        "pyCERR is used for data import/export and pre- and post-processing transformations needed for this model."
      ]
    },
    {
      "cell_type": "code",
      "execution_count": null,
      "metadata": {
        "id": "XRGzE5J7sgcL"
      },
      "outputs": [],
      "source": [
        "%%capture\n",
        "! pip install \"pyCERR[napari] @ git+https://github.com/cerr/pyCERR.git@testing\""
      ]
    },
    {
      "cell_type": "markdown",
      "metadata": {
        "id": "sfcIIiLQsgcM"
      },
      "source": [
        "# Data processing using pyCERR"
      ]
    },
    {
      "cell_type": "markdown",
      "metadata": {
        "id": "1m955pAJsgcN"
      },
      "source": [
        "### Pre-processing\n",
        "\n",
        "### `processInputData` Identify the input scan and resize slices to 512x512"
      ]
    },
    {
      "cell_type": "code",
      "execution_count": null,
      "metadata": {
        "id": "FAXBqkTasgcN"
      },
      "outputs": [],
      "source": [
        "import cerr\n",
        "from cerr.dataclasses import structure\n",
        "from cerr.contour import rasterseg as rs\n",
        "from cerr.utils.image_proc import resizeScanAndMask\n",
        "from cerr.utils.ai_pipeline import getScanNumFromIdentifier\n",
        "\n",
        "def processInputData(planC):\n",
        "\n",
        "  # Identify scan index in  planC\n",
        "  scanIdS = {\"imageType\": \"CT SCAN\"}\n",
        "  matchScanV = getScanNumFromIdentifier(scanIdS,\n",
        "                                        planC,\n",
        "                                        False)\n",
        "\n",
        "  # Extract scan\n",
        "  scanNum = matchScanV[0]\n",
        "  scan3M = planC.scan[scanNum].getScanArray()\n",
        "  mask3M = None\n",
        "\n",
        "  # Resize scan and import to planC\n",
        "  inputImgSizeV = np.shape(scan3M)\n",
        "  gridS = planC.scan[scanNum].getScanXYZVals()\n",
        "  outputImgSizeV = [512, 512, inputImgSizeV[2]]\n",
        "  method = 'padorcrop3d'\n",
        "  procScan3M, __, resizeGridS = resizeScanAndMask(\n",
        "                                scan3M, mask3M, gridS,\n",
        "                                outputImgSizeV, method)\n",
        "\n",
        "  return procScan3M, resizeGridS"
      ]
    },
    {
      "cell_type": "markdown",
      "metadata": {
        "id": "C1KHjP1LsgcO"
      },
      "source": [
        "\n",
        "## Post-processing\n",
        "\n",
        "### `postProcAndImportSeg` Import label maps and retain only the largest connected component to filter out false detections."
      ]
    },
    {
      "cell_type": "code",
      "execution_count": null,
      "metadata": {
        "id": "FtPOzqWQsgcP"
      },
      "outputs": [],
      "source": [
        "# Map output labels to structure names\n",
        "strToLabelMap = {1:\"Lung_Left\", 2:\"Lung_Right\", 3:\"Heart\", 4:\"Esophagus\", \\\n",
        "                 5:\"Cord\", 6:\"PBT\"}\n",
        "numLabel = len(strToLabelMap)"
      ]
    },
    {
      "cell_type": "code",
      "execution_count": null,
      "metadata": {
        "id": "W_GjRVWtsgcP"
      },
      "outputs": [],
      "source": [
        "#Import label map to CERR\n",
        "import glob\n",
        "from cerr.utils import mask\n",
        "from cerr.dataclasses import structure as cerrStr\n",
        "\n",
        "def postProcAndImportSeg(outputDir,procScanNum,scanNum,planC):\n",
        "  niiGlob = glob.glob(os.path.join(outputDir,'*.nii.gz'))\n",
        "\n",
        "  print('Importing ' + niiGlob[0]+'...')\n",
        "  numStrOrig = len(planC.structure)\n",
        "  planC = pc.loadNiiStructure(niiGlob[0], procScanNum,\n",
        "                              planC, \\\n",
        "                              labels_dict = strToLabelMap)\n",
        "\n",
        "  cpyStrNumV = np.arange(numStrOrig,len(planC.structure))\n",
        "  numComponents = 1\n",
        "  for label in range(numLabel):\n",
        "    # Copy to original scan\n",
        "    planC = structure.copyToScan(cpyStrNumV[label], scanNum, planC)\n",
        "    origStr = len(planC.structure)-1\n",
        "    strName =  strToLabelMap[label+1]\n",
        "    # Post-process and replace input structure in planC\n",
        "    procMask3M = cerrStr.getLargestConnComps(origStr, numComponents,\n",
        "                                             planC, saveFlag=True,\n",
        "                                             replaceFlag=False,\n",
        "                                             procSructName=strName)\n",
        "  return planC"
      ]
    },
    {
      "cell_type": "markdown",
      "metadata": {
        "id": "zj7t-J4isgcQ"
      },
      "source": [
        "# Segment OARs"
      ]
    },
    {
      "cell_type": "markdown",
      "metadata": {
        "id": "_XVVLPjBkYI0"
      },
      "source": [
        "## Apply AI model  to all MR scans\n",
        "\n",
        "### located in ***inputDicomPath*** and store auto-segmentation results to ***outputDicomPath***"
      ]
    },
    {
      "cell_type": "code",
      "execution_count": null,
      "metadata": {
        "id": "WCuUi5D6sgcS"
      },
      "outputs": [],
      "source": [
        "%%capture\n",
        "import subprocess\n",
        "import numpy as np\n",
        "\n",
        "from cerr import plan_container as pc\n",
        "from cerr.dataclasses import scan as cerrScn\n",
        "from cerr.utils.ai_pipeline import createSessionDir\n",
        "from cerr.dcm_export import rtstruct_iod\n",
        "\n",
        "# Loop over pyCERR files\n",
        "fileList = os.listdir(inputDicomPath)\n",
        "numFiles = len(fileList)\n",
        "modality = 'CT'\n",
        "scanNum = 0\n",
        "\n",
        "for iFile in range(numFiles):\n",
        "\n",
        "    inputFilename = fileList[iFile]\n",
        "    dcmDir = os.path.join(inputDicomPath,inputFilename)\n",
        "\n",
        "    # Create session dir to store temporary data\n",
        "    modInputPath, modOutputPath = createSessionDir(sessionPath,\n",
        "                                                   inputDicomPath)\n",
        "\n",
        "    # Import DICOM scan to planC\n",
        "    planC = pc.loadDcmDir(dcmDir)\n",
        "    numExistingStructs = len(planC.structure)\n",
        "\n",
        "    # Pre-process data\n",
        "    procScan3M, resizeGridS = processInputData(planC)\n",
        "    planC = pc.importScanArray(procScan3M, resizeGridS[0], \\\n",
        "                               resizeGridS[1], resizeGridS[2],\\\n",
        "                               modality, scanNum, planC)\n",
        "    procScanNum = len(planC.scan) - 1\n",
        "\n",
        "    # Export inputs to NIfTI\n",
        "    scanFilename = os.path.join(modInputPath,\n",
        "                                f\"{inputFilename}_scan_3D.nii.gz\")\n",
        "    planC.scan[procScanNum].saveNii(scanFilename)\n",
        "\n",
        "    # Apply model\n",
        "    subprocess.run(f\"source {activateScript} && python {scriptPath}\\\n",
        "                   {modInputPath} {modOutputPath}\",\\\n",
        "                   capture_output=False, shell=True, executable=\"/bin/bash\")\n",
        "\n",
        "    # Import results to planC\n",
        "    planC = postProcAndImportSeg(modOutputPath, procScanNum, scanNum, lanC)\n",
        "    newNumStructs = len(planC.structure)\n",
        "\n",
        "    # Export segmentations to DICOM\n",
        "    structFileName = inputFilename + '_AI_seg.dcm'\n",
        "    structFilePath = os.path.join(outputDicomPath, structFileName)\n",
        "    seriesDescription = \"AI Generated\"\n",
        "    exportOpts = {'seriesDescription': seriesDescription}\n",
        "\n",
        "    structNumV = np.arange(numExistingStructs, newNumStructs)\n",
        "    indOrigV = np.array([cerrScn.getScanNumFromUID(planC.structure[structNum].assocScanUID,\\\n",
        "                        planC) for structNum in structNumV], dtype=int)\n",
        "    structsToExportV = structNumV[indOrigV == scanNum]\n",
        "\n",
        "    rtstruct_iod.create(structsToExportV, structFilePath,\n",
        "                        planC, exportOpts)"
      ]
    },
    {
      "cell_type": "markdown",
      "metadata": {
        "id": "Kugws3KBl4MK"
      },
      "source": [
        "## **Optional**: Uncomment the following to download the output segmentations to your workspace bucket."
      ]
    },
    {
      "cell_type": "code",
      "execution_count": null,
      "metadata": {
        "id": "_nkTBkijl23J"
      },
      "outputs": [],
      "source": [
        "# workspaceBucket = os.environ['WORKSPACE_BUCKET']\n",
        "# !gcloud storage cp -r {outputDicomPath} {workspaceBucket}"
      ]
    },
    {
      "cell_type": "markdown",
      "metadata": {
        "id": "iLzFp-l_sgcT"
      },
      "source": [
        "# Display results"
      ]
    },
    {
      "cell_type": "markdown",
      "metadata": {
        "id": "L8FTwNqhsgcT"
      },
      "source": [
        "## Overlay AI segmentations on scan for visualization using ***Matplotlib***\n",
        "\n",
        "Note: This example displays the last segmented dataset by default.    \n",
        "Load the appropriate pyCERR archive to `planC` to view results for desired dataset."
      ]
    },
    {
      "cell_type": "code",
      "execution_count": null,
      "metadata": {
        "colab": {
          "base_uri": "https://localhost:8080/",
          "height": 437,
          "referenced_widgets": [
            "d060782da0734700a28881e1612b6395",
            "41caaea833e04f40884c7d8ef3e19195",
            "b16f750e6e5d451794bd9a5561e8e9e1",
            "d941b80591e94228aa7da4444e21c8b7",
            "44905c86c0084c7ebf55b603a50e899c",
            "ba5d1c73272c4df686770b35d9193721",
            "8a4f76e26fa946b89eabfdd85acc80a1",
            "bc678341b90748bea03f251b0dbf9416",
            "9cbb9bcc232f43f29c38e8858c907bf7",
            "1fb07c52858144288694a75daa86ed98",
            "d25a0cc8e8ee4fb1ad61df1deca36ae3",
            "dc2122abf1544142a08f55bf0607d011",
            "9702bf54fda54c2783fe2adbf85a75b8"
          ]
        },
        "id": "jWQD1KeVsgcT",
        "outputId": "bdd9b1cf-b838-4706-b39f-59953e4aa988"
      },
      "outputs": [
        {
          "output_type": "display_data",
          "data": {
            "text/plain": [
              "HBox(children=(Dropdown(description='view', options=('Axial', 'Sagittal', 'Coronal'), value='Axial'), IntSlide…"
            ],
            "application/vnd.jupyter.widget-view+json": {
              "version_major": 2,
              "version_minor": 0,
              "model_id": "d060782da0734700a28881e1612b6395"
            }
          },
          "metadata": {}
        },
        {
          "output_type": "display_data",
          "data": {
            "text/plain": [
              "Output()"
            ],
            "application/vnd.jupyter.widget-view+json": {
              "version_major": 2,
              "version_minor": 0,
              "model_id": "dc2122abf1544142a08f55bf0607d011"
            }
          },
          "metadata": {}
        }
      ],
      "source": [
        "from cerr.viewer import showMplNb\n",
        "\n",
        "showMplNb(planC=planC, scan_nums=scanNum,\n",
        "          struct_nums=structsToExportV,\n",
        "          windowCenter=-400, windowWidth=2000)"
      ]
    }
  ],
  "metadata": {
    "colab": {
      "provenance": [],
      "gpuType": "T4"
    },
    "kernelspec": {
      "display_name": "Python 3",
      "name": "python3"
    },
    "language_info": {
      "codemirror_mode": {
        "name": "ipython",
        "version": 3
      },
      "file_extension": ".py",
      "mimetype": "text/x-python",
      "name": "python",
      "nbconvert_exporter": "python",
      "pygments_lexer": "ipython3",
      "version": "3.11.9"
    },
    "toc": {
      "base_numbering": 1,
      "nav_menu": {},
      "number_sections": true,
      "sideBar": true,
      "skip_h1_title": false,
      "title_cell": "Table of Contents",
      "title_sidebar": "Contents",
      "toc_cell": false,
      "toc_position": {},
      "toc_section_display": true,
      "toc_window_display": false
    },
    "accelerator": "GPU",
    "widgets": {
      "application/vnd.jupyter.widget-state+json": {
        "d060782da0734700a28881e1612b6395": {
          "model_module": "@jupyter-widgets/controls",
          "model_name": "HBoxModel",
          "model_module_version": "1.5.0",
          "state": {
            "_dom_classes": [],
            "_model_module": "@jupyter-widgets/controls",
            "_model_module_version": "1.5.0",
            "_model_name": "HBoxModel",
            "_view_count": null,
            "_view_module": "@jupyter-widgets/controls",
            "_view_module_version": "1.5.0",
            "_view_name": "HBoxView",
            "box_style": "",
            "children": [
              "IPY_MODEL_41caaea833e04f40884c7d8ef3e19195",
              "IPY_MODEL_b16f750e6e5d451794bd9a5561e8e9e1",
              "IPY_MODEL_d941b80591e94228aa7da4444e21c8b7"
            ],
            "layout": "IPY_MODEL_44905c86c0084c7ebf55b603a50e899c"
          }
        },
        "41caaea833e04f40884c7d8ef3e19195": {
          "model_module": "@jupyter-widgets/controls",
          "model_name": "DropdownModel",
          "model_module_version": "1.5.0",
          "state": {
            "_dom_classes": [],
            "_model_module": "@jupyter-widgets/controls",
            "_model_module_version": "1.5.0",
            "_model_name": "DropdownModel",
            "_options_labels": [
              "Axial",
              "Sagittal",
              "Coronal"
            ],
            "_view_count": null,
            "_view_module": "@jupyter-widgets/controls",
            "_view_module_version": "1.5.0",
            "_view_name": "DropdownView",
            "description": "view",
            "description_tooltip": null,
            "disabled": false,
            "index": 0,
            "layout": "IPY_MODEL_ba5d1c73272c4df686770b35d9193721",
            "style": "IPY_MODEL_8a4f76e26fa946b89eabfdd85acc80a1"
          }
        },
        "b16f750e6e5d451794bd9a5561e8e9e1": {
          "model_module": "@jupyter-widgets/controls",
          "model_name": "IntSliderModel",
          "model_module_version": "1.5.0",
          "state": {
            "_dom_classes": [],
            "_model_module": "@jupyter-widgets/controls",
            "_model_module_version": "1.5.0",
            "_model_name": "IntSliderModel",
            "_view_count": null,
            "_view_module": "@jupyter-widgets/controls",
            "_view_module_version": "1.5.0",
            "_view_name": "IntSliderView",
            "continuous_update": true,
            "description": "slcNum",
            "description_tooltip": null,
            "disabled": false,
            "layout": "IPY_MODEL_bc678341b90748bea03f251b0dbf9416",
            "max": 131,
            "min": 1,
            "orientation": "horizontal",
            "readout": true,
            "readout_format": "d",
            "step": 1,
            "style": "IPY_MODEL_9cbb9bcc232f43f29c38e8858c907bf7",
            "value": 65
          }
        },
        "d941b80591e94228aa7da4444e21c8b7": {
          "model_module": "@jupyter-widgets/controls",
          "model_name": "FloatSliderModel",
          "model_module_version": "1.5.0",
          "state": {
            "_dom_classes": [],
            "_model_module": "@jupyter-widgets/controls",
            "_model_module_version": "1.5.0",
            "_model_name": "FloatSliderModel",
            "_view_count": null,
            "_view_module": "@jupyter-widgets/controls",
            "_view_module_version": "1.5.0",
            "_view_name": "FloatSliderView",
            "continuous_update": true,
            "description": "doseAlpha",
            "description_tooltip": null,
            "disabled": false,
            "layout": "IPY_MODEL_1fb07c52858144288694a75daa86ed98",
            "max": 1,
            "min": 0,
            "orientation": "horizontal",
            "readout": true,
            "readout_format": ".2f",
            "step": 0.02,
            "style": "IPY_MODEL_d25a0cc8e8ee4fb1ad61df1deca36ae3",
            "value": 0.5
          }
        },
        "44905c86c0084c7ebf55b603a50e899c": {
          "model_module": "@jupyter-widgets/base",
          "model_name": "LayoutModel",
          "model_module_version": "1.2.0",
          "state": {
            "_model_module": "@jupyter-widgets/base",
            "_model_module_version": "1.2.0",
            "_model_name": "LayoutModel",
            "_view_count": null,
            "_view_module": "@jupyter-widgets/base",
            "_view_module_version": "1.2.0",
            "_view_name": "LayoutView",
            "align_content": null,
            "align_items": null,
            "align_self": null,
            "border": null,
            "bottom": null,
            "display": null,
            "flex": null,
            "flex_flow": null,
            "grid_area": null,
            "grid_auto_columns": null,
            "grid_auto_flow": null,
            "grid_auto_rows": null,
            "grid_column": null,
            "grid_gap": null,
            "grid_row": null,
            "grid_template_areas": null,
            "grid_template_columns": null,
            "grid_template_rows": null,
            "height": null,
            "justify_content": null,
            "justify_items": null,
            "left": null,
            "margin": null,
            "max_height": null,
            "max_width": null,
            "min_height": null,
            "min_width": null,
            "object_fit": null,
            "object_position": null,
            "order": null,
            "overflow": null,
            "overflow_x": null,
            "overflow_y": null,
            "padding": null,
            "right": null,
            "top": null,
            "visibility": null,
            "width": null
          }
        },
        "ba5d1c73272c4df686770b35d9193721": {
          "model_module": "@jupyter-widgets/base",
          "model_name": "LayoutModel",
          "model_module_version": "1.2.0",
          "state": {
            "_model_module": "@jupyter-widgets/base",
            "_model_module_version": "1.2.0",
            "_model_name": "LayoutModel",
            "_view_count": null,
            "_view_module": "@jupyter-widgets/base",
            "_view_module_version": "1.2.0",
            "_view_name": "LayoutView",
            "align_content": null,
            "align_items": null,
            "align_self": null,
            "border": null,
            "bottom": null,
            "display": null,
            "flex": null,
            "flex_flow": null,
            "grid_area": null,
            "grid_auto_columns": null,
            "grid_auto_flow": null,
            "grid_auto_rows": null,
            "grid_column": null,
            "grid_gap": null,
            "grid_row": null,
            "grid_template_areas": null,
            "grid_template_columns": null,
            "grid_template_rows": null,
            "height": null,
            "justify_content": null,
            "justify_items": null,
            "left": null,
            "margin": null,
            "max_height": null,
            "max_width": null,
            "min_height": null,
            "min_width": null,
            "object_fit": null,
            "object_position": null,
            "order": null,
            "overflow": null,
            "overflow_x": null,
            "overflow_y": null,
            "padding": null,
            "right": null,
            "top": null,
            "visibility": null,
            "width": null
          }
        },
        "8a4f76e26fa946b89eabfdd85acc80a1": {
          "model_module": "@jupyter-widgets/controls",
          "model_name": "DescriptionStyleModel",
          "model_module_version": "1.5.0",
          "state": {
            "_model_module": "@jupyter-widgets/controls",
            "_model_module_version": "1.5.0",
            "_model_name": "DescriptionStyleModel",
            "_view_count": null,
            "_view_module": "@jupyter-widgets/base",
            "_view_module_version": "1.2.0",
            "_view_name": "StyleView",
            "description_width": ""
          }
        },
        "bc678341b90748bea03f251b0dbf9416": {
          "model_module": "@jupyter-widgets/base",
          "model_name": "LayoutModel",
          "model_module_version": "1.2.0",
          "state": {
            "_model_module": "@jupyter-widgets/base",
            "_model_module_version": "1.2.0",
            "_model_name": "LayoutModel",
            "_view_count": null,
            "_view_module": "@jupyter-widgets/base",
            "_view_module_version": "1.2.0",
            "_view_name": "LayoutView",
            "align_content": null,
            "align_items": null,
            "align_self": null,
            "border": null,
            "bottom": null,
            "display": null,
            "flex": null,
            "flex_flow": null,
            "grid_area": null,
            "grid_auto_columns": null,
            "grid_auto_flow": null,
            "grid_auto_rows": null,
            "grid_column": null,
            "grid_gap": null,
            "grid_row": null,
            "grid_template_areas": null,
            "grid_template_columns": null,
            "grid_template_rows": null,
            "height": null,
            "justify_content": null,
            "justify_items": null,
            "left": null,
            "margin": null,
            "max_height": null,
            "max_width": null,
            "min_height": null,
            "min_width": null,
            "object_fit": null,
            "object_position": null,
            "order": null,
            "overflow": null,
            "overflow_x": null,
            "overflow_y": null,
            "padding": null,
            "right": null,
            "top": null,
            "visibility": null,
            "width": null
          }
        },
        "9cbb9bcc232f43f29c38e8858c907bf7": {
          "model_module": "@jupyter-widgets/controls",
          "model_name": "SliderStyleModel",
          "model_module_version": "1.5.0",
          "state": {
            "_model_module": "@jupyter-widgets/controls",
            "_model_module_version": "1.5.0",
            "_model_name": "SliderStyleModel",
            "_view_count": null,
            "_view_module": "@jupyter-widgets/base",
            "_view_module_version": "1.2.0",
            "_view_name": "StyleView",
            "description_width": "",
            "handle_color": null
          }
        },
        "1fb07c52858144288694a75daa86ed98": {
          "model_module": "@jupyter-widgets/base",
          "model_name": "LayoutModel",
          "model_module_version": "1.2.0",
          "state": {
            "_model_module": "@jupyter-widgets/base",
            "_model_module_version": "1.2.0",
            "_model_name": "LayoutModel",
            "_view_count": null,
            "_view_module": "@jupyter-widgets/base",
            "_view_module_version": "1.2.0",
            "_view_name": "LayoutView",
            "align_content": null,
            "align_items": null,
            "align_self": null,
            "border": null,
            "bottom": null,
            "display": null,
            "flex": null,
            "flex_flow": null,
            "grid_area": null,
            "grid_auto_columns": null,
            "grid_auto_flow": null,
            "grid_auto_rows": null,
            "grid_column": null,
            "grid_gap": null,
            "grid_row": null,
            "grid_template_areas": null,
            "grid_template_columns": null,
            "grid_template_rows": null,
            "height": null,
            "justify_content": null,
            "justify_items": null,
            "left": null,
            "margin": null,
            "max_height": null,
            "max_width": null,
            "min_height": null,
            "min_width": null,
            "object_fit": null,
            "object_position": null,
            "order": null,
            "overflow": null,
            "overflow_x": null,
            "overflow_y": null,
            "padding": null,
            "right": null,
            "top": null,
            "visibility": null,
            "width": null
          }
        },
        "d25a0cc8e8ee4fb1ad61df1deca36ae3": {
          "model_module": "@jupyter-widgets/controls",
          "model_name": "SliderStyleModel",
          "model_module_version": "1.5.0",
          "state": {
            "_model_module": "@jupyter-widgets/controls",
            "_model_module_version": "1.5.0",
            "_model_name": "SliderStyleModel",
            "_view_count": null,
            "_view_module": "@jupyter-widgets/base",
            "_view_module_version": "1.2.0",
            "_view_name": "StyleView",
            "description_width": "",
            "handle_color": null
          }
        },
        "dc2122abf1544142a08f55bf0607d011": {
          "model_module": "@jupyter-widgets/output",
          "model_name": "OutputModel",
          "model_module_version": "1.0.0",
          "state": {
            "_dom_classes": [],
            "_model_module": "@jupyter-widgets/output",
            "_model_module_version": "1.0.0",
            "_model_name": "OutputModel",
            "_view_count": null,
            "_view_module": "@jupyter-widgets/output",
            "_view_module_version": "1.0.0",
            "_view_name": "OutputView",
            "layout": "IPY_MODEL_9702bf54fda54c2783fe2adbf85a75b8",
            "msg_id": "",
            "outputs": [
              {
                "output_type": "display_data",
                "data": {
                  "text/plain": "<Figure size 640x480 with 1 Axes>",
                  "image/png": "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\n"
                },
                "metadata": {}
              }
            ]
          }
        },
        "9702bf54fda54c2783fe2adbf85a75b8": {
          "model_module": "@jupyter-widgets/base",
          "model_name": "LayoutModel",
          "model_module_version": "1.2.0",
          "state": {
            "_model_module": "@jupyter-widgets/base",
            "_model_module_version": "1.2.0",
            "_model_name": "LayoutModel",
            "_view_count": null,
            "_view_module": "@jupyter-widgets/base",
            "_view_module_version": "1.2.0",
            "_view_name": "LayoutView",
            "align_content": null,
            "align_items": null,
            "align_self": null,
            "border": null,
            "bottom": null,
            "display": null,
            "flex": null,
            "flex_flow": null,
            "grid_area": null,
            "grid_auto_columns": null,
            "grid_auto_flow": null,
            "grid_auto_rows": null,
            "grid_column": null,
            "grid_gap": null,
            "grid_row": null,
            "grid_template_areas": null,
            "grid_template_columns": null,
            "grid_template_rows": null,
            "height": null,
            "justify_content": null,
            "justify_items": null,
            "left": null,
            "margin": null,
            "max_height": null,
            "max_width": null,
            "min_height": null,
            "min_width": null,
            "object_fit": null,
            "object_position": null,
            "order": null,
            "overflow": null,
            "overflow_x": null,
            "overflow_y": null,
            "padding": null,
            "right": null,
            "top": null,
            "visibility": null,
            "width": null
          }
        }
      }
    }
  },
  "nbformat": 4,
  "nbformat_minor": 0
}