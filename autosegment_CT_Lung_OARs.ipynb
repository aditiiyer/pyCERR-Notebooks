{
  "cells": [
  {
            "cell_type": "markdown",
            "metadata": {
              "id": "view-in-github"
            },
            "source": [
              "<a href=\"https://colab.research.google.com/github/cerr/pycerr-notebooks/blob/main/autosegment_CT_Lung_OARs.ipynb\" target=\"_parent\"><img src=\"https://colab.research.google.com/assets/colab-badge.svg\" alt=\"Open In Colab\"/></a>"
            ]
    },	
    {
      "cell_type": "markdown",
      "metadata": {
        "id": "kNoydh-RsgcD"
      },
      "source": [
        "# Introduction\n",
        "\n",
        "In this tutorial, we will demonstrate how to apply a pre-trained AI model to segment the OARs on a lung CT scan using pyCERR.  \n",
        "\n",
        "## Requirements\n",
        "* Python>=3.8\n",
        "* Applying this model requires access to a GPU.  \n",
        "  *On Colab* :  `Runtime > Change runtime type > Select GPU `\n",
        "\n",
        "## AI model\n",
        "* The segmentation model used here was trained and validated on CT scans used for RT planning. Its performance on diagnostic CTs is expected to be sub-optimal.\n",
        "* The trained model is packaged as a Conda environment archive containing  python libraries and other dependencies.\n",
        "\n",
        "  *On Colab* :  `Runtime > Change runtime type > Select GPU `\n",
        "\n",
        "## I/O\n",
        "* **Input**: DICOM-format planning lung CT scan(s).  \n",
        "  \n",
        "Input data should be organized as: one directory of DICOM images per patient.    \n",
        "  \n",
        "    \n",
        "    Input dir\n",
        "            |------Pat1  \n",
        "                      |------img1.dcm  \n",
        "                             img2.dcm  \n",
        "                             ....  \n",
        "                             ....  \n",
        "            |-----Pat2  \n",
        "                     |------img1.dcm  \n",
        "                            img2.dcm  \n",
        "                            ....  \n",
        "                            ....  \n",
        "\n",
        "\n",
        "* **Output**: DICOM RTStruct-format segmentations.\n",
        "\n",
        "\n",
        "## Running the model\n",
        "\n",
        "* The Conda archive is downloaded to a configurable `condaEnvPath`. By default `condaEnvPath = '/content/pretrainedModel/'`\n",
        "* The inference script is located at   \n",
        "`wrapperPath = os.path.join(condaEnvPath,'CT_LungOAR_incrMRRN/model_wrapper/run_inference_nii.py')`\n",
        "\n",
        "* Command to execute the model\n",
        "```python\n",
        "!python {wrapperPath} {input_nii_directory} {output_nii_directory}\n",
        "```\n",
        "* [***pyCERR***](https://github.com/cerr/pyCERR) is used for data pre- and post-processing, including converting DICOM to NIfTI format, required to run the model."
      ]
    },
    {
      "cell_type": "markdown",
      "metadata": {
        "id": "6GVYj7k5e97G"
      },
      "source": [
        "## License\n",
        "\n",
        "By downloading the software you are agreeing to the following terms and conditions as well as to the Terms of Use of CERR software.\n",
        "\n",
        "**`THE SOFTWARE IS PROVIDED \"AS IS\" AND CERR DEVELOPMENT TEAM AND ITS COLLABORATORS DO NOT MAKE ANY WARRANTY, EXPRESS OR IMPLIED, INCLUDING BUT NOT LIMITED TO WARRANTIES OF MERCHANTABILITY AND FITNESS FOR A PARTICULAR PURPOSE, NOR DO THEY ASSUME ANY LIABILITY OR RESPONSIBILITY FOR THE USE OF THIS SOFTWARE.`**\n",
        "\n",
        "`This software is for research purposes only and has not been approved for clinical use.`\n",
        "\n",
        "`Software has not been reviewed or approved by the Food and Drug Administration, and is for non-clinical, IRB-approved Research Use Only. In no event shall data or images generated through the use of the Software be used in the provision of patient care.`\n",
        "  \n",
        "`YOU MAY NOT DISTRIBUTE COPIES of this software, or copies of software derived from this software, to others outside your organization without specific prior written permission from the CERR development team except where noted for specific software products.`\n",
        "\n",
        "`All Technology and technical data delivered under this Agreement are subject to US export control laws and may be subject to export or import regulations in other countries. You agree to comply strictly with all such laws and regulations and acknowledge that you have the responsibility to obtain\n",
        "such licenses to export, re-export, or import as may be required after delivery to you.`\n",
        "\n",
        "**`You may publish papers and books using results produced using software provided that you reference the following`**:\n",
        "  \n",
        "  * ***AI model***: https://doi.org/10.1109/TMI.2018.2857800  \n"
      ]
    },
    {
      "cell_type": "markdown",
      "metadata": {
        "id": "35nEDWKTg5c1"
      },
      "source": [
        "# Downloads"
      ]
    },
    {
      "cell_type": "markdown",
      "metadata": {
        "id": "mP6FHznIg7Yd"
      },
      "source": [
        "\n",
        "## Download planning CTs (DICOM) from ***dataUrl*** to ***dataDownloadDir***\n"
      ]
    },
    {
      "cell_type": "code",
      "execution_count": null,
      "metadata": {
        "id": "l2cIR2Swg_84"
      },
      "outputs": [],
      "source": [
        "import os\n",
        "workDir = r'/home/jupyter' # r'/content' for Colab\n",
        "dataUrl = 'http://path.to/data'\n",
        "dataDownloadDir = os.path.join(workDir,'sampleData','testPlanningCTdicom')\n",
        "os.makedirs(dataDownloadDir,exist_ok=True)"
      ]
    },
    {
      "cell_type": "code",
      "execution_count": null,
      "metadata": {
        "id": "CWaGs8LqhZTD"
      },
      "outputs": [],
      "source": [
        "! wget -O sampleData.gz -L {dataUrl}\n",
        "! tar xf sampleData.gz -C {dataDownloadDir}\n",
        "! rm sampleData.gz"
      ]
    },
    {
      "cell_type": "markdown",
      "metadata": {
        "id": "VSvE1KsTj9do"
      },
      "source": [
        "Define paths to input DICOM directory, desired output directory, and a session directory to store temporary files during model execution"
      ]
    },
    {
      "cell_type": "code",
      "execution_count": null,
      "metadata": {
        "id": "iHbUWoUEj1A2"
      },
      "outputs": [],
      "source": [
        "#Paths to input data and conda env with pre-trained models\n",
        "inputDicomPath = os.path.join(dataDownloadDir,'your_dir_name_here')  # Replace with apropriate path to your dataset\n",
        "outputDicomPath = os.path.join(workDir, 'AIoutput')\n",
        "sessionPath = os.path.join(workDir, 'temp')\n",
        "\n",
        "if not os.path.exists(outputDicomPath):\n",
        "  os.mkdir(outputDicomPath)\n",
        "\n",
        "if not os.path.exists(sessionPath):\n",
        "  os.mkdir(sessionPath)"
      ]
    },
    {
      "cell_type": "markdown",
      "source": [
        "## Download inference ***script***\n"
      ],
      "metadata": {
        "id": "wfduFdNhndfs"
      }
    },
    {
      "cell_type": "code",
      "source": [
        "scriptInstallDir = os.path.join(workDir, 'pretrainedLungOARModel','CT_Lung_OAR')\n",
        "!git clone https://github.com/cerr/CT_LungOAR_incrMRRN {scriptInstallDir}\n",
        "scriptPath = os.path.join(scriptInstallDir, 'model_wrapper','run_inference_nii.py')"
      ],
      "metadata": {
        "id": "ivspAad8nb5e"
      },
      "execution_count": null,
      "outputs": []
    },
    {
      "cell_type": "markdown",
      "metadata": {
        "id": "pnoZxbKnsgcG"
      },
      "source": [
        "## Download pre-packaged Conda environment to ***condaArchiveDir***\n",
        "\n",
        "\n",
        "\n"
      ]
    },
    {
      "cell_type": "code",
      "execution_count": null,
      "metadata": {
        "id": "pUc1tZzbsgcK"
      },
      "outputs": [],
      "source": [
        "# Location of conda archive\n",
        "condaArchiveDir = os.path.join(workDir, 'pretrainedLungOARModel')\n",
        "varFile = os.path.join(scriptInstallDir,'model.txt')\n",
        "saveFileName = 'ct_lung_oar.tar.gz'\n",
        "\n",
        "# Download packaged environment for the AI model\n",
        "envHash = !sed -n 's/^CONDAPACK_HASH \\(.*\\)/\\1/p' < {varFile}\n",
        "!mkdir -p {condaArchiveDir}\n",
        "!wget `base64 -d <<<{envHash[0]} | gunzip` -O {saveFileName}\n",
        "!tar xf {saveFileName} -C {condaArchiveDir}\n",
        "!rm {saveFileName}\n",
        "\n",
        "# Path to activation script for Conda environment\n",
        "activateScript = condaArchiveDir +'/bin/activate'"
      ]
    },
    {
      "cell_type": "markdown",
      "source": [
        "## Download pre-trained model weights to ***modelWeightsDir***\n"
      ],
      "metadata": {
        "id": "nGF_O2fDmc4q"
      }
    },
    {
      "cell_type": "code",
      "source": [
        "%%capture\n",
        "# Location of weights\n",
        "modelWeightsZipDir = os.path.join(scriptInstallDir,'model.gz')\n",
        "modelWeightsDir = os.path.join(scriptInstallDir,'model')\n",
        "\n",
        "modelHash = !sed -n 's/^MODEL_WEIGHTS_HASH \\(.*\\)/\\1/p' < {varFile}\n",
        "!wget -O {modelWeightsZipDir} -L `base64 -d <<<{modelHash[0]} | gunzip`\n",
        "!tar xf {modelWeightsZipDir} -C {scriptInstallDir}\n",
        "!rm {modelWeightsZipDir}"
      ],
      "metadata": {
        "id": "aLvEwPCfmdYB"
      },
      "execution_count": null,
      "outputs": []
    },
    {
      "cell_type": "markdown",
      "metadata": {
        "id": "DsKXYI-dsgcK"
      },
      "source": [
        "## Install ***pyCERR***\n",
        "\n",
        "pyCERR is used for data import/export and pre- and post-processing transformations needed for this model."
      ]
    },
    {
      "cell_type": "code",
      "execution_count": null,
      "metadata": {
        "id": "XRGzE5J7sgcL"
      },
      "outputs": [],
      "source": [
        "%%capture\n",
        "!pip install \"pyCERR[napari] @ git+https://github.com/cerr/pyCERR\""
      ]
    },
    {
      "cell_type": "markdown",
      "metadata": {
        "id": "sfcIIiLQsgcM"
      },
      "source": [
        "# Data processing"
      ]
    },
    {
      "cell_type": "markdown",
      "metadata": {
        "id": "1m955pAJsgcN"
      },
      "source": [
        "## **Pre-processing**: Identify the input scan and resize slices to 512x512"
      ]
    },
    {
      "cell_type": "code",
      "execution_count": null,
      "metadata": {
        "id": "FAXBqkTasgcN"
      },
      "outputs": [],
      "source": [
        "import cerr\n",
        "from cerr.dataclasses import structure\n",
        "from cerr.contour import rasterseg as rs\n",
        "from cerr.utils.aiPipeline import getScanNumFromIdentifier\n",
        "from cerr.utils import imageProc\n",
        "\n",
        "def processInputData(planC):\n",
        "\n",
        "  # Identify scan index in  planC\n",
        "  scanIdS = {\"imageType\": \"CT SCAN\"}\n",
        "  matchScanV = getScanNumFromIdentifier(scanIdS, planC,\n",
        "                                                    False)\n",
        "\n",
        "  # Extract scan\n",
        "  scanNum = matchScanV[0]\n",
        "  scan3M = planC.scan[scanNum].getScanArray()\n",
        "  mask3M = None\n",
        "\n",
        "  # Resize scan and import to planC\n",
        "  inputImgSizeV = np.shape(scan3M)\n",
        "  gridS = planC.scan[scanNum].getScanXYZVals()\n",
        "  outputImgSizeV = [512, 512, inputImgSizeV[2]]\n",
        "  method = 'padorcrop3d'\n",
        "  procScan3M, __, resizeGridS = imageProc.resizeScanAndMask(scan3M,\n",
        "                                mask3M, gridS, outputImgSizeV, method)\n",
        "\n",
        "  return procScan3M, resizeGridS"
      ]
    },
    {
      "cell_type": "markdown",
      "metadata": {
        "id": "C1KHjP1LsgcO"
      },
      "source": [
        "\n",
        "## **Post-processing**: Import label maps and retain only the largest connected component to filter out false detections."
      ]
    },
    {
      "cell_type": "code",
      "execution_count": null,
      "metadata": {
        "id": "FtPOzqWQsgcP"
      },
      "outputs": [],
      "source": [
        "# Map output labels to structure names\n",
        "\n",
        "strToLabelMap = {1:\"Lung_Left\", 2:\"Lung_Right\", 3:\"Heart\", 4:\"Esophagus\", \\\n",
        "                 5:\"Cord\", 6:\"PBT\"}\n",
        "numLabel = len(strToLabelMap)"
      ]
    },
    {
      "cell_type": "code",
      "execution_count": null,
      "metadata": {
        "id": "W_GjRVWtsgcP"
      },
      "outputs": [],
      "source": [
        "#Import label map to CERR\n",
        "import glob\n",
        "from cerr.utils import mask\n",
        "\n",
        "def postProcAndImportSeg(outputDir,procScanNum,scanNum,planC):\n",
        "  niiGlob = glob.glob(os.path.join(outputDir,'*.nii.gz'))\n",
        "\n",
        "  print('Importing ' + niiGlob[0]+'...')\n",
        "  numStrOrig = len(planC.structure)\n",
        "  planC = pc.load_nii_structure(niiGlob[0], procScanNum, planC, \\\n",
        "                              labels_dict = strToLabelMap)\n",
        "  cpyStrNumV = np.arange(numStrOrig,len(planC.structure))\n",
        "  numComponents = 1\n",
        "  for label in range(numLabel):\n",
        "    # Copy to original scan\n",
        "    planC = structure.copyToScan(cpyStrNumV[label], scanNum, planC)\n",
        "    origStr = len(planC.structure)-1\n",
        "    strName =  strToLabelMap[label+1]\n",
        "    # Post-process and replace input structure in planC\n",
        "    procMask3M = mask.getLargestConnComps(origStr, numComponents,\n",
        "                                                planC, saveFlag=True,\n",
        "                                                replaceFlag=False,\n",
        "                                                procSructName=strName)\n",
        "  return planC"
      ]
    },
    {
      "cell_type": "markdown",
      "metadata": {
        "id": "zj7t-J4isgcQ"
      },
      "source": [
        "# Segment OARs"
      ]
    },
    {
      "cell_type": "markdown",
      "metadata": {
        "id": "_XVVLPjBkYI0"
      },
      "source": [
        "## Apply the model to all CT scans in ***inputDicomPath*** and store auto-segmentation results to ***outputDicomPath***"
      ]
    },
    {
      "cell_type": "code",
      "execution_count": null,
      "metadata": {
        "id": "WCuUi5D6sgcS"
      },
      "outputs": [],
      "source": [
        "%%capture\n",
        "import subprocess\n",
        "import numpy as np\n",
        "import cerr\n",
        "from cerr import plan_container as pc\n",
        "from cerr.dataclasses import scan as cerrScn\n",
        "from cerr.utils.aiPipeline import createSessionDir\n",
        "from cerr.dcm_export import rtstruct_iod\n",
        "\n",
        "# Loop over pyCERR files\n",
        "fileList = os.listdir(inputDicomPath)\n",
        "numFiles = len(fileList)\n",
        "modality = 'CT'\n",
        "scanNum = 0\n",
        "\n",
        "for iFile in range(numFiles):\n",
        "\n",
        "    dcmDir = os.path.join(inputDicomPath,fileList[iFile])\n",
        "\n",
        "    # Create session dir to store temporary data\n",
        "    modInputPath, modOutputPath = createSessionDir(sessionPath,\n",
        "                                                   inputDicomPath)\n",
        "\n",
        "    # Import DICOM scan to planC\n",
        "    planC = pc.load_dcm_dir(dcmDir)\n",
        "    numExistingStructs = len(planC.structure)\n",
        "\n",
        "    # Pre-process data\n",
        "    procScan3M, resizeGridS = processInputData(planC)\n",
        "    planC = pc.import_scan_array(procScan3M, resizeGridS[0], \\\n",
        "            resizeGridS[1], resizeGridS[2], modality, scanNum, planC)\n",
        "    procScanNum = len(planC.scan) - 1\n",
        "\n",
        "    # Export inputs to NIfTI\n",
        "    scanFilename = os.path.join(modInputPath,\n",
        "                                f\"{fileList[iFile]}_scan_3D.nii.gz\")\n",
        "    planC.scan[procScanNum].save_nii(scanFilename)\n",
        "\n",
        "    # Apply model\n",
        "    subprocess.run(f\"source {activateScript} && python {scriptPath} \\\n",
        "                  {modInputPath} {modOutputPath}\", \\\n",
        "                  capture_output=False,shell=True,executable=\"/bin/bash\")\n",
        "\n",
        "    # Import results to planC\n",
        "    planC = postProcAndImportSeg(modOutputPath,procScanNum,scanNum,planC)\n",
        "    newNumStructs = len(planC.structure)\n",
        "\n",
        "    # Export segmentations to DICOM\n",
        "    structFileName = fileList[iFile]+'_AI_seg.dcm'\n",
        "    structFilePath = os.path.join(outputDicomPath,structFileName)\n",
        "    structNumV = np.arange(numExistingStructs,newNumStructs)\n",
        "    indOrigV = np.array([cerrScn.getScanNumFromUID(planC.structure[structNum].assocScanUID,\\\n",
        "                        planC) for structNum in structNumV], dtype=int)\n",
        "    structsToExportV = structNumV[indOrigV == scanNum]\n",
        "    seriesDescription = \"AI Generated\"\n",
        "    exportOpts = {'seriesDescription': seriesDescription}\n",
        "    rtstruct_iod.create(structsToExportV,structFilePath,planC,exportOpts)"
      ]
    },
    {
      "cell_type": "markdown",
      "metadata": {
        "id": "Kugws3KBl4MK"
      },
      "source": [
        "## **Optional**: Uncomment the following to download the output segmentations to your workspace bucket."
      ]
    },
    {
      "cell_type": "code",
      "execution_count": null,
      "metadata": {
        "id": "_nkTBkijl23J"
      },
      "outputs": [],
      "source": [
        "# workspaceBucket = os.environ['WORKSPACE_BUCKET']\n",
        "# !gcloud storage cp -r {outputDicomPath} {workspaceBucket}"
      ]
    },
    {
      "cell_type": "markdown",
      "metadata": {
        "id": "iLzFp-l_sgcT"
      },
      "source": [
        "# Display results"
      ]
    },
    {
      "cell_type": "markdown",
      "metadata": {
        "id": "L8FTwNqhsgcT"
      },
      "source": [
        "## Overlay AI segmentations on scan for visualization using ***Matplotlib***\n",
        "\n",
        "Note: This example displays the last segmented dataset by default.  \n",
        "Load the appropriate pyCERR archive to `planC` to view results for desired dataset."
      ]
    },
    {
      "cell_type": "code",
      "execution_count": null,
      "metadata": {
        "colab": {
          "base_uri": "https://localhost:8080/",
          "height": 1000,
          "referenced_widgets": [
            "49831fdf834942649bb070398205787b",
            "7115336c1ad94a6b96901ab715ecd584",
            "e4e0a4aa5e044860a4342c8ef673f7b8",
            "0d6fa731dea346a28ec5285ee4b18911",
            "2e55607a8da14cd49e2346074eca9d6b",
            "f599b4f72d0240f88d2428b3a86e35f1",
            "1b65205e0cc944a8b055b7a935dd42be",
            "6d9ff4c326944299ad22a0fa206ba27b",
            "e90a87afb450406dae9a58aa8099b6d9",
            "04e54b7c515647a4aee237cb26f483ce",
            "cee608df8cf74530a4563853f60e87ff",
            "194c82aed28a48c1acb6bdd3d09924d9",
            "c06bd9848442454c8f3b10478bf1f598",
            "e79cd70e8e4a440585fc12db53223d66",
            "bb3dded75268448ca28933471049aaa7",
            "65876d3221be4cb08da821576bcb1692",
            "07808264bce04e36942dd8e00243e496",
            "419bc8f9bb3045cdac8c47a993d0c84b",
            "b1e36184b1104ed4943ce7d8af23a421",
            "0ad4e094546a40749a2a2318843515c1",
            "771db81225704c6e9b1579f3307d2696",
            "9678cdaef3db4b2eb6aa1a092ecd3aba",
            "8908acf014034036a5f786bbbf65abea",
            "83b09277c28d48a1860b3cef216328ad",
            "ab28fcb916d240f2beef5dc82604bd90",
            "0534c87fe2ae4f0da4f7617a7c51a3fa",
            "977bb080b8e24c418cfc9c664d76d8ec",
            "4f1f4e58812d44b3a2d975cad4026a09",
            "a3006666804a45569ee0f29396e642e0",
            "f1788acb96da42e584cee0b1dccfb537"
          ]
        },
        "id": "jWQD1KeVsgcT",
        "outputId": "5c996660-2ee7-4a97-fdea-740f13dfb91f"
      },
      "outputs": [
        {
          "output_type": "display_data",
          "data": {
            "text/plain": [
              "interactive(children=(IntSlider(value=65, description='slcNum', max=195, min=-65), Text(value='axial', descrip…"
            ],
            "application/vnd.jupyter.widget-view+json": {
              "version_major": 2,
              "version_minor": 0,
              "model_id": "49831fdf834942649bb070398205787b"
            }
          },
          "metadata": {}
        },
        {
          "output_type": "display_data",
          "data": {
            "text/plain": [
              "interactive(children=(IntSlider(value=256, description='slcNum', max=768, min=-256), Text(value='sagittal', de…"
            ],
            "application/vnd.jupyter.widget-view+json": {
              "version_major": 2,
              "version_minor": 0,
              "model_id": "cee608df8cf74530a4563853f60e87ff"
            }
          },
          "metadata": {}
        },
        {
          "output_type": "display_data",
          "data": {
            "text/plain": [
              "interactive(children=(IntSlider(value=256, description='slcNum', max=768, min=-256), Text(value='coronal', des…"
            ],
            "application/vnd.jupyter.widget-view+json": {
              "version_major": 2,
              "version_minor": 0,
              "model_id": "771db81225704c6e9b1579f3307d2696"
            }
          },
          "metadata": {}
        }
      ],
      "source": [
        "from cerr.viewer import showMplNb\n",
        "\n",
        "showMplNb(scanNum, structsToExportV, planC,\\\n",
        "          windowCenter=-400, windowWidth=2000)"
      ]
    }
  ],
  "metadata": {
    "colab": {
      "provenance": [],
      "gpuType": "T4"
    },
    "kernelspec": {
      "display_name": "Python 3",
      "name": "python3"
    },
    "language_info": {
      "codemirror_mode": {
        "name": "ipython",
        "version": 3
      },
      "file_extension": ".py",
      "mimetype": "text/x-python",
      "name": "python",
      "nbconvert_exporter": "python",
      "pygments_lexer": "ipython3",
      "version": "3.11.9"
    },
    "toc": {
      "base_numbering": 1,
      "nav_menu": {},
      "number_sections": true,
      "sideBar": true,
      "skip_h1_title": false,
      "title_cell": "Table of Contents",
      "title_sidebar": "Contents",
      "toc_cell": false,
      "toc_position": {},
      "toc_section_display": true,
      "toc_window_display": false
    },
    "accelerator": "GPU",
    "widgets": {
      "application/vnd.jupyter.widget-state+json": {
        "49831fdf834942649bb070398205787b": {
          "model_module": "@jupyter-widgets/controls",
          "model_name": "VBoxModel",
          "model_module_version": "1.5.0",
          "state": {
            "_dom_classes": [
              "widget-interact"
            ],
            "_model_module": "@jupyter-widgets/controls",
            "_model_module_version": "1.5.0",
            "_model_name": "VBoxModel",
            "_view_count": null,
            "_view_module": "@jupyter-widgets/controls",
            "_view_module_version": "1.5.0",
            "_view_name": "VBoxView",
            "box_style": "",
            "children": [
              "IPY_MODEL_7115336c1ad94a6b96901ab715ecd584",
              "IPY_MODEL_e4e0a4aa5e044860a4342c8ef673f7b8",
              "IPY_MODEL_0d6fa731dea346a28ec5285ee4b18911"
            ],
            "layout": "IPY_MODEL_2e55607a8da14cd49e2346074eca9d6b"
          }
        },
        "7115336c1ad94a6b96901ab715ecd584": {
          "model_module": "@jupyter-widgets/controls",
          "model_name": "IntSliderModel",
          "model_module_version": "1.5.0",
          "state": {
            "_dom_classes": [],
            "_model_module": "@jupyter-widgets/controls",
            "_model_module_version": "1.5.0",
            "_model_name": "IntSliderModel",
            "_view_count": null,
            "_view_module": "@jupyter-widgets/controls",
            "_view_module_version": "1.5.0",
            "_view_name": "IntSliderView",
            "continuous_update": true,
            "description": "slcNum",
            "description_tooltip": null,
            "disabled": false,
            "layout": "IPY_MODEL_f599b4f72d0240f88d2428b3a86e35f1",
            "max": 195,
            "min": -65,
            "orientation": "horizontal",
            "readout": true,
            "readout_format": "d",
            "step": 1,
            "style": "IPY_MODEL_1b65205e0cc944a8b055b7a935dd42be",
            "value": 65
          }
        },
        "e4e0a4aa5e044860a4342c8ef673f7b8": {
          "model_module": "@jupyter-widgets/controls",
          "model_name": "TextModel",
          "model_module_version": "1.5.0",
          "state": {
            "_dom_classes": [],
            "_model_module": "@jupyter-widgets/controls",
            "_model_module_version": "1.5.0",
            "_model_name": "TextModel",
            "_view_count": null,
            "_view_module": "@jupyter-widgets/controls",
            "_view_module_version": "1.5.0",
            "_view_name": "TextView",
            "continuous_update": true,
            "description": "view",
            "description_tooltip": null,
            "disabled": false,
            "layout": "IPY_MODEL_6d9ff4c326944299ad22a0fa206ba27b",
            "placeholder": "​",
            "style": "IPY_MODEL_e90a87afb450406dae9a58aa8099b6d9",
            "value": "axial"
          }
        },
        "0d6fa731dea346a28ec5285ee4b18911": {
          "model_module": "@jupyter-widgets/output",
          "model_name": "OutputModel",
          "model_module_version": "1.0.0",
          "state": {
            "_dom_classes": [],
            "_model_module": "@jupyter-widgets/output",
            "_model_module_version": "1.0.0",
            "_model_name": "OutputModel",
            "_view_count": null,
            "_view_module": "@jupyter-widgets/output",
            "_view_module_version": "1.0.0",
            "_view_name": "OutputView",
            "layout": "IPY_MODEL_04e54b7c515647a4aee237cb26f483ce",
            "msg_id": "",
            "outputs": [
              {
                "output_type": "stream",
                "name": "stdout",
                "text": [
                  "axial view slice 65\n"
                ]
              },
              {
                "output_type": "display_data",
                "data": {
                  "text/plain": "<Figure size 640x480 with 2 Axes>",
                  "image/png": "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\n"
                },
                "metadata": {}
              }
            ]
          }
        },
        "2e55607a8da14cd49e2346074eca9d6b": {
          "model_module": "@jupyter-widgets/base",
          "model_name": "LayoutModel",
          "model_module_version": "1.2.0",
          "state": {
            "_model_module": "@jupyter-widgets/base",
            "_model_module_version": "1.2.0",
            "_model_name": "LayoutModel",
            "_view_count": null,
            "_view_module": "@jupyter-widgets/base",
            "_view_module_version": "1.2.0",
            "_view_name": "LayoutView",
            "align_content": null,
            "align_items": null,
            "align_self": null,
            "border": null,
            "bottom": null,
            "display": null,
            "flex": null,
            "flex_flow": null,
            "grid_area": null,
            "grid_auto_columns": null,
            "grid_auto_flow": null,
            "grid_auto_rows": null,
            "grid_column": null,
            "grid_gap": null,
            "grid_row": null,
            "grid_template_areas": null,
            "grid_template_columns": null,
            "grid_template_rows": null,
            "height": null,
            "justify_content": null,
            "justify_items": null,
            "left": null,
            "margin": null,
            "max_height": null,
            "max_width": null,
            "min_height": null,
            "min_width": null,
            "object_fit": null,
            "object_position": null,
            "order": null,
            "overflow": null,
            "overflow_x": null,
            "overflow_y": null,
            "padding": null,
            "right": null,
            "top": null,
            "visibility": null,
            "width": null
          }
        },
        "f599b4f72d0240f88d2428b3a86e35f1": {
          "model_module": "@jupyter-widgets/base",
          "model_name": "LayoutModel",
          "model_module_version": "1.2.0",
          "state": {
            "_model_module": "@jupyter-widgets/base",
            "_model_module_version": "1.2.0",
            "_model_name": "LayoutModel",
            "_view_count": null,
            "_view_module": "@jupyter-widgets/base",
            "_view_module_version": "1.2.0",
            "_view_name": "LayoutView",
            "align_content": null,
            "align_items": null,
            "align_self": null,
            "border": null,
            "bottom": null,
            "display": null,
            "flex": null,
            "flex_flow": null,
            "grid_area": null,
            "grid_auto_columns": null,
            "grid_auto_flow": null,
            "grid_auto_rows": null,
            "grid_column": null,
            "grid_gap": null,
            "grid_row": null,
            "grid_template_areas": null,
            "grid_template_columns": null,
            "grid_template_rows": null,
            "height": null,
            "justify_content": null,
            "justify_items": null,
            "left": null,
            "margin": null,
            "max_height": null,
            "max_width": null,
            "min_height": null,
            "min_width": null,
            "object_fit": null,
            "object_position": null,
            "order": null,
            "overflow": null,
            "overflow_x": null,
            "overflow_y": null,
            "padding": null,
            "right": null,
            "top": null,
            "visibility": null,
            "width": null
          }
        },
        "1b65205e0cc944a8b055b7a935dd42be": {
          "model_module": "@jupyter-widgets/controls",
          "model_name": "SliderStyleModel",
          "model_module_version": "1.5.0",
          "state": {
            "_model_module": "@jupyter-widgets/controls",
            "_model_module_version": "1.5.0",
            "_model_name": "SliderStyleModel",
            "_view_count": null,
            "_view_module": "@jupyter-widgets/base",
            "_view_module_version": "1.2.0",
            "_view_name": "StyleView",
            "description_width": "",
            "handle_color": null
          }
        },
        "6d9ff4c326944299ad22a0fa206ba27b": {
          "model_module": "@jupyter-widgets/base",
          "model_name": "LayoutModel",
          "model_module_version": "1.2.0",
          "state": {
            "_model_module": "@jupyter-widgets/base",
            "_model_module_version": "1.2.0",
            "_model_name": "LayoutModel",
            "_view_count": null,
            "_view_module": "@jupyter-widgets/base",
            "_view_module_version": "1.2.0",
            "_view_name": "LayoutView",
            "align_content": null,
            "align_items": null,
            "align_self": null,
            "border": null,
            "bottom": null,
            "display": null,
            "flex": null,
            "flex_flow": null,
            "grid_area": null,
            "grid_auto_columns": null,
            "grid_auto_flow": null,
            "grid_auto_rows": null,
            "grid_column": null,
            "grid_gap": null,
            "grid_row": null,
            "grid_template_areas": null,
            "grid_template_columns": null,
            "grid_template_rows": null,
            "height": null,
            "justify_content": null,
            "justify_items": null,
            "left": null,
            "margin": null,
            "max_height": null,
            "max_width": null,
            "min_height": null,
            "min_width": null,
            "object_fit": null,
            "object_position": null,
            "order": null,
            "overflow": null,
            "overflow_x": null,
            "overflow_y": null,
            "padding": null,
            "right": null,
            "top": null,
            "visibility": null,
            "width": null
          }
        },
        "e90a87afb450406dae9a58aa8099b6d9": {
          "model_module": "@jupyter-widgets/controls",
          "model_name": "DescriptionStyleModel",
          "model_module_version": "1.5.0",
          "state": {
            "_model_module": "@jupyter-widgets/controls",
            "_model_module_version": "1.5.0",
            "_model_name": "DescriptionStyleModel",
            "_view_count": null,
            "_view_module": "@jupyter-widgets/base",
            "_view_module_version": "1.2.0",
            "_view_name": "StyleView",
            "description_width": ""
          }
        },
        "04e54b7c515647a4aee237cb26f483ce": {
          "model_module": "@jupyter-widgets/base",
          "model_name": "LayoutModel",
          "model_module_version": "1.2.0",
          "state": {
            "_model_module": "@jupyter-widgets/base",
            "_model_module_version": "1.2.0",
            "_model_name": "LayoutModel",
            "_view_count": null,
            "_view_module": "@jupyter-widgets/base",
            "_view_module_version": "1.2.0",
            "_view_name": "LayoutView",
            "align_content": null,
            "align_items": null,
            "align_self": null,
            "border": null,
            "bottom": null,
            "display": null,
            "flex": null,
            "flex_flow": null,
            "grid_area": null,
            "grid_auto_columns": null,
            "grid_auto_flow": null,
            "grid_auto_rows": null,
            "grid_column": null,
            "grid_gap": null,
            "grid_row": null,
            "grid_template_areas": null,
            "grid_template_columns": null,
            "grid_template_rows": null,
            "height": null,
            "justify_content": null,
            "justify_items": null,
            "left": null,
            "margin": null,
            "max_height": null,
            "max_width": null,
            "min_height": null,
            "min_width": null,
            "object_fit": null,
            "object_position": null,
            "order": null,
            "overflow": null,
            "overflow_x": null,
            "overflow_y": null,
            "padding": null,
            "right": null,
            "top": null,
            "visibility": null,
            "width": null
          }
        },
        "cee608df8cf74530a4563853f60e87ff": {
          "model_module": "@jupyter-widgets/controls",
          "model_name": "VBoxModel",
          "model_module_version": "1.5.0",
          "state": {
            "_dom_classes": [
              "widget-interact"
            ],
            "_model_module": "@jupyter-widgets/controls",
            "_model_module_version": "1.5.0",
            "_model_name": "VBoxModel",
            "_view_count": null,
            "_view_module": "@jupyter-widgets/controls",
            "_view_module_version": "1.5.0",
            "_view_name": "VBoxView",
            "box_style": "",
            "children": [
              "IPY_MODEL_194c82aed28a48c1acb6bdd3d09924d9",
              "IPY_MODEL_c06bd9848442454c8f3b10478bf1f598",
              "IPY_MODEL_e79cd70e8e4a440585fc12db53223d66"
            ],
            "layout": "IPY_MODEL_bb3dded75268448ca28933471049aaa7"
          }
        },
        "194c82aed28a48c1acb6bdd3d09924d9": {
          "model_module": "@jupyter-widgets/controls",
          "model_name": "IntSliderModel",
          "model_module_version": "1.5.0",
          "state": {
            "_dom_classes": [],
            "_model_module": "@jupyter-widgets/controls",
            "_model_module_version": "1.5.0",
            "_model_name": "IntSliderModel",
            "_view_count": null,
            "_view_module": "@jupyter-widgets/controls",
            "_view_module_version": "1.5.0",
            "_view_name": "IntSliderView",
            "continuous_update": true,
            "description": "slcNum",
            "description_tooltip": null,
            "disabled": false,
            "layout": "IPY_MODEL_65876d3221be4cb08da821576bcb1692",
            "max": 768,
            "min": -256,
            "orientation": "horizontal",
            "readout": true,
            "readout_format": "d",
            "step": 1,
            "style": "IPY_MODEL_07808264bce04e36942dd8e00243e496",
            "value": 256
          }
        },
        "c06bd9848442454c8f3b10478bf1f598": {
          "model_module": "@jupyter-widgets/controls",
          "model_name": "TextModel",
          "model_module_version": "1.5.0",
          "state": {
            "_dom_classes": [],
            "_model_module": "@jupyter-widgets/controls",
            "_model_module_version": "1.5.0",
            "_model_name": "TextModel",
            "_view_count": null,
            "_view_module": "@jupyter-widgets/controls",
            "_view_module_version": "1.5.0",
            "_view_name": "TextView",
            "continuous_update": true,
            "description": "view",
            "description_tooltip": null,
            "disabled": false,
            "layout": "IPY_MODEL_419bc8f9bb3045cdac8c47a993d0c84b",
            "placeholder": "​",
            "style": "IPY_MODEL_b1e36184b1104ed4943ce7d8af23a421",
            "value": "sagittal"
          }
        },
        "e79cd70e8e4a440585fc12db53223d66": {
          "model_module": "@jupyter-widgets/output",
          "model_name": "OutputModel",
          "model_module_version": "1.0.0",
          "state": {
            "_dom_classes": [],
            "_model_module": "@jupyter-widgets/output",
            "_model_module_version": "1.0.0",
            "_model_name": "OutputModel",
            "_view_count": null,
            "_view_module": "@jupyter-widgets/output",
            "_view_module_version": "1.0.0",
            "_view_name": "OutputView",
            "layout": "IPY_MODEL_0ad4e094546a40749a2a2318843515c1",
            "msg_id": "",
            "outputs": [
              {
                "output_type": "stream",
                "name": "stdout",
                "text": [
                  "sagittal view slice 256\n"
                ]
              },
              {
                "output_type": "display_data",
                "data": {
                  "text/plain": "<Figure size 1000x1000 with 2 Axes>",
                  "image/png": "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\n"
                },
                "metadata": {}
              }
            ]
          }
        },
        "bb3dded75268448ca28933471049aaa7": {
          "model_module": "@jupyter-widgets/base",
          "model_name": "LayoutModel",
          "model_module_version": "1.2.0",
          "state": {
            "_model_module": "@jupyter-widgets/base",
            "_model_module_version": "1.2.0",
            "_model_name": "LayoutModel",
            "_view_count": null,
            "_view_module": "@jupyter-widgets/base",
            "_view_module_version": "1.2.0",
            "_view_name": "LayoutView",
            "align_content": null,
            "align_items": null,
            "align_self": null,
            "border": null,
            "bottom": null,
            "display": null,
            "flex": null,
            "flex_flow": null,
            "grid_area": null,
            "grid_auto_columns": null,
            "grid_auto_flow": null,
            "grid_auto_rows": null,
            "grid_column": null,
            "grid_gap": null,
            "grid_row": null,
            "grid_template_areas": null,
            "grid_template_columns": null,
            "grid_template_rows": null,
            "height": null,
            "justify_content": null,
            "justify_items": null,
            "left": null,
            "margin": null,
            "max_height": null,
            "max_width": null,
            "min_height": null,
            "min_width": null,
            "object_fit": null,
            "object_position": null,
            "order": null,
            "overflow": null,
            "overflow_x": null,
            "overflow_y": null,
            "padding": null,
            "right": null,
            "top": null,
            "visibility": null,
            "width": null
          }
        },
        "65876d3221be4cb08da821576bcb1692": {
          "model_module": "@jupyter-widgets/base",
          "model_name": "LayoutModel",
          "model_module_version": "1.2.0",
          "state": {
            "_model_module": "@jupyter-widgets/base",
            "_model_module_version": "1.2.0",
            "_model_name": "LayoutModel",
            "_view_count": null,
            "_view_module": "@jupyter-widgets/base",
            "_view_module_version": "1.2.0",
            "_view_name": "LayoutView",
            "align_content": null,
            "align_items": null,
            "align_self": null,
            "border": null,
            "bottom": null,
            "display": null,
            "flex": null,
            "flex_flow": null,
            "grid_area": null,
            "grid_auto_columns": null,
            "grid_auto_flow": null,
            "grid_auto_rows": null,
            "grid_column": null,
            "grid_gap": null,
            "grid_row": null,
            "grid_template_areas": null,
            "grid_template_columns": null,
            "grid_template_rows": null,
            "height": null,
            "justify_content": null,
            "justify_items": null,
            "left": null,
            "margin": null,
            "max_height": null,
            "max_width": null,
            "min_height": null,
            "min_width": null,
            "object_fit": null,
            "object_position": null,
            "order": null,
            "overflow": null,
            "overflow_x": null,
            "overflow_y": null,
            "padding": null,
            "right": null,
            "top": null,
            "visibility": null,
            "width": null
          }
        },
        "07808264bce04e36942dd8e00243e496": {
          "model_module": "@jupyter-widgets/controls",
          "model_name": "SliderStyleModel",
          "model_module_version": "1.5.0",
          "state": {
            "_model_module": "@jupyter-widgets/controls",
            "_model_module_version": "1.5.0",
            "_model_name": "SliderStyleModel",
            "_view_count": null,
            "_view_module": "@jupyter-widgets/base",
            "_view_module_version": "1.2.0",
            "_view_name": "StyleView",
            "description_width": "",
            "handle_color": null
          }
        },
        "419bc8f9bb3045cdac8c47a993d0c84b": {
          "model_module": "@jupyter-widgets/base",
          "model_name": "LayoutModel",
          "model_module_version": "1.2.0",
          "state": {
            "_model_module": "@jupyter-widgets/base",
            "_model_module_version": "1.2.0",
            "_model_name": "LayoutModel",
            "_view_count": null,
            "_view_module": "@jupyter-widgets/base",
            "_view_module_version": "1.2.0",
            "_view_name": "LayoutView",
            "align_content": null,
            "align_items": null,
            "align_self": null,
            "border": null,
            "bottom": null,
            "display": null,
            "flex": null,
            "flex_flow": null,
            "grid_area": null,
            "grid_auto_columns": null,
            "grid_auto_flow": null,
            "grid_auto_rows": null,
            "grid_column": null,
            "grid_gap": null,
            "grid_row": null,
            "grid_template_areas": null,
            "grid_template_columns": null,
            "grid_template_rows": null,
            "height": null,
            "justify_content": null,
            "justify_items": null,
            "left": null,
            "margin": null,
            "max_height": null,
            "max_width": null,
            "min_height": null,
            "min_width": null,
            "object_fit": null,
            "object_position": null,
            "order": null,
            "overflow": null,
            "overflow_x": null,
            "overflow_y": null,
            "padding": null,
            "right": null,
            "top": null,
            "visibility": null,
            "width": null
          }
        },
        "b1e36184b1104ed4943ce7d8af23a421": {
          "model_module": "@jupyter-widgets/controls",
          "model_name": "DescriptionStyleModel",
          "model_module_version": "1.5.0",
          "state": {
            "_model_module": "@jupyter-widgets/controls",
            "_model_module_version": "1.5.0",
            "_model_name": "DescriptionStyleModel",
            "_view_count": null,
            "_view_module": "@jupyter-widgets/base",
            "_view_module_version": "1.2.0",
            "_view_name": "StyleView",
            "description_width": ""
          }
        },
        "0ad4e094546a40749a2a2318843515c1": {
          "model_module": "@jupyter-widgets/base",
          "model_name": "LayoutModel",
          "model_module_version": "1.2.0",
          "state": {
            "_model_module": "@jupyter-widgets/base",
            "_model_module_version": "1.2.0",
            "_model_name": "LayoutModel",
            "_view_count": null,
            "_view_module": "@jupyter-widgets/base",
            "_view_module_version": "1.2.0",
            "_view_name": "LayoutView",
            "align_content": null,
            "align_items": null,
            "align_self": null,
            "border": null,
            "bottom": null,
            "display": null,
            "flex": null,
            "flex_flow": null,
            "grid_area": null,
            "grid_auto_columns": null,
            "grid_auto_flow": null,
            "grid_auto_rows": null,
            "grid_column": null,
            "grid_gap": null,
            "grid_row": null,
            "grid_template_areas": null,
            "grid_template_columns": null,
            "grid_template_rows": null,
            "height": null,
            "justify_content": null,
            "justify_items": null,
            "left": null,
            "margin": null,
            "max_height": null,
            "max_width": null,
            "min_height": null,
            "min_width": null,
            "object_fit": null,
            "object_position": null,
            "order": null,
            "overflow": null,
            "overflow_x": null,
            "overflow_y": null,
            "padding": null,
            "right": null,
            "top": null,
            "visibility": null,
            "width": null
          }
        },
        "771db81225704c6e9b1579f3307d2696": {
          "model_module": "@jupyter-widgets/controls",
          "model_name": "VBoxModel",
          "model_module_version": "1.5.0",
          "state": {
            "_dom_classes": [
              "widget-interact"
            ],
            "_model_module": "@jupyter-widgets/controls",
            "_model_module_version": "1.5.0",
            "_model_name": "VBoxModel",
            "_view_count": null,
            "_view_module": "@jupyter-widgets/controls",
            "_view_module_version": "1.5.0",
            "_view_name": "VBoxView",
            "box_style": "",
            "children": [
              "IPY_MODEL_9678cdaef3db4b2eb6aa1a092ecd3aba",
              "IPY_MODEL_8908acf014034036a5f786bbbf65abea",
              "IPY_MODEL_83b09277c28d48a1860b3cef216328ad"
            ],
            "layout": "IPY_MODEL_ab28fcb916d240f2beef5dc82604bd90"
          }
        },
        "9678cdaef3db4b2eb6aa1a092ecd3aba": {
          "model_module": "@jupyter-widgets/controls",
          "model_name": "IntSliderModel",
          "model_module_version": "1.5.0",
          "state": {
            "_dom_classes": [],
            "_model_module": "@jupyter-widgets/controls",
            "_model_module_version": "1.5.0",
            "_model_name": "IntSliderModel",
            "_view_count": null,
            "_view_module": "@jupyter-widgets/controls",
            "_view_module_version": "1.5.0",
            "_view_name": "IntSliderView",
            "continuous_update": true,
            "description": "slcNum",
            "description_tooltip": null,
            "disabled": false,
            "layout": "IPY_MODEL_0534c87fe2ae4f0da4f7617a7c51a3fa",
            "max": 768,
            "min": -256,
            "orientation": "horizontal",
            "readout": true,
            "readout_format": "d",
            "step": 1,
            "style": "IPY_MODEL_977bb080b8e24c418cfc9c664d76d8ec",
            "value": 256
          }
        },
        "8908acf014034036a5f786bbbf65abea": {
          "model_module": "@jupyter-widgets/controls",
          "model_name": "TextModel",
          "model_module_version": "1.5.0",
          "state": {
            "_dom_classes": [],
            "_model_module": "@jupyter-widgets/controls",
            "_model_module_version": "1.5.0",
            "_model_name": "TextModel",
            "_view_count": null,
            "_view_module": "@jupyter-widgets/controls",
            "_view_module_version": "1.5.0",
            "_view_name": "TextView",
            "continuous_update": true,
            "description": "view",
            "description_tooltip": null,
            "disabled": false,
            "layout": "IPY_MODEL_4f1f4e58812d44b3a2d975cad4026a09",
            "placeholder": "​",
            "style": "IPY_MODEL_a3006666804a45569ee0f29396e642e0",
            "value": "coronal"
          }
        },
        "83b09277c28d48a1860b3cef216328ad": {
          "model_module": "@jupyter-widgets/output",
          "model_name": "OutputModel",
          "model_module_version": "1.0.0",
          "state": {
            "_dom_classes": [],
            "_model_module": "@jupyter-widgets/output",
            "_model_module_version": "1.0.0",
            "_model_name": "OutputModel",
            "_view_count": null,
            "_view_module": "@jupyter-widgets/output",
            "_view_module_version": "1.0.0",
            "_view_name": "OutputView",
            "layout": "IPY_MODEL_f1788acb96da42e584cee0b1dccfb537",
            "msg_id": "",
            "outputs": [
              {
                "output_type": "stream",
                "name": "stdout",
                "text": [
                  "coronal view slice 256\n"
                ]
              },
              {
                "output_type": "display_data",
                "data": {
                  "text/plain": "<Figure size 1000x1000 with 2 Axes>",
                  "image/png": "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\n"
                },
                "metadata": {}
              }
            ]
          }
        },
        "ab28fcb916d240f2beef5dc82604bd90": {
          "model_module": "@jupyter-widgets/base",
          "model_name": "LayoutModel",
          "model_module_version": "1.2.0",
          "state": {
            "_model_module": "@jupyter-widgets/base",
            "_model_module_version": "1.2.0",
            "_model_name": "LayoutModel",
            "_view_count": null,
            "_view_module": "@jupyter-widgets/base",
            "_view_module_version": "1.2.0",
            "_view_name": "LayoutView",
            "align_content": null,
            "align_items": null,
            "align_self": null,
            "border": null,
            "bottom": null,
            "display": null,
            "flex": null,
            "flex_flow": null,
            "grid_area": null,
            "grid_auto_columns": null,
            "grid_auto_flow": null,
            "grid_auto_rows": null,
            "grid_column": null,
            "grid_gap": null,
            "grid_row": null,
            "grid_template_areas": null,
            "grid_template_columns": null,
            "grid_template_rows": null,
            "height": null,
            "justify_content": null,
            "justify_items": null,
            "left": null,
            "margin": null,
            "max_height": null,
            "max_width": null,
            "min_height": null,
            "min_width": null,
            "object_fit": null,
            "object_position": null,
            "order": null,
            "overflow": null,
            "overflow_x": null,
            "overflow_y": null,
            "padding": null,
            "right": null,
            "top": null,
            "visibility": null,
            "width": null
          }
        },
        "0534c87fe2ae4f0da4f7617a7c51a3fa": {
          "model_module": "@jupyter-widgets/base",
          "model_name": "LayoutModel",
          "model_module_version": "1.2.0",
          "state": {
            "_model_module": "@jupyter-widgets/base",
            "_model_module_version": "1.2.0",
            "_model_name": "LayoutModel",
            "_view_count": null,
            "_view_module": "@jupyter-widgets/base",
            "_view_module_version": "1.2.0",
            "_view_name": "LayoutView",
            "align_content": null,
            "align_items": null,
            "align_self": null,
            "border": null,
            "bottom": null,
            "display": null,
            "flex": null,
            "flex_flow": null,
            "grid_area": null,
            "grid_auto_columns": null,
            "grid_auto_flow": null,
            "grid_auto_rows": null,
            "grid_column": null,
            "grid_gap": null,
            "grid_row": null,
            "grid_template_areas": null,
            "grid_template_columns": null,
            "grid_template_rows": null,
            "height": null,
            "justify_content": null,
            "justify_items": null,
            "left": null,
            "margin": null,
            "max_height": null,
            "max_width": null,
            "min_height": null,
            "min_width": null,
            "object_fit": null,
            "object_position": null,
            "order": null,
            "overflow": null,
            "overflow_x": null,
            "overflow_y": null,
            "padding": null,
            "right": null,
            "top": null,
            "visibility": null,
            "width": null
          }
        },
        "977bb080b8e24c418cfc9c664d76d8ec": {
          "model_module": "@jupyter-widgets/controls",
          "model_name": "SliderStyleModel",
          "model_module_version": "1.5.0",
          "state": {
            "_model_module": "@jupyter-widgets/controls",
            "_model_module_version": "1.5.0",
            "_model_name": "SliderStyleModel",
            "_view_count": null,
            "_view_module": "@jupyter-widgets/base",
            "_view_module_version": "1.2.0",
            "_view_name": "StyleView",
            "description_width": "",
            "handle_color": null
          }
        },
        "4f1f4e58812d44b3a2d975cad4026a09": {
          "model_module": "@jupyter-widgets/base",
          "model_name": "LayoutModel",
          "model_module_version": "1.2.0",
          "state": {
            "_model_module": "@jupyter-widgets/base",
            "_model_module_version": "1.2.0",
            "_model_name": "LayoutModel",
            "_view_count": null,
            "_view_module": "@jupyter-widgets/base",
            "_view_module_version": "1.2.0",
            "_view_name": "LayoutView",
            "align_content": null,
            "align_items": null,
            "align_self": null,
            "border": null,
            "bottom": null,
            "display": null,
            "flex": null,
            "flex_flow": null,
            "grid_area": null,
            "grid_auto_columns": null,
            "grid_auto_flow": null,
            "grid_auto_rows": null,
            "grid_column": null,
            "grid_gap": null,
            "grid_row": null,
            "grid_template_areas": null,
            "grid_template_columns": null,
            "grid_template_rows": null,
            "height": null,
            "justify_content": null,
            "justify_items": null,
            "left": null,
            "margin": null,
            "max_height": null,
            "max_width": null,
            "min_height": null,
            "min_width": null,
            "object_fit": null,
            "object_position": null,
            "order": null,
            "overflow": null,
            "overflow_x": null,
            "overflow_y": null,
            "padding": null,
            "right": null,
            "top": null,
            "visibility": null,
            "width": null
          }
        },
        "a3006666804a45569ee0f29396e642e0": {
          "model_module": "@jupyter-widgets/controls",
          "model_name": "DescriptionStyleModel",
          "model_module_version": "1.5.0",
          "state": {
            "_model_module": "@jupyter-widgets/controls",
            "_model_module_version": "1.5.0",
            "_model_name": "DescriptionStyleModel",
            "_view_count": null,
            "_view_module": "@jupyter-widgets/base",
            "_view_module_version": "1.2.0",
            "_view_name": "StyleView",
            "description_width": ""
          }
        },
        "f1788acb96da42e584cee0b1dccfb537": {
          "model_module": "@jupyter-widgets/base",
          "model_name": "LayoutModel",
          "model_module_version": "1.2.0",
          "state": {
            "_model_module": "@jupyter-widgets/base",
            "_model_module_version": "1.2.0",
            "_model_name": "LayoutModel",
            "_view_count": null,
            "_view_module": "@jupyter-widgets/base",
            "_view_module_version": "1.2.0",
            "_view_name": "LayoutView",
            "align_content": null,
            "align_items": null,
            "align_self": null,
            "border": null,
            "bottom": null,
            "display": null,
            "flex": null,
            "flex_flow": null,
            "grid_area": null,
            "grid_auto_columns": null,
            "grid_auto_flow": null,
            "grid_auto_rows": null,
            "grid_column": null,
            "grid_gap": null,
            "grid_row": null,
            "grid_template_areas": null,
            "grid_template_columns": null,
            "grid_template_rows": null,
            "height": null,
            "justify_content": null,
            "justify_items": null,
            "left": null,
            "margin": null,
            "max_height": null,
            "max_width": null,
            "min_height": null,
            "min_width": null,
            "object_fit": null,
            "object_position": null,
            "order": null,
            "overflow": null,
            "overflow_x": null,
            "overflow_y": null,
            "padding": null,
            "right": null,
            "top": null,
            "visibility": null,
            "width": null
          }
        }
      }
    }
  },
  "nbformat": 4,
  "nbformat_minor": 0
}
