{
  "cells": [
     {
          "cell_type": "markdown",
          "metadata": {
            "id": "view-in-github"
          },
          "source": [
            "<a href=\"https://colab.research.google.com/github/cerr/pycerr-notebooks/blob/main/autosegment_CT_Lung_OARs.ipynb\" target=\"_parent\"><img src=\"https://colab.research.google.com/assets/colab-badge.svg\" alt=\"Open In Colab\"/></a>"
          ]
    },	
    {
      "cell_type": "markdown",
      "metadata": {
        "id": "kNoydh-RsgcD"
      },
      "source": [
        "# Introduction\n",
        "\n",
        "In this tutorial, we will demonstrate how to apply a pre-trained AI model to segment the OARs on a lung CT scan using pyCERR.  \n",
        "\n",
        "## AI model\n",
        "* The segmentation model used here was trained and validated on CT scans used for RT planning. Its performance on diagnostic CTs is expected to be sub-optimal.\n",
        "* The trained model is packaged as a Conda environment archive containing  python libraries and other dependencies.\n",
        "* Applying this model requires access to a GPU.  \n",
        "\n",
        "  *On Colab* :  `Runtime > Change runtime type > Select GPU `\n",
        "\n",
        "## I/O\n",
        "* **Input**: DICOM-format planning lung CT scan(s).  \n",
        "  \n",
        "Input data should be organized as: one directory of DICOM images per patient.    \n",
        "  \n",
        "    \n",
        "    Input dir\n",
        "            |------Pat1  \n",
        "                      |------img1.dcm  \n",
        "                             img2.dcm  \n",
        "                             ....  \n",
        "                             ....  \n",
        "            |-----Pat2  \n",
        "                     |------img1.dcm  \n",
        "                            img2.dcm  \n",
        "                            ....  \n",
        "                            ....  \n",
        "\n",
        "\n",
        "* **Output**: DICOM RTStruct-format segmentations.\n",
        "\n",
        "\n",
        "## Running the model\n",
        "\n",
        "* The Conda archive is downloaded to a configurable `condaEnvPath`. By default `condaEnvPath = '/content/pretrainedModel/'`\n",
        "* The inference script is located at   \n",
        "`wrapperPath = os.path.join(condaEnvPath,'CT_LungOAR_incrMRRN/model_wrapper/run_inference_nii.py')`\n",
        "\n",
        "* Command to execute the model\n",
        "```python\n",
        "!python {wrapperPath} {input_nii_directory} {output_nii_directory}\n",
        "```\n",
        "* [***pyCERR***](https://github.com/cerr/pyCERR) is used for data pre- and post-processing, including converting DICOM to NIfTI format, required to run the model."
      ]
    },
    {
      "cell_type": "markdown",
      "source": [
        "## License\n",
        "\n",
        "By downloading the software you are agreeing to the following terms and conditions as well as to the Terms of Use of CERR software.\n",
        "\n",
        "**`THE SOFTWARE IS PROVIDED \"AS IS\" AND CERR DEVELOPMENT TEAM AND ITS COLLABORATORS DO NOT MAKE ANY WARRANTY, EXPRESS OR IMPLIED, INCLUDING BUT NOT LIMITED TO WARRANTIES OF MERCHANTABILITY AND FITNESS FOR A PARTICULAR PURPOSE, NOR DO THEY ASSUME ANY LIABILITY OR RESPONSIBILITY FOR THE USE OF THIS SOFTWARE.`**\n",
        "\n",
        "`This software is for research purposes only and has not been approved for clinical use.`\n",
        "\n",
        "`Software has not been reviewed or approved by the Food and Drug Administration, and is for non-clinical, IRB-approved Research Use Only. In no event shall data or images generated through the use of the Software be used in the provision of patient care.`\n",
        "  \n",
        "`YOU MAY NOT DISTRIBUTE COPIES of this software, or copies of software derived from this software, to others outside your organization without specific prior written permission from the CERR development team except where noted for specific software products.`\n",
        "\n",
        "`All Technology and technical data delivered under this Agreement are subject to US export control laws and may be subject to export or import regulations in other countries. You agree to comply strictly with all such laws and regulations and acknowledge that you have the responsibility to obtain\n",
        "such licenses to export, re-export, or import as may be required after delivery to you.`\n",
        "\n",
        "**`You may publish papers and books using results produced using software provided that you reference the appropriate citations`**:\n",
        "  \n",
        "  * ***AI model***: https://doi.org/10.1109/TMI.2018.2857800  \n",
        "  * ***CERR model library***: https://doi.org/10.1016/j.ejmp.2020.04.011\n",
        "\n"
      ],
      "metadata": {
        "id": "6GVYj7k5e97G"
      }
    },
    {
      "cell_type": "markdown",
      "source": [
        "# Downloads"
      ],
      "metadata": {
        "id": "35nEDWKTg5c1"
      }
    },
    {
      "cell_type": "markdown",
      "source": [
        "\n",
        "## Download planning CTs (DICOM) from ***dataUrl*** to ***dataDownloadDir***\n"
      ],
      "metadata": {
        "id": "mP6FHznIg7Yd"
      }
    },
    {
      "cell_type": "code",
      "source": [
        "import os\n",
        "workDir = r'/home/jupyter' # r'/content' for Colab\n",
        "dataUrl = 'http://path.to/data'\n",
        "dataDownloadDir = os.path.join(workDir,'sampleData','testPlanningCTdicom')\n",
        "os.makedirs(dataDownloadDir,exist_ok=True)"
      ],
      "metadata": {
        "id": "l2cIR2Swg_84"
      },
      "execution_count": null,
      "outputs": []
    },
    {
      "cell_type": "code",
      "source": [
        "! wget -O sampleData.gz -L {dataUrl}\n",
        "! tar xf sampleData.gz -C {dataDownloadDir}\n",
        "! rm sampleData.gz"
      ],
      "metadata": {
        "id": "CWaGs8LqhZTD"
      },
      "execution_count": null,
      "outputs": []
    },
    {
      "cell_type": "markdown",
      "source": [
        "Define paths to input DICOM directory, desired output directory, and a session directory to store temporary files during model execution"
      ],
      "metadata": {
        "id": "VSvE1KsTj9do"
      }
    },
    {
      "cell_type": "code",
      "source": [
        "#Paths to input data and conda env with pre-trained models\n",
        "inputDicomPath = os.path.join(dataDownloadDir,'your_dir_name_here')  # Replace with apropriate path to your dataset\n",
        "outputDicomPath = os.path.join(workDir, 'AIoutput')\n",
        "sessionPath = os.path.join(workDir, 'temp')\n",
        "\n",
        "if not os.path.exists(outputDicomPath):\n",
        "  os.mkdir(outputDicomPath)\n",
        "\n",
        "if not os.path.exists(sessionPath):\n",
        "  os.mkdir(sessionPath)"
      ],
      "metadata": {
        "id": "iHbUWoUEj1A2"
      },
      "execution_count": null,
      "outputs": []
    },
    {
      "cell_type": "markdown",
      "metadata": {
        "id": "pnoZxbKnsgcG"
      },
      "source": [
        "## Download pre-packaged Conda archive to ***condaArchiveDir***\n",
        "\n"
      ]
    },
    {
      "cell_type": "code",
      "execution_count": null,
      "metadata": {
        "id": "pUc1tZzbsgcK"
      },
      "outputs": [],
      "source": [
        "%%capture\n",
        "# Location of LungOAR archive\n",
        "condaArchiveDir = os.path.join(workDir, 'pretrainedLungOARModel')\n",
        "\n",
        "# Download packaged environment for the AI model\n",
        "boxHash = r'H4sIAOKOS2YAAwXBUQqAIAwA0P8O40BaWLexOXSEGG5IevreK2avXgBVHyJ3t89Rq6Aldk6gFk0IjkmKfdpi3CUwnTn5tAKjVy84hstr^CHD8jfbSAAAAA='\n",
        "saveFileName = 'ct_lung_oar.tar.gz'\n",
        "\n",
        "!mkdir -p {condaArchiveDir}\n",
        "!wget `base64 -d <<<{boxHash} | gunzip` -O {saveFileName}\n",
        "!tar xf {saveFileName} -C {condaArchiveDir}\n",
        "!rm {saveFileName}"
      ]
    },
    {
      "cell_type": "code",
      "source": [
        "%%capture\n",
        "# Path to activation script for Conda environment\n",
        "activateScript = condaArchiveDir +'/bin/activate'\n",
        "\n",
        "# Path to AI model inference script\n",
        "wrapperPath = os.path.join(condaArchiveDir,'CT_LungOAR_incrMRRN', \\\n",
        "                          'model_wrapper','run_inference_nii.py')"
      ],
      "metadata": {
        "id": "WQtf2SS1jXbV"
      },
      "execution_count": null,
      "outputs": []
    },
    {
      "cell_type": "markdown",
      "metadata": {
        "id": "DsKXYI-dsgcK"
      },
      "source": [
        "## Install ***pyCERR***\n",
        "\n",
        "pyCERR is used for data import/export and pre- and post-processing transformations needed for this model."
      ]
    },
    {
      "cell_type": "code",
      "execution_count": null,
      "metadata": {
        "id": "XRGzE5J7sgcL"
      },
      "outputs": [],
      "source": [
        "%%capture\n",
        "!pip install \"pyCERR[napari] @ git+https://github.com/cerr/pyCERR\""
      ]
    },
    {
      "cell_type": "markdown",
      "metadata": {
        "id": "sfcIIiLQsgcM"
      },
      "source": [
        "# Data processing"
      ]
    },
    {
      "cell_type": "markdown",
      "metadata": {
        "id": "1m955pAJsgcN"
      },
      "source": [
        "## **Pre-processing**: Identify the input scan and resize slices to 512x512"
      ]
    },
    {
      "cell_type": "code",
      "execution_count": null,
      "metadata": {
        "id": "FAXBqkTasgcN"
      },
      "outputs": [],
      "source": [
        "import cerr\n",
        "from cerr.dataclasses import structure\n",
        "from cerr.contour import rasterseg as rs\n",
        "from cerr.utils import identifyScan, imageProc\n",
        "\n",
        "def processInputData(planC):\n",
        "\n",
        "  # Identify scan index in  planC\n",
        "  scanIdS = {\"imageType\": \"CT SCAN\"}\n",
        "  matchScanV = identifyScan.getScanNumForIdentifier(scanIdS, planC,\n",
        "                                                    False)\n",
        "\n",
        "  # Extract scan\n",
        "  scanNum = matchScanV[0]\n",
        "  scan3M = planC.scan[scanNum].getScanArray()\n",
        "  mask3M = np.empty((0, 0, 0, 0))\n",
        "\n",
        "  # Resize scan and import to planC\n",
        "  inputImgSizeV = np.shape(scan3M)\n",
        "  gridS = planC.scan[scanNum].getScanXYZVals()\n",
        "  outputImgSizeV = [512, 512, inputImgSizeV[2]]\n",
        "  method = 'padorcrop3d'\n",
        "  procScan3M, __, resizeGridS = imageProc.resizeScanAndMask(scan3M,\n",
        "                                mask3M, gridS, outputImgSizeV, method)\n",
        "\n",
        "  return procScan3M, resizeGridS"
      ]
    },
    {
      "cell_type": "markdown",
      "metadata": {
        "id": "C1KHjP1LsgcO"
      },
      "source": [
        "\n",
        "## **Post-processing**: Import label maps and retain only the largest connected component to filter out false detections."
      ]
    },
    {
      "cell_type": "code",
      "execution_count": null,
      "metadata": {
        "id": "FtPOzqWQsgcP"
      },
      "outputs": [],
      "source": [
        "# Map output labels to structure names\n",
        "\n",
        "strToLabelMap = {1:\"Lung_Left\", 2:\"Lung_Right\", 3:\"Heart\", 4:\"Esophagus\", \\\n",
        "                 5:\"Cord\", 6:\"PBT\"}\n",
        "numLabel = len(strToLabelMap)"
      ]
    },
    {
      "cell_type": "code",
      "execution_count": null,
      "metadata": {
        "id": "W_GjRVWtsgcP"
      },
      "outputs": [],
      "source": [
        "#Import label map to CERR\n",
        "import glob\n",
        "\n",
        "def postProcAndImportSeg(outputDir,procScanNum,scanNum,planC):\n",
        "  niiGlob = glob.glob(os.path.join(outputDir,'*.nii.gz'))\n",
        "\n",
        "  print('Importing ' + niiGlob[0]+'...')\n",
        "  numStrOrig = len(planC.structure)\n",
        "  planC = pc.load_nii_structure(niiGlob[0], procScanNum, planC, \\\n",
        "                              labels_dict = strToLabelMap)\n",
        "  cpyStrNumV = np.arange(numStrOrig,len(planC.structure))\n",
        "  numComponents = 1\n",
        "  for label in range(numLabel):\n",
        "    # Copy to original scan\n",
        "    planC = structure.copyToScan(cpyStrNumV[label], scanNum, planC)\n",
        "    origStr = len(planC.structure)-1\n",
        "    strName =  strToLabelMap[label+1]\n",
        "    # Post-process and replace input structure in planC\n",
        "    procMask3M = imageProc.getLargestConnComps(origStr, numComponents,\n",
        "                                                planC, saveFlag=True,\n",
        "                                                replaceFlag=False,\n",
        "                                                procSructName=strName)\n",
        "  return planC"
      ]
    },
    {
      "cell_type": "markdown",
      "metadata": {
        "id": "zj7t-J4isgcQ"
      },
      "source": [
        "# Segment OARs"
      ]
    },
    {
      "cell_type": "markdown",
      "source": [
        "## Apply the model to all CT scans in ***inputDicomPath*** and store auto-segmentation results to ***outputDicomPath***"
      ],
      "metadata": {
        "id": "_XVVLPjBkYI0"
      }
    },
    {
      "cell_type": "code",
      "execution_count": null,
      "metadata": {
        "id": "WCuUi5D6sgcS"
      },
      "outputs": [],
      "source": [
        "%%capture\n",
        "import subprocess\n",
        "import numpy as np\n",
        "import cerr\n",
        "from cerr import plan_container as pc\n",
        "from cerr.dataclasses import scan as cerrScn\n",
        "from cerr.ai import createSessionDir as cdir\n",
        "from cerr.dcm_export import rtstruct_iod\n",
        "\n",
        "# Loop over pyCERR files\n",
        "fileList = os.listdir(inputDicomPath)\n",
        "numFiles = len(fileList)\n",
        "modality = 'CT'\n",
        "scanNum = 0\n",
        "\n",
        "for iFile in range(numFiles):\n",
        "\n",
        "    dcmDir = os.path.join(inputDicomPath,fileList[iFile])\n",
        "\n",
        "    # Create session dir to store temporary data\n",
        "    modInputPath, modOutputPath = cdir.createSessionDir(sessionPath,\n",
        "                                                        inputDicomPath)\n",
        "\n",
        "    # Import DICOM scan to planC\n",
        "    planC = pc.load_dcm_dir(dcmDir)\n",
        "    numExistingStructs = len(planC.structure)\n",
        "\n",
        "    # Pre-process data\n",
        "    procScan3M, resizeGridS = processInputData(planC)\n",
        "    planC = pc.import_scan_array(procScan3M, resizeGridS[0], \\\n",
        "            resizeGridS[1], resizeGridS[2], modality, scanNum, planC)\n",
        "    procScanNum = len(planC.scan) - 1\n",
        "\n",
        "    # Export inputs to NIfTI\n",
        "    scanFilename = os.path.join(modInputPath,\n",
        "                                f\"{fileList[iFile]}_scan_3D.nii.gz\")\n",
        "    planC.scan[procScanNum].save_nii(scanFilename)\n",
        "\n",
        "    # Apply model\n",
        "    subprocess.run(f\"source {activateScript} && python {wrapperPath} \\\n",
        "                  {modInputPath} {modOutputPath}\", \\\n",
        "                  capture_output=False,shell=True,executable=\"/bin/bash\")\n",
        "\n",
        "    # Import results to planC\n",
        "    planC = postProcAndImportSeg(modOutputPath,procScanNum,scanNum,planC)\n",
        "    newNumStructs = len(planC.structure)\n",
        "\n",
        "    # Export segmentations to DICOM\n",
        "    structFileName = fileList[iFile]+'_AI_seg.dcm'\n",
        "    structFilePath = os.path.join(outputDicomPath,structFileName)\n",
        "    structNumV = np.arange(numExistingStructs,newNumStructs)\n",
        "    indOrigV = np.array([cerrScn.getScanNumFromUID(planC.structure[structNum].assocScanUID,\\\n",
        "                        planC) for structNum in structNumV], dtype=int)\n",
        "    structsToExportV = structNumV[indOrigV == scanNum]\n",
        "    seriesDescription = \"AI Generated\"\n",
        "    exportOpts = {'seriesDescription': seriesDescription}\n",
        "    rtstruct_iod.create(structsToExportV,structFilePath,planC,exportOpts)"
      ]
    },
    {
      "cell_type": "markdown",
      "source": [
        "## **Optional**: Uncomment the following to download the output segmentations to your workspace bucket."
      ],
      "metadata": {
        "id": "Kugws3KBl4MK"
      }
    },
    {
      "cell_type": "code",
      "source": [
        "# workspaceBucket = os.environ['WORKSPACE_BUCKET']\n",
        "# !gcloud storage cp -r {outputDicomPath} {workspaceBucket}"
      ],
      "metadata": {
        "id": "_nkTBkijl23J"
      },
      "execution_count": null,
      "outputs": []
    },
    {
      "cell_type": "markdown",
      "metadata": {
        "id": "iLzFp-l_sgcT"
      },
      "source": [
        "# Display results"
      ]
    },
    {
      "cell_type": "markdown",
      "metadata": {
        "id": "L8FTwNqhsgcT"
      },
      "source": [
        "## Overlay AI segmentations on scan for visualization using ***Matplotlib***\n",
        "\n",
        "Note: This example displays the last segmented dataset by default.  \n",
        "Load the appropriate pyCERR archive to `planC` to view results for desired dataset."
      ]
    },
    {
      "cell_type": "code",
      "execution_count": null,
      "metadata": {
        "colab": {
          "base_uri": "https://localhost:8080/",
          "height": 1000,
          "referenced_widgets": [
            "de36d5ad7780483582005a7dff9b93dd",
            "3b16014c5cd04c5bb202d2b6f36c9661",
            "5601dc10ff174d48b2b518ba04821379"
          ]
        },
        "id": "jWQD1KeVsgcT",
        "outputId": "44f9ca2e-4f9e-4ad5-a3a1-a3b4a9318010"
      },
      "outputs": [],
      "source": [
        "from cerr.viewer import showMplNb\n",
        "\n",
        "showMplNb(scanNum, structsToExportV, planC,\\\n",
        "          windowCenter=-400, windowWidth=2000)"
      ]
    }
  ],
  "metadata": {
    "kernelspec": {
      "display_name": "Python 3",
      "name": "python3"
    },
    "language_info": {
      "codemirror_mode": {
        "name": "ipython",
        "version": 3
      },
      "file_extension": ".py",
      "mimetype": "text/x-python",
      "name": "python",
      "nbconvert_exporter": "python",
      "pygments_lexer": "ipython3",
      "version": "3.10.12"
    },
    "toc": {
      "base_numbering": 1,
      "nav_menu": {},
      "number_sections": true,
      "sideBar": true,
      "skip_h1_title": false,
      "title_cell": "Table of Contents",
      "title_sidebar": "Contents",
      "toc_cell": false,
      "toc_position": {},
      "toc_section_display": true,
      "toc_window_display": false
    },
    "colab": {
      "provenance": []
    }
  },
  "nbformat": 4,
  "nbformat_minor": 0
}
